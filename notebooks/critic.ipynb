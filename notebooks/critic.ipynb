{
 "cells": [
  {
   "cell_type": "code",
   "execution_count": 3,
   "metadata": {},
   "outputs": [
    {
     "name": "stderr",
     "output_type": "stream",
     "text": [
      "c:\\Users\\tuvin\\anaconda3\\envs\\agential\\Lib\\site-packages\\langchain_core\\_api\\deprecation.py:119: LangChainDeprecationWarning: The class `GoogleSearchAPIWrapper` was deprecated in LangChain 0.0.33 and will be removed in 0.3.0. An updated version of the class exists in the langchain-google-community package and should be used instead. To use it run `pip install -U langchain-google-community` and import as `from langchain_google_community import GoogleSearchAPIWrapper`.\n",
      "  warn_deprecated(\n"
     ]
    }
   ],
   "source": [
    "from agential.cog.critic.agent import CriticAgent\n",
    "from langchain_community.utilities.google_search import GoogleSearchAPIWrapper\n",
    "from langchain_openai import ChatOpenAI\n",
    "\n",
    "from agential.cog.fewshots.hotpotqa import (\n",
    "    HOTPOTQA_FEWSHOT_EXAMPLES_COT,\n",
    "    HOTPOTQA_FEWSHOT_EXAMPLES_DIRECT,\n",
    "    HOTPOTQA_FEWSHOT_EXAMPLES_REACT,\n",
    ")\n",
    "from agential.cog.fewshots.fever import (\n",
    "    FEVER_FEWSHOT_EXAMPLES_COT,\n",
    "    FEVER_FEWSHOT_EXAMPLES_DIRECT,\n",
    "    FEVER_FEWSHOT_EXAMPLES_REACT,\n",
    ")\n",
    "from agential.cog.fewshots.triviaqa import (\n",
    "    TRIVIAQA_FEWSHOT_EXAMPLES_COT,\n",
    "    TRIVIAQA_FEWSHOT_EXAMPLES_DIRECT,\n",
    "    TRIVIAQA_FEWSHOT_EXAMPLES_REACT,\n",
    ")\n",
    "from agential.cog.fewshots.ambignq import (\n",
    "    AMBIGNQ_FEWSHOT_EXAMPLES_COT,\n",
    "    AMBIGNQ_FEWSHOT_EXAMPLES_DIRECT,\n",
    "    AMBIGNQ_FEWSHOT_EXAMPLES_REACT,\n",
    ")\n",
    "from agential.cog.fewshots.gsm8k import (\n",
    "    GSM8K_FEWSHOT_EXAMPLES_POT,\n",
    ")\n",
    "from agential.cog.fewshots.svamp import (\n",
    "    SVAMP_FEWSHOT_EXAMPLES_POT,\n",
    ")\n",
    "from agential.cog.fewshots.tabmwp import (\n",
    "    TABMWP_FEWSHOT_EXAMPLES_POT,\n",
    ")\n",
    "from agential.cog.fewshots.humaneval import (\n",
    "    HUMANEVAL_FEWSHOT_EXAMPLES_POT,\n",
    ")\n",
    "from agential.cog.fewshots.mbpp import (\n",
    "    MBPP_FEWSHOT_EXAMPLES_POT,\n",
    ")\n",
    "\n",
    "from agential.cog.critic.prompts import (\n",
    "    # QA.\n",
    "    CRITIC_INSTRUCTION_HOTPOTQA,\n",
    "    CRITIC_CRITIQUE_INSTRUCTION_HOTPOTQA,\n",
    "    HOTPOTQA_FEWSHOT_EXAMPLES_CRITIC,\n",
    "\n",
    "    CRITIC_INSTRUCTION_FEVER,\n",
    "    CRITIC_CRITIQUE_INSTRUCTION_FEVER,\n",
    "    FEVER_FEWSHOT_EXAMPLES_CRITIC,\n",
    "\n",
    "    CRITIC_INSTRUCTION_AMBIGNQ,\n",
    "    CRITIC_CRITIQUE_INSTRUCTION_AMBIGNQ,\n",
    "    AMBIGNQ_FEWSHOT_EXAMPLES_CRITIC,\n",
    "\n",
    "    CRITIC_INSTRUCTION_TRIVIAQA,\n",
    "    CRITIC_CRITIQUE_INSTRUCTION_TRIVIAQA,\n",
    "    TRIVIAQA_FEWSHOT_EXAMPLES_CRITIC,\n",
    "\n",
    "    # Math.\n",
    "    CRITIC_POT_INSTRUCTION_GSM8K,\n",
    "    CRITIC_CRITIQUE_INSTRUCTION_GSM8K,\n",
    "    GSM8K_FEWSHOT_EXAMPLES_CRITIC,\n",
    "    CRITIC_CRITIQUE_NO_TOOL_INSTRUCTION_GSM8K,\n",
    "    GSM8K_FEWSHOT_EXAMPLES_CRITIC_NO_TOOL,\n",
    "\n",
    "    CRITIC_POT_INSTRUCTION_SVAMP,\n",
    "    CRITIC_CRITIQUE_INSTRUCTION_SVAMP,\n",
    "    SVAMP_FEWSHOT_EXAMPLES_CRITIC,\n",
    "    CRITIC_CRITIQUE_NO_TOOL_INSTRUCTION_SVAMP,\n",
    "    SVAMP_FEWSHOT_EXAMPLES_CRITIC_NO_TOOL,\n",
    "\n",
    "    CRITIC_POT_INSTRUCTION_TABMWP,\n",
    "    CRITIC_CRITIQUE_INSTRUCTION_TABMWP,\n",
    "    TABMWP_FEWSHOT_EXAMPLES_CRITIC,\n",
    "    CRITIC_CRITIQUE_NO_TOOL_INSTRUCTION_TABMWP,\n",
    "    TABMWP_FEWSHOT_EXAMPLES_CRITIC_NO_TOOL,\n",
    "\n",
    "    # Code.\n",
    "    CRITIC_POT_INSTRUCTION_HUMANEVAL,\n",
    "    CRITIC_CRITIQUE_INSTRUCTION_HUMANEVAL,\n",
    "    HUMANEVAL_FEWSHOT_EXAMPLES_CRITIC,\n",
    "    CRITIC_CRITIQUE_NO_TOOL_INSTRUCTION_HUMANEVAL,\n",
    "    HUMANEVAL_FEWSHOT_EXAMPLES_CRITIC_NO_TOOL,\n",
    "\n",
    "    CRITIC_POT_INSTRUCTION_MBPP,\n",
    "    CRITIC_CRITIQUE_INSTRUCTION_MBPP,\n",
    "    MBPP_FEWSHOT_EXAMPLES_CRITIC,\n",
    "    CRITIC_CRITIQUE_NO_TOOL_INSTRUCTION_MBPP,\n",
    "    MBPP_FEWSHOT_EXAMPLES_CRITIC_NO_TOOL,\n",
    ")\n",
    "\n",
    "import dotenv\n",
    "dotenv.load_dotenv()\n",
    "\n",
    "import warnings\n",
    "warnings.filterwarnings(\"ignore\")\n",
    "\n",
    "llm = ChatOpenAI()\n",
    "search = GoogleSearchAPIWrapper()"
   ]
  },
  {
   "cell_type": "markdown",
   "metadata": {},
   "source": [
    "# QA"
   ]
  },
  {
   "cell_type": "markdown",
   "metadata": {},
   "source": [
    "### HotpotQA"
   ]
  },
  {
   "cell_type": "code",
   "execution_count": null,
   "metadata": {},
   "outputs": [],
   "source": [
    "question = 'Who was once considered the best kick boxer in the world, however he has been involved in a number of controversies relating to his \"unsportsmanlike conducts\" in the sport and crimes of violence outside of the ring'\n",
    "\n",
    "agent = CriticAgent(\n",
    "    llm=llm, \n",
    "    benchmark=\"hotpotqa\", \n",
    "    search=search, \n",
    "    evidence_length=400,\n",
    "    num_results=8\n",
    ")\n",
    "use_tool = True\n",
    "\n",
    "out = agent.generate(\n",
    "    question=question,\n",
    "    examples=HOTPOTQA_FEWSHOT_EXAMPLES_COT,  # HOTPOTQA_FEWSHOT_EXAMPLES_DIRECT, HOTPOTQA_FEWSHOT_EXAMPLES_REACT\n",
    "    prompt=CRITIC_INSTRUCTION_HOTPOTQA,\n",
    "    critique_examples=HOTPOTQA_FEWSHOT_EXAMPLES_CRITIC,\n",
    "    critique_prompt=CRITIC_CRITIQUE_INSTRUCTION_HOTPOTQA,\n",
    "    additional_keys={},\n",
    "    critique_additional_keys={},\n",
    "    max_interactions=3,\n",
    "    use_tool=use_tool,\n",
    "    reset=True,\n",
    "    # kwargs.\n",
    "    evidence_length=400,\n",
    "    num_results=8,\n",
    ")"
   ]
  },
  {
   "cell_type": "code",
   "execution_count": null,
   "metadata": {},
   "outputs": [],
   "source": [
    "out"
   ]
  },
  {
   "cell_type": "markdown",
   "metadata": {},
   "source": [
    "### FEVER"
   ]
  },
  {
   "cell_type": "code",
   "execution_count": null,
   "metadata": {},
   "outputs": [],
   "source": [
    "question = \"Nikolaj Coster-Waldau worked with the Fox Broadcasting Company.\"\n",
    "\n",
    "agent = CriticAgent(\n",
    "    llm=llm, \n",
    "    benchmark=\"fever\", \n",
    "    search=search,\n",
    "    evidence_length=400,\n",
    "    num_results=8\n",
    ")\n",
    "use_tool = False\n",
    "\n",
    "out = agent.generate(\n",
    "    question=question,\n",
    "    examples=FEVER_FEWSHOT_EXAMPLES_COT,  # FEVER_FEWSHOT_EXAMPLES_DIRECT, FEVER_FEWSHOT_EXAMPLES_REACT\n",
    "    prompt=CRITIC_INSTRUCTION_FEVER,\n",
    "    critique_examples=FEVER_FEWSHOT_EXAMPLES_CRITIC,\n",
    "    critique_prompt=CRITIC_CRITIQUE_INSTRUCTION_FEVER,\n",
    "    additional_keys={},\n",
    "    critique_additional_keys={},\n",
    "    max_interactions=3,\n",
    "    use_tool=use_tool,\n",
    "    reset=True,\n",
    "    # kwargs.\n",
    "    evidence_length=400,\n",
    "    num_results=8,\n",
    ")"
   ]
  },
  {
   "cell_type": "code",
   "execution_count": null,
   "metadata": {},
   "outputs": [],
   "source": [
    "out"
   ]
  },
  {
   "cell_type": "markdown",
   "metadata": {},
   "source": [
    "### AmbigNQ"
   ]
  },
  {
   "cell_type": "code",
   "execution_count": null,
   "metadata": {},
   "outputs": [],
   "source": [
    "question = \"When did the simpsons first air on television?\"\n",
    "\n",
    "agent = CriticAgent(\n",
    "    llm=llm, \n",
    "    benchmark=\"ambignq\", \n",
    "    search=search,\n",
    "    evidence_length=400,\n",
    "    num_results=8\n",
    ")\n",
    "use_tool = False\n",
    "\n",
    "out = agent.generate(\n",
    "    question=question,\n",
    "    examples=AMBIGNQ_FEWSHOT_EXAMPLES_COT,  # AMBIGNQ_FEWSHOT_EXAMPLES_DIRECT, AMBIGNQ_FEWSHOT_EXAMPLES_REACT\n",
    "    prompt=CRITIC_INSTRUCTION_AMBIGNQ,\n",
    "    critique_examples=AMBIGNQ_FEWSHOT_EXAMPLES_CRITIC,\n",
    "    critique_prompt=CRITIC_CRITIQUE_INSTRUCTION_AMBIGNQ,\n",
    "    additional_keys={},\n",
    "    critique_additional_keys={},\n",
    "    max_interactions=3,\n",
    "    use_tool=use_tool,\n",
    "    reset=True,\n",
    "    # kwargs.\n",
    "    evidence_length=400,\n",
    "    num_results=8,\n",
    ")"
   ]
  },
  {
   "cell_type": "code",
   "execution_count": null,
   "metadata": {},
   "outputs": [],
   "source": [
    "out"
   ]
  },
  {
   "cell_type": "markdown",
   "metadata": {},
   "source": [
    "### TriviaQA"
   ]
  },
  {
   "cell_type": "code",
   "execution_count": null,
   "metadata": {},
   "outputs": [],
   "source": [
    "question = \"Which American-born Sinclair won the Nobel Prize for Literature in 1930?\"\n",
    "\n",
    "agent = CriticAgent(\n",
    "    llm=llm, \n",
    "    benchmark=\"triviaqa\", \n",
    "    search=search,\n",
    "    evidence_length=400,\n",
    "    num_results=8\n",
    ")\n",
    "use_tool = False\n",
    "\n",
    "out = agent.generate(\n",
    "    question=question,\n",
    "    examples=TRIVIAQA_FEWSHOT_EXAMPLES_COT,  # TRIVIAQA_FEWSHOT_EXAMPLES_DIRECT, TRIVIAQA_FEWSHOT_EXAMPLES_REACT\n",
    "    prompt=CRITIC_INSTRUCTION_TRIVIAQA,\n",
    "    critique_examples=TRIVIAQA_FEWSHOT_EXAMPLES_CRITIC,\n",
    "    critique_prompt=CRITIC_CRITIQUE_INSTRUCTION_TRIVIAQA,\n",
    "    additional_keys={},\n",
    "    critique_additional_keys={},\n",
    "    max_interactions=3,\n",
    "    use_tool=use_tool,\n",
    "    reset=True,\n",
    "    # kwargs.\n",
    "    evidence_length=400,\n",
    "    num_results=8,\n",
    ")"
   ]
  },
  {
   "cell_type": "code",
   "execution_count": null,
   "metadata": {},
   "outputs": [],
   "source": [
    "out"
   ]
  },
  {
   "cell_type": "markdown",
   "metadata": {},
   "source": [
    "# Math"
   ]
  },
  {
   "cell_type": "markdown",
   "metadata": {},
   "source": [
    "### GSM8K"
   ]
  },
  {
   "cell_type": "code",
   "execution_count": null,
   "metadata": {},
   "outputs": [],
   "source": [
    "question = \"Janet's ducks lay 16 eggs per day. She eats three for breakfast every morning and bakes muffins for her friends every day with 4933828. She sells the remainder at the farmers' market daily for $2 per fresh duck egg. How much in dollars does she make every day at the farmers' market?\"\n",
    "\n",
    "agent = CriticAgent(\n",
    "    llm=llm, \n",
    "    benchmark=\"gsm8k\", \n",
    "    patience=2\n",
    ")\n",
    "\n",
    "use_tool = True\n",
    "\n",
    "out = agent.generate(\n",
    "    question=question,\n",
    "    examples=GSM8K_FEWSHOT_EXAMPLES_POT,\n",
    "    prompt=CRITIC_POT_INSTRUCTION_GSM8K,\n",
    "    critique_examples=GSM8K_FEWSHOT_EXAMPLES_CRITIC if use_tool else GSM8K_FEWSHOT_EXAMPLES_CRITIC_NO_TOOL,\n",
    "    critique_prompt=CRITIC_CRITIQUE_INSTRUCTION_GSM8K if use_tool else CRITIC_CRITIQUE_NO_TOOL_INSTRUCTION_GSM8K,\n",
    "    additional_keys={},\n",
    "    critique_additional_keys={},\n",
    "    max_interactions=3,\n",
    "    use_tool=use_tool,\n",
    "    reset=True,\n",
    ")"
   ]
  },
  {
   "cell_type": "code",
   "execution_count": null,
   "metadata": {},
   "outputs": [],
   "source": [
    "out"
   ]
  },
  {
   "cell_type": "markdown",
   "metadata": {},
   "source": [
    "### SVAMP"
   ]
  },
  {
   "cell_type": "code",
   "execution_count": null,
   "metadata": {},
   "outputs": [],
   "source": [
    "question = \"There are 87 oranges and 290 bananas in Philip's collection. If the bananas are organized into 2 groups and oranges are organized into 93 groups. How big is each group of bananas?\"\n",
    "\n",
    "agent = CriticAgent(\n",
    "    llm=llm, \n",
    "    benchmark=\"svamp\", \n",
    "    patience=2\n",
    ")\n",
    "\n",
    "use_tool = True\n",
    "\n",
    "out = agent.generate(\n",
    "    question=question,\n",
    "    examples=SVAMP_FEWSHOT_EXAMPLES_POT,\n",
    "    prompt=CRITIC_POT_INSTRUCTION_SVAMP,\n",
    "    critique_examples=SVAMP_FEWSHOT_EXAMPLES_CRITIC if use_tool else SVAMP_FEWSHOT_EXAMPLES_CRITIC_NO_TOOL,\n",
    "    critique_prompt=CRITIC_CRITIQUE_INSTRUCTION_SVAMP if use_tool else CRITIC_CRITIQUE_NO_TOOL_INSTRUCTION_SVAMP,\n",
    "    additional_keys={},\n",
    "    critique_additional_keys={},\n",
    "    max_interactions=3,\n",
    "    use_tool=use_tool,\n",
    "    reset=True\n",
    ")"
   ]
  },
  {
   "cell_type": "code",
   "execution_count": null,
   "metadata": {},
   "outputs": [],
   "source": [
    "out"
   ]
  },
  {
   "cell_type": "markdown",
   "metadata": {},
   "source": [
    "### TabMWP"
   ]
  },
  {
   "cell_type": "code",
   "execution_count": null,
   "metadata": {},
   "outputs": [],
   "source": [
    "question = \"\"\"Read the following table regarding \"Bowling Scores\" and then write Python code to answer a question:\n",
    "\n",
    "Name | Score\n",
    "Amanda | 117\n",
    "Sam | 236\n",
    "Irma | 144\n",
    "Mike | 164\n",
    "\n",
    "Question: Some friends went bowling and kept track of their scores. How many more points did Mike score than Irma?\"\"\"\n",
    "\n",
    "agent = CriticAgent(\n",
    "    llm=llm, \n",
    "    benchmark=\"tabmwp\", \n",
    "    patience=2\n",
    ")\n",
    "\n",
    "use_tool = True\n",
    "\n",
    "out = agent.generate(\n",
    "    question=question,\n",
    "    examples=TABMWP_FEWSHOT_EXAMPLES_POT,\n",
    "    prompt=CRITIC_POT_INSTRUCTION_TABMWP,\n",
    "    critique_examples=TABMWP_FEWSHOT_EXAMPLES_CRITIC if use_tool else TABMWP_FEWSHOT_EXAMPLES_CRITIC_NO_TOOL,\n",
    "    critique_prompt=CRITIC_CRITIQUE_INSTRUCTION_TABMWP if use_tool else CRITIC_CRITIQUE_NO_TOOL_INSTRUCTION_TABMWP,\n",
    "    additional_keys={},\n",
    "    critique_additional_keys={},\n",
    "    max_interactions=3,\n",
    "    use_tool=use_tool,\n",
    "    reset=True\n",
    ")"
   ]
  },
  {
   "cell_type": "code",
   "execution_count": null,
   "metadata": {},
   "outputs": [],
   "source": [
    "out"
   ]
  },
  {
   "cell_type": "markdown",
   "metadata": {},
   "source": [
    "# Code"
   ]
  },
  {
   "cell_type": "markdown",
   "metadata": {},
   "source": [
    "### HumanEval"
   ]
  },
  {
   "cell_type": "code",
   "execution_count": null,
   "metadata": {},
   "outputs": [],
   "source": [
    "inst = {\"task_id\": \"HumanEval/0\", \"prompt\": \"from typing import List\\n\\n\\ndef has_close_elements(numbers: List[float], threshold: float) -> bool:\\n    \\\"\\\"\\\" Check if in given list of numbers, are any two numbers closer to each other than\\n    given threshold.\\n    >>> has_close_elements([1.0, 2.0, 3.0], 0.5)\\n    False\\n    >>> has_close_elements([1.0, 2.8, 3.0, 4.0, 5.0, 2.0], 0.3)\\n    True\\n    \\\"\\\"\\\"\\n\", \"entry_point\": \"has_close_elements\", \"canonical_solution\": \"    for idx, elem in enumerate(numbers):\\n        for idx2, elem2 in enumerate(numbers):\\n            if idx != idx2:\\n                distance = abs(elem - elem2)\\n                if distance < threshold:\\n                    return True\\n\\n    return False\\n\", \"test\": \"\\n\\nMETADATA = {\\n    'author': 'jt',\\n    'dataset': 'test'\\n}\\n\\n\\ndef check(candidate):\\n    assert candidate([1.0, 2.0, 3.9, 4.0, 5.0, 2.2], 0.3) == True\\n    assert candidate([1.0, 2.0, 3.9, 4.0, 5.0, 2.2], 0.05) == False\\n    assert candidate([1.0, 2.0, 5.9, 4.0, 5.0], 0.95) == True\\n    assert candidate([1.0, 2.0, 5.9, 4.0, 5.0], 0.8) == False\\n    assert candidate([1.0, 2.0, 3.0, 4.0, 5.0, 2.0], 0.1) == True\\n    assert candidate([1.1, 2.2, 3.1, 4.1, 5.1], 1.0) == True\\n    assert candidate([1.1, 2.2, 3.1, 4.1, 5.1], 0.5) == False\\n\\n\"}\n",
    "question = inst['prompt']\n",
    "tests = f\"{inst['test']}\\ncheck({inst['entry_point']})\"\n",
    "\n",
    "agent = CriticAgent(\n",
    "    llm=llm, benchmark=\"humaneval\"\n",
    ")\n",
    "use_tool = False\n",
    "\n",
    "\n",
    "out = agent.generate(\n",
    "    question=question,\n",
    "    examples=HUMANEVAL_FEWSHOT_EXAMPLES_POT,\n",
    "    prompt=CRITIC_POT_INSTRUCTION_HUMANEVAL,\n",
    "    critique_examples=HUMANEVAL_FEWSHOT_EXAMPLES_CRITIC if use_tool else HUMANEVAL_FEWSHOT_EXAMPLES_CRITIC_NO_TOOL,\n",
    "    critique_prompt=CRITIC_CRITIQUE_INSTRUCTION_HUMANEVAL if use_tool else CRITIC_CRITIQUE_NO_TOOL_INSTRUCTION_HUMANEVAL,\n",
    "    additional_keys={},\n",
    "    critique_additional_keys={\"tests\": tests},\n",
    "    max_interactions=3,\n",
    "    use_tool=use_tool,\n",
    "    reset=True\n",
    ")"
   ]
  },
  {
   "cell_type": "code",
   "execution_count": null,
   "metadata": {},
   "outputs": [],
   "source": [
    "out"
   ]
  },
  {
   "cell_type": "markdown",
   "metadata": {},
   "source": [
    "### MBPP"
   ]
  },
  {
   "cell_type": "code",
   "execution_count": null,
   "metadata": {},
   "outputs": [],
   "source": [
    "question = \"Write a python function to find the first repeated character in a given string.\"\n",
    "tests = \"\"\"assert first_repeated_char(\"abcabc\") == \"a\"\n",
    "assert first_repeated_char(\"abc\") == None\n",
    "assert first_repeated_char(\"123123\") == \"1\\\"\"\"\"\n",
    "\n",
    "agent = CriticAgent(\n",
    "    llm=llm, benchmark=\"mbpp\"\n",
    ")\n",
    "use_tool = True\n",
    "\n",
    "\n",
    "out = agent.generate(\n",
    "    question=question,\n",
    "    examples=MBPP_FEWSHOT_EXAMPLES_POT,\n",
    "    prompt=CRITIC_POT_INSTRUCTION_MBPP,\n",
    "    critique_examples=MBPP_FEWSHOT_EXAMPLES_CRITIC if use_tool else MBPP_FEWSHOT_EXAMPLES_CRITIC_NO_TOOL,\n",
    "    critique_prompt=CRITIC_CRITIQUE_INSTRUCTION_MBPP if use_tool else CRITIC_CRITIQUE_NO_TOOL_INSTRUCTION_MBPP,\n",
    "    additional_keys={\"tests\": tests},\n",
    "    critique_additional_keys={\"tests\": tests},\n",
    "    max_interactions=3,\n",
    "    use_tool=use_tool,\n",
    "    reset=True\n",
    ")"
   ]
  },
  {
   "cell_type": "code",
   "execution_count": null,
   "metadata": {},
   "outputs": [],
   "source": [
    "out"
   ]
  },
  {
   "cell_type": "code",
   "execution_count": null,
   "metadata": {},
   "outputs": [],
   "source": []
  }
 ],
 "metadata": {
  "kernelspec": {
   "display_name": "agential",
   "language": "python",
   "name": "python3"
  },
  "language_info": {
   "codemirror_mode": {
    "name": "ipython",
    "version": 3
   },
   "file_extension": ".py",
   "mimetype": "text/x-python",
   "name": "python",
   "nbconvert_exporter": "python",
   "pygments_lexer": "ipython3",
   "version": "3.11.5"
  }
 },
 "nbformat": 4,
 "nbformat_minor": 2
}
