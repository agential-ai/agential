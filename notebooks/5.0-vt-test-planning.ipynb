{
 "cells": [
  {
   "cell_type": "code",
   "execution_count": 1,
   "metadata": {},
   "outputs": [],
   "source": [
    "import faiss\n",
    "\n",
    "from langchain.embeddings.openai import OpenAIEmbeddings\n",
    "\n",
    "from langchain.docstore import InMemoryDocstore\n",
    "from langchain.vectorstores import FAISS\n",
    "\n",
    "from langchain.retrievers import TimeWeightedVectorStoreRetriever\n",
    "from langchain.chat_models import ChatOpenAI"
   ]
  },
  {
   "cell_type": "code",
   "execution_count": 2,
   "metadata": {},
   "outputs": [],
   "source": [
    "from discussion_agents.memory.base_memory import GenerativeAgentMemory\n",
    "from discussion_agents.model.base_agent import GenerativeAgent"
   ]
  },
  {
   "cell_type": "code",
   "execution_count": 3,
   "metadata": {},
   "outputs": [],
   "source": [
    "import dotenv\n",
    "import os\n",
    "\n",
    "dotenv.load_dotenv(\"../.env\")\n",
    "openai_api_key = os.getenv(\"OPENAI_API_KEY\")"
   ]
  },
  {
   "cell_type": "code",
   "execution_count": 4,
   "metadata": {},
   "outputs": [],
   "source": [
    "def create_memory_retriever():\n",
    "    embeddings_model = OpenAIEmbeddings(openai_api_key=openai_api_key)\n",
    "    embedding_size = 1536\n",
    "    index = faiss.IndexFlatL2(embedding_size)\n",
    "    vectorstore = FAISS(embeddings_model.embed_query, index, InMemoryDocstore({}), {})\n",
    "    retriever = TimeWeightedVectorStoreRetriever(\n",
    "        vectorstore=vectorstore,\n",
    "        otherScoreKeys=[\"importance\"],\n",
    "        k=15\n",
    "    )\n",
    "    return retriever"
   ]
  },
  {
   "cell_type": "code",
   "execution_count": 5,
   "metadata": {},
   "outputs": [],
   "source": [
    "USER_NAME = \"Person A\"  # The name you want to use when interviewing the agent.\n",
    "LLM = ChatOpenAI(openai_api_key=openai_api_key, max_tokens=1500)\n",
    "\n",
    "tommies_memory = GenerativeAgentMemory(\n",
    "    llm=LLM,\n",
    "    memory_retriever=create_memory_retriever(),\n",
    "    verbose=False,\n",
    "    reflection_threshold=8,\n",
    ")"
   ]
  },
  {
   "cell_type": "code",
   "execution_count": 6,
   "metadata": {},
   "outputs": [],
   "source": [
    "tommie = GenerativeAgent(\n",
    "    name=\"Tommie\",\n",
    "    age=25,\n",
    "    traits=\"anxious, likes design, talkative\",  # You can add more persistent traits here\n",
    "    lifestyle=\"looking for a job, likes to stay indoors, sleeps early\",  # When connected to a virtual world, we can have the characters update their status\n",
    "    memory_retriever=create_memory_retriever(),\n",
    "    llm=LLM,\n",
    "    memory=tommies_memory\n",
    ")"
   ]
  },
  {
   "cell_type": "code",
   "execution_count": 7,
   "metadata": {},
   "outputs": [],
   "source": [
    "# from datetime import datetime\n",
    "\n",
    "# for i in range(5):\n",
    "#     print(tommie.generate_daily_schedule(current_day=datetime.now(), wake_up_hour=8))"
   ]
  },
  {
   "cell_type": "code",
   "execution_count": 8,
   "metadata": {},
   "outputs": [
    {
     "name": "stdout",
     "output_type": "stream",
     "text": [
      "A\n",
      "B\n",
      "C\n",
      "D\n",
      "E\n"
     ]
    }
   ],
   "source": [
    "tommie.plan()"
   ]
  },
  {
   "cell_type": "code",
   "execution_count": 9,
   "metadata": {},
   "outputs": [
    {
     "name": "stdout",
     "output_type": "stream",
     "text": [
      "A\n",
      "B\n",
      "C\n",
      "D\n",
      "E\n"
     ]
    }
   ],
   "source": [
    "tommie.plan()"
   ]
  },
  {
   "cell_type": "code",
   "execution_count": 10,
   "metadata": {},
   "outputs": [
    {
     "name": "stdout",
     "output_type": "stream",
     "text": [
      "page_content='Tommie performed the following task: 1) wake up and complete the morning routine at 8.' metadata={'importance': 0.015, 'last_accessed_at': datetime.datetime(2023, 9, 23, 0, 20, 24, 328922), 'created_at': datetime.datetime(2023, 9, 23, 0, 20, 24, 328922), 'buffer_idx': 0}\n",
      "page_content='Tommie performed the following task: 2) Spend some time searching for job openings online from 9 to 10 am.' metadata={'importance': 0.03, 'last_accessed_at': datetime.datetime(2023, 9, 23, 0, 20, 24, 328922), 'created_at': datetime.datetime(2023, 9, 23, 0, 20, 24, 328922), 'buffer_idx': 1}\n",
      "page_content='Tommie performed the following task: 3) Take a short break and have a light breakfast from 10 to 10:30 am.' metadata={'importance': 0.045, 'last_accessed_at': datetime.datetime(2023, 9, 23, 0, 20, 24, 328922), 'created_at': datetime.datetime(2023, 9, 23, 0, 20, 24, 328922), 'buffer_idx': 2}\n",
      "page_content='Tommie performed the following task: 4) Start working on a design project that Tommie is passionate about from 10:30 am to 1 pm.' metadata={'importance': 0.06, 'last_accessed_at': datetime.datetime(2023, 9, 23, 0, 20, 24, 328922), 'created_at': datetime.datetime(2023, 9, 23, 0, 20, 24, 328922), 'buffer_idx': 3}\n",
      "page_content='Tommie performed the following task: 5) Take a break for lunch and have a meal at 1 pm.' metadata={'importance': 0.075, 'last_accessed_at': datetime.datetime(2023, 9, 23, 0, 20, 24, 328922), 'created_at': datetime.datetime(2023, 9, 23, 0, 20, 24, 328922), 'buffer_idx': 4}\n",
      "page_content='Tommie performed the following task: 6) Continue working on the design project from 2 to 4 pm, making sure to take short breaks to stretch and relax.' metadata={'importance': 0.09, 'last_accessed_at': datetime.datetime(2023, 9, 23, 0, 20, 24, 328922), 'created_at': datetime.datetime(2023, 9, 23, 0, 20, 24, 328922), 'buffer_idx': 5}\n",
      "page_content='Tommie performed the following task: 7) Take a break from work and engage in a calming activity like reading or listening to music from 4 to 5 pm.' metadata={'importance': 0.105, 'last_accessed_at': datetime.datetime(2023, 9, 23, 0, 20, 24, 328922), 'created_at': datetime.datetime(2023, 9, 23, 0, 20, 24, 328922), 'buffer_idx': 6}\n",
      "page_content='Tommie performed the following task: 8) Use the remaining time before dinner to catch up on any personal tasks or chores from 5 to 6:30 pm.' metadata={'importance': 0.12, 'last_accessed_at': datetime.datetime(2023, 9, 23, 0, 20, 24, 328922), 'created_at': datetime.datetime(2023, 9, 23, 0, 20, 24, 328922), 'buffer_idx': 7}\n",
      "page_content='Tommie performed the following task: 9) Have dinner at 6:30 pm and take some time to unwind and relax.' metadata={'importance': 0.135, 'last_accessed_at': datetime.datetime(2023, 9, 23, 0, 20, 24, 328922), 'created_at': datetime.datetime(2023, 9, 23, 0, 20, 24, 328922), 'buffer_idx': 8}\n",
      "page_content='Tommie performed the following task: 10) Watch a favorite TV show or movie from 7:30 to 9 pm.' metadata={'importance': 0.15, 'last_accessed_at': datetime.datetime(2023, 9, 23, 0, 20, 24, 328922), 'created_at': datetime.datetime(2023, 9, 23, 0, 20, 24, 328922), 'buffer_idx': 9}\n",
      "page_content=\"Tommie performed the following task: 11) Spend the last hour of the day, from 9 to 10 pm, reflecting on the day's accomplishments and setting goals for the next day.\" metadata={'importance': 0.105, 'last_accessed_at': datetime.datetime(2023, 9, 23, 0, 20, 24, 328922), 'created_at': datetime.datetime(2023, 9, 23, 0, 20, 24, 328922), 'buffer_idx': 10}\n",
      "page_content='Tommie performed the following task: 12) Get ready for bed and aim to sleep early, around 10:30 pm.' metadata={'importance': 0.015, 'last_accessed_at': datetime.datetime(2023, 9, 23, 0, 20, 24, 328922), 'created_at': datetime.datetime(2023, 9, 23, 0, 20, 24, 328922), 'buffer_idx': 11}\n",
      "page_content='Tommie performed the following task: 1) wake up and complete the morning routine at 8.' metadata={'importance': 0.075, 'last_accessed_at': datetime.datetime(2023, 9, 23, 0, 21, 20, 474602), 'created_at': datetime.datetime(2023, 9, 23, 0, 21, 20, 474602), 'buffer_idx': 12}\n",
      "page_content='Tommie performed the following task: 2) Spend some time researching online for job opportunities at 9 am' metadata={'importance': 0.03, 'last_accessed_at': datetime.datetime(2023, 9, 23, 0, 21, 20, 474602), 'created_at': datetime.datetime(2023, 9, 23, 0, 21, 20, 474602), 'buffer_idx': 13}\n",
      "page_content='Tommie performed the following task: 3) Reach out to potential employers via email or phone call at 10 am' metadata={'importance': 0.045, 'last_accessed_at': datetime.datetime(2023, 9, 23, 0, 21, 20, 474602), 'created_at': datetime.datetime(2023, 9, 23, 0, 21, 20, 474602), 'buffer_idx': 14}\n",
      "page_content='Tommie performed the following task: 4) Take a break and have a snack at 11 am' metadata={'importance': 0.06, 'last_accessed_at': datetime.datetime(2023, 9, 23, 0, 21, 20, 474602), 'created_at': datetime.datetime(2023, 9, 23, 0, 21, 20, 474602), 'buffer_idx': 15}\n",
      "page_content='Tommie performed the following task: 5) Continue searching for job listings online at 11:30 am' metadata={'importance': 0.075, 'last_accessed_at': datetime.datetime(2023, 9, 23, 0, 21, 20, 474602), 'created_at': datetime.datetime(2023, 9, 23, 0, 21, 20, 474602), 'buffer_idx': 16}\n",
      "page_content='Tommie performed the following task: 6) Have lunch at 12 pm' metadata={'importance': 0.09, 'last_accessed_at': datetime.datetime(2023, 9, 23, 0, 21, 20, 474602), 'created_at': datetime.datetime(2023, 9, 23, 0, 21, 20, 474602), 'buffer_idx': 17}\n",
      "page_content='Tommie performed the following task: 7) Work on a personal design project at 1 pm' metadata={'importance': 0.105, 'last_accessed_at': datetime.datetime(2023, 9, 23, 0, 21, 20, 474602), 'created_at': datetime.datetime(2023, 9, 23, 0, 21, 20, 474602), 'buffer_idx': 18}\n",
      "page_content='Tommie performed the following task: 8) Take a break and have a cup of tea at 3 pm' metadata={'importance': 0.12, 'last_accessed_at': datetime.datetime(2023, 9, 23, 0, 21, 20, 474602), 'created_at': datetime.datetime(2023, 9, 23, 0, 21, 20, 474602), 'buffer_idx': 19}\n",
      "page_content='Tommie performed the following task: 9) Continue working on the design project at 3:30 pm' metadata={'importance': 0.135, 'last_accessed_at': datetime.datetime(2023, 9, 23, 0, 21, 20, 474602), 'created_at': datetime.datetime(2023, 9, 23, 0, 21, 20, 474602), 'buffer_idx': 20}\n",
      "page_content='Tommie performed the following task: 10) Finish the design project and evaluate the progress at 5 pm' metadata={'importance': 0.15, 'last_accessed_at': datetime.datetime(2023, 9, 23, 0, 21, 20, 474602), 'created_at': datetime.datetime(2023, 9, 23, 0, 21, 20, 474602), 'buffer_idx': 21}\n",
      "page_content='Tommie performed the following task: 11) Relax and unwind by watching a movie or reading a book at 6 pm' metadata={'importance': 0.09, 'last_accessed_at': datetime.datetime(2023, 9, 23, 0, 21, 20, 474602), 'created_at': datetime.datetime(2023, 9, 23, 0, 21, 20, 474602), 'buffer_idx': 22}\n",
      "page_content='Tommie performed the following task: 12) Have dinner at 7:30 pm' metadata={'importance': 0.03, 'last_accessed_at': datetime.datetime(2023, 9, 23, 0, 21, 20, 474602), 'created_at': datetime.datetime(2023, 9, 23, 0, 21, 20, 474602), 'buffer_idx': 23}\n",
      "page_content='Tommie performed the following task: 13) Engage in a calming activity such as coloring or journaling at 8:30 pm' metadata={'importance': 0.045, 'last_accessed_at': datetime.datetime(2023, 9, 23, 0, 21, 20, 474602), 'created_at': datetime.datetime(2023, 9, 23, 0, 21, 20, 474602), 'buffer_idx': 24}\n",
      "page_content='Tommie performed the following task: 14) Prepare for bed and wind down for the night at 9:30 pm' metadata={'importance': 0.015, 'last_accessed_at': datetime.datetime(2023, 9, 23, 0, 21, 20, 474602), 'created_at': datetime.datetime(2023, 9, 23, 0, 21, 20, 474602), 'buffer_idx': 25}\n"
     ]
    }
   ],
   "source": [
    "for i in tommie.memory.memory_retriever.memory_stream:\n",
    "    print(i)"
   ]
  },
  {
   "cell_type": "code",
   "execution_count": 11,
   "metadata": {},
   "outputs": [
    {
     "data": {
      "text/plain": [
       "'Yesterday, Tommie woke up early in the morning feeling anxious about finding a job. They spent most of the day indoors, working on their design skills and updating their portfolio. Tommie was talkative throughout the day, reaching out to friends and acquaintances for job opportunities and advice. Despite feeling anxious, their strong work ethic and determination kept them focused on their goal. In the evening, Tommie enjoyed a quiet dinner at home and went to bed early, hoping that the next day would bring them closer to finding a job.'"
      ]
     },
     "execution_count": 11,
     "metadata": {},
     "output_type": "execute_result"
    }
   ],
   "source": [
    "tommie.daily_summaries"
   ]
  },
  {
   "cell_type": "code",
   "execution_count": null,
   "metadata": {},
   "outputs": [],
   "source": [
    "tommie.plan()"
   ]
  },
  {
   "cell_type": "code",
   "execution_count": 12,
   "metadata": {},
   "outputs": [
    {
     "name": "stdout",
     "output_type": "stream",
     "text": [
      "page_content='Tommie performed the following task: 1) wake up and complete the morning routine at 8.' metadata={'importance': 0.015, 'last_accessed_at': datetime.datetime(2023, 9, 22, 23, 59, 22, 532372), 'created_at': datetime.datetime(2023, 9, 22, 23, 59, 22, 532372), 'buffer_idx': 0}\n",
      "page_content='Tommie performed the following task: 2) Search for job openings online from 9-10 am' metadata={'importance': 0.03, 'last_accessed_at': datetime.datetime(2023, 9, 22, 23, 59, 22, 532372), 'created_at': datetime.datetime(2023, 9, 22, 23, 59, 22, 532372), 'buffer_idx': 1}\n",
      "page_content='Tommie performed the following task: 3) Prepare and send out job applications from 10-11 am' metadata={'importance': 0.045, 'last_accessed_at': datetime.datetime(2023, 9, 22, 23, 59, 22, 532372), 'created_at': datetime.datetime(2023, 9, 22, 23, 59, 22, 532372), 'buffer_idx': 2}\n",
      "page_content='Tommie performed the following task: 4) Take a break and have a snack from 11-11:30 am' metadata={'importance': 0.06, 'last_accessed_at': datetime.datetime(2023, 9, 22, 23, 59, 22, 532372), 'created_at': datetime.datetime(2023, 9, 22, 23, 59, 22, 532372), 'buffer_idx': 3}\n",
      "page_content='Tommie performed the following task: 5) Attend an online design webinar from 11:30 am-1 pm' metadata={'importance': 0.075, 'last_accessed_at': datetime.datetime(2023, 9, 22, 23, 59, 22, 532372), 'created_at': datetime.datetime(2023, 9, 22, 23, 59, 22, 532372), 'buffer_idx': 4}\n",
      "page_content='Tommie performed the following task: 6) Have lunch from 1-2 pm' metadata={'importance': 0.09, 'last_accessed_at': datetime.datetime(2023, 9, 22, 23, 59, 22, 532372), 'created_at': datetime.datetime(2023, 9, 22, 23, 59, 22, 532372), 'buffer_idx': 5}\n",
      "page_content='Tommie performed the following task: 7) Practice design skills and work on personal projects from 2-4 pm' metadata={'importance': 0.105, 'last_accessed_at': datetime.datetime(2023, 9, 22, 23, 59, 22, 532372), 'created_at': datetime.datetime(2023, 9, 22, 23, 59, 22, 532372), 'buffer_idx': 6}\n",
      "page_content='Tommie performed the following task: 8) Take a short walk outside for some fresh air from 4-4:30 pm' metadata={'importance': 0.12, 'last_accessed_at': datetime.datetime(2023, 9, 22, 23, 59, 22, 532372), 'created_at': datetime.datetime(2023, 9, 22, 23, 59, 22, 532372), 'buffer_idx': 7}\n",
      "page_content='Tommie performed the following task: 9) Continue working on design projects from 4:30-6 pm' metadata={'importance': 0.135, 'last_accessed_at': datetime.datetime(2023, 9, 22, 23, 59, 22, 532372), 'created_at': datetime.datetime(2023, 9, 22, 23, 59, 22, 532372), 'buffer_idx': 8}\n",
      "page_content='Tommie performed the following task: 10) Cook dinner and eat from 6-7 pm' metadata={'importance': 0.15, 'last_accessed_at': datetime.datetime(2023, 9, 22, 23, 59, 22, 532372), 'created_at': datetime.datetime(2023, 9, 22, 23, 59, 22, 532372), 'buffer_idx': 9}\n",
      "page_content='Tommie performed the following task: 11) Watch TV or relax from 7-8 pm' metadata={'importance': 0.015, 'last_accessed_at': datetime.datetime(2023, 9, 22, 23, 59, 22, 532372), 'created_at': datetime.datetime(2023, 9, 22, 23, 59, 22, 532372), 'buffer_idx': 10}\n",
      "page_content='Tommie performed the following task: 12) Review and update resume from 8-9 pm' metadata={'importance': 0.18, 'last_accessed_at': datetime.datetime(2023, 9, 22, 23, 59, 22, 532372), 'created_at': datetime.datetime(2023, 9, 22, 23, 59, 22, 532372), 'buffer_idx': 11}\n",
      "page_content='Tommie performed the following task: 13) Wind down and prepare for bed from 9-10 pm' metadata={'importance': 0.045, 'last_accessed_at': datetime.datetime(2023, 9, 22, 23, 59, 22, 532372), 'created_at': datetime.datetime(2023, 9, 22, 23, 59, 22, 532372), 'buffer_idx': 12}\n"
     ]
    }
   ],
   "source": [
    "for i in tommie.memory.memory_retriever.memory_stream:\n",
    "    print(i)"
   ]
  },
  {
   "cell_type": "code",
   "execution_count": null,
   "metadata": {},
   "outputs": [],
   "source": []
  }
 ],
 "metadata": {
  "kernelspec": {
   "display_name": "discussion-agents",
   "language": "python",
   "name": "python3"
  },
  "language_info": {
   "codemirror_mode": {
    "name": "ipython",
    "version": 3
   },
   "file_extension": ".py",
   "mimetype": "text/x-python",
   "name": "python",
   "nbconvert_exporter": "python",
   "pygments_lexer": "ipython3",
   "version": "3.10.13"
  },
  "orig_nbformat": 4
 },
 "nbformat": 4,
 "nbformat_minor": 2
}
