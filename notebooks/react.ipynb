{
 "cells": [
  {
   "cell_type": "code",
   "execution_count": 1,
   "metadata": {},
   "outputs": [],
   "source": [
    "from agential.cog.agent.react import ReActAgent\n",
    "from agential.utils.docstore import DocstoreExplorer\n",
    "\n",
    "import tiktoken\n",
    "\n",
    "from langchain_community.docstore.wikipedia import Wikipedia\n",
    "from langchain_openai import ChatOpenAI\n",
    "\n",
    "from agential.cog.prompts.benchmark.hotpotqa import (\n",
    "    HOTPOTQA_FEWSHOT_EXAMPLES_REACT,\n",
    ")\n",
    "from agential.cog.prompts.benchmark.fever import (\n",
    "    FEVER_FEWSHOT_EXAMPLES_REACT,\n",
    ")\n",
    "from agential.cog.prompts.benchmark.triviaqa import (\n",
    "    TRIVIAQA_FEWSHOT_EXAMPLES_REACT,\n",
    ")\n",
    "from agential.cog.prompts.benchmark.ambignq import (\n",
    "    AMBIGNQ_FEWSHOT_EXAMPLES_REACT,\n",
    ")\n",
    "from agential.cog.prompts.benchmark.gsm8k import (\n",
    "    GSM8K_FEWSHOT_EXAMPLES_REACT\n",
    ")\n",
    "from agential.cog.prompts.benchmark.svamp import (\n",
    "    SVAMP_FEWSHOT_EXAMPLES_REACT\n",
    ")\n",
    "from agential.cog.prompts.benchmark.tabmwp import (\n",
    "    TABMWP_FEWSHOT_EXAMPLES_REACT\n",
    ")\n",
    "from agential.cog.prompts.benchmark.humaneval import (\n",
    "    HUMANEVAL_FEWSHOT_EXAMPLES_REACT\n",
    ")\n",
    "from agential.cog.prompts.benchmark.mbpp import (\n",
    "    MBPP_FEWSHOT_EXAMPLES_REACT\n",
    ")\n",
    "from agential.cog.prompts.agent.react import (\n",
    "    REACT_INSTRUCTION_HUMANEVAL, \n",
    "    REACT_INSTRUCTION_MBPP, \n",
    "    REACT_INSTRUCTION_HOTPOTQA,\n",
    "    REACT_INSTRUCTION_FEVER,\n",
    "    REACT_INSTRUCTION_AMBIGNQ,\n",
    "    REACT_INSTRUCTION_TRIVIAQA,\n",
    "    REACT_INSTRUCTION_GSM8K,\n",
    "    REACT_INSTRUCTION_SVAMP,\n",
    "    REACT_INSTRUCTION_TABMWP\n",
    ")\n",
    "\n",
    "import warnings\n",
    "warnings.filterwarnings('ignore')\n",
    "\n",
    "import dotenv\n",
    "dotenv.load_dotenv()\n",
    "\n",
    "llm = ChatOpenAI()"
   ]
  },
  {
   "cell_type": "markdown",
   "metadata": {},
   "source": [
    "# QA"
   ]
  },
  {
   "cell_type": "markdown",
   "metadata": {},
   "source": [
    "### HotpotQA"
   ]
  },
  {
   "cell_type": "code",
   "execution_count": 2,
   "metadata": {},
   "outputs": [
    {
     "name": "stderr",
     "output_type": "stream",
     "text": [
      "c:\\Users\\tuvin\\anaconda3\\envs\\agential\\Lib\\site-packages\\langchain_core\\_api\\deprecation.py:119: LangChainDeprecationWarning: The method `BaseChatModel.__call__` was deprecated in langchain-core 0.1.7 and will be removed in 0.3.0. Use invoke instead.\n",
      "  warn_deprecated(\n"
     ]
    }
   ],
   "source": [
    "question = 'Who was once considered the best kick boxer in the world, however he has been involved in a number of controversies relating to his \"unsportsmanlike conducts\" in the sport and crimes of violence outside of the ring'\n",
    "question = \"What is the elevation range for the area that the eastern sector of the Colorado orogeny extends into?\"\n",
    "\n",
    "agent = ReActAgent(\n",
    "    llm=llm,\n",
    "    mode={\"qa\": \"hotpotqa\"},\n",
    "    max_steps=8,\n",
    "    max_tokens=3896,\n",
    "    docstore=DocstoreExplorer(Wikipedia()),\n",
    "    enc=tiktoken.encoding_for_model(\"gpt-3.5-turbo\"),\n",
    ")\n",
    "\n",
    "out = agent.generate(\n",
    "    question=question,\n",
    "    examples=\"\",#HOTPOTQA_FEWSHOT_EXAMPLES_REACT, \n",
    "    prompt=REACT_INSTRUCTION_HOTPOTQA,\n",
    "    additional_keys={},\n",
    "    reset=True,\n",
    "    # kwargs.\n",
    "    max_steps=6\n",
    ")"
   ]
  },
  {
   "cell_type": "code",
   "execution_count": 3,
   "metadata": {},
   "outputs": [
    {
     "data": {
      "text/plain": [
       "[{'thought': 'I need to find out the elevation range for the area that the eastern sector of the Colorado orogeny extends into.',\n",
       "  'action_type': 'Search',\n",
       "  'query': 'eastern sector of the Colorado orogeny',\n",
       "  'observation': 'The Colorado orogeny was an episode of mountain building (an orogeny) in Colorado and surrounding areas. This took place from 1780 to 1650 million years ago (Mya), during the Paleoproterozoic (Statherian Period). It is recorded in the Colorado orogen, a >500-km-wide belt of oceanic arc rock that extends southward into New Mexico. The Colorado orogeny was likely part of the larger Yavapai orogeny.'},\n",
       " {'thought': 'The passage did not mention the elevation range for the area. I need to search for more information.',\n",
       "  'action_type': 'Search',\n",
       "  'query': 'Colorado orogen elevation range',\n",
       "  'observation': \"Could not find [Colorado orogen elevation range]. Similar: ['Appalachian Mountains', 'Geology of North America', 'North American Cordillera', 'Ouachita Mountains', 'Foreland basin', 'Tectonic uplift', 'Clingmans Dome', 'Geography of North America', 'Patagonia', 'Llano Uplift']\"},\n",
       " {'thought': 'I should try searching for the elevation range of the Yavapai orogeny, which the passage mentioned was likely part of the larger Yavapai orogeny.',\n",
       "  'action_type': 'Search',\n",
       "  'query': 'Yavapai orogeny elevation range',\n",
       "  'observation': \"Orogeny () is a mountain-building process that takes place at a convergent plate margin when plate motion compresses the margin. An orogenic belt or orogen develops as the compressed plate crumples and is uplifted to form one or more mountain ranges. This involves a series of geological processes collectively called orogenesis. These include both structural deformation of existing continental crust and the creation of new continental crust through volcanism. Magma rising in the orogen carries less dense material upwards while leaving more dense material behind, resulting in compositional differentiation of Earth's lithosphere (crust and uppermost mantle). A synorogenic (or synkinematic) process or event is one that occurs during an orogeny.The word orogeny comes from Ancient Greek  ὄρος (óros) 'mountain', and  γένεσις (génesis) 'creation, origin'). Although it was used before him, the term was employed by the American geologist G. K. Gilbert in 1890 to describe the process of mountain-building as distinguished from epeirogeny.\"},\n",
       " {'thought': \"I still haven't found the elevation range information I'm looking for. I need to try a different approach.\",\n",
       "  'action_type': 'Lookup',\n",
       "  'query': 'elevation',\n",
       "  'observation': '(Result 1/1) == History of the concept ==Before the development of geologic concepts during the 19th century, the presence of marine fossils in mountains was explained in Christian contexts as a result of the Biblical Deluge. This was an extension of Neoplatonic thought, which influenced early Christian writers.The 13th-century Dominican scholar Albert the Great posited that, as erosion was known to occur, there must be some process whereby new mountains and other land-forms were thrust up, or else there would eventually be no land; he suggested that marine fossils in mountainsides must once have been at the sea-floor. Orogeny was used by Amanz Gressly (1840) and Jules Thurmann (1854) as orogenic in terms of the creation of mountain elevations, as the term mountain building was still used to describe the processes. Elie de Beaumont (1852) used the evocative \"Jaws of a Vise\" theory to explain orogeny, but was more concerned with the height rather than the implicit structures created by and contained in orogenic belts. His theory essentially held that mountains were created by the squeezing of certain rocks. Eduard Suess (1875) recognised the importance of horizontal movement of rocks. The concept of a precursor geosyncline or initial downward warping of the solid earth (Hall, 1859) prompted James Dwight Dana (1873) to include the concept of compression in the theories surrounding mountain-building. With hindsight, we can discount Dana\\'s conjecture that this contraction was due to the cooling of the Earth (aka the cooling Earth theory). The cooling Earth theory was the chief paradigm for most geologists until the 1960s. It was, in the context of orogeny, fiercely contested by proponents of vertical movements in the crust, or convection within the asthenosphere or mantle.Gustav Steinmann (1906) recognised different classes of orogenic belts, including the Alpine type orogenic belt, typified by a flysch and molasse geometry to the sediments; ophiolite sequences, tholeiitic basalts, and a nappe style fold structure.In terms of recognising orogeny as an event, Leopold von Buch (1855) recognised that orogenies could be placed in time by bracketing between the youngest deformed rock and the oldest undeformed rock, a principle which is still in use today, though commonly investigated by geochronology using radiometric dating.Based on available observations from the metamorphic differences in orogenic belts of Europe and North America, H. J. Zwart (1967) proposed three types of orogens in relationship to tectonic setting and style: Cordillerotype, Alpinotype, and Hercynotype. His proposal was revised by W. S. Pitcher in 1979 in terms of the relationship to granite occurrences. Cawood et al. (2009) categorized orogenic belts into three types: accretionary, collisional, and intracratonic. Both accretionary and collisional orogens developed in converging plate margins. In contrast, Hercynotype orogens generally show similar features to intracratonic, intracontinental, extensional, and ultrahot orogens, all of which developed in continental detachment systems at converged plate margins.'},\n",
       " {'thought': \"I still haven't found the elevation range information I need. I should try searching for specific information on elevation ranges in mountain-building processes.\",\n",
       "  'action_type': 'Lookup',\n",
       "  'query': 'elevation range',\n",
       "  'observation': 'No Results'},\n",
       " {'thought': 'I need to try a different approach to find the elevation range information. Maybe I should search for elevation ranges in specific mountain ranges.',\n",
       "  'action_type': 'Search',\n",
       "  'query': 'Yavapai orogeny elevation range',\n",
       "  'observation': \"Orogeny () is a mountain-building process that takes place at a convergent plate margin when plate motion compresses the margin. An orogenic belt or orogen develops as the compressed plate crumples and is uplifted to form one or more mountain ranges. This involves a series of geological processes collectively called orogenesis. These include both structural deformation of existing continental crust and the creation of new continental crust through volcanism. Magma rising in the orogen carries less dense material upwards while leaving more dense material behind, resulting in compositional differentiation of Earth's lithosphere (crust and uppermost mantle). A synorogenic (or synkinematic) process or event is one that occurs during an orogeny.The word orogeny comes from Ancient Greek  ὄρος (óros) 'mountain', and  γένεσις (génesis) 'creation, origin'). Although it was used before him, the term was employed by the American geologist G. K. Gilbert in 1890 to describe the process of mountain-building as distinguished from epeirogeny.\"}]"
      ]
     },
     "execution_count": 3,
     "metadata": {},
     "output_type": "execute_result"
    }
   ],
   "source": [
    "out"
   ]
  },
  {
   "cell_type": "code",
   "execution_count": null,
   "metadata": {},
   "outputs": [],
   "source": [
    "out_str = \"\"\n",
    "for idx, step in enumerate(out):\n",
    "    out_str += f\"Though {idx}: {step['thought']}\" + f\"Action {idx}: {}\""
   ]
  },
  {
   "cell_type": "markdown",
   "metadata": {},
   "source": [
    "### FEVER"
   ]
  },
  {
   "cell_type": "code",
   "execution_count": null,
   "metadata": {},
   "outputs": [],
   "source": [
    "question = \"Nikolaj Coster-Waldau worked with the Fox Broadcasting Company.\"\n",
    "\n",
    "agent = ReActAgent(\n",
    "    llm=llm,\n",
    "    mode={\"qa\": \"fever\"},\n",
    "    max_steps=8,\n",
    "    max_tokens=3896,\n",
    "    docstore=DocstoreExplorer(Wikipedia()),\n",
    "    enc=tiktoken.encoding_for_model(\"gpt-3.5-turbo\"),\n",
    ")\n",
    "\n",
    "out = agent.generate(\n",
    "    question=question,\n",
    "    examples=FEVER_FEWSHOT_EXAMPLES_REACT,\n",
    "    prompt=REACT_INSTRUCTION_FEVER,\n",
    "    additional_keys={},\n",
    "    reset=True,\n",
    "    # kwargs.\n",
    "    max_steps=6\n",
    ")"
   ]
  },
  {
   "cell_type": "code",
   "execution_count": null,
   "metadata": {},
   "outputs": [],
   "source": [
    "out"
   ]
  },
  {
   "cell_type": "markdown",
   "metadata": {},
   "source": [
    "### AmbigNQ"
   ]
  },
  {
   "cell_type": "code",
   "execution_count": null,
   "metadata": {},
   "outputs": [],
   "source": [
    "question = \"When did the simpsons first air on television?\"\n",
    "\n",
    "agent = ReActAgent(\n",
    "    llm=llm,\n",
    "    mode={\"qa\": \"ambignq\"},\n",
    "    max_steps=8,\n",
    "    max_tokens=3896,\n",
    "    docstore=DocstoreExplorer(Wikipedia()),\n",
    "    enc=tiktoken.encoding_for_model(\"gpt-3.5-turbo\"),\n",
    ")\n",
    "\n",
    "out = agent.generate(\n",
    "    question=question,\n",
    "    examples=AMBIGNQ_FEWSHOT_EXAMPLES_REACT,\n",
    "    prompt=REACT_INSTRUCTION_AMBIGNQ,\n",
    "    additional_keys={},\n",
    "    reset=True,\n",
    "    # kwargs.\n",
    "    max_steps=6\n",
    ")"
   ]
  },
  {
   "cell_type": "code",
   "execution_count": null,
   "metadata": {},
   "outputs": [],
   "source": [
    "out"
   ]
  },
  {
   "cell_type": "markdown",
   "metadata": {},
   "source": [
    "### TriviaQA"
   ]
  },
  {
   "cell_type": "code",
   "execution_count": null,
   "metadata": {},
   "outputs": [],
   "source": [
    "question = \"Which American-born Sinclair won the Nobel Prize for Literature in 1930?\"\n",
    "\n",
    "agent = ReActAgent(\n",
    "    llm=llm,\n",
    "    mode={\"qa\": \"triviaqa\"},\n",
    "    max_steps=8,\n",
    "    max_tokens=3896,\n",
    "    docstore=DocstoreExplorer(Wikipedia()),\n",
    "    enc=tiktoken.encoding_for_model(\"gpt-3.5-turbo\"),\n",
    ")\n",
    "\n",
    "out = agent.generate(\n",
    "    question=question,\n",
    "    examples=TRIVIAQA_FEWSHOT_EXAMPLES_REACT,\n",
    "    prompt=REACT_INSTRUCTION_TRIVIAQA,\n",
    "    additional_keys={},\n",
    "    reset=True,\n",
    "    # kwargs.\n",
    "    max_steps=6\n",
    ")"
   ]
  },
  {
   "cell_type": "code",
   "execution_count": null,
   "metadata": {},
   "outputs": [],
   "source": [
    "out"
   ]
  },
  {
   "cell_type": "markdown",
   "metadata": {},
   "source": [
    "# Math"
   ]
  },
  {
   "cell_type": "markdown",
   "metadata": {},
   "source": [
    "### GSM8K"
   ]
  },
  {
   "cell_type": "code",
   "execution_count": null,
   "metadata": {},
   "outputs": [],
   "source": [
    "question = \"Janet's ducks lay 16 eggs per day. She eats three for breakfast every morning and bakes muffins for her friends every day with 4933828. She sells the remainder at the farmers' market daily for $2 per fresh duck egg. How much in dollars does she make every day at the farmers' market?\"\n",
    "\n",
    "agent = ReActAgent(llm=llm, mode={\"math\": \"gsm8k\"})\n",
    "\n",
    "out = agent.generate(\n",
    "    question=question,\n",
    "    examples=GSM8K_FEWSHOT_EXAMPLES_REACT,\n",
    "    prompt=REACT_INSTRUCTION_GSM8K,\n",
    ")"
   ]
  },
  {
   "cell_type": "code",
   "execution_count": null,
   "metadata": {},
   "outputs": [],
   "source": [
    "out"
   ]
  },
  {
   "cell_type": "markdown",
   "metadata": {},
   "source": [
    "### SVAMP"
   ]
  },
  {
   "cell_type": "code",
   "execution_count": null,
   "metadata": {},
   "outputs": [],
   "source": [
    "question = \"There are 87 oranges and 290 bananas in Philip's collection. If the bananas are organized into 2 groups and oranges are organized into 93 groups. How big is each group of bananas?\"\n",
    "\n",
    "agent = ReActAgent(llm=llm, mode={\"math\": \"svamp\"})\n",
    "\n",
    "out = agent.generate(\n",
    "    question=question,\n",
    "    examples=SVAMP_FEWSHOT_EXAMPLES_REACT,\n",
    "    prompt=REACT_INSTRUCTION_SVAMP,\n",
    ")"
   ]
  },
  {
   "cell_type": "code",
   "execution_count": null,
   "metadata": {},
   "outputs": [],
   "source": [
    "out"
   ]
  },
  {
   "cell_type": "markdown",
   "metadata": {},
   "source": [
    "### TabMWP"
   ]
  },
  {
   "cell_type": "code",
   "execution_count": null,
   "metadata": {},
   "outputs": [],
   "source": [
    "question = \"\"\"Read the following table regarding \"Bowling Scores\" and then write Python code to answer a question:\n",
    "\n",
    "Name | Score\n",
    "Amanda | 117\n",
    "Sam | 236\n",
    "Irma | 144\n",
    "Mike | 164\n",
    "\n",
    "Question: Some friends went bowling and kept track of their scores. How many more points did Mike score than Irma?\"\"\"\n",
    "\n",
    "agent = ReActAgent(llm=llm, mode={\"math\": \"tabmwp\"})\n",
    "\n",
    "out = agent.generate(\n",
    "    question=question,\n",
    "    examples=TABMWP_FEWSHOT_EXAMPLES_REACT,\n",
    "    prompt=REACT_INSTRUCTION_TABMWP,\n",
    ")"
   ]
  },
  {
   "cell_type": "code",
   "execution_count": null,
   "metadata": {},
   "outputs": [],
   "source": [
    "out"
   ]
  },
  {
   "cell_type": "markdown",
   "metadata": {},
   "source": [
    "# Code"
   ]
  },
  {
   "cell_type": "markdown",
   "metadata": {},
   "source": [
    "### HumanEval"
   ]
  },
  {
   "cell_type": "code",
   "execution_count": null,
   "metadata": {},
   "outputs": [],
   "source": [
    "inst = {\"task_id\": \"HumanEval/0\", \"prompt\": \"from typing import List\\n\\n\\ndef has_close_elements(numbers: List[float], threshold: float) -> bool:\\n    \\\"\\\"\\\" Check if in given list of numbers, are any two numbers closer to each other than\\n    given threshold.\\n    >>> has_close_elements([1.0, 2.0, 3.0], 0.5)\\n    False\\n    >>> has_close_elements([1.0, 2.8, 3.0, 4.0, 5.0, 2.0], 0.3)\\n    True\\n    \\\"\\\"\\\"\\n\", \"entry_point\": \"has_close_elements\", \"canonical_solution\": \"    for idx, elem in enumerate(numbers):\\n        for idx2, elem2 in enumerate(numbers):\\n            if idx != idx2:\\n                distance = abs(elem - elem2)\\n                if distance < threshold:\\n                    return True\\n\\n    return False\\n\", \"test\": \"\\n\\nMETADATA = {\\n    'author': 'jt',\\n    'dataset': 'test'\\n}\\n\\n\\ndef check(candidate):\\n    assert candidate([1.0, 2.0, 3.9, 4.0, 5.0, 2.2], 0.3) == True\\n    assert candidate([1.0, 2.0, 3.9, 4.0, 5.0, 2.2], 0.05) == False\\n    assert candidate([1.0, 2.0, 5.9, 4.0, 5.0], 0.95) == True\\n    assert candidate([1.0, 2.0, 5.9, 4.0, 5.0], 0.8) == False\\n    assert candidate([1.0, 2.0, 3.0, 4.0, 5.0, 2.0], 0.1) == True\\n    assert candidate([1.1, 2.2, 3.1, 4.1, 5.1], 1.0) == True\\n    assert candidate([1.1, 2.2, 3.1, 4.1, 5.1], 0.5) == False\\n\\n\"}\n",
    "question = inst['prompt']\n",
    "tests = f\"{inst['test']}\\ncheck({inst['entry_point']})\"\n",
    "\n",
    "agent = ReActAgent(\n",
    "    llm=llm,\n",
    "    mode={\"code\": \"humaneval\"},\n",
    "    max_steps=6,\n",
    "    max_tokens=3896,\n",
    "    enc=tiktoken.encoding_for_model(\"gpt-3.5-turbo\"),\n",
    ")\n",
    "\n",
    "out = agent.generate(\n",
    "    question=question,\n",
    "    examples=HUMANEVAL_FEWSHOT_EXAMPLES_REACT,\n",
    "    prompt=REACT_INSTRUCTION_HUMANEVAL,\n",
    "    additional_keys={},\n",
    "    reset=True,\n",
    "    # kwargs.\n",
    "    max_steps=3\n",
    ")"
   ]
  },
  {
   "cell_type": "code",
   "execution_count": null,
   "metadata": {},
   "outputs": [],
   "source": [
    "out"
   ]
  },
  {
   "cell_type": "markdown",
   "metadata": {},
   "source": [
    "### MBPP"
   ]
  },
  {
   "cell_type": "code",
   "execution_count": null,
   "metadata": {},
   "outputs": [],
   "source": [
    "question = \"Write a python function to find the first repeated character in a given string.\"\n",
    "tests = \"\"\"assert first_repeated_char(\"abcabc\") == \"a\"\n",
    "assert first_repeated_char(\"abc\") == None\n",
    "assert first_repeated_char(\"123123\") == \"1\\\"\"\"\"\n",
    "\n",
    "agent = ReActAgent(\n",
    "    llm=llm,\n",
    "    mode={\"code\": \"mbpp\"},\n",
    "    max_steps=6,\n",
    "    max_tokens=3896,\n",
    "    enc=tiktoken.encoding_for_model(\"gpt-3.5-turbo\"),\n",
    ")\n",
    "\n",
    "out = agent.generate(\n",
    "    question=question,\n",
    "    examples=MBPP_FEWSHOT_EXAMPLES_REACT,\n",
    "    prompt=REACT_INSTRUCTION_MBPP,\n",
    "    additional_keys={\"tests\": tests},\n",
    "    reset=True,\n",
    "    # kwargs.\n",
    "    max_steps=3\n",
    ")"
   ]
  },
  {
   "cell_type": "code",
   "execution_count": null,
   "metadata": {},
   "outputs": [],
   "source": [
    "out"
   ]
  },
  {
   "cell_type": "code",
   "execution_count": null,
   "metadata": {},
   "outputs": [],
   "source": []
  }
 ],
 "metadata": {
  "kernelspec": {
   "display_name": "agential",
   "language": "python",
   "name": "python3"
  },
  "language_info": {
   "codemirror_mode": {
    "name": "ipython",
    "version": 3
   },
   "file_extension": ".py",
   "mimetype": "text/x-python",
   "name": "python",
   "nbconvert_exporter": "python",
   "pygments_lexer": "ipython3",
   "version": "3.11.5"
  }
 },
 "nbformat": 4,
 "nbformat_minor": 2
}
