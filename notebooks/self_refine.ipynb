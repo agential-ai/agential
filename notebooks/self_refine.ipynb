{
 "cells": [
  {
   "cell_type": "code",
   "execution_count": null,
   "metadata": {},
   "outputs": [],
   "source": [
    "from agential.cog.self_refine.agent import SelfRefineAgent\n",
    "\n",
    "from langchain_openai import ChatOpenAI\n",
    "\n",
    "from agential.cog.fewshots.hotpotqa import (\n",
    "    HOTPOTQA_FEWSHOT_EXAMPLES_COT,\n",
    "    HOTPOTQA_FEWSHOT_EXAMPLES_DIRECT,\n",
    "    HOTPOTQA_FEWSHOT_EXAMPLES_REACT,\n",
    ")\n",
    "from agential.cog.fewshots.fever import (\n",
    "    FEVER_FEWSHOT_EXAMPLES_COT,\n",
    "    FEVER_FEWSHOT_EXAMPLES_DIRECT,\n",
    "    FEVER_FEWSHOT_EXAMPLES_REACT,\n",
    ")\n",
    "from agential.cog.fewshots.triviaqa import (\n",
    "    TRIVIAQA_FEWSHOT_EXAMPLES_COT,\n",
    "    TRIVIAQA_FEWSHOT_EXAMPLES_DIRECT,\n",
    "    TRIVIAQA_FEWSHOT_EXAMPLES_REACT,\n",
    ")\n",
    "from agential.cog.fewshots.ambignq import (\n",
    "    AMBIGNQ_FEWSHOT_EXAMPLES_COT,\n",
    "    AMBIGNQ_FEWSHOT_EXAMPLES_DIRECT,\n",
    "    AMBIGNQ_FEWSHOT_EXAMPLES_REACT,\n",
    ")\n",
    "from agential.cog.fewshots.gsm8k import (\n",
    "    GSM8K_FEWSHOT_EXAMPLES_POT,\n",
    ")\n",
    "from agential.cog.fewshots.svamp import (\n",
    "    SVAMP_FEWSHOT_EXAMPLES_POT,\n",
    ")\n",
    "from agential.cog.fewshots.tabmwp import (\n",
    "    TABMWP_FEWSHOT_EXAMPLES_POT,\n",
    ")\n",
    "from agential.cog.fewshots.humaneval import (\n",
    "    HUMANEVAL_FEWSHOT_EXAMPLES_POT,\n",
    ")\n",
    "from agential.cog.fewshots.mbpp import (\n",
    "    MBPP_FEWSHOT_EXAMPLES_POT,\n",
    ")\n",
    "from agential.cog.self_refine.prompts import (\n",
    "    SELF_REFINE_INSTRUCTION_GSM8K,\n",
    "    SELF_REFINE_CRITIQUE_INSTRUCTION_GSM8K,\n",
    "    GSM8K_CRITIQUE_FEWSHOT_EXAMPLES,\n",
    "    SELF_REFINE_REFINE_INSTRUCTION_GSM8K,\n",
    "    GSM8K_REFINE_FEWSHOT_EXAMPLES,\n",
    "\n",
    "    SELF_REFINE_INSTRUCTION_SVAMP,\n",
    "    SELF_REFINE_CRITIQUE_INSTRUCTION_SVAMP,\n",
    "    SVAMP_CRITIQUE_FEWSHOT_EXAMPLES,\n",
    "    SELF_REFINE_REFINE_INSTRUCTION_SVAMP,\n",
    "    SVAMP_REFINE_FEWSHOT_EXAMPLES,\n",
    "\n",
    "    SELF_REFINE_INSTRUCTION_TABMWP,\n",
    "    SELF_REFINE_CRITIQUE_INSTRUCTION_TABMWP,\n",
    "    TABMWP_CRITIQUE_FEWSHOT_EXAMPLES,\n",
    "    SELF_REFINE_REFINE_INSTRUCTION_TABMWP,\n",
    "    TABMWP_REFINE_FEWSHOT_EXAMPLES,\n",
    "\n",
    "    SELF_REFINE_INSTRUCTION_HOTPOTQA,\n",
    "    SELF_REFINE_CRITIQUE_INSTRUCTION_HOTPOTQA,\n",
    "    HOTPOTQA_CRITIQUE_FEWSHOT_EXAMPLES,\n",
    "    SELF_REFINE_REFINE_INSTRUCTION_HOTPOTQA,\n",
    "    HOTPOTQA_REFINE_FEWSHOT_EXAMPLES,\n",
    "\n",
    "    SELF_REFINE_INSTRUCTION_FEVER,\n",
    "    SELF_REFINE_CRITIQUE_INSTRUCTION_FEVER,\n",
    "    FEVER_CRITIQUE_FEWSHOT_EXAMPLES,\n",
    "    SELF_REFINE_REFINE_INSTRUCTION_FEVER,\n",
    "    FEVER_REFINE_FEWSHOT_EXAMPLES,\n",
    "\n",
    "    SELF_REFINE_INSTRUCTION_TRIVIAQA,\n",
    "    SELF_REFINE_CRITIQUE_INSTRUCTION_TRIVIAQA,\n",
    "    TRIVIAQA_CRITIQUE_FEWSHOT_EXAMPLES,\n",
    "    SELF_REFINE_REFINE_INSTRUCTION_TRIVIAQA,\n",
    "    TRIVIAQA_REFINE_FEWSHOT_EXAMPLES,\n",
    "\n",
    "    SELF_REFINE_INSTRUCTION_AMBIGNQ,\n",
    "    SELF_REFINE_CRITIQUE_INSTRUCTION_AMBIGNQ,\n",
    "    AMBIGNQ_CRITIQUE_FEWSHOT_EXAMPLES,\n",
    "    SELF_REFINE_REFINE_INSTRUCTION_AMBIGNQ,\n",
    "    AMBIGNQ_REFINE_FEWSHOT_EXAMPLES,\n",
    "\n",
    "    SELF_REFINE_INSTRUCTION_HUMANEVAL,\n",
    "    HUMANEVAL_CRITIQUE_FEWSHOT_EXAMPLES,\n",
    "    SELF_REFINE_CRITIQUE_INSTRUCTION_HUMANEVAL,\n",
    "    HUMANEVAL_REFINE_FEWSHOT_EXAMPLES,\n",
    "    SELF_REFINE_REFINE_INSTRUCTION_HUMANEVAL,\n",
    "\n",
    "    SELF_REFINE_INSTRUCTION_MBPP,\n",
    "    MBPP_CRITIQUE_FEWSHOT_EXAMPLES,\n",
    "    SELF_REFINE_CRITIQUE_INSTRUCTION_MBPP,\n",
    "    MBPP_REFINE_FEWSHOT_EXAMPLES,\n",
    "    SELF_REFINE_REFINE_INSTRUCTION_MBPP,\n",
    ")\n",
    "\n",
    "import warnings\n",
    "warnings.filterwarnings('ignore')\n",
    "\n",
    "import dotenv\n",
    "dotenv.load_dotenv()\n",
    "\n",
    "llm = ChatOpenAI()"
   ]
  },
  {
   "cell_type": "markdown",
   "metadata": {},
   "source": [
    "# QA"
   ]
  },
  {
   "cell_type": "markdown",
   "metadata": {},
   "source": [
    "### HotpotQA"
   ]
  },
  {
   "cell_type": "code",
   "execution_count": null,
   "metadata": {},
   "outputs": [],
   "source": [
    "question = 'Who was once considered the best kick boxer in the world, however he has been involved in a number of controversies relating to his \"unsportsmanlike conducts\" in the sport and crimes of violence outside of the ring'\n",
    "\n",
    "agent = SelfRefineAgent(\n",
    "    llm=llm,\n",
    "    benchmark=\"hotpotqa\",\n",
    "    patience=2\n",
    ")\n",
    "\n",
    "out = agent.generate(\n",
    "    question=question,\n",
    "    examples=HOTPOTQA_FEWSHOT_EXAMPLES_COT,  # HOTPOTQA_FEWSHOT_EXAMPLES_DIRECT, HOTPOTQA_FEWSHOT_EXAMPLES_REACT\n",
    "    prompt=SELF_REFINE_INSTRUCTION_HOTPOTQA,\n",
    "    critique_examples=HOTPOTQA_CRITIQUE_FEWSHOT_EXAMPLES,\n",
    "    critique_prompt=SELF_REFINE_CRITIQUE_INSTRUCTION_HOTPOTQA,\n",
    "    refine_examples=HOTPOTQA_REFINE_FEWSHOT_EXAMPLES,\n",
    "    refine_prompt=SELF_REFINE_REFINE_INSTRUCTION_HOTPOTQA,\n",
    "    additional_keys={},\n",
    "    critique_additional_keys={},\n",
    "    refine_additional_keys={},\n",
    "    max_interactions=3,\n",
    "    reset=True\n",
    ")\n"
   ]
  },
  {
   "cell_type": "code",
   "execution_count": null,
   "metadata": {},
   "outputs": [],
   "source": [
    "out"
   ]
  },
  {
   "cell_type": "markdown",
   "metadata": {},
   "source": [
    "### FEVER"
   ]
  },
  {
   "cell_type": "code",
   "execution_count": null,
   "metadata": {},
   "outputs": [],
   "source": [
    "question = \"Nikolaj Coster-Waldau worked with the Fox Broadcasting Company.\"\n",
    "\n",
    "agent = SelfRefineAgent(\n",
    "    llm=llm,\n",
    "    benchmark=\"fever\",\n",
    "    patience=2\n",
    ")\n",
    "\n",
    "out = agent.generate(\n",
    "    question=question,\n",
    "    examples=FEVER_FEWSHOT_EXAMPLES_COT,  # FEVER_FEWSHOT_EXAMPLES_DIRECT, FEVER_FEWSHOT_EXAMPLES_REACT\n",
    "    prompt=SELF_REFINE_INSTRUCTION_FEVER,\n",
    "    critique_examples=FEVER_CRITIQUE_FEWSHOT_EXAMPLES,\n",
    "    critique_prompt=SELF_REFINE_CRITIQUE_INSTRUCTION_FEVER,\n",
    "    refine_examples=FEVER_REFINE_FEWSHOT_EXAMPLES,\n",
    "    refine_prompt=SELF_REFINE_REFINE_INSTRUCTION_FEVER,\n",
    "    additional_keys={},\n",
    "    critique_additional_keys={},\n",
    "    refine_additional_keys={},\n",
    "    max_interactions=3,\n",
    "    reset=True\n",
    ")\n"
   ]
  },
  {
   "cell_type": "code",
   "execution_count": null,
   "metadata": {},
   "outputs": [],
   "source": [
    "out"
   ]
  },
  {
   "cell_type": "markdown",
   "metadata": {},
   "source": [
    "### AmbigNQ"
   ]
  },
  {
   "cell_type": "code",
   "execution_count": null,
   "metadata": {},
   "outputs": [],
   "source": [
    "question = \"When did the simpsons first air on television?\"\n",
    "\n",
    "agent = SelfRefineAgent(\n",
    "    llm=llm,\n",
    "    benchmark=\"ambignq\",\n",
    "    patience=2\n",
    ")\n",
    "\n",
    "out = agent.generate(\n",
    "    question=question,\n",
    "    examples=AMBIGNQ_FEWSHOT_EXAMPLES_COT,  # AMBIGNQ_FEWSHOT_EXAMPLES_DIRECT, AMBIGNQ_FEWSHOT_EXAMPLES_REACT\n",
    "    prompt=SELF_REFINE_INSTRUCTION_AMBIGNQ,\n",
    "    critique_examples=AMBIGNQ_CRITIQUE_FEWSHOT_EXAMPLES,\n",
    "    critique_prompt=SELF_REFINE_CRITIQUE_INSTRUCTION_AMBIGNQ,\n",
    "    refine_examples=AMBIGNQ_REFINE_FEWSHOT_EXAMPLES,\n",
    "    refine_prompt=SELF_REFINE_REFINE_INSTRUCTION_AMBIGNQ,\n",
    "    additional_keys={},\n",
    "    critique_additional_keys={},\n",
    "    refine_additional_keys={},\n",
    "    max_interactions=3,\n",
    "    reset=True\n",
    ")\n"
   ]
  },
  {
   "cell_type": "code",
   "execution_count": null,
   "metadata": {},
   "outputs": [],
   "source": [
    "out"
   ]
  },
  {
   "cell_type": "markdown",
   "metadata": {},
   "source": [
    "### TriviaQA"
   ]
  },
  {
   "cell_type": "code",
   "execution_count": null,
   "metadata": {},
   "outputs": [],
   "source": [
    "question = \"Which American-born Sinclair won the Nobel Prize for Literature in 1930?\"\n",
    "\n",
    "agent = SelfRefineAgent(\n",
    "    llm=llm,\n",
    "    benchmark=\"triviaqa\",\n",
    "    patience=2\n",
    ")\n",
    "\n",
    "out = agent.generate(\n",
    "    question=question,\n",
    "    examples=TRIVIAQA_FEWSHOT_EXAMPLES_COT,  # TRIVIAQA_FEWSHOT_EXAMPLES_DIRECT, TRIVIAQA_FEWSHOT_EXAMPLES_REACT\n",
    "    prompt=SELF_REFINE_INSTRUCTION_TRIVIAQA,\n",
    "    critique_examples=TRIVIAQA_CRITIQUE_FEWSHOT_EXAMPLES,\n",
    "    critique_prompt=SELF_REFINE_CRITIQUE_INSTRUCTION_TRIVIAQA,\n",
    "    refine_examples=TRIVIAQA_REFINE_FEWSHOT_EXAMPLES,\n",
    "    refine_prompt=SELF_REFINE_REFINE_INSTRUCTION_TRIVIAQA,\n",
    "    additional_keys={},\n",
    "    critique_additional_keys={},\n",
    "    refine_additional_keys={},\n",
    "    max_interactions=3,\n",
    "    reset=True\n",
    ")\n"
   ]
  },
  {
   "cell_type": "code",
   "execution_count": null,
   "metadata": {},
   "outputs": [],
   "source": [
    "out"
   ]
  },
  {
   "cell_type": "markdown",
   "metadata": {},
   "source": [
    "# Math"
   ]
  },
  {
   "cell_type": "markdown",
   "metadata": {},
   "source": [
    "### GSM8K"
   ]
  },
  {
   "cell_type": "code",
   "execution_count": null,
   "metadata": {},
   "outputs": [],
   "source": [
    "question = \"Janet's ducks lay 16 eggs per day. She eats three for breakfast every morning and bakes muffins for her friends every day with 4933828. She sells the remainder at the farmers' market daily for $2 per fresh duck egg. How much in dollars does she make every day at the farmers' market?\"\n",
    "\n",
    "agent = SelfRefineAgent(\n",
    "    llm=llm,\n",
    "    benchmark=\"gsm8k\",\n",
    "    patience=2\n",
    ")\n",
    "\n",
    "out = agent.generate(\n",
    "    question=question,\n",
    "    examples=GSM8K_FEWSHOT_EXAMPLES_POT,\n",
    "    prompt=SELF_REFINE_INSTRUCTION_GSM8K,\n",
    "    critique_examples=GSM8K_CRITIQUE_FEWSHOT_EXAMPLES,\n",
    "    critique_prompt=SELF_REFINE_CRITIQUE_INSTRUCTION_GSM8K,\n",
    "    refine_examples=GSM8K_REFINE_FEWSHOT_EXAMPLES,\n",
    "    refine_prompt=SELF_REFINE_REFINE_INSTRUCTION_GSM8K,\n",
    "    additional_keys={},\n",
    "    critique_additional_keys={},\n",
    "    refine_additional_keys={},\n",
    "    max_interactions=3,\n",
    "    reset=True\n",
    ")"
   ]
  },
  {
   "cell_type": "code",
   "execution_count": null,
   "metadata": {},
   "outputs": [],
   "source": [
    "out"
   ]
  },
  {
   "cell_type": "markdown",
   "metadata": {},
   "source": [
    "### SVAMP"
   ]
  },
  {
   "cell_type": "code",
   "execution_count": null,
   "metadata": {},
   "outputs": [],
   "source": [
    "question = \"There are 87 oranges and 290 bananas in Philip's collection. If the bananas are organized into 2 groups and oranges are organized into 93 groups. How big is each group of bananas?\"\n",
    "\n",
    "agent = SelfRefineAgent(\n",
    "    llm=llm,\n",
    "    benchmark=\"svamp\",\n",
    "    patience=2\n",
    ")\n",
    "\n",
    "out = agent.generate(\n",
    "    question=question,\n",
    "    examples=SVAMP_FEWSHOT_EXAMPLES_POT,\n",
    "    prompt=SELF_REFINE_INSTRUCTION_SVAMP,\n",
    "    critique_examples=SVAMP_CRITIQUE_FEWSHOT_EXAMPLES,\n",
    "    critique_prompt=SELF_REFINE_CRITIQUE_INSTRUCTION_SVAMP,\n",
    "    refine_examples=SVAMP_REFINE_FEWSHOT_EXAMPLES,\n",
    "    refine_prompt=SELF_REFINE_REFINE_INSTRUCTION_SVAMP,\n",
    "    additional_keys={},\n",
    "    critique_additional_keys={},\n",
    "    refine_additional_keys={},\n",
    "    max_interactions=3,\n",
    "    reset=True\n",
    ")"
   ]
  },
  {
   "cell_type": "code",
   "execution_count": null,
   "metadata": {},
   "outputs": [],
   "source": [
    "out"
   ]
  },
  {
   "cell_type": "markdown",
   "metadata": {},
   "source": [
    "### TabMWP"
   ]
  },
  {
   "cell_type": "code",
   "execution_count": null,
   "metadata": {},
   "outputs": [],
   "source": [
    "question = \"\"\"Read the following table regarding \"Bowling Scores\" and then write Python code to answer a question:\n",
    "\n",
    "Name | Score\n",
    "Amanda | 117\n",
    "Sam | 236\n",
    "Irma | 144\n",
    "Mike | 164\n",
    "\n",
    "Question: Some friends went bowling and kept track of their scores. How many more points did Mike score than Irma?\"\"\"\n",
    "\n",
    "agent = SelfRefineAgent(\n",
    "    llm=llm,\n",
    "    benchmark=\"tabmwp\",\n",
    "    patience=2\n",
    ")\n",
    "\n",
    "out = agent.generate(\n",
    "    question=question,\n",
    "    examples=TABMWP_FEWSHOT_EXAMPLES_POT,\n",
    "    prompt=SELF_REFINE_INSTRUCTION_TABMWP,\n",
    "    critique_examples=TABMWP_CRITIQUE_FEWSHOT_EXAMPLES,\n",
    "    critique_prompt=SELF_REFINE_CRITIQUE_INSTRUCTION_TABMWP,\n",
    "    refine_examples=TABMWP_REFINE_FEWSHOT_EXAMPLES,\n",
    "    refine_prompt=SELF_REFINE_REFINE_INSTRUCTION_TABMWP,\n",
    "    additional_keys={},\n",
    "    critique_additional_keys={},\n",
    "    refine_additional_keys={},\n",
    "    max_interactions=3,\n",
    "    reset=True\n",
    ")"
   ]
  },
  {
   "cell_type": "code",
   "execution_count": null,
   "metadata": {},
   "outputs": [],
   "source": [
    "out"
   ]
  },
  {
   "cell_type": "markdown",
   "metadata": {},
   "source": [
    "# Code"
   ]
  },
  {
   "cell_type": "markdown",
   "metadata": {},
   "source": [
    "### HumanEval"
   ]
  },
  {
   "cell_type": "code",
   "execution_count": null,
   "metadata": {},
   "outputs": [],
   "source": [
    "inst = {\"task_id\": \"HumanEval/0\", \"prompt\": \"from typing import List\\n\\n\\ndef has_close_elements(numbers: List[float], threshold: float) -> bool:\\n    \\\"\\\"\\\" Check if in given list of numbers, are any two numbers closer to each other than\\n    given threshold.\\n    >>> has_close_elements([1.0, 2.0, 3.0], 0.5)\\n    False\\n    >>> has_close_elements([1.0, 2.8, 3.0, 4.0, 5.0, 2.0], 0.3)\\n    True\\n    \\\"\\\"\\\"\\n\", \"entry_point\": \"has_close_elements\", \"canonical_solution\": \"    for idx, elem in enumerate(numbers):\\n        for idx2, elem2 in enumerate(numbers):\\n            if idx != idx2:\\n                distance = abs(elem - elem2)\\n                if distance < threshold:\\n                    return True\\n\\n    return False\\n\", \"test\": \"\\n\\nMETADATA = {\\n    'author': 'jt',\\n    'dataset': 'test'\\n}\\n\\n\\ndef check(candidate):\\n    assert candidate([1.0, 2.0, 3.9, 4.0, 5.0, 2.2], 0.3) == True\\n    assert candidate([1.0, 2.0, 3.9, 4.0, 5.0, 2.2], 0.05) == False\\n    assert candidate([1.0, 2.0, 5.9, 4.0, 5.0], 0.95) == True\\n    assert candidate([1.0, 2.0, 5.9, 4.0, 5.0], 0.8) == False\\n    assert candidate([1.0, 2.0, 3.0, 4.0, 5.0, 2.0], 0.1) == True\\n    assert candidate([1.1, 2.2, 3.1, 4.1, 5.1], 1.0) == True\\n    assert candidate([1.1, 2.2, 3.1, 4.1, 5.1], 0.5) == False\\n\\n\"}\n",
    "question = inst['prompt']\n",
    "tests = f\"{inst['test']}\\ncheck({inst['entry_point']})\"\n"
   ]
  },
  {
   "cell_type": "markdown",
   "metadata": {},
   "source": [
    "### MBPP"
   ]
  },
  {
   "cell_type": "code",
   "execution_count": null,
   "metadata": {},
   "outputs": [],
   "source": [
    "question = \"Write a python function to find the first repeated character in a given string.\"\n",
    "tests = \"\"\"assert first_repeated_char(\"abcabc\") == \"a\"\n",
    "assert first_repeated_char(\"abc\") == None\n",
    "assert first_repeated_char(\"123123\") == \"1\\\"\"\"\""
   ]
  }
 ],
 "metadata": {
  "kernelspec": {
   "display_name": "agential",
   "language": "python",
   "name": "python3"
  },
  "language_info": {
   "codemirror_mode": {
    "name": "ipython",
    "version": 3
   },
   "file_extension": ".py",
   "mimetype": "text/x-python",
   "name": "python",
   "nbconvert_exporter": "python",
   "pygments_lexer": "ipython3",
   "version": "3.11.5"
  }
 },
 "nbformat": 4,
 "nbformat_minor": 2
}
