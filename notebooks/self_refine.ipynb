{
 "cells": [
  {
   "cell_type": "code",
   "execution_count": null,
   "metadata": {},
   "outputs": [],
   "source": [
    "from agential.cog.self_refine.agent import SelfRefineAgent\n",
    "\n",
    "from langchain_openai import ChatOpenAI\n",
    "\n",
    "from agential.cog.fewshots.hotpotqa import (\n",
    "    HOTPOTQA_FEWSHOT_EXAMPLES_COT,\n",
    "    HOTPOTQA_FEWSHOT_EXAMPLES_DIRECT,\n",
    "    HOTPOTQA_FEWSHOT_EXAMPLES_REACT,\n",
    ")\n",
    "from agential.cog.fewshots.fever import (\n",
    "    FEVER_FEWSHOT_EXAMPLES_COT,\n",
    "    FEVER_FEWSHOT_EXAMPLES_DIRECT,\n",
    "    FEVER_FEWSHOT_EXAMPLES_REACT,\n",
    ")\n",
    "from agential.cog.fewshots.triviaqa import (\n",
    "    TRIVIAQA_FEWSHOT_EXAMPLES_COT,\n",
    "    TRIVIAQA_FEWSHOT_EXAMPLES_DIRECT,\n",
    "    TRIVIAQA_FEWSHOT_EXAMPLES_REACT,\n",
    ")\n",
    "from agential.cog.fewshots.ambignq import (\n",
    "    AMBIGNQ_FEWSHOT_EXAMPLES_COT,\n",
    "    AMBIGNQ_FEWSHOT_EXAMPLES_DIRECT,\n",
    "    AMBIGNQ_FEWSHOT_EXAMPLES_REACT,\n",
    ")\n",
    "from agential.cog.fewshots.gsm8k import (\n",
    "    GSM8K_FEWSHOT_EXAMPLES_POT,\n",
    ")\n",
    "from agential.cog.fewshots.svamp import (\n",
    "    SVAMP_FEWSHOT_EXAMPLES_POT,\n",
    ")\n",
    "from agential.cog.fewshots.tabmwp import (\n",
    "    TABMWP_FEWSHOT_EXAMPLES_POT,\n",
    ")\n",
    "from agential.cog.fewshots.humaneval import (\n",
    "    HUMANEVAL_FEWSHOT_EXAMPLES_POT,\n",
    ")\n",
    "from agential.cog.fewshots.mbpp import (\n",
    "    MBPP_FEWSHOT_EXAMPLES_POT,\n",
    "    MBPP_FEWSHOT_EXAMPLES_REACT\n",
    ")\n",
    "from agential.cog.self_refine.prompts import (\n",
    "    SELF_REFINE_INSTRUCTION_GSM8K,\n",
    "    SELF_REFINE_CRITIQUE_INSTRUCTION_GSM8K,\n",
    "    GSM8K_CRITIQUE_FEWSHOT_EXAMPLES,\n",
    "    SELF_REFINE_REFINE_INSTRUCTION_GSM8K,\n",
    "    GSM8K_REFINE_FEWSHOT_EXAMPLES,\n",
    "\n",
    "    SELF_REFINE_INSTRUCTION_SVAMP,\n",
    "    SELF_REFINE_CRITIQUE_INSTRUCTION_SVAMP,\n",
    "    SVAMP_CRITIQUE_FEWSHOT_EXAMPLES,\n",
    "    SELF_REFINE_REFINE_INSTRUCTION_SVAMP,\n",
    "    SVAMP_REFINE_FEWSHOT_EXAMPLES,\n",
    "\n",
    "    SELF_REFINE_INSTRUCTION_TABMWP,\n",
    "    SELF_REFINE_CRITIQUE_INSTRUCTION_TABMWP,\n",
    "    TABMWP_CRITIQUE_FEWSHOT_EXAMPLES,\n",
    "    SELF_REFINE_REFINE_INSTRUCTION_TABMWP,\n",
    "    TABMWP_REFINE_FEWSHOT_EXAMPLES,\n",
    ")\n",
    "\n",
    "import warnings\n",
    "warnings.filterwarnings('ignore')\n",
    "\n",
    "import dotenv\n",
    "dotenv.load_dotenv()\n",
    "\n",
    "llm = ChatOpenAI()"
   ]
  },
  {
   "cell_type": "markdown",
   "metadata": {},
   "source": [
    "# QA"
   ]
  },
  {
   "cell_type": "markdown",
   "metadata": {},
   "source": [
    "### HotpotQA"
   ]
  },
  {
   "cell_type": "code",
   "execution_count": null,
   "metadata": {},
   "outputs": [],
   "source": []
  },
  {
   "cell_type": "markdown",
   "metadata": {},
   "source": [
    "### FEVER"
   ]
  },
  {
   "cell_type": "code",
   "execution_count": null,
   "metadata": {},
   "outputs": [],
   "source": []
  },
  {
   "cell_type": "markdown",
   "metadata": {},
   "source": [
    "### AmbigNQ"
   ]
  },
  {
   "cell_type": "code",
   "execution_count": null,
   "metadata": {},
   "outputs": [],
   "source": []
  },
  {
   "cell_type": "markdown",
   "metadata": {},
   "source": [
    "### TriviaQA"
   ]
  },
  {
   "cell_type": "code",
   "execution_count": null,
   "metadata": {},
   "outputs": [],
   "source": []
  },
  {
   "cell_type": "markdown",
   "metadata": {},
   "source": [
    "# Math"
   ]
  },
  {
   "cell_type": "markdown",
   "metadata": {},
   "source": [
    "### GSM8K"
   ]
  },
  {
   "cell_type": "code",
   "execution_count": null,
   "metadata": {},
   "outputs": [],
   "source": [
    "question = \"Janet's ducks lay 16 eggs per day. She eats three for breakfast every morning and bakes muffins for her friends every day with 4933828. She sells the remainder at the farmers' market daily for $2 per fresh duck egg. How much in dollars does she make every day at the farmers' market?\"\n",
    "\n",
    "agent = SelfRefineAgent(\n",
    "    llm=llm,\n",
    "    benchmark=\"gsm8k\",\n",
    "    patience=2\n",
    ")\n",
    "\n",
    "out = agent.generate(\n",
    "    question=question,\n",
    "    examples=GSM8K_FEWSHOT_EXAMPLES_POT,\n",
    "    prompt=SELF_REFINE_INSTRUCTION_GSM8K,\n",
    "    critique_examples=GSM8K_CRITIQUE_FEWSHOT_EXAMPLES,\n",
    "    critique_prompt=SELF_REFINE_CRITIQUE_INSTRUCTION_GSM8K,\n",
    "    refine_examples=GSM8K_REFINE_FEWSHOT_EXAMPLES,\n",
    "    refine_prompt=SELF_REFINE_REFINE_INSTRUCTION_GSM8K,\n",
    "    additional_keys={},\n",
    "    critique_additional_keys={},\n",
    "    refine_additional_keys={},\n",
    "    max_interactions=3,\n",
    "    reset=True\n",
    ")"
   ]
  },
  {
   "cell_type": "code",
   "execution_count": null,
   "metadata": {},
   "outputs": [],
   "source": [
    "out"
   ]
  },
  {
   "cell_type": "markdown",
   "metadata": {},
   "source": [
    "### SVAMP"
   ]
  },
  {
   "cell_type": "code",
   "execution_count": null,
   "metadata": {},
   "outputs": [],
   "source": [
    "question = \"There are 87 oranges and 290 bananas in Philip's collection. If the bananas are organized into 2 groups and oranges are organized into 93 groups. How big is each group of bananas?\"\n",
    "\n",
    "agent = SelfRefineAgent(\n",
    "    llm=llm,\n",
    "    benchmark=\"svamp\",\n",
    "    patience=2\n",
    ")\n",
    "\n",
    "out = agent.generate(\n",
    "    question=question,\n",
    "    examples=SVAMP_FEWSHOT_EXAMPLES_POT,\n",
    "    prompt=SELF_REFINE_INSTRUCTION_SVAMP,\n",
    "    critique_examples=SVAMP_CRITIQUE_FEWSHOT_EXAMPLES,\n",
    "    critique_prompt=SELF_REFINE_CRITIQUE_INSTRUCTION_SVAMP,\n",
    "    refine_examples=SVAMP_REFINE_FEWSHOT_EXAMPLES,\n",
    "    refine_prompt=SELF_REFINE_REFINE_INSTRUCTION_SVAMP,\n",
    "    additional_keys={},\n",
    "    critique_additional_keys={},\n",
    "    refine_additional_keys={},\n",
    "    max_interactions=3,\n",
    "    reset=True\n",
    ")"
   ]
  },
  {
   "cell_type": "code",
   "execution_count": null,
   "metadata": {},
   "outputs": [],
   "source": [
    "out"
   ]
  },
  {
   "cell_type": "markdown",
   "metadata": {},
   "source": [
    "### TabMWP"
   ]
  },
  {
   "cell_type": "code",
   "execution_count": null,
   "metadata": {},
   "outputs": [],
   "source": [
    "question = \"\"\"Read the following table regarding \"Bowling Scores\" and then write Python code to answer a question:\n",
    "\n",
    "Name | Score\n",
    "Amanda | 117\n",
    "Sam | 236\n",
    "Irma | 144\n",
    "Mike | 164\n",
    "\n",
    "Question: Some friends went bowling and kept track of their scores. How many more points did Mike score than Irma?\"\"\"\n",
    "\n",
    "agent = SelfRefineAgent(\n",
    "    llm=llm,\n",
    "    benchmark=\"tabmwp\",\n",
    "    patience=2\n",
    ")\n",
    "\n",
    "out = agent.generate(\n",
    "    question=question,\n",
    "    examples=TABMWP_FEWSHOT_EXAMPLES_POT,\n",
    "    prompt=SELF_REFINE_INSTRUCTION_TABMWP,\n",
    "    critique_examples=TABMWP_CRITIQUE_FEWSHOT_EXAMPLES,\n",
    "    critique_prompt=SELF_REFINE_CRITIQUE_INSTRUCTION_TABMWP,\n",
    "    refine_examples=TABMWP_REFINE_FEWSHOT_EXAMPLES,\n",
    "    refine_prompt=SELF_REFINE_REFINE_INSTRUCTION_TABMWP,\n",
    "    additional_keys={},\n",
    "    critique_additional_keys={},\n",
    "    refine_additional_keys={},\n",
    "    max_interactions=3,\n",
    "    reset=True\n",
    ")"
   ]
  },
  {
   "cell_type": "code",
   "execution_count": null,
   "metadata": {},
   "outputs": [],
   "source": [
    "out"
   ]
  },
  {
   "cell_type": "markdown",
   "metadata": {},
   "source": [
    "# Code"
   ]
  },
  {
   "cell_type": "markdown",
   "metadata": {},
   "source": [
    "### HumanEval"
   ]
  },
  {
   "cell_type": "code",
   "execution_count": null,
   "metadata": {},
   "outputs": [],
   "source": []
  },
  {
   "cell_type": "markdown",
   "metadata": {},
   "source": [
    "### MBPP"
   ]
  },
  {
   "cell_type": "code",
   "execution_count": null,
   "metadata": {},
   "outputs": [],
   "source": []
  }
 ],
 "metadata": {
  "kernelspec": {
   "display_name": "agential",
   "language": "python",
   "name": "python3"
  },
  "language_info": {
   "codemirror_mode": {
    "name": "ipython",
    "version": 3
   },
   "file_extension": ".py",
   "mimetype": "text/x-python",
   "name": "python",
   "nbconvert_exporter": "python",
   "pygments_lexer": "ipython3",
   "version": "3.11.5"
  }
 },
 "nbformat": 4,
 "nbformat_minor": 2
}
