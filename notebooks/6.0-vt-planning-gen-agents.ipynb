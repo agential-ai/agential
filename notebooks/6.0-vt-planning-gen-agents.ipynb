{
 "cells": [
  {
   "cell_type": "code",
   "execution_count": null,
   "metadata": {},
   "outputs": [],
   "source": [
    "# commonset += f\"Name: {self.name}\\n\"\n",
    "# commonset += f\"Age: {self.age}\\n\"\n",
    "# commonset += f\"Innate traits: {self.innate}\\n\"\n",
    "# commonset += f\"Learned traits: {self.learned}\\n\"\n",
    "# commonset += f\"Currently: {self.currently}\\n\"\n",
    "# commonset += f\"Lifestyle: {self.lifestyle}\\n\"\n",
    "# commonset += f\"Daily plan requirement: {self.daily_plan_req}\\n\"\n",
    "# commonset += f\"Current Date: {self.curr_time.strftime('%A %B %d')}\\n\""
   ]
  },
  {
   "cell_type": "code",
   "execution_count": null,
   "metadata": {},
   "outputs": [],
   "source": [
    "# prompt_input = []\n",
    "# prompt_input += [persona.scratch.get_str_iss()]\n",
    "# prompt_input += [persona.scratch.get_str_lifestyle()]\n",
    "# prompt_input += [persona.scratch.get_str_curr_date_str()]\n",
    "# prompt_input += [persona.scratch.get_str_firstname()]\n",
    "# prompt_input += [f\"{str(wake_up_hour)}:00 am\"]"
   ]
  },
  {
   "cell_type": "code",
   "execution_count": null,
   "metadata": {},
   "outputs": [],
   "source": [
    "# daily_planning_v6.txt\n",
    "\n",
    "# Variables (this section up to commentblockmarker isn't used): \n",
    "# !<INPUT 0>! -- Commonset\n",
    "# !<INPUT 1>! -- Lifestyle\n",
    "# !<INPUT 2>! -- Reverie date time now\n",
    "# !<INPUT 3>! -- Persona first names\n",
    "# !<INPUT 4>! -- wake_up_hour\n",
    "\n",
    "# <commentblockmarker>###</commentblockmarker>\n",
    "# !<INPUT 0>!\n",
    "\n",
    "# In general, !<INPUT 1>!\n",
    "# Today is !<INPUT 2>!. Here is !<INPUT 3>!'s plan today in broad-strokes (with the time of the day. e.g., have a lunch at 12:00 pm, watch TV from 7 to 8 pm): 1) wake up and complete the morning routine at !<INPUT 4>!, 2)"
   ]
  },
  {
   "cell_type": "code",
   "execution_count": 1,
   "metadata": {},
   "outputs": [],
   "source": [
    "fs = ['1) wake up and complete the morning routine at 6:00 am', \n",
    "        '2) eat breakfast at 7:00 am', \n",
    "        '3) read a book from 8:00 am to 12:00 pm', \n",
    "        '4) have lunch at 12:00 pm', \n",
    "        '5) take a nap from 1:00 pm to 4:00 pm', \n",
    "        '6) relax and watch TV from 7:00 pm to 8:00 pm', \n",
    "        '7) go to bed at 11:00 pm'] "
   ]
  },
  {
   "cell_type": "code",
   "execution_count": null,
   "metadata": {},
   "outputs": [],
   "source": [
    "# daily_planning_v6\n",
    "\n",
    "gpt_param = {\"engine\": \"text-davinci-003\", \"max_tokens\": 500, \n",
    "            \"temperature\": 1, \"top_p\": 1, \"stream\": False,\n",
    "            \"frequency_penalty\": 0, \"presence_penalty\": 0, \"stop\": None}"
   ]
  },
  {
   "cell_type": "code",
   "execution_count": null,
   "metadata": {},
   "outputs": [],
   "source": [
    "# def __func_clean_up(gpt_response, prompt=\"\"):\n",
    "# cr = []\n",
    "# _cr = gpt_response.split(\")\")\n",
    "# for i in _cr: \n",
    "#     if i[-1].isdigit(): \n",
    "#     i = i[:-1].strip()\n",
    "#     if i[-1] == \".\" or i[-1] == \",\": \n",
    "#         cr += [i[:-1].strip()]\n",
    "# return cr\n",
    "\n",
    "# example output response cleaned up\n",
    "#\n",
    "# fs = ['wake up and complete the morning routine at 6:00 am', \n",
    "#         'eat breakfast at 7:00 am', \n",
    "#         'read a book from 8:00 am to 12:00 pm', \n",
    "#         'have lunch at 12:00 pm', \n",
    "#         'take a nap from 1:00 pm to 4:00 pm', \n",
    "#         'relax and watch TV from 7:00 pm to 8:00 pm', \n",
    "#         'go to bed at 11:00 pm'] \n",
    "\n",
    "# output = ([f\"wake up and complete the morning routine at {wake_up_hour}:00 am\"]\n",
    "#             + output)\n",
    "\n",
    "# persona.scratch.daily_req = generate_first_daily_plan(persona, \n",
    "#                                                         wake_up_hour)"
   ]
  },
  {
   "cell_type": "code",
   "execution_count": null,
   "metadata": {},
   "outputs": [],
   "source": [
    "# focal_points = [f\"{p_name}'s plan for {persona.scratch.get_str_curr_date_str()}.\",\n",
    "#                 f\"Important recent events for {p_name}'s life.\"]\n",
    "# retrieved = new_retrieve(persona, focal_points)"
   ]
  },
  {
   "cell_type": "code",
   "execution_count": 1,
   "metadata": {},
   "outputs": [],
   "source": [
    "from datetime import datetime\n",
    "import faiss\n",
    "\n",
    "from langchain.embeddings.openai import OpenAIEmbeddings\n",
    "\n",
    "from langchain.docstore import InMemoryDocstore\n",
    "from langchain.vectorstores import FAISS\n",
    "\n",
    "from langchain.retrievers import TimeWeightedVectorStoreRetriever\n",
    "from langchain.chat_models import ChatOpenAI\n",
    "\n",
    "from discussion_agents.memory.base_memory import GenerativeAgentMemory\n",
    "from discussion_agents.model.base_agent import GenerativeAgent\n",
    "\n",
    "import dotenv\n",
    "import os\n",
    "\n",
    "dotenv.load_dotenv(\"../.env\")\n",
    "openai_api_key = os.getenv(\"OPENAI_API_KEY\")\n",
    "\n",
    "def create_memory_retriever():\n",
    "    embeddings_model = OpenAIEmbeddings(openai_api_key=openai_api_key)\n",
    "    embedding_size = 1536\n",
    "    index = faiss.IndexFlatL2(embedding_size)\n",
    "    vectorstore = FAISS(embeddings_model.embed_query, index, InMemoryDocstore({}), {})\n",
    "    retriever = TimeWeightedVectorStoreRetriever(\n",
    "        vectorstore=vectorstore,\n",
    "        otherScoreKeys=[\"importance\"],\n",
    "        k=15\n",
    "    )\n",
    "    return retriever\n",
    "\n",
    "USER_NAME = \"Person A\"  # The name you want to use when interviewing the agent.\n",
    "LLM = ChatOpenAI(\n",
    "    openai_api_key=openai_api_key,\n",
    "    model_name=\"gpt-3.5-turbo\",\n",
    "    max_tokens=1500,\n",
    "    temperature=1\n",
    ")\n",
    "\n",
    "tommies_memory = GenerativeAgentMemory(\n",
    "    llm=LLM,\n",
    "    memory_retriever=create_memory_retriever(),\n",
    "    verbose=False,\n",
    "    reflection_threshold=8,\n",
    ")\n",
    "\n",
    "tommie = GenerativeAgent(\n",
    "    name=\"Tommie\",\n",
    "    age=25,\n",
    "    innate_traits=\"anxious, likes design, talkative\",\n",
    "    learned_traits=\"Tommie is currently attending University of College and he's studying cognitive science and user design.\",\n",
    "    lifestyle=\"Tommie wakes up around 8 am, sleeps around 10 pm, and eats dinner around 7 pm.\",\n",
    "    status=\"Tommie is currently setting up a podcast to chat about the latest user design tricks.\",\n",
    "    daily_req=[],\n",
    "    daily_plan_req=\"Tommie always has to eat 3 meals a day.\",\n",
    "    f_daily_schedule=[],\n",
    "    memory_retriever=create_memory_retriever(),\n",
    "    llm=LLM,\n",
    "    memory=tommies_memory\n",
    ")"
   ]
  },
  {
   "cell_type": "code",
   "execution_count": 2,
   "metadata": {},
   "outputs": [],
   "source": [
    "# from datetime import datetime\n",
    "\n",
    "# tommie.generate_daily_req(current_day=datetime.now())\n",
    "\n",
    "# tommie.daily_req\n",
    "\n",
    "# tommie.update_status_and_daily_plan_req(current_day=datetime.now())\n",
    "\n",
    "# tommie.daily_plan_req\n",
    "# tommie.status"
   ]
  },
  {
   "cell_type": "code",
   "execution_count": 3,
   "metadata": {},
   "outputs": [],
   "source": [
    "# !<INPUT 0>! -- Schedule format\n",
    "# !<INPUT 1>! -- Commonset\n",
    "# !<INPUT 2>! -- prior_schedule\n",
    "# !<INPUT 3>! -- intermission_str\n",
    "# !<INPUT 4>! -- intermission 2\n",
    "# !<INPUT 5>! -- prompt_ending\n",
    "\n",
    "# Hourly schedule format: \n",
    "# !<INPUT 0>!\n",
    "# ===\n",
    "# !<INPUT 1>!\n",
    "# !<INPUT 2>!\n",
    "# !<INPUT 3>!!<INPUT 4>!\n",
    "# !<INPUT 5>!"
   ]
  },
  {
   "cell_type": "code",
   "execution_count": 4,
   "metadata": {},
   "outputs": [
    {
     "data": {
      "text/plain": [
       "[['sleeping', 480],\n",
       " ['waking up and getting ready for the day', 60],\n",
       " ['attending classes at University of College', 60],\n",
       " ['attending a lecture on cognitive science', 60],\n",
       " ['attending a workshop on user design', 60],\n",
       " ['having lunch', 60],\n",
       " ['continuing classes at University of College', 420],\n",
       " ['setting up a podcast to chat about the latest user design tricks', 180],\n",
       " ['sleeping', 60]]"
      ]
     },
     "execution_count": 4,
     "metadata": {},
     "output_type": "execute_result"
    }
   ],
   "source": [
    "tommie.generate_hourly_schedule_top_3(current_day=datetime.now())"
   ]
  },
  {
   "cell_type": "code",
   "execution_count": null,
   "metadata": {},
   "outputs": [],
   "source": []
  }
 ],
 "metadata": {
  "kernelspec": {
   "display_name": "discussion-agents",
   "language": "python",
   "name": "python3"
  },
  "language_info": {
   "codemirror_mode": {
    "name": "ipython",
    "version": 3
   },
   "file_extension": ".py",
   "mimetype": "text/x-python",
   "name": "python",
   "nbconvert_exporter": "python",
   "pygments_lexer": "ipython3",
   "version": "3.10.13"
  },
  "orig_nbformat": 4
 },
 "nbformat": 4,
 "nbformat_minor": 2
}
