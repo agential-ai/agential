{
 "cells": [
  {
   "cell_type": "markdown",
   "metadata": {},
   "source": [
    "## OSWorld"
   ]
  },
  {
   "cell_type": "code",
   "execution_count": null,
   "metadata": {},
   "outputs": [],
   "source": [
    "from agential.agents.OSWorldBaseline.agent import OSWorldBaselineAgent"
   ]
  },
  {
   "cell_type": "code",
   "execution_count": 8,
   "metadata": {},
   "outputs": [],
   "source": [
    "\"\"\"\n",
    "To get accessibility_tree, retreive obs by running this line\n",
    "- obs, reward, done, info = env.step(\"pyautogui.rightClick()\")\n",
    "- obs[\"accessibility_tree\"]\n",
    "\"\"\"\n",
    "with open(\"accessibility_tree.txt\", \"r\", encoding=\"utf-8\") as file:\n",
    "    accessibility_tree = file.read()\n",
    "\n",
    "instruction = \"Please help me to find the nearest restaurant.\"\n",
    "\n",
    "\"\"\"\n",
    "Image of screen is to be provided by user\n",
    "\"\"\"\n",
    "obs = {\"screenshot\": open(\"output_image.jpeg\", 'rb').read()}\n"
   ]
  },
  {
   "cell_type": "code",
   "execution_count": 4,
   "metadata": {},
   "outputs": [],
   "source": [
    "agent = OSWorldBaselineAgent(\n",
    "    model=\"gpt-4o\",\n",
    "    observation_type=\"screenshot\",\n",
    ")"
   ]
  },
  {
   "cell_type": "code",
   "execution_count": 5,
   "metadata": {},
   "outputs": [],
   "source": [
    "response, actions, messages = agent.generate(instruction, obs)"
   ]
  },
  {
   "cell_type": "code",
   "execution_count": null,
   "metadata": {},
   "outputs": [],
   "source": [
    "print(f\"Response: {response}\")\n",
    "print(f\"Actions: {actions}\")\n",
    "print(f\"Messages: {messages}\")"
   ]
  }
 ],
 "metadata": {
  "kernelspec": {
   "display_name": "Python 3.11.11 ('agential')",
   "language": "python",
   "name": "python3"
  },
  "language_info": {
   "codemirror_mode": {
    "name": "ipython",
    "version": 3
   },
   "file_extension": ".py",
   "mimetype": "text/x-python",
   "name": "python",
   "nbconvert_exporter": "python",
   "pygments_lexer": "ipython3",
   "version": "3.11.11"
  },
  "orig_nbformat": 4,
  "vscode": {
   "interpreter": {
    "hash": "5395d60bee98fd71c9d354a5953f895827353ba27396e461a44062dbf07942d0"
   }
  }
 },
 "nbformat": 4,
 "nbformat_minor": 2
}
