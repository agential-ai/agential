{
 "cells": [
  {
   "cell_type": "markdown",
   "metadata": {},
   "source": [
    "## OSWorld"
   ]
  },
  {
   "cell_type": "code",
   "execution_count": null,
   "metadata": {},
   "outputs": [],
   "source": [
    "from agential.agents.OSWorldBaseline.agent import OSWorldBaselineAgent"
   ]
  },
  {
   "cell_type": "code",
   "execution_count": 8,
   "metadata": {},
   "outputs": [],
   "source": [
    "\"\"\"\n",
    "To get accessibility_tree, retreive obs by running this line\n",
    "- obs, reward, done, info = env.step(\"pyautogui.rightClick()\")\n",
    "- obs[\"accessibility_tree\"]\n",
    "\"\"\"\n",
    "with open(\"accessibility_tree.txt\", \"r\", encoding=\"utf-8\") as file:\n",
    "    accessibility_tree = file.read()\n",
    "\n",
    "instruction = \"Please help me to find the nearest restaurant.\"\n",
    "\n",
    "\"\"\"\n",
    "Image of screen is to be provided by user\n",
    "\"\"\"\n",
    "obs = {\"screenshot\": open(\"output_image.jpeg\", 'rb').read()}\n"
   ]
  },
  {
   "cell_type": "code",
   "execution_count": 4,
   "metadata": {},
   "outputs": [],
   "source": [
    "agent = OSWorldBaselineAgent(\n",
    "    model=\"gpt-4o\",\n",
    "    observation_type=\"screenshot\",\n",
    ")"
   ]
  },
  {
   "cell_type": "code",
   "execution_count": 5,
   "metadata": {},
   "outputs": [],
   "source": [
    "response, actions, messages = agent.generate(instruction, obs)"
   ]
  },
  {
   "cell_type": "code",
   "execution_count": null,
   "metadata": {},
   "outputs": [],
   "source": [
    "print(f\"Response: {response}\")\n",
    "print(f\"Actions: {actions}\")\n",
    "print(f\"Messages: {messages}\")"
   ]
  },
  {
   "cell_type": "code",
   "execution_count": 65,
   "metadata": {},
   "outputs": [],
   "source": [
    "import logging\n",
    "import dashscope\n",
    "from dashscope.api_entities.dashscope_response import GenerationResponse\n",
    "from http import HTTPStatus\n",
    "\n",
    "logger = logging.getLogger(\"desktopenv.agent\")"
   ]
  },
  {
   "cell_type": "code",
   "execution_count": 67,
   "metadata": {},
   "outputs": [],
   "source": [
    "from agential.agents.OSWorldBaseline.functional import (\n",
    "    encode_image,\n",
    "    encoded_img_to_pil_img,\n",
    "    save_to_tmp_img_file,\n",
    "    linearize_accessibility_tree,\n",
    "    tag_screenshot,\n",
    "    parse_actions_from_string,\n",
    "    parse_code_from_string,\n",
    "    parse_code_from_som_string,\n",
    "    trim_accessibility_tree\n",
    ")"
   ]
  },
  {
   "cell_type": "code",
   "execution_count": 68,
   "metadata": {},
   "outputs": [],
   "source": [
    "flag = 0\n",
    "model = \"qwen-vl-plus\"\n",
    "qwen_messages = []\n",
    "\n",
    "for i, message in enumerate(messages):\n",
    "    qwen_message = {\n",
    "        \"role\": message[\"role\"],\n",
    "        \"content\": []\n",
    "    }\n",
    "    assert len(message[\"content\"]) in [1, 2], \"One text, or one text with one image\"\n",
    "    for part in message[\"content\"]:\n",
    "        qwen_message['content'].append(\n",
    "            {\"image\": \"file://\" + save_to_tmp_img_file(part['image_url']['url'])}) if part[\n",
    "                                                                                            'type'] == \"image_url\" else None\n",
    "        qwen_message['content'].append({\"text\": part['text']}) if part['type'] == \"text\" else None\n",
    "\n",
    "    qwen_messages.append(qwen_message)"
   ]
  },
  {
   "cell_type": "code",
   "execution_count": 69,
   "metadata": {},
   "outputs": [],
   "source": [
    "\n",
    "\n",
    "while True:\n",
    "    try:\n",
    "        if flag > 20:\n",
    "            break\n",
    "        logger.info(\"Generating content with model: %s\", model)\n",
    "\n",
    "        response = GenerationResponse(status_code = 0)\n",
    "\n",
    "        if model in [\"qwen-vl-plus\", \"qwen-vl-max\"]:\n",
    "            response = dashscope.MultiModalConversation.call(\n",
    "                model=model,\n",
    "                messages=qwen_messages,\n",
    "                result_format=\"message\",\n",
    "                max_length=1500,\n",
    "                top_p=0.9,\n",
    "                temperature=0.5\n",
    "            )\n",
    "\n",
    "        elif model in [\"qwen-turbo\", \"qwen-plus\", \"qwen-max\", \"qwen-max-0428\", \"qwen-max-0403\",\n",
    "                            \"qwen-max-0107\", \"qwen-max-longcontext\"]:\n",
    "            response = dashscope.Generation.call(\n",
    "                model=model,\n",
    "                messages=qwen_messages,\n",
    "                result_format=\"message\",\n",
    "                max_length=1500,\n",
    "                top_p=0.9,\n",
    "                temperature=0.5\n",
    "            )\n",
    "\n",
    "        else:\n",
    "            raise ValueError(\"Invalid model: \" + model)\n",
    "\n",
    "        if response.status_code == HTTPStatus.OK:\n",
    "            break\n",
    "        else:\n",
    "            logger.error('Request id: %s, Status code: %s, error code: %s, error message: %s' % (\n",
    "                response.request_id, response.status_code,\n",
    "                response.code, response.message\n",
    "            ))\n",
    "            print(response.request_id)\n",
    "            raise Exception(\"Failed to call LLM: \" + response.message)\n",
    "    except:\n",
    "        if flag == 0:\n",
    "            qwen_messages = [qwen_messages[0]] + qwen_messages[-1:]\n",
    "        else:\n",
    "            for i in range(len(qwen_messages[-1][\"content\"])):\n",
    "                if \"text\" in qwen_messages[-1][\"content\"][i]:\n",
    "                    qwen_messages[-1][\"content\"][i][\"text\"] = ' '.join(\n",
    "                        qwen_messages[-1][\"content\"][i][\"text\"].split()[:-500])\n",
    "        flag = flag + 1"
   ]
  },
  {
   "cell_type": "code",
   "execution_count": 70,
   "metadata": {},
   "outputs": [
    {
     "name": "stdout",
     "output_type": "stream",
     "text": [
      "{\"status_code\": 0, \"request_id\": \"\", \"code\": \"\", \"message\": \"\", \"output\": null, \"usage\": null}\n"
     ]
    }
   ],
   "source": [
    "print(response)"
   ]
  },
  {
   "cell_type": "code",
   "execution_count": null,
   "metadata": {},
   "outputs": [],
   "source": []
  }
 ],
 "metadata": {
  "kernelspec": {
   "display_name": "Python 3.11.11 ('agential')",
   "language": "python",
   "name": "python3"
  },
  "language_info": {
   "codemirror_mode": {
    "name": "ipython",
    "version": 3
   },
   "file_extension": ".py",
   "mimetype": "text/x-python",
   "name": "python",
   "nbconvert_exporter": "python",
   "pygments_lexer": "ipython3",
   "version": "3.11.11"
  },
  "orig_nbformat": 4,
  "vscode": {
   "interpreter": {
    "hash": "5395d60bee98fd71c9d354a5953f895827353ba27396e461a44062dbf07942d0"
   }
  }
 },
 "nbformat": 4,
 "nbformat_minor": 2
}
