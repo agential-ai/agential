{
 "cells": [
  {
   "cell_type": "markdown",
   "metadata": {},
   "source": [
    "## OSWorld"
   ]
  },
  {
   "cell_type": "code",
   "execution_count": null,
   "metadata": {},
   "outputs": [],
   "source": [
    "from agential.agents.OSWorldBaseline.agent import OSWorldBaselineAgent"
   ]
  },
  {
   "cell_type": "code",
   "execution_count": 8,
   "metadata": {},
   "outputs": [],
   "source": [
    "\"\"\"\n",
    "To get accessibility_tree, retreive obs by running this line\n",
    "- obs, reward, done, info = env.step(\"pyautogui.rightClick()\")\n",
    "- obs[\"accessibility_tree\"]\n",
    "\"\"\"\n",
    "with open(\"accessibility_tree.txt\", \"r\", encoding=\"utf-8\") as file:\n",
    "    accessibility_tree = file.read()\n",
    "\n",
    "instruction = \"Please help me to find the nearest restaurant.\"\n",
    "\n",
    "\"\"\"\n",
    "Image of screen is to be provided by user\n",
    "\"\"\"\n",
    "obs = {\"screenshot\": open(\"output_image.jpeg\", 'rb').read()}\n"
   ]
  },
  {
   "cell_type": "code",
   "execution_count": 4,
   "metadata": {},
   "outputs": [],
   "source": [
    "agent = OSWorldBaselineAgent(\n",
    "    model=\"gpt-4o\",\n",
    "    observation_type=\"screenshot\",\n",
    ")"
   ]
  },
  {
   "cell_type": "code",
   "execution_count": 5,
   "metadata": {},
   "outputs": [],
   "source": [
    "response, actions, messages = agent.generate(instruction, obs)"
   ]
  },
  {
   "cell_type": "code",
   "execution_count": null,
   "metadata": {},
   "outputs": [],
   "source": [
    "print(f\"Response: {response}\")\n",
    "print(f\"Actions: {actions}\")\n",
    "print(f\"Messages: {messages}\")"
   ]
  },
  {
   "cell_type": "code",
   "execution_count": 57,
   "metadata": {},
   "outputs": [],
   "source": [
    "import re\n",
    "input_string = \"Here is some text; ```python\\ncode snippet here\\nWAIT```\""
   ]
  },
  {
   "cell_type": "code",
   "execution_count": 62,
   "metadata": {},
   "outputs": [],
   "source": [
    "input_string = \"\\n\".join([line.strip() for line in input_string.split(';') if line.strip()])\n",
    "if input_string.strip() in ['WAIT', 'DONE', 'FAIL']:\n",
    "    print([input_string.strip()])\n",
    "\n",
    "pattern = r\"```(?:\\w+\\s+)?(.*?)```\"\n",
    "matches = re.findall(pattern, input_string, re.DOTALL)\n",
    "\n",
    "codes = []\n"
   ]
  },
  {
   "cell_type": "code",
   "execution_count": 59,
   "metadata": {},
   "outputs": [
    {
     "data": {
      "text/plain": [
       "['code snippet here\\nWAIT']"
      ]
     },
     "execution_count": 59,
     "metadata": {},
     "output_type": "execute_result"
    }
   ],
   "source": [
    "matches"
   ]
  },
  {
   "cell_type": "code",
   "execution_count": 63,
   "metadata": {},
   "outputs": [
    {
     "name": "stdout",
     "output_type": "stream",
     "text": [
      "1: ['code snippet here']\n",
      "2: ['code snippet here', 'WAIT']\n"
     ]
    }
   ],
   "source": [
    "for match in matches:\n",
    "    match = match.strip()\n",
    "    commands = ['WAIT', 'DONE', 'FAIL']  # fixme: updates this part when we have more commands\n",
    "\n",
    "    if match in commands:\n",
    "        codes.append(match.strip())\n",
    "    elif match.split('\\n')[-1] in commands:\n",
    "        if len(match.split('\\n')) > 1:\n",
    "            codes.append(\"\\n\".join(match.split('\\n')[:-1]))\n",
    "            print(f\"1: {codes}\")\n",
    "        codes.append(match.split('\\n')[-1])\n",
    "        print(f\"2: {codes}\")\n",
    "    else:\n",
    "        codes.append(match)"
   ]
  },
  {
   "cell_type": "code",
   "execution_count": 64,
   "metadata": {},
   "outputs": [
    {
     "name": "stdout",
     "output_type": "stream",
     "text": [
      "code snippet here\n"
     ]
    }
   ],
   "source": [
    "print(\"\\n\".join(match.split('\\n')[:-1]))"
   ]
  },
  {
   "cell_type": "code",
   "execution_count": 55,
   "metadata": {},
   "outputs": [
    {
     "name": "stdout",
     "output_type": "stream",
     "text": [
      "WAIT\n",
      "DONE\n",
      "FAIL\n"
     ]
    }
   ],
   "source": [
    "print(input_string.strip())"
   ]
  },
  {
   "cell_type": "code",
   "execution_count": null,
   "metadata": {},
   "outputs": [],
   "source": [
    "matches = re.findall(pattern, input_string, re.DOTALL)"
   ]
  }
 ],
 "metadata": {
  "kernelspec": {
   "display_name": "Python 3.11.11 ('agential')",
   "language": "python",
   "name": "python3"
  },
  "language_info": {
   "codemirror_mode": {
    "name": "ipython",
    "version": 3
   },
   "file_extension": ".py",
   "mimetype": "text/x-python",
   "name": "python",
   "nbconvert_exporter": "python",
   "pygments_lexer": "ipython3",
   "version": "3.11.11"
  },
  "orig_nbformat": 4,
  "vscode": {
   "interpreter": {
    "hash": "5395d60bee98fd71c9d354a5953f895827353ba27396e461a44062dbf07942d0"
   }
  }
 },
 "nbformat": 4,
 "nbformat_minor": 2
}
