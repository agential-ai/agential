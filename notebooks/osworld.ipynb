{
 "cells": [
  {
   "cell_type": "markdown",
   "metadata": {},
   "source": [
    "## OSWorld"
   ]
  },
  {
   "cell_type": "code",
   "execution_count": null,
   "metadata": {},
   "outputs": [],
   "source": [
    "from agential.agents.OSWorldBaseline.agent import OSWorldBaselineAgent\n",
    "from agential.core.llm import LLM"
   ]
  },
  {
   "cell_type": "code",
   "execution_count": null,
   "metadata": {},
   "outputs": [],
   "source": [
    "\"\"\"\n",
    "To get accessibility_tree, retreive obs by running this line\n",
    "- obs, reward, done, info = env.step(\"pyautogui.rightClick()\")\n",
    "- obs[\"accessibility_tree\"]\n",
    "\"\"\"\n",
    "with open(\"../tests/assets/osworldbaseline/accessibility_tree.txt\", \"r\", encoding=\"utf-8\") as file:\n",
    "    accessibility_tree = file.read()\n",
    "    \n",
    "\"\"\"\n",
    "Image of screen is to be provided by user\n",
    "\"\"\"\n",
    "obs = {\"screenshot\": open(\"../tests/assets/osworldbaseline/output_image.jpeg\", 'rb').read()}\n"
   ]
  },
  {
   "cell_type": "code",
   "execution_count": null,
   "metadata": {},
   "outputs": [],
   "source": [
    "\"\"\"\n",
    "Possible Params:\n",
    "    platform (str): The platform on which the agent operates (e.g., 'ubuntu').\n",
    "    model (BaseLLM): The language model used for generating responses and processing instructions.\n",
    "    max_tokens (int): Maximum tokens for the response.\n",
    "    top_p (float): Probability mass for nucleus sampling.\n",
    "    temperature (float): Temperature parameter for controlling randomness.\n",
    "    action_space (str): The available action space for the agent.\n",
    "    observation_type (str): The type of observation provided (e.g., 'screenshot', 'a11y_tree').\n",
    "    max_trajectory_length (int): Maximum steps allowed in a trajectory.\n",
    "    a11y_tree_max_tokens (int): Maximum tokens for accessibility tree observations.\n",
    "    testing (bool): If the agent is in testing mode.\n",
    "    benchmark (str): The benchmark name the agent is designed for.\n",
    "    strategy (OSWorldBaseStrategy): The strategy used by the agent.\n",
    "    thoughts (List): Accumulated thoughts during the agent's operation.\n",
    "    actions (List): Actions taken by the agent.\n",
    "    observations (List): Observations received by the agent.\n",
    "\"\"\"\n",
    "instruction = \"Please help me to find the nearest restaurant.\"\n",
    "\n",
    "agent = OSWorldBaselineAgent(\n",
    "    model=LLM(model=\"gpt-4o\"),\n",
    "    observation_type=\"screenshot\",\n",
    ")"
   ]
  },
  {
   "cell_type": "code",
   "execution_count": null,
   "metadata": {},
   "outputs": [],
   "source": [
    "response, actions, messages = agent.generate(instruction, obs)"
   ]
  },
  {
   "cell_type": "code",
   "execution_count": null,
   "metadata": {},
   "outputs": [],
   "source": [
    "print(f\"Response: {response}\")\n",
    "print(f\"Actions: {actions}\")\n",
    "print(f\"Messages: {messages}\")"
   ]
  }
 ],
 "metadata": {
  "kernelspec": {
   "display_name": "Python 3.11.11 ('agential')",
   "language": "python",
   "name": "python3"
  },
  "language_info": {
   "codemirror_mode": {
    "name": "ipython",
    "version": 3
   },
   "file_extension": ".py",
   "mimetype": "text/x-python",
   "name": "python",
   "nbconvert_exporter": "python",
   "pygments_lexer": "ipython3",
   "version": "3.11.11"
  },
  "orig_nbformat": 4,
  "vscode": {
   "interpreter": {
    "hash": "5395d60bee98fd71c9d354a5953f895827353ba27396e461a44062dbf07942d0"
   }
  }
 },
 "nbformat": 4,
 "nbformat_minor": 2
}
