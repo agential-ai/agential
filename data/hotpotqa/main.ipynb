{
 "cells": [
  {
   "cell_type": "code",
   "execution_count": 7,
   "metadata": {},
   "outputs": [
    {
     "name": "stdout",
     "output_type": "stream",
     "text": [
      "VIVA Media AG changed it's name in 2004. What does their new acronym stand for?\n",
      "Gesellschaft mit beschränkter Haftung\n",
      "Which of Jonny Craig and Pete Doherty has been a member of more bands ?\n",
      "Jonny\" Craig\n",
      "Where was the first governor after the The Missouri Compromise from?\n",
      "Bath, Maine\n",
      "The creator of \"Wallace and Gromit\" also created what animation comedy that matched animated zoo animals with a soundtrack of people talking about their homes? \n",
      "Creature Comforts\n",
      "Woman's Era and Naj are what kind of magazines?\n",
      "fortnightly women interest magazine\n",
      "The Rome Protocols were signed by three Prime Ministers one of which was assassinated as part of what?\n",
      "a failed coup attempt\n",
      "Jaclyn Stapp is married to the former frontman of a band that disbanded in what year?\n",
      "2004\n",
      " If You Ever Get Lonely was covered by what Lyric Street Records-affiliated band?\n",
      "Love and Theft\n",
      "When was the  Argentine former footballer which  Dutch manager Ronald Koeman replaced in  2014–15 Southampton F.C. season born\n",
      "2 March 1972\n",
      "Which character does this protagonist, who secretly loves and marries a member of the rival house, of William Shakespeare's tragedy that has a fictional character Benvolio slay?\n",
      "Tybalt\n",
      "Stronger Together was used for the campaign comprised of the Vice Presidential candidate who was a Senator from what state?\n",
      "Virginia\n",
      "Are Darren Benjamin Shepherd and Rémi Lange both American?\n",
      "no\n",
      "The head of the Foreign Relations Department of the Rastriya Janashakti Party holds a degree that can be abbreviated MS, M.S., or ScM, in what field?\n",
      "Engineering\n",
      "Lollipop Chainsaw featured Juliet Starling, who was voiced by a Canadian-American actress who has done voice roles for what Teen Titans spinoff series?\n",
      "Teen Titans Go!\n",
      "What team was led to victory in 1939 by a two-time All-American basketball player nicknamed \"Scat\"?\n",
      "Oklahoma Sooners\n",
      "This expansion of the 2008 magazine article \"Is Google Making Us Stoopid?\" was a finalist for what award?\n",
      "Pulitzer Prize\n",
      "What year did The Chronicle of Philanthropy's publishing overlap with Antic?\n",
      "1988\n",
      "The W. H. Shipman House is in what Hawaii county?\n",
      "Hawaii County\n",
      "The trophy given to the winner of the college football game between University of Idaho Vandals and University of Montana Grizzlies is derived from which European culture?\n",
      "German\n",
      "What stadium does the team who has Kent Baer as the defensive coordinator play its home games?\n",
      "Sam Boyd Stadium\n",
      "Operation Cold Comfort was a failed raid by a special forces unit founded in what year?\n",
      "1941\n",
      "The organization that Nicolae Titulescu served two terms as president was founded on what date?\n",
      "10 January 1920\n",
      "What is Opry Mills in Nashville, Tennessee?\n",
      "super-regional shopping mall\n",
      "Ed Oxenbould plays Tyler in a film directed by which famous director?\n",
      "M. Night Shyamalan\n",
      "Sadok Sassi played for a national team that made its first World Cup in what year?\n",
      "1978\n",
      "Otterington railway station was on a 393 mi major railway that linked Edinburgh to what city?\n",
      "London\n",
      "Are both Coldplay and Pierre Bouvier from the same country?\n",
      "no\n",
      "This term about a playwright who lived from 1564-1616 presented what about his works? \n",
      "chronological collection of critical quotations\n",
      "What is the birthday of this Anglo-Irish actress, courtean, and mistress, who was the mother to the illegitimate daughter of King William IV?\n",
      "22 November\n",
      "Kenneth L. Gile is the Chief Operating Officer of an airline with its head office in what airport?\n",
      "Dubai International Airport\n",
      "In what state is the manufacturer of Bisquick headquartered?\n",
      "Minnesota\n",
      "In what year was the singer who popularized \"I'll Keep the Lovelight Burning\" born?\n",
      "1927\n",
      "In which movie the Stephanie Kay Panabaker was alongside with her elder sister Danielle Nicole Panabaker?\n",
      "\"Read It and Weep\" (2006)\n",
      "Is Velvetpark or Shape magazine written more for a lesbian and queer-identified female readership?\n",
      "Velvetpark\n",
      "Which restaurant chain's headquarters is further north, Pizza Inn or Papa Gino's?\n",
      "Papa Gino's\n",
      "whats the famous bavagheet by arun date?\n",
      "Shukratara\n",
      "Grown-Ups starred the actor who was best known for which role on  \"'Allo 'Allo!\"?\n",
      "Captain Hans Geering\n",
      "who is a British physicist  and also a  British government's chief scientific adviser\n",
      "Frederick Alexander\n",
      "Howard Van Doren Shaw was the designer of which 1917 Progressive Era community? \n",
      "Marktown\n",
      "Which contest in California pays homage to an American novelist that won the Novel Prize in Literature in 1954?\n",
      "The Bad Hemingway Contest\n",
      "What is the subsidiary of the record company who released \"Love Incredible?\"\n",
      "Vivendi S.A.\n",
      "Beer Wars covers the differences between large corporate breweries, and small breweries, such as what brewery that is headquartered in Escondido, california?\n",
      "Stone Brewing\n",
      "Who did Muhummad Ali fight next, in Houston, after the so-called Fight of the Century with Joe Frazier?\n",
      "Jimmy Ellis\n",
      "What is represented on the cover art of the studio album that includes the song \"Speed of Sound\"?\n",
      "Baudot code\n",
      "Which professional tennis player was born first, Lucie Hradecká or Raffaella Reggi?\n",
      "Raffaella Reggi\n",
      "What building is opposite the ceremonial meeting place of the Accession Council in the United Kingdom?\n",
      "Mark Masons' Hall\n",
      "Are both Duke Energy and Affiliated Managers Group based in Massachusetts?\n",
      "no\n",
      "Janne Kyttanen has had work exhibited at which modern art museum in Amsterdam?\n",
      "Stedelijk Museum Amsterdam\n",
      "What company did Rex Maughan aquire?\n",
      "Aloe Vera of America\n",
      "The role of \"Celene\" in the film \"Walk All over Me\" was played by an actress that voices what role in the \"Starcraft 2\" triolgy?\n",
      "Sarah Kerrigan\n",
      "Which FC Barcelona signee was a contender for the Rookie of the Year Award when he played for the Timberwolves?\n",
      "Ricard Rubio i Vives\n",
      "Wolf and Sheep was screened at which 2016 film festival?\n",
      "69th Cannes Film Festival\n",
      "What is the first name of Jack Benny Binion's father?\n",
      "Lester\n",
      "Which episode of SpongeBob SquarePants aired first, The Clash of Triton or To SquarePants or Not to SquarePants?\"\n",
      "To SquarePants or Not to SquarePants\n",
      "Are Ruggero Deodato from Italy, and Mexican Alejandro Springall, both film directors?\n",
      "yes\n",
      "Which professional baseball player was born in 1984 and played as a rookie for the Los Angeles Dogers in 2007?\n",
      "Matthew Ryan Kemp\n",
      "Who is the lead vocalist for Maroon 5's sixth studio album?\n",
      "Adam Levine\n",
      "Where is the company that distributed XXXTentacion's single \"Revenge\" based?\n",
      "San Francisco, California\n",
      "\"Text Me Merry Christmas\" is a song performed by Kristen Bell and a group that originated at what univeristy?\n",
      "Indiana University\n",
      "This Celtic ruler who was born in AD 43 ruled southeastern Britain prior to conquest by which empire?\n",
      "Roman\n",
      "Which other film did one of the supporting cast in \"Sleepless in Seattle\" appear?\n",
      "\"Now and Then\" (1995)\n",
      "Who is this American cartoonist, writer, producer, animator, and voice actor that worked with this multiple Shuster Award, Harvey Award and Eisner Award nominee and an Eisner Award–winning comic book creator?\n",
      "Matt Groening\n",
      "What creature of American folklore gained notoriety in 1964?\n",
      "Dewey Lake Monster\n",
      "What CBS-affiliated station serves Pontotoc County, Oklahoma?\n",
      "KXII\n",
      "What is the mascot of the oldest private university in Georgia?\n",
      "The Bears\n",
      "Who directed the 1940 film in which John Arledge appeared?\n",
      "John Ford\n",
      "Alice David is the voice of Lara Croft in a video game developed by which company ?\n",
      "Crystal Dynamics\n",
      "Which German project recorded a song that featured vocals by a duo from Silverdale, England?\n",
      "Enigma\n",
      "Which facility was founded in Missouri, Discovery Zone or Valentino's?\n",
      "Discovery Zone\n",
      "What occupations do both Ian Hunter and Rob Thomas have?\n",
      "singer, songwriter\n",
      "Which services did Rock Nominees Ltd and  ISS A/S (Integrated Service Solutions) have in common?\n",
      "cleaning, catering and security\n",
      "Which movie was filmed first \"The Guest\" or \"You're Next\"?\n",
      "You're Next\n",
      "During what war were the Russia-United Kingdom relations in a state of rivalry after the abdication of Emperor Nicholas II? \n",
      "the Cold War (1947–91)\n",
      "Flower Alley was bred by the trainer who was killed at what Fayette County, Kentucky airport?\n",
      "Blue Grass Airport\n",
      "How many different schools does the university, in which Andrew J. Elliot is a professor of psychology, have?\n",
      "six\n",
      "Loughborough Students' Union serves the students at what public research university that has been a university since 1966, but the institution dates back to 1909?\n",
      "Loughborough University\n",
      "In what european city is a location of the college from which the woman known as Comic Book Girl 19 received her degree?\n",
      "Lacoste, France\n",
      "Kam Heskin plays Paige Morgan in a 2004 film directed by who?\n",
      "Martha Coolidge\n",
      "What was a series of battles during the Revolutionary War, for control of New York City and the state of New Jersey, fought on October 28, 1776 near White Plains, New York?\n",
      "New York and New Jersey campaign\n",
      "In what year was the Sayrevill, New Jersey rock band that Frankie LaRocka played drums for formed?\n",
      "1983\n",
      "The series of novels that reference numerous locations and incorporates themes from multiple genres is titled what?\n",
      "The Dark Tower\n",
      "The 53rd National Hockey League All-Star Game took place at the indoor arena that was completed in what year?\n",
      "1998\n",
      "Where does Śivarāma Swami conduct courses on Vaishnava Theology?\n",
      "in the village of Aldenham\n",
      "What is the given name of the character depicted as Juliet Hulme in Heavenly Creatures?\n",
      "Anne Perry\n",
      "In what state did this band form that is an American metalcore band, founded in mid-2009, and whose lead vocalist was Jerry Roush?\n",
      "California\n",
      "Who wrote the book that inspired the name of the CD/DVD \"Here at the End of All Things\"?\n",
      "J. R. R. Tolkien\n",
      "Where was the original line of the railroad William Howard worked for?\n",
      "the port of Baltimore west to Sandy Hook\n",
      "What band did Gator Country guitarist that co-wrote Bloody Reunion come from?\n",
      "Molly Hatchet\n",
      "Jessica Jones is a television series created for Netflix, the second in the series of the shows that lead to \"The Defenders\" miniseries after what show released on Netflix earlier?\n",
      "Daredevil\n",
      "Which type of character is featured by the P.L. Travers's third book and last novel in the \"Mary Poppins\" series?\n",
      "fictional character\n",
      "The Livesey Hal War Memorial commemorates the fallen of which war, that had over 60 million casualties?\n",
      "World War II\n",
      "What is the name of the executive producer of the film that has a score composed by Jerry Goldsmith?\n",
      "Ronald Shusett\n",
      "Eric Ambler and Carol Shields are both best Known for what profession?\n",
      "author\n",
      "David Huntsinger has worked with this gospel singer born in the month of July?\n",
      "Larnelle Harris\n",
      "What film adaptation do both Jerome Bernard and Ira Lewis have in common?\n",
      "Chinese Coffee\n",
      "The chicken is a type of dance pattern that is a change of pace of what dance?\n",
      "the Twist\n",
      "What profession does John Lanchester and Alan Dean Foster have in common?\n",
      "novelist\n",
      "Are both Lygodium or Maxillaria a genus of orchids?\n",
      "no\n",
      "What city does Paul Clyne and David Soares have in common?\n",
      "New York\n",
      "What giant silverware company was started as a religious Utopian group and was for many years run by Pierrepont Noyes?\n",
      "Oneida Limited\n"
     ]
    }
   ],
   "source": [
    "import joblib\n",
    "\n",
    "a = joblib.load('hotpot-qa-distractor-sample.joblib')\n",
    "for idx, row in a.iterrows():\n",
    "    print(row.question)\n",
    "    print(row.answer)"
   ]
  },
  {
   "cell_type": "code",
   "execution_count": null,
   "metadata": {},
   "outputs": [],
   "source": [
    "import random\n",
    "import json\n",
    "import pickle\n",
    "\n",
    "file_name = 'hotpot_dev_v1_simplified.json'\n",
    "save_file_name = 'hotpot_dev_v1_simplified'\n",
    "sample_size = 500\n",
    "seed = 42\n",
    "\n",
    "random.seed(seed)\n",
    "\n",
    "with open(file_name, 'r') as file:\n",
    "    data = json.load(file)\n",
    "\n",
    "indices = list(range(len(data)))\n",
    "random.shuffle(indices)\n",
    "\n",
    "with open(f\"{save_file_name}_s{seed}_indices.pkl\", 'wb') as f:\n",
    "    pickle.dump(indices, f)\n",
    "\n",
    "data = [data[i] for i in indices[:sample_size]]\n",
    "\n",
    "with open(f\"{save_file_name}_s{seed}_sample{sample_size}.json\", 'w') as json_file:\n",
    "    json.dump(data, json_file, indent=4)\n"
   ]
  },
  {
   "cell_type": "code",
   "execution_count": 3,
   "metadata": {},
   "outputs": [],
   "source": [
    "# !pip install huggingface-hub\n",
    "# !huggingface-cli login"
   ]
  },
  {
   "cell_type": "code",
   "execution_count": 4,
   "metadata": {},
   "outputs": [],
   "source": [
    "import json\n",
    "\n",
    "with open('../../data/hotpotqa/hotpot_dev_v1_simplified_s42_sample500.json', 'r') as file:\n",
    "    data = json.load(file)"
   ]
  },
  {
   "cell_type": "code",
   "execution_count": 9,
   "metadata": {},
   "outputs": [],
   "source": [
    "from collections import defaultdict\n",
    "result = defaultdict(list)\n",
    "\n",
    "\n",
    "for item in data:\n",
    "    for key, value in item.items():\n",
    "        result[key].append(value)\n",
    "\n",
    "result = dict(result)"
   ]
  },
  {
   "cell_type": "code",
   "execution_count": 11,
   "metadata": {},
   "outputs": [
    {
     "data": {
      "text/plain": [
       "dict_keys(['question', 'answer', 'type'])"
      ]
     },
     "execution_count": 11,
     "metadata": {},
     "output_type": "execute_result"
    }
   ],
   "source": [
    "result.keys()"
   ]
  },
  {
   "cell_type": "code",
   "execution_count": 13,
   "metadata": {},
   "outputs": [
    {
     "data": {
      "text/plain": [
       "'What was Iqbal F. Qadir on when he participated in an attack on a radar station located on western shore of the Okhamandal Peninsula?'"
      ]
     },
     "execution_count": 13,
     "metadata": {},
     "output_type": "execute_result"
    }
   ],
   "source": [
    "result['question'][0]"
   ]
  },
  {
   "cell_type": "code",
   "execution_count": 14,
   "metadata": {},
   "outputs": [
    {
     "data": {
      "text/plain": [
       "'flotilla'"
      ]
     },
     "execution_count": 14,
     "metadata": {},
     "output_type": "execute_result"
    }
   ],
   "source": [
    "result[\"answer\"][0]"
   ]
  },
  {
   "cell_type": "code",
   "execution_count": 18,
   "metadata": {},
   "outputs": [
    {
     "name": "stderr",
     "output_type": "stream",
     "text": [
      "Creating parquet from Arrow format: 100%|██████████| 1/1 [00:00<00:00, 63.29ba/s]\n",
      "Uploading the dataset shards: 100%|██████████| 1/1 [00:00<00:00,  1.37it/s]\n",
      "c:\\Users\\tuvin\\anaconda3\\envs\\agential\\Lib\\site-packages\\huggingface_hub\\file_download.py:157: UserWarning: `huggingface_hub` cache-system uses symlinks by default to efficiently store duplicated files but your machine does not support them in C:\\Users\\tuvin\\.cache\\huggingface\\hub\\datasets--alckasoc--hotpotqa_500. Caching files will still work but in a degraded version that might require more space on your disk. This warning can be disabled by setting the `HF_HUB_DISABLE_SYMLINKS_WARNING` environment variable. For more details, see https://huggingface.co/docs/huggingface_hub/how-to-cache#limitations.\n",
      "To support symlinks on Windows, you either need to activate Developer Mode or to run Python as an administrator. In order to see activate developer mode, see this article: https://docs.microsoft.com/en-us/windows/apps/get-started/enable-your-device-for-development\n",
      "  warnings.warn(message)\n"
     ]
    },
    {
     "data": {
      "text/plain": [
       "CommitInfo(commit_url='https://huggingface.co/datasets/alckasoc/hotpotqa_500/commit/60cd24bf2a7674e8a5626ce4d378eba0603ee79c', commit_message='Upload dataset', commit_description='', oid='60cd24bf2a7674e8a5626ce4d378eba0603ee79c', pr_url=None, pr_revision=None, pr_num=None)"
      ]
     },
     "execution_count": 18,
     "metadata": {},
     "output_type": "execute_result"
    }
   ],
   "source": [
    "from datasets import Dataset\n",
    "\n",
    "dataset = Dataset.from_dict(result)\n",
    "dataset.push_to_hub(\"alckasoc/hotpotqa_500\")"
   ]
  },
  {
   "cell_type": "code",
   "execution_count": 17,
   "metadata": {},
   "outputs": [
    {
     "data": {
      "text/plain": [
       "Dataset({\n",
       "    features: ['question', 'answer', 'type'],\n",
       "    num_rows: 500\n",
       "})"
      ]
     },
     "execution_count": 17,
     "metadata": {},
     "output_type": "execute_result"
    }
   ],
   "source": [
    "dataset"
   ]
  },
  {
   "cell_type": "code",
   "execution_count": 1,
   "metadata": {},
   "outputs": [],
   "source": [
    "from datasets import load_dataset\n",
    "ds = load_dataset(\"alckasoc/hotpotqa_500\")"
   ]
  },
  {
   "cell_type": "code",
   "execution_count": 3,
   "metadata": {},
   "outputs": [
    {
     "name": "stdout",
     "output_type": "stream",
     "text": [
      "{'question': 'What was Iqbal F. Qadir on when he participated in an attack on a radar station located on western shore of the Okhamandal Peninsula?', 'answer': 'flotilla', 'type': 'bridge'}\n"
     ]
    }
   ],
   "source": [
    "for i in ds['train']:\n",
    "    print(i); break"
   ]
  },
  {
   "cell_type": "markdown",
   "metadata": {},
   "source": [
    "# HotpotQA Train"
   ]
  },
  {
   "cell_type": "code",
   "execution_count": 2,
   "metadata": {},
   "outputs": [],
   "source": [
    "import json\n",
    "\n",
    "with open('hotpot_train_v1.1_simplified.json', 'r') as f:\n",
    "    data = json.load(f)"
   ]
  },
  {
   "cell_type": "code",
   "execution_count": 4,
   "metadata": {},
   "outputs": [],
   "source": [
    "import random\n",
    "import json\n",
    "import pickle\n",
    "\n",
    "file_name = 'hotpot_train_v1.1_simplified.json'\n",
    "save_file_name = 'hotpot_train_v1.1_simplified'\n",
    "sample_size = 100\n",
    "seed = 42\n",
    "\n",
    "random.seed(seed)\n",
    "\n",
    "with open(file_name, 'r') as file:\n",
    "    data = json.load(file)\n",
    "\n",
    "indices = list(range(len(data)))\n",
    "random.shuffle(indices)\n",
    "\n",
    "with open(f\"{save_file_name}_s{seed}_indices.pkl\", 'wb') as f:\n",
    "    pickle.dump(indices, f)\n",
    "\n",
    "data = [data[i] for i in indices[:sample_size]]\n",
    "\n",
    "with open(f\"{save_file_name}_s{seed}_sample{sample_size}.json\", 'w') as json_file:\n",
    "    json.dump(data, json_file, indent=4)\n"
   ]
  },
  {
   "cell_type": "code",
   "execution_count": 5,
   "metadata": {},
   "outputs": [],
   "source": [
    "import json\n",
    "\n",
    "with open('hotpot_train_v1.1_simplified_s42_sample100.json', 'r') as file:\n",
    "    data = json.load(file)\n",
    "\n",
    "from collections import defaultdict\n",
    "result = defaultdict(list)\n",
    "\n",
    "\n",
    "for item in data:\n",
    "    for key, value in item.items():\n",
    "        result[key].append(value)\n",
    "\n",
    "result = dict(result)"
   ]
  },
  {
   "cell_type": "code",
   "execution_count": 7,
   "metadata": {},
   "outputs": [
    {
     "name": "stderr",
     "output_type": "stream",
     "text": [
      "c:\\Users\\tuvin\\anaconda3\\envs\\agential\\Lib\\site-packages\\tqdm\\auto.py:21: TqdmWarning: IProgress not found. Please update jupyter and ipywidgets. See https://ipywidgets.readthedocs.io/en/stable/user_install.html\n",
      "  from .autonotebook import tqdm as notebook_tqdm\n",
      "Creating parquet from Arrow format: 100%|██████████| 1/1 [00:00<00:00, 34.53ba/s]\n",
      "Uploading the dataset shards: 100%|██████████| 1/1 [00:00<00:00,  1.36it/s]\n"
     ]
    },
    {
     "data": {
      "text/plain": [
       "CommitInfo(commit_url='https://huggingface.co/datasets/alckasoc/hotpotqa_expel_train_100/commit/dbd4870b9acea39533666192e2f3ddaa88228de8', commit_message='Upload dataset', commit_description='', oid='dbd4870b9acea39533666192e2f3ddaa88228de8', pr_url=None, pr_revision=None, pr_num=None)"
      ]
     },
     "execution_count": 7,
     "metadata": {},
     "output_type": "execute_result"
    }
   ],
   "source": [
    "from datasets import Dataset\n",
    "\n",
    "dataset = Dataset.from_dict(result)\n",
    "dataset.push_to_hub(\"alckasoc/hotpotqa_expel_train_100\")"
   ]
  },
  {
   "cell_type": "code",
   "execution_count": 3,
   "metadata": {},
   "outputs": [
    {
     "name": "stderr",
     "output_type": "stream",
     "text": [
      "c:\\Users\\tuvin\\anaconda3\\envs\\agential\\Lib\\site-packages\\tqdm\\auto.py:21: TqdmWarning: IProgress not found. Please update jupyter and ipywidgets. See https://ipywidgets.readthedocs.io/en/stable/user_install.html\n",
      "  from .autonotebook import tqdm as notebook_tqdm\n",
      "Downloading readme: 100%|██████████| 339/339 [00:00<00:00, 3.00kB/s]\n",
      "Downloading data: 100%|██████████| 11.7k/11.7k [00:00<00:00, 19.7kB/s]\n",
      "Generating train split: 100%|██████████| 100/100 [00:00<00:00, 1152.08 examples/s]\n"
     ]
    }
   ],
   "source": [
    "from datasets import load_dataset\n",
    "\n",
    "data = load_dataset(\"alckasoc/hotpotqa_expel_train_100\")['train']\n"
   ]
  },
  {
   "cell_type": "code",
   "execution_count": 4,
   "metadata": {},
   "outputs": [
    {
     "data": {
      "text/plain": [
       "Dataset({\n",
       "    features: ['question', 'answer', 'type'],\n",
       "    num_rows: 100\n",
       "})"
      ]
     },
     "execution_count": 4,
     "metadata": {},
     "output_type": "execute_result"
    }
   ],
   "source": [
    "data"
   ]
  },
  {
   "cell_type": "code",
   "execution_count": null,
   "metadata": {},
   "outputs": [],
   "source": []
  }
 ],
 "metadata": {
  "kernelspec": {
   "display_name": "agential",
   "language": "python",
   "name": "python3"
  },
  "language_info": {
   "codemirror_mode": {
    "name": "ipython",
    "version": 3
   },
   "file_extension": ".py",
   "mimetype": "text/x-python",
   "name": "python",
   "nbconvert_exporter": "python",
   "pygments_lexer": "ipython3",
   "version": "3.11.5"
  }
 },
 "nbformat": 4,
 "nbformat_minor": 2
}
