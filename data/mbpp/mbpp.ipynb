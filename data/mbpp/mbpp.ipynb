{
 "cells": [
  {
   "cell_type": "code",
   "execution_count": 2,
   "metadata": {},
   "outputs": [],
   "source": [
    "from datasets import load_dataset\n",
    "\n",
    "ds = load_dataset(\"google-research-datasets/mbpp\", \"sanitized\")"
   ]
  },
  {
   "cell_type": "code",
   "execution_count": 3,
   "metadata": {},
   "outputs": [
    {
     "data": {
      "text/plain": [
       "DatasetDict({\n",
       "    train: Dataset({\n",
       "        features: ['source_file', 'task_id', 'prompt', 'code', 'test_imports', 'test_list'],\n",
       "        num_rows: 120\n",
       "    })\n",
       "    test: Dataset({\n",
       "        features: ['source_file', 'task_id', 'prompt', 'code', 'test_imports', 'test_list'],\n",
       "        num_rows: 257\n",
       "    })\n",
       "    validation: Dataset({\n",
       "        features: ['source_file', 'task_id', 'prompt', 'code', 'test_imports', 'test_list'],\n",
       "        num_rows: 43\n",
       "    })\n",
       "    prompt: Dataset({\n",
       "        features: ['source_file', 'task_id', 'prompt', 'code', 'test_imports', 'test_list'],\n",
       "        num_rows: 7\n",
       "    })\n",
       "})"
      ]
     },
     "execution_count": 3,
     "metadata": {},
     "output_type": "execute_result"
    }
   ],
   "source": [
    "ds"
   ]
  },
  {
   "cell_type": "code",
   "execution_count": 8,
   "metadata": {},
   "outputs": [],
   "source": [
    "from datasets import Dataset\n",
    "\n",
    "import random\n",
    "\n",
    "train_length = len(ds['train'])\n",
    "\n",
    "random_indices = random.sample(range(train_length), 100)\n",
    "\n",
    "random_data_points = [ds['train'][i] for i in random_indices]\n",
    "\n",
    "from collections import defaultdict\n",
    "result = defaultdict(list)\n",
    "\n",
    "\n",
    "for item in random_data_points:\n",
    "    for key, value in item.items():\n",
    "        result[key].append(value)\n",
    "\n",
    "result = dict(result)"
   ]
  },
  {
   "cell_type": "code",
   "execution_count": 11,
   "metadata": {},
   "outputs": [
    {
     "name": "stderr",
     "output_type": "stream",
     "text": [
      "Creating parquet from Arrow format: 100%|██████████| 1/1 [00:00<00:00, 47.60ba/s]\n",
      "Uploading the dataset shards: 100%|██████████| 1/1 [00:00<00:00,  1.19it/s]\n"
     ]
    },
    {
     "data": {
      "text/plain": [
       "CommitInfo(commit_url='https://huggingface.co/datasets/alckasoc/mbpp_expel_train_100/commit/9154554e3c4630296b85a9ba89859324d293aa38', commit_message='Upload dataset', commit_description='', oid='9154554e3c4630296b85a9ba89859324d293aa38', pr_url=None, pr_revision=None, pr_num=None)"
      ]
     },
     "execution_count": 11,
     "metadata": {},
     "output_type": "execute_result"
    },
    {
     "ename": "",
     "evalue": "",
     "output_type": "error",
     "traceback": [
      "\u001b[1;31mThe Kernel crashed while executing code in the current cell or a previous cell. \n",
      "\u001b[1;31mPlease review the code in the cell(s) to identify a possible cause of the failure. \n",
      "\u001b[1;31mClick <a href='https://aka.ms/vscodeJupyterKernelCrash'>here</a> for more info. \n",
      "\u001b[1;31mView Jupyter <a href='command:jupyter.viewOutput'>log</a> for further details."
     ]
    }
   ],
   "source": [
    "dataset = Dataset.from_dict(result)\n",
    "dataset.push_to_hub(\"alckasoc/mbpp_expel_train_100\")"
   ]
  },
  {
   "cell_type": "code",
   "execution_count": null,
   "metadata": {},
   "outputs": [],
   "source": []
  }
 ],
 "metadata": {
  "kernelspec": {
   "display_name": "agential",
   "language": "python",
   "name": "python3"
  },
  "language_info": {
   "codemirror_mode": {
    "name": "ipython",
    "version": 3
   },
   "file_extension": ".py",
   "mimetype": "text/x-python",
   "name": "python",
   "nbconvert_exporter": "python",
   "pygments_lexer": "ipython3",
   "version": "3.11.5"
  }
 },
 "nbformat": 4,
 "nbformat_minor": 2
}
