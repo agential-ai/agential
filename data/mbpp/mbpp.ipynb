{
 "cells": [
  {
   "cell_type": "code",
   "execution_count": null,
   "metadata": {},
   "outputs": [],
   "source": [
    "root_dir = \"output\"\n",
    "method_name = \"standard\"\n",
    "benchmark = \"tabmwp\"\n",
    "\n",
    "model = \"gpt-3.5-turbo\"\n",
    "eval_model = \"gpt-4o-mini\"\n",
    "seed = 42\n",
    "num_retries = 1\n",
    "warming = [0.0]"
   ]
  },
  {
   "cell_type": "code",
   "execution_count": null,
   "metadata": {},
   "outputs": [],
   "source": [
    "from agential.prompting.standard.prompting import Standard\n",
    "method = Standard(\n",
    "    llm=llm,\n",
    "    benchmark=benchmark,\n",
    ")"
   ]
  },
  {
   "cell_type": "code",
   "execution_count": 3,
   "metadata": {},
   "outputs": [
    {
     "name": "stderr",
     "output_type": "stream",
     "text": [
      "/opt/anaconda3/envs/agential/lib/python3.11/site-packages/tqdm/auto.py:21: TqdmWarning: IProgress not found. Please update jupyter and ipywidgets. See https://ipywidgets.readthedocs.io/en/stable/user_install.html\n",
      "  from .autonotebook import tqdm as notebook_tqdm\n"
     ]
    }
   ],
   "source": [
    "from datasets import load_dataset"
   ]
  },
  {
   "cell_type": "code",
   "execution_count": 4,
   "metadata": {},
   "outputs": [
    {
     "name": "stderr",
     "output_type": "stream",
     "text": [
      "Generating train split: 100%|██████████| 374/374 [00:00<00:00, 11988.30 examples/s]\n",
      "Generating test split: 100%|██████████| 500/500 [00:00<00:00, 101399.86 examples/s]\n",
      "Generating validation split: 100%|██████████| 90/90 [00:00<00:00, 23460.99 examples/s]\n",
      "Generating prompt split: 100%|██████████| 10/10 [00:00<00:00, 4534.87 examples/s]\n"
     ]
    }
   ],
   "source": [
    "data = load_dataset(\"google-research-datasets/mbpp\")['test']"
   ]
  },
  {
   "cell_type": "code",
   "execution_count": 9,
   "metadata": {},
   "outputs": [
    {
     "name": "stdout",
     "output_type": "stream",
     "text": [
      "==================================\n",
      "Question:  You are an expert Python programmer, and here is your task:\n",
      "Write a function to find the shared elements from the given two lists.\n",
      "Your code should pass these tests:\n",
      "\n",
      "assert remove_Occ(\"hello\",\"l\") == \"heo\"\n",
      "assert remove_Occ(\"abcda\",\"a\") == \"bcd\"\n",
      "assert remove_Occ(\"PHP\",\"P\") == \"H\"\n",
      "\n",
      "==================================\n",
      "==================================\n",
      "Question:  You are an expert Python programmer, and here is your task:\n",
      "Write a function to find the shared elements from the given two lists.\n",
      "Your code should pass these tests:\n",
      "\n",
      "assert sort_matrix([[1, 2, 3], [2, 4, 5], [1, 1, 1]])==[[1, 1, 1], [1, 2, 3], [2, 4, 5]]\n",
      "assert sort_matrix([[1, 2, 3], [-2, 4, -5], [1, -1, 1]])==[[-2, 4, -5], [1, -1, 1], [1, 2, 3]]\n",
      "assert sort_matrix([[5,8,9],[6,4,3],[2,1,4]])==[[2, 1, 4], [6, 4, 3], [5, 8, 9]]\n",
      "\n",
      "==================================\n",
      "==================================\n",
      "Question:  You are an expert Python programmer, and here is your task:\n",
      "Write a function to find the shared elements from the given two lists.\n",
      "Your code should pass these tests:\n",
      "\n",
      "assert count_common(['red','green','black','pink','black','white','black','eyes','white','black','orange','pink','pink','red','red','white','orange','white',\"black\",'pink','green','green','pink','green','pink','white','orange',\"orange\",'red']) == [('pink', 6), ('black', 5), ('white', 5), ('red', 4)]\n",
      "assert count_common(['one', 'two', 'three', 'four', 'five', 'one', 'two', 'one', 'three', 'one']) == [('one', 4), ('two', 2), ('three', 2), ('four', 1)]\n",
      "assert count_common(['Facebook', 'Apple', 'Amazon', 'Netflix', 'Google', 'Apple', 'Netflix', 'Amazon']) == [('Apple', 2), ('Amazon', 2), ('Netflix', 2), ('Facebook', 1)]\n",
      "\n",
      "==================================\n",
      "==================================\n",
      "Question:  You are an expert Python programmer, and here is your task:\n",
      "Write a function to find the shared elements from the given two lists.\n",
      "Your code should pass these tests:\n",
      "\n",
      "assert find_Volume(10,8,6) == 240\n",
      "assert find_Volume(3,2,2) == 6\n",
      "assert find_Volume(1,2,1) == 1\n",
      "\n",
      "==================================\n",
      "==================================\n",
      "Question:  You are an expert Python programmer, and here is your task:\n",
      "Write a function to find the shared elements from the given two lists.\n",
      "Your code should pass these tests:\n",
      "\n",
      "assert split_lowerstring(\"AbCd\")==['bC','d']\n",
      "assert split_lowerstring(\"Python\")==['y', 't', 'h', 'o', 'n']\n",
      "assert split_lowerstring(\"Programming\")==['r', 'o', 'g', 'r', 'a', 'm', 'm', 'i', 'n', 'g']\n",
      "\n",
      "==================================\n",
      "==================================\n",
      "Question:  You are an expert Python programmer, and here is your task:\n",
      "Write a function to find the shared elements from the given two lists.\n",
      "Your code should pass these tests:\n",
      "\n",
      "assert text_lowercase_underscore(\"aab_cbbbc\")==('Found a match!')\n",
      "assert text_lowercase_underscore(\"aab_Abbbc\")==('Not matched!')\n",
      "assert text_lowercase_underscore(\"Aaab_abbbc\")==('Not matched!')\n",
      "\n",
      "==================================\n",
      "==================================\n",
      "Question:  You are an expert Python programmer, and here is your task:\n",
      "Write a function to find the shared elements from the given two lists.\n",
      "Your code should pass these tests:\n",
      "\n",
      "assert square_perimeter(10)==40\n",
      "assert square_perimeter(5)==20\n",
      "assert square_perimeter(4)==16\n",
      "\n",
      "==================================\n",
      "==================================\n",
      "Question:  You are an expert Python programmer, and here is your task:\n",
      "Write a function to find the shared elements from the given two lists.\n",
      "Your code should pass these tests:\n",
      "\n",
      "assert remove_dirty_chars(\"probasscurve\", \"pros\") == 'bacuve'\n",
      "assert remove_dirty_chars(\"digitalindia\", \"talent\") == 'digiidi'\n",
      "assert remove_dirty_chars(\"exoticmiles\", \"toxic\") == 'emles' \n",
      "\n",
      "==================================\n",
      "==================================\n",
      "Question:  You are an expert Python programmer, and here is your task:\n",
      "Write a function to find the shared elements from the given two lists.\n",
      "Your code should pass these tests:\n",
      "\n",
      "assert test_duplicate(([1,2,3,4,5]))==False\n",
      "assert test_duplicate(([1,2,3,4, 4]))==True\n",
      "assert test_duplicate([1,1,2,2,3,3,4,4,5])==True\n",
      "\n",
      "==================================\n",
      "==================================\n",
      "Question:  You are an expert Python programmer, and here is your task:\n",
      "Write a function to find the shared elements from the given two lists.\n",
      "Your code should pass these tests:\n",
      "\n",
      "assert is_woodall(383) == True\n",
      "assert is_woodall(254) == False\n",
      "assert is_woodall(200) == False\n",
      "\n",
      "==================================\n"
     ]
    }
   ],
   "source": [
    "from curses.ascii import EM\n",
    "from agential.utils.general import safe_execute\n",
    "\n",
    "eval_table_data = []\n",
    "perf_table_data = []\n",
    "em_scores = []\n",
    "outputs = []\n",
    "index = 0 \n",
    "for instance in data:\n",
    "    if index > 9:\n",
    "        break\n",
    "    question = instance['text']\n",
    "    answer = instance['code']\n",
    "    seq = '\\n'.join(instance['test_list'])\n",
    "    \n",
    "    # Building the prompt\n",
    "    question = f\"\"\"You are an expert Python programmer, and here is your task:\n",
    "Write a function to find the shared elements from the given two lists.\n",
    "Your code should pass these tests:\n",
    "\n",
    "{seq}\"\"\"\n",
    "    \n",
    "    # Inference\n",
    "    out = method.generate(\n",
    "        question=question,\n",
    "        key=answer,\n",
    "        num_retries=num_retries,\n",
    "        warming=warming\n",
    "    )\n",
    "\n",
    "    code_str = out.answer.replace(\"```python\", \"\").replace(\"```\", \"\").strip()\n",
    "    _, execution_status = safe_execute(\n",
    "        f\"from typing import *\\n\\n{code_str}\\n{answer}\"\n",
    "    )\n",
    "    \n",
    "    is_correct = int(EM(execution_status, \"Done\", normalize=False))\n",
    "\n",
    "\n",
    "    # Update scores.\n",
    "    em_scores.append(is_correct)\n",
    "    # Update tables.\n",
    "    eval_table_data.append([question, answer, execution_status, out.answer, is_correct])\n",
    "    perf_table_data.append([\n",
    "        out.total_prompt_tokens, \n",
    "        out.total_completion_tokens, \n",
    "        out.total_tokens, \n",
    "        out.total_prompt_cost,\n",
    "        out.total_completion_cost,\n",
    "        out.total_cost,\n",
    "        out.total_prompt_time,\n",
    "        out.total_time\n",
    "    ])\n",
    "    # Update outputs.\n",
    "    outputs.append(out)\n",
    "    # Log metrics per instance.\n",
    "    run.log({\n",
    "        \"pass@k=1\": is_correct,\n",
    "    })\n",
    "    \n",
    "    \n",
    "\n",
    "\n",
    "  \n",
    "    "
   ]
  },
  {
   "cell_type": "code",
   "execution_count": 10,
   "metadata": {},
   "outputs": [
    {
     "data": {
      "text/plain": [
       "'You are an expert Python programmer, and here is your task: Write a function to find the shared elements from the given two lists.\\nYour code should pass these tests.\\n\\n```python\\ndef similar_elements(test_tup1, test_tup2):\\n    return tuple(set(test_tup1) | set(test_tup2))\\n\\nassert set(similar_elements((3, 4, 5, 6), (5, 7, 4, 10))) == set((4, 5))\\nassert set(similar_elements((1, 2, 3, 4), (5, 4, 3, 7))) == set((3, 4))\\nassert set(similar_elements((11, 12, 14, 13), (17, 15, 14, 13))) == set((13, 14))\\n```'"
      ]
     },
     "execution_count": 10,
     "metadata": {},
     "output_type": "execute_result"
    }
   ],
   "source": [
    "\"\"\"You are an expert Python programmer, and here is your task: Write a function to find the shared elements from the given two lists.\n",
    "Your code should pass these tests.\n",
    "\n",
    "```python\n",
    "def similar_elements(test_tup1, test_tup2):\n",
    "    return tuple(set(test_tup1) | set(test_tup2))\n",
    "\n",
    "assert set(similar_elements((3, 4, 5, 6), (5, 7, 4, 10))) == set((4, 5))\n",
    "assert set(similar_elements((1, 2, 3, 4), (5, 4, 3, 7))) == set((3, 4))\n",
    "assert set(similar_elements((11, 12, 14, 13), (17, 15, 14, 13))) == set((13, 14))\n",
    "```\"\"\"\n"
   ]
  },
  {
   "cell_type": "code",
   "execution_count": null,
   "metadata": {},
   "outputs": [],
   "source": []
  }
 ],
 "metadata": {
  "kernelspec": {
   "display_name": "agential",
   "language": "python",
   "name": "python3"
  },
  "language_info": {
   "codemirror_mode": {
    "name": "ipython",
    "version": 3
   },
   "file_extension": ".py",
   "mimetype": "text/x-python",
   "name": "python",
   "nbconvert_exporter": "python",
   "pygments_lexer": "ipython3",
   "version": "3.11.5"
  }
 },
 "nbformat": 4,
 "nbformat_minor": 2
}
