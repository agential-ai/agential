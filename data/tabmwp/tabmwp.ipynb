{
 "cells": [
  {
   "cell_type": "code",
   "execution_count": null,
   "metadata": {},
   "outputs": [],
   "source": [
    "root_dir = \"output\"\n",
    "method_name = \"standard\"\n",
    "benchmark = \"tabmwp\"\n",
    "\n",
    "model = \"gpt-3.5-turbo\"\n",
    "eval_model = \"gpt-4o-mini\"\n",
    "seed = 42\n",
    "num_retries = 1\n",
    "warming = [0.0]"
   ]
  },
  {
   "cell_type": "code",
   "execution_count": null,
   "metadata": {},
   "outputs": [],
   "source": [
    "from agential.prompting.standard.prompting import Standard\n",
    "method = Standard(\n",
    "        llm=llm,\n",
    "        benchmark=benchmark,\n",
    ")"
   ]
  },
  {
   "cell_type": "code",
   "execution_count": null,
   "metadata": {},
   "outputs": [],
   "source": [
    "from agential.core.llm import LLM\n",
    "import os\n",
    "llm = LLM(\n",
    "        model, \n",
    "        api_key = open_api,\n",
    "        temperature=0,\n",
    "        top_p=1,\n",
    "        frequency_penalty=0.0,\n",
    "        presence_penalty=0.0,\n",
    "        seed=seed\n",
    ")\n",
    "eval_llm = LLM(\n",
    "    eval_model,\n",
    "    api_key = open_api,\n",
    "    temperature=0,\n",
    "    top_p=1,\n",
    "    frequency_penalty=0.0,\n",
    "    presence_penalty=0.0,\n",
    "    seed=seed\n",
    ")"
   ]
  },
  {
   "cell_type": "code",
   "execution_count": 25,
   "metadata": {},
   "outputs": [],
   "source": [
    "from datasets import load_dataset\n",
    "\n",
    "\n",
    "data = load_dataset(\"Arietem/tabmwp\")['train']"
   ]
  },
  {
   "cell_type": "code",
   "execution_count": 32,
   "metadata": {},
   "outputs": [
    {
     "name": "stdout",
     "output_type": "stream",
     "text": [
      "true\n",
      "false\n",
      "false\n"
     ]
    }
   ],
   "source": [
    "for i in data:\n",
    "    if i['answer'] in ['true', 'false']:\n",
    "        print(i['answer'])"
   ]
  },
  {
   "cell_type": "code",
   "execution_count": 14,
   "metadata": {},
   "outputs": [],
   "source": [
    "index = 0\n",
    "question = data['train']['question'][index]\n",
    "table = data['train']['table'][index]\n",
    "answer = data['train'][\"answer\"][index]\n",
    "\n",
    "answer = str(answer).replace(',', '')\n",
    "\n",
    "question = f\"Read the following table regarding and then write Python code to answer a question:\\n\\n{table}\\n\\nQuestion: {question}\"\n"
   ]
  },
  {
   "cell_type": "code",
   "execution_count": 20,
   "metadata": {},
   "outputs": [
    {
     "name": "stdout",
     "output_type": "stream",
     "text": [
      "{'question': 'Some friends discussed the sizes of their coin collections. What is the mean of the numbers?', 'choices': None, 'answer': '84', 'unit': None, 'table_title': 'Coin collections', 'table': 'Name | Number of coins\\nBraden | 76\\nCamilla | 94\\nRick | 86\\nMary | 84\\nHector | 80\\nDevin | 83\\nEmily | 82\\nAvery | 87', 'table_for_pd': {'': None, 'A Footlong shoe': None, 'A Toes Knows shoe': None, 'A little spicy': None, 'A tent': None, 'Activity': None, 'Adult': None, 'Amount spent': None, 'Animal rights': None, 'Apartment complex': None, 'Apples': None, 'April': None, 'Arrive': None, 'August': None, 'Available Funds': None, 'Bananas eaten': None, 'Band member': None, 'Baskets': None, 'Batwing': None, 'Beautician': None, 'Beds': None, 'Begin': None, 'Beverage': None, 'Bicycle': None, 'Bookcases': None, 'Boxes of cookies': None, 'Boxes sold': None, 'Boys': None, 'Bridge': None, 'Broken tooth': None, 'Bronze status': None, 'Brown bears': None, 'Butterfly': None, 'Candidate': None, 'Candy necklaces made': None, 'Car': None, 'Cat': None, 'Cause': None, 'Cereal': None, 'Change in phone price': None, 'Change in points': None, 'Change in water level (in.)': None, 'Cheese pizzas': None, 'Cherry trees': None, 'Chicken noodle': None, 'Child': None, 'City': None, 'Class': None, 'Clean water': None, 'Club': None, 'Color': None, 'Column 1': None, 'Column 2': None, 'Column 3': None, 'Column 4': None, 'Column 5': None, 'Column 6': None, 'Committee': None, 'Company': None, 'Contribution ($)': None, 'Daisies': None, 'Date': None, 'Day': None, 'Dealership': None, 'Depart': None, 'Description': None, 'Displeased': None, 'Doctor': None, 'Dog': None, 'E-readers': None, 'Elevation (m)': None, 'Employee': None, 'End': None, 'Event': None, 'Expenses': None, 'Falcons': None, 'Farmer': None, 'Ferry': None, 'Finger puppets made': None, 'Food preparation time (minutes)': None, 'Frequency': None, 'Friday': None, 'Fruits': None, 'Fruity': None, 'Game': None, 'Games won': None, 'Gem color': None, 'Girls': None, 'Grade': None, 'Greeting cards made': None, 'Grey beard': None, 'High school': None, 'Horizontally': None, 'Hours': None, 'Hours billed': None, 'Instrument': None, 'Intake': None, 'June': None, 'Kilograms': None, 'Kilograms of food': None, 'Leaf ': None, 'Leaf rubbings made': None, 'Leftover loaves': None, 'Letters mailed': None, 'Letters written': None, 'Lizards': None, 'Location': None, 'Lower elementary students': None, 'March': None, 'Mascot': None, 'Matches': None, 'May': None, 'Miles': None, 'Mint': None, 'Minutes': None, 'Misses': None, 'Mixture': None, 'Monday': None, 'Month': None, 'Mountain bike tires': None, 'Movie': None, 'Name': ['Braden', 'Camilla', 'Rick', 'Mary', 'Hector', 'Devin', 'Emily', 'Avery'], 'Not spicy': None, 'Number drawn': None, 'Number of Web pages': None, 'Number of apartments': None, 'Number of apples': None, 'Number of aquariums': None, 'Number of bags': None, 'Number of bags of popcorn': None, 'Number of balloons': None, 'Number of baseballs': None, 'Number of basketball hoops': None, 'Number of baskets': None, 'Number of belts': None, 'Number of birds': None, 'Number of blocks': None, 'Number of blocks of cheese': None, 'Number of blouses': None, 'Number of books': None, 'Number of bottles': None, 'Number of bouquets': None, 'Number of boxes': None, 'Number of boxes purchased': None, 'Number of branches': None, \"Number of bull's-eyes\": None, 'Number of bunches': None, 'Number of bushes': None, 'Number of calls': None, 'Number of cans of food': None, 'Number of cars': None, 'Number of cartwheels': None, 'Number of caterpillars': None, 'Number of clubs': None, 'Number of coins': ['76', '94', '86', '84', '80', '83', '82', '87'], 'Number of comic strips': None, 'Number of computers': None, 'Number of cookies': None, 'Number of couches': None, 'Number of cups': None, 'Number of desk drawers': None, 'Number of desks': None, 'Number of donations': None, 'Number of doors': None, 'Number of employees': None, 'Number of entries': None, 'Number of fields': None, 'Number of fish': None, 'Number of fish bowls': None, 'Number of flowers': None, 'Number of frogs': None, 'Number of glasses': None, 'Number of goals': None, 'Number of goats': None, 'Number of guests': None, 'Number of hammers': None, 'Number of history books': None, 'Number of houses sold': None, 'Number of hydrants': None, 'Number of ice cream cones': None, 'Number of laps': None, 'Number of laundry hampers': None, 'Number of light switches': None, 'Number of lilies': None, 'Number of listeners': None, 'Number of magazines': None, 'Number of math teachers': None, 'Number of members': None, 'Number of miles': None, 'Number of movies': None, 'Number of muffins': None, 'Number of nails': None, 'Number of necklaces': None, 'Number of new customers': None, 'Number of newspapers': None, 'Number of notepads': None, 'Number of offices': None, 'Number of orange fish': None, 'Number of packages': None, 'Number of pages': None, 'Number of pairs of jeans': None, 'Number of pearls': None, 'Number of pens': None, 'Number of people': None, 'Number of pets': None, 'Number of phone calls': None, 'Number of photographs': None, 'Number of pies': None, 'Number of plants': None, 'Number of plates': None, 'Number of ponds': None, 'Number of poppies': None, 'Number of practices': None, 'Number of pretzels': None, 'Number of pull-ups': None, 'Number of pumpkin scones': None, 'Number of pumpkins': None, 'Number of purple crayons': None, 'Number of red blocks': None, 'Number of respondents': None, 'Number of restaurant tables': None, 'Number of riders': None, 'Number of roofs': None, 'Number of salt shakers': None, 'Number of schools': None, 'Number of science articles': None, 'Number of screwdrivers': None, 'Number of seagulls': None, 'Number of sheep': None, 'Number of sheets': None, 'Number of shells': None, 'Number of shelves': None, 'Number of shopping bags': None, 'Number of silver buttons': None, 'Number of slices sold': None, 'Number of smoothies': None, 'Number of soccer fields': None, 'Number of sprinklers': None, 'Number of stamps': None, 'Number of states': None, 'Number of stickers': None, 'Number of stools': None, 'Number of stop signs': None, 'Number of stores': None, 'Number of students': None, 'Number of stuffed animals': None, 'Number of sweatshirts': None, 'Number of tables': None, 'Number of tennis balls': None, 'Number of tickets': None, 'Number of times': None, 'Number of tins': None, 'Number of tires': None, 'Number of tool boxes': None, 'Number of toy bins': None, 'Number of toy cars': None, 'Number of tractors': None, 'Number of train cars': None, 'Number of trains': None, 'Number of trees planted': None, 'Number of trips': None, 'Number of turtleneck sweaters': None, 'Number of vases': None, 'Number of vehicles': None, 'Number of votes': None, 'Number of watermelons': None, 'Number of words spelled correctly': None, 'Number of years': None, 'Number of yellow blocks': None, 'Number of yellow buttons': None, 'Number of yellow notepads': None, 'Number of yogurt pops': None, 'Number spun': None, 'Oak trees': None, 'Option': None, 'Organization': None, 'Paperback books': None, 'Park': None, 'Partner': None, 'Pay period': None, 'Peaches': None, 'Pepperoni pizzas': None, 'Per-student budget': None, 'Performer': None, 'Person': None, 'Photographs taken': None, 'Picture frames made': None, 'Pieces of fruit': None, 'Pleased': None, 'Poems written': None, 'Polarized lenses': None, 'Price': None, 'Quantity demanded': None, 'Quantity supplied': None, 'Received': None, 'Record time (minutes)': None, 'Red beard': None, 'Regular cleaning': None, 'Regular lenses': None, 'Requests': None, 'Restaurant': None, 'Road bike tires': None, 'Roses': None, 'Rounds': None, 'Runner': None, 'Runs scored': None, 'Salmon': None, 'Sandwich': None, 'Saturday': None, 'School': None, 'Score': None, 'Season': None, 'Seeds planted': None, 'Senior': None, 'September': None, 'Silver status': None, 'Snowfall (inches)': None, 'Social worker': None, 'Split pea': None, 'Stem': None, 'Street': None, 'Students': None, 'Subject': None, 'Suede': None, 'Sun bears': None, 'Sunday': None, 'Teacher': None, 'Teachers': None, 'Team': None, 'Temperature (°C)': None, 'Temperature (Â°C)': None, 'Thursday': None, 'Time': None, 'Time (minutes)': None, 'Times eaten': None, 'Times played': None, 'Touchdowns scored': None, 'Town': None, 'Truck': None, 'Tuesday': None, 'Turtles': None, 'Type': None, 'Type of Wood': None, 'Upper elementary students': None, 'Vacation days': None, 'Vegetarian pizzas': None, 'Velvet': None, 'Vertically': None, 'Votes': None, 'Vultures': None, 'Waiting time (minutes)': None, 'Wednesday': None, 'Weight (kg)': None, 'Weight change (oz.)': None, 'Whales spotted': None, 'Winning time (minutes)': None, 'Year': None, 'Yellowtail': None, 'Zoo': None, 'x': None, 'y': None}, 'row_num': 9, 'column_num': 2, 'solution': 'Read the numbers from the table.\\n\\n76, 94, 86, 84, 80, 83, 82, 87\\n\\nFirst, count how many numbers are in the group.\\n\\nThere are 8 numbers.\\n\\nNow add all the numbers together:\\n\\n76 + 94 + 86 + 84 + 80 + 83 + 82 + 87 = 672\\n\\nNow divide the sum by the number of numbers:\\n\\n672 ÷ 8 = 84\\n\\nThe mean is 84.', 'ques_type': 'free_text', 'ans_type': 'integer_number', 'grade': 5, 'split': 'test', 'id': '16'}\n"
     ]
    }
   ],
   "source": [
    "for i in data['train']:\n",
    "    print(i); break"
   ]
  },
  {
   "cell_type": "code",
   "execution_count": null,
   "metadata": {},
   "outputs": [],
   "source": [
    "from agential.eval.metrics.classification import f1, fuzzy_EM, llm_as_judge_eval, precision, recall, EM\n",
    "import re\n",
    "\n",
    "# Initialize score lists\n",
    "em_scores = []\n",
    "\n",
    "# Iterate through the first 10 instances in the training data\n",
    "for index in range(min(len(data['train']['question']), 10)):\n",
    "    # Extract data for the current instance\n",
    "    question = data['train']['question'][index]\n",
    "    table_title = data['train']['table_title'][index]\n",
    "    table = data['train']['table'][index]\n",
    "    answer = data['train'][\"answer\"][index]\n",
    "\n",
    "    # Clean up the answer\n",
    "    answer = str(answer).replace(',', '')  # Remove commas, convert to string\n",
    "\n",
    "    # Combine question components\n",
    "    question = '\\n'.join(filter(None, [question, table_title, table]))\n",
    "\n",
    "    # Inference\n",
    "    out = method.generate(\n",
    "        question=question,\n",
    "        key=answer,\n",
    "        num_retries=num_retries,\n",
    "        warming=warming\n",
    "    )\n",
    "\n",
    "    # Process the output\n",
    "    code_str = out.answer.replace(\"```python\", \"\").replace(\"```\", \"\").strip()\n",
    "    pred_answers, _ = safe_execute(code_string=code_str)\n",
    "    pred_answer = str(pred_answers[0]).lower()\n",
    "\n",
    "    # Determine the final predicted answer\n",
    "    if any(word in pred_answer for word in [\"yes\", \"true\"]):\n",
    "        pred_answer = \"yes\"\n",
    "    elif any(word in pred_answer for word in [\"no\", \"false\"]):\n",
    "        pred_answer = \"no\"\n",
    "\n",
    "    print(\"Predicted answer:\", pred_answer)\n",
    "    print(\"Actual answer:\", answer)\n",
    "\n",
    "    # Evaluate correctness\n",
    "    is_correct = int(EM(pred_answer, answer, is_numeric=True))\n",
    "    em_scores.append(is_correct)\n"
   ]
  }
 ],
 "metadata": {
  "kernelspec": {
   "display_name": "agential",
   "language": "python",
   "name": "python3"
  },
  "language_info": {
   "codemirror_mode": {
    "name": "ipython",
    "version": 3
   },
   "file_extension": ".py",
   "mimetype": "text/x-python",
   "name": "python",
   "nbconvert_exporter": "python",
   "pygments_lexer": "ipython3",
   "version": "3.11.5"
  }
 },
 "nbformat": 4,
 "nbformat_minor": 2
}
