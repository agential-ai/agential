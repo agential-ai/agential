{
 "cells": [
  {
   "cell_type": "code",
   "execution_count": 1,
   "metadata": {},
   "outputs": [
    {
     "name": "stderr",
     "output_type": "stream",
     "text": [
      "c:\\Users\\tuvin\\anaconda3\\envs\\agential\\Lib\\site-packages\\tqdm\\auto.py:21: TqdmWarning: IProgress not found. Please update jupyter and ipywidgets. See https://ipywidgets.readthedocs.io/en/stable/user_install.html\n",
      "  from .autonotebook import tqdm as notebook_tqdm\n",
      "Downloading readme: 100%|██████████| 26.7k/26.7k [00:00<00:00, 290kB/s]\n",
      "Downloading data: 100%|██████████| 26/26 [39:28<00:00, 91.08s/files]  \n",
      "Downloading data: 100%|██████████| 327M/327M [01:08<00:00, 4.76MB/s] \n",
      "Downloading data: 100%|██████████| 296M/296M [00:29<00:00, 9.89MB/s] \n",
      "Downloading data: 100%|██████████| 184M/184M [00:21<00:00, 8.74MB/s] \n",
      "Downloading data: 100%|██████████| 129M/129M [00:11<00:00, 10.9MB/s] \n",
      "Downloading data: 100%|██████████| 307M/307M [00:44<00:00, 6.91MB/s] \n",
      "Downloading data: 100%|██████████| 288M/288M [00:39<00:00, 7.33MB/s] \n",
      "Downloading data: 100%|██████████| 171M/171M [00:15<00:00, 10.7MB/s] \n",
      "Downloading data: 100%|██████████| 128M/128M [00:13<00:00, 9.63MB/s] \n",
      "Generating train split: 100%|██████████| 138384/138384 [00:36<00:00, 3820.15 examples/s]\n",
      "Generating validation split: 100%|██████████| 17944/17944 [00:05<00:00, 3317.28 examples/s]\n",
      "Generating test split: 100%|██████████| 17210/17210 [00:05<00:00, 3356.67 examples/s]\n"
     ]
    }
   ],
   "source": [
    "from datasets import load_dataset\n",
    "\n",
    "ds = load_dataset(\"mandarjoshi/trivia_qa\", \"rc\")"
   ]
  },
  {
   "cell_type": "code",
   "execution_count": 2,
   "metadata": {},
   "outputs": [
    {
     "data": {
      "text/plain": [
       "17944"
      ]
     },
     "execution_count": 2,
     "metadata": {},
     "output_type": "execute_result"
    }
   ],
   "source": [
    "len(ds['validation'])"
   ]
  },
  {
   "cell_type": "code",
   "execution_count": 5,
   "metadata": {},
   "outputs": [
    {
     "data": {
      "text/plain": [
       "{'question': 'In what outdoor sport, sanctioned by the NHPA, do you score 3 points for a ringer, 2 for a leaner, and the closet scores a point?',\n",
       " 'question_id': 'qg_4656',\n",
       " 'question_source': 'https://quizguy.wordpress.com/',\n",
       " 'entity_pages': {'doc_source': ['Search'],\n",
       "  'filename': ['Horseshoes.txt'],\n",
       "  'title': ['Horseshoes'],\n",
       "  'wiki_context': ['Horseshoes is an outdoor game played between two people (or two teams of two people) using four horseshoes and two throwing targets (stakes) set in a sandbox area. The game is played by the players alternating turns tossing horseshoes at stakes in the ground,  which are traditionally placed 40 ft apart. Modern games use a more stylized U-shaped bar, about twice the size of an actual horseshoe.\\n\\nGame play \\n\\nOfficial Rules of the Game of Horseshoes from the NHPA \\n\\nThe National Horseshoe Pitchers Association (NHPA), the recognized governing body of the sport of horseshoe pitching in the United States, maintains an up-to-date set of rules, guidelines and specifications for the game on their website.  Widely accepted as being the official way to play the game, they outline the style of play, the two most common scoring methods (cancellation and count-all), acceptable equipment, and exact court specifications as well as additional methods of organizing tournament and league competitions.\\n\\nThere are other entities that have their own versions of the game and sanction their own events, but the largest recognized volume of sanctioned tournaments and leagues (by far)  are those of the NHPA.\\n\\nBOH Cup style of play \\n\\nThe game begins with a horseshoe toss to decide who goes first. The winner of the toss throws both horseshoes—one at a time—at the opposite stake, and then the second player throws both of their horseshoes—again, one at a time—at their end. After scoring, the next round is done in reverse order, or by throwing back at the original stake. Play continues until one player has at least 15 points at the end of a round. NHPA sanctioned games are generally played to 40 points, or a shoe limit of 40 or 50 shoes. The horseshoes can be made of either plastic or metal.\\n\\nScoring \\n\\nIn horseshoes, there are two ways to score: by throwing \"ringers\" or by throwing the horseshoe nearest to the stake. A ringer is a thrown horseshoe such that the horseshoe completely encircles the stake. Disputes are settled by using a straightedge to touch the two points at the ends of the horseshoe, called \"heel calks\". If the straightedge doesn\\'t touch the stake, then the horseshoe is a ringer.\\n\\nOne player pitches both shoes in succession to one pit, followed by the other player.  This is formally called an inning.  Normally only one pitcher can score points per inning, however some leagues and tournaments play \"count all\", in which all points in each inning are counted.  A live shoe that is not a ringer, but comes to rest six inches (6”) or closer to the stake, has a value of one (1) point. This includes a “leaner”.  If both of one player\\'s horseshoes are closer than the opponent\\'s, two points are scored. A ringer scores three points.  In the case of one ringer and a closer horseshoe, both horseshoes are scored for a total of four points. If a player throws two ringers, that player scores six points. If each player throws a ringer, the ringers cancel and no points are scored.  If two ringers are thrown by one player and one ringer by the opponent, the player throwing two ringers scores three points.  This is typically called \"two dead and three\" or \"three ringers three\" for score keeping purposes.  Such occurrences are called \"dead ringers\" and are still used toward the pitcher/ringer average.  Back-yard games can be played to any number of points that is agreed upon, but are usually to 21 points, win by 2.  In most sanctioned tournaments the handicapped divisions pitch 50 shoe games, most points win.  If there is a tie, the pitchers pitch an additional 2 innings (alternating pitch) until the tie is broken.  Championship divisions, or non-handicapped divisions are pitched to 40 points, regardless of the number of shoes pitched. In Philadelphia when a player tops another players ringer the player is awarded 6 points.\\n\\nSingle points in amateur games must measure 6\\xa0inches or less from any part of the shoe to the nearest part of the stake. Also, a game cannot be won when an opposing player, tossing a shoe, bumps an opponent\\'s shoe to cause the opponent to reach the winning score be it eleven or twenty-one.  The game-winning point must be attained by the person tossing the horseshoe pertaining to his own score.  Examples:  If a player has 10 points and an opponent has 8 points, and the player with 10 points tosses a horseshoe and bumps his opponent\\'s horseshoe for a ringer, the opponent scores 3 points for a total of 11 points, but does not win the game because of the 2 point rule.  If a player has 9 points and an opponent 8 points and the player with 9 points tosses a horseshoe and bumps his opponent\\'s horseshoe for a ringer, the opponent cannot score 3 points, because the winning point must be attained by his own toss.  However, the opponent can take two points, bringing his total point score to 10.\\n\\nThis scoring system gives rise to the popular expression \"Close only counts in horseshoes\".\\n\\nHistory\\n\\nThe games of horseshoes and quoits are closely related.  For information on the history of these games, see the entry on quoits.\\n\\nGallery\\n\\nFile:Horseshoe court.jpg|A horseshoes court\\nFile:Donnie at horseshoes.jpg|A player prepares to toss a horseshoe.\\nFile:Throwing horseshoe.jpg|Shawn Coley prepares to toss horseshoe at the 2008 Our Community Place Lawn Jam in Harrisonburg, Virginia.']},\n",
       " 'search_results': {'description': [],\n",
       "  'filename': [],\n",
       "  'rank': [],\n",
       "  'title': [],\n",
       "  'url': [],\n",
       "  'search_context': []},\n",
       " 'answer': {'aliases': ['Horseshoe pit',\n",
       "   'Horseshoes (game)',\n",
       "   'Horseshoes',\n",
       "   'Horseshoe Pitching',\n",
       "   'Horse shoes',\n",
       "   'Horseshoe pitching',\n",
       "   'Horseshoe throwing'],\n",
       "  'normalized_aliases': ['horseshoe pitching',\n",
       "   'horse shoes',\n",
       "   'horseshoe throwing',\n",
       "   'horseshoe pit',\n",
       "   'horseshoes game',\n",
       "   'horseshoes'],\n",
       "  'matched_wiki_entity_name': '',\n",
       "  'normalized_matched_wiki_entity_name': '',\n",
       "  'normalized_value': 'horseshoes',\n",
       "  'type': 'WikipediaEntity',\n",
       "  'value': 'Horseshoes'}}"
      ]
     },
     "execution_count": 5,
     "metadata": {},
     "output_type": "execute_result"
    }
   ],
   "source": [
    "ds['validation'][-1]"
   ]
  },
  {
   "cell_type": "code",
   "execution_count": null,
   "metadata": {},
   "outputs": [],
   "source": []
  }
 ],
 "metadata": {
  "kernelspec": {
   "display_name": "agential",
   "language": "python",
   "name": "python3"
  },
  "language_info": {
   "codemirror_mode": {
    "name": "ipython",
    "version": 3
   },
   "file_extension": ".py",
   "mimetype": "text/x-python",
   "name": "python",
   "nbconvert_exporter": "python",
   "pygments_lexer": "ipython3",
   "version": "3.11.5"
  }
 },
 "nbformat": 4,
 "nbformat_minor": 2
}
