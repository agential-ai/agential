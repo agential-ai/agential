{
 "cells": [
  {
   "cell_type": "code",
   "execution_count": 1,
   "metadata": {},
   "outputs": [],
   "source": [
    "from agential.cog.agent.reflexion import ReflexionCoTAgent\n",
    "from agential.cog.prompts.reflexion import REFLEXION_COT_REFLECT_FEWSHOT_GSM8K_EXAMPLES"
   ]
  },
  {
   "cell_type": "code",
   "execution_count": 2,
   "metadata": {},
   "outputs": [],
   "source": [
    "from langchain_community.chat_models.openai import ChatOpenAI"
   ]
  },
  {
   "cell_type": "code",
   "execution_count": 3,
   "metadata": {},
   "outputs": [],
   "source": [
    "llm_action = ChatOpenAI(api_key=\"\")\n",
    "llm_reflect = ChatOpenAI(api_key=\"\")"
   ]
  },
  {
   "cell_type": "code",
   "execution_count": 13,
   "metadata": {},
   "outputs": [],
   "source": [
    "testAgent = ReflexionCoTAgent(action_llm= llm_action, self_reflect_llm=llm_reflect)"
   ]
  },
  {
   "cell_type": "code",
   "execution_count": 4,
   "metadata": {},
   "outputs": [],
   "source": [
    "key = \"624\"\n",
    "context = None"
   ]
  },
  {
   "cell_type": "code",
   "execution_count": 15,
   "metadata": {},
   "outputs": [
    {
     "name": "stdout",
     "output_type": "stream",
     "text": [
      "S\n",
      "S\n"
     ]
    },
    {
     "data": {
      "text/plain": [
       "[(True,\n",
       "  '624',\n",
       "  ('Thought: James writes a total of 3 x 2 x 2 = <<3*2*2=12>>12 pages per week.In a year, he writes 12 x 52 = <<12*52=624>>624 pages.Action: Finish[624]',\n",
       "   'Action: Finish[624]',\n",
       "   'Observation: Answer is CORRECT'))]"
      ]
     },
     "execution_count": 15,
     "metadata": {},
     "output_type": "execute_result"
    }
   ],
   "source": [
    "testAgent.generate(question = \"James writes a 3-page letter to 2 different friends twice a week.  How many pages does he write a year?\",\n",
    "                   key = key ,\n",
    "                   context= context, examples= REFLEXION_COT_REFLECT_FEWSHOT_EXAMPLES_GSM8K_NO_CONTEXT)"
   ]
  },
  {
   "cell_type": "code",
   "execution_count": 5,
   "metadata": {},
   "outputs": [],
   "source": [
    "from agential.cog.agent.reflexion import ReflexionCoTAgent"
   ]
  },
  {
   "cell_type": "code",
   "execution_count": 6,
   "metadata": {},
   "outputs": [],
   "source": [
    "TestAgent1 = ReflexionCoTAgent(self_reflect_llm= llm_reflect , action_llm= llm_action)"
   ]
  },
  {
   "cell_type": "code",
   "execution_count": 7,
   "metadata": {},
   "outputs": [
    {
     "name": "stdout",
     "output_type": "stream",
     "text": [
      "S\n"
     ]
    },
    {
     "name": "stderr",
     "output_type": "stream",
     "text": [
      "/opt/homebrew/lib/python3.11/site-packages/langchain_core/_api/deprecation.py:117: LangChainDeprecationWarning: The function `__call__` was deprecated in LangChain 0.1.7 and will be removed in 0.2.0. Use invoke instead.\n",
      "  warn_deprecated(\n"
     ]
    },
    {
     "name": "stdout",
     "output_type": "stream",
     "text": [
      "S\n"
     ]
    },
    {
     "data": {
      "text/plain": [
       "[(True,\n",
       "  '624',\n",
       "  ('Thought: James writes 3 pages x 2 friends x 2 times per week = 12 pages per week.In a year, there are 52 weeks, so James writes 12 pages x 52 weeks = <<3*2*2*52=624>>624 pages a year.Action: Finish[624]',\n",
       "   'Action: Finish[624]',\n",
       "   'Observation: Answer is CORRECT'))]"
      ]
     },
     "execution_count": 7,
     "metadata": {},
     "output_type": "execute_result"
    }
   ],
   "source": [
    "TestAgent1.generate(question= \"James writes a 3-page letter to 2 different friends twice a week.  How many pages does he write a year?\", key = key, examples=REFLEXION_COT_REFLECT_FEWSHOT_GSM8K_EXAMPLES)"
   ]
  },
  {
   "cell_type": "code",
   "execution_count": null,
   "metadata": {},
   "outputs": [],
   "source": []
  },
  {
   "cell_type": "code",
   "execution_count": null,
   "metadata": {},
   "outputs": [],
   "source": []
  }
 ],
 "metadata": {
  "kernelspec": {
   "display_name": "Python 3",
   "language": "python",
   "name": "python3"
  },
  "language_info": {
   "codemirror_mode": {
    "name": "ipython",
    "version": 3
   },
   "file_extension": ".py",
   "mimetype": "text/x-python",
   "name": "python",
   "nbconvert_exporter": "python",
   "pygments_lexer": "ipython3",
   "version": "3.11.7"
  }
 },
 "nbformat": 4,
 "nbformat_minor": 2
}
