{
 "cells": [
  {
   "cell_type": "code",
   "execution_count": 2,
   "metadata": {},
   "outputs": [
    {
     "data": {
      "text/plain": [
       "\"Answer a math question with interleaving Thought, Action, Observation steps. Thought can reason about the current question and plan the retrieval steps, and Action can be two types:\\n(1) Calculate[code], which implements code to answer the math question, saving the answer as the `answer` variable.\\n(2) Finish[code], which returns the code to answer the math question and finishes the task, saving the answer as the `answer` variable.\\nYou have a maximum of 1 steps.\\n\\nHere are some examples:\\nQuestion: Jason had 20 lollipops. He gave Denny some lollipops. Now Jason has 12 lollipops. How many lollipops did Jason give to Denny?\\nThought 1: First, I need to find out how many lollipops Jason gave to Denny.\\nAction 1: Calculate[\\n```python\\njason_lollipops_initial = 20\\njason_lollipops_after = 12\\nanswer = jason_lollipops_after - jason_lollipops_initial\\n```\\n]\\nObservation 1: \\n```python\\njason_lollipops_initial = 20\\njason_lollipops_after = 12\\nanswer = jason_lollipops_after - jason_lollipops_initial\\n```\\nExecution Status: Done\\nOutput: answer = -8\\nThought 2: The answer should be positive because Jason gave lollipops to Denny. I need to reverse the subtraction.\\nAction 2: Calculate[\\n```python\\njason_lollipops_initial = 20\\njason_lollipops_after = 12\\nanswer = jason_lollipops_initial - jason_lollipops_after\\n```\\n]\\nObservation 2: \\n```python\\njason_lollipops_initial = 20\\njason_lollipops_after = 12\\nanswer = jason_lollipops_initial - jason_lollipops_after\\n```\\nExecution Status: Done\\nOutput: answer = 8\\nThought 3: Jason gave 8 lollipops to Denny.\\nAction 3: Finish[\\n```python\\nanswer = 8\\n```\\n]\\nObservation 3: \\n```python\\nanswer = 8\\n```\\n\\n---\\n\\nQuestion: There are 15 trees in the grove. Grove workers will plant trees in the grove today. After they are done, there will be 21 trees. How many trees did the grove workers plant today?\\nThought 1: I need to determine how many trees were planted.\\nAction 1: Calculate[\\n```python\\ntrees_initial = 15\\ntrees_after = 21\\nanswer = trees_initial - trees_after\\n```\\n]\\nObservation 1: \\n```python\\ntrees_initial = 15\\ntrees_after = 21\\nanswer = trees_initial - trees_after\\n```\\nExecution Status: Done\\nOutput: answer = -6\\nThought 2: The answer should be positive because trees are being added, not removed. I need to reverse the subtraction.\\nAction 2: Calculate[\\n```python\\ntrees_initial = 15\\ntrees_after = 21\\nanswer = trees_after - trees_initial\\n```\\n]\\nObservation 2: \\n```python\\ntrees_initial = 15\\ntrees_after = 21\\nanswer = trees_after - trees_initial\\n```\\nExecution Status: Done\\nOutput: answer = 6\\nThought 3: The workers planted 6 trees today.\\nAction 3: Finish[\\n```python\\nanswer = 6\\n```\\n]\\nObservation 3: \\n```python\\nanswer = 6\\n```\\n\\n---\\n\\nQuestion: Shawn has five toys. For Christmas, he got two toys each from his mom and dad. How many toys does he have now?\\nThought 1: I need to calculate the total number of toys received.\\nAction 1: Calculate[\\n```pyhton \\ntoys_received_mom = 2\\ntoys_received_dad = 2\\ntoys_received = toys_received_mom + toys_received_dad\\n```\\n]\\nObservation 1:\\n```pyhton \\ntoys_received_mom = 2\\ntoys_received_dad = 2\\nanswer = toys_received_mom + toys_received_dad\\n```\\nExecution Status: Done\\nOutput: answer = 4\\nThought 2: I need to calculate the total number of toys Shawn has after receiving gifts from his parents.\\nAction 2: Calculate[\\n```python\\ntoys_initial = 5\\ntoys_received = 2 * 3\\nanswer = toys_initial + toys_received\\n```\\n]\\nObservation 2: \\n```python\\ntoys_initial = 5\\ntoys_received = 2 * 3\\nanswer = toys_initial + toys_received\\n```\\nExecution Status: Done\\nOutput: answer = 11\\nThought 3: I incorrectly calculated the total toys received. Shawn got 2 toys each from his mom and dad, so the correct total received should be 2 + 2.\\nAction 3: Calculate[\\n```python\\ntoys_initial = 5\\ntoys_received = 2 + 2\\nanswer = toys_initial + toys_received\\n```\\n]\\nObservation 3: \\n```python\\ntoys_initial = 5\\ntoys_received = 2 + 2\\nanswer = toys_initial + toys_received\\n```\\nExecution Status: Done\\nOutput: answer = 9\\nThought 4: Shawn now has 9 toys.\\nAction 4: Finish[\\n```python\\nanswer = 9\\n```\\n]\\nObservation 4: \\n```python\\nanswer = 9\\n```\\n\\n---\\n\\nQuestion: There were nine computers in the server room. Five more computers were installed each day, from Monday to Thursday. How many computers are now in the server room?\\nThought 1: I need to calculate the total number of computers installed from Monday to Thursday.\\nAction 1: Calculate[\\n```python\\ncomputers_initial = 9\\ncomputers_per_day = 5\\nnum_days = 4  # 4 days between Monday and Thursday\\ncomputers_added = computers_per_day * num_days\\nanswer = computers_initial + computers_added\\n```\\n]\\nObservation 1: \\n```python\\ncomputers_initial = 9\\ncomputers_per_day = 5\\nnum_days = 4  # 4 days between Monday and Thursday\\ncomputers_added = computers_per_day * num_days\\nanswer = computers_initial + computers_added\\n```\\nExecution Status: Done\\nOutput: answer = 29\\nThought 2: There are now 29 computers in the server room.\\nAction 2: Finish[\\n```python\\nanswer = 29\\n```\\n]\\nObservation 2:\\n```python\\nanswer = 29\\n```\\n\\n---\\n\\nQuestion: Michael had 58 golf balls. On Tuesday, he lost 23 golf balls. On Wednesday, he lost 2 more. How many golf balls did he have at the end of Wednesday?\\nThought 1: I need to find out how many golf balls Michael has after losing some on Tuesday and Wednesday.\\nAction 1: Calculate[\\n```python\\ngolf_balls_initial = 58\\ngolf_balls_lost_tuesday = 23\\ngolf_balls_lost_wednesday = 2\\nanswer = golf_balls_initial - golf_balls_lost_tuesday - golf_balls_lost_wednesday\\n```\\n]\\nObservation 1: \\n```python\\ngolf_balls_initial = 58\\ngolf_balls_lost_tuesday = 23\\ngolf_balls_lost_wednesday = 2\\nanswer = golf_balls_initial - golf_balls_lost_tuesday - golf_balls_lost_wednesday\\n```\\nExecution Status: Done\\nOutput: answer = 33\\nThought 2: Michael has 33 golf balls left at the end of Wednesday.\\nAction 2: Finish[\\n```python\\nanswer = 33\\n```\\n]\\nObservation 2: \\n```python\\nanswer = 33\\n```\\n\\n---\\n\\nQuestion: If there are 3 cars in the parking lot and 2 more cars arrive, how many cars are in the parking lot?\\nThought 1: I need to calculate the total number of cars in the parking lot after 2 more cars arrive.\\nAction 1: Calculate[\\n```python\\ncars_initial = 3\\ncars_arrived = 2\\nanswer = cars_initial + cars_arrived\\n```\\n]\\nObservation 1: \\n```python\\ncars_initial = 3\\ncars_arrived = 2\\nanswer = cars_initial + cars_arrived\\n```\\nExecution Status: Done\\nOutput: answer = 5\\nThought 2: There are 5 cars in the parking lot now.\\nAction 2: Finish[\\n```python\\nanswer = 5\\n```\\n]\\nObservation 2: \\n```python\\nanswer = 5\\n```\\n\\n---\\n\\nQuestion: Olivia has $23. She bought five bagels for $3 each. How much money does she have left?\\nThought 1: I need to calculate how much money Olivia has left after buying bagels.\\nAction 1: Calculate[\\n```python\\nmoney_initial = 23\\nbagels = 5\\nbagel_cost = 3\\nmoney_spent = bagels * bagel_cost\\nanswer = money_initial - money_spent\\n```\\n]\\nObservation 1: \\n```python\\nmoney_initial = 23\\nbagels = 5\\nbagel_cost = 3\\nmoney_spent = bagels * bagel_cost\\nanswer = money_initial - money_spent\\n```\\nExecution Status: Done\\nOutput: answer = 8\\nThought 2: Olivia has $8 left.\\nAction 2: Finish[\\n```python\\nanswer = 8\\n```\\n]\\nObservation 2: \\n```python\\nanswer = 8\\n```\\n\\n---\\n\\nQuestion: Leah had 32 chocolates and her sister had 42. If they ate 35, how many pieces do they have left in total?\\nThought 1: I need to find out the total number of chocolates left after Leah and her sister ate some.\\nAction 1: Calculate[\\n```python\\nleah_chocolates = 32\\nsister_chocolates = 42\\nchocolates_eaten = 35\\nanswer = leah_chocolates - chocolates_eaten\\n```\\n]\\nObservation 1:\\n```python\\nleah_chocolates = 32\\nsister_chocolates = 42\\nchocolates_eaten = 35\\nanswer = leah_chocolates - chocolates_eaten\\n```\\nExecution Status: Done\\nOutput: answer = -3\\nThought 2: The calculation is incorrect because it only considers Leah's chocolates. I need to include her sister's chocolates as well.\\nAction 2: Calculate[\\n```python\\nleah_chocolates = 32\\nsister_chocolates = 42\\nchocolates_eaten = 35\\nanswer = sister_chocolates - chocolates_eaten\\n```\\n]\\nObservation 2:\\n```python\\nleah_chocolates = 32\\nsister_chocolates = 42\\nchocolates_eaten = 35\\nanswer = sister_chocolates - chocolates_eaten\\n```\\nExecution Status: Done\\nOutput: answer = 7\\nThought 3: The calculation is still incorrect because it only considers the sister's chocolates. I need to consider the total number of chocolates initially.\\nAction 3: Calculate[\\n```python\\nleah_chocolates = 32\\nsister_chocolates = 42\\nchocolates_eaten = 35\\nanswer = (leah_chocolates + sister_chocolates) - chocolates_eaten - sister_chocolates\\n```\\n]\\nObservation 3:\\n```python\\nleah_chocolates = 32\\nsister_chocolates = 42\\nchocolates_eaten = 35\\nanswer = (leah_chocolates + sister_chocolates) - chocolates_eaten - sister_chocolates\\n```\\nExecution Status: Done\\nOutput: answer = -3\\nThought 4: The calculation is still incorrect because it incorrectly subtracts the sister's chocolates again. I need to correct this error.\\nAction 4: Calculate[\\n```python\\nleah_chocolates = 32\\nsister_chocolates = 42\\ntotal_chocolates = leah_chocolates + sister_chocolates\\nchocolates_eaten = 35\\nanswer = total_chocolates - chocolates_eaten\\n```\\n]\\nObservation 4:\\n```python\\nleah_chocolates = 32\\nsister_chocolates = 42\\ntotal_chocolates = leah_chocolates + sister_chocolates\\nchocolates_eaten = 35\\nanswer = total_chocolates - chocolates_eaten\\n```\\nExecution Status: Done\\nOutput: answer = 39\\nThought 5: They have 39 chocolates left.\\nAction 5: Finish[\\n```python\\nanswer = 39\\n```\\n]\\nObservation 5:\\n```python\\nanswer = 39\\n```\\n(END OF EXAMPLES)\\n\\nQuestion: Janet's ducks lay 16 eggs per day. She eats three for breakfast every morning and bakes muffins for her friends every day with 4933828. She sells the remainder at the farmers' market daily for $2 per fresh duck egg. How much in dollars does she make every day at the farmers' market?\\n\""
      ]
     },
     "execution_count": 2,
     "metadata": {},
     "output_type": "execute_result"
    }
   ],
   "source": [
    "from agential.cog.react_new.functional import _build_agent_prompt,_prompt_agent,parse_qa_action\n",
    "from agential.cog.react.prompts import (\n",
    "    REACT_INSTRUCTION_GSM8K,\n",
    ")\n",
    "from agential.cog.fewshots.gsm8k import GSM8K_FEWSHOT_EXAMPLES_REACT\n",
    "question = \"Janet's ducks lay 16 eggs per day. She eats three for breakfast every morning and bakes muffins for her friends every day with 4933828. She sells the remainder at the farmers' market daily for $2 per fresh duck egg. How much in dollars does she make every day at the farmers' market?\"\n",
    "\n",
    "_build_agent_prompt(\n",
    "    question=question,\n",
    "    scratchpad='',\n",
    "    examples=GSM8K_FEWSHOT_EXAMPLES_REACT,\n",
    "    max_steps=1,\n",
    "    prompt=REACT_INSTRUCTION_GSM8K,\n",
    "    additional_keys={}\n",
    "    )\n"
   ]
  },
  {
   "cell_type": "code",
   "execution_count": null,
   "metadata": {},
   "outputs": [],
   "source": [
    "from agential.cog.fewshots.gsm8k import GSM8K_FEWSHOT_EXAMPLES_REACT\n",
    "from agential.cog.react_new.strategies.math import ReActMathStrategy\n",
    "from agential.llm.llm import LLM\n",
    "from agential.cog.react.prompts import (\n",
    "    REACT_INSTRUCTION_GSM8K,\n",
    ")\n",
    "question = \"Janet's ducks lay 16 eggs per day. She eats three for breakfast every morning and bakes muffins for her friends every day with 4933828. She sells the remainder at the farmers' market daily for $2 per fresh duck egg. How much in dollars does she make every day at the farmers' market?\"\n",
    "\n",
    "strat = ReActMathStrategy(llm=LLM(\"gpt-3.5-turbo\"))\n",
    "out = strat.generate(\n",
    "    question=question,\n",
    "    examples=GSM8K_FEWSHOT_EXAMPLES_REACT,\n",
    "    prompt=REACT_INSTRUCTION_GSM8K,\n",
    "    additional_keys={},\n",
    "    reset=True\n",
    ")"
   ]
  }
 ],
 "metadata": {
  "kernelspec": {
   "display_name": "agential",
   "language": "python",
   "name": "python3"
  },
  "language_info": {
   "codemirror_mode": {
    "name": "ipython",
    "version": 3
   },
   "file_extension": ".py",
   "mimetype": "text/x-python",
   "name": "python",
   "nbconvert_exporter": "python",
   "pygments_lexer": "ipython3",
   "version": "3.11.9"
  }
 },
 "nbformat": 4,
 "nbformat_minor": 2
}
