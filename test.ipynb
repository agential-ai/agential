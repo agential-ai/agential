{
 "cells": [
  {
   "cell_type": "code",
   "execution_count": 1,
   "metadata": {},
   "outputs": [],
   "source": [
    "from langchain_community.tools import WikipediaQueryRun\n",
    "from langchain_community.utilities import WikipediaAPIWrapper"
   ]
  },
  {
   "cell_type": "code",
   "execution_count": 2,
   "metadata": {},
   "outputs": [],
   "source": [
    "wikipedia = WikipediaQueryRun(api_wrapper=WikipediaAPIWrapper())"
   ]
  },
  {
   "cell_type": "code",
   "execution_count": 3,
   "metadata": {},
   "outputs": [
    {
     "data": {
      "text/plain": [
       "\"Page: Figure skating at the Olympic Games\\nSummary: Figure skating was first contested in the Olympic Games at the 1908 Summer Olympics. Since 1924, the sport has been a part of the Winter Olympic Games.\\nMen's singles, ladies' singles, and pair skating have been held most often. Ice dance joined as a medal sport in 1976 and a team event debuted at the 2014 Olympics. Special figures were contested at only one Olympics, in 1908. Synchronized skating has never appeared at the Olympics but aims to be included.\\n\\n\\n\\nPage: List of Olympic medalists in figure skating\\nSummary: Figure skating has been part of the Olympic Games since 1908 and has been included in 26 Olympic Games. There have been 286 medals (96 gold, 95 silver, and 95 bronze) awarded to figure skaters representing 29 representing National Olympic Committees. Six events have been contested but one, men's special figures, was discontinued after a single Olympics.\\nCanadian ice dancers Tessa Virtue and Scott Moir are the only figure skaters to win five Olympic medals (three gold medals and two silver medals). Swedish figure skater Gillis Grafström and Russian figure skater Evgeni Plushenko have each won four medals. The only skaters with three consecutive titles are Grafström in men's singles, Sonja Henie for Norway in women's singles, and Irina Rodnina from the Soviet Union in pair skating.\\nOn two occasions, there has been a podium sweep. Russian figure skaters hold the unique record of having won gold medals in all six Olympic figure skating events.\\n\\n\\n\\nPage: Figure skating at the 2010 Winter Olympics\\nSummary: Figure skating at the 2010 Winter Olympics was held at the Pacific Coliseum in Vancouver, British Columbia, Canada. The events took place between 14 and 27 February 2010.\\nShen Xue and Zhao Hongbo (CHN) won the gold medal in the pairs skating. This was the first time since 1960 that a Russian, Soviet, or Unified Team (CIS) flagged team did not win the gold medal.\""
      ]
     },
     "execution_count": 3,
     "metadata": {},
     "output_type": "execute_result"
    }
   ],
   "source": [
    "wikipedia.run(\"Figure skating at the Olympic Games\")"
   ]
  },
  {
   "cell_type": "code",
   "execution_count": null,
   "metadata": {},
   "outputs": [],
   "source": []
  }
 ],
 "metadata": {
  "kernelspec": {
   "display_name": "Python 3",
   "language": "python",
   "name": "python3"
  },
  "language_info": {
   "codemirror_mode": {
    "name": "ipython",
    "version": 3
   },
   "file_extension": ".py",
   "mimetype": "text/x-python",
   "name": "python",
   "nbconvert_exporter": "python",
   "pygments_lexer": "ipython3",
   "version": "3.11.7"
  }
 },
 "nbformat": 4,
 "nbformat_minor": 2
}
