{
 "cells": [
  {
   "cell_type": "code",
   "execution_count": 1,
   "metadata": {},
   "outputs": [],
   "source": [
    "import os\n",
    "import openai\n",
    " \n",
    "openai.api_key = \"\"\n",
    "def llm(prompt, stop=[\"\\n\"]):\n",
    "    response = openai.Completion.create(\n",
    "      model=\"gpt-3.5-turbo-instruct\",\n",
    "      prompt=prompt,\n",
    "      temperature=0,\n",
    "      max_tokens=100,\n",
    "      top_p=1,\n",
    "      frequency_penalty=0.0,\n",
    "      presence_penalty=0.0,\n",
    "      stop=stop\n",
    "    )\n",
    "    return response[\"choices\"][0][\"text\"]"
   ]
  },
  {
   "cell_type": "code",
   "execution_count": 2,
   "metadata": {},
   "outputs": [
    {
     "name": "stdout",
     "output_type": "stream",
     "text": [
      "hello wolrd\n",
      "Initializing AlfredTWEnv...\n",
      "Checking for solvable games...\n"
     ]
    },
    {
     "name": "stderr",
     "output_type": "stream",
     "text": [
      "100%|██████████| 341/341 [00:00<00:00, 1206.58it/s]"
     ]
    },
    {
     "name": "stdout",
     "output_type": "stream",
     "text": [
      "Overall we have 134 games in split=eval_out_of_distribution\n",
      "Evaluating with 134 games\n"
     ]
    },
    {
     "name": "stderr",
     "output_type": "stream",
     "text": [
      "\n"
     ]
    }
   ],
   "source": [
    "import yaml\n",
    "import alfworld\n",
    "import alfworld.agents.environment\n",
    "with open('tests/assets/base_config.yaml') as reader:\n",
    "    config = yaml.safe_load(reader)\n",
    "    \n",
    "print('hello wolrd')\n",
    "split = \"eval_out_of_distribution\"\n",
    "\n",
    "env = getattr(alfworld.agents.environment, config[\"env\"][\"type\"])(config, train_eval=split)\n",
    "env = env.init_env(batch_size=1)\n",
    "\n",
    "def process_ob(ob):\n",
    "    if ob.startswith('You arrive at loc '):\n",
    "        ob = ob[ob.find('. ')+2:]    \n",
    "    return ob"
   ]
  },
  {
   "cell_type": "code",
   "execution_count": 3,
   "metadata": {},
   "outputs": [],
   "source": [
    "from discussion_agents.cog.prompts.react import REACT_ALFWORLD_PROMPTS_EXAMPLE\n",
    "d = REACT_ALFWORLD_PROMPTS_EXAMPLE"
   ]
  },
  {
   "cell_type": "code",
   "execution_count": 4,
   "metadata": {},
   "outputs": [],
   "source": [
    "\n",
    "def alfworld_run(prompt, to_print=True, ob=''):\n",
    "    init_prompt = prompt + ob + '\\n>'\n",
    "    prompt = ''\n",
    "    if to_print:\n",
    "        print(ob)\n",
    "    for i in range(1, 50):\n",
    "        action = llm(init_prompt + prompt, stop=['\\n']).strip()\n",
    "        observation, reward, done, info = env.step([action])\n",
    "        observation, reward, done = process_ob(observation[0]), info['won'][0], done[0]\n",
    "        print(observation, reward, done)\n",
    "        if action.startswith('think:'):\n",
    "            observation = 'OK.'\n",
    "        if to_print:\n",
    "            print(f'Act {i}: {action}\\nObs {i}: {observation}')\n",
    "        prompt += f' {action}\\n{observation}\\n>'\n",
    "        if done:\n",
    "            return reward\n",
    "    return 0"
   ]
  },
  {
   "cell_type": "code",
   "execution_count": 31,
   "metadata": {},
   "outputs": [
    {
     "name": "stdout",
     "output_type": "stream",
     "text": [
      "pick_and_place_simple-Watch-None-Safe-219/trial_T20190907_074556_124850\n"
     ]
    }
   ],
   "source": [
    "prefixes = {\n",
    "    'pick_and_place': 'put',\n",
    "    'pick_clean_then_place': 'clean',\n",
    "    'pick_heat_then_place': 'heat',\n",
    "    'pick_cool_then_place': 'cool',\n",
    "    'look_at_obj': 'examine',\n",
    "    'pick_two_obj': 'puttwo'\n",
    "}\n",
    "cnts = [0] * 6\n",
    "rs = [0] * 6\n",
    "\n",
    "\n",
    "ob, info = env.reset()\n",
    "ob = '\\n'.join(ob[0].split('\\n\\n')[1:])\n",
    "name = '/'.join(info['extra.gamefile'][0].split('/')[-3:-1])\n",
    "print(name)\n",
    "for i, (k, v) in enumerate(prefixes.items()):\n",
    "    if name.startswith(k):\n",
    "        prompt = 'Interact with a household to solve a task. Here are two examples.\\n' + d[f'react_{v}_1'] + d[f'react_{v}_0'] + '\\nHere is the task.\\n'\n",
    " \n",
    "\n"
   ]
  },
  {
   "cell_type": "code",
   "execution_count": 6,
   "metadata": {},
   "outputs": [],
   "source": [
    "from langchain_community.chat_models import ChatOpenAI\n",
    "\n",
    "\n",
    "llm = ChatOpenAI(openai_api_key=\"\")"
   ]
  },
  {
   "cell_type": "code",
   "execution_count": 7,
   "metadata": {},
   "outputs": [],
   "source": [
    "from discussion_agents.cog.agent.react import ReActAgent\n",
    "\n",
    "\n",
    "test_run = ReActAgent(llm = llm)"
   ]
  },
  {
   "cell_type": "code",
   "execution_count": 15,
   "metadata": {},
   "outputs": [
    {
     "data": {
      "text/plain": [
       "'puttwo'"
      ]
     },
     "execution_count": 15,
     "metadata": {},
     "output_type": "execute_result"
    }
   ],
   "source": [
    "v"
   ]
  },
  {
   "cell_type": "code",
   "execution_count": 17,
   "metadata": {},
   "outputs": [],
   "source": [
    "examples = prompt"
   ]
  },
  {
   "cell_type": "code",
   "execution_count": 18,
   "metadata": {},
   "outputs": [
    {
     "data": {
      "text/plain": [
       "'Interact with a household to solve a task. Here are two examples.\\nYou are in the middle of a room. Looking quickly around you, you see a cabinet 4, a cabinet 3, a cabinet 2, a cabinet 1, a coffeemachine 1, a countertop 1, a diningtable 3, a diningtable 2, a diningtable 1, a drawer 1, a fridge 1, a garbagecan 1, a microwave 1, a sidetable 1, a sinkbasin 1, a stoveburner 4, a stoveburner 3, a stoveburner 2, a stoveburner 1, and a toaster 1.\\nYour task is to: clean some apple and put it in sidetable.\\n> think: To solve the task, I need to find and take an apple, then clean it with sinkbasin, then put it in sidetable.\\nOK.\\n> think: First I need to find an apple. An apple is more likely to appear in fridges (1), diningtable (1-3), sidetable (1), countertop (1), sinkbasin (1), garbagecan (1). I can check one by one, starting with fridge 1.\\nOK.\\n> go to fridge 1\\nThe fridge 1 is closed.\\n> open fridge 1\\nYou open the fridge 1. The fridge 1 is open. In it, you see a lettuce 2, a mug 2, a potato 2, and a tomato 1.\\n> go to diningtable 1\\nOn the diningtable 1, you see nothing.\\n> go to diningtable 2\\nOn the diningtable 2, you see a pineapple 1.\\n> go to diningtable 3\\nOn the diningtable 3, you see a bowl 2, a bowl 1, a bread 2, and a bread 1.\\n> go to sidetable 1\\nOn the sidetable 1, you see a cup 1, a lettuce 1, a peppershaker 3, a potato 1, and a saltshaker 1.\\n> go to countertop 1\\nOn the countertop 1, you see a butterknife 1, a dishsponge 1, and a soapbottle 1.\\n> go to sinkbasin 1\\nOn the sinkbasin 1, you see a cup 2, a egg 1, a mug 1, and a potato 3.\\n> go to garbagecan 1\\nOn the garbagecan 1, you see a apple 3, and a egg 3.\\n> think: Now I find an apple (3). Next, I need to take it.\\nOK.\\n> take apple 3 from garbagecan 1\\nYou pick up the apple 3 from the garbagecan 1.\\n> think: Now I take an apple (3). Next, I need to go to sinkbasin (1) and clean it.\\nOK.\\n> go to sinkbasin 1\\nOn the sinkbasin 1, you see a cup 2, a egg 1, a mug 1, and a potato 3.\\n> clean apple 3 with sinkbasin 1\\nYou clean the apple 3 using the sinkbasin 1.\\n> think: Now I clean an apple (3). Next, I need to put it in/on sidetable 1.\\nOK.\\n> go to sidetable 1\\nOn the sidetable 1, you see a cup 1, a lettuce 1, a peppershaker 3, a potato 1, and a saltshaker 1.\\n> put apple 3 in/on sidetable 1\\nYou put the apple 3 in/on the sidetable 1.\\nYou are in the middle of a room. Looking quickly around you, you see a cabinet 13, a cabinet 12, a cabinet 11, a cabinet 10, a cabinet 9, a cabinet 8, a cabinet 7, a cabinet 6, a cabinet 5, a cabinet 4, a cabinet 3, a cabinet 2, a cabinet 1, a coffeemachine 1, a countertop 1, a diningtable 1, a drawer 1, a fridge 1, a garbagecan 1, a microwave 1, a shelf 3, a shelf 2, a shelf 1, a sinkbasin 1, a stoveburner 4, a stoveburner 3, a stoveburner 2, a stoveburner 1, and a toaster 1.\\nYour task is to: put a clean lettuce in diningtable.\\n> think: To solve the task, I need to find and take a lettuce, then clean it with sinkbasin, then put it in diningtable. \\nOK.\\n> think: First I need to find a lettuce. A lettuce is more likely to appear in fridge (1), diningtable (1), sinkbasin (1), stoveburner (1-3), cabinet (1-13). I can check one by one, starting with fridge 1.\\nOK.\\n> go to fridge 1\\nThe fridge 1 is closed.\\n> open fridge 1\\nYou open the fridge 1. The fridge 1 is open. In it, you see a cup 3, a egg 2, a potato 3, and a potato 2.\\n> go to diningtable 1\\nOn the diningtable 1, you see a apple 1, a bread 1, a butterknife 2, a cup 2, a fork 2, a knife 2, a knife 1, a ladle 1, a lettuce 1, a mug 2, a mug 1, a pan 2, a peppershaker 1, a spatula 3, a tomato 2, and a tomato 1.\\n> think: Now I find a lettuce (1). Next, I need to take it.\\nOK.\\n> take lettuce 1 from diningtable 1\\nYou pick up the lettuce 1 from the diningtable 1.\\n> think: Now I take a lettuce (1). Next, I need to go to sinkbasin (1) and clean it.\\nOK.\\n> go to sinkbasin 1\\nOn the sinkbasin 1, you see a apple 2, a ladle 2, a spoon 1, and a tomato 3.\\n> clean lettuce 1 with sinkbasin 1\\nYou clean the lettuce 1 using the sinkbasin 1.\\n> think: Now I clean a lettuce (1). Next, I need to put it in/on diningtable 1.\\nOK.\\n> go to diningtable 1\\nOn the diningtable 1, you see a apple 1, a bread 1, a butterknife 2, a cup 2, a fork 2, a knife 2, a knife 1, a ladle 1, a mug 2, a mug 1, a pan 2, a peppershaker 1, a spatula 3, a tomato 2, and a tomato 1.\\n> put lettuce 1 in/on diningtable 1\\nYou put the lettuce 1 in/on the diningtable 1.\\n\\nHere is the task.\\n'"
      ]
     },
     "execution_count": 18,
     "metadata": {},
     "output_type": "execute_result"
    }
   ],
   "source": [
    "examples"
   ]
  },
  {
   "cell_type": "code",
   "execution_count": 19,
   "metadata": {},
   "outputs": [],
   "source": [
    "from discussion_agents.cog.prompts.react import REACT_ALFWORLD_INSTRUCTION"
   ]
  },
  {
   "cell_type": "code",
   "execution_count": 32,
   "metadata": {},
   "outputs": [
    {
     "name": "stdout",
     "output_type": "stream",
     "text": [
      "Nothing happens. False False\n",
      "Act 0: think: To solve the task, I need to find some watches and put them on the safe.\n",
      "Obs 0: OK.\n",
      "Nothing happens. False False\n",
      "Act 1: think: First, I need to find some watches. Watches are more likely to be found in drawers (1-5), shelves (1-12), cabinets (1-4), and maybe on the dresser (1). I can start by checking the drawers.\n",
      "Obs 1: OK.\n",
      "The drawer 1 is closed. False False\n",
      "Act 2: go to drawer 1\n",
      "Obs 2: The drawer 1 is closed.\n",
      "You open the drawer 1. The drawer 1 is open. In it, you see a watch 1. False False\n",
      "Act 3: open drawer 1\n",
      "Obs 3: You open the drawer 1. The drawer 1 is open. In it, you see a watch 1.\n",
      "You pick up the watch 1 from the drawer 1. False False\n",
      "Act 4: take watch 1 from drawer 1\n",
      "Obs 4: You pick up the watch 1 from the drawer 1.\n",
      "The safe 1 is closed. False False\n",
      "Act 5: go to safe 1\n",
      "Obs 5: The safe 1 is closed.\n",
      "You open the safe 1. The safe 1 is open. In it, you see a vase 3, and a vase 2. False False\n",
      "Act 6: open safe 1\n",
      "Obs 6: You open the safe 1. The safe 1 is open. In it, you see a vase 3, and a vase 2.\n",
      "Nothing happens. False False\n",
      "Act 7: put watch 1 on safe 1\n",
      "Obs 7: Nothing happens.\n",
      "You put the watch 1 in/on the safe 1. True True\n",
      "Act 8: put watch 1 in/on safe 1\n",
      "Obs 8: You put the watch 1 in/on the safe 1.\n"
     ]
    }
   ],
   "source": [
    "\n",
    "test_run.set_Alfworld()\n",
    "observation = None\n",
    "done = False\n",
    "for i in range(0,50):\n",
    "    ans = test_run.step(question=ob, examples=examples , prompt_template=REACT_ALFWORLD_INSTRUCTION , env_output=observation)\n",
    "    ans = ans[0].strip()\n",
    "    observation, reward, done, info = env.step([ans])\n",
    "    observation, reward, done = process_ob(observation[0]), info['won'][0], done[0]\n",
    "    print(observation, reward, done)\n",
    "    if ans.startswith('think:'):\n",
    "        observation = 'OK.'\n",
    "    if True:\n",
    "        print(f'Act {i}: {ans}\\nObs {i}: {observation}')\n",
    "    prompt += f' {ans}\\n{observation}\\n>'\n",
    "    if done:\n",
    "        break\n"
   ]
  },
  {
   "cell_type": "code",
   "execution_count": 30,
   "metadata": {},
   "outputs": [],
   "source": [
    "test_run.reset()"
   ]
  },
  {
   "cell_type": "code",
   "execution_count": 16,
   "metadata": {},
   "outputs": [],
   "source": [
    "string = \"think: I did not find a cool tomato in the fridge 1. Next, I will check the countertop 1-3.\""
   ]
  },
  {
   "cell_type": "code",
   "execution_count": 19,
   "metadata": {},
   "outputs": [
    {
     "data": {
      "text/plain": [
       "False"
      ]
     },
     "execution_count": 19,
     "metadata": {},
     "output_type": "execute_result"
    }
   ],
   "source": [
    "not(string.startswith('think'))"
   ]
  },
  {
   "cell_type": "code",
   "execution_count": null,
   "metadata": {},
   "outputs": [],
   "source": []
  }
 ],
 "metadata": {
  "kernelspec": {
   "display_name": "Python 3",
   "language": "python",
   "name": "python3"
  },
  "language_info": {
   "name": "python",
   "version": "3.12.2"
  }
 },
 "nbformat": 4,
 "nbformat_minor": 2
}
