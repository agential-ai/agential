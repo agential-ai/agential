{
 "cells": [
  {
   "cell_type": "code",
   "execution_count": 4,
   "metadata": {},
   "outputs": [],
   "source": [
    "from discussion_agents.cog.prompts.react import REACT_ALFWORLD_PROMPTS_EXAMPLE"
   ]
  },
  {
   "cell_type": "code",
   "execution_count": 1,
   "metadata": {},
   "outputs": [],
   "source": [
    "from discussion_agents.cog.agent.react import ReActAgent"
   ]
  },
  {
   "cell_type": "code",
   "execution_count": 2,
   "metadata": {},
   "outputs": [],
   "source": [
    "from langchain_community.chat_models import ChatOpenAI\n",
    "llm = ChatOpenAI(model_name=\"gpt-3.5-turbo\", openai_api_key = )\n",
    "\n"
   ]
  },
  {
   "cell_type": "code",
   "execution_count": 3,
   "metadata": {},
   "outputs": [],
   "source": [
    "test = ReActAgent(llm=llm)"
   ]
  },
  {
   "cell_type": "code",
   "execution_count": 8,
   "metadata": {},
   "outputs": [
    {
     "name": "stdout",
     "output_type": "stream",
     "text": [
      "hello wolrd\n",
      "Initializing AlfredTWEnv...\n",
      "Checking for solvable games...\n"
     ]
    },
    {
     "name": "stderr",
     "output_type": "stream",
     "text": [
      "100%|██████████| 341/341 [00:00<00:00, 1556.69it/s]"
     ]
    },
    {
     "name": "stdout",
     "output_type": "stream",
     "text": [
      "Overall we have 134 games in split=eval_out_of_distribution\n",
      "Evaluating with 134 games\n"
     ]
    },
    {
     "name": "stderr",
     "output_type": "stream",
     "text": [
      "\n"
     ]
    }
   ],
   "source": [
    "import yaml\n",
    "import alfworld\n",
    "import alfworld.agents.environment\n",
    "with open('tests/assets/base_config.yaml') as reader:\n",
    "    config = yaml.safe_load(reader)\n",
    "    \n",
    "print('hello wolrd')\n",
    "split = \"eval_out_of_distribution\"\n",
    "\n",
    "env = getattr(alfworld.agents.environment, config[\"env\"][\"type\"])(config, train_eval=split)\n",
    "env = env.init_env(batch_size=1)\n"
   ]
  },
  {
   "cell_type": "code",
   "execution_count": 9,
   "metadata": {},
   "outputs": [],
   "source": [
    "d = REACT_ALFWORLD_PROMPTS_EXAMPLE"
   ]
  },
  {
   "cell_type": "code",
   "execution_count": 10,
   "metadata": {},
   "outputs": [],
   "source": [
    "prefixes = {\n",
    "    'pick_and_place': 'put',\n",
    "    'pick_clean_then_place': 'clean',\n",
    "    'pick_heat_then_place': 'heat',\n",
    "    'pick_cool_then_place': 'cool',\n",
    "    'look_at_obj': 'examine',\n",
    "    'pick_two_obj': 'puttwo'\n",
    "}"
   ]
  },
  {
   "cell_type": "code",
   "execution_count": 11,
   "metadata": {},
   "outputs": [
    {
     "name": "stdout",
     "output_type": "stream",
     "text": [
      "pick_cool_then_place_in_recep-Tomato-None-Microwave-10/trial_T20190909_102644_926781\n",
      "Interact with a household to solve a task. Here are two examples.\n",
      "You are in the middle of a room. Looking quickly around you, you see a cabinet 9, a cabinet 8, a cabinet 7, a cabinet 6, a cabinet 5, a cabinet 4, a cabinet 3, a cabinet 2, a cabinet 1, a coffeemachine 1, a countertop 3, a countertop 2, a countertop 1, a drawer 9, a drawer 8, a drawer 7, a drawer 6, a drawer 5, a drawer 4, a drawer 3, a drawer 2, a drawer 1, a fridge 1, a garbagecan 1, a microwave 1, a shelf 3, a shelf 2, a shelf 1, a sinkbasin 1, a stoveburner 4, a stoveburner 3, a stoveburner 2, a stoveburner 1, and a toaster 1.\n",
      "                                Your task is to: put a cool mug in shelf.\n",
      "                                Action 1: think: To solve the task, I need to find and take a mug, then cool it with fridge, then put it in shelf.\n",
      "                                Observation 1: OK.\n",
      "                                Action 2: think: First I need to find a mug. A mug is more likely to appear in countertop (1-3), coffeemachine (1), cabinet (1-9), shelf (1-3), drawer (1-9). I can check one by one, starting with countertop 1.\n",
      "                                Observation 2: OK.\n",
      "                                Action 3: go to countertop 1\n",
      "                                Observation 3: On the countertop 1, you see a knife 1, a pan 2, a pan 1, and a plate 1.\n",
      "                                Action 4: go to countertop 2\n",
      "                                Observation 4: On the countertop 2, you see a apple 2, a butterknife 2, a fork 3, a houseplant 1, a knife 2, a lettuce 3, a spatula 1, and a winebottle 1.\n",
      "                                Action 5: go to countertop 3\n",
      "                                Observation 5: On the countertop 3, you see a apple 1, a book 1, a bread 1, a butterknife 3, a glassbottle 2, a glassbottle 1, a knife 3, a lettuce 2, a lettuce 1, a papertowelroll 1, a plate 3, a spoon 1, a statue 1, and a vase 2.\n",
      "                                Action 6: go to coffeemachine 1\n",
      "                                Observation 6: On the coffeemachine 1, you see nothing.\n",
      "                                Action 7: go to cabinet 1\n",
      "                                Observation 7: The cabinet 1 is closed.\n",
      "                                Action 8: open cabinet 1\n",
      "                                Observation 8: You open the cabinet 1. The cabinet 1 is open. In it, you see nothing.\n",
      "                                Action 9: go to cabinet 2\n",
      "                                Observation 9: The cabinet 2 is closed.\n",
      "                                Action 10: open cabinet 2\n",
      "                                Observation 10: You open the cabinet 2. The cabinet 2 is open. In it, you see nothing.\n",
      "                                Action 11: go to cabinet 3\n",
      "                                Observation 11: The cabinet 3 is closed.\n",
      "                                Action 12: open cabinet 3\n",
      "                                Observation 12: You open the cabinet 3. The cabinet 3 is open. In it, you see a pot 1.\n",
      "                                Action 13: go to cabinet 4\n",
      "                                Observation 13: On the cabinet 4, you see nothing.\n",
      "                                Action 14: go to cabinet 5\n",
      "                                Observation 14: The cabinet 5 is closed.\n",
      "                                Action 15: open cabinet 5\n",
      "                                Observation 15: You open the cabinet 5. The cabinet 5 is open. In it, you see nothing.\n",
      "                                Action 16: go to cabinet 6\n",
      "                                Observation 16: The cabinet 6 is closed.\n",
      "                                Action 17: open cabinet 6\n",
      "                                Observation 17: You open the cabinet 6. The cabinet 6 is open. In it, you see a mug 3.\n",
      "                                Action 18: think: Now I find a mug (3). Next, I need to take it.\n",
      "                                Observation 18: OK.\n",
      "                                Action 19: take mug 3 from cabinet 6\n",
      "                                Observation 19: You pick up the mug 3 from the cabinet 6.\n",
      "                                Action 20: think: Now I take a mug (3). Next, I need to go to a fridge (1) and cool it.\n",
      "                                Observation 20: OK.\n",
      "                                Action 21: go to fridge 1\n",
      "                                Observation 21: The fridge 1 is closed.\n",
      "                                Action 22: cool mug 3 with fridge 1\n",
      "                                Observation 22: You cool the mug 3 using the fridge 1.\n",
      "                                Action 23: think: Now I cool the mug. Next, I need to put it in/on shelf 1.\n",
      "                                Observation 23: OK.\n",
      "                                Action 24: go to shelf 1\n",
      "                                Observation 24: On the shelf 1, you see a cup 2, a cup 1, a peppershaker 1, and a saltshaker 1.\n",
      "                                Action 25: put mug 3 in/on shelf 1\n",
      "                                Observation 25: You put the mug 3 in/on the shelf 1.\n",
      "                                You are in the middle of a room. Looking quickly around you, you see a cabinet 16, a cabinet 15, a cabinet 14, a cabinet 13, a cabinet 12, a cabinet 11, a cabinet 10, a cabinet 9, a cabinet 8, a cabinet 7, a cabinet 6, a cabinet 5, a cabinet 4, a cabinet 3, a cabinet 2, a cabinet 1, a coffeemachine 1, a countertop 2, a countertop 1, a diningtable 1, a drawer 5, a drawer 4, a drawer 3, a drawer 2, a drawer 1, a fridge 1, a garbagecan 1, a microwave 1, a safe 1, a sinkbasin 1, a stoveburner 4, a stoveburner 3, a stoveburner 2, a stoveburner 1, and a toaster 1.\n",
      "                                Your task is to: cool some pan and put it in stoveburner.\n",
      "                                Action 1: think: To solve the task, I need to find and take a pan, then cool it with fridge, then put it in stoveburner.\n",
      "                                Observation 1: OK.\n",
      "                                Action 2: think: First I need to find a pan. An pan is more likely to appear in stoveburner (1-4), sinkbasin (1), diningtable (1), countertop (1-2), cabinet (1-16), drawer (1-5). I can check one by one, starting with stoveburner 1.\n",
      "                                Observation 2: OK.\n",
      "                                Action 3: go to stoveburner 1\n",
      "                                Observation 3: On the stoveburner 1, you see nothing.\n",
      "                                Action 4: go to stoveburner 2\n",
      "                                Observation 4: On the stoveburner 2, you see a pot 1.\n",
      "                                Action 5: go to stoveburner 3\n",
      "                                Observation 5: On the stoveburner 3, you see a pan 1.\n",
      "                                Action 6: take pan 1 from stoveburner 3 \n",
      ">think: Now I find a pan (1). Next, I need to take it.\n",
      "                                Observation 6: OK.\n",
      "You pick up the pan 1 from the stoveburner 3.\n",
      "                                Action 7: think: Now I take a pan (1). Next, I need to go to a fridge (1) and cool it.\n",
      "                                Observation 7: OK.\n",
      "                                Action 8: go to fridge 1\n",
      "                                Observation 8: The fridge 1 is closed.\n",
      "                                Action 9: cool pan 1 with fridge 1\n",
      "                                Observation 9: You cool the pan 1 using the fridge 1.\n",
      "                                Action 10: think: Now I cool a pan (1). Next, I need to put it in/on stoveburner 1.\n",
      "                                Observation 10: OK.\n",
      "                                Action 11: go to stoveburner 1\n",
      "                                Observation 11: On the stoveburner 1, you see nothing.\n",
      "                                Action 12: put pan 1 in/on stoveburner 1\n",
      "                                Observation 12: You put the pan 1 in/on the stoveburner 1.\n",
      "                                \n",
      "Here is the task.\n",
      "\n"
     ]
    }
   ],
   "source": [
    "ob, info = env.reset()\n",
    "ob = '\\n'.join(ob[0].split('\\n\\n')[1:])\n",
    "name = '/'.join(info['extra.gamefile'][0].split('/')[-3:-1])\n",
    "print(name)\n",
    "for i, (k, v) in enumerate(prefixes.items()):\n",
    "    if name.startswith(k):\n",
    "        prompt = 'Interact with a household to solve a task. Here are two examples.\\n' + d[f'react_{v}_1'] + d[f'react_{v}_0'] + '\\nHere is the task.\\n'\n",
    "print(prompt)"
   ]
  },
  {
   "cell_type": "code",
   "execution_count": 13,
   "metadata": {},
   "outputs": [],
   "source": [
    "from discussion_agents.cog.prompts.react import REACT_ALFWORLD_INSTRUCTION"
   ]
  },
  {
   "cell_type": "code",
   "execution_count": 15,
   "metadata": {},
   "outputs": [
    {
     "name": "stdout",
     "output_type": "stream",
     "text": [
      "\n",
      "Action 1: think: To solve the task, I need to find a tomato, cool it with the fridge, and then put it in the microwave.\n",
      "Observation 1:  OK.\n",
      "Action 2: think: First, I need to find a tomato. A tomato is more likely to be found in the countertop (1-3), fridge (1), cabinet (1-6), drawer (1-3). I can start by checking the countertop 1.\n",
      "Observation 2:  OK.\n",
      "Action 3: go to countertop 1\n",
      "Observation 3:  On the countertop 1, you see a dishsponge 1, and a mug 2.\n",
      "Action 4: go to countertop 2\n",
      "Observation 4:  On the countertop 2, you see a butterknife 1, a cellphone 1, a creditcard 1, a knife 1, a lettuce 1, a saltshaker 2, a saltshaker 1, a statue 1, and a tomato 1.\n",
      "Action 5: take tomato 1 from countertop 2\n",
      "Observation 5:  You pick up the tomato 1 from the countertop 2.\n",
      "Action 6: think: Now that I have the tomato (1), I need to cool it with the fridge (1).\n",
      "Observation 6:  OK.\n"
     ]
    }
   ],
   "source": [
    "print(test.generate(question=ob, examples=prompt, env=env,instruction = REACT_ALFWORLD_INSTRUCTION))"
   ]
  },
  {
   "cell_type": "code",
   "execution_count": 4,
   "metadata": {},
   "outputs": [],
   "source": [
    "from discussion_agents.cog.prompts.react import REACT_INSTRUCTION_HOTPOTQA,REACT_WEBTHINK_SIMPLE6_FEWSHOT_EXAMPLES"
   ]
  },
  {
   "cell_type": "code",
   "execution_count": 5,
   "metadata": {},
   "outputs": [
    {
     "name": "stderr",
     "output_type": "stream",
     "text": [
      "/opt/homebrew/lib/python3.11/site-packages/langchain_core/_api/deprecation.py:117: LangChainDeprecationWarning: The function `__call__` was deprecated in LangChain 0.1.7 and will be removed in 0.2.0. Use invoke instead.\n",
      "  warn_deprecated(\n"
     ]
    },
    {
     "name": "stdout",
     "output_type": "stream",
     "text": [
      "\n",
      "Thought: I need to search for the best kick boxer in the world known for controversies and crimes of violence.\n",
      "Action 1: Search[best kick boxer in the world controversies]\n",
      "Observation 1: The Boxer Rebellion, also known as the Boxer Uprising, the Boxer Insurrection, or the Yihetuan Movement, was an anti-foreign, anti-imperialist, and anti-Christian uprising in North China between 1899 and 1901, towards the end of the Qing dynasty, by the Society of Righteous and Harmonious Fists (Yìhéquán). The group was known as \"Boxers\" in English because many of its members practised Chinese martial arts, which at the time were referred to as \"Chinese boxing\". It was defeated by the Eight-Nation Alliance of foreign powers.After the Sino-Japanese War of 1895, villagers in North China feared the expansion of foreign spheres of influence and resented the extension of privileges to Christian missionaries, who used them to shield their followers. In 1898 North China experienced several natural disasters, including the Yellow River flooding and droughts, which Boxers blamed on foreign and Christian influence. Beginning in 1899, the movement spread across Shandong and the North China Plain, destroying foreign property such as railroads and attacking or murdering Christian missionaries and Chinese Christians. The events came to a head in June 1900 when Boxer fighters, convinced they were invulnerable to foreign weapons, converged on Beijing with the slogan \"Support the Qing government and exterminate the foreigners.\"Diplomats, missionaries, soldiers, and some Chinese Christians took refuge in the diplomatic Legation Quarter, which the Boxers besieged. An Eight-Nation Alliance of American, Austro-Hungarian, British, French, German, Italian, Japanese and Russian troops moved into China to lift the siege and on 17 June stormed the Dagu Fort at Tianjin. The Empress Dowager Cixi, who had initially been hesitant, supported the Boxers and on 21 June issued an Imperial Decree, a de facto declaration of war, on the invading powers. Chinese officialdom was split between those supporting the Boxers and those favouring conciliation, led by Prince Qing. The supreme commander of the Chinese forces, the Manchu General Ronglu (Junglu), later claimed he acted to protect the foreigners. Officials in the southern provinces ignored the imperial order to fight against foreigners.The Eight-Nation Alliance, after initially being turned back by the Imperial Chinese military and Boxer militia, brought 20,000 armed troops to China. They defeated the Imperial Army in Tianjin and arrived in Beijing on 14 August, relieving the 55-day siege of the Legations. Plunder of the capital and the surrounding countryside ensued, along with summary execution of those suspected of being Boxers in retribution. The Boxer Protocol of 7 September 1901 provided for the execution of government officials who had supported the Boxers, for foreign troops to be stationed in Beijing, and for 450 million taels of silver—more than the government's annual tax revenue—to be paid as indemnity over the course of the next 39 years to the eight invading nations. The Qing dynasty's handling of the Boxer Rebellion further weakened their control over China, and led to major governmental reforms.\n",
      "Thought: This passage does not mention any specific kick boxer known for controversies and crimes of violence. I should try searching for a specific kick boxer known for unsportsmanlike conduct and crimes outside of the ring.\n",
      "Action 2: Search[kick boxer unsportsmanlike conduct crimes]\n",
      "Observation 2: Could not find [kick boxer unsportsmanlike conduct crimes]. Similar: ['Badr Hari', 'Adam Jones (American football)', 'John Hopoate']\n",
      "Thought: I should try searching for each of the similar options to see if any of them match the description of the kick boxer I am looking for.\n",
      "Action 3: Search[Badr Hari]\n",
      "Observation 3: Could not find [Badr Hari]. Similar: ['Badr Hari', 'Rico Verhoeven', 'Global Fighting Championship', 'Alistair Overeem', 'Benjamin Adegbuyi', 'Said El Badaoui', 'Remy Bonjasky', 'Gökhan Saki', 'Zabit Samedov', 'Peter Graham (fighter)']\n",
      "Thought: I should try searching for Rico Verhoeven next.\n",
      "Action 4: Search[Rico Verhoeven]\n",
      "Observation 4: Rico Verhoeven (born 10 April 1989) is a Dutch professional kickboxer who currently competes in the heavyweight division of GLORY, where he is the reigning Glory Heavyweight Champion. A professional since 2004, he also competed in the K-1, It's Showtime and SUPERKOMBAT promotions. He is currently ranked the number one heavyweight in the world by Combat Press. Verhoeven has been continually ranked as the number one heavyweight kickboxer in the world by Combat Press since September 2014, when the rankings were first established.\n",
      "Thought: Rico Verhoeven is a Dutch professional kickboxer known for his achievements in the sport. This passage does not mention any controversies or crimes of violence related to him. I should continue searching for a kick boxer matching the description I am looking for.\n",
      "Action 5: Search[John Hopoate]\n",
      "Observation 5: John Hopoate (born 16 January 1974 in Tonga) is a former professional rugby league player and boxer who was involved in sport controversies and subsequently convicted for violent crimes. He played rugby league in the Tonga national rugby league team, Australian Rugby League team, NSW State of Origin team and in the National Rugby League (NRL) for Manly-Warringah Sea Eagles (including their 1996 Premiership team), Wests Tigers and the Northern Eagles. He became the \"most suspended player of the modern era\". In 2018 he was banned for 10 years by the NSWRL from any involvement in its and affiliated rugby league.Hopoate was the Australian heavyweight boxing champion from 2008 to 2009.He is the father of footballers William, Jamil and Albert Hopoate.\n",
      "Thought: John Hopoate is a former professional rugby league player and boxer known for controversies and crimes of violence. He is not a kick boxer, so I should continue searching for a kick boxer matching the description I am looking for.\n",
      "Action 6: Search[Adam Jones kick boxer]\n",
      "Observation 6: Adam Bernard Jones (born September 30, 1983) is a former American football cornerback and return specialist who played in the National Football League (NFL) for 13 seasons, most notably with the Cincinnati Bengals. Nicknamed \"Pacman\", he played college football at West Virginia and was drafted by the Tennessee Titans, sixth pick overall in the 2005 NFL Draft.Jones' career was largely marred by numerous legal issues, and he was suspended from the NFL on two occasions: for the entire 2007 season and for part of the 2008 season due to off-the-field conduct. Jones has been arrested more times than any other NFL player in the 21st century. Outside of football, he has been involved in professional wrestling, boxing and music. During his NFL exile in 2007, he began making appearances in Total Nonstop Action Wrestling (TNA), but he was prevented from in-ring action by the Titans front office. Despite that, he teamed with Ron Killings as Team Pacman, and they were TNA World Tag Team Champions for over a month. Also in 2007, Jones started up his own record label and was one half of the rap duo Posterboyz. After his retirement from football, Jones began training to be a boxer, but was defeated in his first amateur bout in 2021.During 2023, he made numerous in-studio appearances for The Pat McAfee Show, before co-hosting Runnin' It Back w/ Pac + Zach on BetOnline.\n"
     ]
    }
   ],
   "source": [
    "print(test.generate(question='Who was once considered the best kick boxer in the world, however he has been involved in a number of controversies relating to his \"unsportsmanlike conducts\" in the sport and crimes of violence outside of the ring',examples=REACT_WEBTHINK_SIMPLE6_FEWSHOT_EXAMPLES,instruction=REACT_INSTRUCTION_HOTPOTQA))"
   ]
  },
  {
   "cell_type": "code",
   "execution_count": 6,
   "metadata": {},
   "outputs": [],
   "source": [
    "from discussion_agents.cog.prompts.react import REACT_INSTRUCTION_FEVER,REACT_WEBTHINK_SIMPLE3_FEVER_EXAMPLES"
   ]
  },
  {
   "cell_type": "code",
   "execution_count": 7,
   "metadata": {},
   "outputs": [
    {
     "name": "stdout",
     "output_type": "stream",
     "text": [
      "\n",
      "Thought: I need to search for Brad Wilk and find out if he died before being a drummer for Greta.\n",
      "Action 1: Search[Brad Wilk]\n",
      "Observation 1: Could not find [Brad Wilk]. Similar: ['Brad Wilk', 'Rage Against the Machine', 'Audioslave', 'Tim Commerford', 'Wilk', 'Prophets of Rage', 'Tom Morello', 'Show Me How to Live (song)', 'Rage Against the Machine (album)', 'Greta (band)']\n",
      "Thought: Since there is no information on Brad Wilk in the search results, I will search for Greta to find out more about the band.\n",
      "Action 2: Search[Greta]\n",
      "Observation 2: Greeting is an act of communication in which human beings intentionally make their presence known to each other, to show attention to, and to suggest a type of relationship (usually cordial) or social status (formal or informal) between individuals or groups of people coming in contact with each other. Greetings are sometimes used just prior to a conversation or to greet in passing, such as on a sidewalk or trail.  While greeting customs are highly culture- and situation-specific and may change within a culture depending on social status and relationship, they exist in all known human cultures.  Greetings can be expressed both audibly and physically, and often involve a combination of the two.  This topic excludes military and ceremonial salutes but includes rituals other than gestures. A greeting, or salutation, can also be expressed in written communications, such as letters and emails.Some epochs and cultures have had very elaborate greeting rituals, e.g. greeting a sovereign.  Conversely, secret societies have often furtive or arcane greeting gestures and rituals, such as a secret handshake, which allows members to recognize each other.In some languages and cultures, the same word or gesture is used as both greeting and farewell.  Examples are \"Good day\" in English, \"Drud\" in Persian,  \"Sat Shri Akaal\" in Punjabi, \"As-salamu alaykum\" in Arabic, \"Aloha\" in Hawaiian, \"Shalom\" in Hebrew, \"Namaste\" in Hindi, \"Ayubowan\" in Sri Lanka \"Sawatdi\" in Thai and \"Ciao\" in Italian.  The bow and handshake are also used for both greeting and leave-taking.\n",
      "Thought: Since the search results did not provide information on Greta, I will try searching for \"Greta band\" to find out more about them.\n",
      "Action 3: Search[Greta band]\n",
      "Observation 3: Greta was an American hard rock band formed in 1990 by Paul Plagens, Kyle Baer, Josh Gordon, and Brad Wilk.Wilk left the band in 1991 to join Rage Against the Machine, and was replaced on the drums by Scott Carneghi who went on to co-found the band Buffalocomotive in 2012.The band signed a two-record deal with Mercury Records in 1993 and released their debut album, No Biting, on September 21 of that year. Their second and final album, This Is Greta, was released in 1995, after which the band was dropped from the label. Greta disbanded in 1995. Vocalist Paul Plagens died in 2015\n",
      "Thought: Observation 3 states that Brad Wilk left Greta in 1991 to join Rage Against the Machine. Since he left the band before joining Greta, the claim that \"Brad Wilk died before being a drummer for Greta\" is refuted.\n",
      "Action 4: Finish[REFUTES]\n",
      "Observation 4: REFUTES\n"
     ]
    }
   ],
   "source": [
    "print(test.generate(question='Brad Wilk died before being a drummer for Greta.', examples=REACT_WEBTHINK_SIMPLE3_FEVER_EXAMPLES, instruction=REACT_INSTRUCTION_FEVER))"
   ]
  },
  {
   "cell_type": "code",
   "execution_count": null,
   "metadata": {},
   "outputs": [],
   "source": []
  }
 ],
 "metadata": {
  "kernelspec": {
   "display_name": "Python 3",
   "language": "python",
   "name": "python3"
  },
  "language_info": {
   "codemirror_mode": {
    "name": "ipython",
    "version": 3
   },
   "file_extension": ".py",
   "mimetype": "text/x-python",
   "name": "python",
   "nbconvert_exporter": "python",
   "pygments_lexer": "ipython3",
   "version": "3.11.7"
  }
 },
 "nbformat": 4,
 "nbformat_minor": 2
}
