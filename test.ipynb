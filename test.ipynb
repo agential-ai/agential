{
 "cells": [
  {
   "cell_type": "code",
   "execution_count": 3,
   "metadata": {},
   "outputs": [
    {
     "name": "stdout",
     "output_type": "stream",
     "text": [
      "hello wolrd\n",
      "Initializing AlfredTWEnv...\n",
      "Checking for solvable games...\n"
     ]
    },
    {
     "name": "stderr",
     "output_type": "stream",
     "text": [
      "100%|██████████| 341/341 [00:00<00:00, 1035.96it/s]"
     ]
    },
    {
     "name": "stdout",
     "output_type": "stream",
     "text": [
      "Overall we have 134 games in split=eval_out_of_distribution\n",
      "Evaluating with 134 games\n"
     ]
    },
    {
     "name": "stderr",
     "output_type": "stream",
     "text": [
      "\n"
     ]
    }
   ],
   "source": [
    "import yaml\n",
    "import alfworld\n",
    "import alfworld.agents.environment\n",
    "with open('tests/assets/base_config.yaml') as reader:\n",
    "    config = yaml.safe_load(reader)\n",
    "    \n",
    "print('hello wolrd')\n",
    "split = \"eval_out_of_distribution\"\n",
    "\n",
    "env = getattr(alfworld.agents.environment, config[\"env\"][\"type\"])(config, train_eval=split)\n",
    "env = env.init_env(batch_size=1)\n",
    "\n",
    "def process_ob(ob):\n",
    "    if ob.startswith('You arrive at loc '):\n",
    "        ob = ob[ob.find('. ')+2:]    \n",
    "    return ob"
   ]
  },
  {
   "cell_type": "code",
   "execution_count": 2,
   "metadata": {},
   "outputs": [],
   "source": [
    "from discussion_agents.cog.prompts.react import REACT_ALFWORLD_PROMPTS_EXAMPLE\n",
    "d = REACT_ALFWORLD_PROMPTS_EXAMPLE"
   ]
  },
  {
   "cell_type": "code",
   "execution_count": 3,
   "metadata": {},
   "outputs": [],
   "source": [
    "\n",
    "def alfworld_run(prompt, to_print=True, ob=''):\n",
    "    init_prompt = prompt + ob + '\\n>'\n",
    "    prompt = ''\n",
    "    if to_print:\n",
    "        print(ob)\n",
    "    for i in range(1, 50):\n",
    "        action = llm(init_prompt + prompt, stop=['\\n']).strip()\n",
    "        observation, reward, done, info = env.step([action])\n",
    "        observation, reward, done = process_ob(observation[0]), info['won'][0], done[0]\n",
    "        print(observation, reward, done)\n",
    "        if action.startswith('think:'):\n",
    "            observation = 'OK.'\n",
    "        if to_print:\n",
    "            print(f'Act {i}: {action}\\nObs {i}: {observation}')\n",
    "        prompt += f' {action}\\n{observation}\\n>'\n",
    "        if done:\n",
    "            return reward\n",
    "    return 0"
   ]
  },
  {
   "cell_type": "code",
   "execution_count": 4,
   "metadata": {},
   "outputs": [
    {
     "name": "stdout",
     "output_type": "stream",
     "text": [
      "pick_cool_then_place_in_recep-Tomato-None-Microwave-10/trial_T20190909_102644_926781\n"
     ]
    }
   ],
   "source": [
    "prefixes = {\n",
    "    'pick_and_place': 'put',\n",
    "    'pick_clean_then_place': 'clean',\n",
    "    'pick_heat_then_place': 'heat',\n",
    "    'pick_cool_then_place': 'cool',\n",
    "    'look_at_obj': 'examine',\n",
    "    'pick_two_obj': 'puttwo'\n",
    "}\n",
    "\n",
    "\n",
    "\n",
    "ob, info = env.reset()\n",
    "ob = '\\n'.join(ob[0].split('\\n\\n')[1:])\n",
    "name = '/'.join(info['extra.gamefile'][0].split('/')[-3:-1])\n",
    "print(name)\n",
    "for i, (k, v) in enumerate(prefixes.items()):\n",
    "    if name.startswith(k):\n",
    "        prompt = 'Interact with a household to solve a task. Here are two examples.\\n' + d[f'react_{v}_1'] + d[f'react_{v}_0'] + '\\nHere is the task.\\n'\n",
    "        break\n",
    "\n"
   ]
  },
  {
   "cell_type": "code",
   "execution_count": 5,
   "metadata": {},
   "outputs": [
    {
     "data": {
      "text/plain": [
       "'pick_cool_then_place'"
      ]
     },
     "execution_count": 5,
     "metadata": {},
     "output_type": "execute_result"
    }
   ],
   "source": [
    "k\n"
   ]
  },
  {
   "cell_type": "code",
   "execution_count": 6,
   "metadata": {},
   "outputs": [
    {
     "data": {
      "text/plain": [
       "'You are in the middle of a room. Looking quickly around you, you see a cabinet 6, a cabinet 5, a cabinet 4, a cabinet 3, a cabinet 2, a cabinet 1, a coffeemachine 1, a countertop 3, a countertop 2, a countertop 1, a drawer 3, a drawer 2, a drawer 1, a fridge 1, a garbagecan 1, a microwave 1, a shelf 3, a shelf 2, a shelf 1, a sinkbasin 1, a stoveburner 4, a stoveburner 3, a stoveburner 2, a stoveburner 1, and a toaster 1.\\nYour task is to: put a cool tomato in microwave.'"
      ]
     },
     "execution_count": 6,
     "metadata": {},
     "output_type": "execute_result"
    }
   ],
   "source": [
    "ob"
   ]
  },
  {
   "cell_type": "code",
   "execution_count": 3,
   "metadata": {},
   "outputs": [],
   "source": [
    "from langchain_community.chat_models import ChatOpenAI\n",
    "\n",
    "\n",
    "llm = ChatOpenAI(openai_api_key=)"
   ]
  },
  {
   "cell_type": "code",
   "execution_count": 4,
   "metadata": {},
   "outputs": [],
   "source": [
    "from discussion_agents.cog.agent.react import ReActAgent\n",
    "\n",
    "\n",
    "test_run = ReActAgent(llm = llm)"
   ]
  },
  {
   "cell_type": "code",
   "execution_count": 9,
   "metadata": {},
   "outputs": [
    {
     "data": {
      "text/plain": [
       "'cool'"
      ]
     },
     "execution_count": 9,
     "metadata": {},
     "output_type": "execute_result"
    }
   ],
   "source": [
    "v"
   ]
  },
  {
   "cell_type": "code",
   "execution_count": 10,
   "metadata": {},
   "outputs": [],
   "source": [
    "examples = prompt"
   ]
  },
  {
   "cell_type": "code",
   "execution_count": 11,
   "metadata": {},
   "outputs": [
    {
     "data": {
      "text/plain": [
       "'Interact with a household to solve a task. Here are two examples.\\nYou are in the middle of a room. Looking quickly around you, you see a cabinet 9, a cabinet 8, a cabinet 7, a cabinet 6, a cabinet 5, a cabinet 4, a cabinet 3, a cabinet 2, a cabinet 1, a coffeemachine 1, a countertop 3, a countertop 2, a countertop 1, a drawer 9, a drawer 8, a drawer 7, a drawer 6, a drawer 5, a drawer 4, a drawer 3, a drawer 2, a drawer 1, a fridge 1, a garbagecan 1, a microwave 1, a shelf 3, a shelf 2, a shelf 1, a sinkbasin 1, a stoveburner 4, a stoveburner 3, a stoveburner 2, a stoveburner 1, and a toaster 1.\\nYour task is to: put a cool mug in shelf.\\n> think: To solve the task, I need to find and take a mug, then cool it with fridge, then put it in shelf.\\nOK.\\n> think: First I need to find a mug. A mug is more likely to appear in countertop (1-3), coffeemachine (1), cabinet (1-9), shelf (1-3), drawer (1-9). I can check one by one, starting with countertop 1.\\nOK.\\n> go to countertop 1\\nOn the countertop 1, you see a knife 1, a pan 2, a pan 1, and a plate 1.\\n> go to countertop 2\\nOn the countertop 2, you see a apple 2, a butterknife 2, a fork 3, a houseplant 1, a knife 2, a lettuce 3, a spatula 1, and a winebottle 1.\\n> go to countertop 3\\nOn the countertop 3, you see a apple 1, a book 1, a bread 1, a butterknife 3, a glassbottle 2, a glassbottle 1, a knife 3, a lettuce 2, a lettuce 1, a papertowelroll 1, a plate 3, a spoon 1, a statue 1, and a vase 2.\\n> go to coffeemachine 1\\nOn the coffeemachine 1, you see nothing.\\n> go to cabinet 1\\nThe cabinet 1 is closed.\\n> open cabinet 1\\nYou open the cabinet 1. The cabinet 1 is open. In it, you see nothing.\\n> go to cabinet 2\\nThe cabinet 2 is closed.\\n> open cabinet 2\\nYou open the cabinet 2. The cabinet 2 is open. In it, you see nothing.\\n> go to cabinet 3\\nThe cabinet 3 is closed.\\n> open cabinet 3\\nYou open the cabinet 3. The cabinet 3 is open. In it, you see a pot 1.\\n> go to cabinet 4\\nOn the cabinet 4, you see nothing.\\n> go to cabinet 5\\nThe cabinet 5 is closed.\\n> open cabinet 5\\nYou open the cabinet 5. The cabinet 5 is open. In it, you see nothing.\\n> go to cabinet 6\\nThe cabinet 6 is closed.\\n> open cabinet 6\\nYou open the cabinet 6. The cabinet 6 is open. In it, you see a mug 3.\\n> think: Now I find a mug (3). Next, I need to take it.\\nOK.\\n> take mug 3 from cabinet 6\\nYou pick up the mug 3 from the cabinet 6.\\n> think: Now I take a mug (3). Next, I need to go to a fridge (1) and cool it.\\nOK.\\n> go to fridge 1\\nThe fridge 1 is closed.\\n> cool mug 3 with fridge 1\\nYou cool the mug 3 using the fridge 1.\\n> think: Now I cool the mug. Next, I need to put it in/on shelf 1.\\nOK.\\n> go to shelf 1\\nOn the shelf 1, you see a cup 2, a cup 1, a peppershaker 1, and a saltshaker 1.\\n> put mug 3 in/on shelf 1\\nYou put the mug 3 in/on the shelf 1.\\nYou are in the middle of a room. Looking quickly around you, you see a cabinet 16, a cabinet 15, a cabinet 14, a cabinet 13, a cabinet 12, a cabinet 11, a cabinet 10, a cabinet 9, a cabinet 8, a cabinet 7, a cabinet 6, a cabinet 5, a cabinet 4, a cabinet 3, a cabinet 2, a cabinet 1, a coffeemachine 1, a countertop 2, a countertop 1, a diningtable 1, a drawer 5, a drawer 4, a drawer 3, a drawer 2, a drawer 1, a fridge 1, a garbagecan 1, a microwave 1, a safe 1, a sinkbasin 1, a stoveburner 4, a stoveburner 3, a stoveburner 2, a stoveburner 1, and a toaster 1.\\nYour task is to: cool some pan and put it in stoveburner.\\n> think: To solve the task, I need to find and take a pan, then cool it with fridge, then put it in stoveburner.\\nOK.\\n> think: First I need to find a pan. An pan is more likely to appear in stoveburner (1-4), sinkbasin (1), diningtable (1), countertop (1-2), cabinet (1-16), drawer (1-5). I can check one by one, starting with stoveburner 1.\\nOK.\\n>go to stoveburner 1\\nOn the stoveburner 1, you see nothing.\\n>go to stoveburner 2\\nOn the stoveburner 2, you see a pot 1.\\n> go to stoveburner 3\\nOn the stoveburner 3, you see a pan 1.\\n> take pan 1 from stoveburner 3\\n> think: Now I find a pan (1). Next, I need to take it.\\nOK.\\nYou pick up the pan 1 from the stoveburner 3.\\n> think: Now I take a pan (1). Next, I need to go to a fridge (1) and cool it.\\nOK.\\n> go to fridge 1\\nThe fridge 1 is closed.\\n> cool pan 1 with fridge 1\\nYou cool the pan 1 using the fridge 1.\\n> think: Now I cool a pan (1). Next, I need to put it in/on stoveburner 1.\\nOK.\\n>go to stoveburner 1\\nOn the stoveburner 1, you see nothing.\\n> put pan 1 in/on stoveburner 1\\nYou put the pan 1 in/on the stoveburner 1.\\n\\nHere is the task.\\n'"
      ]
     },
     "execution_count": 11,
     "metadata": {},
     "output_type": "execute_result"
    }
   ],
   "source": [
    "examples"
   ]
  },
  {
   "cell_type": "code",
   "execution_count": 12,
   "metadata": {},
   "outputs": [],
   "source": [
    "from discussion_agents.cog.prompts.react import REACT_ALFWORLD_INSTRUCTION"
   ]
  },
  {
   "cell_type": "code",
   "execution_count": 13,
   "metadata": {},
   "outputs": [
    {
     "name": "stderr",
     "output_type": "stream",
     "text": [
      "/opt/homebrew/lib/python3.11/site-packages/langchain_core/_api/deprecation.py:117: LangChainDeprecationWarning: The function `__call__` was deprecated in LangChain 0.1.7 and will be removed in 0.2.0. Use invoke instead.\n",
      "  warn_deprecated(\n"
     ]
    },
    {
     "name": "stdout",
     "output_type": "stream",
     "text": [
      "output of agent step ['think: To solve the task, I need to find and take a tomato, then cool it with the fridge, and finally put it in/on the microwave.']\n",
      "Nothing happens. False False\n",
      "Act 0: think: To solve the task, I need to find and take a tomato, then cool it with the fridge, and finally put it in/on the microwave.\n",
      "Obs 0: OK.\n",
      "output of agent step ['think: First, I need to find a tomato. A tomato is more likely to appear in the fridge (1), countertop (1-3), shelf (1-3), cabinet (1-6), drawer (1-3). I can start by checking the fridge (1).']\n",
      "Nothing happens. False False\n",
      "Act 1: think: First, I need to find a tomato. A tomato is more likely to appear in the fridge (1), countertop (1-3), shelf (1-3), cabinet (1-6), drawer (1-3). I can start by checking the fridge (1).\n",
      "Obs 1: OK.\n",
      "output of agent step ['go to fridge 1']\n",
      "The fridge 1 is closed. False False\n",
      "Act 2: go to fridge 1\n",
      "Obs 2: The fridge 1 is closed.\n",
      "output of agent step ['open fridge 1']\n",
      "You open the fridge 1. The fridge 1 is open. In it, you see a bread 1, a mug 3, a pan 1, and a plate 3. False False\n",
      "Act 3: open fridge 1\n",
      "Obs 3: You open the fridge 1. The fridge 1 is open. In it, you see a bread 1, a mug 3, a pan 1, and a plate 3.\n",
      "output of agent step [\"think: I didn't find a tomato in the fridge. I should check other locations.\"]\n",
      "Nothing happens. False False\n",
      "Act 4: think: I didn't find a tomato in the fridge. I should check other locations.\n",
      "Obs 4: OK.\n",
      "output of agent step ['go to countertop 1']\n",
      "On the countertop 1, you see a dishsponge 1, and a mug 2. False False\n",
      "Act 5: go to countertop 1\n",
      "Obs 5: On the countertop 1, you see a dishsponge 1, and a mug 2.\n",
      "output of agent step [\"think: I didn't find a tomato on the countertop. I should check other locations.\"]\n",
      "Nothing happens. False False\n",
      "Act 6: think: I didn't find a tomato on the countertop. I should check other locations.\n",
      "Obs 6: OK.\n",
      "output of agent step ['go to countertop 2']\n",
      "On the countertop 2, you see a butterknife 1, a cellphone 1, a creditcard 1, a knife 1, a lettuce 1, a saltshaker 2, a saltshaker 1, a statue 1, and a tomato 1. False False\n",
      "Act 7: go to countertop 2\n",
      "Obs 7: On the countertop 2, you see a butterknife 1, a cellphone 1, a creditcard 1, a knife 1, a lettuce 1, a saltshaker 2, a saltshaker 1, a statue 1, and a tomato 1.\n",
      "output of agent step ['take tomato 1 from countertop 2']\n",
      "You pick up the tomato 1 from the countertop 2. False False\n",
      "Act 8: take tomato 1 from countertop 2\n",
      "Obs 8: You pick up the tomato 1 from the countertop 2.\n",
      "output of agent step ['think: Now that I have found and taken a tomato (1), I need to cool it in the fridge (1).']\n",
      "Nothing happens. False False\n",
      "Act 9: think: Now that I have found and taken a tomato (1), I need to cool it in the fridge (1).\n",
      "Obs 9: OK.\n",
      "output of agent step ['go to fridge 1']\n",
      "The fridge 1 is open. In it, you see a bread 1, a mug 3, a pan 1, and a plate 3. False False\n",
      "Act 10: go to fridge 1\n",
      "Obs 10: The fridge 1 is open. In it, you see a bread 1, a mug 3, a pan 1, and a plate 3.\n",
      "output of agent step ['cool tomato 1 with fridge 1']\n",
      "You cool the tomato 1 using the fridge 1. False False\n",
      "Act 11: cool tomato 1 with fridge 1\n",
      "Obs 11: You cool the tomato 1 using the fridge 1.\n",
      "output of agent step ['think: Now that I have cooled the tomato, I need to put it in/on the microwave.']\n",
      "Nothing happens. False False\n",
      "Act 12: think: Now that I have cooled the tomato, I need to put it in/on the microwave.\n",
      "Obs 12: OK.\n",
      "output of agent step ['go to microwave 1']\n",
      "The microwave 1 is closed. False False\n",
      "Act 13: go to microwave 1\n",
      "Obs 13: The microwave 1 is closed.\n",
      "output of agent step ['open microwave 1']\n",
      "You open the microwave 1. The microwave 1 is open. In it, you see a egg 1. False False\n",
      "Act 14: open microwave 1\n",
      "Obs 14: You open the microwave 1. The microwave 1 is open. In it, you see a egg 1.\n",
      "output of agent step ['put tomato 1 in/on microwave 1']\n",
      "You put the tomato 1 in/on the microwave 1. True True\n",
      "Act 15: put tomato 1 in/on microwave 1\n",
      "Obs 15: You put the tomato 1 in/on the microwave 1.\n"
     ]
    }
   ],
   "source": [
    "\n",
    "test_run.set_Alfworld()\n",
    "observation = None\n",
    "done = False\n",
    "for i in range(0,50):\n",
    "    ans = test_run.step(question=ob, examples=examples , prompt_template=REACT_ALFWORLD_INSTRUCTION , env_output=observation)\n",
    "    print('output of agent step',ans)\n",
    "    ans = ans[0].strip()\n",
    "    observation, reward, done, info = env.step([ans])\n",
    "    observation, reward, done = process_ob(observation[0]), info['won'][0], done[0]\n",
    "    print(observation, reward, done)\n",
    "    if ans.startswith('think:'):\n",
    "        observation = 'OK.'\n",
    "    if True:\n",
    "        print(f'Act {i}: {ans}\\nObs {i}: {observation}')\n",
    "    if done:\n",
    "        test_run.reset()\n",
    "        break\n"
   ]
  },
  {
   "cell_type": "code",
   "execution_count": 21,
   "metadata": {},
   "outputs": [
    {
     "data": {
      "text/plain": [
       "True"
      ]
     },
     "execution_count": 21,
     "metadata": {},
     "output_type": "execute_result"
    }
   ],
   "source": [
    "test_run.is_think"
   ]
  },
  {
   "cell_type": "code",
   "execution_count": 1,
   "metadata": {},
   "outputs": [],
   "source": [
    "from discussion_agents.cog.prompts.react import REACT_WEBTHINK_SIMPLE6_FEWSHOT_EXAMPLES, REACT_INSTRUCTION_HOTPOTQA"
   ]
  },
  {
   "cell_type": "code",
   "execution_count": 2,
   "metadata": {},
   "outputs": [],
   "source": [
    "examples = REACT_WEBTHINK_SIMPLE6_FEWSHOT_EXAMPLES\n",
    "instruction = REACT_INSTRUCTION_HOTPOTQA\n",
    "question = 'Who was once considered the best kick boxer in the world, however he has been involved in a number of controversies relating to his \"unsportsmanlike conducts\" in the sport and crimes of violence outside of the ring'"
   ]
  },
  {
   "cell_type": "code",
   "execution_count": 9,
   "metadata": {},
   "outputs": [
    {
     "name": "stdout",
     "output_type": "stream",
     "text": [
      "I need to search for the best kick boxer in the world who has been involved in controversies and crimes of violence.\n",
      "Search[best kick boxer in the world controversies]\n",
      "Observation 1: Oleksandr Oleksandrovych Usyk (Ukrainian: Олекса́ндр Олекса́ндрович У́сик; born 17 January 1987) is a Ukrainian professional boxer. He has held multiple world championships in two weight classes, including the unified heavyweight titles since 2021, and the Ring magazine title since 2022. He has also held the International Boxing Organization (IBO) title since 2021. Previously, he held the undisputed cruiserweight championship from 2018 to 2019, being the first boxer in that division to hold all four major world titles. Usyk is widely regarded as one of the greatest Ukrainian boxers of all time and one of the greatest cruiserweights of all time, alongside Evander Holyfield. With his victory over Anthony Joshua in 2021, Usyk became one of only three boxers to have unified the cruiserweight world titles and become a world heavyweight champion, joining Evander Holyfield and David Haye.As an amateur, Usyk won heavyweight gold medals at the 2011 World Championships and 2012 Olympics. He turned professional in 2013 and won the undisputed cruiserweight championship in his 15th professional fight in 2018. Three of his titles were won during the inaugural World Boxing Super Series, in which he won the Muhammad Ali Trophy, as well as the Ring and lineal cruiserweight titles. For his achievements, Usyk was named the 2018 Fighter of the Year by Sports Illustrated, ESPN, The Ring and the Boxing Writers Association of America (BWAA).In 2018 Usyk became the fourth male boxer in history to simultaneously hold the WBA, WBC, IBF and WBO titles, after Jermain Taylor, Bernard Hopkins and Terence Crawford. He was the first Ukrainian undisputed champion. He is particularly notable for the speed of his accomplishments, winning his first world title in his tenth fight, and becoming the undisputed champion of his weight class by his fifteenth fight. Usyk vacated his cruiserweight titles in 2019 to move up to heavyweight. By that point, in sixteen fights he had defeated five current or former world champions. In September 2021, Usyk defeated unified heavyweight champion Anthony Joshua to win the WBA, IBF, WBO, and IBO titles. He defended the titles in a rematch against Joshua in August 2022, whilst winning the vacant Ring title.As of August 2022, Usyk is ranked as the world's best active boxer, pound for pound, by The Ring, second by the Transnational Boxing Rankings Board (TBRB), third by BWAA, fifth by BoxRec and sixth by ESPN. He is also ranked as the best heavyweight by TBRB, BoxRec and ESPN.\n",
      "The passage does not mention any controversies or crimes of violence related to Oleksandr Usyk. I need to search for a kick boxer who fits the description in the question.\n",
      "Search[kick boxer controversies crimes of violence]\n",
      "Observation 2: Could not find [kick boxer controversies crimes of violence]. Similar: ['Boxer Rebellion', 'Athletes and domestic violence in the United States', 'Effects of violence in mass media', 'List of Australian sports controversies', 'Crime in Toronto', 'Sunny Deol', 'Anthony Joshua', 'List of professional sportspeople convicted of crimes', 'List of people granted executive clemency by Donald Trump', 'Kray twins']\n",
      "The search did not return relevant information. I need to search for the best kick boxer in the world known for controversies and crimes of violence.\n",
      "Search[best kick boxer controversies crimes of violence]\n",
      "Observation 3: Could not find [best kick boxer controversies crimes of violence]. Similar: ['Boxer Rebellion', 'Effects of violence in mass media', 'Crime in Toronto', 'Sunny Deol', 'Kray twins', 'Floyd Mayweather Jr.', 'Anthony Joshua', 'List of professional sportspeople convicted of crimes', '2017 in American television', '1992 Los Angeles riots']\n",
      "The search did not return relevant information again. I will try searching for kick boxers known for controversies and crimes of violence in general.\n",
      "Search[kick boxers controversies crimes of violence]\n",
      "Observation 4: Could not find [kick boxers controversies crimes of violence]. Similar: ['Effects of violence in mass media', 'Boxer Rebellion', 'Athletes and domestic violence in the United States', 'Crime in Toronto', 'List of Australian sports controversies', 'List of professional sportspeople convicted of crimes', 'Kray twins', 'Anthony Joshua', '1992 Los Angeles riots', 'Sunny Deol']\n",
      "The search is not returning relevant information. I will try to search for famous kick boxers known for controversies and crimes of violence in general.\n",
      "Search[famous kick boxers controversies crimes of violence]\n",
      "Observation 5: Could not find [famous kick boxers controversies crimes of violence]. Similar: ['James Brown', 'Kray twins', 'List of kidnappings', '2017 in American television', 'Billy Joe Saunders', '2015 in British television', 'Millwall F.C.', 'Andrew Tate', 'Superman', 'Floyd Mayweather Jr.']\n",
      "The search is not providing relevant information. I will try to search for famous kick boxers involved in controversies and crimes of violence specifically.\n",
      "Search[famous kick boxers controversies crimes of violence specifically]\n",
      "Observation 6: Could not find [famous kick boxers controversies crimes of violence specifically]. Similar: ['List of kidnappings', '2017 in American television', 'Millwall F.C.', 'Floyd Mayweather Jr.', 'Superman', 'Anti-Catholicism', \"Timeline of women's legal rights (other than voting) in the 20th century\", '50 Cent', 'Jennifer Lopez', \"Satan's Choice Motorcycle Club\"]\n"
     ]
    }
   ],
   "source": [
    "for i in range(50):\n",
    "    answer = test_run.step(question=question , examples=examples , prompt_template=instruction)\n",
    "    print(answer[0][0])\n",
    "    print(answer[0][1])\n",
    "    print(answer[0][2])\n",
    "    if answer[1]:\n",
    "        break"
   ]
  },
  {
   "cell_type": "code",
   "execution_count": null,
   "metadata": {},
   "outputs": [],
   "source": []
  }
 ],
 "metadata": {
  "kernelspec": {
   "display_name": "Python 3",
   "language": "python",
   "name": "python3"
  },
  "language_info": {
   "codemirror_mode": {
    "name": "ipython",
    "version": 3
   },
   "file_extension": ".py",
   "mimetype": "text/x-python",
   "name": "python",
   "nbconvert_exporter": "python",
   "pygments_lexer": "ipython3",
   "version": "3.11.7"
  }
 },
 "nbformat": 4,
 "nbformat_minor": 2
}
