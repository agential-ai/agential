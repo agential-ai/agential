{
 "cells": [
  {
   "cell_type": "code",
   "execution_count": 1,
   "metadata": {},
   "outputs": [
    {
     "name": "stdout",
     "output_type": "stream",
     "text": [
      "hello wolrd\n",
      "Initializing AlfredTWEnv...\n",
      "Checking for solvable games...\n"
     ]
    },
    {
     "name": "stderr",
     "output_type": "stream",
     "text": [
      "100%|██████████| 341/341 [00:00<00:00, 1273.86it/s]"
     ]
    },
    {
     "name": "stdout",
     "output_type": "stream",
     "text": [
      "Overall we have 134 games in split=eval_out_of_distribution\n",
      "Evaluating with 134 games\n"
     ]
    },
    {
     "name": "stderr",
     "output_type": "stream",
     "text": [
      "\n"
     ]
    }
   ],
   "source": [
    "import yaml\n",
    "import alfworld\n",
    "import alfworld.agents.environment\n",
    "with open('base_config.yaml') as reader:\n",
    "    config = yaml.safe_load(reader)\n",
    "    \n",
    "print('hello wolrd')\n",
    "split = \"eval_out_of_distribution\"\n",
    "\n",
    "env = getattr(alfworld.agents.environment, config[\"env\"][\"type\"])(config, train_eval=split)\n",
    "env = env.init_env(batch_size=1)"
   ]
  },
  {
   "cell_type": "code",
   "execution_count": 2,
   "metadata": {},
   "outputs": [
    {
     "name": "stdout",
     "output_type": "stream",
     "text": [
      "<textworld.gym.envs.textworld_batch.TextworldBatchGymEnv object at 0x15df4a810>\n"
     ]
    }
   ],
   "source": [
    "from discussion_agents.cog.prompts.react import REACT_ALFWORLD_PROMPTS_EXAMPLE\n",
    "print(env)"
   ]
  },
  {
   "cell_type": "code",
   "execution_count": 3,
   "metadata": {},
   "outputs": [],
   "source": [
    "\n",
    "d = REACT_ALFWORLD_PROMPTS_EXAMPLE"
   ]
  },
  {
   "cell_type": "code",
   "execution_count": 4,
   "metadata": {},
   "outputs": [],
   "source": [
    "ob, info = env.reset()\n",
    "ob = '\\n'.join(ob[0].split('\\n\\n')[1:])\n",
    "name = '/'.join(info['extra.gamefile'][0].split('/')[-3:-1])"
   ]
  },
  {
   "cell_type": "code",
   "execution_count": 5,
   "metadata": {},
   "outputs": [
    {
     "data": {
      "text/plain": [
       "('You are in the middle of a room. Looking quickly around you, you see a cabinet 6, a cabinet 5, a cabinet 4, a cabinet 3, a cabinet 2, a cabinet 1, a coffeemachine 1, a countertop 3, a countertop 2, a countertop 1, a drawer 3, a drawer 2, a drawer 1, a fridge 1, a garbagecan 1, a microwave 1, a shelf 3, a shelf 2, a shelf 1, a sinkbasin 1, a stoveburner 4, a stoveburner 3, a stoveburner 2, a stoveburner 1, and a toaster 1.\\nYour task is to: put a cool tomato in microwave.',\n",
       " 'pick_cool_then_place_in_recep-Tomato-None-Microwave-10/trial_T20190909_102644_926781')"
      ]
     },
     "execution_count": 5,
     "metadata": {},
     "output_type": "execute_result"
    }
   ],
   "source": [
    "ob , name"
   ]
  },
  {
   "cell_type": "code",
   "execution_count": 6,
   "metadata": {},
   "outputs": [],
   "source": [
    "prefixes = {\n",
    "    'pick_and_place': 'put',\n",
    "    'pick_clean_then_place': 'clean',\n",
    "    'pick_heat_then_place': 'heat',\n",
    "    'pick_cool_then_place': 'cool',\n",
    "    'look_at_obj': 'examine',\n",
    "    'pick_two_obj': 'puttwo'\n",
    "}"
   ]
  },
  {
   "cell_type": "code",
   "execution_count": 7,
   "metadata": {},
   "outputs": [
    {
     "name": "stdout",
     "output_type": "stream",
     "text": [
      "pick_cool_then_place cool\n"
     ]
    }
   ],
   "source": [
    "for i, (k, v) in enumerate(prefixes.items()):\n",
    "    if name.startswith(k):\n",
    "        prompt = 'Interact with a household to solve a task. Here are two examples.\\n' + d[f'react_{v}_1'] + '\\nHere is the task.\\n'\n",
    "        print(k, v)\n",
    "        "
   ]
  },
  {
   "cell_type": "code",
   "execution_count": 8,
   "metadata": {},
   "outputs": [],
   "source": [
    "from langchain.chat_models.openai import ChatOpenAI\n",
    "from discussion_agents.cog.agent.react import ReActAgent\n",
    "\n",
    "\n",
    "api_key = \n",
    "\n",
    "llm = ChatOpenAI(openai_api_key = api_key)\n",
    "\n",
    "test_run = ReActAgent(llm = llm )"
   ]
  },
  {
   "cell_type": "code",
   "execution_count": 9,
   "metadata": {},
   "outputs": [],
   "source": [
    "question = 'Brad Wilk died before being a drummer for Greta.'"
   ]
  },
  {
   "cell_type": "code",
   "execution_count": 10,
   "metadata": {},
   "outputs": [],
   "source": [
    "from discussion_agents.cog.prompts.react import REACT_WEBTHINK_SIMPLE3_FEVER_EXAMPLES"
   ]
  },
  {
   "cell_type": "code",
   "execution_count": 11,
   "metadata": {},
   "outputs": [
    {
     "name": "stderr",
     "output_type": "stream",
     "text": [
      "/opt/homebrew/lib/python3.11/site-packages/langchain_core/_api/deprecation.py:117: LangChainDeprecationWarning: The function `__call__` was deprecated in LangChain 0.1.7 and will be removed in 0.2.0. Use invoke instead.\n",
      "  warn_deprecated(\n"
     ]
    },
    {
     "name": "stdout",
     "output_type": "stream",
     "text": [
      "\n",
      "Action 1: think: To solve the task, I need to find a tomato, then cool it with the fridge, and finally put it in the microwave.\n",
      "Observation 1:  OK.\n",
      "Action 2: think: First, I need to find a tomato. A tomato is more likely to be found in countertop (1-3), fridge (1), cabinet (1-6), shelf (1-3), and drawer (1-3). I can start by checking countertop 1.\n",
      "Observation 2:  OK.\n",
      "Action 3: go to countertop 1\n",
      "Observation 3:  On the countertop 1, you see a dishsponge 1, and a mug 2.\n",
      "Action 4: go to countertop 2\n",
      "Observation 4:  On the countertop 2, you see a butterknife 1, a cellphone 1, a creditcard 1, a knife 1, a lettuce 1, a saltshaker 2, a saltshaker 1, a statue 1, and a tomato 1.\n",
      "Action 5: take tomato 1 from countertop 2\n",
      "Observation 5:  You pick up the tomato 1 from the countertop 2.\n",
      "Action 6: think: Now that I have the tomato, I need to cool it with the fridge.\n",
      "Observation 6:  OK.\n",
      "Action 7: go to fridge 1\n",
      "Observation 7:  The fridge 1 is closed.\n",
      "Action 8: cool tomato 1 with fridge 1\n",
      "Observation 8:  You cool the tomato 1 using the fridge 1.\n",
      "Action 9: think: Now the tomato is cool. Next, I need to put it in the microwave.\n",
      "Observation 9:  OK.\n",
      "Action 10: go to microwave 1\n",
      "Observation 10:  The microwave 1 is closed.\n",
      "Action 11: put tomato 1 in/on microwave 1\n",
      "Observation 11:  Nothing happens.\n",
      "Action 12: open microwave 1\n",
      "Observation 12:  You open the microwave 1. The microwave 1 is open. In it, you see a egg 1.\n",
      "Action 13: put tomato 1 in/on microwave 1\n",
      "Observation 13:  You put the tomato 1 in/on the microwave 1.\n"
     ]
    }
   ],
   "source": [
    "print(test_run.generate(question=ob , examples=prompt,env=env))"
   ]
  },
  {
   "cell_type": "code",
   "execution_count": 12,
   "metadata": {},
   "outputs": [
    {
     "name": "stdout",
     "output_type": "stream",
     "text": [
      "\n",
      "Action 1: think: To solve the task, I need to find a tomato, then cool it with the fridge, and finally put it in the microwave.\n",
      "Observation 1:  OK.\n",
      "Action 2: think: First, I need to find a tomato. A tomato is more likely to appear in countertop (1-3), fridge (1), drawer (1-3). I can check one by one, starting with countertop 1.\n",
      "Observation 2:  OK.\n",
      "Action 3: go to countertop 1\n",
      "Observation 3:  On the countertop 1, you see a dishsponge 1, and a mug 2.\n",
      "Action 4: go to countertop 2\n",
      "Observation 4:  On the countertop 2, you see a butterknife 1, a cellphone 1, a creditcard 1, a knife 1, a lettuce 1, a saltshaker 2, a saltshaker 1, a statue 1, and a tomato 1.\n",
      "Action 5: take tomato 1 from countertop 2\n",
      "Observation 5:  You pick up the tomato 1 from the countertop 2.\n",
      "Action 6: think: Now I have the tomato. Next, I need to cool it using the fridge (1).\n",
      "Observation 6:  OK.\n",
      "Action 7:\n"
     ]
    }
   ],
   "source": [
    "print(test_run.memory.load_memories()['scratchpad'])"
   ]
  },
  {
   "cell_type": "code",
   "execution_count": 11,
   "metadata": {},
   "outputs": [],
   "source": [
    "from discussion_agents.cog.prompts.react import REACT_ALFWORLD_INSTRUCTION\n",
    "from discussion_agents.cog.functional.react import _prompt_agent"
   ]
  },
  {
   "cell_type": "code",
   "execution_count": 12,
   "metadata": {},
   "outputs": [],
   "source": [
    "action = _prompt_agent(\n",
    "    llm=test_run.llm,\n",
    "    question=ob,\n",
    "    scratchpad=test_run.memory.load_memories()[\"scratchpad\"],\n",
    "    examples=prompt,\n",
    "    instruction=REACT_ALFWORLD_INSTRUCTION\n",
    ")"
   ]
  },
  {
   "cell_type": "code",
   "execution_count": 19,
   "metadata": {},
   "outputs": [
    {
     "data": {
      "text/plain": [
       "'FEVER'"
      ]
     },
     "execution_count": 19,
     "metadata": {},
     "output_type": "execute_result"
    }
   ],
   "source": [
    "check_type(REACT_WEBTHINK_SIMPLE3_FEVER_EXAMPLES)"
   ]
  },
  {
   "cell_type": "code",
   "execution_count": 18,
   "metadata": {},
   "outputs": [],
   "source": [
    "def check_type(examples: str = None) -> str:\n",
    "    lines = examples.split('\\n')\n",
    "    lines = [line for line in lines if line.strip()] \n",
    "    checkword = lines[0].split()[0]\n",
    "    if checkword == 'Question:':\n",
    "        return 'HOTPOTQA'\n",
    "    else:\n",
    "        checkword = lines[0].split()[0]\n",
    "        if checkword == 'Claim:':\n",
    "            return 'FEVER'\n",
    "        line = lines[2]\n",
    "        print(line)\n",
    "        if 'Your task is to:' in line :\n",
    "            return 'ALFWORLD'\n",
    "    return ValueError('Wrong Examples')"
   ]
  },
  {
   "cell_type": "code",
   "execution_count": 16,
   "metadata": {},
   "outputs": [
    {
     "name": "stdout",
     "output_type": "stream",
     "text": [
      "<textworld.gym.envs.textworld_batch.TextworldBatchGymEnv object at 0x169ee2010>\n"
     ]
    }
   ],
   "source": [
    "print(env)"
   ]
  },
  {
   "cell_type": "code",
   "execution_count": 15,
   "metadata": {},
   "outputs": [
    {
     "name": "stdout",
     "output_type": "stream",
     "text": [
      "Your task is to: put a cool mug in shelf.\n"
     ]
    }
   ],
   "source": [
    "benchmark_type = check_type(prompt)    "
   ]
  },
  {
   "cell_type": "code",
   "execution_count": 10,
   "metadata": {},
   "outputs": [
    {
     "name": "stdout",
     "output_type": "stream",
     "text": [
      "Interact with a household to solve a task. Here are two examples.\n",
      "You are in the middle of a room. Looking quickly around you, you see a cabinet 9, a cabinet 8, a cabinet 7, a cabinet 6, a cabinet 5, a cabinet 4, a cabinet 3, a cabinet 2, a cabinet 1, a coffeemachine 1, a countertop 3, a countertop 2, a countertop 1, a drawer 9, a drawer 8, a drawer 7, a drawer 6, a drawer 5, a drawer 4, a drawer 3, a drawer 2, a drawer 1, a fridge 1, a garbagecan 1, a microwave 1, a shelf 3, a shelf 2, a shelf 1, a sinkbasin 1, a stoveburner 4, a stoveburner 3, a stoveburner 2, a stoveburner 1, and a toaster 1.\n",
      "Your task is to: put a cool mug in shelf.\n",
      "> think: To solve the task, I need to find and take a mug, then cool it with fridge, then put it in shelf.\n",
      "OK.\n",
      "> think: First I need to find a mug. A mug is more likely to appear in countertop (1-3), coffeemachine (1), cabinet (1-9), shelf (1-3), drawer (1-9). I can check one by one, starting with countertop 1.\n",
      "OK.\n",
      "> go to countertop 1\n",
      "On the countertop 1, you see a knife 1, a pan 2, a pan 1, and a plate 1.\n",
      "> go to countertop 2\n",
      "On the countertop 2, you see a apple 2, a butterknife 2, a fork 3, a houseplant 1, a knife 2, a lettuce 3, a spatula 1, and a winebottle 1.\n",
      "> go to countertop 3\n",
      "On the countertop 3, you see a apple 1, a book 1, a bread 1, a butterknife 3, a glassbottle 2, a glassbottle 1, a knife 3, a lettuce 2, a lettuce 1, a papertowelroll 1, a plate 3, a spoon 1, a statue 1, and a vase 2.\n",
      "> go to coffeemachine 1\n",
      "On the coffeemachine 1, you see nothing.\n",
      "> go to cabinet 1\n",
      "The cabinet 1 is closed.\n",
      "> open cabinet 1\n",
      "You open the cabinet 1. The cabinet 1 is open. In it, you see nothing.\n",
      "> go to cabinet 2\n",
      "The cabinet 2 is closed.\n",
      "> open cabinet 2\n",
      "You open the cabinet 2. The cabinet 2 is open. In it, you see nothing.\n",
      "> go to cabinet 3\n",
      "The cabinet 3 is closed.\n",
      "> open cabinet 3\n",
      "You open the cabinet 3. The cabinet 3 is open. In it, you see a pot 1.\n",
      "> go to cabinet 4\n",
      "On the cabinet 4, you see nothing.\n",
      "> go to cabinet 5\n",
      "The cabinet 5 is closed.\n",
      "> open cabinet 5\n",
      "You open the cabinet 5. The cabinet 5 is open. In it, you see nothing.\n",
      "> go to cabinet 6\n",
      "The cabinet 6 is closed.\n",
      "> open cabinet 6\n",
      "You open the cabinet 6. The cabinet 6 is open. In it, you see a mug 3.\n",
      "> think: Now I find a mug (3). Next, I need to take it.\n",
      "OK.\n",
      "> take mug 3 from cabinet 6\n",
      "You pick up the mug 3 from the cabinet 6.\n",
      "> think: Now I take a mug (3). Next, I need to go to a fridge (1) and cool it.\n",
      "OK.\n",
      "> go to fridge 1\n",
      "The fridge 1 is closed.\n",
      "> cool mug 3 with fridge 1\n",
      "You cool the mug 3 using the fridge 1.\n",
      "> think: Now I cool the mug. Next, I need to put it in/on shelf 1.\n",
      "OK.\n",
      "> go to shelf 1\n",
      "On the shelf 1, you see a cup 2, a cup 1, a peppershaker 1, and a saltshaker 1.\n",
      "> put mug 3 in/on shelf 1\n",
      "You put the mug 3 in/on the shelf 1.\n",
      "You are in the middle of a room. Looking quickly around you, you see a cabinet 16, a cabinet 15, a cabinet 14, a cabinet 13, a cabinet 12, a cabinet 11, a cabinet 10, a cabinet 9, a cabinet 8, a cabinet 7, a cabinet 6, a cabinet 5, a cabinet 4, a cabinet 3, a cabinet 2, a cabinet 1, a coffeemachine 1, a countertop 2, a countertop 1, a diningtable 1, a drawer 5, a drawer 4, a drawer 3, a drawer 2, a drawer 1, a fridge 1, a garbagecan 1, a microwave 1, a safe 1, a sinkbasin 1, a stoveburner 4, a stoveburner 3, a stoveburner 2, a stoveburner 1, and a toaster 1.\n",
      "Your task is to: cool some pan and put it in stoveburner.\n",
      "> think: To solve the task, I need to find and take a pan, then cool it with fridge, then put it in stoveburner.\n",
      "OK.\n",
      "> think: First I need to find a pan. An pan is more likely to appear in stoveburner (1-4), sinkbasin (1), diningtable (1), countertop (1-2), cabinet (1-16), drawer (1-5). I can check one by one, starting with stoveburner 1.\n",
      "OK.\n",
      ">go to stoveburner 1\n",
      "On the stoveburner 1, you see nothing.\n",
      ">go to stoveburner 2\n",
      "On the stoveburner 2, you see a pot 1.\n",
      "> go to stoveburner 3\n",
      "On the stoveburner 3, you see a pan 1.\n",
      "> take pan 1 from stoveburner 3\n",
      "> think: Now I find a pan (1). Next, I need to take it.\n",
      "OK.\n",
      "You pick up the pan 1 from the stoveburner 3.\n",
      "> think: Now I take a pan (1). Next, I need to go to a fridge (1) and cool it.\n",
      "OK.\n",
      "> go to fridge 1\n",
      "The fridge 1 is closed.\n",
      "> cool pan 1 with fridge 1\n",
      "You cool the pan 1 using the fridge 1.\n",
      "> think: Now I cool a pan (1). Next, I need to put it in/on stoveburner 1.\n",
      "OK.\n",
      ">go to stoveburner 1\n",
      "On the stoveburner 1, you see nothing.\n",
      "> put pan 1 in/on stoveburner 1\n",
      "You put the pan 1 in/on the stoveburner 1.\n",
      "\n",
      "Here is the task.\n",
      "\n"
     ]
    }
   ],
   "source": [
    "print(prompt)"
   ]
  },
  {
   "cell_type": "code",
   "execution_count": 10,
   "metadata": {},
   "outputs": [],
   "source": [
    "observation, reward, done, info = env.step(['put tomato in microwave'])"
   ]
  },
  {
   "cell_type": "code",
   "execution_count": 11,
   "metadata": {},
   "outputs": [
    {
     "data": {
      "text/plain": [
       "(False,)"
      ]
     },
     "execution_count": 11,
     "metadata": {},
     "output_type": "execute_result"
    }
   ],
   "source": [
    "done"
   ]
  },
  {
   "cell_type": "code",
   "execution_count": 17,
   "metadata": {},
   "outputs": [],
   "source": [
    "observation, reward, done, info = env.step(['put tomato in/on microwave'])"
   ]
  },
  {
   "cell_type": "code",
   "execution_count": 18,
   "metadata": {},
   "outputs": [
    {
     "data": {
      "text/plain": [
       "(False,)"
      ]
     },
     "execution_count": 18,
     "metadata": {},
     "output_type": "execute_result"
    }
   ],
   "source": []
  },
  {
   "cell_type": "code",
   "execution_count": 18,
   "metadata": {},
   "outputs": [],
   "source": [
    "from typing import Any, Dict, List, Optional"
   ]
  },
  {
   "cell_type": "code",
   "execution_count": 19,
   "metadata": {},
   "outputs": [],
   "source": [
    "def testing_generate(env : Any = None, action : str = None):\n",
    "    observation, reward, done, info = env.step([action])\n",
    "    observation, reward, done = observation[0], info['won'][0], done[0]\n",
    "    return observation , reward , done"
   ]
  },
  {
   "cell_type": "code",
   "execution_count": 16,
   "metadata": {},
   "outputs": [
    {
     "data": {
      "text/plain": [
       "<textworld.gym.envs.textworld_batch.TextworldBatchGymEnv at 0x166671010>"
      ]
     },
     "execution_count": 16,
     "metadata": {},
     "output_type": "execute_result"
    }
   ],
   "source": [
    "env"
   ]
  },
  {
   "cell_type": "code",
   "execution_count": null,
   "metadata": {},
   "outputs": [],
   "source": []
  }
 ],
 "metadata": {
  "kernelspec": {
   "display_name": "base",
   "language": "python",
   "name": "python3"
  },
  "language_info": {
   "codemirror_mode": {
    "name": "ipython",
    "version": 3
   },
   "file_extension": ".py",
   "mimetype": "text/x-python",
   "name": "python",
   "nbconvert_exporter": "python",
   "pygments_lexer": "ipython3",
   "version": "3.11.7"
  }
 },
 "nbformat": 4,
 "nbformat_minor": 2
}
