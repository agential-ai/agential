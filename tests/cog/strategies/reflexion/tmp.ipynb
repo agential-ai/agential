{
 "cells": [
  {
   "cell_type": "code",
   "execution_count": 1,
   "metadata": {},
   "outputs": [],
   "source": [
    "from agential.cog.strategies.reflexion.math import (\n",
    "    ReflexionReActMathStrategy,\n",
    "    ReflexionCoTMathStrategy\n",
    ")\n",
    "from agential.cog.prompts.agent.reflexion import (\n",
    "    GSM8K_FEWSHOT_EXAMPLES_REFLEXION_COT_REFLECT,\n",
    "    GSM8K_FEWSHOT_EXAMPLES_REFLEXION_REACT_REFLECT,\n",
    "    REFLEXION_COT_INSTRUCTION_GSM8K,\n",
    "    REFLEXION_COT_REFLECT_INSTRUCTION_GSM8K,\n",
    "    REFLEXION_REACT_INSTRUCTION_GSM8K,\n",
    "    REFLEXION_REACT_REFLECT_INSTRUCTION_GSM8K,\n",
    ")\n",
    "from agential.cog.prompts.benchmark.gsm8k import (\n",
    "    GSM8K_FEWSHOT_EXAMPLES_COT,\n",
    "    GSM8K_FEWSHOT_EXAMPLES_REACT,\n",
    ")\n",
    "from langchain_openai import ChatOpenAI\n",
    "\n",
    "import dotenv\n",
    "dotenv.load_dotenv()\n",
    "\n",
    "import warnings\n",
    "warnings.filterwarnings('ignore')\n",
    "\n",
    "llm = ChatOpenAI()"
   ]
  },
  {
   "cell_type": "code",
   "execution_count": 6,
   "metadata": {},
   "outputs": [
    {
     "name": "stdout",
     "output_type": "stream",
     "text": [
      "<PROMPT AGENT========================================================================>\n",
      "Solve a math question task by having a Thought, then Finish with your answer. Thought can reason about the current situation. Finish[answer] returns the answer and finishes the task.\n",
      "\n",
      "Here are some examples:\n",
      "Question: Jason had 20 lollipops. He gave Denny some lollipops. Now Jason has 12 lollipops. How many lollipops did Jason give to Denny?\n",
      "Thought: Let's think step by step. Jason had 20 lollipops initially and now he has 12 lollipops. So, he must have given 20 - 12 = 8 lollipops to Denny.\n",
      "Action: Finish[\n",
      "```python\n",
      "jason_lollipops_initial = 20\n",
      "jason_lollipops_after = 12\n",
      "denny_lollipops = jason_lollipops_initial - jason_lollipops_after\n",
      "answer = denny_lollipops\n",
      "```\n",
      "]\n",
      "\n",
      "---\n",
      "\n",
      "Question: There are 15 trees in the grove. Grove workers will plant trees in the grove today. After they are done, there will be 21 trees. How many trees did the grove workers plant today?\n",
      "Thought: Let's think step by step. There were initially 15 trees and after planting, there are 21 trees. So, the number of trees planted is 21 - 15 = 6.\n",
      "Action: Finish[\n",
      "```python\n",
      "trees_initial = 15\n",
      "trees_after = 21\n",
      "trees_added = trees_after - trees_initial\n",
      "answer = trees_added\n",
      "```\n",
      "]\n",
      "\n",
      "---\n",
      "\n",
      "Question: Shawn has five toys. For Christmas, he got two toys each from his mom and dad. How many toys does he have now?\n",
      "Thought: Let's think step by step. Shawn had 5 toys initially, and he got 2 toys from his mom and 2 toys from his dad. So, the total number of toys he has now is 5 + 2 + 2 = 9.\n",
      "Action: Finish[\n",
      "```python\n",
      "toys_initial = 5\n",
      "mom_toys = 2\n",
      "dad_toys = 2\n",
      "total_received = mom_toys + dad_toys\n",
      "total_toys = toys_initial + total_received\n",
      "answer = total_toys\n",
      "```\n",
      "]\n",
      "\n",
      "---\n",
      "\n",
      "Question: There were nine computers in the server room. Five more computers were installed each day, from Monday to Thursday. How many computers are now in the server room?\n",
      "Thought: Let's think step by step. Initially, there were 9 computers. Five more computers were added each day from Monday to Thursday, which is 4 days. So, the total number of computers added is 5 * 4 = 20. Therefore, the total number of computers now is 9 + 20 = 29.\n",
      "Action: Finish[\n",
      "```python\n",
      "computers_initial = 9\n",
      "computers_per_day = 5\n",
      "num_days = 4  # 4 days between Monday and Thursday\n",
      "computers_added = computers_per_day * num_days\n",
      "computers_total = computers_initial + computers_added\n",
      "answer = computers_total\n",
      "```\n",
      "]\n",
      "\n",
      "---\n",
      "\n",
      "Question: Michael had 58 golf balls. On Tuesday, he lost 23 golf balls. On Wednesday, he lost 2 more. How many golf balls did he have at the end of Wednesday?\n",
      "Thought: Let's think step by step. Michael initially had 58 golf balls. He lost 23 golf balls on Tuesday and 2 more on Wednesday. So, the total number of golf balls lost is 23 + 2 = 25. Therefore, the number of golf balls he has left is 58 - 25 = 33.\n",
      "Action: Finish[\n",
      "```python\n",
      "golf_balls_initial = 58\n",
      "golf_balls_lost_tuesday = 23\n",
      "golf_balls_lost_wednesday = 2\n",
      "golf_balls_left = golf_balls_initial - golf_balls_lost_tuesday - golf_balls_lost_wednesday\n",
      "answer = golf_balls_left\n",
      "```\n",
      "]\n",
      "\n",
      "\n",
      "---\n",
      "\n",
      "Question: If there are 3 cars in the parking lot and 2 more cars arrive, how many cars are in the parking lot?\n",
      "Thought: Let's think step by step. Initially, there are 3 cars in the parking lot. When 2 more cars arrive, the total number of cars is 3 + 2 = 5.\n",
      "Action: Finish[\n",
      "```python\n",
      "cars_initial = 3\n",
      "cars_arrived = 2\n",
      "total_cars = cars_initial + cars_arrived\n",
      "answer = total_cars\n",
      "```\n",
      "]\n",
      "\n",
      "---\n",
      "\n",
      "Question: Olivia has $23. She bought five bagels for $3 each. How much money does she have left?\n",
      "Thought: Let's think step by step. Olivia had $23 initially. She bought 5 bagels for $3 each. The total cost of the bagels is 5 * 3 = $15. So, the money she has left is 23 - 15 = $8.\n",
      "Action: Finish[\n",
      "```python\n",
      "money_initial = 23\n",
      "bagels = 5\n",
      "bagel_cost = 3\n",
      "money_spent = bagels * bagel_cost\n",
      "money_left = money_initial - money_spent\n",
      "answer = money_left\n",
      "```\n",
      "]\n",
      "\n",
      "---\n",
      "\n",
      "Question: Leah had 32 chocolates and her sister had 42. If they ate 35, how many pieces do they have left in total?\n",
      "Thought: Let's think step by step. Leah had 32 chocolates and her sister had 42 chocolates. Together they had 32 + 42 = 74 chocolates. They ate 35 chocolates, so the number of chocolates left is 74 - 35 = 39.\n",
      "Action: Finish[\n",
      "```python\n",
      "leah_chocolates = 32\n",
      "sister_chocolates = 42\n",
      "total_chocolates = leah_chocolates + sister_chocolates\n",
      "chocolates_eaten = 35\n",
      "chocolates_left = total_chocolates - chocolates_eaten\n",
      "answer = chocolates_left\n",
      "```\n",
      "]\n",
      "(END OF EXAMPLES)\n",
      "\n",
      "\n",
      "\n",
      "Question: Janet's ducks lay 16 eggs per day. She eats three for breakfast every morning and bakes muffins for her friends every day with 4933828. She sells the remainder at the farmers' market daily for $2 per fresh duck egg. How much in dollars does she make every day at the farmers' market?\n",
      "Action:\n",
      "<PROMPT AGENT========================================================================>\n",
      "<OUT AGENT========================================================================>\n",
      "'Finish[\\n```python\\neggs_laid_per_day = 16\\neggs_eaten_for_breakfast = 3\\neggs_used_for_muffins = 4933828\\neggs_sold = eggs_laid_per_day - eggs_eaten_for_breakfast - eggs_used_for_muffins\\nprice_per_egg = 2\\nmoney_made_per_day = eggs_sold * price_per_egg\\nanswer = money_made_per_day\\n```\\n]'\n",
      "<OUT AGENT========================================================================>\n"
     ]
    }
   ],
   "source": [
    "question = \"Janet's ducks lay 16 eggs per day. She eats three for breakfast every morning and bakes muffins for her friends every day with 4933828. She sells the remainder at the farmers' market daily for $2 per fresh duck egg. How much in dollars does she make every day at the farmers' market?\"\n",
    "key = -9867630\n",
    "\n",
    "strat = ReflexionCoTMathStrategy(llm=llm)\n",
    "\n",
    "action_type, query = strat.generate_action(\n",
    "    question=question,\n",
    "    examples=GSM8K_FEWSHOT_EXAMPLES_COT,\n",
    "    reflections=\"\",\n",
    "    prompt=REFLEXION_COT_INSTRUCTION_GSM8K,\n",
    "    additional_keys={},\n",
    ")"
   ]
  },
  {
   "cell_type": "code",
   "execution_count": 7,
   "metadata": {},
   "outputs": [
    {
     "data": {
      "text/plain": [
       "'Finish'"
      ]
     },
     "execution_count": 7,
     "metadata": {},
     "output_type": "execute_result"
    }
   ],
   "source": [
    "action_type"
   ]
  },
  {
   "cell_type": "code",
   "execution_count": 8,
   "metadata": {},
   "outputs": [
    {
     "data": {
      "text/plain": [
       "'eggs_laid_per_day = 16\\neggs_eaten_for_breakfast = 3\\neggs_used_for_muffins = 4933828\\neggs_sold = eggs_laid_per_day - eggs_eaten_for_breakfast - eggs_used_for_muffins\\nprice_per_egg = 2\\nmoney_made_per_day = eggs_sold * price_per_egg\\nanswer = money_made_per_day'"
      ]
     },
     "execution_count": 8,
     "metadata": {},
     "output_type": "execute_result"
    }
   ],
   "source": [
    "query"
   ]
  },
  {
   "cell_type": "code",
   "execution_count": 9,
   "metadata": {},
   "outputs": [
    {
     "name": "stdout",
     "output_type": "stream",
     "text": [
      "\n",
      "Action: Finish[\n",
      "```python\n",
      "eggs_laid_per_day = 16\n",
      "eggs_eaten_for_breakfast = 3\n",
      "eggs_used_for_muffins = 4933828\n",
      "eggs_sold = eggs_laid_per_day - eggs_eaten_for_breakfast - eggs_used_for_muffins\n",
      "price_per_egg = 2\n",
      "money_made_per_day = eggs_sold * price_per_egg\n",
      "answer = money_made_per_day\n",
      "```\n",
      "]\n"
     ]
    }
   ],
   "source": [
    "print(repr(strat._scratchpad))"
   ]
  },
  {
   "cell_type": "code",
   "execution_count": null,
   "metadata": {},
   "outputs": [],
   "source": []
  }
 ],
 "metadata": {
  "kernelspec": {
   "display_name": "agential",
   "language": "python",
   "name": "python3"
  },
  "language_info": {
   "codemirror_mode": {
    "name": "ipython",
    "version": 3
   },
   "file_extension": ".py",
   "mimetype": "text/x-python",
   "name": "python",
   "nbconvert_exporter": "python",
   "pygments_lexer": "ipython3",
   "version": "3.11.5"
  }
 },
 "nbformat": 4,
 "nbformat_minor": 2
}
