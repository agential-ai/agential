{
 "cells": [
  {
   "cell_type": "code",
   "execution_count": 2,
   "metadata": {},
   "outputs": [],
   "source": [
    "from discussion_agents.cog.agent.reflexion import ReflexionCoTAgent, ReflexionReActAgent\n",
    "from langchain_community.chat_models.fake import FakeListChatModel\n",
    "from langchain_community.chat_models.openai import ChatOpenAI\n",
    "\n",
    "import dotenv\n",
    "import os\n",
    "\n",
    "dotenv.load_dotenv(\"../.env\")\n",
    "openai_api_key = os.getenv(\"OPENAI_API_KEY\")"
   ]
  },
  {
   "cell_type": "code",
   "execution_count": 13,
   "metadata": {},
   "outputs": [],
   "source": [
    "question = \"VIVA Media AG changed it's name in 2004. What does their new acronym stand for?\"\n",
    "key = \"Gesellschaft mit beschränkter Haftung\"\n",
    "context = 'VIVA Media GmbH (until 2004 \"VIVA Media AG\") is a music television network originating from Germany. It was founded for broadcast of VIVA Germany as VIVA Media AG in 1993 and has been owned by their original concurrent Viacom, the parent company of MTV, since 2004. Viva channels exist in some European countries; the first spin-offs were launched in Poland and Switzerland in 2000.\\n\\nA Gesellschaft mit beschränkter Haftung (] , abbreviated GmbH ] and also GesmbH in Austria) is a type of legal entity very common in Germany, Austria, Switzerland (where it is equivalent to a S.à r.l.) and Liechtenstein. In the United States, the equivalent type of entity is the limited liability company (LLC). The name of the GmbH form emphasizes the fact that the owners (\"Gesellschafter\", also known as members) of the entity are not personally liable for the company\\'s debts. \"GmbH\"s are considered legal persons under German and Austrian law. Other variations include mbH (used when the term \"Gesellschaft\" is part of the company name itself), and gGmbH (\"gemeinnützige\" GmbH) for non-profit companies.'\n",
    "\n",
    "llm = ChatOpenAI(openai_api_key=openai_api_key)\n",
    "\n",
    "agent = ReflexionCoTAgent(\n",
    "    self_reflect_llm=llm,\n",
    "    action_llm=llm,\n",
    "    max_trials=4,\n",
    ")\n",
    "\n",
    "out = agent.generate(question=question, key=key, context=context, strategy=\"reflexion\")"
   ]
  },
  {
   "cell_type": "code",
   "execution_count": 14,
   "metadata": {},
   "outputs": [
    {
     "data": {
      "text/plain": [
       "['Thought: The context provided mentions that VIVA Media AG changed its name to VIVA Media GmbH in 2004. From the information given, I know that \"GmbH\" stands for \"Gesellschaft mit beschränkter Haftung\" in German, which translates to \"company with limited liability\" in English.Action: Finish[Company with Limited Liability]\\nAction: Finish[Company with Limited Liability]\\n\\nAnswer is INCORRECT',\n",
       " 'Thought: The phrasing discrepancy in my previous answer may have been due to using the English translation of \"Gesellschaft mit beschränkter Haftung\" instead of the original German term. To avoid this mistake in the future, I will provide the answer using the original German term \"GmbH,\" which stands for \"Gesellschaft mit beschränkter Haftung.\" This will align more closely with the answer key and improve the accuracy of my response.Action: Finish[Gesellschaft mit beschränkter Haftung]\\nAction: Finish[Gesellschaft mit beschränkter Haftung]\\n\\nAnswer is CORRECT']"
      ]
     },
     "execution_count": 14,
     "metadata": {},
     "output_type": "execute_result"
    }
   ],
   "source": [
    "out"
   ]
  },
  {
   "cell_type": "code",
   "execution_count": 15,
   "metadata": {},
   "outputs": [
    {
     "name": "stdout",
     "output_type": "stream",
     "text": [
      "Thought: The context provided mentions that VIVA Media AG changed its name to VIVA Media GmbH in 2004. From the information given, I know that \"GmbH\" stands for \"Gesellschaft mit beschränkter Haftung\" in German, which translates to \"company with limited liability\" in English.Action: Finish[Company with Limited Liability]\n",
      "Action: Finish[Company with Limited Liability]\n",
      "\n",
      "Answer is INCORRECT\n"
     ]
    }
   ],
   "source": [
    "print(out[0])"
   ]
  },
  {
   "cell_type": "code",
   "execution_count": 16,
   "metadata": {},
   "outputs": [
    {
     "name": "stdout",
     "output_type": "stream",
     "text": [
      "Thought: The phrasing discrepancy in my previous answer may have been due to using the English translation of \"Gesellschaft mit beschränkter Haftung\" instead of the original German term. To avoid this mistake in the future, I will provide the answer using the original German term \"GmbH,\" which stands for \"Gesellschaft mit beschränkter Haftung.\" This will align more closely with the answer key and improve the accuracy of my response.Action: Finish[Gesellschaft mit beschränkter Haftung]\n",
      "Action: Finish[Gesellschaft mit beschränkter Haftung]\n",
      "\n",
      "Answer is CORRECT\n"
     ]
    }
   ],
   "source": [
    "print(out[1])"
   ]
  },
  {
   "cell_type": "code",
   "execution_count": null,
   "metadata": {},
   "outputs": [],
   "source": []
  }
 ],
 "metadata": {
  "kernelspec": {
   "display_name": "discussion-agents",
   "language": "python",
   "name": "python3"
  },
  "language_info": {
   "codemirror_mode": {
    "name": "ipython",
    "version": 3
   },
   "file_extension": ".py",
   "mimetype": "text/x-python",
   "name": "python",
   "nbconvert_exporter": "python",
   "pygments_lexer": "ipython3",
   "version": "3.10.13"
  }
 },
 "nbformat": 4,
 "nbformat_minor": 2
}
