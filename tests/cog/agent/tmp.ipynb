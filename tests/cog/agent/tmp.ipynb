{
 "cells": [
  {
   "cell_type": "code",
   "execution_count": 6,
   "metadata": {},
   "outputs": [],
   "source": [
    "from langchain_community.chat_models import ChatOpenAI\n",
    "import dotenv\n",
    "import os\n",
    "import joblib\n",
    "from discussion_agents.cog.agent.expel import ExpeLAgent\n",
    "from discussion_agents.cog.modules.memory.expel import ExpeLExperienceMemory\n",
    "\n",
    "dotenv.load_dotenv(\"../../.env\")\n",
    "openai_api_key = os.getenv(\"OPENAI_API_KEY\")\n",
    "llm = ChatOpenAI(model_name=\"gpt-3.5-turbo-0125\", openai_api_key=openai_api_key)\n",
    "hotpotqa = joblib.load('../../assets/hotpotqa/hotpot-qa-distractor-sample.joblib')\n",
    "experiences = joblib.load('../../assets/expel/expel_experiences_10_fake.joblib')"
   ]
  },
  {
   "cell_type": "code",
   "execution_count": null,
   "metadata": {},
   "outputs": [],
   "source": [
    "agent = ExpeLAgent(\n",
    "    llm=llm,\n",
    "    self_reflect_llm=llm,\n",
    "    action_llm=llm,\n",
    "    experience_memory=ExpeLExperienceMemory(experiences=experiences)\n",
    ")"
   ]
  },
  {
   "cell_type": "code",
   "execution_count": null,
   "metadata": {},
   "outputs": [],
   "source": [
    "new_experiences = agent.gather_experience(\n",
    "    questions=hotpotqa.question.values[-5:],\n",
    "    keys=hotpotqa.answer.values[-5:]\n",
    ")"
   ]
  },
  {
   "cell_type": "code",
   "execution_count": null,
   "metadata": {},
   "outputs": [],
   "source": [
    "agent.insight_memory.insights"
   ]
  },
  {
   "cell_type": "code",
   "execution_count": null,
   "metadata": {},
   "outputs": [],
   "source": [
    "agent.extract_insights(new_experiences)"
   ]
  },
  {
   "cell_type": "code",
   "execution_count": null,
   "metadata": {},
   "outputs": [],
   "source": [
    "agent.insight_memory.insights"
   ]
  },
  {
   "cell_type": "code",
   "execution_count": null,
   "metadata": {},
   "outputs": [],
   "source": [
    "hotpotqa.iloc[-6].answer"
   ]
  },
  {
   "cell_type": "code",
   "execution_count": null,
   "metadata": {},
   "outputs": [],
   "source": [
    "question = hotpotqa.iloc[-6].question\n",
    "key = hotpotqa.iloc[-6].answer\n",
    "\n",
    "out = agent.generate(\n",
    "    question=question,\n",
    "    key=key,\n",
    ")"
   ]
  },
  {
   "cell_type": "code",
   "execution_count": null,
   "metadata": {},
   "outputs": [],
   "source": [
    "agent.insight_memory.insights"
   ]
  },
  {
   "cell_type": "code",
   "execution_count": null,
   "metadata": {},
   "outputs": [],
   "source": [
    "a = [{'insight': 'When information on a specific topic is not readily available, search for related entities or events that may lead to the answer, or try different variations of the search term to gather more comprehensive data.',\n",
    "  'score': 4},\n",
    " {'insight': 'Always search for the exact term or phrase related to the topic when conducting a search.',\n",
    "  'score': 2},\n",
    " {'insight': 'When searching for specific information, try to utilize different sources or platforms to gather more comprehensive data.',\n",
    "  'score': 3},\n",
    " {'insight': 'When determining the type of a magazine or publication, consider searching for keywords such as \"genre\" or \"category\" in relation to the title to gather more specific information, or explore alternative search terms related to the content.',\n",
    "  'score': 2},\n",
    " {'insight': 'When searching for a specific creator or artist, include the search term \"creator of [work]\" or \"artist of [work]\" to find relevant information.',\n",
    "  'score': 2},\n",
    " {'insight': 'When identifying a specific work of art or creation by a creator, include specific keywords related to the work or its description to narrow down search results.',\n",
    "  'score': 2},\n",
    " {'insight': 'When searching for specific information related to a company, look for press releases, official announcements, or financial reports to find accurate and up-to-date information.',\n",
    "  'score': 2},\n",
    " {'insight': 'When faced with a lack of information from traditional sources, consider alternative methods such as reaching out directly to the company or individual for the needed information.',\n",
    "  'score': 2},\n",
    " {'insight': 'When searching for specific information about individuals, include additional descriptors such as \"musician\", \"actor\", \"singer\", etc. to narrow down the search results and find relevant information more efficiently.',\n",
    "  'score': 2},\n",
    " {'insight': 'When conducting searches, consider using different search engines or platforms to ensure a wider range of results and more comprehensive data collection.',\n",
    "  'score': 2},\n",
    " {'insight': 'If initial search queries do not yield relevant information, try refining the search terms by including specific descriptors or keywords related to the topic to narrow down the results and find the desired information efficiently.',\n",
    "  'score': 2},\n",
    " {'insight': 'When conducting searches, consider utilizing different search terms or phrases to gather more comprehensive data and increase the chances of finding the desired information efficiently.',\n",
    "  'score': 2}]"
   ]
  },
  {
   "cell_type": "code",
   "execution_count": null,
   "metadata": {},
   "outputs": [],
   "source": [
    "agent.insight_memory.insights == a"
   ]
  },
  {
   "cell_type": "code",
   "execution_count": null,
   "metadata": {},
   "outputs": [],
   "source": []
  }
 ],
 "metadata": {
  "kernelspec": {
   "display_name": "discussion-agents",
   "language": "python",
   "name": "python3"
  },
  "language_info": {
   "codemirror_mode": {
    "name": "ipython",
    "version": 3
   },
   "file_extension": ".py",
   "mimetype": "text/x-python",
   "name": "python",
   "nbconvert_exporter": "python",
   "pygments_lexer": "ipython3",
   "version": "3.10.13"
  }
 },
 "nbformat": 4,
 "nbformat_minor": 2
}
