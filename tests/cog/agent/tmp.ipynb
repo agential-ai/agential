{
 "cells": [
  {
   "cell_type": "code",
   "execution_count": 1,
   "metadata": {},
   "outputs": [],
   "source": [
    "from discussion_agents.cog.agent.reflexion import ReflexionCoTAgent, ReflexionReActAgent\n",
    "from langchain_community.chat_models.fake import FakeListChatModel\n",
    "from langchain_community.chat_models.openai import ChatOpenAI\n",
    "\n",
    "import dotenv\n",
    "import os\n",
    "\n",
    "dotenv.load_dotenv(\"../.env\")\n",
    "openai_api_key = os.getenv(\"OPENAI_API_KEY\")"
   ]
  },
  {
   "cell_type": "code",
   "execution_count": 12,
   "metadata": {},
   "outputs": [
    {
     "name": "stdout",
     "output_type": "stream",
     "text": [
      "OUT:\n",
      "\n",
      " 'The new acronym for VIVA Media AG after changing its name in 2004 is VIVA Media GmbH, as mentioned in the context provided.\\nAction: Finish[VIVA Media GmbH]'\n",
      "OUT:\n",
      "\n",
      " 'Finish[VIVA Media GmbH]'\n",
      "REFLECTION:\n",
      "\n",
      " 'The reason for the failure in this trial could be the discrepancy in the phrasing of the answer. The question asked for the acronym of the new name, while the provided answer included the full name \"VIVA Media GmbH\". To mitigate this issue in future trials, a more concise and high-level plan would be to provide only the acronym \"GmbH\" as the answer, as it directly corresponds to the acronym in the question. This adjustment will ensure a more accurate match between the question and the answer provided.'\n",
      "OUT:\n",
      "\n",
      " 'The reason for the failure in this trial could be the discrepancy in the phrasing of the answer. The question asked for the acronym of the new name, while the provided answer included the full name \"VIVA Media GmbH\". To avoid this mistake, I should provide only the acronym \"GmbH\" as the answer, as it directly corresponds to the acronym in the question. This adjustment will ensure a more accurate match between the question and the answer provided.\\nAction: Finish[GmbH]'\n",
      "OUT:\n",
      "\n",
      " 'Finish[GmbH]'\n"
     ]
    }
   ],
   "source": [
    "question = \"VIVA Media AG changed it's name in 2004. What does their new acronym stand for?\"\n",
    "key = \"Gesellschaft mit beschränkter Haftung\"\n",
    "context = 'VIVA Media GmbH (until 2004 \"VIVA Media AG\") is a music television network originating from Germany. It was founded for broadcast of VIVA Germany as VIVA Media AG in 1993 and has been owned by their original concurrent Viacom, the parent company of MTV, since 2004. Viva channels exist in some European countries; the first spin-offs were launched in Poland and Switzerland in 2000.\\n\\nA Gesellschaft mit beschränkter Haftung (] , abbreviated GmbH ] and also GesmbH in Austria) is a type of legal entity very common in Germany, Austria, Switzerland (where it is equivalent to a S.à r.l.) and Liechtenstein. In the United States, the equivalent type of entity is the limited liability company (LLC). The name of the GmbH form emphasizes the fact that the owners (\"Gesellschafter\", also known as members) of the entity are not personally liable for the company\\'s debts. \"GmbH\"s are considered legal persons under German and Austrian law. Other variations include mbH (used when the term \"Gesellschaft\" is part of the company name itself), and gGmbH (\"gemeinnützige\" GmbH) for non-profit companies.'\n",
    "\n",
    "llm = ChatOpenAI(openai_api_key=openai_api_key)\n",
    "\n",
    "agent = ReflexionCoTAgent(\n",
    "    self_reflect_llm=llm,\n",
    "    action_llm=llm,\n",
    "    max_trials=3,\n",
    "    patience=2\n",
    ")\n",
    "\n",
    "out = agent.generate(question=question, key=key, context=context, strategy=\"reflexion\")"
   ]
  },
  {
   "cell_type": "code",
   "execution_count": 14,
   "metadata": {},
   "outputs": [
    {
     "data": {
      "text/plain": [
       "['Thought: The new acronym for VIVA Media AG after changing its name in 2004 is VIVA Media GmbH, as mentioned in the context provided.Action: Finish[VIVA Media GmbH]\\nAction: Finish[VIVA Media GmbH]\\n\\nAnswer is INCORRECT',\n",
       " 'Thought: The reason for the failure in this trial could be the discrepancy in the phrasing of the answer. The question asked for the acronym of the new name, while the provided answer included the full name \"VIVA Media GmbH\". To avoid this mistake, I should provide only the acronym \"GmbH\" as the answer, as it directly corresponds to the acronym in the question. This adjustment will ensure a more accurate match between the question and the answer provided.Action: Finish[GmbH]\\nAction: Finish[GmbH]\\n\\nAnswer is INCORRECT']"
      ]
     },
     "execution_count": 14,
     "metadata": {},
     "output_type": "execute_result"
    }
   ],
   "source": [
    "out"
   ]
  },
  {
   "cell_type": "code",
   "execution_count": null,
   "metadata": {},
   "outputs": [],
   "source": []
  },
  {
   "cell_type": "code",
   "execution_count": 6,
   "metadata": {},
   "outputs": [
    {
     "name": "stdout",
     "output_type": "stream",
     "text": [
      "OUT:\n",
      "\n",
      " 'The context provided states that VIVA Media AG changed its name to VIVA Media GmbH in 2004. Based on the information given, the new acronym \"GmbH\" stands for \"Gesellschaft mit beschränkter Haftung\" in German, which translates to \"company with limited liability\" in English.\\nAction: Finish[Company with limited liability]'\n",
      "OUT:\n",
      "\n",
      " 'Finish[Company with limited liability]'\n",
      "REFLECTION:\n",
      "\n",
      " 'Upon reflection, the phrasing discrepancy in my answer may have been the reason for it being marked incorrect. While I provided the correct translation of \"GmbH\" in English, the question specifically asked for the acronym\\'s meaning in German. To mitigate this failure in the future, I should provide the answer in the same language as requested in the question, which in this case would be \"Gesellschaft mit beschränkter Haftung\". This will ensure alignment between the question and my response.'\n",
      "OUT:\n",
      "\n",
      " 'The reflection provided valuable insight into the previous mistake. To align with the question\\'s request for the meaning of the new acronym in German, I should provide the answer in German, which is \"Gesellschaft mit beschränkter Haftung\". This will ensure accuracy and avoid repeating the previous error.\\n\\nAction: Finish[Gesellschaft mit beschränkter Haftung]'\n",
      "OUT:\n",
      "\n",
      " 'Finish[Gesellschaft mit beschränkter Haftung]'\n"
     ]
    }
   ],
   "source": [
    "self_reflect_llm_responses = [\n",
    "    'Upon reflection, the phrasing discrepancy in my answer may have been the reason for it being marked incorrect. While I provided the correct translation of \"GmbH\" in English, the question specifically asked for the acronym\\'s meaning in German. To mitigate this failure in the future, I should provide the answer in the same language as requested in the question, which in this case would be \"Gesellschaft mit beschränkter Haftung\". This will ensure alignment between the question and my response.'\n",
    "]\n",
    "action_llm_responses = [\n",
    "    'The context provided states that VIVA Media AG changed its name to VIVA Media GmbH in 2004. Based on the information given, the new acronym \"GmbH\" stands for \"Gesellschaft mit beschränkter Haftung\" in German, which translates to \"company with limited liability\" in English.\\nAction: Finish[Company with limited liability]',\n",
    "    'Finish[Company with limited liability]',\n",
    "    'The reflection provided valuable insight into the previous mistake. To align with the question\\'s request for the meaning of the new acronym in German, I should provide the answer in German, which is \"Gesellschaft mit beschränkter Haftung\". This will ensure accuracy and avoid repeating the previous error.\\n\\nAction: Finish[Gesellschaft mit beschränkter Haftung]',\n",
    "    'Finish[Gesellschaft mit beschränkter Haftung]'\n",
    "]\n",
    "self_reflect_llm = FakeListChatModel(responses=self_reflect_llm_responses)\n",
    "action_llm = FakeListChatModel(responses=action_llm_responses)\n",
    "agent = ReflexionCoTAgent(\n",
    "    self_reflect_llm=self_reflect_llm,\n",
    "    action_llm=action_llm,\n",
    "    max_trials=2,\n",
    ")\n",
    "out = agent.generate(question=question, key=key, context=context, strategy=\"reflexion\")"
   ]
  },
  {
   "cell_type": "code",
   "execution_count": 7,
   "metadata": {},
   "outputs": [
    {
     "data": {
      "text/plain": [
       "['Thought: The context provided states that VIVA Media AG changed its name to VIVA Media GmbH in 2004. Based on the information given, the new acronym \"GmbH\" stands for \"Gesellschaft mit beschränkter Haftung\" in German, which translates to \"company with limited liability\" in English.Action: Finish[Company with limited liability]\\nAction: Finish[Company with limited liability]\\n\\nAnswer is INCORRECT',\n",
       " 'Thought: The reflection provided valuable insight into the previous mistake. To align with the question\\'s request for the meaning of the new acronym in German, I should provide the answer in German, which is \"Gesellschaft mit beschränkter Haftung\". This will ensure accuracy and avoid repeating the previous error.Action: Finish[Gesellschaft mit beschränkter Haftung]\\nAction: Finish[Gesellschaft mit beschränkter Haftung]\\n\\nAnswer is CORRECT']"
      ]
     },
     "execution_count": 7,
     "metadata": {},
     "output_type": "execute_result"
    }
   ],
   "source": [
    "out"
   ]
  },
  {
   "cell_type": "code",
   "execution_count": null,
   "metadata": {},
   "outputs": [],
   "source": []
  }
 ],
 "metadata": {
  "kernelspec": {
   "display_name": "discussion-agents",
   "language": "python",
   "name": "python3"
  },
  "language_info": {
   "codemirror_mode": {
    "name": "ipython",
    "version": 3
   },
   "file_extension": ".py",
   "mimetype": "text/x-python",
   "name": "python",
   "nbconvert_exporter": "python",
   "pygments_lexer": "ipython3",
   "version": "3.10.13"
  }
 },
 "nbformat": 4,
 "nbformat_minor": 2
}
