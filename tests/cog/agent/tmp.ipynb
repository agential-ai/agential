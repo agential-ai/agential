{
 "cells": [
  {
   "cell_type": "code",
   "execution_count": 1,
   "metadata": {},
   "outputs": [],
   "source": [
    "from discussion_agents.cog.agent.reflexion import ReflexionCoTAgent\n",
    "from langchain_community.chat_models.fake import FakeListChatModel\n",
    "from langchain_community.chat_models.openai import ChatOpenAI\n",
    "\n",
    "import dotenv\n",
    "import os\n",
    "\n",
    "dotenv.load_dotenv(\"../.env\")\n",
    "openai_api_key = os.getenv(\"OPENAI_API_KEY\")"
   ]
  },
  {
   "cell_type": "code",
   "execution_count": 2,
   "metadata": {},
   "outputs": [
    {
     "name": "stdout",
     "output_type": "stream",
     "text": [
      "SCRATCHPAD:\n",
      "\n",
      " '\\nThought:'\n",
      "REFLECTIONS:\n",
      "\n",
      " ''\n",
      "OUT:\n",
      "\n",
      " \"Let's think step by step. VIVA Media AG changed its name to VGL Entertainment Group. The acronym VGL stands for Video Gaming League.\\nAction: Finish[Video Gaming League]\"\n",
      "SCRATCHPAD:\n",
      "\n",
      " \"\\nThought: Let's think step by step. VIVA Media AG changed its name to VGL Entertainment Group. The acronym VGL stands for Video Gaming League.Action: Finish[Video Gaming League]\\nAction:\"\n",
      "REFLECTIONS:\n",
      "\n",
      " ''\n",
      "OUT:\n",
      "\n",
      " 'Finish[Video Gaming League]'\n",
      "SCRATCHPAD:\n",
      "\n",
      " \"\\nThought: Let's think step by step. VIVA Media AG changed its name to VGL Entertainment Group. The acronym VGL stands for Video Gaming League.Action: Finish[Video Gaming League]\\nAction: Finish[Video Gaming League]\\nObservation: Answer is INCORRECT\\nThought:\"\n",
      "REFLECTIONS:\n",
      "\n",
      " ''\n",
      "OUT:\n",
      "\n",
      " \"Let's think step by step. VIVA Media AG changed its name to VGL Entertainment Group. The acronym VGL stands for Video Gaming League, which is the correct answer. However, the answer given is incorrect. The correct answer is Video Gaming League.\\nAction: Finish[Video Gaming League]\"\n",
      "SCRATCHPAD:\n",
      "\n",
      " \"\\nThought: Let's think step by step. VIVA Media AG changed its name to VGL Entertainment Group. The acronym VGL stands for Video Gaming League.Action: Finish[Video Gaming League]\\nAction: Finish[Video Gaming League]\\nObservation: Answer is INCORRECT\\nThought: Let's think step by step. VIVA Media AG changed its name to VGL Entertainment Group. The acronym VGL stands for Video Gaming League, which is the correct answer. However, the answer given is incorrect. The correct answer is Video Gaming League.Action: Finish[Video Gaming League]\\nAction:\"\n",
      "REFLECTIONS:\n",
      "\n",
      " ''\n",
      "OUT:\n",
      "\n",
      " 'Finish[Video Gaming League]'\n"
     ]
    }
   ],
   "source": [
    "question = \"VIVA Media AG changed it's name in 2004. What does their new acronym stand for?\"\n",
    "key = \"Gesellschaft mit beschränkter Haftung\"\n",
    "\n",
    "llm = ChatOpenAI(openai_api_key=openai_api_key)\n",
    "\n",
    "agent = ReflexionCoTAgent(\n",
    "    self_reflect_llm=llm,\n",
    "    action_llm=llm,\n",
    "    max_trials=2\n",
    ")\n",
    "\n",
    "out = agent.generate(question=question, key=key)"
   ]
  },
  {
   "cell_type": "code",
   "execution_count": 5,
   "metadata": {},
   "outputs": [
    {
     "name": "stdout",
     "output_type": "stream",
     "text": [
      "SCRATCHPAD:\n",
      "\n",
      " '\\nThought:'\n",
      "REFLECTIONS:\n",
      "\n",
      " ''\n",
      "OUT:\n",
      "\n",
      " 'Let\\'s think step by step. VIVA Media AG changed its name to VIVA Media GmbH in 2004. GmbH stands for \"Gesellschaft mit beschränkter Haftung\" which translates to \"company with limited liability\" in English.\\nAction: Finish[company with limited liability]'\n"
     ]
    }
   ],
   "source": [
    "from discussion_agents.cog.functional.reflexion import _prompt_cot_agent\n",
    "from langchain_community.chat_models.openai import ChatOpenAI\n",
    "from discussion_agents.cog.prompts.reflexion import REFLEXION_COT_FEWSHOT_EXAMPLES_NO_CONTEXT, REFLEXION_COT_FEWSHOT_EXAMPLES\n",
    "\n",
    "import dotenv\n",
    "import os\n",
    "\n",
    "dotenv.load_dotenv(\"../.env\")\n",
    "openai_api_key = os.getenv(\"OPENAI_API_KEY\")\n",
    "question = \"VIVA Media AG changed it's name in 2004. What does their new acronym stand for?\"\n",
    "context = 'VIVA Media GmbH (until 2004 \"VIVA Media AG\") is a music television network originating from Germany. It was founded for broadcast of VIVA Germany as VIVA Media AG in 1993 and has been owned by their original concurrent Viacom, the parent company of MTV, since 2004. Viva channels exist in some European countries; the first spin-offs were launched in Poland and Switzerland in 2000.\\n\\nA Gesellschaft mit beschränkter Haftung (] , abbreviated GmbH ] and also GesmbH in Austria) is a type of legal entity very common in Germany, Austria, Switzerland (where it is equivalent to a S.à r.l.) and Liechtenstein. In the United States, the equivalent type of entity is the limited liability company (LLC). The name of the GmbH form emphasizes the fact that the owners (\"Gesellschafter\", also known as members) of the entity are not personally liable for the company\\'s debts. \"GmbH\"s are considered legal persons under German and Austrian law. Other variations include mbH (used when the term \"Gesellschaft\" is part of the company name itself), and gGmbH (\"gemeinnützige\" GmbH) for non-profit companies.'\n",
    "llm = ChatOpenAI(openai_api_key=openai_api_key)\n",
    "\n",
    "out = _prompt_cot_agent(\n",
    "    llm=llm, \n",
    "    examples=REFLEXION_COT_FEWSHOT_EXAMPLES_NO_CONTEXT,\n",
    "    reflections=\"\",\n",
    "    question=question,\n",
    "    scratchpad=\"\\nThought:\",\n",
    "    context=None\n",
    ")"
   ]
  },
  {
   "cell_type": "code",
   "execution_count": 6,
   "metadata": {},
   "outputs": [
    {
     "data": {
      "text/plain": [
       "'Let\\'s think step by step. VIVA Media AG changed its name to VIVA Media GmbH in 2004. GmbH stands for \"Gesellschaft mit beschränkter Haftung\" which translates to \"company with limited liability\" in English.Action: Finish[company with limited liability]'"
      ]
     },
     "execution_count": 6,
     "metadata": {},
     "output_type": "execute_result"
    }
   ],
   "source": [
    "out"
   ]
  }
 ],
 "metadata": {
  "kernelspec": {
   "display_name": "discussion-agents",
   "language": "python",
   "name": "python3"
  },
  "language_info": {
   "codemirror_mode": {
    "name": "ipython",
    "version": 3
   },
   "file_extension": ".py",
   "mimetype": "text/x-python",
   "name": "python",
   "nbconvert_exporter": "python",
   "pygments_lexer": "ipython3",
   "version": "3.10.13"
  }
 },
 "nbformat": 4,
 "nbformat_minor": 2
}
