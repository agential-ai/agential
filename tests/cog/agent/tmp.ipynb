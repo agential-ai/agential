{
 "cells": [
  {
   "cell_type": "code",
   "execution_count": 1,
   "metadata": {},
   "outputs": [],
   "source": [
    "from discussion_agents.cog.agent.react import ReActAgent\n",
    "from langchain_community.chat_models.fake import FakeListChatModel\n",
    "\n",
    "responses = [\n",
    "    ' I need to search for the best kick boxer in the world, and then find any controversies or crimes they have been involved in.\\nAction: Search[best kick boxer in the world]\\nObservation: (Result 1/1) Ramon Dekkers is considered by many to be the best kickboxer in the world.\\nThought: It mentions \"unsportsmanlike conducts\" and crimes of violence. I need to find more information about Ramon Dekkers.\\nAction: Lookup[crimes]\\nObservation: (Result 1/1) Dekkers was involved in a number of controversies relating to his \"unsportsmanlike conducts\" in the sport and crimes of violence outside of the ring.\\nThought: Ramon Dekkers has been involved in controversies and crimes. I need to find more information about them.\\nAction: Lookup[controversies]\\nObservation: (Result 1/1) Dekkers was known for his aggressive style and has been involved in a number of controversies, including a bar brawl and an altercation with a bouncer.\\nThought: It mentions \"unsportsmanlike conducts\" and crimes of violence. I need to find more information about the controversies and crimes.\\nAction: Lookup[unsportsmanlike conducts]\\nObservation: (Result',\n",
    "    ' Search[best kick boxer]\\nObservation: The best kick boxer in the world is often a highly debated topic, but some notable names include Semmy Schilt, Peter Aerts, Ernesto Hoost, and Ramon Dekkers.\\nThought: Since the question mentions controversies and crimes, I should focus on more recent kick boxers. I will look up the controversies and crimes of Semmy Schilt.\\nAction: Lookup[controversies and crimes]\\nObservation: (Result 1/1) Semmy Schilt has been involved in several controversies, including accusations of using performance-enhancing drugs and unsportsmanlike conducts such as eye-gouging and low blows.\\nThought: The question mentions \"unsportsmanlike conducts\" specifically, so I will look up more information on those incidents.\\nAction: Lookup[unsportsmanlike conducts]\\nObservation: (Result 1/1) Semmy Schilt has been known for his aggressive and sometimes controversial fighting style, with incidents such as eye-gouging and low blows being reported by his opponents.\\nThought: The question also mentions crimes outside of the ring, so I will search for any criminal record or charges against Semmy Schilt.\\nAction: Search[Semmy Schilt criminal record]\\nObservation',\n",
    "]\n",
    "\n",
    "from langchain_community.chat_models import ChatOpenAI\n",
    "\n",
    "import dotenv\n",
    "import os\n",
    "\n",
    "dotenv.load_dotenv(\"../../.env\")\n",
    "openai_api_key = os.getenv(\"OPENAI_API_KEY\")\n",
    "llm = ChatOpenAI(openai_api_key=openai_api_key)\n",
    "\n",
    "# llm = FakeListChatModel(responses=responses)\n",
    "agent = ReActAgent(\n",
    "    llm=llm,\n",
    "    max_steps=1\n",
    ")\n",
    "out = agent.generate(question=q)"
   ]
  },
  {
   "cell_type": "code",
   "execution_count": 2,
   "metadata": {},
   "outputs": [],
   "source": [
    "q = 'Who was once considered the best kick boxer in the world, however he has been involved in a number of controversies relating to his \"unsportsmanlike conducts\" in the sport and crimes of violence outside of the ring'"
   ]
  },
  {
   "cell_type": "code",
   "execution_count": 69,
   "metadata": {},
   "outputs": [],
   "source": [
    "responses = [\n",
    "    ' I need to search for the best kick boxer in the world, and then find any controversies or crimes they have been involved in.\\nAction: Search[best kick boxer in the world]\\nObservation: (Result 1/1) Ramon Dekkers is considered by many to be the best kickboxer in the world.\\nThought: It mentions \"unsportsmanlike conducts\" and crimes of violence. I need to find more information about Ramon Dekkers.\\nAction: Lookup[crimes]\\nObservation: (Result 1/1) Dekkers was involved in a number of controversies relating to his \"unsportsmanlike conducts\" in the sport and crimes of violence outside of the ring.\\nThought: Ramon Dekkers has been involved in controversies and crimes. I need to find more information about them.\\nAction: Lookup[controversies]\\nObservation: (Result 1/1) Dekkers was known for his aggressive style and has been involved in a number of controversies, including a bar brawl and an altercation with a bouncer.\\nThought: It mentions \"unsportsmanlike conducts\" and crimes of violence. I need to find more information about the controversies and crimes.\\nAction: Lookup[unsportsmanlike conducts]\\nObservation: (Result',\n",
    "    ' Finish[Badr Hari]\\n',\n",
    "]\n",
    "llm = FakeListChatModel(responses=responses)\n",
    "agent = ReActAgent(llm=llm, max_steps=5)\n",
    "out = agent.generate(question=q)"
   ]
  },
  {
   "cell_type": "code",
   "execution_count": 70,
   "metadata": {},
   "outputs": [
    {
     "name": "stdout",
     "output_type": "stream",
     "text": [
      "\n",
      "Thought: I need to search for the best kick boxer in the world, and then find any controversies or crimes they have been involved in.\n",
      "Action: Finish[Badr Hari]\n",
      "Observation 1: Badr Hari\n"
     ]
    }
   ],
   "source": [
    "print(out)"
   ]
  },
  {
   "cell_type": "code",
   "execution_count": 71,
   "metadata": {},
   "outputs": [
    {
     "data": {
      "text/plain": [
       "['',\n",
       " 'Thought: I need to search for the best kick boxer in the world, and then find any controversies or crimes they have been involved in.',\n",
       " 'Action: Finish[Badr Hari]',\n",
       " 'Observation 1: Badr Hari']"
      ]
     },
     "execution_count": 71,
     "metadata": {},
     "output_type": "execute_result"
    }
   ],
   "source": [
    "out.split(\"\\n\")"
   ]
  },
  {
   "cell_type": "code",
   "execution_count": null,
   "metadata": {},
   "outputs": [],
   "source": []
  }
 ],
 "metadata": {
  "kernelspec": {
   "display_name": "discussion-agents",
   "language": "python",
   "name": "python3"
  },
  "language_info": {
   "codemirror_mode": {
    "name": "ipython",
    "version": 3
   },
   "file_extension": ".py",
   "mimetype": "text/x-python",
   "name": "python",
   "nbconvert_exporter": "python",
   "pygments_lexer": "ipython3",
   "version": "3.10.13"
  }
 },
 "nbformat": 4,
 "nbformat_minor": 2
}
