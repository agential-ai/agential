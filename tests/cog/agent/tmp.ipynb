{
 "cells": [
  {
   "cell_type": "code",
   "execution_count": 1,
   "metadata": {},
   "outputs": [
    {
     "name": "stderr",
     "output_type": "stream",
     "text": [
      "c:\\Users\\tuvin\\anaconda3\\envs\\discussion-agents\\lib\\site-packages\\tqdm\\auto.py:21: TqdmWarning: IProgress not found. Please update jupyter and ipywidgets. See https://ipywidgets.readthedocs.io/en/stable/user_install.html\n",
      "  from .autonotebook import tqdm as notebook_tqdm\n"
     ]
    }
   ],
   "source": [
    "from langchain_community.chat_models import ChatOpenAI\n",
    "import dotenv\n",
    "import os\n",
    "import joblib\n",
    "from discussion_agents.cog.agent.expel import ExpeLAgent\n",
    "from discussion_agents.cog.modules.memory.expel import ExpeLExperienceMemory, ExpeLInsightMemory\n",
    "\n",
    "dotenv.load_dotenv(\"../../.env\")\n",
    "openai_api_key = os.getenv(\"OPENAI_API_KEY\")\n",
    "llm = ChatOpenAI(model_name=\"gpt-3.5-turbo-0125\", openai_api_key=openai_api_key)\n",
    "hotpotqa = joblib.load('../../assets/hotpotqa/hotpot-qa-distractor-sample.joblib')\n",
    "experiences = joblib.load('../../assets/expel/expel_experiences_10_fake.joblib')\n",
    "agent = ExpeLAgent(llm=llm)"
   ]
  },
  {
   "cell_type": "code",
   "execution_count": 2,
   "metadata": {},
   "outputs": [],
   "source": [
    "selected_indices = [6, 3, 0]\n",
    "selected_dict = {key: [value[i] for i in selected_indices] for key, value in experiences.items()}\n",
    "selected_dict['idxs'] = list(range(len(selected_indices)))"
   ]
  },
  {
   "cell_type": "code",
   "execution_count": null,
   "metadata": {},
   "outputs": [],
   "source": [
    "insights = [{'insight': 'When unable to find specific information, consider looking for related topics or broader context that may lead to the desired answer.', 'score': 2}, {'insight': 'Consider using different search terms or variations when searching for specific information to increase the chances of finding the desired answer.', 'score': 2}]\n",
    "success_trials = 'The creator of \"Wallace and Gromit\" also created what animation comedy that matched animated zoo animals with a soundtrack of people talking about their homes? \\nThought: I need to search for the creator of \"Wallace and Gromit\" and find out what other animation comedy they created that involves animated zoo animals and people talking about their homes. \\nAction: Action 1: Search[creator of Wallace and Gromit]\\nObservation 1: Invalid Action. Valid Actions are Lookup[<topic>] Search[<topic>] and Finish[<answer>].\\nThought: I should search for the creator of \"Wallace and Gromit\" by searching for Nick Park. \\nAction: Search[Nick Park]\\nObservation 2: Could not find [Nick Park]. Similar: [\\'Nick Park\\', \\'Wallace and Gromit\\', \\'Nick Hornby\\', \\'Aardman Animations\\', \\'Chicken Run\\', \\'A Grand Day Out\\', \\'Harry Gregson-Williams\\', \\'Plasticine\\', \\'Nickelodeon\\', \\'Wallace & Gromit: The Curse of the Were-Rabbit\\']\\nThought: I need to search for Nick Park using the search term \"Nick Park\" instead of just Nick Park. \\nAction: Search[Nick Park]\\nObservation 3: Could not find [Nick Park]. Similar: [\\'Nick Park\\', \\'Wallace and Gromit\\', \\'Nick Hornby\\', \\'Aardman Animations\\', \\'Chicken Run\\', \\'A Grand Day Out\\', \\'Harry Gregson-Williams\\', \\'Plasticine\\', \\'Nickelodeon\\', \\'Wallace & Gromit: The Curse of the Were-Rabbit\\']\\nThought: I should try searching for the creator of \"Wallace and Gromit\" on a different platform like a search engine. \\nAction: Search[creator of Wallace and Gromit]\\nObservation 4: Wallace and Gromit is a British stop-motion animated comedy franchise created by Nick Park and produced by Aardman Animations. The main film series consists of four short films and one feature-length film, and has spawned numerous spin-offs and TV adaptations. The series centres on Wallace, a good-natured, eccentric, cheese-loving inventor, and Gromit, his loyal and intelligent anthropomorphic beagle. The first short film, A Grand Day Out, was finished and made public in 1989. Wallace was voiced by actor Peter Sallis until 2010 when he was succeeded by Ben Whitehead. Gromit is largely silent and has no dialogue, communicating through facial expressions and body language.Because of their widespread popularity, the characters have been described as positive international cultural icons of both modern British culture and British people in general. BBC News called them \"some of the best-known and best-loved stars to come out of the UK\". Icons has said they have done \"more to improve the image of the English world-wide than any officially appointed ambassadors\". Although not overtly set in any particular town, Park has hinted that it was inspired by 1950s Wigan in Northern England. Wallace\\'s accent comes from the Holme Valley of West Yorkshire. Wallace is fond of Wensleydale cheese (from Wensleydale, North Yorkshire).Their films have received universal acclaim, with the first three short films, A Grand Day Out (1989), The Wrong Trousers (1993) and A Close Shave (1995) earning 100% on Rotten Tomatoes; the feature film Wallace & Gromit: The Curse of the Were-Rabbit (2005) has also received acclaim. The feature film is the second-highest-grossing stop-motion animated film, only outgrossed by Chicken Run (2000), another creation of Park\\'s. A fourth short film, A Matter of Loaf and Death, was released in 2008. The franchise has received numerous accolades, including five British Academy Film Awards, three Academy Awards and a Peabody Award.The Wallace and Gromit characters spearhead the fundraising for two children\\'s charities: Wallace & Gromit\\'s Children\\'s Foundation, which supports children\\'s hospices and hospitals in the United Kingdom, and Wallace and Gromit\\'s Grand Appeal, the charity for Bristol Children\\'s Hospital in Bristol. In December 2010, Wallace and Gromit featured on a festive themed series of UK postage stamps issued by the Royal Mail.\\nThought: The creator of \"Wallace and Gromit\" is Nick Park. Now, I need to find out what other animation comedy involving animated zoo animals and people talking about their homes was created by him.\\nAction: Search[animation comedy animated zoo animals talking about homes Nick Park]\\nObservation 5: Nicholas Wulstan Park  (born 6 December 1958) is an  English filmmaker and animator who created Wallace and Gromit, Creature Comforts, Chicken Run, Shaun the Sheep, and Early Man. Park has been nominated for an Academy Award a total of six times and won four with Creature Comforts (1989), The Wrong Trousers (1993), A Close Shave (1995) and Wallace & Gromit: The Curse of the Were-Rabbit (2005).He has also received five BAFTA Awards, including the BAFTA for Best Short Animation for A Matter of Loaf and Death, which was also the most watched television programme in the United Kingdom in 2008. His 2000 film Chicken Run is the highest-grossing stop motion animated film.In 1985, Park joined Aardman Animations based in Bristol, and for his work in animation he was among the British cultural icons selected by artist Peter Blake to appear in a 2012 version of Blake\\'s most famous artwork—the Beatles\\' Sgt. Pepper\\'s Lonely Hearts Club Band album cover—to celebrate the British cultural figures of his life.Park was appointed a Commander of the Order of the British Empire (CBE) in the 1997 Birthday Honours for services to the animated film industry.\\nThought: Nick Park created the animation comedy \"Creature Comforts\" that matched animated zoo animals with a soundtrack of people talking about their homes. \\nAction: Finish[Creature Comforts]\\nObservation 6: Answer is CORRECT'\n",
    "is_full = False\n",
    "responses = [\n",
    "    'ADD 4: When searching for specific information, try using the full name or specific search terms related to the topic to increase the chances of finding the desired answer.' \n",
    "]"
   ]
  },
  {
   "cell_type": "code",
   "execution_count": 3,
   "metadata": {},
   "outputs": [
    {
     "name": "stdout",
     "output_type": "stream",
     "text": [
      "<===================================>\n",
      "insights:\n",
      " []\n",
      "question:\n",
      " VIVA Media AG changed it's name in 2004. What does their new acronym stand for?\n",
      "sccess trial:\n",
      "\n",
      "\n",
      "'Thought: I need to search for the creator of \"Wallace and Gromit\" and find out what other animation comedy they created that involves animated zoo animals and people talking about their homes. \\nAction: Action 1: Search[creator of Wallace and Gromit]\\nObservation 1: Invalid Action. Valid Actions are Lookup[<topic>] Search[<topic>] and Finish[<answer>].\\nThought: I should search for the creator of \"Wallace and Gromit\" by searching for Nick Park. \\nAction: Search[Nick Park]\\nObservation 2: Could not find [Nick Park]. Similar: [\\'Nick Park\\', \\'Wallace and Gromit\\', \\'Nick Hornby\\', \\'Aardman Animations\\', \\'Chicken Run\\', \\'A Grand Day Out\\', \\'Harry Gregson-Williams\\', \\'Plasticine\\', \\'Nickelodeon\\', \\'Wallace & Gromit: The Curse of the Were-Rabbit\\']\\nThought: I need to search for Nick Park using the search term \"Nick Park\" instead of just Nick Park. \\nAction: Search[Nick Park]\\nObservation 3: Could not find [Nick Park]. Similar: [\\'Nick Park\\', \\'Wallace and Gromit\\', \\'Nick Hornby\\', \\'Aardman Animations\\', \\'Chicken Run\\', \\'A Grand Day Out\\', \\'Harry Gregson-Williams\\', \\'Plasticine\\', \\'Nickelodeon\\', \\'Wallace & Gromit: The Curse of the Were-Rabbit\\']\\nThought: I should try searching for the creator of \"Wallace and Gromit\" on a different platform like a search engine. \\nAction: Search[creator of Wallace and Gromit]\\nObservation 4: Wallace and Gromit is a British stop-motion animated comedy franchise created by Nick Park and produced by Aardman Animations. The main film series consists of four short films and one feature-length film, and has spawned numerous spin-offs and TV adaptations. The series centres on Wallace, a good-natured, eccentric, cheese-loving inventor, and Gromit, his loyal and intelligent anthropomorphic beagle. The first short film, A Grand Day Out, was finished and made public in 1989. Wallace was voiced by actor Peter Sallis until 2010 when he was succeeded by Ben Whitehead. Gromit is largely silent and has no dialogue, communicating through facial expressions and body language.Because of their widespread popularity, the characters have been described as positive international cultural icons of both modern British culture and British people in general. BBC News called them \"some of the best-known and best-loved stars to come out of the UK\". Icons has said they have done \"more to improve the image of the English world-wide than any officially appointed ambassadors\". Although not overtly set in any particular town, Park has hinted that it was inspired by 1950s Wigan in Northern England. Wallace\\'s accent comes from the Holme Valley of West Yorkshire. Wallace is fond of Wensleydale cheese (from Wensleydale, North Yorkshire).Their films have received universal acclaim, with the first three short films, A Grand Day Out (1989), The Wrong Trousers (1993) and A Close Shave (1995) earning 100% on Rotten Tomatoes; the feature film Wallace & Gromit: The Curse of the Were-Rabbit (2005) has also received acclaim. The feature film is the second-highest-grossing stop-motion animated film, only outgrossed by Chicken Run (2000), another creation of Park\\'s. A fourth short film, A Matter of Loaf and Death, was released in 2008. The franchise has received numerous accolades, including five British Academy Film Awards, three Academy Awards and a Peabody Award.The Wallace and Gromit characters spearhead the fundraising for two children\\'s charities: Wallace & Gromit\\'s Children\\'s Foundation, which supports children\\'s hospices and hospitals in the United Kingdom, and Wallace and Gromit\\'s Grand Appeal, the charity for Bristol Children\\'s Hospital in Bristol. In December 2010, Wallace and Gromit featured on a festive themed series of UK postage stamps issued by the Royal Mail.\\nThought: The creator of \"Wallace and Gromit\" is Nick Park. Now, I need to find out what other animation comedy involving animated zoo animals and people talking about their homes was created by him.\\nAction: Search[animation comedy animated zoo animals talking about homes Nick Park]\\nObservation 5: Nicholas Wulstan Park  (born 6 December 1958) is an  English filmmaker and animator who created Wallace and Gromit, Creature Comforts, Chicken Run, Shaun the Sheep, and Early Man. Park has been nominated for an Academy Award a total of six times and won four with Creature Comforts (1989), The Wrong Trousers (1993), A Close Shave (1995) and Wallace & Gromit: The Curse of the Were-Rabbit (2005).He has also received five BAFTA Awards, including the BAFTA for Best Short Animation for A Matter of Loaf and Death, which was also the most watched television programme in the United Kingdom in 2008. His 2000 film Chicken Run is the highest-grossing stop motion animated film.In 1985, Park joined Aardman Animations based in Bristol, and for his work in animation he was among the British cultural icons selected by artist Peter Blake to appear in a 2012 version of Blake\\'s most famous artwork—the Beatles\\' Sgt. Pepper\\'s Lonely Hearts Club Band album cover—to celebrate the British cultural figures of his life.Park was appointed a Commander of the Order of the British Empire (CBE) in the 1997 Birthday Honours for services to the animated film industry.\\nThought: Nick Park created the animation comedy \"Creature Comforts\" that matched animated zoo animals with a soundtrack of people talking about their homes. \\nAction: Finish[Creature Comforts]\\nObservation 6: Answer is CORRECT'\n",
      "\n",
      "\n",
      "\n",
      "'Thought: I need to search for VIVA Media AG and find out what their new acronym stands for after changing their name in 2004. \\nAction: Search[VIVA Media AG]\\nObservation 1: Could not find [VIVA Media AG]. Similar: [\\'MTV Music (Polish TV channel)\\', \\'VIVA Plus\\', \\'Paramount International Networks\\', \\'VIVA (German TV channel)\\', \\'Viacom (1952–2005)\\', \\'Vauxhall Viva\\', \\'Sartorius AG\\', \\'GfK Entertainment charts\\', \\'Lindt\\', \\'Puma (brand)\\']\\nThought: I couldn\\'t find VIVA Media AG, so I should try searching for VIVA (German TV channel) instead, as it might be related.\\nAction: Search[VIVA (German TV channel)]\\nObservation 2: VIVA (abbreviation for: Videoverwertungsanstalt translating to \"Video Exploitation Facility\") was a German free-to-air music television channel, first broadcast on December 1, 1993. The channel was intended to compete against MTV Europe and was the first German-language music TV channel, while MTV was only broadcast in English until the introduction of MTV Germany in 1997. It was also supposed to focus more on German music and pop culture while MTV only broadcast anglophone music by artists mostly from North America, the United Kingdom, Ireland and Australia.After years of competition for audience share, MTV Networks Europe eventually acquired VIVA on  January 14, 2005, after it had outrun its own efforts for better ratings. MTV operated VIVA channels in Austria, Germany, Hungary, Ireland, Poland, Switzerland and the United Kingdom.In June 2018, Viacom announced that it would shut down all Viva operations worldwide at the end of 2018.The channel ceased to broadcast at 14:00 on 31 December 2018, being replaced by Comedy Central.\\nThought: The information provided does not mention any name change or acronym for VIVA Media AG. I should try searching for the specific name change or acronym directly. \\nAction: Search[VIVA Media AG name change acronym]\\nObservation 3: Could not find [VIVA Media AG name change acronym]. Similar: [\\'Holden Torana\\', \\'Andrés Manuel López Obrador\\']\\nThought: I need to refine my search and try looking for the specific name change of VIVA Media AG in 2004 to find out what their new acronym stands for. \\nAction: Search[VIVA Media AG name change 2004]\\nObservation 4: Could not find [VIVA Media AG name change 2004]. Similar: [\\'Vauxhall Viva\\', \\'GfK Entertainment charts\\', \\'Puma (brand)\\', \\'Opel Astra\\', \\'Mediaspree\\', \\'About You Now\\', \\'Daihatsu Mira\\', \\'Bosch (company)\\', \\'Schneider Electric\\', \\'Sildenafil\\']\\nThought: I need to try a different approach. Let me search for the history of VIVA Media AG to see if I can find any information about their name change in 2004 and the new acronym.\\nAction: Search[history of VIVA Media AG]\\nObservation 5: Could not find [history of VIVA Media AG]. Similar: [\\'MTV Music (Polish TV channel)\\', \\'VIVA Plus\\', \\'Vauxhall Viva\\', \\'Sartorius AG\\', \\'VIVA (German TV channel)\\', \\'GfK Entertainment charts\\', \\'Lindt\\', \\'Spellbound Entertainment\\', \\'Ag-gag\\', \\'Puma (brand)\\']\\nThought: I have exhausted my search options and could not find the information I was looking for. Perhaps I can try a different search engine or look for official company announcements to find out the new acronym for VIVA Media AG after their name change in 2004.\\nAction: Finish[unable to find information]\\nObservation 6: Answer is INCORRECT'\n",
      "False\n",
      "<===================================>\n",
      "compare out:\n",
      " 'ADD 11: When unable to find specific information, consider looking for related topics or broader context that may lead to the desired answer.\\nREMOVE 3: Search for specific terms in the API environment should include relevant keywords to ensure accurate results.\\nEDIT 5: Refine search queries by including additional relevant keywords or context to increase the chances of finding the desired information.\\nAGREE 7: Use alternative search engines or sources of information if initial search attempts are unsuccessful.' \n",
      "\n",
      "\n",
      "<===================================>\n",
      "insights:\n",
      " [{'insight': 'When unable to find specific information, consider looking for related topics or broader context that may lead to the desired answer.', 'score': 2}]\n",
      "question:\n",
      " VIVA Media AG changed it's name in 2004. What does their new acronym stand for?\n",
      "sccess trial:\n",
      "\n",
      "\n",
      "'Thought: I need to search for the creator of \"Wallace and Gromit\" and find out what other animation comedy they created that involves animated zoo animals and people talking about their homes. \\nAction: Action 1: Search[creator of Wallace and Gromit]\\nObservation 1: Invalid Action. Valid Actions are Lookup[<topic>] Search[<topic>] and Finish[<answer>].\\nThought: I should search for the creator of \"Wallace and Gromit\" by searching for Nick Park. \\nAction: Search[Nick Park]\\nObservation 2: Could not find [Nick Park]. Similar: [\\'Nick Park\\', \\'Wallace and Gromit\\', \\'Nick Hornby\\', \\'Aardman Animations\\', \\'Chicken Run\\', \\'A Grand Day Out\\', \\'Harry Gregson-Williams\\', \\'Plasticine\\', \\'Nickelodeon\\', \\'Wallace & Gromit: The Curse of the Were-Rabbit\\']\\nThought: I need to search for Nick Park using the search term \"Nick Park\" instead of just Nick Park. \\nAction: Search[Nick Park]\\nObservation 3: Could not find [Nick Park]. Similar: [\\'Nick Park\\', \\'Wallace and Gromit\\', \\'Nick Hornby\\', \\'Aardman Animations\\', \\'Chicken Run\\', \\'A Grand Day Out\\', \\'Harry Gregson-Williams\\', \\'Plasticine\\', \\'Nickelodeon\\', \\'Wallace & Gromit: The Curse of the Were-Rabbit\\']\\nThought: I should try searching for the creator of \"Wallace and Gromit\" on a different platform like a search engine. \\nAction: Search[creator of Wallace and Gromit]\\nObservation 4: Wallace and Gromit is a British stop-motion animated comedy franchise created by Nick Park and produced by Aardman Animations. The main film series consists of four short films and one feature-length film, and has spawned numerous spin-offs and TV adaptations. The series centres on Wallace, a good-natured, eccentric, cheese-loving inventor, and Gromit, his loyal and intelligent anthropomorphic beagle. The first short film, A Grand Day Out, was finished and made public in 1989. Wallace was voiced by actor Peter Sallis until 2010 when he was succeeded by Ben Whitehead. Gromit is largely silent and has no dialogue, communicating through facial expressions and body language.Because of their widespread popularity, the characters have been described as positive international cultural icons of both modern British culture and British people in general. BBC News called them \"some of the best-known and best-loved stars to come out of the UK\". Icons has said they have done \"more to improve the image of the English world-wide than any officially appointed ambassadors\". Although not overtly set in any particular town, Park has hinted that it was inspired by 1950s Wigan in Northern England. Wallace\\'s accent comes from the Holme Valley of West Yorkshire. Wallace is fond of Wensleydale cheese (from Wensleydale, North Yorkshire).Their films have received universal acclaim, with the first three short films, A Grand Day Out (1989), The Wrong Trousers (1993) and A Close Shave (1995) earning 100% on Rotten Tomatoes; the feature film Wallace & Gromit: The Curse of the Were-Rabbit (2005) has also received acclaim. The feature film is the second-highest-grossing stop-motion animated film, only outgrossed by Chicken Run (2000), another creation of Park\\'s. A fourth short film, A Matter of Loaf and Death, was released in 2008. The franchise has received numerous accolades, including five British Academy Film Awards, three Academy Awards and a Peabody Award.The Wallace and Gromit characters spearhead the fundraising for two children\\'s charities: Wallace & Gromit\\'s Children\\'s Foundation, which supports children\\'s hospices and hospitals in the United Kingdom, and Wallace and Gromit\\'s Grand Appeal, the charity for Bristol Children\\'s Hospital in Bristol. In December 2010, Wallace and Gromit featured on a festive themed series of UK postage stamps issued by the Royal Mail.\\nThought: The creator of \"Wallace and Gromit\" is Nick Park. Now, I need to find out what other animation comedy involving animated zoo animals and people talking about their homes was created by him.\\nAction: Search[animation comedy animated zoo animals talking about homes Nick Park]\\nObservation 5: Nicholas Wulstan Park  (born 6 December 1958) is an  English filmmaker and animator who created Wallace and Gromit, Creature Comforts, Chicken Run, Shaun the Sheep, and Early Man. Park has been nominated for an Academy Award a total of six times and won four with Creature Comforts (1989), The Wrong Trousers (1993), A Close Shave (1995) and Wallace & Gromit: The Curse of the Were-Rabbit (2005).He has also received five BAFTA Awards, including the BAFTA for Best Short Animation for A Matter of Loaf and Death, which was also the most watched television programme in the United Kingdom in 2008. His 2000 film Chicken Run is the highest-grossing stop motion animated film.In 1985, Park joined Aardman Animations based in Bristol, and for his work in animation he was among the British cultural icons selected by artist Peter Blake to appear in a 2012 version of Blake\\'s most famous artwork—the Beatles\\' Sgt. Pepper\\'s Lonely Hearts Club Band album cover—to celebrate the British cultural figures of his life.Park was appointed a Commander of the Order of the British Empire (CBE) in the 1997 Birthday Honours for services to the animated film industry.\\nThought: Nick Park created the animation comedy \"Creature Comforts\" that matched animated zoo animals with a soundtrack of people talking about their homes. \\nAction: Finish[Creature Comforts]\\nObservation 6: Answer is CORRECT'\n",
      "\n",
      "\n",
      "\n",
      "\"Thought: I should have tried searching for official company announcements, checking industry news sources, or looking for press releases related to the name change and new acronym for VIVA Media AG in 2004. Next time, I will make sure to exhaust all possible sources of information before giving up on finding the answer.\\nAction: In the future, I will make sure to exhaust all possible sources of information before giving up on finding the answer. This may involve searching for official company announcements, checking industry news sources, looking for press releases related to the name change, and new acronym for VIVA Media AG in 2004. I will also consider reaching out to the company directly or checking their official website for the needed information.\\nObservation 1: Invalid Action. Valid Actions are Lookup[<topic>] Search[<topic>] and Finish[<answer>].\\nThought: I need to take a valid action. Let me try searching for official company announcements, checking industry news sources, or looking for press releases related to the name change and new acronym for VIVA Media AG in 2004. \\nAction: Search[VIVA Media AG name change 2004]\\nObservation 2: Could not find [VIVA Media AG name change 2004]. Similar: ['Vauxhall Viva', 'GfK Entertainment charts', 'Puma (brand)', 'Opel Astra', 'Mediaspree', 'About You Now', 'Daihatsu Mira', 'Bosch (company)', 'Schneider Electric', 'Sildenafil']\\nThought: I should try a different approach. Let me search for industry news sources or press releases related to the name change and new acronym for VIVA Media AG in 2004. \\nAction: Search[VIVA Media AG name change 2004 press release]\\nObservation 3: Could not find [VIVA Media AG name change 2004 press release]. Similar: ['Bosch (company)', 'Opel Astra', 'Priscilla Presley', 'Puma (brand)', 'List of automobile sales by model', 'Video games in Germany', 'Daihatsu Mira', 'Mediaspree', 'Schneider Electric', 'Chiquita']\\nThought: I need to try a different approach. Let me search for industry news sources or press releases related to the name change and new acronym for VIVA Media AG in 2004.\\nAction: Search[VIVA Media AG 2004 name change press release]\\nObservation 4: Could not find [VIVA Media AG 2004 name change press release]. Similar: ['Bosch (company)', 'Opel Astra', 'Priscilla Presley', 'Puma (brand)', 'List of automobile sales by model', 'Video games in Germany', 'Daihatsu Mira', 'Mediaspree', 'Schneider Electric', 'Chiquita']\\nThought: I need to rethink my approach. Let me try searching for the official website of VIVA Media AG or reaching out to the company directly to inquire about the name change and new acronym in 2004. This direct approach may provide the specific information I need. \\nAction: Search[VIVA Media AG official website]\\nObservation 5: The GfK Entertainment charts are the official charts for music, home video, and video games in Germany and are gathered and published by GfK Entertainment (formerly Media Control and Media Control GfK International), a subsidiary of GfK, on behalf of Bundesverband Musikindustrie. GfK Entertainment is the provider of weekly Top 100 single and album charts, as well as various other chart formats for genres like compilations, jazz, classical music, schlager, hip hop, dance, comedy, and music videos. Following a lawsuit in March 2014 by Media Control AG, Media Control® GfK International had to change its name.Dissemination of the charts is conducted by various media outlets, some of which include MTV music channel, and the Swiss charts website. Other entities that present the charts are MusicLoad and Mix 1, both of which are online associations that post almost all the charts published by GfK Entertainment on a weekly basis. Furthermore, GfK Entertainment also runs a dedicated website providing chart-related news and access to most of the charts.\\nThought: The search results did not provide the information I was looking for about VIVA Media AG's name change and new acronym in 2004. I should try a different approach by directly reaching out to the company or checking their official website for the specific details. This direct contact may provide the accurate information needed to answer the question correctly. \\nAction: Search[VIVA Media AG contact information]\\nObservation 6: Could not find [VIVA Media AG contact information]. Similar: ['Ag-gag', 'Mediaspree', 'Voice of America', 'Priscilla Presley', 'Altium', 'List of telephone operating companies', 'People for the Ethical Treatment of Animals', 'Chiquita', 'Cagayan de Oro', 'List of graphic adventure games']\\nThought: I need to reconsider my approach. Let me try searching for any recent articles or interviews about VIVA Media AG's name change and new acronym in 2004. This may provide more specific and up-to-date information that could help me answer the question accurately. \\nAction: Search[VIVA Media AG name change 2004 article]\\nObservation 7: Could not find [VIVA Media AG name change 2004 article]. Similar: ['Opel Astra', 'Mediaspree', 'About You Now', 'Bosch (company)', 'People for the Ethical Treatment of Animals', 'Holden Torana', 'Rolling Stone', 'El Dorado International Airport', 'Chiquita', 'Tomy Winata']\"\n",
      "False\n",
      "<===================================>\n",
      "compare out:\n",
      " 'ADD 2: Consider using different search terms or variations when searching for specific information to increase the chances of finding the desired answer.' \n",
      "\n",
      "\n",
      "<===================================>\n",
      "insights:\n",
      " [{'insight': 'When unable to find specific information, consider looking for related topics or broader context that may lead to the desired answer.', 'score': 2}, {'insight': 'Consider using different search terms or variations when searching for specific information to increase the chances of finding the desired answer.', 'score': 2}]\n",
      "sccess trials:\n",
      "\n",
      "\n",
      "'The creator of \"Wallace and Gromit\" also created what animation comedy that matched animated zoo animals with a soundtrack of people talking about their homes? \\nThought: I need to search for the creator of \"Wallace and Gromit\" and find out what other animation comedy they created that involves animated zoo animals and people talking about their homes. \\nAction: Action 1: Search[creator of Wallace and Gromit]\\nObservation 1: Invalid Action. Valid Actions are Lookup[<topic>] Search[<topic>] and Finish[<answer>].\\nThought: I should search for the creator of \"Wallace and Gromit\" by searching for Nick Park. \\nAction: Search[Nick Park]\\nObservation 2: Could not find [Nick Park]. Similar: [\\'Nick Park\\', \\'Wallace and Gromit\\', \\'Nick Hornby\\', \\'Aardman Animations\\', \\'Chicken Run\\', \\'A Grand Day Out\\', \\'Harry Gregson-Williams\\', \\'Plasticine\\', \\'Nickelodeon\\', \\'Wallace & Gromit: The Curse of the Were-Rabbit\\']\\nThought: I need to search for Nick Park using the search term \"Nick Park\" instead of just Nick Park. \\nAction: Search[Nick Park]\\nObservation 3: Could not find [Nick Park]. Similar: [\\'Nick Park\\', \\'Wallace and Gromit\\', \\'Nick Hornby\\', \\'Aardman Animations\\', \\'Chicken Run\\', \\'A Grand Day Out\\', \\'Harry Gregson-Williams\\', \\'Plasticine\\', \\'Nickelodeon\\', \\'Wallace & Gromit: The Curse of the Were-Rabbit\\']\\nThought: I should try searching for the creator of \"Wallace and Gromit\" on a different platform like a search engine. \\nAction: Search[creator of Wallace and Gromit]\\nObservation 4: Wallace and Gromit is a British stop-motion animated comedy franchise created by Nick Park and produced by Aardman Animations. The main film series consists of four short films and one feature-length film, and has spawned numerous spin-offs and TV adaptations. The series centres on Wallace, a good-natured, eccentric, cheese-loving inventor, and Gromit, his loyal and intelligent anthropomorphic beagle. The first short film, A Grand Day Out, was finished and made public in 1989. Wallace was voiced by actor Peter Sallis until 2010 when he was succeeded by Ben Whitehead. Gromit is largely silent and has no dialogue, communicating through facial expressions and body language.Because of their widespread popularity, the characters have been described as positive international cultural icons of both modern British culture and British people in general. BBC News called them \"some of the best-known and best-loved stars to come out of the UK\". Icons has said they have done \"more to improve the image of the English world-wide than any officially appointed ambassadors\". Although not overtly set in any particular town, Park has hinted that it was inspired by 1950s Wigan in Northern England. Wallace\\'s accent comes from the Holme Valley of West Yorkshire. Wallace is fond of Wensleydale cheese (from Wensleydale, North Yorkshire).Their films have received universal acclaim, with the first three short films, A Grand Day Out (1989), The Wrong Trousers (1993) and A Close Shave (1995) earning 100% on Rotten Tomatoes; the feature film Wallace & Gromit: The Curse of the Were-Rabbit (2005) has also received acclaim. The feature film is the second-highest-grossing stop-motion animated film, only outgrossed by Chicken Run (2000), another creation of Park\\'s. A fourth short film, A Matter of Loaf and Death, was released in 2008. The franchise has received numerous accolades, including five British Academy Film Awards, three Academy Awards and a Peabody Award.The Wallace and Gromit characters spearhead the fundraising for two children\\'s charities: Wallace & Gromit\\'s Children\\'s Foundation, which supports children\\'s hospices and hospitals in the United Kingdom, and Wallace and Gromit\\'s Grand Appeal, the charity for Bristol Children\\'s Hospital in Bristol. In December 2010, Wallace and Gromit featured on a festive themed series of UK postage stamps issued by the Royal Mail.\\nThought: The creator of \"Wallace and Gromit\" is Nick Park. Now, I need to find out what other animation comedy involving animated zoo animals and people talking about their homes was created by him.\\nAction: Search[animation comedy animated zoo animals talking about homes Nick Park]\\nObservation 5: Nicholas Wulstan Park  (born 6 December 1958) is an  English filmmaker and animator who created Wallace and Gromit, Creature Comforts, Chicken Run, Shaun the Sheep, and Early Man. Park has been nominated for an Academy Award a total of six times and won four with Creature Comforts (1989), The Wrong Trousers (1993), A Close Shave (1995) and Wallace & Gromit: The Curse of the Were-Rabbit (2005).He has also received five BAFTA Awards, including the BAFTA for Best Short Animation for A Matter of Loaf and Death, which was also the most watched television programme in the United Kingdom in 2008. His 2000 film Chicken Run is the highest-grossing stop motion animated film.In 1985, Park joined Aardman Animations based in Bristol, and for his work in animation he was among the British cultural icons selected by artist Peter Blake to appear in a 2012 version of Blake\\'s most famous artwork—the Beatles\\' Sgt. Pepper\\'s Lonely Hearts Club Band album cover—to celebrate the British cultural figures of his life.Park was appointed a Commander of the Order of the British Empire (CBE) in the 1997 Birthday Honours for services to the animated film industry.\\nThought: Nick Park created the animation comedy \"Creature Comforts\" that matched animated zoo animals with a soundtrack of people talking about their homes. \\nAction: Finish[Creature Comforts]\\nObservation 6: Answer is CORRECT'\n",
      "\n",
      "\n",
      "\n",
      "False\n",
      "<===================================>\n",
      "success out:\n",
      " 'ADD 4: When searching for specific information, try using the full name or specific search terms related to the topic to increase the chances of finding the desired answer.' \n",
      "\n",
      "\n"
     ]
    }
   ],
   "source": [
    "agent.extract_insights(selected_dict)"
   ]
  },
  {
   "cell_type": "code",
   "execution_count": null,
   "metadata": {},
   "outputs": [],
   "source": [
    "agent.insight_memory.insights"
   ]
  },
  {
   "cell_type": "markdown",
   "metadata": {},
   "source": [
    "# Generate"
   ]
  },
  {
   "cell_type": "code",
   "execution_count": null,
   "metadata": {},
   "outputs": [],
   "source": [
    "question = hotpotqa.iloc[-6].question\n",
    "key = hotpotqa.iloc[-6].answer\n",
    "\n",
    "out = agent.generate(\n",
    "    question=question,\n",
    "    key=key,\n",
    ")"
   ]
  },
  {
   "cell_type": "code",
   "execution_count": null,
   "metadata": {},
   "outputs": [],
   "source": [
    "agent.insight_memory.insights"
   ]
  },
  {
   "cell_type": "code",
   "execution_count": null,
   "metadata": {},
   "outputs": [],
   "source": []
  }
 ],
 "metadata": {
  "kernelspec": {
   "display_name": "discussion-agents",
   "language": "python",
   "name": "python3"
  },
  "language_info": {
   "codemirror_mode": {
    "name": "ipython",
    "version": 3
   },
   "file_extension": ".py",
   "mimetype": "text/x-python",
   "name": "python",
   "nbconvert_exporter": "python",
   "pygments_lexer": "ipython3",
   "version": "3.10.13"
  }
 },
 "nbformat": 4,
 "nbformat_minor": 2
}
