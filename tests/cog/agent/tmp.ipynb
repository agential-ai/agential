{
 "cells": [
  {
   "cell_type": "code",
   "execution_count": 1,
   "metadata": {},
   "outputs": [],
   "source": [
    "from discussion_agents.cog.agent.reflexion import ReflexionCoTAgent\n",
    "from langchain_community.chat_models.fake import FakeListChatModel\n",
    "from langchain_community.chat_models.openai import ChatOpenAI\n",
    "\n",
    "import dotenv\n",
    "import os\n",
    "\n",
    "dotenv.load_dotenv(\"../.env\")\n",
    "openai_api_key = os.getenv(\"OPENAI_API_KEY\")"
   ]
  },
  {
   "cell_type": "code",
   "execution_count": 2,
   "metadata": {},
   "outputs": [
    {
     "name": "stdout",
     "output_type": "stream",
     "text": [
      "SCRATCHPAD:\n",
      "\n",
      " \"\\nThought: Let's think step by step. VIVA Media AG changed its name to VHM Medien in 2004. VHM Medien stands for Video Home Media.Action: Finish[Video Home Media]\\nAction: Finish[Video Home Media]\\nObservation: Answer is INCORRECT\"\n",
      "OUT:\n",
      "\n",
      " 'My reasoning for the acronym for VHM Medien being Video Home Media failed because I did not fully understand the context of the question. In the future, when attempting this question, I should focus on researching the specific name change of VIVA Media AG in 2004 to avoid confusion. To mitigate this failure, I will double-check the exact name change and acronym before providing an answer.'\n"
     ]
    }
   ],
   "source": [
    "question = \"VIVA Media AG changed it's name in 2004. What does their new acronym stand for?\"\n",
    "key = \"Gesellschaft mit beschränkter Haftung\"\n",
    "context = 'VIVA Media GmbH (until 2004 \"VIVA Media AG\") is a music television network originating from Germany. It was founded for broadcast of VIVA Germany as VIVA Media AG in 1993 and has been owned by their original concurrent Viacom, the parent company of MTV, since 2004. Viva channels exist in some European countries; the first spin-offs were launched in Poland and Switzerland in 2000.\\n\\nA Gesellschaft mit beschränkter Haftung (] , abbreviated GmbH ] and also GesmbH in Austria) is a type of legal entity very common in Germany, Austria, Switzerland (where it is equivalent to a S.à r.l.) and Liechtenstein. In the United States, the equivalent type of entity is the limited liability company (LLC). The name of the GmbH form emphasizes the fact that the owners (\"Gesellschafter\", also known as members) of the entity are not personally liable for the company\\'s debts. \"GmbH\"s are considered legal persons under German and Austrian law. Other variations include mbH (used when the term \"Gesellschaft\" is part of the company name itself), and gGmbH (\"gemeinnützige\" GmbH) for non-profit companies.'\n",
    "\n",
    "llm = ChatOpenAI(openai_api_key=openai_api_key)\n",
    "\n",
    "agent = ReflexionCoTAgent(\n",
    "    self_reflect_llm=llm,\n",
    "    action_llm=llm,\n",
    "    max_trials=2\n",
    ")\n",
    "\n",
    "out = agent.generate(question=question, key=key, strategy=\"reflexion\")"
   ]
  },
  {
   "cell_type": "code",
   "execution_count": null,
   "metadata": {},
   "outputs": [],
   "source": [
    "out"
   ]
  },
  {
   "cell_type": "code",
   "execution_count": 3,
   "metadata": {},
   "outputs": [
    {
     "name": "stdout",
     "output_type": "stream",
     "text": [
      "SCRATCHPAD:\n",
      "\n",
      " \"\\nThought: Let's think step by step. VIVA Media AG changed its name to VHM Medien in 2004. VHM Medien stands for Video Home Media.Action: Finish[Video Home Media]\\nAction: Finish[Video Home Media]\\nObservation: Answer is INCORRECT\"\n",
      "OUT:\n",
      "\n",
      " 'My reasoning for the acronym for VHM Medien being Video Home Media failed because I did not fully understand the context of the question. In the future, when attempting this question, I should focus on researching the specific name change of VIVA Media AG in 2004 to avoid confusion. To mitigate this failure, I will double-check the exact name change and acronym before providing an answer.'\n"
     ]
    }
   ],
   "source": [
    "from discussion_agents.cog.functional.reflexion import _prompt_cot_reflection\n",
    "from langchain_community.chat_models.openai import ChatOpenAI\n",
    "from discussion_agents.cog.prompts.reflexion import REFLEXION_COT_REFLECT_FEWSHOT_EXAMPLES_NO_CONTEXT\n",
    "\n",
    "import dotenv\n",
    "import os\n",
    "\n",
    "dotenv.load_dotenv(\"../.env\")\n",
    "openai_api_key = os.getenv(\"OPENAI_API_KEY\")\n",
    "question = \"VIVA Media AG changed it's name in 2004. What does their new acronym stand for?\"\n",
    "context = 'VIVA Media GmbH (until 2004 \"VIVA Media AG\") is a music television network originating from Germany. It was founded for broadcast of VIVA Germany as VIVA Media AG in 1993 and has been owned by their original concurrent Viacom, the parent company of MTV, since 2004. Viva channels exist in some European countries; the first spin-offs were launched in Poland and Switzerland in 2000.\\n\\nA Gesellschaft mit beschränkter Haftung (] , abbreviated GmbH ] and also GesmbH in Austria) is a type of legal entity very common in Germany, Austria, Switzerland (where it is equivalent to a S.à r.l.) and Liechtenstein. In the United States, the equivalent type of entity is the limited liability company (LLC). The name of the GmbH form emphasizes the fact that the owners (\"Gesellschafter\", also known as members) of the entity are not personally liable for the company\\'s debts. \"GmbH\"s are considered legal persons under German and Austrian law. Other variations include mbH (used when the term \"Gesellschaft\" is part of the company name itself), and gGmbH (\"gemeinnützige\" GmbH) for non-profit companies.'\n",
    "llm = ChatOpenAI(openai_api_key=openai_api_key)\n",
    "\n",
    "scratchpad = (\n",
    "    \"\\nThought: Let's think step by step. VIVA Media AG changed its name to VHM Medien in 2004. \"\n",
    "    \"VHM Medien stands for Video Home Media.Action: Finish[Video Home Media]\\n\"\n",
    "    \"Action: Finish[Video Home Media]\\nObservation: Answer is INCORRECT\"\n",
    ")\n",
    "responses = [\n",
    "    (\n",
    "        'My reasoning for the acronym for VHM Medien being Video Home Media failed because I did '\n",
    "        'not fully understand the context of the question. In the future, when attempting this '\n",
    "        'question, I should focus on researching the specific name change of VIVA Media AG in '\n",
    "        '2004 to avoid confusion. To mitigate this failure, I will double-check the exact name '\n",
    "        'change and acronym before providing an answer.'\n",
    "    )\n",
    "]\n",
    "gt_out = (\n",
    "    \n",
    ")\n",
    "out = _prompt_cot_reflection(\n",
    "    llm=FakeListChatModel(responses=responses),\n",
    "    examples=REFLEXION_COT_REFLECT_FEWSHOT_EXAMPLES_NO_CONTEXT,\n",
    "    question=question,\n",
    "    scratchpad=scratchpad,\n",
    "    context=None,\n",
    ")"
   ]
  },
  {
   "cell_type": "code",
   "execution_count": 4,
   "metadata": {},
   "outputs": [
    {
     "data": {
      "text/plain": [
       "'My reasoning for the acronym for VHM Medien being Video Home Media failed because I did not fully understand the context of the question. In the future, when attempting this question, I should focus on researching the specific name change of VIVA Media AG in 2004 to avoid confusion. To mitigate this failure, I will double-check the exact name change and acronym before providing an answer.'"
      ]
     },
     "execution_count": 4,
     "metadata": {},
     "output_type": "execute_result"
    }
   ],
   "source": [
    "out"
   ]
  },
  {
   "cell_type": "code",
   "execution_count": null,
   "metadata": {},
   "outputs": [],
   "source": []
  }
 ],
 "metadata": {
  "kernelspec": {
   "display_name": "discussion-agents",
   "language": "python",
   "name": "python3"
  },
  "language_info": {
   "codemirror_mode": {
    "name": "ipython",
    "version": 3
   },
   "file_extension": ".py",
   "mimetype": "text/x-python",
   "name": "python",
   "nbconvert_exporter": "python",
   "pygments_lexer": "ipython3",
   "version": "3.10.13"
  }
 },
 "nbformat": 4,
 "nbformat_minor": 2
}
