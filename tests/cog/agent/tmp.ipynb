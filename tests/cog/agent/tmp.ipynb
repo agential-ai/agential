{
 "cells": [
  {
   "cell_type": "code",
   "execution_count": 1,
   "metadata": {},
   "outputs": [
    {
     "name": "stderr",
     "output_type": "stream",
     "text": [
      "c:\\Users\\tuvin\\anaconda3\\envs\\discussion-agents\\lib\\site-packages\\tqdm\\auto.py:21: TqdmWarning: IProgress not found. Please update jupyter and ipywidgets. See https://ipywidgets.readthedocs.io/en/stable/user_install.html\n",
      "  from .autonotebook import tqdm as notebook_tqdm\n"
     ]
    },
    {
     "name": "stdout",
     "output_type": "stream",
     "text": [
      "<==============================================================>\n",
      "COMPARE OPERATIONS:\n",
      "\n",
      " [('ADD', 'Consider searching for specific keywords related to the question to narrow down the search results and find relevant information more efficiently.')] \n",
      "\n",
      "\n",
      "\n",
      "[{'insight': 'Consider searching for specific keywords related to the question to narrow down the search results and find relevant information more efficiently.', 'score': 2}]\n",
      "<==============================================================>\n",
      "<==============================================================>\n",
      "COMPARE OPERATIONS:\n",
      "\n",
      " [('ADD', 'Consider using different search platforms or methods if initial attempts are unsuccessful in finding relevant information.')] \n",
      "\n",
      "\n",
      "\n",
      "[{'insight': 'Consider searching for specific keywords related to the question to narrow down the search results and find relevant information more efficiently.', 'score': 2}, {'insight': 'Consider using different search platforms or methods if initial attempts are unsuccessful in finding relevant information.', 'score': 2}]\n",
      "<==============================================================>\n",
      "<==============================================================>\n",
      "COMPARE OPERATIONS:\n",
      "\n",
      " [('ADD', 'Consider looking for specific keywords related to the question to narrow down the search results and find relevant information more efficiently.'), ('AGREE 1', 'Consider using different search platforms or methods if initial attempts are unsuccessful in finding relevant information.'), ('REMOVE 0', 'Consider searching for specific keywords related to the question to narrow down the search results and find relevant information more efficiently.')] \n",
      "\n",
      "\n",
      "\n",
      "[{'insight': 'Consider searching for specific keywords related to the question to narrow down the search results and find relevant information more efficiently.', 'score': 1}, {'insight': 'Consider using different search platforms or methods if initial attempts are unsuccessful in finding relevant information.', 'score': 3}, {'insight': 'Consider looking for specific keywords related to the question to narrow down the search results and find relevant information more efficiently.', 'score': 2}]\n",
      "<==============================================================>\n",
      "<==============================================================>\n",
      "COMPARE OPERATIONS:\n",
      "\n",
      " [('ADD', 'When searching for specific keywords related to the question, consider using synonyms or related terms to expand the search and gather more relevant information efficiently.')] \n",
      "\n",
      "\n",
      "\n",
      "[{'insight': 'Consider searching for specific keywords related to the question to narrow down the search results and find relevant information more efficiently.', 'score': 1}, {'insight': 'Consider using different search platforms or methods if initial attempts are unsuccessful in finding relevant information.', 'score': 3}, {'insight': 'Consider looking for specific keywords related to the question to narrow down the search results and find relevant information more efficiently.', 'score': 2}, {'insight': 'When searching for specific keywords related to the question, consider using synonyms or related terms to expand the search and gather more relevant information efficiently.', 'score': 2}]\n",
      "<==============================================================>\n",
      "<==============================================================>\n",
      "SUCCESS OPERATIONS:\n",
      "\n",
      " [('ADD', 'Consider using specific search terms related to the question to narrow down the search results and find relevant information more efficiently.')] \n",
      "\n",
      "\n",
      "\n",
      "[{'insight': 'Consider searching for specific keywords related to the question to narrow down the search results and find relevant information more efficiently.', 'score': 1}, {'insight': 'Consider using different search platforms or methods if initial attempts are unsuccessful in finding relevant information.', 'score': 3}, {'insight': 'Consider looking for specific keywords related to the question to narrow down the search results and find relevant information more efficiently.', 'score': 2}, {'insight': 'When searching for specific keywords related to the question, consider using synonyms or related terms to expand the search and gather more relevant information efficiently.', 'score': 2}, {'insight': 'Consider using specific search terms related to the question to narrow down the search results and find relevant information more efficiently.', 'score': 2}]\n",
      "<==============================================================>\n",
      "<==============================================================>\n",
      "COMPARE OPERATIONS:\n",
      "\n",
      " [('EDIT 0', 'Consider searching for specific keywords related to the question to narrow down the search results and find relevant information more efficiently by also considering using synonyms or related terms.'), ('EDIT 1', 'Consider using different search platforms or methods if initial attempts are unsuccessful in finding relevant information by also considering looking for official company announcements or press releases.'), ('AGREE 3', 'When searching for specific keywords related to the question, consider using synonyms or related terms to expand the search and gather more relevant information efficiently.'), ('ADD', 'If initial search attempts are unsuccessful, consider looking for official company announcements or press releases to find accurate and up-to-date information related to the question.')] \n",
      "\n",
      "\n",
      "\n",
      "[{'insight': 'Consider searching for specific keywords related to the question to narrow down the search results and find relevant information more efficiently by also considering using synonyms or related terms.', 'score': 2}, {'insight': 'Consider using different search platforms or methods if initial attempts are unsuccessful in finding relevant information by also considering looking for official company announcements or press releases.', 'score': 4}, {'insight': 'Consider looking for specific keywords related to the question to narrow down the search results and find relevant information more efficiently.', 'score': 2}, {'insight': 'When searching for specific keywords related to the question, consider using synonyms or related terms to expand the search and gather more relevant information efficiently.', 'score': 3}, {'insight': 'Consider using specific search terms related to the question to narrow down the search results and find relevant information more efficiently.', 'score': 2}, {'insight': 'If initial search attempts are unsuccessful, consider looking for official company announcements or press releases to find accurate and up-to-date information related to the question.', 'score': 2}]\n",
      "<==============================================================>\n",
      "<==============================================================>\n",
      "COMPARE OPERATIONS:\n",
      "\n",
      " [('ADD', 'When initial search attempts are unsuccessful, consider reaching out to the company directly or checking their official website for the needed information.')] \n",
      "\n",
      "\n",
      "\n",
      "[{'insight': 'Consider searching for specific keywords related to the question to narrow down the search results and find relevant information more efficiently by also considering using synonyms or related terms.', 'score': 2}, {'insight': 'Consider using different search platforms or methods if initial attempts are unsuccessful in finding relevant information by also considering looking for official company announcements or press releases.', 'score': 4}, {'insight': 'Consider looking for specific keywords related to the question to narrow down the search results and find relevant information more efficiently.', 'score': 2}, {'insight': 'When searching for specific keywords related to the question, consider using synonyms or related terms to expand the search and gather more relevant information efficiently.', 'score': 3}, {'insight': 'Consider using specific search terms related to the question to narrow down the search results and find relevant information more efficiently.', 'score': 2}, {'insight': 'If initial search attempts are unsuccessful, consider looking for official company announcements or press releases to find accurate and up-to-date information related to the question.', 'score': 2}, {'insight': 'When initial search attempts are unsuccessful, consider reaching out to the company directly or checking their official website for the needed information.', 'score': 2}]\n",
      "<==============================================================>\n",
      "<==============================================================>\n",
      "COMPARE OPERATIONS:\n",
      "\n",
      " [('ADD', 'When searching for specific information, consider using quotation marks around key phrases to ensure more accurate search results.')] \n",
      "\n",
      "\n",
      "\n",
      "[{'insight': 'Consider searching for specific keywords related to the question to narrow down the search results and find relevant information more efficiently by also considering using synonyms or related terms.', 'score': 2}, {'insight': 'Consider using different search platforms or methods if initial attempts are unsuccessful in finding relevant information by also considering looking for official company announcements or press releases.', 'score': 4}, {'insight': 'Consider looking for specific keywords related to the question to narrow down the search results and find relevant information more efficiently.', 'score': 2}, {'insight': 'When searching for specific keywords related to the question, consider using synonyms or related terms to expand the search and gather more relevant information efficiently.', 'score': 3}, {'insight': 'Consider using specific search terms related to the question to narrow down the search results and find relevant information more efficiently.', 'score': 2}, {'insight': 'If initial search attempts are unsuccessful, consider looking for official company announcements or press releases to find accurate and up-to-date information related to the question.', 'score': 2}, {'insight': 'When initial search attempts are unsuccessful, consider reaching out to the company directly or checking their official website for the needed information.', 'score': 2}, {'insight': 'When searching for specific information, consider using quotation marks around key phrases to ensure more accurate search results.', 'score': 2}]\n",
      "<==============================================================>\n",
      "<==============================================================>\n",
      "COMPARE OPERATIONS:\n",
      "\n",
      " [('ADD', 'Consider checking official artist or band websites for accurate and up-to-date information related to the question.')] \n",
      "\n",
      "\n",
      "\n",
      "[{'insight': 'Consider searching for specific keywords related to the question to narrow down the search results and find relevant information more efficiently by also considering using synonyms or related terms.', 'score': 2}, {'insight': 'Consider using different search platforms or methods if initial attempts are unsuccessful in finding relevant information by also considering looking for official company announcements or press releases.', 'score': 4}, {'insight': 'Consider looking for specific keywords related to the question to narrow down the search results and find relevant information more efficiently.', 'score': 2}, {'insight': 'When searching for specific keywords related to the question, consider using synonyms or related terms to expand the search and gather more relevant information efficiently.', 'score': 3}, {'insight': 'Consider using specific search terms related to the question to narrow down the search results and find relevant information more efficiently.', 'score': 2}, {'insight': 'If initial search attempts are unsuccessful, consider looking for official company announcements or press releases to find accurate and up-to-date information related to the question.', 'score': 2}, {'insight': 'When initial search attempts are unsuccessful, consider reaching out to the company directly or checking their official website for the needed information.', 'score': 2}, {'insight': 'When searching for specific information, consider using quotation marks around key phrases to ensure more accurate search results.', 'score': 2}, {'insight': 'Consider checking official artist or band websites for accurate and up-to-date information related to the question.', 'score': 2}]\n",
      "<==============================================================>\n",
      "<==============================================================>\n",
      "SUCCESS OPERATIONS:\n",
      "\n",
      " [('ADD', 'Consider using search terms that directly relate to the specific information being sought in order to streamline the search process and obtain accurate results efficiently.')] \n",
      "\n",
      "\n",
      "\n",
      "[{'insight': 'Consider searching for specific keywords related to the question to narrow down the search results and find relevant information more efficiently by also considering using synonyms or related terms.', 'score': 2}, {'insight': 'Consider using different search platforms or methods if initial attempts are unsuccessful in finding relevant information by also considering looking for official company announcements or press releases.', 'score': 4}, {'insight': 'Consider looking for specific keywords related to the question to narrow down the search results and find relevant information more efficiently.', 'score': 2}, {'insight': 'When searching for specific keywords related to the question, consider using synonyms or related terms to expand the search and gather more relevant information efficiently.', 'score': 3}, {'insight': 'Consider using specific search terms related to the question to narrow down the search results and find relevant information more efficiently.', 'score': 2}, {'insight': 'If initial search attempts are unsuccessful, consider looking for official company announcements or press releases to find accurate and up-to-date information related to the question.', 'score': 2}, {'insight': 'When initial search attempts are unsuccessful, consider reaching out to the company directly or checking their official website for the needed information.', 'score': 2}, {'insight': 'When searching for specific information, consider using quotation marks around key phrases to ensure more accurate search results.', 'score': 2}, {'insight': 'Consider checking official artist or band websites for accurate and up-to-date information related to the question.', 'score': 2}, {'insight': 'Consider using search terms that directly relate to the specific information being sought in order to streamline the search process and obtain accurate results efficiently.', 'score': 2}]\n",
      "<==============================================================>\n"
     ]
    }
   ],
   "source": [
    "from langchain_community.chat_models import ChatOpenAI\n",
    "import dotenv\n",
    "import os\n",
    "import joblib\n",
    "from discussion_agents.cog.agent.reflexion import ReflexionReActAgent\n",
    "from discussion_agents.cog.agent.expel import ExpeLAgent\n",
    "from discussion_agents.cog.modules.memory.expel import ExpeLExperienceMemory, ExpeLInsightMemory\n",
    "\n",
    "dotenv.load_dotenv(\"../../.env\")\n",
    "openai_api_key = os.getenv(\"OPENAI_API_KEY\")\n",
    "llm = ChatOpenAI(model_name=\"gpt-3.5-turbo-0125\", openai_api_key=openai_api_key)\n",
    "hotpotqa = joblib.load('../../assets/hotpotqa/hotpot-qa-distractor-sample.joblib')\n",
    "experiences = joblib.load('../../assets/expel/expel_experiences_10_fake.joblib')\n",
    "agent = ExpeLAgent(\n",
    "    llm=llm, \n",
    "    reflexion_react_agent=ReflexionReActAgent(\n",
    "        self_reflect_llm=llm,\n",
    "        action_llm=llm\n",
    "    ),\n",
    "    experience_memory=ExpeLExperienceMemory(experiences)\n",
    ")"
   ]
  },
  {
   "cell_type": "code",
   "execution_count": 3,
   "metadata": {},
   "outputs": [
    {
     "name": "stdout",
     "output_type": "stream",
     "text": [
      "<==============================================================>\n",
      "SUCCESS OPERATIONS:\n",
      "\n",
      " [('ADD', 'Consider verifying the credibility of the sources found to ensure the information is accurate and reliable.')] \n",
      "\n",
      "\n",
      "\n",
      "[{'insight': 'Consider searching for specific keywords related to the question to narrow down the search results and find relevant information more efficiently by also considering using synonyms or related terms.', 'score': 2}, {'insight': 'Consider using different search platforms or methods if initial attempts are unsuccessful in finding relevant information by also considering looking for official company announcements or press releases.', 'score': 4}, {'insight': 'Consider looking for specific keywords related to the question to narrow down the search results and find relevant information more efficiently.', 'score': 2}, {'insight': 'When searching for specific keywords related to the question, consider using synonyms or related terms to expand the search and gather more relevant information efficiently.', 'score': 3}, {'insight': 'Consider using specific search terms related to the question to narrow down the search results and find relevant information more efficiently.', 'score': 2}, {'insight': 'If initial search attempts are unsuccessful, consider looking for official company announcements or press releases to find accurate and up-to-date information related to the question.', 'score': 2}, {'insight': 'When initial search attempts are unsuccessful, consider reaching out to the company directly or checking their official website for the needed information.', 'score': 2}, {'insight': 'When searching for specific information, consider using quotation marks around key phrases to ensure more accurate search results.', 'score': 2}, {'insight': 'Consider checking official artist or band websites for accurate and up-to-date information related to the question.', 'score': 2}, {'insight': 'Consider using search terms that directly relate to the specific information being sought in order to streamline the search process and obtain accurate results efficiently.', 'score': 2}, {'insight': 'Consider verifying the credibility of the sources found to ensure the information is accurate and reliable.', 'score': 2}]\n",
      "<==============================================================>\n"
     ]
    }
   ],
   "source": [
    "question = 'What giant silverware company was started as a religious Utopian group and was for many years run by Pierrepont Noyes?'\n",
    "key = 'Oneida Limited'\n",
    "out = agent.generate(\n",
    "    question=question,\n",
    "    key=key,\n",
    ")"
   ]
  },
  {
   "cell_type": "code",
   "execution_count": null,
   "metadata": {},
   "outputs": [],
   "source": []
  }
 ],
 "metadata": {
  "kernelspec": {
   "display_name": "discussion-agents",
   "language": "python",
   "name": "python3"
  },
  "language_info": {
   "codemirror_mode": {
    "name": "ipython",
    "version": 3
   },
   "file_extension": ".py",
   "mimetype": "text/x-python",
   "name": "python",
   "nbconvert_exporter": "python",
   "pygments_lexer": "ipython3",
   "version": "3.10.13"
  }
 },
 "nbformat": 4,
 "nbformat_minor": 2
}
