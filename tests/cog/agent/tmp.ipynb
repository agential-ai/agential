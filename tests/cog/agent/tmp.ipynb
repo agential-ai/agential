{
 "cells": [
  {
   "cell_type": "code",
   "execution_count": 1,
   "metadata": {},
   "outputs": [],
   "source": [
    "from discussion_agents.cog.agent.reflexion import ReflexionReActAgent\n",
    "from langchain_community.chat_models.fake import FakeListChatModel\n",
    "from langchain_community.chat_models.openai import ChatOpenAI\n",
    "\n",
    "import dotenv\n",
    "import os\n",
    "\n",
    "dotenv.load_dotenv(\"../.env\")\n",
    "openai_api_key = os.getenv(\"OPENAI_API_KEY\")"
   ]
  },
  {
   "cell_type": "code",
   "execution_count": 4,
   "metadata": {},
   "outputs": [
    {
     "name": "stdout",
     "output_type": "stream",
     "text": [
      "EXAMPLES:\n",
      "\n",
      " '\\nPrevious Trial:\\nQuestion: The Rome Protocols were signed by three Prime Ministers one of which was assassinated as part of what?\\nThought 1: I need to search Rome Protocols, find the three Prime Ministers, then find what they were assassinated as part of.\\nAction 1: Search[Rome Protocols]\\nObservation 1: The Rome Protocols were a series of three international agreements concluded in Rome on 17 March 1934 between the governments of Austria, Hungary and Italy. They were signed by Italian Prime Minister Benito Mussolini, Austrian Chancellor Engelbert Dollfuss and Hungarian Prime Minister Gyula Gömbös. All of the protocols went into effect on 12 July 1934 and were registered in League of Nations Treaty Series on 12 December 1934.\\nThought 2: The three Prime Ministers were Benito Mussolini, Engelbert Dollfuss, and Gyula Gömbös. I need to search Benito Mussolini and find what he was assassinated as part of.\\nAction 2: Search[Benito Mussolini]\\nObservation 2: Benito Amilcare Andrea Mussolini (UK:  MU(U)SS-ə-LEE-nee, US:  MOOSS-, Italian: [beˈniːto aˈmilkare anˈdrɛːa mussoˈliːni]; 29 July 1883 – 28 April 1945) was an Italian politician and journalist who founded and led the National Fascist Party (PNF). He was Prime Minister of Italy from the March on Rome in 1922 until his deposition in 1943, as well as \"Duce\" of Italian fascism from the establishment of the Italian Fasces of Combat in 1919 until his summary execution in 1945 by Italian partisans. As dictator of Italy and principal founder of fascism, Mussolini inspired and supported the international spread of fascist movements during the inter-war period.Mussolini was originally a socialist politician and a journalist at the Avanti! newspaper. In 1912, he became a member of the National Directorate of the Italian Socialist Party (PSI), but he was expelled from the PSI for advocating military intervention in World War I, in opposition to the party\\'s stance on neutrality. In 1914, Mussolini founded a new journal, Il Popolo d\\'Italia, and served in the Royal Italian Army during the war until he was wounded and discharged in 1917. Mussolini denounced the PSI, his views now centering on Italian nationalism instead of socialism, and later founded the fascist movement which came to oppose egalitarianism and class conflict, instead advocating \"revolutionary nationalism\" transcending class lines. On 31 October 1922, following the March on Rome (28–30 October), Mussolini was appointed prime minister by King Victor Emmanuel III, becoming the youngest individual to hold the office up to that time. After removing all political opposition through his secret police and outlawing labor strikes, Mussolini and his followers consolidated power through a series of laws that transformed the nation into a one-party dictatorship. Within five years, Mussolini had established dictatorial authority by both legal and illegal means and aspired to create a totalitarian state. In 1929, Mussolini signed the Lateran Treaty with the Holy See to establish Vatican City.\\nMussolini\\'s foreign policy aimed to restore the ancient grandeur of the Roman Empire by expanding Italian colonial possessions and the fascist sphere of influence. In the 1920s, he ordered the Pacification of Libya, instructed the bombing of Corfu over an incident with Greece, established a protectorate over Albania, and incorporated the city of Fiume into the Italian state via agreements with Yugoslavia. In 1936, Ethiopia was conquered following the Second Italo-Ethiopian War and merged into Italian East Africa (AOI) with Eritrea and Somalia. In 1939, Italian forces annexed Albania. Between 1936 and 1939, Mussolini ordered the successful Italian military intervention in Spain in favor of Francisco Franco during the Spanish Civil War. Mussolini\\'s Italy initially tried to avoid the outbreak of a second global war, sending troops at the Brenner Pass to delay Anschluss and taking part in the Stresa Front, the Lytton Report, the Treaty of Lausanne, the Four-Power Pact and the Munich Agreement. However, Italy then alienated itself from Britain and France by aligning with Germany and Japan. Germany invaded Poland on 1 September 1939, resulting in declarations of war by France and the UK and the start of World War II.\\nOn 10 June 1940, Mussolini decided to enter the war on the Axis side. Despite initial success, the subsequent Axis collapse on multiple fronts and eventual Allied invasion of Sicily made Mussolini lose the support of the population and members of the Fascist Party. As a consequence, early on 25 July 1943, the Grand Council of Fascism passed a motion of no confidence in Mussolini; later that day King Victor Emmanuel III dismissed him as head of government and had him placed in custody, appointing Pietro Badoglio to succeed him as Prime Minister. After the king agreed to an armistice with the Allies, on 12 September 1943 Mussolini was rescued from captivity in the Gran Sasso raid by German paratroopers and Waffen-SS commandos led by Major Otto-Harald Mors. Adolf Hitler, after meeting with the rescued former dictator, then put Mussolini in charge of a puppet regime in northern Italy, the Italian Social Republic (Italian: Repubblica Sociale Italiana, RSI), informally known as the Salò Republic, causing a civil war. In late April 1945, in the wake of near total defeat, Mussolini and his mistress Clara Petacci attempted to flee to Switzerland, but both were captured by Italian communist partisans and summarily executed by firing squad on 28 April 1945 near Lake Como. The bodies of Mussolini and his mistress were then taken to Milan, where they were hung upside down at a service station to publicly confirm their demise.\\nThought 3: Benito Mussolini was assassinated as part of the collapse of the Axis powers during World War II. So the Rome Protocols were signed by three Prime Ministers one of which was assassinated as part of World War II.\\nAction 3: Finish[World War II]\\n\\nReflection: I searched one of the prime ministers involved in the signing, then attemted to answer right away. I should have searched each of the prime ministers, then looked up \\'death\\' on each of their pages in order to get more information before answering.\\n\\nPrevious Trial:\\nQuestion: Kam Heskin plays Paige Morgan in a 2004 film directed by who?\\nThought 1: I need to search Kam Heskin and Paige Morgan, find the 2004 film they are in, then find the director of the film.\\nAction 1: Search[Kam Heskin]\\nObservation 1: Kam Erika Heskin (born May 8, 1973) is an American actress. She began her career playing Caitlin Deschanel on the NBC daytime soap opera Sunset Beach (1998–1999), before appearing in films Planet of the Apes (2001) and Catch Me If You Can (2002). Heskin went on in 2003 to play Elizabeth Bennet in an independent film Pride & Prejudice: A Latter-Day Comedy, Robin in Charmed (2004),  and Paige Morgan in The Prince and Me film franchise (2006–2010).\\nThought 2: Kam Heskin plays Paige Morgan in The Prince and Me film franchise. I need to search The Prince and Me film franchise and find the director of the 2004 film.\\nAction 2: Search[The Prince and Me film franchise]\\nObservation 2: Could not find [The Prince and Me film franchise]. Similar: [\\'Kam Heskin\\', \\'Prince of Persia\\', \\'Harry Potter and the Half-Blood Prince (film)\\', \\'Prince of Persia: The Sands of Time (film)\\', \\'The Chronicles of Narnia (film series)\\', \\'Majestic Prince (franchise)\\', \\'Kingsman (franchise)\\', \\'The Little Prince (2015 film)\\', \\'Shrek (franchise)\\', \\'Harry Potter (film series)\\']\\nThought 3: I need to search The Prince and Me (2004 film) instead.\\nAction 3: Search[The Prince and Me (2004 film)]\\nObservation 3: Could not find [The Prince and Me (2004 film)]. Similar: [\\'The Prince & Me\\', \\'The Prince & Me 2: The Royal Wedding\\', \\'Kam Heskin\\', \\'Prince of Darkness (film)\\', \\'Prince of Persia: The Sands of Time (film)\\', \\'Rob Knox\\', \\'Alexander (2004 film)\\', \\'Prince of Persia\\', \\'Brooklynn Prince\\', \\'Prince (musician)\\']\\nThought 4: I need to search The Prince & Me (2004 film).\\nAction 4: Search[The Prince & Me (2004 film)]\\nObservation 4: Could not find [The Prince & Me (2004 film)]. Similar: [\\'The Prince & Me\\', \\'The Prince & Me 2: The Royal Wedding\\', \\'Prince of Darkness (film)\\', \\'Prince of Persia: The Sands of Time (film)\\', \\'Rob Knox\\', \\'Alexander (2004 film)\\', \\'Prince (musician)\\', \\'Prince of Persia\\', \\'Kam Heskin\\', \\'Brooklynn Prince\\']\\nThought 5: I need to search The Prince & Me (2004 film) instead.\\nAction 5: Search[The Prince & Me (2004 film)]\\nObservation 5: Could not find [The Prince & Me (2004 film)]. Similar: [\\'The Prince & Me\\', \\'The Prince & Me 2: The Royal Wedding\\', \\'Prince of Darkness (film)\\', \\'Prince of Persia: The Sands of Time (film)\\', \\'Rob Knox\\', \\'Alexander (2004 film)\\', \\'Prince (musician)\\', \\'Prince of Persia\\', \\'Kam Heskin\\', \\'Brooklynn Prince\\']\\nThought 6: I need to search The Prince & Me (2004 film).\\nAction 6: Search[The Prince & Me (2004 film)]\\nObservation 6: Could not find [The Prince & Me (2004 film)]. Similar: [\\'The Prince & Me\\', \\'The Prince & Me 2: The Royal Wedding\\', \\'Prince of Darkness (film)\\', \\'Prince of Persia: The Sands of Time (film)\\', \\'Rob Knox\\', \\'Alexander (2004 film)\\', \\'Prince (musician)\\', \\'Prince of Persia\\', \\'Kam Heskin\\', \\'Brooklynn Prince\\']\\n\\nReflection: I got stuck in a loop where I kept trying to search \\'The Prince & Me (2004 film)\\' but the page could not be found. Instead I should have tried to search the similar results that had a similar name to see and they were made in 2004.\\n'\n",
      "SCRATCHPAD:\n",
      "\n",
      " \"\\nThought: I need to search for VIVA Media AG to find out their new acronym and what it stands for.\\nAction: Search[VIVA Media AG]\\nObservation 1: Could not find [VIVA Media AG]. Similar: ['MTV Music (Polish TV channel)', 'VIVA Plus', 'Paramount International Networks', 'VIVA (German TV channel)', 'Viacom (1952–2005)', 'Vauxhall Viva', 'GfK Entertainment charts', 'Lindt', 'Spellbound Entertainment', 'Ag-gag']\\nThought: The search did not return exact information on VIVA Media AG. I should try searching for VIVA Media AG name change in 2004 to get more specific results.\\nAction: Search[VIVA Media AG name change 2004]\\nObservation 2: Could not find [VIVA Media AG name change 2004]. Similar: ['Vauxhall Viva', 'GfK Entertainment charts', 'Opel Astra', 'Puma (brand)', 'About You Now', 'Priscilla Presley', 'Altium', 'Sildenafil', 'Bosch (company)', 'Schneider Electric']\\nThought: I should try searching for the history of VIVA Media AG to see if I can find information on their name change in 2004 and their new acronym.\\nAction: Search[history of VIVA Media AG]\\nObservation 3: Could not find [history of VIVA Media AG]. Similar: ['MTV Music (Polish TV channel)', 'VIVA Plus', 'VIVA (German TV channel)', 'Vauxhall Viva', 'Lindt', 'GfK Entertainment charts', 'Spellbound Entertainment', 'Ag-gag', 'Springer Publishing', 'Kimberly-Clark']\"\n",
      "OUT:\n",
      "\n",
      " 'The failure in this reasoning trial was due to not being able to find specific information on VIVA Media AG and its name change in 2004. To mitigate this failure, the agent should consider broadening the search terms to include related keywords such as \"corporate rebranding\" or \"corporate name change\" in addition to the specific company name. This will help in obtaining more relevant and specific results that may provide the necessary information to answer the question accurately.'\n"
     ]
    }
   ],
   "source": [
    "question = \"VIVA Media AG changed it's name in 2004. What does their new acronym stand for?\"\n",
    "key = \"Gesellschaft mit beschränkter Haftung\"\n",
    "context = 'VIVA Media GmbH (until 2004 \"VIVA Media AG\") is a music television network originating from Germany. It was founded for broadcast of VIVA Germany as VIVA Media AG in 1993 and has been owned by their original concurrent Viacom, the parent company of MTV, since 2004. Viva channels exist in some European countries; the first spin-offs were launched in Poland and Switzerland in 2000.\\n\\nA Gesellschaft mit beschränkter Haftung (] , abbreviated GmbH ] and also GesmbH in Austria) is a type of legal entity very common in Germany, Austria, Switzerland (where it is equivalent to a S.à r.l.) and Liechtenstein. In the United States, the equivalent type of entity is the limited liability company (LLC). The name of the GmbH form emphasizes the fact that the owners (\"Gesellschafter\", also known as members) of the entity are not personally liable for the company\\'s debts. \"GmbH\"s are considered legal persons under German and Austrian law. Other variations include mbH (used when the term \"Gesellschaft\" is part of the company name itself), and gGmbH (\"gemeinnützige\" GmbH) for non-profit companies.'\n",
    "\n",
    "llm = ChatOpenAI(openai_api_key=openai_api_key)\n",
    "\n",
    "agent = ReflexionReActAgent(\n",
    "    self_reflect_llm=llm,\n",
    "    action_llm=llm,\n",
    "    max_trials=2,\n",
    "    max_steps=3\n",
    ")\n",
    "\n",
    "out = agent.generate(question=question, key=key, strategy=\"reflexion\")"
   ]
  },
  {
   "cell_type": "code",
   "execution_count": 15,
   "metadata": {},
   "outputs": [],
   "source": [
    "from discussion_agents.cog.functional.reflexion import (\n",
    "    _format_reflections,\n",
    ")\n",
    "\n",
    "a = agent.reflector.reflections\n",
    "b = _format_reflections(a)"
   ]
  },
  {
   "cell_type": "code",
   "execution_count": 23,
   "metadata": {},
   "outputs": [
    {
     "data": {
      "text/plain": [
       "'You have attempted to answer following question before and failed. The following reflection(s) give a plan to avoid failing to answer the question in the same way you did previously. Use them to improve your strategy of correctly answering the given question.\\nReflections:\\n- The failure in this reasoning trial was due to not being able to find specific information on VIVA Media AG and its name change in 2004. To mitigate this failure, the agent should consider broadening the search terms to include related keywords such as \"corporate rebranding\" or \"corporate name change\" in addition to the specific company name. This will help in obtaining more relevant and specific results that may provide the necessary information to answer the question accurately.'"
      ]
     },
     "execution_count": 23,
     "metadata": {},
     "output_type": "execute_result"
    }
   ],
   "source": [
    "b"
   ]
  },
  {
   "cell_type": "code",
   "execution_count": 22,
   "metadata": {},
   "outputs": [
    {
     "name": "stdout",
     "output_type": "stream",
     "text": [
      "You have attempted to answer following question before and failed. The following reflection(s) give a plan to avoid failing to answer the question in the same way you did previously. Use them to improve your strategy of correctly answering the given question.\n",
      "Reflections:\n",
      "- The failure in this reasoning trial was due to not being able to find specific information on VIVA Media AG and its name change in 2004. To mitigate this failure, the agent should consider broadening the search terms to include related keywords such as \"corporate rebranding\" or \"corporate name change\" in addition to the specific company name. This will help in obtaining more relevant and specific results that may provide the necessary information to answer the question accurately.\n",
      "- The failure in this reasoning trial was due to not being able to find specific information on VIVA Media AG and its name change in 2004. To mitigate this failure, the agent should consider broadening the search terms to include related keywords such as \"corporate rebranding\" or \"corporate name change\" in addition to the specific company name. This will help in obtaining more relevant and specific results that may provide the necessary information to answer the question accurately.\n",
      "- The failure in this reasoning trial was due to not being able to find specific information on VIVA Media AG and its name change in 2004. To mitigate this failure, the agent should consider broadening the search terms to include related keywords such as \"corporate rebranding\" or \"corporate name change\" in addition to the specific company name. This will help in obtaining more relevant and specific results that may provide the necessary information to answer the question accurately.\n",
      "- The failure in this reasoning trial was due to not being able to find specific information on VIVA Media AG and its name change in 2004. To mitigate this failure, the agent should consider broadening the search terms to include related keywords such as \"corporate rebranding\" or \"corporate name change\" in addition to the specific company name. This will help in obtaining more relevant and specific results that may provide the necessary information to answer the question accurately.\n",
      "- The failure in this reasoning trial was due to not being able to find specific information on VIVA Media AG and its name change in 2004. To mitigate this failure, the agent should consider broadening the search terms to include related keywords such as \"corporate rebranding\" or \"corporate name change\" in addition to the specific company name. This will help in obtaining more relevant and specific results that may provide the necessary information to answer the question accurately.\n",
      "- The failure in this reasoning trial was due to not being able to find specific information on VIVA Media AG and its name change in 2004. To mitigate this failure, the agent should consider broadening the search terms to include related keywords such as \"corporate rebranding\" or \"corporate name change\" in addition to the specific company name. This will help in obtaining more relevant and specific results that may provide the necessary information to answer the question accurately.\n",
      "- The failure in this reasoning trial was due to not being able to find specific information on VIVA Media AG and its name change in 2004. To mitigate this failure, the agent should consider broadening the search terms to include related keywords such as \"corporate rebranding\" or \"corporate name change\" in addition to the specific company name. This will help in obtaining more relevant and specific results that may provide the necessary information to answer the question accurately.\n",
      "- The failure in this reasoning trial was due to not being able to find specific information on VIVA Media AG and its name change in 2004. To mitigate this failure, the agent should consider broadening the search terms to include related keywords such as \"corporate rebranding\" or \"corporate name change\" in addition to the specific company name. This will help in obtaining more relevant and specific results that may provide the necessary information to answer the question accurately.\n",
      "- The failure in this reasoning trial was due to not being able to find specific information on VIVA Media AG and its name change in 2004. To mitigate this failure, the agent should consider broadening the search terms to include related keywords such as \"corporate rebranding\" or \"corporate name change\" in addition to the specific company name. This will help in obtaining more relevant and specific results that may provide the necessary information to answer the question accurately.\n",
      "- The failure in this reasoning trial was due to not being able to find specific information on VIVA Media AG and its name change in 2004. To mitigate this failure, the agent should consider broadening the search terms to include related keywords such as \"corporate rebranding\" or \"corporate name change\" in addition to the specific company name. This will help in obtaining more relevant and specific results that may provide the necessary information to answer the question accurately.\n"
     ]
    }
   ],
   "source": [
    "print(_format_reflections(a*10))"
   ]
  },
  {
   "cell_type": "code",
   "execution_count": 36,
   "metadata": {},
   "outputs": [],
   "source": [
    "from discussion_agents.cog.modules.reflect.reflexion import ReflexionCoTReflector\n",
    "from langchain_community.chat_models.openai import ChatOpenAI\n",
    "\n",
    "reflections = [\n",
    "    'The failure in this reasoning trial was due to not being able to find specific information on VIVA Media AG and its name change in 2004. To mitigate this failure, the agent should consider broadening the search terms to include related keywords such as \"corporate rebranding\" or \"corporate name change\" in addition to the specific company name. This will help in obtaining more relevant and specific results that may provide the necessary information to answer the question accurately.'\n",
    "] * 3\n",
    "llm = ChatOpenAI(openai_api_key=openai_api_key)\n",
    "\n",
    "reflections_str = _format_reflections(reflections)\n",
    "reflector = ReflexionCoTReflector(\n",
    "    llm=llm,\n",
    "    max_reflections=1\n",
    ")\n",
    "reflector.reflections = reflections\n",
    "reflector.reflections_str = reflections_str\n",
    "_ = reflector.reflect(\n",
    "    strategy=\"last_attempt\",\n",
    "    examples=\"\",\n",
    "    question=\"\",\n",
    "    scratchpad=\"\",\n",
    "    context=\"\",\n",
    ")"
   ]
  },
  {
   "cell_type": "code",
   "execution_count": 37,
   "metadata": {},
   "outputs": [
    {
     "data": {
      "text/plain": [
       "['']"
      ]
     },
     "execution_count": 37,
     "metadata": {},
     "output_type": "execute_result"
    }
   ],
   "source": [
    "reflector.reflections"
   ]
  },
  {
   "cell_type": "code",
   "execution_count": null,
   "metadata": {},
   "outputs": [],
   "source": []
  },
  {
   "cell_type": "code",
   "execution_count": null,
   "metadata": {},
   "outputs": [],
   "source": []
  },
  {
   "cell_type": "code",
   "execution_count": 9,
   "metadata": {},
   "outputs": [
    {
     "name": "stdout",
     "output_type": "stream",
     "text": [
      "EXAMPLES:\n",
      "\n",
      " '\\nPrevious Trial:\\nQuestion: The Rome Protocols were signed by three Prime Ministers one of which was assassinated as part of what?\\nThought 1: I need to search Rome Protocols, find the three Prime Ministers, then find what they were assassinated as part of.\\nAction 1: Search[Rome Protocols]\\nObservation 1: The Rome Protocols were a series of three international agreements concluded in Rome on 17 March 1934 between the governments of Austria, Hungary and Italy. They were signed by Italian Prime Minister Benito Mussolini, Austrian Chancellor Engelbert Dollfuss and Hungarian Prime Minister Gyula Gömbös. All of the protocols went into effect on 12 July 1934 and were registered in League of Nations Treaty Series on 12 December 1934.\\nThought 2: The three Prime Ministers were Benito Mussolini, Engelbert Dollfuss, and Gyula Gömbös. I need to search Benito Mussolini and find what he was assassinated as part of.\\nAction 2: Search[Benito Mussolini]\\nObservation 2: Benito Amilcare Andrea Mussolini (UK:  MU(U)SS-ə-LEE-nee, US:  MOOSS-, Italian: [beˈniːto aˈmilkare anˈdrɛːa mussoˈliːni]; 29 July 1883 – 28 April 1945) was an Italian politician and journalist who founded and led the National Fascist Party (PNF). He was Prime Minister of Italy from the March on Rome in 1922 until his deposition in 1943, as well as \"Duce\" of Italian fascism from the establishment of the Italian Fasces of Combat in 1919 until his summary execution in 1945 by Italian partisans. As dictator of Italy and principal founder of fascism, Mussolini inspired and supported the international spread of fascist movements during the inter-war period.Mussolini was originally a socialist politician and a journalist at the Avanti! newspaper. In 1912, he became a member of the National Directorate of the Italian Socialist Party (PSI), but he was expelled from the PSI for advocating military intervention in World War I, in opposition to the party\\'s stance on neutrality. In 1914, Mussolini founded a new journal, Il Popolo d\\'Italia, and served in the Royal Italian Army during the war until he was wounded and discharged in 1917. Mussolini denounced the PSI, his views now centering on Italian nationalism instead of socialism, and later founded the fascist movement which came to oppose egalitarianism and class conflict, instead advocating \"revolutionary nationalism\" transcending class lines. On 31 October 1922, following the March on Rome (28–30 October), Mussolini was appointed prime minister by King Victor Emmanuel III, becoming the youngest individual to hold the office up to that time. After removing all political opposition through his secret police and outlawing labor strikes, Mussolini and his followers consolidated power through a series of laws that transformed the nation into a one-party dictatorship. Within five years, Mussolini had established dictatorial authority by both legal and illegal means and aspired to create a totalitarian state. In 1929, Mussolini signed the Lateran Treaty with the Holy See to establish Vatican City.\\nMussolini\\'s foreign policy aimed to restore the ancient grandeur of the Roman Empire by expanding Italian colonial possessions and the fascist sphere of influence. In the 1920s, he ordered the Pacification of Libya, instructed the bombing of Corfu over an incident with Greece, established a protectorate over Albania, and incorporated the city of Fiume into the Italian state via agreements with Yugoslavia. In 1936, Ethiopia was conquered following the Second Italo-Ethiopian War and merged into Italian East Africa (AOI) with Eritrea and Somalia. In 1939, Italian forces annexed Albania. Between 1936 and 1939, Mussolini ordered the successful Italian military intervention in Spain in favor of Francisco Franco during the Spanish Civil War. Mussolini\\'s Italy initially tried to avoid the outbreak of a second global war, sending troops at the Brenner Pass to delay Anschluss and taking part in the Stresa Front, the Lytton Report, the Treaty of Lausanne, the Four-Power Pact and the Munich Agreement. However, Italy then alienated itself from Britain and France by aligning with Germany and Japan. Germany invaded Poland on 1 September 1939, resulting in declarations of war by France and the UK and the start of World War II.\\nOn 10 June 1940, Mussolini decided to enter the war on the Axis side. Despite initial success, the subsequent Axis collapse on multiple fronts and eventual Allied invasion of Sicily made Mussolini lose the support of the population and members of the Fascist Party. As a consequence, early on 25 July 1943, the Grand Council of Fascism passed a motion of no confidence in Mussolini; later that day King Victor Emmanuel III dismissed him as head of government and had him placed in custody, appointing Pietro Badoglio to succeed him as Prime Minister. After the king agreed to an armistice with the Allies, on 12 September 1943 Mussolini was rescued from captivity in the Gran Sasso raid by German paratroopers and Waffen-SS commandos led by Major Otto-Harald Mors. Adolf Hitler, after meeting with the rescued former dictator, then put Mussolini in charge of a puppet regime in northern Italy, the Italian Social Republic (Italian: Repubblica Sociale Italiana, RSI), informally known as the Salò Republic, causing a civil war. In late April 1945, in the wake of near total defeat, Mussolini and his mistress Clara Petacci attempted to flee to Switzerland, but both were captured by Italian communist partisans and summarily executed by firing squad on 28 April 1945 near Lake Como. The bodies of Mussolini and his mistress were then taken to Milan, where they were hung upside down at a service station to publicly confirm their demise.\\nThought 3: Benito Mussolini was assassinated as part of the collapse of the Axis powers during World War II. So the Rome Protocols were signed by three Prime Ministers one of which was assassinated as part of World War II.\\nAction 3: Finish[World War II]\\n\\nReflection: I searched one of the prime ministers involved in the signing, then attemted to answer right away. I should have searched each of the prime ministers, then looked up \\'death\\' on each of their pages in order to get more information before answering.\\n\\nPrevious Trial:\\nQuestion: Kam Heskin plays Paige Morgan in a 2004 film directed by who?\\nThought 1: I need to search Kam Heskin and Paige Morgan, find the 2004 film they are in, then find the director of the film.\\nAction 1: Search[Kam Heskin]\\nObservation 1: Kam Erika Heskin (born May 8, 1973) is an American actress. She began her career playing Caitlin Deschanel on the NBC daytime soap opera Sunset Beach (1998–1999), before appearing in films Planet of the Apes (2001) and Catch Me If You Can (2002). Heskin went on in 2003 to play Elizabeth Bennet in an independent film Pride & Prejudice: A Latter-Day Comedy, Robin in Charmed (2004),  and Paige Morgan in The Prince and Me film franchise (2006–2010).\\nThought 2: Kam Heskin plays Paige Morgan in The Prince and Me film franchise. I need to search The Prince and Me film franchise and find the director of the 2004 film.\\nAction 2: Search[The Prince and Me film franchise]\\nObservation 2: Could not find [The Prince and Me film franchise]. Similar: [\\'Kam Heskin\\', \\'Prince of Persia\\', \\'Harry Potter and the Half-Blood Prince (film)\\', \\'Prince of Persia: The Sands of Time (film)\\', \\'The Chronicles of Narnia (film series)\\', \\'Majestic Prince (franchise)\\', \\'Kingsman (franchise)\\', \\'The Little Prince (2015 film)\\', \\'Shrek (franchise)\\', \\'Harry Potter (film series)\\']\\nThought 3: I need to search The Prince and Me (2004 film) instead.\\nAction 3: Search[The Prince and Me (2004 film)]\\nObservation 3: Could not find [The Prince and Me (2004 film)]. Similar: [\\'The Prince & Me\\', \\'The Prince & Me 2: The Royal Wedding\\', \\'Kam Heskin\\', \\'Prince of Darkness (film)\\', \\'Prince of Persia: The Sands of Time (film)\\', \\'Rob Knox\\', \\'Alexander (2004 film)\\', \\'Prince of Persia\\', \\'Brooklynn Prince\\', \\'Prince (musician)\\']\\nThought 4: I need to search The Prince & Me (2004 film).\\nAction 4: Search[The Prince & Me (2004 film)]\\nObservation 4: Could not find [The Prince & Me (2004 film)]. Similar: [\\'The Prince & Me\\', \\'The Prince & Me 2: The Royal Wedding\\', \\'Prince of Darkness (film)\\', \\'Prince of Persia: The Sands of Time (film)\\', \\'Rob Knox\\', \\'Alexander (2004 film)\\', \\'Prince (musician)\\', \\'Prince of Persia\\', \\'Kam Heskin\\', \\'Brooklynn Prince\\']\\nThought 5: I need to search The Prince & Me (2004 film) instead.\\nAction 5: Search[The Prince & Me (2004 film)]\\nObservation 5: Could not find [The Prince & Me (2004 film)]. Similar: [\\'The Prince & Me\\', \\'The Prince & Me 2: The Royal Wedding\\', \\'Prince of Darkness (film)\\', \\'Prince of Persia: The Sands of Time (film)\\', \\'Rob Knox\\', \\'Alexander (2004 film)\\', \\'Prince (musician)\\', \\'Prince of Persia\\', \\'Kam Heskin\\', \\'Brooklynn Prince\\']\\nThought 6: I need to search The Prince & Me (2004 film).\\nAction 6: Search[The Prince & Me (2004 film)]\\nObservation 6: Could not find [The Prince & Me (2004 film)]. Similar: [\\'The Prince & Me\\', \\'The Prince & Me 2: The Royal Wedding\\', \\'Prince of Darkness (film)\\', \\'Prince of Persia: The Sands of Time (film)\\', \\'Rob Knox\\', \\'Alexander (2004 film)\\', \\'Prince (musician)\\', \\'Prince of Persia\\', \\'Kam Heskin\\', \\'Brooklynn Prince\\']\\n\\nReflection: I got stuck in a loop where I kept trying to search \\'The Prince & Me (2004 film)\\' but the page could not be found. Instead I should have tried to search the similar results that had a similar name to see and they were made in 2004.\\n'\n",
      "SCRATCHPAD:\n",
      "\n",
      " \"\\nThought: I need to search for VIVA Media AG to find out their new acronym and what it stands for.\\nAction: Search[VIVA Media AG]\\nObservation 1: Could not find [VIVA Media AG]. Similar: ['MTV Music (Polish TV channel)', 'VIVA Plus', 'Paramount International Networks', 'VIVA (German TV channel)', 'Viacom (1952–2005)', 'Vauxhall Viva', 'GfK Entertainment charts', 'Lindt', 'Spellbound Entertainment', 'Ag-gag']\\nThought: The search did not return exact information on VIVA Media AG. I should try searching for VIVA Media AG name change in 2004 to get more specific results.\\nAction: Search[VIVA Media AG name change 2004]\\nObservation 2: Could not find [VIVA Media AG name change 2004]. Similar: ['Vauxhall Viva', 'GfK Entertainment charts', 'Opel Astra', 'Puma (brand)', 'About You Now', 'Priscilla Presley', 'Altium', 'Sildenafil', 'Bosch (company)', 'Schneider Electric']\\nThought: I should try searching for the history of VIVA Media AG to see if I can find information on their name change in 2004 and their new acronym.\\nAction: Search[history of VIVA Media AG]\\nObservation 3: Could not find [history of VIVA Media AG]. Similar: ['MTV Music (Polish TV channel)', 'VIVA Plus', 'VIVA (German TV channel)', 'Vauxhall Viva', 'Lindt', 'GfK Entertainment charts', 'Spellbound Entertainment', 'Ag-gag', 'Springer Publishing', 'Kimberly-Clark']\"\n",
      "OUT:\n",
      "\n",
      " 'The failure in this reasoning trial was due to not being able to find specific information on VIVA Media AG and its name change in 2004. To mitigate this failure, the agent should consider broadening the search terms to include related keywords such as \"corporate rebranding\" or \"corporate name change\" in addition to the specific company name. This will help in obtaining more relevant and specific results that may provide the necessary information to answer the question accurately.'\n"
     ]
    }
   ],
   "source": [
    "from discussion_agents.cog.functional.reflexion import _prompt_react_reflection\n",
    "from langchain_community.chat_models.openai import ChatOpenAI\n",
    "from discussion_agents.cog.prompts.reflexion import REFLEXION_REACT_REFLECT_FEWSHOT_EXAMPLES\n",
    "\n",
    "import dotenv\n",
    "import os\n",
    "\n",
    "dotenv.load_dotenv(\"../.env\")\n",
    "openai_api_key = os.getenv(\"OPENAI_API_KEY\")\n",
    "question = \"VIVA Media AG changed it's name in 2004. What does their new acronym stand for?\"\n",
    "context = 'VIVA Media GmbH (until 2004 \"VIVA Media AG\") is a music television network originating from Germany. It was founded for broadcast of VIVA Germany as VIVA Media AG in 1993 and has been owned by their original concurrent Viacom, the parent company of MTV, since 2004. Viva channels exist in some European countries; the first spin-offs were launched in Poland and Switzerland in 2000.\\n\\nA Gesellschaft mit beschränkter Haftung (] , abbreviated GmbH ] and also GesmbH in Austria) is a type of legal entity very common in Germany, Austria, Switzerland (where it is equivalent to a S.à r.l.) and Liechtenstein. In the United States, the equivalent type of entity is the limited liability company (LLC). The name of the GmbH form emphasizes the fact that the owners (\"Gesellschafter\", also known as members) of the entity are not personally liable for the company\\'s debts. \"GmbH\"s are considered legal persons under German and Austrian law. Other variations include mbH (used when the term \"Gesellschaft\" is part of the company name itself), and gGmbH (\"gemeinnützige\" GmbH) for non-profit companies.'\n",
    "llm = ChatOpenAI(openai_api_key=openai_api_key)\n",
    "\n",
    "scratchpad = (\n",
    "    \"\\nThought: I need to search for VIVA Media AG to find out their new acronym and what it stands for.\\nAction: Search[VIVA Media AG]\\n\"\n",
    "    \"Observation 1: Could not find [VIVA Media AG]. Similar: ['MTV Music (Polish TV channel)', 'VIVA Plus', 'Paramount International Networks', \"\n",
    "    \"'VIVA (German TV channel)', 'Viacom (1952–2005)', 'Vauxhall Viva', 'GfK Entertainment charts', 'Lindt', 'Spellbound Entertainment', \"\n",
    "    \"'Ag-gag']\\nThought: The search did not return exact information on VIVA Media AG. I should try searching for VIVA Media AG name change \"\n",
    "    \"in 2004 to get more specific results.\\nAction: Search[VIVA Media AG name change 2004]\\nObservation 2: Could not find [VIVA Media AG \"\n",
    "    \"name change 2004]. Similar: ['Vauxhall Viva', 'GfK Entertainment charts', 'Opel Astra', 'Puma (brand)', 'About You Now', 'Priscilla Presley', \"\n",
    "    \"'Altium', 'Sildenafil', 'Bosch (company)', 'Schneider Electric']\\nThought: I should try searching for the history of VIVA Media AG to see \"\n",
    "    \"if I can find information on their name change in 2004 and their new acronym.\\nAction: Search[history of VIVA Media AG]\\n\"\n",
    "    \"Observation 3: Could not find [history of VIVA Media AG]. Similar: ['MTV Music (Polish TV channel)', 'VIVA Plus', 'VIVA (German TV channel)', \"\n",
    "    \"'Vauxhall Viva', 'Lindt', 'GfK Entertainment charts', 'Spellbound Entertainment', 'Ag-gag', 'Springer Publishing', 'Kimberly-Clark']\"\n",
    ")\n",
    "responses = [\n",
    "    (\n",
    "        'The failure in this reasoning trial was due to not being able to find specific information on VIVA Media AG and its name change '\n",
    "        'in 2004. To mitigate this failure, the agent should consider broadening the search terms to include related keywords such as '\n",
    "        '\"corporate rebranding\" or \"corporate name change\" in addition to the specific company name. This will help in obtaining more '\n",
    "        'relevant and specific results that may provide the necessary information to answer the question accurately.'\n",
    "    )\n",
    "]\n",
    "out = _prompt_react_reflection(\n",
    "    llm=FakeListChatModel(responses=responses),\n",
    "    examples=REFLEXION_REACT_REFLECT_FEWSHOT_EXAMPLES,\n",
    "    question=question,\n",
    "    scratchpad=scratchpad,\n",
    ")"
   ]
  },
  {
   "cell_type": "code",
   "execution_count": 10,
   "metadata": {},
   "outputs": [
    {
     "data": {
      "text/plain": [
       "'The failure in this reasoning trial was due to not being able to find specific information on VIVA Media AG and its name change in 2004. To mitigate this failure, the agent should consider broadening the search terms to include related keywords such as \"corporate rebranding\" or \"corporate name change\" in addition to the specific company name. This will help in obtaining more relevant and specific results that may provide the necessary information to answer the question accurately.'"
      ]
     },
     "execution_count": 10,
     "metadata": {},
     "output_type": "execute_result"
    }
   ],
   "source": [
    "out"
   ]
  },
  {
   "cell_type": "code",
   "execution_count": null,
   "metadata": {},
   "outputs": [],
   "source": []
  }
 ],
 "metadata": {
  "kernelspec": {
   "display_name": "discussion-agents",
   "language": "python",
   "name": "python3"
  },
  "language_info": {
   "codemirror_mode": {
    "name": "ipython",
    "version": 3
   },
   "file_extension": ".py",
   "mimetype": "text/x-python",
   "name": "python",
   "nbconvert_exporter": "python",
   "pygments_lexer": "ipython3",
   "version": "3.10.13"
  }
 },
 "nbformat": 4,
 "nbformat_minor": 2
}
