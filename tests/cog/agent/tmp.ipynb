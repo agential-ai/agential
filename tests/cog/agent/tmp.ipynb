{
 "cells": [
  {
   "cell_type": "code",
   "execution_count": null,
   "metadata": {},
   "outputs": [],
   "source": [
    "from discussion_agents.cog.agent.reflexion import ReflexionCoTAgent\n",
    "from langchain_community.chat_models.fake import FakeListChatModel\n",
    "from langchain_community.chat_models.openai import ChatOpenAI\n",
    "\n",
    "import dotenv\n",
    "import os\n",
    "\n",
    "dotenv.load_dotenv(\"../.env\")\n",
    "openai_api_key = os.getenv(\"OPENAI_API_KEY\")"
   ]
  },
  {
   "cell_type": "code",
   "execution_count": null,
   "metadata": {},
   "outputs": [],
   "source": [
    "question = \"VIVA Media AG changed it's name in 2004. What does their new acronym stand for?\"\n",
    "key = \"Gesellschaft mit beschränkter Haftung\"\n",
    "\n",
    "from discussion_agents.cog.prompts.reflexion import REFLEXION_COT_FEWSHOT_EXAMPLES_NO_CONTEXT\n",
    "examples = REFLEXION_COT_FEWSHOT_EXAMPLES_NO_CONTEXT\n",
    "\n",
    "llm = ChatOpenAI(openai_api_key=openai_api_key)\n",
    "\n",
    "agent = ReflexionCoTAgent(\n",
    "    self_reflect_llm=llm,\n",
    "    action_llm=llm,\n",
    "    max_trials=2\n",
    ")\n",
    "\n",
    "out = agent.generate(question=question, key=key, strategy=\"last_attempt\")"
   ]
  },
  {
   "cell_type": "code",
   "execution_count": null,
   "metadata": {},
   "outputs": [],
   "source": [
    "from discussion_agents.cog.functional.reflexion import _truncate_scratchpad\n",
    "\n",
    "observation1 = \"Observation: short text\"\n",
    "observation2 = \"Observation: \" + \"long text \" * 100\n",
    "scratchpad = observation1 + \"\\n\" + observation2\n",
    "truncated = _truncate_scratchpad(scratchpad, 100)"
   ]
  },
  {
   "cell_type": "code",
   "execution_count": null,
   "metadata": {},
   "outputs": [],
   "source": [
    "truncated"
   ]
  },
  {
   "cell_type": "code",
   "execution_count": 2,
   "metadata": {},
   "outputs": [
    {
     "name": "stdout",
     "output_type": "stream",
     "text": [
      "Thought: Let's think step by step. VIVA Media AG changed its name to VIVA Media GmbH in 2004. GmbH stands for \"Gesellschaft mit beschränkter Haftung\" in German, which translates to \"company with limited liability\" in English. So, the new acronym stands for \"VIVA Media Company with Limited Liability.\"\n",
      "Action: Finish[VIVA Media Company with Limited Liability]\n"
     ]
    }
   ],
   "source": [
    "from discussion_agents.cog.functional.reflexion import _prompt_cot_agent\n",
    "from langchain_community.chat_models.openai import ChatOpenAI\n",
    "\n",
    "import dotenv\n",
    "import os\n",
    "\n",
    "dotenv.load_dotenv(\"../.env\")\n",
    "openai_api_key = os.getenv(\"OPENAI_API_KEY\")\n",
    "question = \"VIVA Media AG changed it's name in 2004. What does their new acronym stand for?\"\n",
    "context = 'VIVA Media GmbH (until 2004 \"VIVA Media AG\") is a music television network originating from Germany. It was founded for broadcast of VIVA Germany as VIVA Media AG in 1993 and has been owned by their original concurrent Viacom, the parent company of MTV, since 2004. Viva channels exist in some European countries; the first spin-offs were launched in Poland and Switzerland in 2000.\\n\\nA Gesellschaft mit beschränkter Haftung (] , abbreviated GmbH ] and also GesmbH in Austria) is a type of legal entity very common in Germany, Austria, Switzerland (where it is equivalent to a S.à r.l.) and Liechtenstein. In the United States, the equivalent type of entity is the limited liability company (LLC). The name of the GmbH form emphasizes the fact that the owners (\"Gesellschafter\", also known as members) of the entity are not personally liable for the company\\'s debts. \"GmbH\"s are considered legal persons under German and Austrian law. Other variations include mbH (used when the term \"Gesellschaft\" is part of the company name itself), and gGmbH (\"gemeinnützige\" GmbH) for non-profit companies.'\n",
    "from discussion_agents.cog.prompts.reflexion import REFLEXION_COT_FEWSHOT_EXAMPLES_NO_CONTEXT\n",
    "llm = ChatOpenAI(openai_api_key=openai_api_key)\n",
    "\n",
    "out = _prompt_cot_agent(\n",
    "    llm=llm, \n",
    "    examples=REFLEXION_COT_FEWSHOT_EXAMPLES_NO_CONTEXT,\n",
    "    reflections=\"\",\n",
    "    question=question,\n",
    "    scratchpad=\"\",\n",
    "    context=context\n",
    ")"
   ]
  },
  {
   "cell_type": "code",
   "execution_count": null,
   "metadata": {},
   "outputs": [],
   "source": [
    "out"
   ]
  },
  {
   "cell_type": "code",
   "execution_count": 6,
   "metadata": {},
   "outputs": [
    {
     "name": "stdout",
     "output_type": "stream",
     "text": [
      "Thought: Let's think step by step. VIVA Media AG changed its name to VIVA Media GmbH in 2004. GmbH stands for \"Gesellschaft mit beschränkter Haftung\" in German, which translates to \"company with limited liability\" in English. So, the new acronym stands for \"VIVA Media Company with Limited Liability.\"\n",
      "Action: Finish[VIVA Media Company with Limited Liability]\n"
     ]
    }
   ],
   "source": [
    "from langchain_community.chat_models.fake import FakeListChatModel\n",
    "\n",
    "responses = [\n",
    "    (\n",
    "        \"Thought: Let's think step by step. VIVA Media AG changed its name to VIVA Media GmbH in 2004.\"\n",
    "        \" GmbH stands for \\\"Gesellschaft mit beschränkter Haftung\\\" in German, which translates to \\\"company\"\n",
    "        \" with limited liability\\\" in English. So, the new acronym stands for \\\"VIVA Media Company with Limited Liability.\\\"\\n\"\n",
    "        \"Action: Finish[VIVA Media Company with Limited Liability]\"\n",
    "    )\n",
    "]\n",
    "llm = ChatOpenAI(openai_api_key=openai_api_key)\n",
    "\n",
    "out = _prompt_cot_agent(\n",
    "    llm=llm, #FakeListChatModel(responses=responses), \n",
    "    examples=REFLEXION_COT_FEWSHOT_EXAMPLES_NO_CONTEXT,\n",
    "    reflections=\"\",\n",
    "    question=question,\n",
    "    scratchpad=\"\",\n",
    "    context=None\n",
    ")"
   ]
  },
  {
   "cell_type": "code",
   "execution_count": 7,
   "metadata": {},
   "outputs": [
    {
     "data": {
      "text/plain": [
       "'Thought: Let\\'s think step by step. VIVA Media AG changed its name to VIVA Media GmbH in 2004. GmbH stands for \"Gesellschaft mit beschränkter Haftung\" in German, which translates to \"company with limited liability\" in English. So, the new acronym stands for \"VIVA Media Company with Limited Liability.\"Action: Finish[VIVA Media Company with Limited Liability]'"
      ]
     },
     "execution_count": 7,
     "metadata": {},
     "output_type": "execute_result"
    }
   ],
   "source": [
    "out"
   ]
  },
  {
   "cell_type": "code",
   "execution_count": null,
   "metadata": {},
   "outputs": [],
   "source": []
  }
 ],
 "metadata": {
  "kernelspec": {
   "display_name": "discussion-agents",
   "language": "python",
   "name": "python3"
  },
  "language_info": {
   "codemirror_mode": {
    "name": "ipython",
    "version": 3
   },
   "file_extension": ".py",
   "mimetype": "text/x-python",
   "name": "python",
   "nbconvert_exporter": "python",
   "pygments_lexer": "ipython3",
   "version": "3.10.13"
  }
 },
 "nbformat": 4,
 "nbformat_minor": 2
}
