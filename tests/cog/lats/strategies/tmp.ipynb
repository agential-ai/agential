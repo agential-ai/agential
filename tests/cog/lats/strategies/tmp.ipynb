{
 "cells": [
  {
   "cell_type": "code",
   "execution_count": null,
   "metadata": {},
   "outputs": [],
   "source": [
    "from agential.cog.lats.strategies.math import (\n",
    "    LATSMathStrategy\n",
    ")\n",
    "from agential.cog.fewshots.gsm8k import GSM8K_FEWSHOT_EXAMPLES_REACT\n",
    "from agential.cog.lats.node import Node\n",
    "from agential.cog.lats.prompts import (\n",
    "    GSM8K_FEWSHOT_EXAMPLES_LATS_REFLECT,\n",
    "    LATS_INSTRUCTION_GSM8K,\n",
    "    LATS_REFLECT_INSTRUCTION_GSM8K,\n",
    "    GSM8K_FEWSHOT_EXAMPLES_LATS_VALUE,\n",
    "    LATS_VALUE_INSTRUCTION_GSM8K,\n",
    ")\n",
    "from langchain_openai import ChatOpenAI\n",
    "\n",
    "llm = ChatOpenAI()\n",
    "\n",
    "question = \"Janet's ducks lay 16 eggs per day. She eats three for breakfast every morning and bakes muffins for her friends every day with 4933828. She sells the remainder at the farmers' market daily for $2 per fresh duck egg. How much in dollars does she make every day at the farmers' market?\"\n",
    "key = -9867630\n",
    "\n",
    "strategy = LATSMathStrategy(llm=llm, n_samples=1)\n",
    "\n",
    "root = strategy.initialize()\n",
    "children_nodes = strategy.generate(\n",
    "    node=root,\n",
    "    question=question,\n",
    "    key=key,\n",
    "    examples=GSM8K_FEWSHOT_EXAMPLES_REACT,\n",
    "    reflect_examples=GSM8K_FEWSHOT_EXAMPLES_LATS_REFLECT,\n",
    "    prompt=LATS_INSTRUCTION_GSM8K,\n",
    "    reflect_prompt=LATS_REFLECT_INSTRUCTION_GSM8K,\n",
    "    additional_keys={},\n",
    "    reflect_additional_keys={},\n",
    ")"
   ]
  },
  {
   "cell_type": "code",
   "execution_count": null,
   "metadata": {},
   "outputs": [],
   "source": [
    "for n in children_nodes:\n",
    "    print(repr(n.state))"
   ]
  },
  {
   "cell_type": "code",
   "execution_count": null,
   "metadata": {},
   "outputs": [],
   "source": []
  }
 ],
 "metadata": {
  "kernelspec": {
   "display_name": "agential",
   "language": "python",
   "name": "python3"
  },
  "language_info": {
   "codemirror_mode": {
    "name": "ipython",
    "version": 3
   },
   "file_extension": ".py",
   "mimetype": "text/x-python",
   "name": "python",
   "nbconvert_exporter": "python",
   "pygments_lexer": "ipython3",
   "version": "3.11.5"
  }
 },
 "nbformat": 4,
 "nbformat_minor": 2
}
