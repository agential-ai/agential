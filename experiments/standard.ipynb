{
 "cells": [
  {
   "cell_type": "code",
   "execution_count": 1,
   "metadata": {},
   "outputs": [],
   "source": [
    "from agential.prompting.standard.prompting import Standard\n",
    "import os\n",
    "from dotenv import load_dotenv\n",
    "load_dotenv()\n",
    "\n",
    "from agential.core.llm import LLM\n",
    "\n",
    "llm = LLM(\"gpt-3.5-turbo\", organization=os.getenv(\"OPENAI_ORGANIZATION\"))"
   ]
  },
  {
   "cell_type": "code",
   "execution_count": 2,
   "metadata": {},
   "outputs": [],
   "source": [
    "import json\n",
    "\n",
    "with open('../data/hotpot_dev_v1_simplified.json', 'r') as f:\n",
    "    data = json.load(f)"
   ]
  },
  {
   "cell_type": "code",
   "execution_count": 3,
   "metadata": {},
   "outputs": [
    {
     "data": {
      "text/plain": [
       "{'question': 'Were Scott Derrickson and Ed Wood of the same nationality?',\n",
       " 'answer': 'yes',\n",
       " 'type': 'comparison'}"
      ]
     },
     "execution_count": 3,
     "metadata": {},
     "output_type": "execute_result"
    }
   ],
   "source": [
    "data[0]"
   ]
  },
  {
   "cell_type": "code",
   "execution_count": 4,
   "metadata": {},
   "outputs": [
    {
     "name": "stdout",
     "output_type": "stream",
     "text": [
      "[['No', 'No'], ['No', 'No']]\n"
     ]
    }
   ],
   "source": [
    "from agential.core.fewshots.hotpotqa import HOTPOTQA_FEWSHOT_EXAMPLES_DIRECT\n",
    "from agential.prompting.standard.prompts import STANDARD_INSTRUCTION_HOTPOTQA\n",
    "\n",
    "\n",
    "method = Standard(\n",
    "    llm=llm,\n",
    "    benchmark=\"hotpotqa\",\n",
    ")\n",
    "\n",
    "for inst in data[:10]:\n",
    "    question, gt_answer = inst['question'], inst['answer']\n",
    "\n",
    "    # Inference\n",
    "    out = method.generate(\n",
    "        question=question,\n",
    "        examples=HOTPOTQA_FEWSHOT_EXAMPLES_DIRECT, \n",
    "        prompt=STANDARD_INSTRUCTION_HOTPOTQA,\n",
    "        additional_keys={},\n",
    "        num_retries=2,\n",
    "        warming=[0.1, 0.4],\n",
    "    )\n",
    "    print(out.answer)\n",
    "    break\n",
    "\n",
    "    # Postprocessing\n",
    "\n",
    "    # Evaluation\n",
    "    # precision(out.answer, gt_answer)"
   ]
  },
  {
   "cell_type": "code",
   "execution_count": null,
   "metadata": {},
   "outputs": [],
   "source": [
    "out.additional_info[0][0]"
   ]
  },
  {
   "cell_type": "code",
   "execution_count": null,
   "metadata": {},
   "outputs": [],
   "source": []
  }
 ],
 "metadata": {
  "kernelspec": {
   "display_name": "agential",
   "language": "python",
   "name": "python3"
  },
  "language_info": {
   "codemirror_mode": {
    "name": "ipython",
    "version": 3
   },
   "file_extension": ".py",
   "mimetype": "text/x-python",
   "name": "python",
   "nbconvert_exporter": "python",
   "pygments_lexer": "ipython3",
   "version": "3.11.5"
  }
 },
 "nbformat": 4,
 "nbformat_minor": 2
}
