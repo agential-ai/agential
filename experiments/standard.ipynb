{
 "cells": [
  {
   "cell_type": "code",
   "execution_count": 2,
   "metadata": {},
   "outputs": [],
   "source": [
    "from agential.prompting.standard.prompting import Standard\n",
    "import os\n",
    "\n",
    "from agential.prompting.standard.prompts import (\n",
    "    STANDARD_INSTRUCTION_AMBIGNQ, \n",
    "    STANDARD_INSTRUCTION_FEVER, \n",
    "    STANDARD_INSTRUCTION_GSM8K,  \n",
    "    STANDARD_INSTRUCTION_HOTPOTQA, \n",
    "    STANDARD_INSTRUCTION_SVAMP, \n",
    "    STANDARD_INSTRUCTION_TRIVIAQA,\n",
    "    STANDARD_INSTRUCTION_TABMWP,\n",
    "    STANDARD_INSTRUCTION_HUMANEVAL,\n",
    "    STANDARD_INSTRUCTION_MBPP,\n",
    ")\n",
    "from agential.core.fewshots.ambignq import AMBIGNQ_FEWSHOT_EXAMPLES_DIRECT\n",
    "from agential.core.fewshots.fever import FEVER_FEWSHOT_EXAMPLES_DIRECT\n",
    "from agential.core.fewshots.gsm8k import GSM8K_FEWSHOT_EXAMPLES_POT\n",
    "from agential.core.fewshots.hotpotqa import HOTPOTQA_FEWSHOT_EXAMPLES_DIRECT\n",
    "from agential.core.fewshots.svamp import SVAMP_FEWSHOT_EXAMPLES_POT\n",
    "from agential.core.fewshots.triviaqa import TRIVIAQA_FEWSHOT_EXAMPLES_DIRECT\n",
    "from agential.core.fewshots.tabmwp import TABMWP_FEWSHOT_EXAMPLES_POT\n",
    "from agential.core.fewshots.humaneval import HUMANEVAL_FEWSHOT_EXAMPLES_POT\n",
    "from agential.core.fewshots.mbpp import MBPP_FEWSHOT_EXAMPLES_POT\n",
    "\n",
    "import warnings\n",
    "warnings.filterwarnings('ignore')\n",
    "\n",
    "from dotenv import load_dotenv\n",
    "load_dotenv()\n",
    "\n",
    "from agential.core.llm import LLM\n",
    "\n",
    "llm = LLM(\"gpt-3.5-turbo\", organization=os.getenv(\"OPENAI_ORGANIZATION\"))"
   ]
  },
  {
   "cell_type": "code",
   "execution_count": null,
   "metadata": {},
   "outputs": [],
   "source": [
    "\n",
    "import json\n",
    "\n",
    "# Open and read the JSON file\n",
    "with open('../data/hotpot_dev_v1_simplified.json', 'r') as file:\n",
    "    data = json.load(file)\n",
    "\n",
    "# Print the data\n",
    "print(data[:5])"
   ]
  },
  {
   "cell_type": "code",
   "execution_count": null,
   "metadata": {},
   "outputs": [],
   "source": [
    "\n",
    "\n",
    "\n",
    "from agential.eval.metrics.classification import EM\n",
    "\n",
    "\n",
    "method = Standard(\n",
    "        llm=llm,\n",
    "        benchmark=\"hotpotqa\",\n",
    "    )\n",
    "\n",
    "\n",
    "num_correct = 0 \n",
    "num_incorrect = 0\n",
    "\n",
    "for i in data[:10]:\n",
    "\n",
    "    question = i[\"question\"]\n",
    "    print(question)\n",
    "    answer = i[\"answer\"]\n",
    "    print(answer)\n",
    "    print()\n",
    "\n",
    "    out = method.generate(\n",
    "        question=question,\n",
    "        examples=HOTPOTQA_FEWSHOT_EXAMPLES_DIRECT, \n",
    "        prompt=STANDARD_INSTRUCTION_HOTPOTQA,\n",
    "        additional_keys={},\n",
    "        num_retries=1,\n",
    "        warming=[None],\n",
    "        key=answer\n",
    "    )\n",
    "\n",
    "\n",
    "    num_correct += int(EM(out.answer, answer))\n",
    "    \n",
    "print(f\"{num_correct}/10\")"
   ]
  },
  {
   "cell_type": "code",
   "execution_count": null,
   "metadata": {},
   "outputs": [],
   "source": []
  }
 ],
 "metadata": {
  "kernelspec": {
   "display_name": "agential",
   "language": "python",
   "name": "python3"
  },
  "language_info": {
   "codemirror_mode": {
    "name": "ipython",
    "version": 3
   },
   "file_extension": ".py",
   "mimetype": "text/x-python",
   "name": "python",
   "nbconvert_exporter": "python",
   "pygments_lexer": "ipython3",
   "version": "3.11.5"
  }
 },
 "nbformat": 4,
 "nbformat_minor": 2
}
