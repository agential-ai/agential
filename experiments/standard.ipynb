{
 "cells": [
  {
   "cell_type": "code",
   "execution_count": 1,
   "metadata": {},
   "outputs": [],
   "source": [
    "from agential.prompting.standard.prompting import Standard\n",
    "import os\n",
    "\n",
    "from agential.prompting.standard.prompts import (\n",
    "    STANDARD_INSTRUCTION_AMBIGNQ, \n",
    "    STANDARD_INSTRUCTION_FEVER, \n",
    "    STANDARD_INSTRUCTION_GSM8K,  \n",
    "    STANDARD_INSTRUCTION_HOTPOTQA, \n",
    "    STANDARD_INSTRUCTION_SVAMP, \n",
    "    STANDARD_INSTRUCTION_TRIVIAQA,\n",
    "    STANDARD_INSTRUCTION_TABMWP,\n",
    "    STANDARD_INSTRUCTION_HUMANEVAL,\n",
    "    STANDARD_INSTRUCTION_MBPP,\n",
    ")\n",
    "from agential.core.fewshots.ambignq import AMBIGNQ_FEWSHOT_EXAMPLES_DIRECT\n",
    "from agential.core.fewshots.fever import FEVER_FEWSHOT_EXAMPLES_DIRECT\n",
    "from agential.core.fewshots.gsm8k import GSM8K_FEWSHOT_EXAMPLES_POT\n",
    "from agential.core.fewshots.hotpotqa import HOTPOTQA_FEWSHOT_EXAMPLES_DIRECT\n",
    "from agential.core.fewshots.svamp import SVAMP_FEWSHOT_EXAMPLES_POT\n",
    "from agential.core.fewshots.triviaqa import TRIVIAQA_FEWSHOT_EXAMPLES_DIRECT\n",
    "from agential.core.fewshots.tabmwp import TABMWP_FEWSHOT_EXAMPLES_POT\n",
    "from agential.core.fewshots.humaneval import HUMANEVAL_FEWSHOT_EXAMPLES_POT\n",
    "from agential.core.fewshots.mbpp import MBPP_FEWSHOT_EXAMPLES_POT\n",
    "\n",
    "import warnings\n",
    "warnings.filterwarnings('ignore')\n",
    "\n",
    "from dotenv import load_dotenv\n",
    "load_dotenv()\n",
    "\n",
    "from agential.core.llm import LLM\n",
    "\n",
    "llm = LLM(\"gpt-3.5-turbo\", organization=os.getenv(\"OPENAI_ORGANIZATION\"))"
   ]
  },
  {
   "cell_type": "code",
   "execution_count": 2,
   "metadata": {},
   "outputs": [
    {
     "name": "stdout",
     "output_type": "stream",
     "text": [
      "[{'question': 'Were Scott Derrickson and Ed Wood of the same nationality?', 'answer': 'yes', 'type': 'comparison'}, {'question': 'What government position was held by the woman who portrayed Corliss Archer in the film Kiss and Tell?', 'answer': 'Chief of Protocol', 'type': 'bridge'}, {'question': 'What science fantasy young adult series, told in first person, has a set of companion books narrating the stories of enslaved worlds and alien species?', 'answer': 'Animorphs', 'type': 'bridge'}, {'question': 'Are the Laleli Mosque and Esma Sultan Mansion located in the same neighborhood?', 'answer': 'no', 'type': 'comparison'}, {'question': 'The director of the romantic comedy \"Big Stone Gap\" is based in what New York city?', 'answer': 'Greenwich Village, New York City', 'type': 'bridge'}]\n"
     ]
    }
   ],
   "source": [
    "\n",
    "import json\n",
    "\n",
    "# Open and read the JSON file\n",
    "with open('../data/hotpot_dev_v1_simplified.json', 'r') as file:\n",
    "    data = json.load(file)\n",
    "\n",
    "# Print the data\n",
    "print(data[:5])"
   ]
  },
  {
   "cell_type": "code",
   "execution_count": 5,
   "metadata": {},
   "outputs": [
    {
     "data": {
      "text/plain": [
       "7405"
      ]
     },
     "execution_count": 5,
     "metadata": {},
     "output_type": "execute_result"
    }
   ],
   "source": [
    "len(data)"
   ]
  },
  {
   "cell_type": "code",
   "execution_count": 3,
   "metadata": {},
   "outputs": [
    {
     "name": "stdout",
     "output_type": "stream",
     "text": [
      "Were Scott Derrickson and Ed Wood of the same nationality?\n",
      "yes \t\t No \t\t False\n",
      "\n",
      "What government position was held by the woman who portrayed Corliss Archer in the film Kiss and Tell?\n",
      "Chief of Protocol \t\t Commissioner of Education in New York State \t\t False\n",
      "\n",
      "What science fantasy young adult series, told in first person, has a set of companion books narrating the stories of enslaved worlds and alien species?\n",
      "Animorphs \t\t The Lunar Chronicles by Marissa Meyer \t\t False\n",
      "\n",
      "Are the Laleli Mosque and Esma Sultan Mansion located in the same neighborhood?\n",
      "no \t\t No \t\t True\n",
      "\n",
      "The director of the romantic comedy \"Big Stone Gap\" is based in what New York city?\n",
      "Greenwich Village, New York City \t\t New York City, NY \t\t False\n",
      "\n",
      "2014 S/S is the debut album of a South Korean boy group that was formed by who?\n",
      "YG Entertainment \t\t Winner, formed by YG Entertainment. \t\t False\n",
      "\n",
      "Who was known by his stage name Aladin and helped organizations improve their performance as a consultant?\n",
      "Eenasul Fateh \t\t Aladin Aladinoff \t\t False\n",
      "\n",
      "The arena where the Lewiston Maineiacs played their home games can seat how many people?\n",
      "3,677 seated \t\t 3,677 \t\t False\n",
      "\n",
      "Who is older, Annie Morton or Terry Richardson?\n",
      "Terry Richardson \t\t Annie Morton \t\t False\n",
      "\n",
      "Are Local H and For Against both from the United States?\n",
      "yes \t\t Yes \t\t True\n",
      "\n",
      "What is the name of the fight song of the university whose main campus is in Lawrence, Kansas and whose branch campuses are in the Kansas City metropolitan area?\n",
      "Kansas Song \t\t \"Rock Chalk Jayhawk\" \t\t False\n",
      "\n",
      "What screenwriter with credits for \"Evolution\" co-wrote a film starring Nicolas Cage and Téa Leoni?\n",
      "David Weissman \t\t David Diamond \t\t False\n",
      "\n",
      "What year did Guns N Roses perform a promo for a movie starring Arnold Schwarzenegger as a former New York Police detective?\n",
      "1999 \t\t 1993 \t\t False\n",
      "\n",
      "Are Random House Tower and 888 7th Avenue both used for real estate?\n",
      "no \t\t Yes \t\t False\n",
      "\n",
      "The football manager who recruited David Beckham managed Manchester United during what timeframe?\n",
      "from 1986 to 2013 \t\t Sir Alex Ferguson managed Manchester United from 1986 to 2013. \t\t False\n",
      "\n",
      "Brown State Fishing Lake is in a country that has a population of how many inhabitants ?\n",
      "9,984 \t\t Approximately 328 million \t\t False\n",
      "\n",
      "The Vermont Catamounts men's soccer team currently competes in a conference that was formerly known as what from 1988 to 1996?\n",
      "the North Atlantic Conference \t\t America East Conference \t\t False\n",
      "\n",
      "Are Giuseppe Verdi and Ambroise Thomas both Opera composers ?\n",
      "yes \t\t Yes \t\t True\n",
      "\n",
      "Roger O. Egeberg was Assistant Secretary for Health and Scientific Affairs during the administration of a president that served during what years?\n",
      "1969 until 1974 \t\t 1971 to 1977 \t\t False\n",
      "\n",
      "Which writer was from England, Henry Roth or Robert Erskine Childers?\n",
      "Robert Erskine Childers DSC \t\t Robert Erskine Childers \t\t False\n",
      "\n",
      "3/20\n"
     ]
    }
   ],
   "source": [
    "from agential.eval.metrics.classification import EM\n",
    "\n",
    "method = Standard(\n",
    "        llm=llm,\n",
    "        benchmark=\"hotpotqa\",\n",
    "    )\n",
    "\n",
    "num_correct = 0 \n",
    "samples = 20\n",
    "\n",
    "for i in data[:samples]:\n",
    "\n",
    "    question = i[\"question\"]\n",
    "    answer = i[\"answer\"]\n",
    "\n",
    "    out = method.generate(\n",
    "        question=question,\n",
    "        key=answer\n",
    "    )\n",
    "    is_correct = EM(out.answer, answer)\n",
    "    print(question)\n",
    "    print(answer, \"\\t\\t\", out.answer, \"\\t\\t\", is_correct, end=\"\\n\\n\")\n",
    "\n",
    "    num_correct += int(is_correct)\n",
    "    \n",
    "print(f\"{num_correct}/{samples}\")"
   ]
  },
  {
   "cell_type": "code",
   "execution_count": 4,
   "metadata": {},
   "outputs": [
    {
     "data": {
      "text/plain": [
       "False"
      ]
     },
     "execution_count": 4,
     "metadata": {},
     "output_type": "execute_result"
    }
   ],
   "source": [
    "from agential.eval.metrics.classification import normalize_answer\n",
    "\n",
    "\n",
    "key = \"Robert Erskine Childers DSC\" \t\t \n",
    "answer = \"Robert Erskine Childers\"\n",
    "key in answer or answer in key\n",
    "# a = normalize_answer(answer)\n",
    "# b =  normalize_answer(key)\n",
    "\n",
    "EM(answer, key)"
   ]
  },
  {
   "cell_type": "code",
   "execution_count": null,
   "metadata": {},
   "outputs": [],
   "source": []
  }
 ],
 "metadata": {
  "kernelspec": {
   "display_name": "agential",
   "language": "python",
   "name": "python3"
  },
  "language_info": {
   "codemirror_mode": {
    "name": "ipython",
    "version": 3
   },
   "file_extension": ".py",
   "mimetype": "text/x-python",
   "name": "python",
   "nbconvert_exporter": "python",
   "pygments_lexer": "ipython3",
   "version": "3.11.5"
  }
 },
 "nbformat": 4,
 "nbformat_minor": 2
}
