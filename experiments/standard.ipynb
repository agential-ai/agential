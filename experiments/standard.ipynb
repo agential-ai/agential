{
 "cells": [
  {
   "cell_type": "code",
   "execution_count": 1,
   "metadata": {},
   "outputs": [
    {
     "name": "stderr",
     "output_type": "stream",
     "text": [
      "Failed to detect the name of this notebook, you can set it manually with the WANDB_NOTEBOOK_NAME environment variable to enable code saving.\n",
      "\u001b[34m\u001b[1mwandb\u001b[0m: Currently logged in as: \u001b[33mvincenttu\u001b[0m. Use \u001b[1m`wandb login --relogin`\u001b[0m to force relogin\n"
     ]
    },
    {
     "data": {
      "text/plain": [
       "True"
      ]
     },
     "execution_count": 1,
     "metadata": {},
     "output_type": "execute_result"
    }
   ],
   "source": [
    "import wandb\n",
    "import weave\n",
    "wandb.login()"
   ]
  },
  {
   "cell_type": "code",
   "execution_count": 2,
   "metadata": {},
   "outputs": [],
   "source": [
    "from agential.prompting.standard.prompting import Standard\n",
    "import os\n",
    "\n",
    "from agential.prompting.standard.prompts import (\n",
    "    STANDARD_INSTRUCTION_AMBIGNQ, \n",
    "    STANDARD_INSTRUCTION_FEVER, \n",
    "    STANDARD_INSTRUCTION_GSM8K,  \n",
    "    STANDARD_INSTRUCTION_HOTPOTQA, \n",
    "    STANDARD_INSTRUCTION_SVAMP, \n",
    "    STANDARD_INSTRUCTION_TRIVIAQA,\n",
    "    STANDARD_INSTRUCTION_TABMWP,\n",
    "    STANDARD_INSTRUCTION_HUMANEVAL,\n",
    "    STANDARD_INSTRUCTION_MBPP,\n",
    ")\n",
    "from agential.core.fewshots.ambignq import AMBIGNQ_FEWSHOT_EXAMPLES_DIRECT\n",
    "from agential.core.fewshots.fever import FEVER_FEWSHOT_EXAMPLES_DIRECT\n",
    "from agential.core.fewshots.gsm8k import GSM8K_FEWSHOT_EXAMPLES_POT\n",
    "from agential.core.fewshots.hotpotqa import HOTPOTQA_FEWSHOT_EXAMPLES_DIRECT\n",
    "from agential.core.fewshots.svamp import SVAMP_FEWSHOT_EXAMPLES_POT\n",
    "from agential.core.fewshots.triviaqa import TRIVIAQA_FEWSHOT_EXAMPLES_DIRECT\n",
    "from agential.core.fewshots.tabmwp import TABMWP_FEWSHOT_EXAMPLES_POT\n",
    "from agential.core.fewshots.humaneval import HUMANEVAL_FEWSHOT_EXAMPLES_POT\n",
    "from agential.core.fewshots.mbpp import MBPP_FEWSHOT_EXAMPLES_POT\n",
    "\n",
    "import warnings\n",
    "warnings.filterwarnings('ignore')\n",
    "\n",
    "from dotenv import load_dotenv\n",
    "load_dotenv()\n",
    "\n",
    "from agential.core.llm import LLM\n",
    "\n",
    "llm = LLM(\"gpt-3.5-turbo\", organization=os.getenv(\"OPENAI_ORGANIZATION\"))"
   ]
  },
  {
   "cell_type": "code",
   "execution_count": 3,
   "metadata": {},
   "outputs": [
    {
     "name": "stdout",
     "output_type": "stream",
     "text": [
      "[{'question': 'Were Scott Derrickson and Ed Wood of the same nationality?', 'answer': 'yes', 'type': 'comparison'}, {'question': 'What government position was held by the woman who portrayed Corliss Archer in the film Kiss and Tell?', 'answer': 'Chief of Protocol', 'type': 'bridge'}, {'question': 'What science fantasy young adult series, told in first person, has a set of companion books narrating the stories of enslaved worlds and alien species?', 'answer': 'Animorphs', 'type': 'bridge'}, {'question': 'Are the Laleli Mosque and Esma Sultan Mansion located in the same neighborhood?', 'answer': 'no', 'type': 'comparison'}, {'question': 'The director of the romantic comedy \"Big Stone Gap\" is based in what New York city?', 'answer': 'Greenwich Village, New York City', 'type': 'bridge'}]\n"
     ]
    }
   ],
   "source": [
    "\n",
    "import json\n",
    "\n",
    "# Open and read the JSON file\n",
    "with open('../data/hotpot_dev_v1_simplified.json', 'r') as file:\n",
    "    data = json.load(file)\n",
    "\n",
    "# Print the data\n",
    "print(data[:5])"
   ]
  },
  {
   "cell_type": "code",
   "execution_count": 8,
   "metadata": {},
   "outputs": [
    {
     "data": {
      "text/html": [
       "Finishing last run (ID:3igpdk73) before initializing another..."
      ],
      "text/plain": [
       "<IPython.core.display.HTML object>"
      ]
     },
     "metadata": {},
     "output_type": "display_data"
    },
    {
     "data": {
      "text/html": [
       " View run <strong style=\"color:#cdcd00\">serene-frog-1</strong> at: <a href='https://wandb.ai/vincenttu/agential/runs/3igpdk73' target=\"_blank\">https://wandb.ai/vincenttu/agential/runs/3igpdk73</a><br/> View project at: <a href='https://wandb.ai/vincenttu/agential' target=\"_blank\">https://wandb.ai/vincenttu/agential</a><br/>Synced 5 W&B file(s), 0 media file(s), 0 artifact file(s) and 0 other file(s)"
      ],
      "text/plain": [
       "<IPython.core.display.HTML object>"
      ]
     },
     "metadata": {},
     "output_type": "display_data"
    },
    {
     "data": {
      "text/html": [
       "Find logs at: <code>.\\wandb\\run-20240907_172247-3igpdk73\\logs</code>"
      ],
      "text/plain": [
       "<IPython.core.display.HTML object>"
      ]
     },
     "metadata": {},
     "output_type": "display_data"
    },
    {
     "data": {
      "text/html": [
       "The new W&B backend becomes opt-out in version 0.18.0; try it out with `wandb.require(\"core\")`! See https://wandb.me/wandb-core for more information."
      ],
      "text/plain": [
       "<IPython.core.display.HTML object>"
      ]
     },
     "metadata": {},
     "output_type": "display_data"
    },
    {
     "data": {
      "text/html": [
       "Successfully finished last run (ID:3igpdk73). Initializing new run:<br/>"
      ],
      "text/plain": [
       "<IPython.core.display.HTML object>"
      ]
     },
     "metadata": {},
     "output_type": "display_data"
    },
    {
     "data": {
      "text/html": [
       "Tracking run with wandb version 0.17.9"
      ],
      "text/plain": [
       "<IPython.core.display.HTML object>"
      ]
     },
     "metadata": {},
     "output_type": "display_data"
    },
    {
     "data": {
      "text/html": [
       "Run data is saved locally in <code>c:\\Users\\tuvin\\OneDrive\\Desktop\\agential\\experiments\\wandb\\run-20240907_172356-s0j85483</code>"
      ],
      "text/plain": [
       "<IPython.core.display.HTML object>"
      ]
     },
     "metadata": {},
     "output_type": "display_data"
    },
    {
     "data": {
      "text/html": [
       "Syncing run <strong><a href='https://wandb.ai/vincenttu/agential/runs/s0j85483' target=\"_blank\">breezy-monkey-2</a></strong> to <a href='https://wandb.ai/vincenttu/agential' target=\"_blank\">Weights & Biases</a> (<a href='https://wandb.me/run' target=\"_blank\">docs</a>)<br/>"
      ],
      "text/plain": [
       "<IPython.core.display.HTML object>"
      ]
     },
     "metadata": {},
     "output_type": "display_data"
    },
    {
     "data": {
      "text/html": [
       " View project at <a href='https://wandb.ai/vincenttu/agential' target=\"_blank\">https://wandb.ai/vincenttu/agential</a>"
      ],
      "text/plain": [
       "<IPython.core.display.HTML object>"
      ]
     },
     "metadata": {},
     "output_type": "display_data"
    },
    {
     "data": {
      "text/html": [
       " View run at <a href='https://wandb.ai/vincenttu/agential/runs/s0j85483' target=\"_blank\">https://wandb.ai/vincenttu/agential/runs/s0j85483</a>"
      ],
      "text/plain": [
       "<IPython.core.display.HTML object>"
      ]
     },
     "metadata": {},
     "output_type": "display_data"
    },
    {
     "ename": "ValueError",
     "evalue": "Project Mismatch: weave and wandb must be initialized using the same project. Found wandb.init targeting project \"vincenttu/agential\" and weave.init targeting project \"vincenttu/standard_hotpotqa\". To fix, please use the same project for both library initializations.",
     "output_type": "error",
     "traceback": [
      "\u001b[1;31m---------------------------------------------------------------------------\u001b[0m",
      "\u001b[1;31mValueError\u001b[0m                                Traceback (most recent call last)",
      "Cell \u001b[1;32mIn[8], line 12\u001b[0m\n\u001b[0;32m      9\u001b[0m samples \u001b[38;5;241m=\u001b[39m \u001b[38;5;241m20\u001b[39m\n\u001b[0;32m     11\u001b[0m wandb\u001b[38;5;241m.\u001b[39minit(\u001b[38;5;124m\"\u001b[39m\u001b[38;5;124mstandard_hotpotqa\u001b[39m\u001b[38;5;124m\"\u001b[39m)\n\u001b[1;32m---> 12\u001b[0m \u001b[43mweave\u001b[49m\u001b[38;5;241;43m.\u001b[39;49m\u001b[43minit\u001b[49m\u001b[43m(\u001b[49m\u001b[38;5;124;43m\"\u001b[39;49m\u001b[38;5;124;43mstandard_hotpotqa\u001b[39;49m\u001b[38;5;124;43m\"\u001b[39;49m\u001b[43m)\u001b[49m\n\u001b[0;32m     14\u001b[0m \u001b[38;5;28;01mfor\u001b[39;00m i \u001b[38;5;129;01min\u001b[39;00m data[:samples]:\n\u001b[0;32m     16\u001b[0m     question \u001b[38;5;241m=\u001b[39m i[\u001b[38;5;124m\"\u001b[39m\u001b[38;5;124mquestion\u001b[39m\u001b[38;5;124m\"\u001b[39m]\n",
      "File \u001b[1;32mc:\\Users\\tuvin\\anaconda3\\envs\\agential\\Lib\\site-packages\\weave\\trace\\api.py:49\u001b[0m, in \u001b[0;36minit\u001b[1;34m(project_name, settings)\u001b[0m\n\u001b[0;32m     44\u001b[0m \u001b[38;5;66;03m# This is the stream-table backend. Disabling it in favor of the new\u001b[39;00m\n\u001b[0;32m     45\u001b[0m \u001b[38;5;66;03m# trace-server backend.\u001b[39;00m\n\u001b[0;32m     46\u001b[0m \u001b[38;5;66;03m# return weave_init.init_wandb(project_name).client\u001b[39;00m\n\u001b[0;32m     47\u001b[0m \u001b[38;5;66;03m# return weave_init.init_trace_remote(project_name).client\u001b[39;00m\n\u001b[0;32m     48\u001b[0m parse_and_apply_settings(settings)\n\u001b[1;32m---> 49\u001b[0m \u001b[38;5;28;01mreturn\u001b[39;00m \u001b[43mweave_init\u001b[49m\u001b[38;5;241;43m.\u001b[39;49m\u001b[43minit_weave\u001b[49m\u001b[43m(\u001b[49m\u001b[43mproject_name\u001b[49m\u001b[43m)\u001b[49m\u001b[38;5;241m.\u001b[39mclient\n",
      "File \u001b[1;32mc:\\Users\\tuvin\\anaconda3\\envs\\agential\\Lib\\site-packages\\weave\\trace\\weave_init.py:95\u001b[0m, in \u001b[0;36minit_weave\u001b[1;34m(project_name, ensure_project_exists)\u001b[0m\n\u001b[0;32m     93\u001b[0m entity_name, project_name \u001b[38;5;241m=\u001b[39m get_entity_project_from_project_name(project_name)\n\u001b[0;32m     94\u001b[0m wandb_run_id \u001b[38;5;241m=\u001b[39m weave_client\u001b[38;5;241m.\u001b[39msafe_current_wb_run_id()\n\u001b[1;32m---> 95\u001b[0m \u001b[43mweave_client\u001b[49m\u001b[38;5;241;43m.\u001b[39;49m\u001b[43mcheck_wandb_run_matches\u001b[49m\u001b[43m(\u001b[49m\u001b[43mwandb_run_id\u001b[49m\u001b[43m,\u001b[49m\u001b[43m \u001b[49m\u001b[43mentity_name\u001b[49m\u001b[43m,\u001b[49m\u001b[43m \u001b[49m\u001b[43mproject_name\u001b[49m\u001b[43m)\u001b[49m\n\u001b[0;32m     97\u001b[0m api_key \u001b[38;5;241m=\u001b[39m \u001b[38;5;28;01mNone\u001b[39;00m\n\u001b[0;32m     98\u001b[0m \u001b[38;5;28;01mif\u001b[39;00m wandb_context \u001b[38;5;129;01mis\u001b[39;00m \u001b[38;5;129;01mnot\u001b[39;00m \u001b[38;5;28;01mNone\u001b[39;00m \u001b[38;5;129;01mand\u001b[39;00m wandb_context\u001b[38;5;241m.\u001b[39mapi_key \u001b[38;5;129;01mis\u001b[39;00m \u001b[38;5;129;01mnot\u001b[39;00m \u001b[38;5;28;01mNone\u001b[39;00m:\n",
      "File \u001b[1;32mc:\\Users\\tuvin\\anaconda3\\envs\\agential\\Lib\\site-packages\\weave\\trace\\weave_client.py:975\u001b[0m, in \u001b[0;36mcheck_wandb_run_matches\u001b[1;34m(wandb_run_id, weave_entity, weave_project)\u001b[0m\n\u001b[0;32m    973\u001b[0m wandb_entity, wandb_project, _ \u001b[38;5;241m=\u001b[39m wandb_run_id\u001b[38;5;241m.\u001b[39msplit(\u001b[38;5;124m\"\u001b[39m\u001b[38;5;124m/\u001b[39m\u001b[38;5;124m\"\u001b[39m)\n\u001b[0;32m    974\u001b[0m \u001b[38;5;28;01mif\u001b[39;00m wandb_entity \u001b[38;5;241m!=\u001b[39m weave_entity \u001b[38;5;129;01mor\u001b[39;00m wandb_project \u001b[38;5;241m!=\u001b[39m weave_project:\n\u001b[1;32m--> 975\u001b[0m     \u001b[38;5;28;01mraise\u001b[39;00m \u001b[38;5;167;01mValueError\u001b[39;00m(\n\u001b[0;32m    976\u001b[0m         \u001b[38;5;124mf\u001b[39m\u001b[38;5;124m'\u001b[39m\u001b[38;5;124mProject Mismatch: weave and wandb must be initialized using the same project. Found wandb.init targeting project \u001b[39m\u001b[38;5;124m\"\u001b[39m\u001b[38;5;132;01m{\u001b[39;00mwandb_entity\u001b[38;5;132;01m}\u001b[39;00m\u001b[38;5;124m/\u001b[39m\u001b[38;5;132;01m{\u001b[39;00mwandb_project\u001b[38;5;132;01m}\u001b[39;00m\u001b[38;5;124m\"\u001b[39m\u001b[38;5;124m and weave.init targeting project \u001b[39m\u001b[38;5;124m\"\u001b[39m\u001b[38;5;132;01m{\u001b[39;00mweave_entity\u001b[38;5;132;01m}\u001b[39;00m\u001b[38;5;124m/\u001b[39m\u001b[38;5;132;01m{\u001b[39;00mweave_project\u001b[38;5;132;01m}\u001b[39;00m\u001b[38;5;124m\"\u001b[39m\u001b[38;5;124m. To fix, please use the same project for both library initializations.\u001b[39m\u001b[38;5;124m'\u001b[39m\n\u001b[0;32m    977\u001b[0m     )\n",
      "\u001b[1;31mValueError\u001b[0m: Project Mismatch: weave and wandb must be initialized using the same project. Found wandb.init targeting project \"vincenttu/agential\" and weave.init targeting project \"vincenttu/standard_hotpotqa\". To fix, please use the same project for both library initializations."
     ]
    }
   ],
   "source": [
    "from agential.eval.metrics.classification import EM, f1, precision, recall\n",
    "\n",
    "# Log numbers (EM, f1, precission, recall)\n",
    "# Log/Save artifacts to your runs\n",
    "# Optional, how to log final metrics \n",
    "\n",
    "method = Standard(\n",
    "        llm=llm,\n",
    "        benchmark=\"hotpotqa\",\n",
    "    )\n",
    "\n",
    "num_correct = 0 \n",
    "samples = 20\n",
    "\n",
    "wandb.init(\"standard_hotpotqa\")\n",
    "weave.init(\"standard_hotpotqa\")\n",
    "\n",
    "for i in data[:samples]:\n",
    "\n",
    "    question = i[\"question\"]\n",
    "    answer = i[\"answer\"]\n",
    "\n",
    "    out = method.generate(\n",
    "        question=question,\n",
    "        key=answer\n",
    "    )\n",
    "    is_correct = EM(out.answer, answer)\n",
    "    precision_out = precision(out.answer, answer)\n",
    "    recall_out = recall(out.answer, answer)\n",
    "    f1_out = f1(out.answer, answer)\n",
    "\n",
    "    num_correct += int(is_correct)\n",
    "\n",
    "wandb.finish()"
   ]
  },
  {
   "cell_type": "code",
   "execution_count": null,
   "metadata": {},
   "outputs": [],
   "source": [
    "from agential.eval.metrics.classification import normalize_answer\n",
    "\n",
    "\n",
    "key = \"Robert Erskine Childers DSC\" \t\t \n",
    "answer = \"Robert Erskine Childers\"\n",
    "key in answer or answer in key\n",
    "# a = normalize_answer(answer)\n",
    "# b =  normalize_answer(key)\n",
    "\n",
    "EM(answer, key)"
   ]
  },
  {
   "cell_type": "code",
   "execution_count": null,
   "metadata": {},
   "outputs": [],
   "source": []
  }
 ],
 "metadata": {
  "kernelspec": {
   "display_name": "agential",
   "language": "python",
   "name": "python3"
  },
  "language_info": {
   "codemirror_mode": {
    "name": "ipython",
    "version": 3
   },
   "file_extension": ".py",
   "mimetype": "text/x-python",
   "name": "python",
   "nbconvert_exporter": "python",
   "pygments_lexer": "ipython3",
   "version": "3.11.5"
  }
 },
 "nbformat": 4,
 "nbformat_minor": 2
}
