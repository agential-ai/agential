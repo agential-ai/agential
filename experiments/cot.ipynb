{
 "cells": [
  {
   "cell_type": "code",
   "execution_count": null,
   "metadata": {},
   "outputs": [],
   "source": [
    "from agential.prompting.cot.prompting import CoT\n",
    "\n",
    "from agential.prompting.cot.prompts import (\n",
    "    COT_INSTRUCTION_AMBIGNQ, \n",
    "    COT_INSTRUCTION_FEVER, \n",
    "    COT_INSTRUCTION_GSM8K, \n",
    "    COT_INSTRUCTION_HOTPOTQA, \n",
    "    COT_INSTRUCTION_SVAMP, \n",
    "    COT_INSTRUCTION_TRIVIAQA,\n",
    "    COT_INSTRUCTION_TABMWP,\n",
    "    COT_INSTRUCTION_HUMANEVAL,\n",
    "    COT_INSTRUCTION_MBPP,\n",
    ")\n",
    "from agential.core.fewshots.ambignq import AMBIGNQ_FEWSHOT_EXAMPLES_COT\n",
    "from agential.core.fewshots.fever import FEVER_FEWSHOT_EXAMPLES_COT\n",
    "from agential.core.fewshots.gsm8k import GSM8K_FEWSHOT_EXAMPLES_COT\n",
    "from agential.core.fewshots.hotpotqa import HOTPOTQA_FEWSHOT_EXAMPLES_COT\n",
    "from agential.core.fewshots.svamp import SVAMP_FEWSHOT_EXAMPLES_COT\n",
    "from agential.core.fewshots.triviaqa import TRIVIAQA_FEWSHOT_EXAMPLES_COT\n",
    "from agential.core.fewshots.tabmwp import TABMWP_FEWSHOT_EXAMPLES_COT\n",
    "from agential.core.fewshots.humaneval import HUMANEVAL_FEWSHOT_EXAMPLES_COT\n",
    "from agential.core.fewshots.mbpp import MBPP_FEWSHOT_EXAMPLES_COT\n",
    "\n",
    "import warnings\n",
    "warnings.filterwarnings('ignore')\n",
    "\n",
    "from dotenv import load_dotenv\n",
    "load_dotenv()\n",
    "\n",
    "from agential.core.llm import LLM\n",
    "\n",
    "llm = LLM(\"gpt-3.5-turbo\")"
   ]
  },
  {
   "cell_type": "code",
   "execution_count": 1,
   "metadata": {},
   "outputs": [
    {
     "name": "stdout",
     "output_type": "stream",
     "text": [
      "[{'question': 'Were Scott Derrickson and Ed Wood of the same nationality?', 'answer': 'yes', 'type': 'comparison'}, {'question': 'What government position was held by the woman who portrayed Corliss Archer in the film Kiss and Tell?', 'answer': 'Chief of Protocol', 'type': 'bridge'}, {'question': 'What science fantasy young adult series, told in first person, has a set of companion books narrating the stories of enslaved worlds and alien species?', 'answer': 'Animorphs', 'type': 'bridge'}, {'question': 'Are the Laleli Mosque and Esma Sultan Mansion located in the same neighborhood?', 'answer': 'no', 'type': 'comparison'}, {'question': 'The director of the romantic comedy \"Big Stone Gap\" is based in what New York city?', 'answer': 'Greenwich Village, New York City', 'type': 'bridge'}]\n"
     ]
    }
   ],
   "source": [
    "import json\n",
    "\n",
    "# Open and read the JSON file\n",
    "with open('../data/hotpot_dev_v1_simplified.json', 'r') as file:\n",
    "    data = json.load(file)\n",
    "\n",
    "# Print the data\n",
    "print(data[:5])"
   ]
  },
  {
   "cell_type": "code",
   "execution_count": null,
   "metadata": {},
   "outputs": [],
   "source": [
    "from agential.eval.metrics.classification import EM\n",
    "\n",
    "\n",
    "method = CoT(\n",
    "    llm=llm,\n",
    "    benchmark=\"hotpotqa\",\n",
    ")\n",
    "\n",
    "samples = 20\n",
    "num_correct = 0\n",
    "\n",
    "for i in data[:samples]:\n",
    "\n",
    "    question = i[\"question\"]\n",
    "    answer = i[\"answer\"]\n",
    "\n",
    "    out = method.generate(\n",
    "        question=question,\n",
    "        key=answer,\n",
    "        examples=HOTPOTQA_FEWSHOT_EXAMPLES_COT, \n",
    "        prompt=COT_INSTRUCTION_HOTPOTQA,\n",
    "        additional_keys={},\n",
    "        num_retries=1,\n",
    "        warming=[None],\n",
    "    )\n",
    "    is_correct = EM(out.answer, answer)\n",
    "    print(question)\n",
    "    print(answer, \"\\t\\t\", out.answer, \"\\t\\t\", is_correct, end=\"\\n\\n\")\n",
    "\n",
    "    num_correct += int(is_correct)\n",
    "\n",
    "    precision_out = precision(out.answer , answer , True)\n",
    "\n",
    "    recall_out = recall(out.answer , answer , True)\n",
    "\n",
    "    f1_out = f1(out.answer , answer , True)\n",
    "    \n",
    "print(f\"{num_correct}/{samples}\")"
   ]
  }
 ],
 "metadata": {
  "kernelspec": {
   "display_name": "agential",
   "language": "python",
   "name": "python3"
  },
  "language_info": {
   "codemirror_mode": {
    "name": "ipython",
    "version": 3
   },
   "file_extension": ".py",
   "mimetype": "text/x-python",
   "name": "python",
   "nbconvert_exporter": "python",
   "pygments_lexer": "ipython3",
   "version": "3.11.5"
  }
 },
 "nbformat": 4,
 "nbformat_minor": 2
}
