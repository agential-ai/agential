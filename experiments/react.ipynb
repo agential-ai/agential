{
 "cells": [
  {
   "cell_type": "code",
   "execution_count": null,
   "metadata": {},
   "outputs": [],
   "source": [
    "from agential.agents.react.agent import ReAct\n",
    "from agential.utils.docstore import DocstoreExplorer\n",
    "from agential.core.llm import LLM\n",
    "\n",
    "import tiktoken\n",
    "\n",
    "from langchain_community.docstore.wikipedia import Wikipedia\n",
    "\n",
    "from agential.core.fewshots.hotpotqa import (\n",
    "    HOTPOTQA_FEWSHOT_EXAMPLES_REACT,\n",
    ")\n",
    "from agential.core.fewshots.fever import (\n",
    "    FEVER_FEWSHOT_EXAMPLES_REACT,\n",
    ")\n",
    "from agential.core.fewshots.triviaqa import (\n",
    "    TRIVIAQA_FEWSHOT_EXAMPLES_REACT,\n",
    ")\n",
    "from agential.core.fewshots.ambignq import (\n",
    "    AMBIGNQ_FEWSHOT_EXAMPLES_REACT,\n",
    ")\n",
    "from agential.core.fewshots.gsm8k import (\n",
    "    GSM8K_FEWSHOT_EXAMPLES_REACT\n",
    ")\n",
    "from agential.core.fewshots.svamp import (\n",
    "    SVAMP_FEWSHOT_EXAMPLES_REACT\n",
    ")\n",
    "from agential.core.fewshots.tabmwp import (\n",
    "    TABMWP_FEWSHOT_EXAMPLES_REACT\n",
    ")\n",
    "from agential.core.fewshots.humaneval import (\n",
    "    HUMANEVAL_FEWSHOT_EXAMPLES_REACT\n",
    ")\n",
    "from agential.core.fewshots.mbpp import (\n",
    "    MBPP_FEWSHOT_EXAMPLES_REACT\n",
    ")\n",
    "from agential.agents.react.prompts import (\n",
    "    REACT_INSTRUCTION_HUMANEVAL, \n",
    "    REACT_INSTRUCTION_MBPP, \n",
    "    REACT_INSTRUCTION_HOTPOTQA,\n",
    "    REACT_INSTRUCTION_FEVER,\n",
    "    REACT_INSTRUCTION_AMBIGNQ,\n",
    "    REACT_INSTRUCTION_TRIVIAQA,\n",
    "    REACT_INSTRUCTION_GSM8K,\n",
    "    REACT_INSTRUCTION_SVAMP,\n",
    "    REACT_INSTRUCTION_TABMWP\n",
    ")\n",
    "\n",
    "import warnings\n",
    "warnings.filterwarnings('ignore')\n",
    "\n",
    "import dotenv\n",
    "dotenv.load_dotenv()\n",
    "\n",
    "llm = LLM(\"gpt-3.5-turbo\")"
   ]
  },
  {
   "cell_type": "code",
   "execution_count": 1,
   "metadata": {},
   "outputs": [
    {
     "name": "stdout",
     "output_type": "stream",
     "text": [
      "[{'question': 'Were Scott Derrickson and Ed Wood of the same nationality?', 'answer': 'yes', 'type': 'comparison'}, {'question': 'What government position was held by the woman who portrayed Corliss Archer in the film Kiss and Tell?', 'answer': 'Chief of Protocol', 'type': 'bridge'}, {'question': 'What science fantasy young adult series, told in first person, has a set of companion books narrating the stories of enslaved worlds and alien species?', 'answer': 'Animorphs', 'type': 'bridge'}, {'question': 'Are the Laleli Mosque and Esma Sultan Mansion located in the same neighborhood?', 'answer': 'no', 'type': 'comparison'}, {'question': 'The director of the romantic comedy \"Big Stone Gap\" is based in what New York city?', 'answer': 'Greenwich Village, New York City', 'type': 'bridge'}]\n"
     ]
    }
   ],
   "source": [
    "import json\n",
    "\n",
    "# Open and read the JSON file\n",
    "with open('../data/hotpot_dev_v1_simplified.json', 'r') as file:\n",
    "    data = json.load(file)\n",
    "\n",
    "# Print the data\n",
    "print(data[:5])"
   ]
  },
  {
   "cell_type": "code",
   "execution_count": null,
   "metadata": {},
   "outputs": [],
   "source": [
    "from agential.eval.metrics.classification import EM\n",
    "\n",
    "\n",
    "agent = ReAct(\n",
    "    llm=llm,\n",
    "    benchmark=\"hotpotqa\",\n",
    "    # kwargs.\n",
    "    max_steps=8,\n",
    "    max_tokens=5000,\n",
    "    enc=tiktoken.encoding_for_model(\"gpt-3.5-turbo\"),\n",
    "    docstore=DocstoreExplorer(Wikipedia()),\n",
    ")\n",
    "\n",
    "\n",
    "num_correct = 0 \n",
    "samples = 20\n",
    "\n",
    "for i in data[:samples]:\n",
    "\n",
    "    question = i[\"question\"]\n",
    "    answer = i[\"answer\"]\n",
    "\n",
    "    out = agent.generate(\n",
    "        question=question,\n",
    "        examples=HOTPOTQA_FEWSHOT_EXAMPLES_REACT, \n",
    "        prompt=REACT_INSTRUCTION_HOTPOTQA,\n",
    "        additional_keys={},\n",
    "        reset=True,\n",
    "    )\n",
    "\n",
    "    is_correct = EM(out.answer, answer)\n",
    "    print(question)\n",
    "    print(answer, \"\\t\\t\", out.answer, \"\\t\\t\", is_correct, end=\"\\n\\n\")\n",
    "\n",
    "    num_correct += int(is_correct)\n",
    "    \n",
    "print(f\"{num_correct}/{samples}\")"
   ]
  }
 ],
 "metadata": {
  "kernelspec": {
   "display_name": "agential",
   "language": "python",
   "name": "python3"
  },
  "language_info": {
   "codemirror_mode": {
    "name": "ipython",
    "version": 3
   },
   "file_extension": ".py",
   "mimetype": "text/x-python",
   "name": "python",
   "nbconvert_exporter": "python",
   "pygments_lexer": "ipython3",
   "version": "3.11.5"
  }
 },
 "nbformat": 4,
 "nbformat_minor": 2
}
