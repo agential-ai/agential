{
 "cells": [
  {
   "cell_type": "markdown",
   "metadata": {},
   "source": [
    "## max_step 8"
   ]
  },
  {
   "cell_type": "code",
   "execution_count": 1,
   "metadata": {},
   "outputs": [
    {
     "name": "stderr",
     "output_type": "stream",
     "text": [
      "\u001b[34m\u001b[1mwandb\u001b[0m: Using wandb-core as the SDK backend. Please refer to https://wandb.me/wandb-core for more information.\n",
      "\u001b[34m\u001b[1mwandb\u001b[0m: Currently logged in as: \u001b[33mteedsingyau\u001b[0m (\u001b[33magential\u001b[0m). Use \u001b[1m`wandb login --relogin`\u001b[0m to force relogin\n"
     ]
    },
    {
     "data": {
      "text/html": [
       "Tracking run with wandb version 0.18.1"
      ],
      "text/plain": [
       "<IPython.core.display.HTML object>"
      ]
     },
     "metadata": {},
     "output_type": "display_data"
    },
    {
     "data": {
      "text/html": [
       "Run data is saved locally in <code>/Users/tedl/Desktop/agential/agential/experiments/analysis/wandb/run-20240927_174249-m7o9n8b1</code>"
      ],
      "text/plain": [
       "<IPython.core.display.HTML object>"
      ]
     },
     "metadata": {},
     "output_type": "display_data"
    },
    {
     "data": {
      "text/html": [
       "Syncing run <strong><a href='https://wandb.ai/agential/agential-experiments_analysis/runs/m7o9n8b1' target=\"_blank\">lunar-pine-8</a></strong> to <a href='https://wandb.ai/agential/agential-experiments_analysis' target=\"_blank\">Weights & Biases</a> (<a href='https://wandb.me/run' target=\"_blank\">docs</a>)<br/>"
      ],
      "text/plain": [
       "<IPython.core.display.HTML object>"
      ]
     },
     "metadata": {},
     "output_type": "display_data"
    },
    {
     "data": {
      "text/html": [
       " View project at <a href='https://wandb.ai/agential/agential-experiments_analysis' target=\"_blank\">https://wandb.ai/agential/agential-experiments_analysis</a>"
      ],
      "text/plain": [
       "<IPython.core.display.HTML object>"
      ]
     },
     "metadata": {},
     "output_type": "display_data"
    },
    {
     "data": {
      "text/html": [
       " View run at <a href='https://wandb.ai/agential/agential-experiments_analysis/runs/m7o9n8b1' target=\"_blank\">https://wandb.ai/agential/agential-experiments_analysis/runs/m7o9n8b1</a>"
      ],
      "text/plain": [
       "<IPython.core.display.HTML object>"
      ]
     },
     "metadata": {},
     "output_type": "display_data"
    },
    {
     "name": "stderr",
     "output_type": "stream",
     "text": [
      "\u001b[34m\u001b[1mwandb\u001b[0m:   1 of 1 files downloaded.  \n"
     ]
    }
   ],
   "source": [
    "import wandb\n",
    "run = wandb.init()\n",
    "artifact = run.use_artifact('agential/hotpotqa/run-euxt72tu-fancyshadow45_eval:v0', type='run_table')\n",
    "artifact_dir = artifact.download()"
   ]
  },
  {
   "cell_type": "code",
   "execution_count": 2,
   "metadata": {},
   "outputs": [],
   "source": [
    "file_path = 'artifacts/run-euxt72tu-fancyshadow45_eval:v0/fancy-shadow-45_eval.table.json'"
   ]
  },
  {
   "cell_type": "code",
   "execution_count": 3,
   "metadata": {},
   "outputs": [],
   "source": [
    "import json\n",
    "\n",
    "# Open the file and load the JSON data\n",
    "with open(file_path, 'r') as file:\n",
    "    file_input = json.load(file)"
   ]
  },
  {
   "cell_type": "code",
   "execution_count": 4,
   "metadata": {},
   "outputs": [
    {
     "name": "stdout",
     "output_type": "stream",
     "text": [
      "                                              question                answer  \\\n",
      "0    What was Iqbal F. Qadir on when he participate...              flotilla   \n",
      "1    When did the park at which Tivolis Koncertsal ...        15 August 1843   \n",
      "2    What is the shared country of ancestry between...              Armenian   \n",
      "3    The school in which the Wilmslow Show is held ...  Centre of Excellence   \n",
      "4    Who will Billy Howle be seen opposite in the u...         Saoirse Ronan   \n",
      "..                                                 ...                   ...   \n",
      "495  To Catch a Predator was devoted to impersonati...          jurisdiction   \n",
      "496  Are Peter Balakian and James Der Derian both t...                   yes   \n",
      "497  What is the name of the Isles who were led by ...  Kingdom of the Isles   \n",
      "498  Martin Patterson \"Pat\" Hingle was a close frie...               Rawhide   \n",
      "499  The southernmost administrative region of Denm...  beer and soft drinks   \n",
      "\n",
      "          predicted_answer  EM  precision  recall        f1  \n",
      "0        Operation Somnath   0        0.0     0.0  0.000000  \n",
      "1           15 August 1843   1        1.0     1.0  1.000000  \n",
      "2                  Armenia   0        0.0     0.0  0.000000  \n",
      "3     Wilmslow High School   0        0.0     0.0  0.000000  \n",
      "4      unable to determine   0        0.0     0.0  0.000000  \n",
      "..                     ...  ..        ...     ...       ...  \n",
      "495  specific jurisdiction   1        0.5     1.0  0.666667  \n",
      "496                    yes   1        1.0     1.0  1.000000  \n",
      "497    unable to determine   0        0.0     0.0  0.000000  \n",
      "498                Rawhide   1        1.0     1.0  1.000000  \n",
      "499                          0        0.0     0.0  0.000000  \n",
      "\n",
      "[500 rows x 7 columns]\n"
     ]
    }
   ],
   "source": [
    "import pandas as pd\n",
    "df = pd.DataFrame(file_input['data'])\n",
    "df.columns = file_input['columns']\n",
    "print(df)"
   ]
  },
  {
   "cell_type": "code",
   "execution_count": 5,
   "metadata": {},
   "outputs": [
    {
     "data": {
      "text/html": [
       "<div>\n",
       "<style scoped>\n",
       "    .dataframe tbody tr th:only-of-type {\n",
       "        vertical-align: middle;\n",
       "    }\n",
       "\n",
       "    .dataframe tbody tr th {\n",
       "        vertical-align: top;\n",
       "    }\n",
       "\n",
       "    .dataframe thead th {\n",
       "        text-align: right;\n",
       "    }\n",
       "</style>\n",
       "<table border=\"1\" class=\"dataframe\">\n",
       "  <thead>\n",
       "    <tr style=\"text-align: right;\">\n",
       "      <th></th>\n",
       "      <th>question</th>\n",
       "      <th>answer</th>\n",
       "      <th>predicted_answer</th>\n",
       "      <th>EM</th>\n",
       "      <th>precision</th>\n",
       "      <th>recall</th>\n",
       "      <th>f1</th>\n",
       "    </tr>\n",
       "  </thead>\n",
       "  <tbody>\n",
       "    <tr>\n",
       "      <th>5</th>\n",
       "      <td>What animated movie, starring Danny Devito, fe...</td>\n",
       "      <td>The Lorax</td>\n",
       "      <td></td>\n",
       "      <td>0</td>\n",
       "      <td>0.0</td>\n",
       "      <td>0.0</td>\n",
       "      <td>0.0</td>\n",
       "    </tr>\n",
       "    <tr>\n",
       "      <th>11</th>\n",
       "      <td>In which film did Emilio Estevez star in in th...</td>\n",
       "      <td>The Outsiders</td>\n",
       "      <td></td>\n",
       "      <td>0</td>\n",
       "      <td>0.0</td>\n",
       "      <td>0.0</td>\n",
       "      <td>0.0</td>\n",
       "    </tr>\n",
       "    <tr>\n",
       "      <th>20</th>\n",
       "      <td>Who is the fictional head of a British Secret ...</td>\n",
       "      <td>Q</td>\n",
       "      <td></td>\n",
       "      <td>0</td>\n",
       "      <td>0.0</td>\n",
       "      <td>0.0</td>\n",
       "      <td>0.0</td>\n",
       "    </tr>\n",
       "    <tr>\n",
       "      <th>31</th>\n",
       "      <td>St. John's College, Belize offers an education...</td>\n",
       "      <td>Grammar, logic, and rhetoric</td>\n",
       "      <td></td>\n",
       "      <td>0</td>\n",
       "      <td>0.0</td>\n",
       "      <td>0.0</td>\n",
       "      <td>0.0</td>\n",
       "    </tr>\n",
       "    <tr>\n",
       "      <th>38</th>\n",
       "      <td>What group did Carlene LeFevre and Rich LeFevr...</td>\n",
       "      <td>the \"First Family of Competitive Eating\"</td>\n",
       "      <td></td>\n",
       "      <td>0</td>\n",
       "      <td>0.0</td>\n",
       "      <td>0.0</td>\n",
       "      <td>0.0</td>\n",
       "    </tr>\n",
       "    <tr>\n",
       "      <th>...</th>\n",
       "      <td>...</td>\n",
       "      <td>...</td>\n",
       "      <td>...</td>\n",
       "      <td>...</td>\n",
       "      <td>...</td>\n",
       "      <td>...</td>\n",
       "      <td>...</td>\n",
       "    </tr>\n",
       "    <tr>\n",
       "      <th>487</th>\n",
       "      <td>Who was the lead prosecutor for the soilder co...</td>\n",
       "      <td>Colonel Michael Mulligan</td>\n",
       "      <td></td>\n",
       "      <td>0</td>\n",
       "      <td>0.0</td>\n",
       "      <td>0.0</td>\n",
       "      <td>0.0</td>\n",
       "    </tr>\n",
       "    <tr>\n",
       "      <th>491</th>\n",
       "      <td>The actor of Professor Sprout in \"Harry Potter...</td>\n",
       "      <td>Fran</td>\n",
       "      <td></td>\n",
       "      <td>0</td>\n",
       "      <td>0.0</td>\n",
       "      <td>0.0</td>\n",
       "      <td>0.0</td>\n",
       "    </tr>\n",
       "    <tr>\n",
       "      <th>492</th>\n",
       "      <td>Which documentary Hacking Democracy or The Mem...</td>\n",
       "      <td>The Memory of Justice</td>\n",
       "      <td></td>\n",
       "      <td>0</td>\n",
       "      <td>0.0</td>\n",
       "      <td>0.0</td>\n",
       "      <td>0.0</td>\n",
       "    </tr>\n",
       "    <tr>\n",
       "      <th>493</th>\n",
       "      <td>what are the low sea stacks in the Shetland Is...</td>\n",
       "      <td>Ramna Stacks</td>\n",
       "      <td></td>\n",
       "      <td>0</td>\n",
       "      <td>0.0</td>\n",
       "      <td>0.0</td>\n",
       "      <td>0.0</td>\n",
       "    </tr>\n",
       "    <tr>\n",
       "      <th>499</th>\n",
       "      <td>The southernmost administrative region of Denm...</td>\n",
       "      <td>beer and soft drinks</td>\n",
       "      <td></td>\n",
       "      <td>0</td>\n",
       "      <td>0.0</td>\n",
       "      <td>0.0</td>\n",
       "      <td>0.0</td>\n",
       "    </tr>\n",
       "  </tbody>\n",
       "</table>\n",
       "<p>91 rows × 7 columns</p>\n",
       "</div>"
      ],
      "text/plain": [
       "                                              question  \\\n",
       "5    What animated movie, starring Danny Devito, fe...   \n",
       "11   In which film did Emilio Estevez star in in th...   \n",
       "20   Who is the fictional head of a British Secret ...   \n",
       "31   St. John's College, Belize offers an education...   \n",
       "38   What group did Carlene LeFevre and Rich LeFevr...   \n",
       "..                                                 ...   \n",
       "487  Who was the lead prosecutor for the soilder co...   \n",
       "491  The actor of Professor Sprout in \"Harry Potter...   \n",
       "492  Which documentary Hacking Democracy or The Mem...   \n",
       "493  what are the low sea stacks in the Shetland Is...   \n",
       "499  The southernmost administrative region of Denm...   \n",
       "\n",
       "                                       answer predicted_answer  EM  precision  \\\n",
       "5                                   The Lorax                    0        0.0   \n",
       "11                              The Outsiders                    0        0.0   \n",
       "20                                          Q                    0        0.0   \n",
       "31               Grammar, logic, and rhetoric                    0        0.0   \n",
       "38   the \"First Family of Competitive Eating\"                    0        0.0   \n",
       "..                                        ...              ...  ..        ...   \n",
       "487                  Colonel Michael Mulligan                    0        0.0   \n",
       "491                                      Fran                    0        0.0   \n",
       "492                     The Memory of Justice                    0        0.0   \n",
       "493                              Ramna Stacks                    0        0.0   \n",
       "499                      beer and soft drinks                    0        0.0   \n",
       "\n",
       "     recall   f1  \n",
       "5       0.0  0.0  \n",
       "11      0.0  0.0  \n",
       "20      0.0  0.0  \n",
       "31      0.0  0.0  \n",
       "38      0.0  0.0  \n",
       "..      ...  ...  \n",
       "487     0.0  0.0  \n",
       "491     0.0  0.0  \n",
       "492     0.0  0.0  \n",
       "493     0.0  0.0  \n",
       "499     0.0  0.0  \n",
       "\n",
       "[91 rows x 7 columns]"
      ]
     },
     "execution_count": 5,
     "metadata": {},
     "output_type": "execute_result"
    }
   ],
   "source": [
    "filtered_empty_df = df[\n",
    "    (df['predicted_answer'].isnull() | (df['predicted_answer'].str.strip() == ''))  # Condition for empty/null predicted_answer\n",
    "    & (df['EM'] == 0)  # Condition for EM == 0\n",
    "]\n",
    "filtered_empty_df"
   ]
  },
  {
   "cell_type": "markdown",
   "metadata": {},
   "source": [
    "## Max Step 5"
   ]
  },
  {
   "cell_type": "code",
   "execution_count": 6,
   "metadata": {},
   "outputs": [
    {
     "data": {
      "text/html": [
       "Finishing last run (ID:m7o9n8b1) before initializing another..."
      ],
      "text/plain": [
       "<IPython.core.display.HTML object>"
      ]
     },
     "metadata": {},
     "output_type": "display_data"
    },
    {
     "data": {
      "text/html": [
       " View run <strong style=\"color:#cdcd00\">lunar-pine-8</strong> at: <a href='https://wandb.ai/agential/agential-experiments_analysis/runs/m7o9n8b1' target=\"_blank\">https://wandb.ai/agential/agential-experiments_analysis/runs/m7o9n8b1</a><br/> View project at: <a href='https://wandb.ai/agential/agential-experiments_analysis' target=\"_blank\">https://wandb.ai/agential/agential-experiments_analysis</a><br/>Synced 4 W&B file(s), 0 media file(s), 3 artifact file(s) and 0 other file(s)"
      ],
      "text/plain": [
       "<IPython.core.display.HTML object>"
      ]
     },
     "metadata": {},
     "output_type": "display_data"
    },
    {
     "data": {
      "text/html": [
       "Find logs at: <code>./wandb/run-20240927_174249-m7o9n8b1/logs</code>"
      ],
      "text/plain": [
       "<IPython.core.display.HTML object>"
      ]
     },
     "metadata": {},
     "output_type": "display_data"
    },
    {
     "data": {
      "text/html": [
       "Successfully finished last run (ID:m7o9n8b1). Initializing new run:<br/>"
      ],
      "text/plain": [
       "<IPython.core.display.HTML object>"
      ]
     },
     "metadata": {},
     "output_type": "display_data"
    },
    {
     "data": {
      "text/html": [
       "Tracking run with wandb version 0.18.1"
      ],
      "text/plain": [
       "<IPython.core.display.HTML object>"
      ]
     },
     "metadata": {},
     "output_type": "display_data"
    },
    {
     "data": {
      "text/html": [
       "Run data is saved locally in <code>/Users/tedl/Desktop/agential/agential/experiments/analysis/wandb/run-20240927_174654-sbvvvkqr</code>"
      ],
      "text/plain": [
       "<IPython.core.display.HTML object>"
      ]
     },
     "metadata": {},
     "output_type": "display_data"
    },
    {
     "data": {
      "text/html": [
       "Syncing run <strong><a href='https://wandb.ai/agential/agential-experiments_analysis/runs/sbvvvkqr' target=\"_blank\">dauntless-microwave-9</a></strong> to <a href='https://wandb.ai/agential/agential-experiments_analysis' target=\"_blank\">Weights & Biases</a> (<a href='https://wandb.me/run' target=\"_blank\">docs</a>)<br/>"
      ],
      "text/plain": [
       "<IPython.core.display.HTML object>"
      ]
     },
     "metadata": {},
     "output_type": "display_data"
    },
    {
     "data": {
      "text/html": [
       " View project at <a href='https://wandb.ai/agential/agential-experiments_analysis' target=\"_blank\">https://wandb.ai/agential/agential-experiments_analysis</a>"
      ],
      "text/plain": [
       "<IPython.core.display.HTML object>"
      ]
     },
     "metadata": {},
     "output_type": "display_data"
    },
    {
     "data": {
      "text/html": [
       " View run at <a href='https://wandb.ai/agential/agential-experiments_analysis/runs/sbvvvkqr' target=\"_blank\">https://wandb.ai/agential/agential-experiments_analysis/runs/sbvvvkqr</a>"
      ],
      "text/plain": [
       "<IPython.core.display.HTML object>"
      ]
     },
     "metadata": {},
     "output_type": "display_data"
    },
    {
     "name": "stderr",
     "output_type": "stream",
     "text": [
      "\u001b[34m\u001b[1mwandb\u001b[0m:   1 of 1 files downloaded.  \n"
     ]
    }
   ],
   "source": [
    "import wandb\n",
    "run = wandb.init()\n",
    "artifact = run.use_artifact('agential/hotpotqa/run-9bz4tics-atomicsun44_eval:v0', type='run_table')\n",
    "artifact_dir = artifact.download()"
   ]
  },
  {
   "cell_type": "code",
   "execution_count": 7,
   "metadata": {},
   "outputs": [],
   "source": [
    "import json\n",
    "file_path= 'artifacts/run-9bz4tics-atomicsun44_eval:v0/atomic-sun-44_eval.table.json'\n",
    "# Open the file and load the JSON data\n",
    "with open(file_path, 'r') as file:\n",
    "    file_input = json.load(file)"
   ]
  },
  {
   "cell_type": "code",
   "execution_count": 8,
   "metadata": {},
   "outputs": [
    {
     "name": "stdout",
     "output_type": "stream",
     "text": [
      "                                              question                answer  \\\n",
      "0    What was Iqbal F. Qadir on when he participate...              flotilla   \n",
      "1    When did the park at which Tivolis Koncertsal ...        15 August 1843   \n",
      "2    What is the shared country of ancestry between...              Armenian   \n",
      "3    The school in which the Wilmslow Show is held ...  Centre of Excellence   \n",
      "4    Who will Billy Howle be seen opposite in the u...         Saoirse Ronan   \n",
      "..                                                 ...                   ...   \n",
      "495  To Catch a Predator was devoted to impersonati...          jurisdiction   \n",
      "496  Are Peter Balakian and James Der Derian both t...                   yes   \n",
      "497  What is the name of the Isles who were led by ...  Kingdom of the Isles   \n",
      "498  Martin Patterson \"Pat\" Hingle was a close frie...               Rawhide   \n",
      "499  The southernmost administrative region of Denm...  beer and soft drinks   \n",
      "\n",
      "                                      predicted_answer  EM  precision  recall  \\\n",
      "0                                             flotilla   1   1.000000     1.0   \n",
      "1                                       15 August 1843   1   1.000000     1.0   \n",
      "2                                              Armenia   0   0.000000     0.0   \n",
      "3                                                        0   0.000000     0.0   \n",
      "4                                                        0   0.000000     0.0   \n",
      "..                                                 ...  ..        ...     ...   \n",
      "495  age of consent varies by jurisdiction in North...   1   0.111111     1.0   \n",
      "496                                     Peter Balakian   0   0.000000     0.0   \n",
      "497                                            unknown   0   0.000000     0.0   \n",
      "498                                            Rawhide   1   1.000000     1.0   \n",
      "499                                                      0   0.000000     0.0   \n",
      "\n",
      "      f1  \n",
      "0    1.0  \n",
      "1    1.0  \n",
      "2    0.0  \n",
      "3    0.0  \n",
      "4    0.0  \n",
      "..   ...  \n",
      "495  0.2  \n",
      "496  0.0  \n",
      "497  0.0  \n",
      "498  1.0  \n",
      "499  0.0  \n",
      "\n",
      "[500 rows x 7 columns]\n"
     ]
    }
   ],
   "source": [
    "df = pd.DataFrame(file_input['data'])\n",
    "df.columns = file_input['columns']\n",
    "print(df)"
   ]
  },
  {
   "cell_type": "code",
   "execution_count": 9,
   "metadata": {},
   "outputs": [
    {
     "data": {
      "text/html": [
       "<div>\n",
       "<style scoped>\n",
       "    .dataframe tbody tr th:only-of-type {\n",
       "        vertical-align: middle;\n",
       "    }\n",
       "\n",
       "    .dataframe tbody tr th {\n",
       "        vertical-align: top;\n",
       "    }\n",
       "\n",
       "    .dataframe thead th {\n",
       "        text-align: right;\n",
       "    }\n",
       "</style>\n",
       "<table border=\"1\" class=\"dataframe\">\n",
       "  <thead>\n",
       "    <tr style=\"text-align: right;\">\n",
       "      <th></th>\n",
       "      <th>question</th>\n",
       "      <th>answer</th>\n",
       "      <th>predicted_answer</th>\n",
       "      <th>EM</th>\n",
       "      <th>precision</th>\n",
       "      <th>recall</th>\n",
       "      <th>f1</th>\n",
       "    </tr>\n",
       "  </thead>\n",
       "  <tbody>\n",
       "    <tr>\n",
       "      <th>3</th>\n",
       "      <td>The school in which the Wilmslow Show is held ...</td>\n",
       "      <td>Centre of Excellence</td>\n",
       "      <td></td>\n",
       "      <td>0</td>\n",
       "      <td>0.0</td>\n",
       "      <td>0.0</td>\n",
       "      <td>0.0</td>\n",
       "    </tr>\n",
       "    <tr>\n",
       "      <th>4</th>\n",
       "      <td>Who will Billy Howle be seen opposite in the u...</td>\n",
       "      <td>Saoirse Ronan</td>\n",
       "      <td></td>\n",
       "      <td>0</td>\n",
       "      <td>0.0</td>\n",
       "      <td>0.0</td>\n",
       "      <td>0.0</td>\n",
       "    </tr>\n",
       "    <tr>\n",
       "      <th>5</th>\n",
       "      <td>What animated movie, starring Danny Devito, fe...</td>\n",
       "      <td>The Lorax</td>\n",
       "      <td></td>\n",
       "      <td>0</td>\n",
       "      <td>0.0</td>\n",
       "      <td>0.0</td>\n",
       "      <td>0.0</td>\n",
       "    </tr>\n",
       "    <tr>\n",
       "      <th>6</th>\n",
       "      <td>Out of the actors who have played the role of ...</td>\n",
       "      <td>Scott Adkins</td>\n",
       "      <td></td>\n",
       "      <td>0</td>\n",
       "      <td>0.0</td>\n",
       "      <td>0.0</td>\n",
       "      <td>0.0</td>\n",
       "    </tr>\n",
       "    <tr>\n",
       "      <th>12</th>\n",
       "      <td>What was the concept of the business Eric S .P...</td>\n",
       "      <td>to ensure wide visibility and understanding of...</td>\n",
       "      <td></td>\n",
       "      <td>0</td>\n",
       "      <td>0.0</td>\n",
       "      <td>0.0</td>\n",
       "      <td>0.0</td>\n",
       "    </tr>\n",
       "    <tr>\n",
       "      <th>...</th>\n",
       "      <td>...</td>\n",
       "      <td>...</td>\n",
       "      <td>...</td>\n",
       "      <td>...</td>\n",
       "      <td>...</td>\n",
       "      <td>...</td>\n",
       "      <td>...</td>\n",
       "    </tr>\n",
       "    <tr>\n",
       "      <th>487</th>\n",
       "      <td>Who was the lead prosecutor for the soilder co...</td>\n",
       "      <td>Colonel Michael Mulligan</td>\n",
       "      <td></td>\n",
       "      <td>0</td>\n",
       "      <td>0.0</td>\n",
       "      <td>0.0</td>\n",
       "      <td>0.0</td>\n",
       "    </tr>\n",
       "    <tr>\n",
       "      <th>488</th>\n",
       "      <td>Brad Elterman is a professional photographer w...</td>\n",
       "      <td>its eclectic mix of musical styles</td>\n",
       "      <td></td>\n",
       "      <td>0</td>\n",
       "      <td>0.0</td>\n",
       "      <td>0.0</td>\n",
       "      <td>0.0</td>\n",
       "    </tr>\n",
       "    <tr>\n",
       "      <th>489</th>\n",
       "      <td>In which year was this American figure skater,...</td>\n",
       "      <td>1997</td>\n",
       "      <td></td>\n",
       "      <td>0</td>\n",
       "      <td>0.0</td>\n",
       "      <td>0.0</td>\n",
       "      <td>0.0</td>\n",
       "    </tr>\n",
       "    <tr>\n",
       "      <th>491</th>\n",
       "      <td>The actor of Professor Sprout in \"Harry Potter...</td>\n",
       "      <td>Fran</td>\n",
       "      <td></td>\n",
       "      <td>0</td>\n",
       "      <td>0.0</td>\n",
       "      <td>0.0</td>\n",
       "      <td>0.0</td>\n",
       "    </tr>\n",
       "    <tr>\n",
       "      <th>499</th>\n",
       "      <td>The southernmost administrative region of Denm...</td>\n",
       "      <td>beer and soft drinks</td>\n",
       "      <td></td>\n",
       "      <td>0</td>\n",
       "      <td>0.0</td>\n",
       "      <td>0.0</td>\n",
       "      <td>0.0</td>\n",
       "    </tr>\n",
       "  </tbody>\n",
       "</table>\n",
       "<p>147 rows × 7 columns</p>\n",
       "</div>"
      ],
      "text/plain": [
       "                                              question  \\\n",
       "3    The school in which the Wilmslow Show is held ...   \n",
       "4    Who will Billy Howle be seen opposite in the u...   \n",
       "5    What animated movie, starring Danny Devito, fe...   \n",
       "6    Out of the actors who have played the role of ...   \n",
       "12   What was the concept of the business Eric S .P...   \n",
       "..                                                 ...   \n",
       "487  Who was the lead prosecutor for the soilder co...   \n",
       "488  Brad Elterman is a professional photographer w...   \n",
       "489  In which year was this American figure skater,...   \n",
       "491  The actor of Professor Sprout in \"Harry Potter...   \n",
       "499  The southernmost administrative region of Denm...   \n",
       "\n",
       "                                                answer predicted_answer  EM  \\\n",
       "3                                 Centre of Excellence                    0   \n",
       "4                                        Saoirse Ronan                    0   \n",
       "5                                            The Lorax                    0   \n",
       "6                                         Scott Adkins                    0   \n",
       "12   to ensure wide visibility and understanding of...                    0   \n",
       "..                                                 ...              ...  ..   \n",
       "487                           Colonel Michael Mulligan                    0   \n",
       "488                 its eclectic mix of musical styles                    0   \n",
       "489                                               1997                    0   \n",
       "491                                               Fran                    0   \n",
       "499                               beer and soft drinks                    0   \n",
       "\n",
       "     precision  recall   f1  \n",
       "3          0.0     0.0  0.0  \n",
       "4          0.0     0.0  0.0  \n",
       "5          0.0     0.0  0.0  \n",
       "6          0.0     0.0  0.0  \n",
       "12         0.0     0.0  0.0  \n",
       "..         ...     ...  ...  \n",
       "487        0.0     0.0  0.0  \n",
       "488        0.0     0.0  0.0  \n",
       "489        0.0     0.0  0.0  \n",
       "491        0.0     0.0  0.0  \n",
       "499        0.0     0.0  0.0  \n",
       "\n",
       "[147 rows x 7 columns]"
      ]
     },
     "execution_count": 9,
     "metadata": {},
     "output_type": "execute_result"
    }
   ],
   "source": [
    "filtered_empty_df = df[\n",
    "    (df['predicted_answer'].isnull() | (df['predicted_answer'].str.strip() == ''))  # Condition for empty/null predicted_answer\n",
    "    & (df['EM'] == 0)  # Condition for EM == 0\n",
    "]\n",
    "filtered_empty_df"
   ]
  },
  {
   "cell_type": "code",
   "execution_count": null,
   "metadata": {},
   "outputs": [],
   "source": []
  },
  {
   "cell_type": "markdown",
   "metadata": {},
   "source": [
    "# Max step 6 "
   ]
  },
  {
   "cell_type": "markdown",
   "metadata": {},
   "source": []
  }
 ],
 "metadata": {
  "kernelspec": {
   "display_name": "agential",
   "language": "python",
   "name": "python3"
  },
  "language_info": {
   "codemirror_mode": {
    "name": "ipython",
    "version": 3
   },
   "file_extension": ".py",
   "mimetype": "text/x-python",
   "name": "python",
   "nbconvert_exporter": "python",
   "pygments_lexer": "ipython3",
   "version": "3.11.5"
  }
 },
 "nbformat": 4,
 "nbformat_minor": 2
}
