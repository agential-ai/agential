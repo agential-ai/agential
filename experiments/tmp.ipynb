{
 "cells": [
  {
   "cell_type": "code",
   "execution_count": 26,
   "metadata": {},
   "outputs": [
    {
     "data": {
      "text/html": [
       "Finishing last run (ID:mqdw163q) before initializing another..."
      ],
      "text/plain": [
       "<IPython.core.display.HTML object>"
      ]
     },
     "metadata": {},
     "output_type": "display_data"
    },
    {
     "data": {
      "text/html": [
       " View run <strong style=\"color:#cdcd00\">dark-plasma-1</strong> at: <a href='https://wandb.ai/chuongn194-uc-san-diego/agential-experiments/runs/mqdw163q' target=\"_blank\">https://wandb.ai/chuongn194-uc-san-diego/agential-experiments/runs/mqdw163q</a><br/> View project at: <a href='https://wandb.ai/chuongn194-uc-san-diego/agential-experiments' target=\"_blank\">https://wandb.ai/chuongn194-uc-san-diego/agential-experiments</a><br/>Synced 3 W&B file(s), 0 media file(s), 0 artifact file(s) and 0 other file(s)"
      ],
      "text/plain": [
       "<IPython.core.display.HTML object>"
      ]
     },
     "metadata": {},
     "output_type": "display_data"
    },
    {
     "data": {
      "text/html": [
       "Find logs at: <code>./wandb/run-20241217_115443-mqdw163q/logs</code>"
      ],
      "text/plain": [
       "<IPython.core.display.HTML object>"
      ]
     },
     "metadata": {},
     "output_type": "display_data"
    },
    {
     "data": {
      "text/html": [
       "wandb version 0.19.1 is available!  To upgrade, please run:\n",
       " $ pip install wandb --upgrade"
      ],
      "text/plain": [
       "<IPython.core.display.HTML object>"
      ]
     },
     "metadata": {},
     "output_type": "display_data"
    },
    {
     "data": {
      "text/html": [
       "The new W&B backend becomes opt-out in version 0.18.0; try it out with `wandb.require(\"core\")`! See https://wandb.me/wandb-core for more information."
      ],
      "text/plain": [
       "<IPython.core.display.HTML object>"
      ]
     },
     "metadata": {},
     "output_type": "display_data"
    },
    {
     "data": {
      "text/html": [
       "Successfully finished last run (ID:mqdw163q). Initializing new run:<br/>"
      ],
      "text/plain": [
       "<IPython.core.display.HTML object>"
      ]
     },
     "metadata": {},
     "output_type": "display_data"
    },
    {
     "data": {
      "text/html": [
       "Tracking run with wandb version 0.17.9"
      ],
      "text/plain": [
       "<IPython.core.display.HTML object>"
      ]
     },
     "metadata": {},
     "output_type": "display_data"
    },
    {
     "data": {
      "text/html": [
       "Run data is saved locally in <code>/Users/chuongnguyen/Desktop/LLM Project/Agential/agential/experiments/wandb/run-20241217_122942-ql07hbkh</code>"
      ],
      "text/plain": [
       "<IPython.core.display.HTML object>"
      ]
     },
     "metadata": {},
     "output_type": "display_data"
    },
    {
     "data": {
      "text/html": [
       "Syncing run <strong><a href='https://wandb.ai/chuongn194-uc-san-diego/agential-experiments/runs/ql07hbkh' target=\"_blank\">breezy-bird-2</a></strong> to <a href='https://wandb.ai/chuongn194-uc-san-diego/agential-experiments' target=\"_blank\">Weights & Biases</a> (<a href='https://wandb.me/run' target=\"_blank\">docs</a>)<br/>"
      ],
      "text/plain": [
       "<IPython.core.display.HTML object>"
      ]
     },
     "metadata": {},
     "output_type": "display_data"
    },
    {
     "data": {
      "text/html": [
       " View project at <a href='https://wandb.ai/chuongn194-uc-san-diego/agential-experiments' target=\"_blank\">https://wandb.ai/chuongn194-uc-san-diego/agential-experiments</a>"
      ],
      "text/plain": [
       "<IPython.core.display.HTML object>"
      ]
     },
     "metadata": {},
     "output_type": "display_data"
    },
    {
     "data": {
      "text/html": [
       " View run at <a href='https://wandb.ai/chuongn194-uc-san-diego/agential-experiments/runs/ql07hbkh' target=\"_blank\">https://wandb.ai/chuongn194-uc-san-diego/agential-experiments/runs/ql07hbkh</a>"
      ],
      "text/plain": [
       "<IPython.core.display.HTML object>"
      ]
     },
     "metadata": {},
     "output_type": "display_data"
    },
    {
     "name": "stderr",
     "output_type": "stream",
     "text": [
      "\u001b[34m\u001b[1mwandb\u001b[0m:   1 of 1 files downloaded.  \n"
     ]
    },
    {
     "name": "stderr",
     "output_type": "stream",
     "text": [
      "\u001b[34m\u001b[1mwandb\u001b[0m: Network error resolved after 0:01:35.788788, resuming normal operation.\n",
      "\u001b[34m\u001b[1mwandb\u001b[0m: Network error resolved after 0:00:37.991868, resuming normal operation.\n",
      "\u001b[34m\u001b[1mwandb\u001b[0m: Network error resolved after 0:02:54.719881, resuming normal operation.\n",
      "\u001b[34m\u001b[1mwandb\u001b[0m: Network error resolved after 0:01:28.044572, resuming normal operation.\n",
      "\u001b[34m\u001b[1mwandb\u001b[0m: Network error resolved after 1:24:39.343184, resuming normal operation.\n",
      "\u001b[34m\u001b[1mwandb\u001b[0m: Network error resolved after 0:10:39.104706, resuming normal operation.\n"
     ]
    }
   ],
   "source": [
    "import wandb\n",
    "run = wandb.init()\n",
    "artifact = run.use_artifact('agential/hotpotqa/run-d3ayohbn-breezysun3_eval:v0', type='run_table')\n",
    "artifact_dir = artifact.download()"
   ]
  },
  {
   "cell_type": "code",
   "execution_count": 28,
   "metadata": {},
   "outputs": [],
   "source": [
    "import pickle\n",
    "\n",
    "with open('artifacts/breezy-sun-3:v0/outputs.pkl', 'rb') as file :\n",
    "    data = pickle.load(file)"
   ]
  },
  {
   "cell_type": "code",
   "execution_count": 29,
   "metadata": {},
   "outputs": [],
   "source": [
    "import json\n",
    "\n",
    "with open('artifacts/run-d3ayohbn-breezysun3_eval:v0/breezy-sun-3_eval.table.json', 'r') as file :\n",
    "    eval_table = json.load(file)"
   ]
  },
  {
   "cell_type": "code",
   "execution_count": 38,
   "metadata": {},
   "outputs": [],
   "source": [
    "import pandas as pd\n",
    "eval_dataframe = pd.DataFrame(eval_table['data'], columns=eval_table['columns'])"
   ]
  },
  {
   "cell_type": "code",
   "execution_count": 43,
   "metadata": {},
   "outputs": [
    {
     "name": "stdout",
     "output_type": "stream",
     "text": [
      "Robert Allen \"Bob\" Case is best known for inspiring the naming of which initial area of low pressure developed off Atlantic Canada on October 29? \n"
     ]
    }
   ],
   "source": [
    "print(eval_dataframe.iloc[30]['question'])"
   ]
  },
  {
   "cell_type": "code",
   "execution_count": 44,
   "metadata": {},
   "outputs": [
    {
     "name": "stdout",
     "output_type": "stream",
     "text": [
      "1991 Perfect Storm\n"
     ]
    }
   ],
   "source": [
    "print(eval_dataframe.iloc[30]['answer'])"
   ]
  },
  {
   "cell_type": "code",
   "execution_count": 45,
   "metadata": {},
   "outputs": [
    {
     "name": "stdout",
     "output_type": "stream",
     "text": [
      "The connection between Robert Allen \"Bob\" Case and the naming of the area of low pressure developed off Atlantic Canada on October 29 is not definitively supported by available evidence. Further research is needed to determine the accurate answer to this question\n"
     ]
    }
   ],
   "source": [
    "print(eval_dataframe.iloc[30]['predicted_answer'])"
   ]
  },
  {
   "cell_type": "code",
   "execution_count": 8,
   "metadata": {},
   "outputs": [
    {
     "name": "stdout",
     "output_type": "stream",
     "text": [
      "<class 'agential.prompting.self_refine.output.SelfRefineOutput'>\n"
     ]
    }
   ],
   "source": [
    "print(type(eval_table[0]))"
   ]
  },
  {
   "cell_type": "code",
   "execution_count": 46,
   "metadata": {},
   "outputs": [
    {
     "name": "stdout",
     "output_type": "stream",
     "text": [
      "<class 'agential.prompting.self_refine.output.SelfRefineOutput'>\n"
     ]
    }
   ],
   "source": [
    "print(type(data[0]))"
   ]
  },
  {
   "cell_type": "code",
   "execution_count": 48,
   "metadata": {},
   "outputs": [
    {
     "name": "stdout",
     "output_type": "stream",
     "text": [
      "Boat\n"
     ]
    }
   ],
   "source": [
    "print(data[0].additional_info[0].answer)"
   ]
  },
  {
   "cell_type": "code",
   "execution_count": 90,
   "metadata": {},
   "outputs": [],
   "source": [
    "current_question = 2"
   ]
  },
  {
   "cell_type": "code",
   "execution_count": 91,
   "metadata": {},
   "outputs": [
    {
     "name": "stdout",
     "output_type": "stream",
     "text": [
      "Critique INPUT-----------------------\n",
      "Q: What is the elevation range for the area that the eastern sector of the Colorado orogeny extends into?\n",
      "A: 1,800 to 7,000 ft\n",
      "\n",
      "What's the problem with the above answer?\n",
      "\n",
      "1. Plausibility:\n",
      "\n",
      "The question asks for the elevation range, and the answer provides \"1,800 to 7,000 ft\", which fits the expected format and seems plausible.\n",
      "\n",
      "2. Truthfulness:\n",
      "\n",
      "Let's search the question in google:\n",
      "> Search Query: What is the elevation range for the area that the eastern sector of the Colorado orogeny extends into? site: wikipedia.org\n",
      "> Evidence: [Colorado orogeny - Wikipedia] The eastern sector of the Colorado orogeny extends into regions that have elevations ranging from approximately 1,800 ft to 7,000 ft.\n",
      "\n",
      "The evidence confirms that the eastern sector of the Colorado orogeny extends into regions with elevations ranging from 1,800 ft to 7,000 ft. Thus, the proposed answer is correct and truthful.\n",
      "\n",
      "Let's search the proposed answer in google:\n",
      "> Search Query: Elevation range for the area that the eastern sector of the Colorado orogeny extends into 1,800 to 7,000 ft site:wikipedia.org\n",
      "> Evidence: [Colorado orogeny - Wikipedia] The eastern sector of the Colorado orogeny extends into regions that have elevations ranging from approximately 1,800 ft to 7,000 ft.\n",
      "\n",
      "The evidence supports the proposed answer, confirming that it correctly identifies the elevation range.\n",
      "\n",
      "Above all, the proposed answer correctly identifies the elevation range for the area that the eastern sector of the Colorado orogeny extends into. However, the explanation can be improved for clarity.\n",
      "\n",
      "---\n",
      "\n",
      "Q: Musician and satirist Allie Goertz wrote a song about the \"The Simpsons\" character Milhouse, who Matt Groening named after who?\n",
      "A: Richard Nixon\n",
      "\n",
      "1. Plausibility:\n",
      "\n",
      "The answer should provide the person after whom the character Milhouse was named. The proposed answer states \"Richard Nixon,\" which fits the expected format and seems plausible.\n",
      "\n",
      "2. Truthfulness:\n",
      "\n",
      "Let's search the question in google:\n",
      "> Search Query: \"The Simpsons\" character Milhouse named after who? site: wikipedia.org\n",
      "> Evidence: [Milhouse Van Houten - Wikipedia] The character Milhouse was named after U.S. President Richard Nixon, whose middle name was Milhous.\n",
      "\n",
      "The evidence confirms that Milhouse was indeed named after Richard Nixon, whose middle name was Milhous. Thus, the proposed answer is correct and truthful.\n",
      "\n",
      "Let's search the proposed answer in google:\n",
      "> Search Query: Milhouse character named after Richard Nixon site: wikipedia.org\n",
      "> Evidence: [Milhouse Van Houten - Wikipedia] The character Milhouse was named after U.S. President Richard Nixon, whose middle name was Milhous.\n",
      "\n",
      "The evidence supports the proposed answer, confirming that it correctly identifies the person after whom Milhouse was named.\n",
      "\n",
      "Above all, the proposed answer correctly identifies that Milhouse was named after Richard Nixon. However, the explanation can be improved for clarity.\n",
      "\n",
      "---\n",
      "\n",
      "Q: Which documentary is about Finnish rock groups, Adam Clayton Powell or The Saimaa Gesture?\n",
      "A: The Saimaa Gesture\n",
      "\n",
      "What's the problem with the above answer?\n",
      "\n",
      "1. Plausibility:\n",
      "\n",
      "The question asks for the name of a documentary about Finnish rock groups, and the answer is \"The Saimaa Gesture,\" which sounds plausible given the context.\n",
      "\n",
      "2. Truthfulness:\n",
      "\n",
      "Let's search for information about \"The Saimaa Gesture\":\n",
      "> Search Query: The Saimaa Gesture documentary site: wikipedia.org\n",
      "> Evidence: [The Saimaa Gesture - Wikipedia] The Saimaa Gesture is a 1981 documentary film about three Finnish rock groups on a tour around Lake Saimaa.\n",
      "\n",
      "The evidence confirms that The Saimaa Gesture is indeed a documentary about Finnish rock groups, as stated in the proposed answer.\n",
      "\n",
      "Let's search for information about \"Adam Clayton Powell\":\n",
      "> Search Query: Adam Clayton Powell documentary site: wikipedia.org\n",
      "> Evidence: [Adam Clayton Powell - Wikipedia] Adam Clayton Powell Jr. was an American Baptist pastor and politician who represented Harlem, New York City, in the United States House of Representatives.\n",
      "\n",
      "The evidence shows that Adam Clayton Powell is not related to Finnish rock groups, supporting the correctness of the proposed answer.\n",
      "\n",
      "Above all, the proposed answer correctly identifies that The Saimaa Gesture is the documentary about Finnish rock groups. However, the explanation can be improved for clarity.\n",
      "\n",
      "---\n",
      "\n",
      "Q: What profession does Nicholas Ray and Elia Kazan have in common?\n",
      "A: director, screenwriter, actor\n",
      "\n",
      "What's the problem with the above answer?\n",
      "\n",
      "1. Plausibility:\n",
      "The question asks for the profession that Nicholas Ray and Elia Kazan have in common. The proposed answer lists multiple professions without clarifying if they both held all those professions. So, it's not precise.\n",
      "\n",
      "2. Truthfulness:\n",
      "Let's search for the professions of Nicholas Ray and Elia Kazan.\n",
      "\n",
      "> Search Query: Nicholas Ray profession site.org\n",
      "> Evidence: [Nicholas Ray - Wikipedia] Nicholas Ray was an American film director and screenwriter, best known for the movie \"Rebel Without a Cause\".\n",
      "\n",
      "The evidence suggests that Nicholas Ray was a director and screenwriter.\n",
      "\n",
      "> Search Query: Elia Kazan profession site.org\n",
      "> Evidence: [Elia Kazan - Wikipedia] Elia Kazan was a Greek-American director, producer, writer, and actor. He is noted for his work on Broadway and in Hollywood.\n",
      "\n",
      "The evidence suggests that Elia Kazan was a director, writer, and actor.\n",
      "\n",
      "The proposed answer correctly identifies the professions of both individuals but does not specify which profession they have in common.\n",
      "\n",
      "---\n",
      "\n",
      "Q: Which magazine was started first Arthur's Magazine or First for Women?\n",
      "A: Arthur's Magazine\n",
      "\n",
      "What's the problem with the above answer?\n",
      "\n",
      "1. Plausibility:\n",
      "\n",
      "The answer should be chosen between \"Arthur's Magazine\" and \"First for Women,\" and the answer is \"First for Women,\" so it seems plausible.\n",
      "\n",
      "2. Truthfulness:\n",
      "\n",
      "Let's search the question in google:\n",
      "\n",
      "> Search Query: Arthur's Magazine first publication date\n",
      "> Evidence: [Arthur's Magazine - Wikipedia] Arthur's Magazine was first published in 1844.\n",
      "\n",
      "The evidence shows that Arthur's Magazine was first published in 1844.\n",
      "\n",
      "> Search Query: First for Women first publication date\n",
      "> Evidence: [First for Women - Wikipedia] First for Women was first published in 1989.\n",
      "\n",
      "The evidence shows that First for Women was indeed first published in 1989.\n",
      "\n",
      "The proposed answer gives the wrong dates of publication for Arthur's Magazine. The final answer \"Arthur's Magazine\" is correct since 1844 < 1989.\n",
      "(END OF EXAMPLES)\n",
      "\n",
      "Question: What is the shared country of ancestry between Art Laboe and Scout Tufankjian?\n",
      "Proposed Answer: Armenia\n",
      "\n",
      "What's the problem with the above answer?\n",
      "\n",
      "1. Plausibility:\n",
      "\n",
      "\n",
      "\n",
      "Critique OUTPUT-----------------------\n",
      "The answer \"Armenia\" seems plausible as both Art Laboe and Scout Tufankjian could potentially have Armenian ancestry.\n",
      "\n",
      "2. Truthfulness:\n",
      "\n",
      "Let's search for information about the ancestry of Art Laboe and Scout Tufankjian.\n",
      "\n",
      "> Search Query: Art Laboe ancestry\n",
      "> Evidence: There is no clear information readily available about the ancestry of Art Laboe.\n",
      "\n",
      "> Search Query: Scout Tufankjian ancestry\n",
      "> Evidence: [Scout Tufankjian - Wikipedia] Scout Tufankjian is an Armenian-American photojournalist.\n",
      "\n",
      "The evidence confirms that Scout Tufankjian is of Armenian ancestry. However, without clear information about Art Laboe's ancestry, it cannot be definitively stated that they share Armenian ancestry. The proposed answer may be correct, but it lacks concrete evidence to support it.\n",
      "\n",
      "Critique INPUT-----------------------\n",
      "Q: What is the elevation range for the area that the eastern sector of the Colorado orogeny extends into?\n",
      "A: 1,800 to 7,000 ft\n",
      "\n",
      "What's the problem with the above answer?\n",
      "\n",
      "1. Plausibility:\n",
      "\n",
      "The question asks for the elevation range, and the answer provides \"1,800 to 7,000 ft\", which fits the expected format and seems plausible.\n",
      "\n",
      "2. Truthfulness:\n",
      "\n",
      "Let's search the question in google:\n",
      "> Search Query: What is the elevation range for the area that the eastern sector of the Colorado orogeny extends into? site: wikipedia.org\n",
      "> Evidence: [Colorado orogeny - Wikipedia] The eastern sector of the Colorado orogeny extends into regions that have elevations ranging from approximately 1,800 ft to 7,000 ft.\n",
      "\n",
      "The evidence confirms that the eastern sector of the Colorado orogeny extends into regions with elevations ranging from 1,800 ft to 7,000 ft. Thus, the proposed answer is correct and truthful.\n",
      "\n",
      "Let's search the proposed answer in google:\n",
      "> Search Query: Elevation range for the area that the eastern sector of the Colorado orogeny extends into 1,800 to 7,000 ft site:wikipedia.org\n",
      "> Evidence: [Colorado orogeny - Wikipedia] The eastern sector of the Colorado orogeny extends into regions that have elevations ranging from approximately 1,800 ft to 7,000 ft.\n",
      "\n",
      "The evidence supports the proposed answer, confirming that it correctly identifies the elevation range.\n",
      "\n",
      "Above all, the proposed answer correctly identifies the elevation range for the area that the eastern sector of the Colorado orogeny extends into. However, the explanation can be improved for clarity.\n",
      "\n",
      "---\n",
      "\n",
      "Q: Musician and satirist Allie Goertz wrote a song about the \"The Simpsons\" character Milhouse, who Matt Groening named after who?\n",
      "A: Richard Nixon\n",
      "\n",
      "1. Plausibility:\n",
      "\n",
      "The answer should provide the person after whom the character Milhouse was named. The proposed answer states \"Richard Nixon,\" which fits the expected format and seems plausible.\n",
      "\n",
      "2. Truthfulness:\n",
      "\n",
      "Let's search the question in google:\n",
      "> Search Query: \"The Simpsons\" character Milhouse named after who? site: wikipedia.org\n",
      "> Evidence: [Milhouse Van Houten - Wikipedia] The character Milhouse was named after U.S. President Richard Nixon, whose middle name was Milhous.\n",
      "\n",
      "The evidence confirms that Milhouse was indeed named after Richard Nixon, whose middle name was Milhous. Thus, the proposed answer is correct and truthful.\n",
      "\n",
      "Let's search the proposed answer in google:\n",
      "> Search Query: Milhouse character named after Richard Nixon site: wikipedia.org\n",
      "> Evidence: [Milhouse Van Houten - Wikipedia] The character Milhouse was named after U.S. President Richard Nixon, whose middle name was Milhous.\n",
      "\n",
      "The evidence supports the proposed answer, confirming that it correctly identifies the person after whom Milhouse was named.\n",
      "\n",
      "Above all, the proposed answer correctly identifies that Milhouse was named after Richard Nixon. However, the explanation can be improved for clarity.\n",
      "\n",
      "---\n",
      "\n",
      "Q: Which documentary is about Finnish rock groups, Adam Clayton Powell or The Saimaa Gesture?\n",
      "A: The Saimaa Gesture\n",
      "\n",
      "What's the problem with the above answer?\n",
      "\n",
      "1. Plausibility:\n",
      "\n",
      "The question asks for the name of a documentary about Finnish rock groups, and the answer is \"The Saimaa Gesture,\" which sounds plausible given the context.\n",
      "\n",
      "2. Truthfulness:\n",
      "\n",
      "Let's search for information about \"The Saimaa Gesture\":\n",
      "> Search Query: The Saimaa Gesture documentary site: wikipedia.org\n",
      "> Evidence: [The Saimaa Gesture - Wikipedia] The Saimaa Gesture is a 1981 documentary film about three Finnish rock groups on a tour around Lake Saimaa.\n",
      "\n",
      "The evidence confirms that The Saimaa Gesture is indeed a documentary about Finnish rock groups, as stated in the proposed answer.\n",
      "\n",
      "Let's search for information about \"Adam Clayton Powell\":\n",
      "> Search Query: Adam Clayton Powell documentary site: wikipedia.org\n",
      "> Evidence: [Adam Clayton Powell - Wikipedia] Adam Clayton Powell Jr. was an American Baptist pastor and politician who represented Harlem, New York City, in the United States House of Representatives.\n",
      "\n",
      "The evidence shows that Adam Clayton Powell is not related to Finnish rock groups, supporting the correctness of the proposed answer.\n",
      "\n",
      "Above all, the proposed answer correctly identifies that The Saimaa Gesture is the documentary about Finnish rock groups. However, the explanation can be improved for clarity.\n",
      "\n",
      "---\n",
      "\n",
      "Q: What profession does Nicholas Ray and Elia Kazan have in common?\n",
      "A: director, screenwriter, actor\n",
      "\n",
      "What's the problem with the above answer?\n",
      "\n",
      "1. Plausibility:\n",
      "The question asks for the profession that Nicholas Ray and Elia Kazan have in common. The proposed answer lists multiple professions without clarifying if they both held all those professions. So, it's not precise.\n",
      "\n",
      "2. Truthfulness:\n",
      "Let's search for the professions of Nicholas Ray and Elia Kazan.\n",
      "\n",
      "> Search Query: Nicholas Ray profession site.org\n",
      "> Evidence: [Nicholas Ray - Wikipedia] Nicholas Ray was an American film director and screenwriter, best known for the movie \"Rebel Without a Cause\".\n",
      "\n",
      "The evidence suggests that Nicholas Ray was a director and screenwriter.\n",
      "\n",
      "> Search Query: Elia Kazan profession site.org\n",
      "> Evidence: [Elia Kazan - Wikipedia] Elia Kazan was a Greek-American director, producer, writer, and actor. He is noted for his work on Broadway and in Hollywood.\n",
      "\n",
      "The evidence suggests that Elia Kazan was a director, writer, and actor.\n",
      "\n",
      "The proposed answer correctly identifies the professions of both individuals but does not specify which profession they have in common.\n",
      "\n",
      "---\n",
      "\n",
      "Q: Which magazine was started first Arthur's Magazine or First for Women?\n",
      "A: Arthur's Magazine\n",
      "\n",
      "What's the problem with the above answer?\n",
      "\n",
      "1. Plausibility:\n",
      "\n",
      "The answer should be chosen between \"Arthur's Magazine\" and \"First for Women,\" and the answer is \"First for Women,\" so it seems plausible.\n",
      "\n",
      "2. Truthfulness:\n",
      "\n",
      "Let's search the question in google:\n",
      "\n",
      "> Search Query: Arthur's Magazine first publication date\n",
      "> Evidence: [Arthur's Magazine - Wikipedia] Arthur's Magazine was first published in 1844.\n",
      "\n",
      "The evidence shows that Arthur's Magazine was first published in 1844.\n",
      "\n",
      "> Search Query: First for Women first publication date\n",
      "> Evidence: [First for Women - Wikipedia] First for Women was first published in 1989.\n",
      "\n",
      "The evidence shows that First for Women was indeed first published in 1989.\n",
      "\n",
      "The proposed answer gives the wrong dates of publication for Arthur's Magazine. The final answer \"Arthur's Magazine\" is correct since 1844 < 1989.\n",
      "(END OF EXAMPLES)\n",
      "\n",
      "Question: What is the shared country of ancestry between Art Laboe and Scout Tufankjian?\n",
      "Proposed Answer: Let's think step by step. Scout Tufankjian is of Armenian ancestry. However, there is no clear information available about Art Laboe's ancestry. Without concrete evidence, we cannot definitively state that they share Armenian ancestry. So, the answer remains uncertain\n",
      "\n",
      "What's the problem with the above answer?\n",
      "\n",
      "1. Plausibility:\n",
      "\n",
      "\n",
      "\n",
      "Critique OUTPUT-----------------------\n",
      "The answer states that there is no clear information available about Art Laboe's ancestry, which may seem plausible at first glance.\n",
      "\n",
      "2. Truthfulness:\n",
      "\n",
      "Let's search for information about Art Laboe's ancestry:\n",
      "\n",
      "> Search Query: Art Laboe ancestry\n",
      "> Evidence: There is no clear information readily available about Art Laboe's ancestry.\n",
      "\n",
      "Since there is no concrete evidence available about Art Laboe's ancestry, the answer provided is accurate in stating that there is uncertainty about whether they share Armenian ancestry.\n",
      "\n",
      "Overall, the answer is truthful and accurately reflects the lack of available information on Art Laboe's ancestry.\n",
      "\n",
      "Critique INPUT-----------------------\n",
      "Q: What is the elevation range for the area that the eastern sector of the Colorado orogeny extends into?\n",
      "A: 1,800 to 7,000 ft\n",
      "\n",
      "What's the problem with the above answer?\n",
      "\n",
      "1. Plausibility:\n",
      "\n",
      "The question asks for the elevation range, and the answer provides \"1,800 to 7,000 ft\", which fits the expected format and seems plausible.\n",
      "\n",
      "2. Truthfulness:\n",
      "\n",
      "Let's search the question in google:\n",
      "> Search Query: What is the elevation range for the area that the eastern sector of the Colorado orogeny extends into? site: wikipedia.org\n",
      "> Evidence: [Colorado orogeny - Wikipedia] The eastern sector of the Colorado orogeny extends into regions that have elevations ranging from approximately 1,800 ft to 7,000 ft.\n",
      "\n",
      "The evidence confirms that the eastern sector of the Colorado orogeny extends into regions with elevations ranging from 1,800 ft to 7,000 ft. Thus, the proposed answer is correct and truthful.\n",
      "\n",
      "Let's search the proposed answer in google:\n",
      "> Search Query: Elevation range for the area that the eastern sector of the Colorado orogeny extends into 1,800 to 7,000 ft site:wikipedia.org\n",
      "> Evidence: [Colorado orogeny - Wikipedia] The eastern sector of the Colorado orogeny extends into regions that have elevations ranging from approximately 1,800 ft to 7,000 ft.\n",
      "\n",
      "The evidence supports the proposed answer, confirming that it correctly identifies the elevation range.\n",
      "\n",
      "Above all, the proposed answer correctly identifies the elevation range for the area that the eastern sector of the Colorado orogeny extends into. However, the explanation can be improved for clarity.\n",
      "\n",
      "---\n",
      "\n",
      "Q: Musician and satirist Allie Goertz wrote a song about the \"The Simpsons\" character Milhouse, who Matt Groening named after who?\n",
      "A: Richard Nixon\n",
      "\n",
      "1. Plausibility:\n",
      "\n",
      "The answer should provide the person after whom the character Milhouse was named. The proposed answer states \"Richard Nixon,\" which fits the expected format and seems plausible.\n",
      "\n",
      "2. Truthfulness:\n",
      "\n",
      "Let's search the question in google:\n",
      "> Search Query: \"The Simpsons\" character Milhouse named after who? site: wikipedia.org\n",
      "> Evidence: [Milhouse Van Houten - Wikipedia] The character Milhouse was named after U.S. President Richard Nixon, whose middle name was Milhous.\n",
      "\n",
      "The evidence confirms that Milhouse was indeed named after Richard Nixon, whose middle name was Milhous. Thus, the proposed answer is correct and truthful.\n",
      "\n",
      "Let's search the proposed answer in google:\n",
      "> Search Query: Milhouse character named after Richard Nixon site: wikipedia.org\n",
      "> Evidence: [Milhouse Van Houten - Wikipedia] The character Milhouse was named after U.S. President Richard Nixon, whose middle name was Milhous.\n",
      "\n",
      "The evidence supports the proposed answer, confirming that it correctly identifies the person after whom Milhouse was named.\n",
      "\n",
      "Above all, the proposed answer correctly identifies that Milhouse was named after Richard Nixon. However, the explanation can be improved for clarity.\n",
      "\n",
      "---\n",
      "\n",
      "Q: Which documentary is about Finnish rock groups, Adam Clayton Powell or The Saimaa Gesture?\n",
      "A: The Saimaa Gesture\n",
      "\n",
      "What's the problem with the above answer?\n",
      "\n",
      "1. Plausibility:\n",
      "\n",
      "The question asks for the name of a documentary about Finnish rock groups, and the answer is \"The Saimaa Gesture,\" which sounds plausible given the context.\n",
      "\n",
      "2. Truthfulness:\n",
      "\n",
      "Let's search for information about \"The Saimaa Gesture\":\n",
      "> Search Query: The Saimaa Gesture documentary site: wikipedia.org\n",
      "> Evidence: [The Saimaa Gesture - Wikipedia] The Saimaa Gesture is a 1981 documentary film about three Finnish rock groups on a tour around Lake Saimaa.\n",
      "\n",
      "The evidence confirms that The Saimaa Gesture is indeed a documentary about Finnish rock groups, as stated in the proposed answer.\n",
      "\n",
      "Let's search for information about \"Adam Clayton Powell\":\n",
      "> Search Query: Adam Clayton Powell documentary site: wikipedia.org\n",
      "> Evidence: [Adam Clayton Powell - Wikipedia] Adam Clayton Powell Jr. was an American Baptist pastor and politician who represented Harlem, New York City, in the United States House of Representatives.\n",
      "\n",
      "The evidence shows that Adam Clayton Powell is not related to Finnish rock groups, supporting the correctness of the proposed answer.\n",
      "\n",
      "Above all, the proposed answer correctly identifies that The Saimaa Gesture is the documentary about Finnish rock groups. However, the explanation can be improved for clarity.\n",
      "\n",
      "---\n",
      "\n",
      "Q: What profession does Nicholas Ray and Elia Kazan have in common?\n",
      "A: director, screenwriter, actor\n",
      "\n",
      "What's the problem with the above answer?\n",
      "\n",
      "1. Plausibility:\n",
      "The question asks for the profession that Nicholas Ray and Elia Kazan have in common. The proposed answer lists multiple professions without clarifying if they both held all those professions. So, it's not precise.\n",
      "\n",
      "2. Truthfulness:\n",
      "Let's search for the professions of Nicholas Ray and Elia Kazan.\n",
      "\n",
      "> Search Query: Nicholas Ray profession site.org\n",
      "> Evidence: [Nicholas Ray - Wikipedia] Nicholas Ray was an American film director and screenwriter, best known for the movie \"Rebel Without a Cause\".\n",
      "\n",
      "The evidence suggests that Nicholas Ray was a director and screenwriter.\n",
      "\n",
      "> Search Query: Elia Kazan profession site.org\n",
      "> Evidence: [Elia Kazan - Wikipedia] Elia Kazan was a Greek-American director, producer, writer, and actor. He is noted for his work on Broadway and in Hollywood.\n",
      "\n",
      "The evidence suggests that Elia Kazan was a director, writer, and actor.\n",
      "\n",
      "The proposed answer correctly identifies the professions of both individuals but does not specify which profession they have in common.\n",
      "\n",
      "---\n",
      "\n",
      "Q: Which magazine was started first Arthur's Magazine or First for Women?\n",
      "A: Arthur's Magazine\n",
      "\n",
      "What's the problem with the above answer?\n",
      "\n",
      "1. Plausibility:\n",
      "\n",
      "The answer should be chosen between \"Arthur's Magazine\" and \"First for Women,\" and the answer is \"First for Women,\" so it seems plausible.\n",
      "\n",
      "2. Truthfulness:\n",
      "\n",
      "Let's search the question in google:\n",
      "\n",
      "> Search Query: Arthur's Magazine first publication date\n",
      "> Evidence: [Arthur's Magazine - Wikipedia] Arthur's Magazine was first published in 1844.\n",
      "\n",
      "The evidence shows that Arthur's Magazine was first published in 1844.\n",
      "\n",
      "> Search Query: First for Women first publication date\n",
      "> Evidence: [First for Women - Wikipedia] First for Women was first published in 1989.\n",
      "\n",
      "The evidence shows that First for Women was indeed first published in 1989.\n",
      "\n",
      "The proposed answer gives the wrong dates of publication for Arthur's Magazine. The final answer \"Arthur's Magazine\" is correct since 1844 < 1989.\n",
      "(END OF EXAMPLES)\n",
      "\n",
      "Question: What is the shared country of ancestry between Art Laboe and Scout Tufankjian?\n",
      "Proposed Answer: Let's think step by step. Scout Tufankjian is of Armenian ancestry. However, there is no clear information available about Art Laboe's ancestry. Without concrete evidence, we cannot definitively state that they share Armenian ancestry. So, the answer remains uncertain\n",
      "\n",
      "What's the problem with the above answer?\n",
      "\n",
      "1. Plausibility:\n",
      "\n",
      "\n",
      "\n",
      "Critique OUTPUT-----------------------\n",
      "The answer states that there is no clear information available about Art Laboe's ancestry, which may seem plausible at first glance.\n",
      "\n",
      "2. Truthfulness:\n",
      "\n",
      "Let's search for information about Art Laboe's ancestry:\n",
      "\n",
      "> Search Query: Art Laboe ancestry\n",
      "> Evidence: There is no clear information readily available about Art Laboe's ancestry.\n",
      "\n",
      "Since there is no concrete evidence available about Art Laboe's ancestry, the answer provided is accurate in stating that there is uncertainty regarding the shared country of ancestry between Art Laboe and Scout Tufankjian.\n",
      "\n",
      "Overall, the answer is accurate in acknowledging the lack of available information about Art Laboe's ancestry.\n",
      "\n"
     ]
    }
   ],
   "source": [
    "\n",
    "for step in data[current_question].additional_info:\n",
    "    # print(\"INPUT------------------------\")\n",
    "    # print(step.answer_response.input_text)\n",
    "    # print(\"OUTPUT-----------------------\")\n",
    "    # print(step.answer_response.output_text + \"\\n\")\n",
    "    print(\"Critique INPUT-----------------------\")\n",
    "    print(step.critique_response.input_text + \"\\n\")\n",
    "    print(\"Critique OUTPUT-----------------------\")\n",
    "    print(step.critique_response.output_text + \"\\n\")\n",
    "    # break"
   ]
  },
  {
   "cell_type": "code",
   "execution_count": 92,
   "metadata": {},
   "outputs": [
    {
     "data": {
      "text/plain": [
       "'Armenian'"
      ]
     },
     "execution_count": 92,
     "metadata": {},
     "output_type": "execute_result"
    }
   ],
   "source": [
    "eval_dataframe.iloc[current_question][\"answer\"]"
   ]
  },
  {
   "cell_type": "code",
   "execution_count": 93,
   "metadata": {},
   "outputs": [
    {
     "data": {
      "text/plain": [
       "\"Let's think step by step. Scout Tufankjian is of Armenian ancestry. However, there is no clear information available about Art Laboe's ancestry. Without concrete evidence, we cannot definitively state that they share Armenian ancestry. So, the answer remains uncertain\""
      ]
     },
     "execution_count": 93,
     "metadata": {},
     "output_type": "execute_result"
    }
   ],
   "source": [
    "eval_dataframe.iloc[current_question][\"predicted_answer\"]"
   ]
  },
  {
   "cell_type": "code",
   "execution_count": 95,
   "metadata": {},
   "outputs": [
    {
     "data": {
      "text/html": [
       "<div>\n",
       "<style scoped>\n",
       "    .dataframe tbody tr th:only-of-type {\n",
       "        vertical-align: middle;\n",
       "    }\n",
       "\n",
       "    .dataframe tbody tr th {\n",
       "        vertical-align: top;\n",
       "    }\n",
       "\n",
       "    .dataframe thead th {\n",
       "        text-align: right;\n",
       "    }\n",
       "</style>\n",
       "<table border=\"1\" class=\"dataframe\">\n",
       "  <thead>\n",
       "    <tr style=\"text-align: right;\">\n",
       "      <th></th>\n",
       "      <th>question</th>\n",
       "      <th>answer</th>\n",
       "      <th>predicted_answer</th>\n",
       "      <th>EM</th>\n",
       "      <th>fuzzy_EM</th>\n",
       "      <th>llm_judge_eval</th>\n",
       "      <th>precision</th>\n",
       "      <th>recall</th>\n",
       "      <th>f1</th>\n",
       "    </tr>\n",
       "  </thead>\n",
       "  <tbody>\n",
       "    <tr>\n",
       "      <th>0</th>\n",
       "      <td>What was Iqbal F. Qadir on when he participate...</td>\n",
       "      <td>flotilla</td>\n",
       "      <td>Since there is no verifiable information avail...</td>\n",
       "      <td>0</td>\n",
       "      <td>0</td>\n",
       "      <td>0</td>\n",
       "      <td>0.000000</td>\n",
       "      <td>0.000000</td>\n",
       "      <td>0.000000</td>\n",
       "    </tr>\n",
       "    <tr>\n",
       "      <th>1</th>\n",
       "      <td>When did the park at which Tivolis Koncertsal ...</td>\n",
       "      <td>15 August 1843</td>\n",
       "      <td>1843</td>\n",
       "      <td>0</td>\n",
       "      <td>1</td>\n",
       "      <td>0</td>\n",
       "      <td>1.000000</td>\n",
       "      <td>0.333333</td>\n",
       "      <td>0.500000</td>\n",
       "    </tr>\n",
       "    <tr>\n",
       "      <th>2</th>\n",
       "      <td>What is the shared country of ancestry between...</td>\n",
       "      <td>Armenian</td>\n",
       "      <td>Let's think step by step. Scout Tufankjian is ...</td>\n",
       "      <td>0</td>\n",
       "      <td>1</td>\n",
       "      <td>0</td>\n",
       "      <td>0.026316</td>\n",
       "      <td>1.000000</td>\n",
       "      <td>0.051282</td>\n",
       "    </tr>\n",
       "    <tr>\n",
       "      <th>3</th>\n",
       "      <td>The school in which the Wilmslow Show is held ...</td>\n",
       "      <td>Centre of Excellence</td>\n",
       "      <td>Wilmslow High School</td>\n",
       "      <td>0</td>\n",
       "      <td>0</td>\n",
       "      <td>0</td>\n",
       "      <td>0.000000</td>\n",
       "      <td>0.000000</td>\n",
       "      <td>0.000000</td>\n",
       "    </tr>\n",
       "    <tr>\n",
       "      <th>4</th>\n",
       "      <td>Out of the actors who have played the role of ...</td>\n",
       "      <td>Scott Adkins</td>\n",
       "      <td>Let's think step by step. The actors who have ...</td>\n",
       "      <td>0</td>\n",
       "      <td>0</td>\n",
       "      <td>0</td>\n",
       "      <td>0.000000</td>\n",
       "      <td>0.000000</td>\n",
       "      <td>0.000000</td>\n",
       "    </tr>\n",
       "    <tr>\n",
       "      <th>5</th>\n",
       "      <td>Tommy's Honour was a drama film that included ...</td>\n",
       "      <td>War &amp; Peace</td>\n",
       "      <td>Let's think step by step. \"Tommy's Honour\" sta...</td>\n",
       "      <td>0</td>\n",
       "      <td>0</td>\n",
       "      <td>0</td>\n",
       "      <td>0.000000</td>\n",
       "      <td>0.000000</td>\n",
       "      <td>0.000000</td>\n",
       "    </tr>\n",
       "    <tr>\n",
       "      <th>6</th>\n",
       "      <td>Which rock band chose its name by drawing it o...</td>\n",
       "      <td>Midnight Oil</td>\n",
       "      <td>Neither Switchfoot nor Midnight Oil chose thei...</td>\n",
       "      <td>0</td>\n",
       "      <td>0</td>\n",
       "      <td>0</td>\n",
       "      <td>0.133333</td>\n",
       "      <td>1.000000</td>\n",
       "      <td>0.235294</td>\n",
       "    </tr>\n",
       "    <tr>\n",
       "      <th>7</th>\n",
       "      <td>Which Captain launched the attack which led to...</td>\n",
       "      <td>Captain John Underhill</td>\n",
       "      <td>The answer provided, \"Captain David Pietersz. ...</td>\n",
       "      <td>0</td>\n",
       "      <td>0</td>\n",
       "      <td>0</td>\n",
       "      <td>0.023810</td>\n",
       "      <td>0.333333</td>\n",
       "      <td>0.044444</td>\n",
       "    </tr>\n",
       "    <tr>\n",
       "      <th>8</th>\n",
       "      <td>In which film did Emilio Estevez star in in th...</td>\n",
       "      <td>The Outsiders</td>\n",
       "      <td>Let's think step by step. Emilio Estevez starr...</td>\n",
       "      <td>0</td>\n",
       "      <td>1</td>\n",
       "      <td>1</td>\n",
       "      <td>0.038462</td>\n",
       "      <td>1.000000</td>\n",
       "      <td>0.074074</td>\n",
       "    </tr>\n",
       "    <tr>\n",
       "      <th>9</th>\n",
       "      <td>What was the concept of the business Eric S .P...</td>\n",
       "      <td>to ensure wide visibility and understanding of...</td>\n",
       "      <td>Due to the lack of specific information availa...</td>\n",
       "      <td>0</td>\n",
       "      <td>0</td>\n",
       "      <td>0</td>\n",
       "      <td>0.061224</td>\n",
       "      <td>0.300000</td>\n",
       "      <td>0.101695</td>\n",
       "    </tr>\n",
       "    <tr>\n",
       "      <th>10</th>\n",
       "      <td>Which port city lies approximately 25 km north...</td>\n",
       "      <td>Keelung</td>\n",
       "      <td>Foshan</td>\n",
       "      <td>0</td>\n",
       "      <td>0</td>\n",
       "      <td>0</td>\n",
       "      <td>0.000000</td>\n",
       "      <td>0.000000</td>\n",
       "      <td>0.000000</td>\n",
       "    </tr>\n",
       "    <tr>\n",
       "      <th>11</th>\n",
       "      <td>Jason Regler, stated that he had the idea for...</td>\n",
       "      <td>an organ</td>\n",
       "      <td>Since there is no concrete evidence available ...</td>\n",
       "      <td>0</td>\n",
       "      <td>0</td>\n",
       "      <td>0</td>\n",
       "      <td>0.000000</td>\n",
       "      <td>0.000000</td>\n",
       "      <td>0.000000</td>\n",
       "    </tr>\n",
       "    <tr>\n",
       "      <th>12</th>\n",
       "      <td>The Soul of Buddha is a 1918 American silent ...</td>\n",
       "      <td>the George Washington Bridge</td>\n",
       "      <td>the Bronx</td>\n",
       "      <td>0</td>\n",
       "      <td>0</td>\n",
       "      <td>0</td>\n",
       "      <td>0.000000</td>\n",
       "      <td>0.000000</td>\n",
       "      <td>0.000000</td>\n",
       "    </tr>\n",
       "    <tr>\n",
       "      <th>13</th>\n",
       "      <td>Which \"Blackzilians\" fighter is currently comp...</td>\n",
       "      <td>Vitor Belfort</td>\n",
       "      <td>Since there is no specific information availab...</td>\n",
       "      <td>0</td>\n",
       "      <td>0</td>\n",
       "      <td>0</td>\n",
       "      <td>0.000000</td>\n",
       "      <td>0.000000</td>\n",
       "      <td>0.000000</td>\n",
       "    </tr>\n",
       "    <tr>\n",
       "      <th>14</th>\n",
       "      <td>Were was the Mexican state after which there i...</td>\n",
       "      <td>tip of the Baja California</td>\n",
       "      <td>Sinaloa</td>\n",
       "      <td>0</td>\n",
       "      <td>0</td>\n",
       "      <td>0</td>\n",
       "      <td>0.000000</td>\n",
       "      <td>0.000000</td>\n",
       "      <td>0.000000</td>\n",
       "    </tr>\n",
       "  </tbody>\n",
       "</table>\n",
       "</div>"
      ],
      "text/plain": [
       "                                             question  \\\n",
       "0   What was Iqbal F. Qadir on when he participate...   \n",
       "1   When did the park at which Tivolis Koncertsal ...   \n",
       "2   What is the shared country of ancestry between...   \n",
       "3   The school in which the Wilmslow Show is held ...   \n",
       "4   Out of the actors who have played the role of ...   \n",
       "5   Tommy's Honour was a drama film that included ...   \n",
       "6   Which rock band chose its name by drawing it o...   \n",
       "7   Which Captain launched the attack which led to...   \n",
       "8   In which film did Emilio Estevez star in in th...   \n",
       "9   What was the concept of the business Eric S .P...   \n",
       "10  Which port city lies approximately 25 km north...   \n",
       "11   Jason Regler, stated that he had the idea for...   \n",
       "12   The Soul of Buddha is a 1918 American silent ...   \n",
       "13  Which \"Blackzilians\" fighter is currently comp...   \n",
       "14  Were was the Mexican state after which there i...   \n",
       "\n",
       "                                               answer  \\\n",
       "0                                            flotilla   \n",
       "1                                      15 August 1843   \n",
       "2                                            Armenian   \n",
       "3                                Centre of Excellence   \n",
       "4                                        Scott Adkins   \n",
       "5                                         War & Peace   \n",
       "6                                        Midnight Oil   \n",
       "7                              Captain John Underhill   \n",
       "8                                       The Outsiders   \n",
       "9   to ensure wide visibility and understanding of...   \n",
       "10                                            Keelung   \n",
       "11                                           an organ   \n",
       "12                       the George Washington Bridge   \n",
       "13                                      Vitor Belfort   \n",
       "14                         tip of the Baja California   \n",
       "\n",
       "                                     predicted_answer  EM  fuzzy_EM  \\\n",
       "0   Since there is no verifiable information avail...   0         0   \n",
       "1                                                1843   0         1   \n",
       "2   Let's think step by step. Scout Tufankjian is ...   0         1   \n",
       "3                                Wilmslow High School   0         0   \n",
       "4   Let's think step by step. The actors who have ...   0         0   \n",
       "5   Let's think step by step. \"Tommy's Honour\" sta...   0         0   \n",
       "6   Neither Switchfoot nor Midnight Oil chose thei...   0         0   \n",
       "7   The answer provided, \"Captain David Pietersz. ...   0         0   \n",
       "8   Let's think step by step. Emilio Estevez starr...   0         1   \n",
       "9   Due to the lack of specific information availa...   0         0   \n",
       "10                                             Foshan   0         0   \n",
       "11  Since there is no concrete evidence available ...   0         0   \n",
       "12                                          the Bronx   0         0   \n",
       "13  Since there is no specific information availab...   0         0   \n",
       "14                                            Sinaloa   0         0   \n",
       "\n",
       "    llm_judge_eval  precision    recall        f1  \n",
       "0                0   0.000000  0.000000  0.000000  \n",
       "1                0   1.000000  0.333333  0.500000  \n",
       "2                0   0.026316  1.000000  0.051282  \n",
       "3                0   0.000000  0.000000  0.000000  \n",
       "4                0   0.000000  0.000000  0.000000  \n",
       "5                0   0.000000  0.000000  0.000000  \n",
       "6                0   0.133333  1.000000  0.235294  \n",
       "7                0   0.023810  0.333333  0.044444  \n",
       "8                1   0.038462  1.000000  0.074074  \n",
       "9                0   0.061224  0.300000  0.101695  \n",
       "10               0   0.000000  0.000000  0.000000  \n",
       "11               0   0.000000  0.000000  0.000000  \n",
       "12               0   0.000000  0.000000  0.000000  \n",
       "13               0   0.000000  0.000000  0.000000  \n",
       "14               0   0.000000  0.000000  0.000000  "
      ]
     },
     "execution_count": 95,
     "metadata": {},
     "output_type": "execute_result"
    }
   ],
   "source": [
    "eval_dataframe.head(15)"
   ]
  },
  {
   "cell_type": "code",
   "execution_count": 97,
   "metadata": {},
   "outputs": [
    {
     "data": {
      "text/plain": [
       "'Which rock band chose its name by drawing it out of a hat, Switchfoot or Midnight Oil?'"
      ]
     },
     "execution_count": 97,
     "metadata": {},
     "output_type": "execute_result"
    },
    {
     "name": "stderr",
     "output_type": "stream",
     "text": [
      "wandb: Network error (ConnectionError), entering retry loop.\n"
     ]
    }
   ],
   "source": [
    "eval_dataframe.iloc[6]['question']"
   ]
  },
  {
   "cell_type": "code",
   "execution_count": null,
   "metadata": {},
   "outputs": [],
   "source": []
  }
 ],
 "metadata": {
  "kernelspec": {
   "display_name": "Python 3.11.11 ('agential')",
   "language": "python",
   "name": "python3"
  },
  "language_info": {
   "codemirror_mode": {
    "name": "ipython",
    "version": 3
   },
   "file_extension": ".py",
   "mimetype": "text/x-python",
   "name": "python",
   "nbconvert_exporter": "python",
   "pygments_lexer": "ipython3",
   "version": "3.11.11"
  },
  "orig_nbformat": 4,
  "vscode": {
   "interpreter": {
    "hash": "5395d60bee98fd71c9d354a5953f895827353ba27396e461a44062dbf07942d0"
   }
  }
 },
 "nbformat": 4,
 "nbformat_minor": 2
}
