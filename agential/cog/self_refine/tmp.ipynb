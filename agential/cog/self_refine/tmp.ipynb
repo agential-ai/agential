{
 "cells": [
  {
   "cell_type": "code",
   "execution_count": 1,
   "metadata": {},
   "outputs": [],
   "source": [
    "from agential.llm.llm import LLM\n",
    "from dotenv import load_dotenv\n",
    "\n",
    "load_dotenv()\n",
    "\n",
    "llm = LLM(\"gpt-3.5-turbo\")"
   ]
  },
  {
   "cell_type": "code",
   "execution_count": null,
   "metadata": {},
   "outputs": [],
   "source": [
    "from agential.cog.fewshots.hotpotqa import HOTPOTQA_FEWSHOT_EXAMPLES_COT\n",
    "from agential.cog.self_refine.prompts import HOTPOTQA_CRITIQUE_FEWSHOT_EXAMPLES, HOTPOTQA_REFINE_FEWSHOT_EXAMPLES, SELF_REFINE_CRITIQUE_INSTRUCTION_HOTPOTQA, SELF_REFINE_INSTRUCTION_HOTPOTQA, SELF_REFINE_REFINE_INSTRUCTION_HOTPOTQA\n",
    "from agential.cog.self_refine.strategies.qa import SelfRefineQAStrategy\n",
    "question = 'Who was once considered the best kick boxer in the world, however he has been involved in a number of controversies relating to his \"unsportsmanlike conducts\" in the sport and crimes of violence outside of the ring'\n",
    "\n",
    "\n",
    "strat = SelfRefineQAStrategy(llm=llm)\n",
    "\n",
    "out = strat.generate(\n",
    "    question=question,\n",
    "    examples=HOTPOTQA_FEWSHOT_EXAMPLES_COT,  # HOTPOTQA_FEWSHOT_EXAMPLES_DIRECT, HOTPOTQA_FEWSHOT_EXAMPLES_REACT\n",
    "    prompt=SELF_REFINE_INSTRUCTION_HOTPOTQA,\n",
    "    critique_examples=HOTPOTQA_CRITIQUE_FEWSHOT_EXAMPLES,\n",
    "    critique_prompt=SELF_REFINE_CRITIQUE_INSTRUCTION_HOTPOTQA,\n",
    "    refine_examples=HOTPOTQA_REFINE_FEWSHOT_EXAMPLES,\n",
    "    refine_prompt=SELF_REFINE_REFINE_INSTRUCTION_HOTPOTQA,\n",
    "    additional_keys={},\n",
    "    critique_additional_keys={},\n",
    "    refine_additional_keys={},\n",
    "    max_interactions=3,\n",
    "    reset=True\n",
    ")"
   ]
  }
 ],
 "metadata": {
  "kernelspec": {
   "display_name": "agential",
   "language": "python",
   "name": "python3"
  },
  "language_info": {
   "codemirror_mode": {
    "name": "ipython",
    "version": 3
   },
   "file_extension": ".py",
   "mimetype": "text/x-python",
   "name": "python",
   "nbconvert_exporter": "python",
   "pygments_lexer": "ipython3",
   "version": "3.11.5"
  }
 },
 "nbformat": 4,
 "nbformat_minor": 2
}
