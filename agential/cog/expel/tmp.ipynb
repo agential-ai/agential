{
 "cells": [
  {
   "cell_type": "code",
   "execution_count": null,
   "metadata": {},
   "outputs": [],
   "source": [
    "from agential.llm.llm import LLM\n",
    "from dotenv import load_dotenv\n",
    "\n",
    "load_dotenv()\n",
    "\n",
    "import os\n",
    "\n",
    "llm = LLM(\"gpt-3.5-turbo\", organization=os.getenv(\"OPENAI_ORGANIZATION\"))\n",
    "\n",
    "from agential.cog.expel.strategies.general import ExpeLGeneralStrategy"
   ]
  },
  {
   "cell_type": "code",
   "execution_count": null,
   "metadata": {},
   "outputs": [],
   "source": [
    "import joblib\n",
    "\n",
    "exp = joblib.load(\"../../../tests/assets/expel/expel_experiences_10_fake.joblib\")"
   ]
  },
  {
   "cell_type": "code",
   "execution_count": null,
   "metadata": {},
   "outputs": [],
   "source": [
    "from agential.cog.expel.memory import ExpeLExperienceMemory\n",
    "from agential.cog.reflexion.agent import ReflexionReActAgent\n",
    "\n",
    "\n",
    "agent = ReflexionReActAgent(\n",
    "    llm=llm, \n",
    "    benchmark=\"hotpotqa\",\n",
    ")\n",
    "\n",
    "strat = ExpeLGeneralStrategy(\n",
    "    llm=llm, \n",
    "    reflexion_react_agent=agent,\n",
    "    experience_memory=ExpeLExperienceMemory(experiences=exp)\n",
    ")"
   ]
  },
  {
   "cell_type": "code",
   "execution_count": null,
   "metadata": {},
   "outputs": [],
   "source": [
    "from agential.cog.fewshots.hotpotqa import HOTPOTQA_FEWSHOT_EXAMPLES_REACT\n",
    "from agential.cog.reflexion.prompts import HOTPOTQA_FEWSHOT_EXAMPLES_REFLEXION_REACT_REFLECT, REFLEXION_REACT_INSTRUCTION_HOTPOTQA, REFLEXION_REACT_REFLECT_INSTRUCTION_HOTPOTQA\n",
    "\n",
    "\n",
    "question = \"What giant silverware company was started as a religious Utopian group and was for many years run by Pierrepont Noyes?\"\n",
    "key = \"Oneida Limited\"\n",
    "\n",
    "out = strat.generate(\n",
    "        question=question,\n",
    "        key=key,\n",
    "        examples=HOTPOTQA_FEWSHOT_EXAMPLES_REACT,\n",
    "        prompt=REFLEXION_REACT_INSTRUCTION_HOTPOTQA,\n",
    "        reflect_examples=HOTPOTQA_FEWSHOT_EXAMPLES_REFLEXION_REACT_REFLECT,\n",
    "        reflect_prompt=REFLEXION_REACT_REFLECT_INSTRUCTION_HOTPOTQA,\n",
    "        reflect_strategy=\"reflexion\",\n",
    "        additional_keys={},\n",
    "        reflect_additional_keys={},\n",
    "        patience=1,\n",
    "        use_dynamic_examples = True,\n",
    "        extract_insights = True,\n",
    "        patience = 3,\n",
    "        k_docs = 24,\n",
    "        num_fewshots = 6,\n",
    "        max_fewshot_tokens = 1500,\n",
    "        reranker_strategy = None,\n",
    "        reset=False\n",
    "    )"
   ]
  }
 ],
 "metadata": {
  "kernelspec": {
   "display_name": "agential",
   "language": "python",
   "name": "python3"
  },
  "language_info": {
   "codemirror_mode": {
    "name": "ipython",
    "version": 3
   },
   "file_extension": ".py",
   "mimetype": "text/x-python",
   "name": "python",
   "nbconvert_exporter": "python",
   "pygments_lexer": "ipython3",
   "version": "3.11.5"
  }
 },
 "nbformat": 4,
 "nbformat_minor": 2
}
