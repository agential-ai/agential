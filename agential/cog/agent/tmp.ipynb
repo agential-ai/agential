{
 "cells": [
  {
   "cell_type": "code",
   "execution_count": 1,
   "metadata": {},
   "outputs": [
    {
     "name": "stderr",
     "output_type": "stream",
     "text": [
      "c:\\Users\\tuvin\\anaconda3\\envs\\agential\\Lib\\site-packages\\langchain_core\\_api\\deprecation.py:119: LangChainDeprecationWarning: The class `ChatOpenAI` was deprecated in LangChain 0.0.10 and will be removed in 0.2.0. An updated version of the class exists in the langchain-openai package and should be used instead. To use it run `pip install -U langchain-openai` and import as `from langchain_openai import ChatOpenAI`.\n",
      "  warn_deprecated(\n"
     ]
    }
   ],
   "source": [
    "from langchain.prompts import PromptTemplate\n",
    "from langchain_core.messages.human import HumanMessage\n",
    "from langchain_community.chat_models.openai import ChatOpenAI\n",
    "\n",
    "import os\n",
    "import dotenv\n",
    "\n",
    "dotenv.load_dotenv()\n",
    "\n",
    "from agential.cog.prompts.critic import CRITIC_INSTRUCTION_GSM8K_POT, GSM8K_FEWSHOT_EXAMPLES_POT, CRITIC_CRITIQUE_INSTRUCTION_GSM8K, GSM8K_FEWSHOT_EXAMPLES_CRITIC\n",
    "\n",
    "llm = ChatOpenAI()"
   ]
  },
  {
   "cell_type": "code",
   "execution_count": 2,
   "metadata": {},
   "outputs": [
    {
     "name": "stderr",
     "output_type": "stream",
     "text": [
      "c:\\Users\\tuvin\\anaconda3\\envs\\agential\\Lib\\site-packages\\langchain_core\\_api\\deprecation.py:119: LangChainDeprecationWarning: The method `BaseChatModel.__call__` was deprecated in langchain-core 0.1.7 and will be removed in 0.2.0. Use invoke instead.\n",
      "  warn_deprecated(\n"
     ]
    }
   ],
   "source": [
    "question = \"Billy is buying some candy with $10 his father gave him. The candy costs $1.5 a pound. After buying candy, he takes half his change and spends it on gumballs, which cost $.05 each. If he bought 40 gumballs, how many pounds of candy did he buy?\"\n",
    "\n",
    "prompt = CRITIC_INSTRUCTION_GSM8K_POT.format(\n",
    "    examples=GSM8K_FEWSHOT_EXAMPLES_POT,\n",
    "    question=question\n",
    ")\n",
    "\n",
    "out = llm(\n",
    "    [\n",
    "        HumanMessage(\n",
    "            content=prompt,\n",
    "        )\n",
    "    ]\n",
    ").content"
   ]
  },
  {
   "cell_type": "code",
   "execution_count": 3,
   "metadata": {},
   "outputs": [
    {
     "name": "stdout",
     "output_type": "stream",
     "text": [
      "total_money = 10\n",
      "cost_per_pound = 1.5\n",
      "cost_per_gumball = 0.05\n",
      "num_gumballs = 40\n",
      "\n",
      "money_spent_on_candy = total_money / 2\n",
      "num_gumballs_bought = money_spent_on_candy / cost_per_gumball\n",
      "\n",
      "remaining_money = total_money - money_spent_on_candy\n",
      "pounds_of_candy_bought = remaining_money / cost_per_pound\n",
      "\n",
      "answer = pounds_of_candy_bought\n"
     ]
    }
   ],
   "source": [
    "print(out)"
   ]
  },
  {
   "cell_type": "code",
   "execution_count": 4,
   "metadata": {},
   "outputs": [],
   "source": [
    "import func_timeout\n",
    "\n",
    "\n",
    "def safe_execute(code_string: str, keys=None):\n",
    "    def execute(x):\n",
    "        try:\n",
    "            exec(x)\n",
    "            locals_ = locals()\n",
    "            if keys is None:\n",
    "                an = locals_.get('answer', None)\n",
    "            else:\n",
    "                an = [locals_.get(k, None) for k in keys]\n",
    "            return an, \"Done\"\n",
    "        except BaseException as e: # jump wrong case\n",
    "            return None, repr(e)\n",
    "\n",
    "    try:\n",
    "        an, report = func_timeout.func_timeout(3, execute, args=(code_string,))\n",
    "    except func_timeout.FunctionTimedOut:\n",
    "        an = None\n",
    "        report = \"TimeoutError: execution timeout\"\n",
    "\n",
    "    return an, report"
   ]
  },
  {
   "cell_type": "code",
   "execution_count": 5,
   "metadata": {},
   "outputs": [],
   "source": [
    "answer, status = safe_execute(out)"
   ]
  },
  {
   "cell_type": "code",
   "execution_count": 6,
   "metadata": {},
   "outputs": [],
   "source": [
    "critic_prompt = CRITIC_CRITIQUE_INSTRUCTION_GSM8K.format(\n",
    "    examples=GSM8K_FEWSHOT_EXAMPLES_CRITIC,\n",
    "    question=question,\n",
    "    answer=answer,\n",
    "    status=status,\n",
    "    code=out,\n",
    "    critique=\"\"\n",
    ")\n",
    "\n",
    "out_ = \"\"\n",
    "critique = llm(\n",
    "    [\n",
    "        HumanMessage(\n",
    "            content=critic_prompt,\n",
    "        )\n",
    "    ]\n",
    ").content.split(\"Here's\")[0]"
   ]
  },
  {
   "cell_type": "code",
   "execution_count": 7,
   "metadata": {},
   "outputs": [],
   "source": [
    "out_ += critique\n",
    "out_ += \"Here's a better solution:\\n```python\\n\""
   ]
  },
  {
   "cell_type": "code",
   "execution_count": 8,
   "metadata": {},
   "outputs": [
    {
     "name": "stdout",
     "output_type": "stream",
     "text": [
      "The problem with the above code is that the number of pounds of candy bought should be a whole number, not a floating-point number. Billy cannot buy a fraction of a pound of candy. Additionally, the calculation for the number of gumballs bought is not used to determine the amount of candy bought.\n",
      "\n",
      "Here's a better solution:\n",
      "```python\n",
      "\n"
     ]
    }
   ],
   "source": [
    "print(out_)"
   ]
  },
  {
   "cell_type": "code",
   "execution_count": 11,
   "metadata": {},
   "outputs": [],
   "source": [
    "critic_prompt_1 = CRITIC_CRITIQUE_INSTRUCTION_GSM8K.format(\n",
    "    examples=GSM8K_FEWSHOT_EXAMPLES_CRITIC,\n",
    "    question=question,\n",
    "    answer=answer,\n",
    "    status=status,\n",
    "    code=out,\n",
    "    critique=out_\n",
    ")\n",
    "\n",
    "critique_1 = llm(\n",
    "    [\n",
    "        HumanMessage(\n",
    "            content=critic_prompt_1,\n",
    "        )\n",
    "    ]\n",
    ").content"
   ]
  },
  {
   "cell_type": "code",
   "execution_count": 12,
   "metadata": {},
   "outputs": [
    {
     "name": "stdout",
     "output_type": "stream",
     "text": [
      "total_money = 10\n",
      "cost_per_pound = 1.5\n",
      "cost_per_gumball = 0.05\n",
      "num_gumballs = 40\n",
      "\n",
      "money_spent_on_candy = total_money / 2\n",
      "num_gumballs_bought = money_spent_on_candy / cost_per_gumball\n",
      "\n",
      "remaining_money = total_money - money_spent_on_candy\n",
      "pounds_of_candy_bought = remaining_money / cost_per_pound\n",
      "\n",
      "# Since the pounds of candy bought should be a whole number, we need to round down to the nearest integer\n",
      "pounds_of_candy_bought = int(pounds_of_candy_bought)\n",
      "\n",
      "answer = pounds_of_candy_bought\n"
     ]
    }
   ],
   "source": [
    "print(critique_1.split(\"```\")[0])"
   ]
  },
  {
   "cell_type": "code",
   "execution_count": null,
   "metadata": {},
   "outputs": [],
   "source": [
    "out_ += "
   ]
  }
 ],
 "metadata": {
  "kernelspec": {
   "display_name": "agential",
   "language": "python",
   "name": "python3"
  },
  "language_info": {
   "codemirror_mode": {
    "name": "ipython",
    "version": 3
   },
   "file_extension": ".py",
   "mimetype": "text/x-python",
   "name": "python",
   "nbconvert_exporter": "python",
   "pygments_lexer": "ipython3",
   "version": "3.11.9"
  }
 },
 "nbformat": 4,
 "nbformat_minor": 2
}
