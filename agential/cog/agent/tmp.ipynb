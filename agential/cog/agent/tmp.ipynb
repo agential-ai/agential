{
 "cells": [
  {
   "cell_type": "code",
   "execution_count": 1,
   "id": "introduction",
   "metadata": {},
   "outputs": [],
   "source": [
    "import os\n",
    "import dotenv\n",
    "import agential\n",
    "from langchain_openai import ChatOpenAI\n",
    "from agential.cog.agent.react import ReActAgent\n",
    REACT_INSTRUCTION_SVAMP = """{examples}
    (END OF EXAMPLES)
    Question: {question}
    Answer: {answer}
    """,
   ]
  },
  {
   "cell_type": "code",
   "execution_count": 2,
   "id": "define_agent",
   "metadata": {},
   "outputs": [],
"source": [
    "agent = ReActAgent(llm=llm, max_steps=4)\n",
    "question = \"\"\"Write a function to check if the given integer is a prime number. Your code should satisfy these tests:\n",
    "outputs = agent.generate(\n",
    "    question=question, prompt=REACT_INSTRUCTION_SVAMP, examples=SVAMP_FEWSHOT_EXAMPLES\n",
    ")\n",
    "for output in outputs:\n",
    "    print(output.answer)\n",
   ]
  },
  {
   "cell_type": "markdown",
   "metadata": {},
   "source": [
   ]
  },
  {
   "cell_type": "code",
   "execution_count": 3,
   "id": "test_prompts",
   "metadata": {},
   "outputs": [],
   "source": [
    "SVAMP_FEWSHOT_EXAMPLES = '''\n",
    "Question: James bought 93 red and 10 blue stickers, he used 31 red sticker on his fridge and 7 blue stickers on his laptop. How many red stickers does James have?\n",
    "Answer: 62\n",
    "Question: Allen went to supermarket to buy eggs, each egg costs 80 dollars, if the discount is 29 dollars. How much do you have to pay to buy for each egg?\n",
    "Answer: 51\n",
    "Question: Dianna collects both cases and books. He bought 22 cases and 5 books from the store. Now he has 57 cases and 25 books. How many books did danny have at first?\n",
    "Answer: 20\n",
    "Question: There were 108 chickens and 20 sheeps at the farm, some of chickens and sheeps were sold. There are 87 chickens and 18 sheeps left now. How many chickens were sold?\n",
    "Answer: 21\n",
    "Question: Katty scored 2 goals on monday, 8 goals on tuesday and 9 goals on wednesday. How many did Katty score on monday and wednesday?\n",
    "Answer: 11\n",
    "Question: There are 5 girls and 4 boys in the Masquerade, 12 more girls and 7 more boys joined.  How many more girls than boys are in the Masquerade?\n",
    "Answer: 6\n",
    "Question: Joseph and Getty went to buy ice creams, they together bought 36 ice creams. On the way back, Joseph ate 12 of the ice creasm, and he has 2 ice creams left now.  How much ice creasm did Getty purchase?\n",
    "Answer: 22\n",
    "'''\n",
    "\n",
    "test_prompt = '''Question: Marco and his dad went strawberry picking. Marco's dad's strawberries weighed 11 pounds. If together their strawberries weighed 30 pounds. How much did Marco's strawberries weigh?'''\n",
    "\n",
    "# Combine few-shot examples and the test prompt\n",
    "final_prompt = SVAMP_FEWSHOT_EXAMPLES + \"(END OF EXAMPLES)\\n\" + test_prompt\n",
    "\n",
    "# Get the agent's response\n",
    "agent_response = react_agent(final_prompt)\n",
    "\n",
    "# Extract the answer using regex\n",
    "answer = re.search(r'Answer: (\\d+)', agent_response)\n",
    "if answer:\n",
    "    print(\"Answer:\", answer.group(1))\n",
    "else:\n",
    "    print(\"No answer found\")"
   ]
  }
 ],
 "metadata": {
  "kernelspec": {
   "display_name": "llmagential",
   "language": "python",
   "name": "python3"
  },
  "language_info": {
   "codemirror_mode": {
    "name": "ipython",
    "version": 3
   },
   "file_extension": ".py",
   "mimetype": "text/x-python",
   "name": "python",
   "nbconvert_exporter": "python",
   "pygments_lexer": "ipython3",
   "version": "3.11.5"
  }
 },
 "nbformat": 4,
 "nbformat_minor": 2
}
