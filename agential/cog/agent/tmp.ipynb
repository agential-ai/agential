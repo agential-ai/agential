{
 "cells": [
  {
   "cell_type": "code",
   "execution_count": 1,
   "metadata": {},
   "outputs": []
    }
   ],
   "source": [
    "import os\n",
    "import dotenv\n",
    "import openai\n",
    "from dotenv import load_dotenv\n",
    "from langchain_openai import ChatOpenAI\n",
    "from agential.cog.agent.react import ReActAgent\n",
    "from agential.cog.prompts.react import (\n",
    "    REACT_SVAMP_EXAMPLES_DIRECT,\n",
    "    REACT_SVAMP_EXAMPLES_POT,\n",
    "    REACT_SVAMP_INSTRUCTIONS,\n",
    "    REACT_SVAMP_EXAMPLES_CRITIQUE,\n",
    "    REACT_SVAMP_INSTRUCTIONS_CRITIC,\n",
    ")"
   ]
  },
  {
   "cell_type": "code",
   "execution_count": 2,
   "metadata": {},
   "outputs": [],
   "source": [
    "load_dotenv()\n",
    "api = os.getenv(\"OPENAI_API_KEY\")\n",
    "if api:\n",
    "    print(\"api detected\")\n",
    "llm = ChatOpenAI(model=\"gpt-3.5-turbo\", api_key=api)"
   ]
  },
  {
   "cell_type": "code",
   "execution_count": 3,
   "metadata": {},
   "outputs": [],
   "source": [
    "agent = ReActAgent(llm=llm, max_steps=3)\n",
    "question =\"\"\"Question: James bought 93 red and 10 blue stickers, he used 31 red sticker on his fridge and 7 blue stickers on his laptop. How many red stickers does James have?\n",
    "\"\"\"\n",
    "outputs = agent.generate(question=question, REACT_SVAMP_INSTRUCTIONS, REACT_SVAMP_EXAMPLES_DIRECT\n",
    "for output in outputs:\n",
    "    print(output.answer)\n",
 ],
   "cell_type": "code",
   "execution_count": 18,
   "metadata": {},
   "outputs": [
    {
     "name": "stdout",
     "output_type": "stream",
     "text": [
      "Question: Marco and his dad went strawberry picking. Marco's dad's strawberries weighed 11 pounds. If together their strawberries weighed 30 pounds. How much did Marco's strawberries weigh?\n",
      "```python\n",
      "num_strawberries_dad_picked = 11\n",
      "num_strawberries_marco_picked = 30\n",
      "answer = num_strawberries_dad_picked + num_strawberries_marco_picked\n",
      "```\n",
      "Execution: Done\n",
      "Output: answer = 41.0\n",
      "What's the problem with the above code?\n",
      "1. The weight of straberries should be positive, 41.0 > 0, it's reasonable.\n",
      "2. Let's check the code:\n",
      "> answer = num_strawberries_dad_picked + num_strawberries_marco_picked\n",
      "The above code calculates the total weight of strawberries picked by both Marco and his dad, instead of finding the weight of strawberries picked by Marco alone.\n",
      "According to the question, the total weight of strawberries picked by both Marco and his dad is 30 pounds, and Marco's dad's strawberries weighed 11 pounds. To find the weight of Marco's strawberries, we need to subtract the weight of his dad's strawberries from the total weight.\n",
      "Here's a better solution:\n",
      "```python\n",
      "total_weight = 30\n",
      "dad_weight = 11\n",
      "# Calculate the weight of Marco's strawberries\n",
      "marco_weight = total_weight - dad_weight\n",
      "answer = marco_weight\n",
      "```\n",
     ]
    }
   ],
   "source": [
    "print(answer)"
   ]
  }
 ],
   "cell_type": "code",
   "execution_count": 4,
   "metadata": {},
   "outputs": [],
   "source": [],
 "metadata": {
  "kernelspec": {
   "display_name": "agential",
   "language": "python",
   "name": "python3"
  },
  "language_info": {
   "codemirror_mode": {
    "name": "ipython",
    "version": 3
   },
   "file_extension": ".py",
   "mimetype": "text/x-python",
   "name": "python",
   "nbconvert_exporter": "python",
   "pygments_lexer": "ipython3",
   "version": "3.11.5"
  }
 },
 "nbformat": 4,
 "nbformat_minor": 2
}
