{
 "cells": [
  {
   "cell_type": "code",
   "execution_count": 1,
   "metadata": {},
   "outputs": [],
   "source": [
    "from agential.cog.agent.reflexion import ReflexionCoTAgent, ReflexionReActAgent\n",
    "from agential.cog.prompts.agent.reflexion import (\n",
    "    REFLEXION_COT_INSTRUCTION_HOTPOTQA,\n",
    "    HOTPOTQA_FEWSHOT_EXAMPLES_REFLEXION_COT_REFLECT,\n",
    "    REFLEXION_COT_REFLECT_INSTRUCTION_HOTPOTQA,\n",
    "    REFLEXION_REACT_INSTRUCTION_HOTPOTQA,\n",
    "    REFLEXION_REACT_REFLECT_INSTRUCTION_HOTPOTQA,\n",
    "    HOTPOTQA_FEWSHOT_EXAMPLES_REFLEXION_REACT_REFLECT,\n",
    ")\n",
    "from agential.cog.prompts.benchmark.hotpotqa import (\n",
    "    HOTPOTQA_FEWSHOT_EXAMPLES_COT,\n",
    "    HOTPOTQA_FEWSHOT_EXAMPLES_REACT\n",
    ")\n",
    "\n",
    "from langchain_openai import ChatOpenAI\n",
    "\n",
    "import dotenv\n",
    "dotenv.load_dotenv()\n",
    "\n",
    "import warnings\n",
    "warnings.filterwarnings('ignore')\n",
    "\n",
    "llm = ChatOpenAI()"
   ]
  },
  {
   "cell_type": "code",
   "execution_count": null,
   "metadata": {},
   "outputs": [],
   "source": [
    "question = \"VIVA Media AG changed it's name in 2004. What does their new acronym stand for?\"\n",
    "key = \"Gesellschaft mit beschränkter Haftung\"\n",
    "\n",
    "\n",
    "agent = ReflexionCoTAgent(\n",
    "    llm=llm,\n",
    "    mode={\"qa\": \"hotpotqa\"},\n",
    ")\n",
    "out = agent.generate(\n",
    "    question=question, \n",
    "    key=key, \n",
    "    examples=HOTPOTQA_FEWSHOT_EXAMPLES_COT,\n",
    "    prompt=REFLEXION_COT_INSTRUCTION_HOTPOTQA, \n",
    "    reflect_examples=HOTPOTQA_FEWSHOT_EXAMPLES_REFLEXION_COT_REFLECT,\n",
    "    reflect_prompt=REFLEXION_COT_REFLECT_INSTRUCTION_HOTPOTQA,\n",
    "    reflection_strategy=\"reflexion\",\n",
    "    additional_keys={},\n",
    "    reflect_additional_keys={},\n",
    "    max_trials=3,\n",
    "    patience=3,\n",
    "    reset=True\n",
    ")"
   ]
  },
  {
   "cell_type": "code",
   "execution_count": null,
   "metadata": {},
   "outputs": [],
   "source": [
    "out"
   ]
  },
  {
   "cell_type": "code",
   "execution_count": null,
   "metadata": {},
   "outputs": [],
   "source": [
    "question = \"VIVA Media AG changed it's name in 2004. What does their new acronym stand for?\"\n",
    "key = \"Gesellschaft mit beschränkter Haftung\"\n",
    "\n",
    "\n",
    "agent = ReflexionReActAgent(\n",
    "    llm=llm,\n",
    "    mode={\"qa\": \"hotpotqa\"},\n",
    ")\n",
    "out = agent.generate(\n",
    "    question=question, \n",
    "    key=key, \n",
    "    examples=HOTPOTQA_FEWSHOT_EXAMPLES_REACT,\n",
    "    prompt=REFLEXION_REACT_INSTRUCTION_HOTPOTQA, \n",
    "    reflect_examples=HOTPOTQA_FEWSHOT_EXAMPLES_REFLEXION_REACT_REFLECT,\n",
    "    reflect_prompt=REFLEXION_REACT_REFLECT_INSTRUCTION_HOTPOTQA,\n",
    "    reflection_strategy=\"reflexion\",\n",
    "    additional_keys={},\n",
    "    reflect_additional_keys={},\n",
    "    max_steps=6,\n",
    "    max_trials=3,\n",
    "    patience=3,\n",
    "    reset=True\n",
    ")"
   ]
  },
  {
   "cell_type": "code",
   "execution_count": 2,
   "metadata": {},
   "outputs": [],
   "source": [
    "from agential.cog.functional.expel import gather_experience\n",
    "\n",
    "import joblib\n",
    "\n",
    "aa = joblib.load(\"C:/Users/tuvin/OneDrive/Desktop/agential/tests/assets/expel/expel_experiences_10_fake.joblib\")"
   ]
  },
  {
   "cell_type": "code",
   "execution_count": null,
   "metadata": {},
   "outputs": [],
   "source": []
  },
  {
   "cell_type": "code",
   "execution_count": null,
   "metadata": {},
   "outputs": [],
   "source": []
  },
  {
   "cell_type": "code",
   "execution_count": null,
   "metadata": {},
   "outputs": [],
   "source": []
  },
  {
   "cell_type": "code",
   "execution_count": 3,
   "metadata": {},
   "outputs": [
    {
     "name": "stderr",
     "output_type": "stream",
     "text": [
      "c:\\Users\\tuvin\\anaconda3\\envs\\agential\\Lib\\site-packages\\langchain_core\\_api\\deprecation.py:119: LangChainDeprecationWarning: The method `BaseChatModel.__call__` was deprecated in langchain-core 0.1.7 and will be removed in 0.3.0. Use invoke instead.\n",
      "  warn_deprecated(\n"
     ]
    }
   ],
   "source": [
    "questions = [\"VIVA Media AG changed it's name in 2004. What does their new acronym stand for?\",\n",
    " 'Which of Jonny Craig and Pete Doherty has been a member of more bands ?',\n",
    " 'Where was the first governor after the The Missouri Compromise from?',\n",
    " 'The creator of \"Wallace and Gromit\" also created what animation comedy that matched animated zoo animals with a soundtrack of people talking about their homes? ',\n",
    " \"Woman's Era and Naj are what kind of magazines?\",\n",
    " 'The creator of \"Wallace and Gromit\" also created what animation comedy that matched animated zoo animals with a soundtrack of people talking about their homes? ',\n",
    " \"VIVA Media AG changed it's name in 2004. What does their new acronym stand for?\",\n",
    " 'Which of Jonny Craig and Pete Doherty has been a member of more bands ?',\n",
    " 'Where was the first governor after the The Missouri Compromise from?',\n",
    " \"Woman's Era and Naj are what kind of magazines?\"]\n",
    "\n",
    "keys = ['Gesellschaft mit beschränkter Haftung',\n",
    " 'Jonny\" Craig',\n",
    " 'Bath, Maine',\n",
    " 'Creature Comforts',\n",
    " 'fortnightly women interest magazine',\n",
    " 'Creature Comforts',\n",
    " 'Gesellschaft mit beschränkter Haftung',\n",
    " 'Jonny\" Craig',\n",
    " 'Bath, Maine',\n",
    " 'fortnightly women interest magazine']\n",
    "\n",
    "questions = [\"VIVA Media AG changed it's name in 2004. What does their new acronym stand for?\",\n",
    " 'Which of Jonny Craig and Pete Doherty has been a member of more bands ?',\n",
    " 'Where was the first governor after the The Missouri Compromise from?',\n",
    " 'The creator of \"Wallace and Gromit\" also created what animation comedy that matched animated zoo animals with a soundtrack of people talking about their homes? ',\n",
    " \"Woman's Era and Naj are what kind of magazines?\"]\n",
    "\n",
    "keys = ['Gesellschaft mit beschränkter Haftung',\n",
    " 'Jonny\" Craig',\n",
    " 'Bath, Maine',\n",
    " 'Creature Comforts',\n",
    " 'fortnightly women interest magazine']\n",
    "\n",
    "agent = ReflexionReActAgent(\n",
    "    llm=llm,\n",
    "    mode={\"qa\": \"hotpotqa\"},\n",
    ")\n",
    "\n",
    "experiences = gather_experience(\n",
    "    reflexion_react_agent=agent,\n",
    "    questions=questions,\n",
    "    keys=keys,\n",
    "    examples=HOTPOTQA_FEWSHOT_EXAMPLES_REACT,\n",
    "    prompt=REFLEXION_REACT_INSTRUCTION_HOTPOTQA,\n",
    "    reflect_examples=HOTPOTQA_FEWSHOT_EXAMPLES_REFLEXION_REACT_REFLECT,\n",
    "    reflect_prompt=REFLEXION_REACT_REFLECT_INSTRUCTION_HOTPOTQA,\n",
    "    reflection_strategy=\"reflexion\",\n",
    "    patience=3,\n",
    "    max_trials=3\n",
    ")"
   ]
  },
  {
   "cell_type": "code",
   "execution_count": 5,
   "metadata": {},
   "outputs": [
    {
     "data": {
      "text/plain": [
       "{'compare': [1], 'success': [3], 'fail': [0, 2, 4]}"
      ]
     },
     "execution_count": 5,
     "metadata": {},
     "output_type": "execute_result"
    }
   ],
   "source": [
    "from agential.cog.functional.expel import categorize_experiences\n",
    "\n",
    "categorize_experiences(experiences)"
   ]
  },
  {
   "cell_type": "code",
   "execution_count": 7,
   "metadata": {},
   "outputs": [
    {
     "data": {
      "text/plain": [
       "[{'react_output': [{'thought': 'I need to search for Jonny Craig and Pete Doherty, find out how many bands each has been a member of, and determine who has been in more bands.',\n",
       "    'action_type': 'Search',\n",
       "    'query': 'Jonny Craig',\n",
       "    'observation': 'Jenny Craig, Inc., often known simply as Jenny Craig, is an American weight loss, weight management, and nutrition company. The company had more than 700 weight management centers in Australia, the United States, Canada, and New Zealand. The program combined individual weight management counseling with a menu of frozen meals and other foods which were distributed through its centers or shipped directly to clients. On 4 May 2023, the company announced that it was going out of business after 40 years. It was revived as an e-commerce store by Wellful sometime after this announcement in fall 2023.',\n",
       "    'is_correct': False},\n",
       "   {'thought': 'This search did not give me relevant information. I should try searching again for Jonny Craig.',\n",
       "    'action_type': 'Search',\n",
       "    'query': 'Jonny Craig',\n",
       "    'observation': 'Jenny Craig, Inc., often known simply as Jenny Craig, is an American weight loss, weight management, and nutrition company. The company had more than 700 weight management centers in Australia, the United States, Canada, and New Zealand. The program combined individual weight management counseling with a menu of frozen meals and other foods which were distributed through its centers or shipped directly to clients. On 4 May 2023, the company announced that it was going out of business after 40 years. It was revived as an e-commerce store by Wellful sometime after this announcement in fall 2023.',\n",
       "    'is_correct': False},\n",
       "   {'thought': 'This search also did not give me relevant information. I should try searching for Pete Doherty instead.',\n",
       "    'action_type': 'Search',\n",
       "    'query': 'Pete Doherty',\n",
       "    'observation': 'Peter Doherty (born 12 March 1979) is an English musician, songwriter, actor, poet, writer and artist. He is best known for being co-frontman of The Libertines, which he formed with Carl Barât in 1997. His other musical projects are indie bands Babyshambles and Peter Doherty and the Puta Madres.',\n",
       "    'is_correct': False},\n",
       "   {'thought': 'Pete Doherty is a musician and has been part of at least three bands. Now I need to search for Jonny Craig again to compare.',\n",
       "    'action_type': 'Search',\n",
       "    'query': 'Jonny Craig',\n",
       "    'observation': 'Jenny Craig, Inc., often known simply as Jenny Craig, is an American weight loss, weight management, and nutrition company. The company had more than 700 weight management centers in Australia, the United States, Canada, and New Zealand. The program combined individual weight management counseling with a menu of frozen meals and other foods which were distributed through its centers or shipped directly to clients. On 4 May 2023, the company announced that it was going out of business after 40 years. It was revived as an e-commerce store by Wellful sometime after this announcement in fall 2023.',\n",
       "    'is_correct': False},\n",
       "   {'thought': \"I couldn't find relevant information about Jonny Craig's band memberships. I will finish with the answer based on the information found for Pete Doherty.\",\n",
       "    'action_type': 'Finish',\n",
       "    'query': 'Pete Doherty',\n",
       "    'observation': 'Answer is INCORRECT',\n",
       "    'is_correct': False}],\n",
       "  'reflections': []},\n",
       " {'react_output': [{'thought': 'I need to search for the band memberships of Jonny Craig and Pete Doherty, compare the number of bands they have been members of, and determine who has been a member of more bands.',\n",
       "    'action_type': 'Search',\n",
       "    'query': 'Jonny Craig',\n",
       "    'observation': 'Jenny Craig, Inc., often known simply as Jenny Craig, is an American weight loss, weight management, and nutrition company. The company had more than 700 weight management centers in Australia, the United States, Canada, and New Zealand. The program combined individual weight management counseling with a menu of frozen meals and other foods which were distributed through its centers or shipped directly to clients. On 4 May 2023, the company announced that it was going out of business after 40 years. It was revived as an e-commerce store by Wellful sometime after this announcement in fall 2023.',\n",
       "    'is_correct': False},\n",
       "   {'thought': 'This search did not return relevant information about Jonny Craig\\'s band memberships. I should try a different search term related to Jonny Craig\\'s bands, such as \"Jonny Craig bands\" or \"Jonny Craig music projects.\"',\n",
       "    'action_type': 'Search',\n",
       "    'query': 'Jonny Craig bands',\n",
       "    'observation': 'Jonathan Monroe Craig (born March 26, 1986) is an American-Canadian singer, widely recognised for his tenure as the former lead vocalist of renowned post-hardcore bands such as Dance Gavin Dance, Emarosa, and then Slaves, as well as his role as co-lead vocalist in the short-lived supergroup Isles & Glaciers. Presently, he serves as the lead vocalist for the American post-hardcore band Old Flame. As a solo artist, Craig has released two studio albums, two EPs, and a live album, garnering acclaim for his distinctive soul-based singing style.',\n",
       "    'is_correct': False},\n",
       "   {'thought': \"Jonny Craig has been a member of Dance Gavin Dance, Emarosa, Slaves, Isles & Glaciers, and Old Flame. I need to search for Pete Doherty's band memberships next to compare the number of bands they have been members of.\",\n",
       "    'action_type': 'Search',\n",
       "    'query': 'Pete Doherty',\n",
       "    'observation': 'Peter Doherty (born 12 March 1979) is an English musician, songwriter, actor, poet, writer and artist. He is best known for being co-frontman of The Libertines, which he formed with Carl Barât in 1997. His other musical projects are indie bands Babyshambles and Peter Doherty and the Puta Madres.',\n",
       "    'is_correct': False},\n",
       "   {'thought': 'Pete Doherty has been a member of The Libertines, Babyshambles, and Peter Doherty and the Puta Madres. Jonny Craig has been a member of more bands based on the information found. The answer is Jonny Craig.',\n",
       "    'action_type': 'Finish',\n",
       "    'query': 'Jonny Craig',\n",
       "    'observation': 'Answer is CORRECT',\n",
       "    'is_correct': True}],\n",
       "  'reflections': [\"The failure in this reasoning trial was due to not being able to find relevant information on Jonny Craig's band memberships. To mitigate this failure, in the future, I should try different search terms related to Jonny Craig's bands or look for alternative sources of information on his band history. Additionally, I should ensure that I have gathered enough information on both individuals before making a final decision on the answer.\"]}]"
      ]
     },
     "execution_count": 7,
     "metadata": {},
     "output_type": "execute_result"
    }
   ],
   "source": [
    "experiences['trajectories'][1]"
   ]
  },
  {
   "cell_type": "code",
   "execution_count": null,
   "metadata": {},
   "outputs": [],
   "source": []
  }
 ],
 "metadata": {
  "kernelspec": {
   "display_name": "agential",
   "language": "python",
   "name": "python3"
  },
  "language_info": {
   "codemirror_mode": {
    "name": "ipython",
    "version": 3
   },
   "file_extension": ".py",
   "mimetype": "text/x-python",
   "name": "python",
   "nbconvert_exporter": "python",
   "pygments_lexer": "ipython3",
   "version": "3.11.5"
  }
 },
 "nbformat": 4,
 "nbformat_minor": 2
}
