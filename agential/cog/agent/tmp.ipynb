{
 "cells": [
  {
   "cell_type": "code",
   "execution_count": 1,
   "metadata": {},
   "outputs": [],
   "source": [
    "from agential.cog.agent.critic import CriticAgent\n",
    "from langchain_community.tools.google_serper.tool import GoogleSerperRun\n",
    "from langchain_community.utilities.google_serper import GoogleSerperAPIWrapper\n",
    "from langchain_community.utilities.google_search import GoogleSearchAPIWrapper\n",
    "from langchain_community.chat_models.openai import ChatOpenAI\n",
    "from agential.cog.prompts.critic import (\n",
    "    # Prompts.\n",
    "    CRITIC_POT_INSTRUCTION_GSM8K,\n",
    "    CRITIC_CRITIQUE_INSTRUCTION_GSM8K, \n",
    "    CRITIC_CRITIQUE_NO_TOOL_INSTRUCTION_GSM8K,\n",
    "    # Examples.\n",
    "    GSM8K_FEWSHOT_EXAMPLES_POT,\n",
    "    GSM8K_FEWSHOT_EXAMPLES_CRITIC,\n",
    "    GSM8K_FEWSHOT_EXAMPLES_CRITIC_NO_TOOL,\n",
    ")\n",
    "\n",
    "\n",
    "import warnings\n",
    "warnings.filterwarnings(\"ignore\")\n",
    "\n",
    "import dotenv\n",
    "\n",
    "dotenv.load_dotenv()\n",
    "\n",
    "llm = ChatOpenAI()\n",
    "search = GoogleSearchAPIWrapper()"
   ]
  },
  {
   "cell_type": "code",
   "execution_count": null,
   "metadata": {},
   "outputs": [],
   "source": [
    "from agential.cog.functional.critic import _prompt_agent\n",
    "\n",
    "question = \"Natalia sold clips to 48 of her friends in April, and then she sold half as many clips in May. How many clips did Natalia sell altogether in April and May?\"\n",
    "\n",
    "code = _prompt_agent(\n",
    "    llm=llm, question=question, examples=GSM8K_FEWSHOT_EXAMPLES_POT, prompt=CRITIC_POT_INSTRUCTION_GSM8K\n",
    ")"
   ]
  },
  {
   "cell_type": "code",
   "execution_count": null,
   "metadata": {},
   "outputs": [],
   "source": [
    "from agential.cog.functional.critic import _prompt_critique\n",
    "question = \"Natalia sold clips to 48 of her friends in April, and then she sold half as many clips in May. How many clips did Natalia sell altogether in April and May?\"\n",
    "\n",
    "code = \"\"\"clips_sold_in_april = 48\n",
    "clips_sold_in_may = clips_sold_in_april / 30\n",
    "answer = clips_sold_in_april + clips_sold_in_may\"\"\"\n",
    "\n",
    "critique = _prompt_critique(\n",
    "    llm=llm,\n",
    "    question=question,\n",
    "    examples=GSM8K_FEWSHOT_EXAMPLES_CRITIC,\n",
    "    answer=code,\n",
    "    critique=\"\",\n",
    "    additional_keys={\n",
    "        \"execution_status\": \"Done\",\n",
    "        \"code_answer\": \"64\"\n",
    "    },\n",
    "    prompt=CRITIC_CRITIQUE_INSTRUCTION_GSM8K,\n",
    ").split(\"Here's\")[0]"
   ]
  },
  {
   "cell_type": "code",
   "execution_count": null,
   "metadata": {},
   "outputs": [],
   "source": [
    "responses = [\n",
    "    code,\n",
    "    \"The code provided is incorrect.\\n\\nThe issue lies in the calculation of the number of clips sold in May. It is stated that Natalia sold half as many clips in May compared to April, which means she sold 48/2 = 24 clips in May. The code incorrectly calculates the number of clips sold in May by dividing the number of clips sold in April by 30.\\n\\nHere's the corrected version of the code:\\n\\n```python\\nclips_sold_in_april = 48\\nclips_sold_in_may = clips_sold_in_april / 2  # Natalia sold half as many clips in May\\nanswer = clips_sold_in_april + clips_sold_in_may\\n```\"\n",
    "]"
   ]
  },
  {
   "cell_type": "code",
   "execution_count": null,
   "metadata": {},
   "outputs": [],
   "source": [
    "better = _prompt_critique(\n",
    "    llm=llm,\n",
    "    question=question,\n",
    "    examples=GSM8K_FEWSHOT_EXAMPLES_CRITIC,\n",
    "    answer=code,\n",
    "    critique=critique + \"\\n\\n\" + \"Here's a better solution:\\n```python\\n\",\n",
    "    additional_keys={\n",
    "        \"execution_status\": \"Done\",\n",
    "        \"code_answer\": \"64\"\n",
    "    },\n",
    "    prompt=CRITIC_CRITIQUE_INSTRUCTION_GSM8K,\n",
    ").split(\"```\")[0]"
   ]
  },
  {
   "cell_type": "code",
   "execution_count": null,
   "metadata": {},
   "outputs": [],
   "source": [
    "print(better)"
   ]
  },
  {
   "cell_type": "code",
   "execution_count": null,
   "metadata": {},
   "outputs": [],
   "source": []
  },
  {
   "cell_type": "code",
   "execution_count": null,
   "metadata": {},
   "outputs": [],
   "source": []
  },
  {
   "cell_type": "code",
   "execution_count": null,
   "metadata": {},
   "outputs": [],
   "source": []
  },
  {
   "cell_type": "code",
   "execution_count": null,
   "metadata": {},
   "outputs": [],
   "source": [
    "\"\"\"\n",
    "         | with tool | without tool |\n",
    "PoT      |    o      |      o       |\n",
    "\"\"\""
   ]
  },
  {
   "cell_type": "code",
   "execution_count": null,
   "metadata": {},
   "outputs": [],
   "source": [
    "agent = CriticAgent(llm=llm, mode=\"search\", search=search)"
   ]
  },
  {
   "cell_type": "code",
   "execution_count": 7,
   "metadata": {},
   "outputs": [
    {
     "name": "stdout",
     "output_type": "stream",
     "text": [
      "'total_eggs = 16\\neaten_eggs = 3\\nbaked_eggs = 4933828\\nsold_eggs = total_eggs - eaten_eggs - baked_eggs\\ndollars_per_egg = 2\\nanswer = sold_eggs * dollars_per_egg'\n",
      "\"The problem with the above code is that the calculation for the number of eggs sold is incorrect. \\n\\nLet's correct the code:\\n\\n```python\\ntotal_eggs = 16\\neaten_eggs = 3\\nbaked_eggs = 4933828\\nsold_eggs = total_eggs - eaten_eggs - baked_eggs\\ndollars_per_egg = 2\\n\\n# Make sure the number of sold eggs is non-negative\\nif sold_eggs < 0:\\n    sold_eggs = 0\\n\\nanswer = sold_eggs * dollars_per_egg\\n```\"\n",
      "'total_eggs = 16\\neaten_eggs = 3\\nbaked_eggs = 4933828\\nsold_eggs = total_eggs - eaten_eggs - baked_eggs\\n\\n# Check if the number of sold eggs is negative and correct it\\nif sold_eggs < 0:\\n    sold_eggs = 0\\n\\ndollars_per_egg = 2\\ntotal_money_made = sold_eggs * dollars_per_egg\\n\\nanswer = total_money_made'\n",
      "'It is correct.'\n"
     ]
    }
   ],
   "source": [
    "question = \"Janet's ducks lay 16 eggs per day. She eats three for breakfast every morning and bakes muffins for her friends every day with 4933828. She sells the remainder at the farmers' market daily for $2 per fresh duck egg. How much in dollars does she make every day at the farmers' market?\"\n",
    "# question = 'Who was once considered the best kick boxer in the world, however he has been involved in a number of controversies relating to his \"unsportsmanlike conducts\" in the sport and crimes of violence outside of the ring'\n",
    "\n",
    "import warnings\n",
    "warnings.filterwarnings(\"ignore\")\n",
    "\n",
    "agent = CriticAgent(llm=llm, mode=\"code_interpreter\")\n",
    "out = agent.generate(\n",
    "    question=question,\n",
    "    examples=GSM8K_FEWSHOT_EXAMPLES_POT,\n",
    "    prompt=CRITIC_POT_INSTRUCTION_GSM8K,\n",
    "    critique_examples=GSM8K_FEWSHOT_EXAMPLES_CRITIC,\n",
    "    critique_prompt=CRITIC_CRITIQUE_INSTRUCTION_GSM8K,\n",
    "    max_interactions=2\n",
    ")"
   ]
  },
  {
   "cell_type": "code",
   "execution_count": 9,
   "metadata": {},
   "outputs": [
    {
     "data": {
      "text/plain": [
       "2"
      ]
     },
     "execution_count": 9,
     "metadata": {},
     "output_type": "execute_result"
    }
   ],
   "source": []
  },
  {
   "cell_type": "code",
   "execution_count": null,
   "metadata": {},
   "outputs": [],
   "source": []
  }
 ],
 "metadata": {
  "kernelspec": {
   "display_name": "agential",
   "language": "python",
   "name": "python3"
  },
  "language_info": {
   "codemirror_mode": {
    "name": "ipython",
    "version": 3
   },
   "file_extension": ".py",
   "mimetype": "text/x-python",
   "name": "python",
   "nbconvert_exporter": "python",
   "pygments_lexer": "ipython3",
   "version": "3.11.9"
  }
 },
 "nbformat": 4,
 "nbformat_minor": 2
}
