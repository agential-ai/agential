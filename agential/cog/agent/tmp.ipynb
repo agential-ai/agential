{
 "cells": [
  {
   "cell_type": "code",
   "execution_count": 3,
   "metadata": {},
   "outputs": [],
   "source": [
    "from agential.cog.agent.critic import CriticAgent\n",
    "from agential.cog.agent.critic_old import CriticAgent as OldCriticAgent\n",
    "\n",
    "from langchain_community.chat_models.openai import ChatOpenAI\n",
    "from agential.cog.prompts.critic import (\n",
    "    GSM8K_FEWSHOT_EXAMPLES_POT,\n",
    "    CRITIC_POT_INSTRUCTION_GSM8K,\n",
    "    GSM8K_FEWSHOT_EXAMPLES_CRITIC_NO_TOOL,\n",
    "    CRITIC_CRITIQUE_NO_TOOL_INSTRUCTION_GSM8K\n",
    ")\n",
    "\n",
    "import dotenv\n",
    "dotenv.load_dotenv()\n",
    "\n",
    "import warnings\n",
    "warnings.filterwarnings(\"ignore\")\n",
    "\n",
    "llm = ChatOpenAI()"
   ]
  },
  {
   "cell_type": "code",
   "execution_count": null,
   "metadata": {},
   "outputs": [],
   "source": [
    "agent = CriticAgent(llm=llm, mode=\"math\")\n",
    "old_agent = OldCriticAgent(llm=llm, mode=\"math\")\n"
   ]
  }
 ],
 "metadata": {
  "kernelspec": {
   "display_name": "agential",
   "language": "python",
   "name": "python3"
  },
  "language_info": {
   "codemirror_mode": {
    "name": "ipython",
    "version": 3
   },
   "file_extension": ".py",
   "mimetype": "text/x-python",
   "name": "python",
   "nbconvert_exporter": "python",
   "pygments_lexer": "ipython3",
   "version": "3.11.9"
  }
 },
 "nbformat": 4,
 "nbformat_minor": 2
}
