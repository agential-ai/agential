{
 "cells": [
  {
   "cell_type": "code",
   "execution_count": null,
   "metadata": {},
   "outputs": [],
   "source": [
    "from agential.cog.agent.reflexion import ReflexionCoTAgent, ReflexionReActAgent\n",
    "from agential.cog.prompts.agent.reflexion import (\n",
    "    REFLEXION_COT_INSTRUCTION_HOTPOTQA,\n",
    "    HOTPOTQA_FEWSHOT_EXAMPLES_REFLEXION_COT_REFLECT,\n",
    "    REFLEXION_COT_REFLECT_INSTRUCTION_HOTPOTQA,\n",
    "    REFLEXION_REACT_INSTRUCTION_HOTPOTQA,\n",
    "    REFLEXION_REACT_REFLECT_INSTRUCTION_HOTPOTQA,\n",
    "    HOTPOTQA_FEWSHOT_EXAMPLES_REFLEXION_REACT_REFLECT,\n",
    ")\n",
    "from agential.cog.prompts.benchmark.hotpotqa import (\n",
    "    HOTPOTQA_FEWSHOT_EXAMPLES_COT,\n",
    "    HOTPOTQA_FEWSHOT_EXAMPLES_REACT\n",
    ")\n",
    "\n",
    "from langchain_openai import ChatOpenAI\n",
    "\n",
    "import dotenv\n",
    "dotenv.load_dotenv()\n",
    "\n",
    "import warnings\n",
    "warnings.filterwarnings('ignore')\n",
    "\n",
    "llm = ChatOpenAI()"
   ]
  },
  {
   "cell_type": "code",
   "execution_count": null,
   "metadata": {},
   "outputs": [],
   "source": [
    "question = \"VIVA Media AG changed it's name in 2004. What does their new acronym stand for?\"\n",
    "key = \"Gesellschaft mit beschränkter Haftung\"\n",
    "\n",
    "\n",
    "agent = ReflexionCoTAgent(\n",
    "    llm=llm,\n",
    "    mode={\"qa\": \"hotpotqa\"},\n",
    ")\n",
    "out = agent.generate(\n",
    "    question=question, \n",
    "    key=key, \n",
    "    examples=HOTPOTQA_FEWSHOT_EXAMPLES_COT,\n",
    "    prompt=REFLEXION_COT_INSTRUCTION_HOTPOTQA, \n",
    "    reflect_examples=HOTPOTQA_FEWSHOT_EXAMPLES_REFLEXION_COT_REFLECT,\n",
    "    reflect_prompt=REFLEXION_COT_REFLECT_INSTRUCTION_HOTPOTQA,\n",
    "    reflection_strategy=\"reflexion\",\n",
    "    additional_keys={},\n",
    "    reflect_additional_keys={},\n",
    "    max_trials=3,\n",
    "    patience=3,\n",
    "    reset=True\n",
    ")"
   ]
  },
  {
   "cell_type": "code",
   "execution_count": null,
   "metadata": {},
   "outputs": [],
   "source": [
    "out"
   ]
  },
  {
   "cell_type": "code",
   "execution_count": null,
   "metadata": {},
   "outputs": [],
   "source": [
    "question = \"VIVA Media AG changed it's name in 2004. What does their new acronym stand for?\"\n",
    "key = \"Gesellschaft mit beschränkter Haftung\"\n",
    "\n",
    "\n",
    "agent = ReflexionReActAgent(\n",
    "    llm=llm,\n",
    "    mode={\"qa\": \"hotpotqa\"},\n",
    ")\n",
    "out = agent.generate(\n",
    "    question=question, \n",
    "    key=key, \n",
    "    examples=HOTPOTQA_FEWSHOT_EXAMPLES_REACT,\n",
    "    prompt=REFLEXION_REACT_INSTRUCTION_HOTPOTQA, \n",
    "    reflect_examples=HOTPOTQA_FEWSHOT_EXAMPLES_REFLEXION_REACT_REFLECT,\n",
    "    reflect_prompt=REFLEXION_REACT_REFLECT_INSTRUCTION_HOTPOTQA,\n",
    "    reflection_strategy=\"reflexion\",\n",
    "    additional_keys={},\n",
    "    reflect_additional_keys={},\n",
    "    max_steps=6,\n",
    "    max_trials=3,\n",
    "    patience=3,\n",
    "    reset=True\n",
    ")"
   ]
  },
  {
   "cell_type": "code",
   "execution_count": null,
   "metadata": {},
   "outputs": [],
   "source": [
    "from agential.cog.functional.expel import gather_experience\n",
    "\n",
    "import joblib\n",
    "\n",
    "aa = joblib.load(\"C:/Users/tuvin/OneDrive/Desktop/agential/tests/assets/expel/expel_experiences_10_fake.joblib\")"
   ]
  },
  {
   "cell_type": "code",
   "execution_count": null,
   "metadata": {},
   "outputs": [],
   "source": []
  },
  {
   "cell_type": "code",
   "execution_count": null,
   "metadata": {},
   "outputs": [],
   "source": []
  },
  {
   "cell_type": "code",
   "execution_count": null,
   "metadata": {},
   "outputs": [],
   "source": []
  },
  {
   "cell_type": "code",
   "execution_count": null,
   "metadata": {},
   "outputs": [],
   "source": [
    "questions = [\"VIVA Media AG changed it's name in 2004. What does their new acronym stand for?\",\n",
    " 'Which of Jonny Craig and Pete Doherty has been a member of more bands ?',\n",
    " 'Where was the first governor after the The Missouri Compromise from?',\n",
    " 'The creator of \"Wallace and Gromit\" also created what animation comedy that matched animated zoo animals with a soundtrack of people talking about their homes? ',\n",
    " \"Woman's Era and Naj are what kind of magazines?\",\n",
    " 'The creator of \"Wallace and Gromit\" also created what animation comedy that matched animated zoo animals with a soundtrack of people talking about their homes? ',\n",
    " \"VIVA Media AG changed it's name in 2004. What does their new acronym stand for?\",\n",
    " 'Which of Jonny Craig and Pete Doherty has been a member of more bands ?',\n",
    " 'Where was the first governor after the The Missouri Compromise from?',\n",
    " \"Woman's Era and Naj are what kind of magazines?\"]\n",
    "\n",
    "keys = ['Gesellschaft mit beschränkter Haftung',\n",
    " 'Jonny\" Craig',\n",
    " 'Bath, Maine',\n",
    " 'Creature Comforts',\n",
    " 'fortnightly women interest magazine',\n",
    " 'Creature Comforts',\n",
    " 'Gesellschaft mit beschränkter Haftung',\n",
    " 'Jonny\" Craig',\n",
    " 'Bath, Maine',\n",
    " 'fortnightly women interest magazine']\n",
    "\n",
    "questions = [\"VIVA Media AG changed it's name in 2004. What does their new acronym stand for?\",\n",
    " 'Which of Jonny Craig and Pete Doherty has been a member of more bands ?',\n",
    " 'Where was the first governor after the The Missouri Compromise from?',\n",
    " 'The creator of \"Wallace and Gromit\" also created what animation comedy that matched animated zoo animals with a soundtrack of people talking about their homes? ',\n",
    " \"Woman's Era and Naj are what kind of magazines?\"]\n",
    "\n",
    "keys = ['Gesellschaft mit beschränkter Haftung',\n",
    " 'Jonny\" Craig',\n",
    " 'Bath, Maine',\n",
    " 'Creature Comforts',\n",
    " 'fortnightly women interest magazine']\n",
    "\n",
    "agent = ReflexionReActAgent(\n",
    "    llm=llm,\n",
    "    mode={\"qa\": \"hotpotqa\"},\n",
    ")\n",
    "\n",
    "experiences = gather_experience(\n",
    "    reflexion_react_agent=agent,\n",
    "    questions=questions,\n",
    "    keys=keys,\n",
    "    examples=HOTPOTQA_FEWSHOT_EXAMPLES_REACT,\n",
    "    prompt=REFLEXION_REACT_INSTRUCTION_HOTPOTQA,\n",
    "    reflect_examples=HOTPOTQA_FEWSHOT_EXAMPLES_REFLEXION_REACT_REFLECT,\n",
    "    reflect_prompt=REFLEXION_REACT_REFLECT_INSTRUCTION_HOTPOTQA,\n",
    "    reflection_strategy=\"reflexion\",\n",
    "    patience=3,\n",
    "    max_trials=3\n",
    ")"
   ]
  },
  {
   "cell_type": "code",
   "execution_count": null,
   "metadata": {},
   "outputs": [],
   "source": [
    "from agential.cog.functional.expel import categorize_experiences\n",
    "\n",
    "categorize_experiences(experiences)"
   ]
  },
  {
   "cell_type": "code",
   "execution_count": null,
   "metadata": {},
   "outputs": [],
   "source": [
    "from agential.cog.modules.memory.expel import (\n",
    "    ExpeLExperienceMemory\n",
    ")\n",
    "\n",
    "experiences = joblib.load(\"C:/Users/tuvin/OneDrive/Desktop/agential/tests/assets/expel/expel_experiences_10_fake.joblib\")\n",
    "memory = ExpeLExperienceMemory(experiences)\n"
   ]
  },
  {
   "cell_type": "code",
   "execution_count": null,
   "metadata": {},
   "outputs": [],
   "source": [
    "experiences['trajectories'][3]"
   ]
  },
  {
   "cell_type": "code",
   "execution_count": null,
   "metadata": {},
   "outputs": [],
   "source": [
    "memory.success_traj_docs"
   ]
  },
  {
   "cell_type": "code",
   "execution_count": null,
   "metadata": {},
   "outputs": [],
   "source": [
    "experiences['trajectories'][1]"
   ]
  },
  {
   "cell_type": "code",
   "execution_count": null,
   "metadata": {},
   "outputs": [],
   "source": [
    "joblib.dump(experiences, 'expel_experiences_10_fake.joblib')\n"
   ]
  },
  {
   "cell_type": "code",
   "execution_count": null,
   "metadata": {},
   "outputs": [],
   "source": [
    "from agential.cog.prompts.benchmark.hotpotqa import HOTPOTQA_FEWSHOT_EXAMPLES_REACT\n",
    "\n",
    "import re\n",
    "\n",
    "fewshot_questions = re.findall(r\"Question: (.+?)\\n\", HOTPOTQA_FEWSHOT_EXAMPLES_REACT)\n",
    "fewshot_keys = re.findall(\n",
    "    r\"Action \\d+: Finish\\[(.+?)\\]\", HOTPOTQA_FEWSHOT_EXAMPLES_REACT\n",
    ")\n",
    "blocks = re.split(r\"(?=Question: )\", HOTPOTQA_FEWSHOT_EXAMPLES_REACT)[\n",
    "    1:\n",
    "]  # Split and ignore the first empty result\n",
    "\n",
    "fewshot_examples = []\n",
    "for block in blocks:\n",
    "    # Extract all thoughts, actions, and observations within each block\n",
    "    thoughts = re.findall(r\"(Thought \\d+: .+?)\\n\", block)\n",
    "    actions = re.findall(r\"(Action \\d+: .+?)\\n\", block)\n",
    "    observations = re.findall(r\"(Observation \\d+: .+)\", block)\n",
    "\n",
    "    # Combine them into tuples and add to the examples list\n",
    "    fewshot_examples.append(list(zip(thoughts, actions, observations)))"
   ]
  },
  {
   "cell_type": "code",
   "execution_count": null,
   "metadata": {},
   "outputs": [],
   "source": [
    "len(fewshot_examples)"
   ]
  },
  {
   "cell_type": "code",
   "execution_count": null,
   "metadata": {},
   "outputs": [],
   "source": [
    "fewshot_examples"
   ]
  },
  {
   "cell_type": "code",
   "execution_count": null,
   "metadata": {},
   "outputs": [],
   "source": [
    "fewshot_examples[0]"
   ]
  },
  {
   "cell_type": "code",
   "execution_count": null,
   "metadata": {},
   "outputs": [],
   "source": [
    "\n",
    "output_data = []\n",
    "for trial in fewshot_examples[0]:\n",
    "    react_output = []\n",
    "    thought, action, observation = trial\n",
    "    react_output.append({\n",
    "        'thought': thought.split(': ', 1)[1],\n",
    "        'action_type': action.split(':', 1)[0],\n",
    "        'query': action.split('[', 1)[1][:-1],\n",
    "        'observation': observation.split(': ', 1)[1],\n",
    "        'is_correct': False  # Default to False; modify this if needed\n",
    "    })\n",
    "    output_data.append({\n",
    "        'react_output': react_output,\n",
    "        'reflections': []  # Add reflections if available\n",
    "    })"
   ]
  },
  {
   "cell_type": "code",
   "execution_count": null,
   "metadata": {},
   "outputs": [],
   "source": [
    "output_data"
   ]
  },
  {
   "cell_type": "code",
   "execution_count": null,
   "metadata": {},
   "outputs": [],
   "source": [
    "print(blocks[0])"
   ]
  },
  {
   "cell_type": "code",
   "execution_count": 9,
   "metadata": {},
   "outputs": [],
   "source": [
    "from agential.cog.prompts.benchmark.hotpotqa import HOTPOTQA_FEWSHOT_EXAMPLES_REACT\n",
    "import re\n",
    "fewshot_questions = re.findall(r\"Question: (.+?)\\n\", HOTPOTQA_FEWSHOT_EXAMPLES_REACT)\n",
    "fewshot_keys = re.findall(\n",
    "    r\"Action \\d+: Finish\\[(.+?)\\]\", HOTPOTQA_FEWSHOT_EXAMPLES_REACT\n",
    ")\n",
    "\n",
    "fewshot_examples = [\n",
    "    [\n",
    "        {\n",
    "            'thought': 'I need to search Colorado orogeny, find the area that the eastern sector of the Colorado orogeny extends into, then find the elevation range of the area.',\n",
    "            'action_type': 'Search',\n",
    "            'query': 'Colorado orogeny',\n",
    "            'observation': 'The Colorado orogeny was an episode of mountain building (an orogeny) in Colorado and surrounding areas.',\n",
    "            'is_correct': False\n",
    "        },\n",
    "        {\n",
    "            'thought': 'It does not mention the eastern sector. So I need to look up eastern sector.',\n",
    "            'action_type': 'Lookup',\n",
    "            'query': 'eastern sector',\n",
    "            'observation': '(Result 1 / 1) The eastern sector extends into the High Plains and is called the Central Plains orogeny.',\n",
    "            'is_correct': False\n",
    "        },\n",
    "        {\n",
    "            'thought': 'The eastern sector of Colorado orogeny extends into the High Plains. So I need to search High Plains and find its elevation range.',\n",
    "            'action_type': 'Search',\n",
    "            'query': 'High Plains',\n",
    "            'observation': 'High Plains refers to one of two distinct land regions:',\n",
    "            'is_correct': False\n",
    "        },\n",
    "        {\n",
    "            'thought': 'I need to instead search High Plains (United States).',\n",
    "            'action_type': 'Search',\n",
    "            'query': 'High Plains (United States)',\n",
    "            'observation': 'The High Plains are a subregion of the Great Plains. From east to west, the High Plains rise in elevation from around 1,800 to 7,000 ft (550 to 2,130 m).[3]',\n",
    "            'is_correct': False\n",
    "        },\n",
    "        {\n",
    "            'thought': 'High Plains rise in elevation from around 1,800 to 7,000 ft, so the answer is 1,800 to 7,000 ft.',\n",
    "            'action_type': 'Finish',\n",
    "            'query': '1,800 to 7,000 ft',\n",
    "            'observation': '1,800 to 7,000 ft',\n",
    "            'is_correct': True\n",
    "        }\n",
    "    ] for _ in range(6)\n",
    "]\n",
    "from agential.cog.modules.memory.expel import (\n",
    "    ExpeLExperienceMemory,)\n",
    "\n",
    "memory = ExpeLExperienceMemory(\n",
    "      fewshot_questions=fewshot_questions,\n",
    "      fewshot_keys=fewshot_keys,\n",
    "      fewshot_examples=fewshot_examples,\n",
    "  )"
   ]
  },
  {
   "cell_type": "code",
   "execution_count": 10,
   "metadata": {},
   "outputs": [
    {
     "data": {
      "text/plain": [
       "6"
      ]
     },
     "execution_count": 10,
     "metadata": {},
     "output_type": "execute_result"
    }
   ],
   "source": [
    "len(fewshot_examples)"
   ]
  },
  {
   "cell_type": "code",
   "execution_count": 11,
   "metadata": {},
   "outputs": [
    {
     "name": "stdout",
     "output_type": "stream",
     "text": [
      "6\n",
      "6\n",
      "6\n",
      "6\n",
      "6\n"
     ]
    }
   ],
   "source": [
    "for v in memory.experiences.values():\n",
    "    print(len(v))"
   ]
  },
  {
   "cell_type": "code",
   "execution_count": 13,
   "metadata": {},
   "outputs": [
    {
     "data": {
      "text/plain": [
       "[Document(page_content='What is the elevation range for the area that the eastern sector of the Colorado orogeny extends into?', metadata={'type': 'task', 'task_idx': 0}),\n",
       " Document(page_content='Action: Search[Colorado orogeny]', metadata={'type': 'action', 'task_idx': 0}),\n",
       " Document(page_content='Action: Lookup[eastern sector]', metadata={'type': 'action', 'task_idx': 0}),\n",
       " Document(page_content='Action: Search[High Plains]', metadata={'type': 'action', 'task_idx': 0}),\n",
       " Document(page_content='Action: Search[High Plains (United States)]', metadata={'type': 'action', 'task_idx': 0}),\n",
       " Document(page_content='Action: Finish[1,800 to 7,000 ft]', metadata={'type': 'action', 'task_idx': 0}),\n",
       " Document(page_content='Thought: I need to search Colorado orogeny, find the area that the eastern sector of the Colorado orogeny extends into, then find the elevation range of the area.', metadata={'type': 'thought', 'task_idx': 0}),\n",
       " Document(page_content='Thought: It does not mention the eastern sector. So I need to look up eastern sector.', metadata={'type': 'thought', 'task_idx': 0}),\n",
       " Document(page_content='Thought: The eastern sector of Colorado orogeny extends into the High Plains. So I need to search High Plains and find its elevation range.', metadata={'type': 'thought', 'task_idx': 0}),\n",
       " Document(page_content='Thought: I need to instead search High Plains (United States).', metadata={'type': 'thought', 'task_idx': 0}),\n",
       " Document(page_content='Thought: High Plains rise in elevation from around 1,800 to 7,000 ft, so the answer is 1,800 to 7,000 ft.', metadata={'type': 'thought', 'task_idx': 0}),\n",
       " Document(page_content='Thought: I need to search Colorado orogeny, find the area that the eastern sector of the Colorado orogeny extends into, then find the elevation range of the area.\\nAction: Search[Colorado orogeny]\\nObservation: The Colorado orogeny was an episode of mountain building (an orogeny) in Colorado and surrounding areas.\\n', metadata={'type': 'step', 'task_idx': 0}),\n",
       " Document(page_content='Thought: It does not mention the eastern sector. So I need to look up eastern sector.\\nAction: Lookup[eastern sector]\\nObservation: (Result 1 / 1) The eastern sector extends into the High Plains and is called the Central Plains orogeny.\\n', metadata={'type': 'step', 'task_idx': 0}),\n",
       " Document(page_content='Thought: The eastern sector of Colorado orogeny extends into the High Plains. So I need to search High Plains and find its elevation range.\\nAction: Search[High Plains]\\nObservation: High Plains refers to one of two distinct land regions:\\n', metadata={'type': 'step', 'task_idx': 0}),\n",
       " Document(page_content='Thought: I need to instead search High Plains (United States).\\nAction: Search[High Plains (United States)]\\nObservation: The High Plains are a subregion of the Great Plains. From east to west, the High Plains rise in elevation from around 1,800 to 7,000 ft (550 to 2,130 m).[3]\\n', metadata={'type': 'step', 'task_idx': 0}),\n",
       " Document(page_content='Thought: High Plains rise in elevation from around 1,800 to 7,000 ft, so the answer is 1,800 to 7,000 ft.\\nAction: Finish[1,800 to 7,000 ft]\\nObservation: 1,800 to 7,000 ft\\n', metadata={'type': 'step', 'task_idx': 0}),\n",
       " Document(page_content='Musician and satirist Allie Goertz wrote a song about the \"The Simpsons\" character Milhouse, who Matt Groening named after who?', metadata={'type': 'task', 'task_idx': 1}),\n",
       " Document(page_content='Action: Search[Colorado orogeny]', metadata={'type': 'action', 'task_idx': 1}),\n",
       " Document(page_content='Action: Lookup[eastern sector]', metadata={'type': 'action', 'task_idx': 1}),\n",
       " Document(page_content='Action: Search[High Plains]', metadata={'type': 'action', 'task_idx': 1}),\n",
       " Document(page_content='Action: Search[High Plains (United States)]', metadata={'type': 'action', 'task_idx': 1}),\n",
       " Document(page_content='Action: Finish[1,800 to 7,000 ft]', metadata={'type': 'action', 'task_idx': 1}),\n",
       " Document(page_content='Thought: I need to search Colorado orogeny, find the area that the eastern sector of the Colorado orogeny extends into, then find the elevation range of the area.', metadata={'type': 'thought', 'task_idx': 1}),\n",
       " Document(page_content='Thought: It does not mention the eastern sector. So I need to look up eastern sector.', metadata={'type': 'thought', 'task_idx': 1}),\n",
       " Document(page_content='Thought: The eastern sector of Colorado orogeny extends into the High Plains. So I need to search High Plains and find its elevation range.', metadata={'type': 'thought', 'task_idx': 1}),\n",
       " Document(page_content='Thought: I need to instead search High Plains (United States).', metadata={'type': 'thought', 'task_idx': 1}),\n",
       " Document(page_content='Thought: High Plains rise in elevation from around 1,800 to 7,000 ft, so the answer is 1,800 to 7,000 ft.', metadata={'type': 'thought', 'task_idx': 1}),\n",
       " Document(page_content='Thought: I need to search Colorado orogeny, find the area that the eastern sector of the Colorado orogeny extends into, then find the elevation range of the area.\\nAction: Search[Colorado orogeny]\\nObservation: The Colorado orogeny was an episode of mountain building (an orogeny) in Colorado and surrounding areas.\\n', metadata={'type': 'step', 'task_idx': 1}),\n",
       " Document(page_content='Thought: It does not mention the eastern sector. So I need to look up eastern sector.\\nAction: Lookup[eastern sector]\\nObservation: (Result 1 / 1) The eastern sector extends into the High Plains and is called the Central Plains orogeny.\\n', metadata={'type': 'step', 'task_idx': 1}),\n",
       " Document(page_content='Thought: The eastern sector of Colorado orogeny extends into the High Plains. So I need to search High Plains and find its elevation range.\\nAction: Search[High Plains]\\nObservation: High Plains refers to one of two distinct land regions:\\n', metadata={'type': 'step', 'task_idx': 1}),\n",
       " Document(page_content='Thought: I need to instead search High Plains (United States).\\nAction: Search[High Plains (United States)]\\nObservation: The High Plains are a subregion of the Great Plains. From east to west, the High Plains rise in elevation from around 1,800 to 7,000 ft (550 to 2,130 m).[3]\\n', metadata={'type': 'step', 'task_idx': 1}),\n",
       " Document(page_content='Thought: High Plains rise in elevation from around 1,800 to 7,000 ft, so the answer is 1,800 to 7,000 ft.\\nAction: Finish[1,800 to 7,000 ft]\\nObservation: 1,800 to 7,000 ft\\n', metadata={'type': 'step', 'task_idx': 1}),\n",
       " Document(page_content='Which documentary is about Finnish rock groups, Adam Clayton Powell or The Saimaa Gesture?', metadata={'type': 'task', 'task_idx': 2}),\n",
       " Document(page_content='Action: Search[Colorado orogeny]', metadata={'type': 'action', 'task_idx': 2}),\n",
       " Document(page_content='Action: Lookup[eastern sector]', metadata={'type': 'action', 'task_idx': 2}),\n",
       " Document(page_content='Action: Search[High Plains]', metadata={'type': 'action', 'task_idx': 2}),\n",
       " Document(page_content='Action: Search[High Plains (United States)]', metadata={'type': 'action', 'task_idx': 2}),\n",
       " Document(page_content='Action: Finish[1,800 to 7,000 ft]', metadata={'type': 'action', 'task_idx': 2}),\n",
       " Document(page_content='Thought: I need to search Colorado orogeny, find the area that the eastern sector of the Colorado orogeny extends into, then find the elevation range of the area.', metadata={'type': 'thought', 'task_idx': 2}),\n",
       " Document(page_content='Thought: It does not mention the eastern sector. So I need to look up eastern sector.', metadata={'type': 'thought', 'task_idx': 2}),\n",
       " Document(page_content='Thought: The eastern sector of Colorado orogeny extends into the High Plains. So I need to search High Plains and find its elevation range.', metadata={'type': 'thought', 'task_idx': 2}),\n",
       " Document(page_content='Thought: I need to instead search High Plains (United States).', metadata={'type': 'thought', 'task_idx': 2}),\n",
       " Document(page_content='Thought: High Plains rise in elevation from around 1,800 to 7,000 ft, so the answer is 1,800 to 7,000 ft.', metadata={'type': 'thought', 'task_idx': 2}),\n",
       " Document(page_content='Thought: I need to search Colorado orogeny, find the area that the eastern sector of the Colorado orogeny extends into, then find the elevation range of the area.\\nAction: Search[Colorado orogeny]\\nObservation: The Colorado orogeny was an episode of mountain building (an orogeny) in Colorado and surrounding areas.\\n', metadata={'type': 'step', 'task_idx': 2}),\n",
       " Document(page_content='Thought: It does not mention the eastern sector. So I need to look up eastern sector.\\nAction: Lookup[eastern sector]\\nObservation: (Result 1 / 1) The eastern sector extends into the High Plains and is called the Central Plains orogeny.\\n', metadata={'type': 'step', 'task_idx': 2}),\n",
       " Document(page_content='Thought: The eastern sector of Colorado orogeny extends into the High Plains. So I need to search High Plains and find its elevation range.\\nAction: Search[High Plains]\\nObservation: High Plains refers to one of two distinct land regions:\\n', metadata={'type': 'step', 'task_idx': 2}),\n",
       " Document(page_content='Thought: I need to instead search High Plains (United States).\\nAction: Search[High Plains (United States)]\\nObservation: The High Plains are a subregion of the Great Plains. From east to west, the High Plains rise in elevation from around 1,800 to 7,000 ft (550 to 2,130 m).[3]\\n', metadata={'type': 'step', 'task_idx': 2}),\n",
       " Document(page_content='Thought: High Plains rise in elevation from around 1,800 to 7,000 ft, so the answer is 1,800 to 7,000 ft.\\nAction: Finish[1,800 to 7,000 ft]\\nObservation: 1,800 to 7,000 ft\\n', metadata={'type': 'step', 'task_idx': 2}),\n",
       " Document(page_content='What profession does Nicholas Ray and Elia Kazan have in common?', metadata={'type': 'task', 'task_idx': 3}),\n",
       " Document(page_content='Action: Search[Colorado orogeny]', metadata={'type': 'action', 'task_idx': 3}),\n",
       " Document(page_content='Action: Lookup[eastern sector]', metadata={'type': 'action', 'task_idx': 3}),\n",
       " Document(page_content='Action: Search[High Plains]', metadata={'type': 'action', 'task_idx': 3}),\n",
       " Document(page_content='Action: Search[High Plains (United States)]', metadata={'type': 'action', 'task_idx': 3}),\n",
       " Document(page_content='Action: Finish[1,800 to 7,000 ft]', metadata={'type': 'action', 'task_idx': 3}),\n",
       " Document(page_content='Thought: I need to search Colorado orogeny, find the area that the eastern sector of the Colorado orogeny extends into, then find the elevation range of the area.', metadata={'type': 'thought', 'task_idx': 3}),\n",
       " Document(page_content='Thought: It does not mention the eastern sector. So I need to look up eastern sector.', metadata={'type': 'thought', 'task_idx': 3}),\n",
       " Document(page_content='Thought: The eastern sector of Colorado orogeny extends into the High Plains. So I need to search High Plains and find its elevation range.', metadata={'type': 'thought', 'task_idx': 3}),\n",
       " Document(page_content='Thought: I need to instead search High Plains (United States).', metadata={'type': 'thought', 'task_idx': 3}),\n",
       " Document(page_content='Thought: High Plains rise in elevation from around 1,800 to 7,000 ft, so the answer is 1,800 to 7,000 ft.', metadata={'type': 'thought', 'task_idx': 3}),\n",
       " Document(page_content='Thought: I need to search Colorado orogeny, find the area that the eastern sector of the Colorado orogeny extends into, then find the elevation range of the area.\\nAction: Search[Colorado orogeny]\\nObservation: The Colorado orogeny was an episode of mountain building (an orogeny) in Colorado and surrounding areas.\\n', metadata={'type': 'step', 'task_idx': 3}),\n",
       " Document(page_content='Thought: It does not mention the eastern sector. So I need to look up eastern sector.\\nAction: Lookup[eastern sector]\\nObservation: (Result 1 / 1) The eastern sector extends into the High Plains and is called the Central Plains orogeny.\\n', metadata={'type': 'step', 'task_idx': 3}),\n",
       " Document(page_content='Thought: The eastern sector of Colorado orogeny extends into the High Plains. So I need to search High Plains and find its elevation range.\\nAction: Search[High Plains]\\nObservation: High Plains refers to one of two distinct land regions:\\n', metadata={'type': 'step', 'task_idx': 3}),\n",
       " Document(page_content='Thought: I need to instead search High Plains (United States).\\nAction: Search[High Plains (United States)]\\nObservation: The High Plains are a subregion of the Great Plains. From east to west, the High Plains rise in elevation from around 1,800 to 7,000 ft (550 to 2,130 m).[3]\\n', metadata={'type': 'step', 'task_idx': 3}),\n",
       " Document(page_content='Thought: High Plains rise in elevation from around 1,800 to 7,000 ft, so the answer is 1,800 to 7,000 ft.\\nAction: Finish[1,800 to 7,000 ft]\\nObservation: 1,800 to 7,000 ft\\n', metadata={'type': 'step', 'task_idx': 3}),\n",
       " Document(page_content=\"Which magazine was started first Arthur's Magazine or First for Women?\", metadata={'type': 'task', 'task_idx': 4}),\n",
       " Document(page_content='Action: Search[Colorado orogeny]', metadata={'type': 'action', 'task_idx': 4}),\n",
       " Document(page_content='Action: Lookup[eastern sector]', metadata={'type': 'action', 'task_idx': 4}),\n",
       " Document(page_content='Action: Search[High Plains]', metadata={'type': 'action', 'task_idx': 4}),\n",
       " Document(page_content='Action: Search[High Plains (United States)]', metadata={'type': 'action', 'task_idx': 4}),\n",
       " Document(page_content='Action: Finish[1,800 to 7,000 ft]', metadata={'type': 'action', 'task_idx': 4}),\n",
       " Document(page_content='Thought: I need to search Colorado orogeny, find the area that the eastern sector of the Colorado orogeny extends into, then find the elevation range of the area.', metadata={'type': 'thought', 'task_idx': 4}),\n",
       " Document(page_content='Thought: It does not mention the eastern sector. So I need to look up eastern sector.', metadata={'type': 'thought', 'task_idx': 4}),\n",
       " Document(page_content='Thought: The eastern sector of Colorado orogeny extends into the High Plains. So I need to search High Plains and find its elevation range.', metadata={'type': 'thought', 'task_idx': 4}),\n",
       " Document(page_content='Thought: I need to instead search High Plains (United States).', metadata={'type': 'thought', 'task_idx': 4}),\n",
       " Document(page_content='Thought: High Plains rise in elevation from around 1,800 to 7,000 ft, so the answer is 1,800 to 7,000 ft.', metadata={'type': 'thought', 'task_idx': 4}),\n",
       " Document(page_content='Thought: I need to search Colorado orogeny, find the area that the eastern sector of the Colorado orogeny extends into, then find the elevation range of the area.\\nAction: Search[Colorado orogeny]\\nObservation: The Colorado orogeny was an episode of mountain building (an orogeny) in Colorado and surrounding areas.\\n', metadata={'type': 'step', 'task_idx': 4}),\n",
       " Document(page_content='Thought: It does not mention the eastern sector. So I need to look up eastern sector.\\nAction: Lookup[eastern sector]\\nObservation: (Result 1 / 1) The eastern sector extends into the High Plains and is called the Central Plains orogeny.\\n', metadata={'type': 'step', 'task_idx': 4}),\n",
       " Document(page_content='Thought: The eastern sector of Colorado orogeny extends into the High Plains. So I need to search High Plains and find its elevation range.\\nAction: Search[High Plains]\\nObservation: High Plains refers to one of two distinct land regions:\\n', metadata={'type': 'step', 'task_idx': 4}),\n",
       " Document(page_content='Thought: I need to instead search High Plains (United States).\\nAction: Search[High Plains (United States)]\\nObservation: The High Plains are a subregion of the Great Plains. From east to west, the High Plains rise in elevation from around 1,800 to 7,000 ft (550 to 2,130 m).[3]\\n', metadata={'type': 'step', 'task_idx': 4}),\n",
       " Document(page_content='Thought: High Plains rise in elevation from around 1,800 to 7,000 ft, so the answer is 1,800 to 7,000 ft.\\nAction: Finish[1,800 to 7,000 ft]\\nObservation: 1,800 to 7,000 ft\\n', metadata={'type': 'step', 'task_idx': 4}),\n",
       " Document(page_content='Were Pavel Urysohn and Leonid Levin known for the same type of work?', metadata={'type': 'task', 'task_idx': 5}),\n",
       " Document(page_content='Action: Search[Colorado orogeny]', metadata={'type': 'action', 'task_idx': 5}),\n",
       " Document(page_content='Action: Lookup[eastern sector]', metadata={'type': 'action', 'task_idx': 5}),\n",
       " Document(page_content='Action: Search[High Plains]', metadata={'type': 'action', 'task_idx': 5}),\n",
       " Document(page_content='Action: Search[High Plains (United States)]', metadata={'type': 'action', 'task_idx': 5}),\n",
       " Document(page_content='Action: Finish[1,800 to 7,000 ft]', metadata={'type': 'action', 'task_idx': 5}),\n",
       " Document(page_content='Thought: I need to search Colorado orogeny, find the area that the eastern sector of the Colorado orogeny extends into, then find the elevation range of the area.', metadata={'type': 'thought', 'task_idx': 5}),\n",
       " Document(page_content='Thought: It does not mention the eastern sector. So I need to look up eastern sector.', metadata={'type': 'thought', 'task_idx': 5}),\n",
       " Document(page_content='Thought: The eastern sector of Colorado orogeny extends into the High Plains. So I need to search High Plains and find its elevation range.', metadata={'type': 'thought', 'task_idx': 5}),\n",
       " Document(page_content='Thought: I need to instead search High Plains (United States).', metadata={'type': 'thought', 'task_idx': 5}),\n",
       " Document(page_content='Thought: High Plains rise in elevation from around 1,800 to 7,000 ft, so the answer is 1,800 to 7,000 ft.', metadata={'type': 'thought', 'task_idx': 5}),\n",
       " Document(page_content='Thought: I need to search Colorado orogeny, find the area that the eastern sector of the Colorado orogeny extends into, then find the elevation range of the area.\\nAction: Search[Colorado orogeny]\\nObservation: The Colorado orogeny was an episode of mountain building (an orogeny) in Colorado and surrounding areas.\\n', metadata={'type': 'step', 'task_idx': 5}),\n",
       " Document(page_content='Thought: It does not mention the eastern sector. So I need to look up eastern sector.\\nAction: Lookup[eastern sector]\\nObservation: (Result 1 / 1) The eastern sector extends into the High Plains and is called the Central Plains orogeny.\\n', metadata={'type': 'step', 'task_idx': 5}),\n",
       " Document(page_content='Thought: The eastern sector of Colorado orogeny extends into the High Plains. So I need to search High Plains and find its elevation range.\\nAction: Search[High Plains]\\nObservation: High Plains refers to one of two distinct land regions:\\n', metadata={'type': 'step', 'task_idx': 5}),\n",
       " Document(page_content='Thought: I need to instead search High Plains (United States).\\nAction: Search[High Plains (United States)]\\nObservation: The High Plains are a subregion of the Great Plains. From east to west, the High Plains rise in elevation from around 1,800 to 7,000 ft (550 to 2,130 m).[3]\\n', metadata={'type': 'step', 'task_idx': 5}),\n",
       " Document(page_content='Thought: High Plains rise in elevation from around 1,800 to 7,000 ft, so the answer is 1,800 to 7,000 ft.\\nAction: Finish[1,800 to 7,000 ft]\\nObservation: 1,800 to 7,000 ft\\n', metadata={'type': 'step', 'task_idx': 5})]"
      ]
     },
     "execution_count": 13,
     "metadata": {},
     "output_type": "execute_result"
    }
   ],
   "source": [
    "memory.success_traj_docs"
   ]
  },
  {
   "cell_type": "code",
   "execution_count": null,
   "metadata": {},
   "outputs": [],
   "source": []
  }
 ],
 "metadata": {
  "kernelspec": {
   "display_name": "agential",
   "language": "python",
   "name": "python3"
  },
  "language_info": {
   "codemirror_mode": {
    "name": "ipython",
    "version": 3
   },
   "file_extension": ".py",
   "mimetype": "text/x-python",
   "name": "python",
   "nbconvert_exporter": "python",
   "pygments_lexer": "ipython3",
   "version": "3.11.5"
  }
 },
 "nbformat": 4,
 "nbformat_minor": 2
}
