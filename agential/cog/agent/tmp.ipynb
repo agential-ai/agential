{
 "cells": [
  {
   "cell_type": "code",
   "execution_count": 1,
   "metadata": {},
   "outputs": [],
   "source": [
    "from agential.cog.prompts.critic import HUMANEVAL_FEWSHOT_EXAMPLES_POT, CRITIC_POT_INSTRUCTION_HUMANEVAL\n",
    "from agential.cog.functional.critic import _prompt_agent\n",
    "\n",
    "import dotenv\n",
    "import warnings\n",
    "warnings.filterwarnings(\"ignore\")\n",
    "\n",
    "from langchain_community.chat_models.openai import ChatOpenAI\n",
    "\n",
    "llm = ChatOpenAI()"
   ]
  },
  {
   "cell_type": "code",
   "execution_count": 2,
   "metadata": {},
   "outputs": [
    {
     "name": "stdout",
     "output_type": "stream",
     "text": [
      "<PROMPT AGENT===========================================================================>\n",
      "You are an AI that only responds with python code, NOT ENGLISH. You will be given a function signature and its docstring by the user. Write your full implementation (restate the function signature).\n",
      "\n",
      "\n",
      "def has_duplicate_names(names_list) -> bool:\n",
      "    \"\"\"Check if there is any name that appears more than once in the list.\n",
      "    >>> has_duplicate_names(['Alice', 'Bob', 'Charlie', 'Alice']) True\n",
      "    >>> has_duplicate_names(['Alice', 'Bob', 'Charlie', 'Dave']) False\n",
      "    \"\"\"\n",
      "    return len(names_list) != len(set(names_list))\n",
      "\n",
      "def are_points_close(points, threshold) -> bool:\n",
      "    \"\"\"Determine if any two points in the list are closer than the given threshold.\n",
      "    >>> are_points_close([(0,0), (1,1), (2,2)], 1.5) False\n",
      "    >>> are_points_close([(0,0), (0.5,0.5), (2,2)], 1.0) True\n",
      "    \"\"\"\n",
      "    from math import sqrt\n",
      "    for i in range(len(points)):\n",
      "        for j in range(i + 1, len(points)):\n",
      "            if sqrt((points[i][0] - points[j][0])**2 + (points[i][1] - points[j][1])**2) < threshold:\n",
      "                return True\n",
      "    return False\n",
      "\n",
      "def exceeds_threshold(measurements, threshold) -> int:\n",
      "    \"\"\"Return the count of instances where the difference between any two successive measurements exceeds the given threshold.\n",
      "    >>> exceeds_threshold([100, 102, 107, 103], 5) 1\n",
      "    >>> exceeds_threshold([100, 101, 102, 103], 2) 0\n",
      "    \"\"\"\n",
      "    count = 0\n",
      "    for i in range(1, len(measurements)):\n",
      "        if abs(measurements[i] - measurements[i - 1]) > threshold:\n",
      "            count += 1\n",
      "    return count\n",
      "\n",
      "def has_proximal_elements(arr, close_value) -> list:\n",
      "    \"\"\"Return a list of tuples of indices for pairs of elements in the array where the absolute difference is less than or equal to the close_value.\n",
      "    >>> has_proximal_elements([10, 20, 30, 40], 5) []\n",
      "    >>> has_proximal_elements([10, 15, 20, 25], 5) [(0, 1), (1, 2), (2, 3)]\n",
      "    \"\"\"\n",
      "    pairs = []\n",
      "    for i in range(len(arr)):\n",
      "        for j in range(i + 1, len(arr)):\n",
      "            if abs(arr[i] - arr[j]) <= close_value:\n",
      "                pairs.append((i, j))\n",
      "    return pairs\n",
      "\n",
      "def has_similar_temperatures(temp_list, max_diff) -> dict:\n",
      "    \"\"\"Return a dictionary where keys are pairs of indices and values are the differences between temperatures if the difference is within the max difference.\n",
      "    >>> has_similar_temperatures([22.0, 22.5, 23.0, 24.0], 0.6) {(0, 1): 0.5, (0, 2): 1.0, (1, 2): 0.5}\n",
      "    >>> has_similar_temperatures([22.0, 23.0, 24.0, 26.0], 0.5) {}\n",
      "    \"\"\"\n",
      "    close_temps = {}\n",
      "    for i in range(len(temp_list)):\n",
      "        for j in range(i + 1, len(temp_list)):\n",
      "            diff = abs(temp_list[i] - temp_list[j])\n",
      "            if diff <= max_diff:\n",
      "                close_temps[(i, j)] = diff\n",
      "    return close_temps\n",
      "(END OF EXAMPLES)\n",
      "\n",
      "from typing import List \n",
      "\n",
      "def has_close_elements(numbers: List[float], threshold: float) -> bool: \n",
      "    \"\"\"Check if in given list of numbers, are any two numbers closer to each other than given threshold. \n",
      "    >>> has_close_elements([1.0, 2.0, 3.0], 0.5) False \n",
      "    >>> has_close_elements([1.0, 2.8, 3.0, 4.0, 5.0, 2.0], 0.3)\n",
      "    True\n",
      "    \"\"\"\n",
      "\n",
      "<PROMPT AGENT===========================================================================>\n",
      "<OUT AGENT===========================================================================>\n",
      "'def has_close_elements(numbers: List[float], threshold: float) -> bool:\\n    for i in range(len(numbers)):\\n        for j in range(i + 1, len(numbers)):\\n            if abs(numbers[i] - numbers[j]) < threshold:\\n                return True\\n    return False'\n",
      "<OUT AGENT===========================================================================>\n"
     ]
    }
   ],
   "source": [
    "question = \"\"\"from typing import List \n",
    "\n",
    "def has_close_elements(numbers: List[float], threshold: float) -> bool: \n",
    "    \\\"\\\"\\\"Check if in given list of numbers, are any two numbers closer to each other than given threshold. \n",
    "    >>> has_close_elements([1.0, 2.0, 3.0], 0.5) False \n",
    "    >>> has_close_elements([1.0, 2.8, 3.0, 4.0, 5.0, 2.0], 0.3)\n",
    "    True\n",
    "    \\\"\\\"\\\"\n",
    "\"\"\"\n",
    "\n",
    "\n",
    "out = _prompt_agent(\n",
    "    llm=llm,\n",
    "    question=question,\n",
    "    examples=HUMANEVAL_FEWSHOT_EXAMPLES_POT,\n",
    "    prompt=CRITIC_POT_INSTRUCTION_HUMANEVAL\n",
    ")"
   ]
  },
  {
   "cell_type": "code",
   "execution_count": 3,
   "metadata": {},
   "outputs": [
    {
     "name": "stdout",
     "output_type": "stream",
     "text": [
      "def has_close_elements(numbers: List[float], threshold: float) -> bool:\n",
      "    for i in range(len(numbers)):\n",
      "        for j in range(i + 1, len(numbers)):\n",
      "            if abs(numbers[i] - numbers[j]) < threshold:\n",
      "                return True\n",
      "    return False\n"
     ]
    }
   ],
   "source": [
    "print(out)"
   ]
  },
  {
   "cell_type": "code",
   "execution_count": null,
   "metadata": {},
   "outputs": [],
   "source": []
  }
 ],
 "metadata": {
  "kernelspec": {
   "display_name": "agential",
   "language": "python",
   "name": "python3"
  },
  "language_info": {
   "codemirror_mode": {
    "name": "ipython",
    "version": 3
   },
   "file_extension": ".py",
   "mimetype": "text/x-python",
   "name": "python",
   "nbconvert_exporter": "python",
   "pygments_lexer": "ipython3",
   "version": "3.11.9"
  }
 },
 "nbformat": 4,
 "nbformat_minor": 2
}
