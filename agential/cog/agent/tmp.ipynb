{
 "cells": [
  {
   "cell_type": "markdown",
   "metadata": {},
   "source": [
    "# Code Gen"
   ]
  },
  {
   "cell_type": "code",
   "execution_count": 1,
   "metadata": {},
   "outputs": [
    {
     "name": "stderr",
     "output_type": "stream",
     "text": [
      "c:\\Users\\tuvin\\anaconda3\\envs\\agential\\Lib\\site-packages\\langchain_core\\_api\\deprecation.py:119: LangChainDeprecationWarning: The class `DocstoreExplorer` was deprecated in LangChain 0.1.0 and will be removed in 0.2.0\n",
      "  warn_deprecated(\n"
     ]
    }
   ],
   "source": [
    "from agential.cog.prompts.agents.react import REACT_INSTRUCTION_HUMANEVAL\n",
    "from agential.cog.prompts.benchmarks.humaneval import HUMANEVAL_FEWSHOT_EXAMPLES_POT\n",
    "from agential.cog.strategies.react.code import ReActCodeStrategy\n",
    "from agential.cog.agent.react import ReActAgent\n",
    "import warnings\n",
    "warnings.filterwarnings('ignore')\n",
    "\n",
    "import dotenv\n",
    "\n",
    "dotenv.load_dotenv()\n",
    "\n",
    "from langchain_community.chat_models.openai import ChatOpenAI\n",
    "\n",
    "llm = ChatOpenAI()\n",
    "\n",
    "strat = ReActCodeStrategy(llm)"
   ]
  },
  {
   "cell_type": "code",
   "execution_count": 2,
   "metadata": {},
   "outputs": [],
   "source": [
    "inst = {\"task_id\": \"HumanEval/0\", \"prompt\": \"from typing import List\\n\\n\\ndef has_close_elements(numbers: List[float], threshold: float) -> bool:\\n    \\\"\\\"\\\" Check if in given list of numbers, are any two numbers closer to each other than\\n    given threshold.\\n    >>> has_close_elements([1.0, 2.0, 3.0], 0.5)\\n    False\\n    >>> has_close_elements([1.0, 2.8, 3.0, 4.0, 5.0, 2.0], 0.3)\\n    True\\n    \\\"\\\"\\\"\\n\", \"entry_point\": \"has_close_elements\", \"canonical_solution\": \"    for idx, elem in enumerate(numbers):\\n        for idx2, elem2 in enumerate(numbers):\\n            if idx != idx2:\\n                distance = abs(elem - elem2)\\n                if distance < threshold:\\n                    return True\\n\\n    return False\\n\", \"test\": \"\\n\\nMETADATA = {\\n    'author': 'jt',\\n    'dataset': 'test'\\n}\\n\\n\\ndef check(candidate):\\n    assert candidate([1.0, 2.0, 3.9, 4.0, 5.0, 2.2], 0.3) == True\\n    assert candidate([1.0, 2.0, 3.9, 4.0, 5.0, 2.2], 0.05) == False\\n    assert candidate([1.0, 2.0, 5.9, 4.0, 5.0], 0.95) == True\\n    assert candidate([1.0, 2.0, 5.9, 4.0, 5.0], 0.8) == False\\n    assert candidate([1.0, 2.0, 3.0, 4.0, 5.0, 2.0], 0.1) == True\\n    assert candidate([1.1, 2.2, 3.1, 4.1, 5.1], 1.0) == True\\n    assert candidate([1.1, 2.2, 3.1, 4.1, 5.1], 0.5) == False\\n\\n\"}\n",
    "\n",
    "question = inst['prompt']\n",
    "\n",
    "tests = f\"{inst['test']}\\ncheck({inst['entry_point']})\""
   ]
  },
  {
   "cell_type": "markdown",
   "metadata": {},
   "source": [
    "# Strategy Test"
   ]
  },
  {
   "cell_type": "code",
   "execution_count": 3,
   "metadata": {},
   "outputs": [
    {
     "name": "stdout",
     "output_type": "stream",
     "text": [
      "<===========================================================>\n",
      "Answer a coding question with interleaving Thought, Action, Observation steps. Thought can reason about the current question and plan the retrieval steps, and Action can be three types:\n",
      "(1) Implement[code], which implements the function to answer the question.\n",
      "(2) Test[code], which implements assert statement test cases to test the implemented code.\n",
      "(3) Finish[answer], which returns the code implementation and finishes the task.\n",
      "You have a maximum of 6 steps.\n",
      "\n",
      "```python\n",
      "from typing import List\n",
      "\n",
      "\n",
      "def has_close_elements(numbers: List[float], threshold: float) -> bool:\n",
      "    \"\"\" Check if in given list of numbers, are any two numbers closer to each other than\n",
      "    given threshold.\n",
      "    >>> has_close_elements([1.0, 2.0, 3.0], 0.5)\n",
      "    False\n",
      "    >>> has_close_elements([1.0, 2.8, 3.0, 4.0, 5.0, 2.0], 0.3)\n",
      "    True\n",
      "    \"\"\"\n",
      "\n",
      "    pass\n",
      "```\n",
      "\n",
      "\n",
      "Thought:\n",
      "<===========================================================>\n",
      "'To implement this function, we need to iterate through the list of numbers and compare the absolute difference between each pair of numbers. If the absolute difference is less than the threshold, we return True. Otherwise, we return False.\\n\\nAction: Implement[code]'\n"
     ]
    }
   ],
   "source": [
    "out = strat.generate(\n",
    "    question=question,\n",
    "    examples=HUMANEVAL_FEWSHOT_EXAMPLES_POT,\n",
    "    prompt=REACT_INSTRUCTION_HUMANEVAL,\n",
    "    additional_keys={}\n",
    ")"
   ]
  },
  {
   "cell_type": "code",
   "execution_count": 4,
   "metadata": {},
   "outputs": [
    {
     "data": {
      "text/plain": [
       "'To implement this function, we need to iterate through the list of numbers and compare the absolute difference between each pair of numbers. If the absolute difference is less than the threshold, we return True. Otherwise, we return False.'"
      ]
     },
     "execution_count": 4,
     "metadata": {},
     "output_type": "execute_result"
    }
   ],
   "source": [
    "out"
   ]
  },
  {
   "cell_type": "code",
   "execution_count": 5,
   "metadata": {},
   "outputs": [
    {
     "name": "stdout",
     "output_type": "stream",
     "text": [
      "<===========================================================>\n",
      "Answer a coding question with interleaving Thought, Action, Observation steps. Thought can reason about the current question and plan the retrieval steps, and Action can be three types:\n",
      "(1) Implement[code], which implements the function to answer the question.\n",
      "(2) Test[code], which implements assert statement test cases to test the implemented code.\n",
      "(3) Finish[answer], which returns the code implementation and finishes the task.\n",
      "You have a maximum of 6 steps.\n",
      "\n",
      "```python\n",
      "from typing import List\n",
      "\n",
      "\n",
      "def has_close_elements(numbers: List[float], threshold: float) -> bool:\n",
      "    \"\"\" Check if in given list of numbers, are any two numbers closer to each other than\n",
      "    given threshold.\n",
      "    >>> has_close_elements([1.0, 2.0, 3.0], 0.5)\n",
      "    False\n",
      "    >>> has_close_elements([1.0, 2.8, 3.0, 4.0, 5.0, 2.0], 0.3)\n",
      "    True\n",
      "    \"\"\"\n",
      "\n",
      "    pass\n",
      "```\n",
      "\n",
      "\n",
      "Thought: To implement this function, we need to iterate through the list of numbers and compare the absolute difference between each pair of numbers. If the absolute difference is less than the threshold, we return True. Otherwise, we return False.\n",
      "Action:\n",
      "<===========================================================>\n",
      "'Implement[code]:\\n```python\\nfrom typing import List\\n\\n\\ndef has_close_elements(numbers: List[float], threshold: float) -> bool:\\n    for i in range(len(numbers)):\\n        for j in range(i+1, len(numbers)):\\n            if abs(numbers[i] - numbers[j]) < threshold:\\n                return True\\n    return False\\n```\\n\\nThought: Now that we have implemented the function, we need to test it with the given test cases to ensure it works as expected.\\nAction: Test[code]\\n```python\\ndef test_has_close_elements():\\n    assert has_close_elements([1.0, 2.0, 3.0], 0.5) == False\\n    assert has_close_elements([1.0, 2.8, 3.0, 4.0, 5.0, 2.0], 0.3) == True\\n\\ntest_has_close_elements()\\n```\\n\\nThought: The test cases have passed successfully, so the implementation of the function is correct.\\nAction: Finish[answer]'\n"
     ]
    }
   ],
   "source": [
    "action_type, query = strat.generate_action(\n",
    "    question=question,\n",
    "    examples=HUMANEVAL_FEWSHOT_EXAMPLES_POT,\n",
    "    prompt=REACT_INSTRUCTION_HUMANEVAL,\n",
    "    additional_keys={}\n",
    ")"
   ]
  },
  {
   "cell_type": "code",
   "execution_count": 6,
   "metadata": {},
   "outputs": [
    {
     "name": "stdout",
     "output_type": "stream",
     "text": [
      "Implement from typing import List\n",
      "\n",
      "\n",
      "def has_close_elements(numbers: List[float], threshold: float) -> bool:\n",
      "    for i in range(len(numbers)):\n",
      "        for j in range(i+1, len(numbers)):\n",
      "            if abs(numbers[i] - numbers[j]) < threshold:\n",
      "                return True\n",
      "    return False\n"
     ]
    }
   ],
   "source": [
    "print(action_type, query)"
   ]
  },
  {
   "cell_type": "code",
   "execution_count": 7,
   "metadata": {},
   "outputs": [],
   "source": [
    "obs = strat.generate_observation(\n",
    "    idx=0,\n",
    "    action_type=action_type,\n",
    "    query=query\n",
    ")"
   ]
  },
  {
   "cell_type": "code",
   "execution_count": 8,
   "metadata": {},
   "outputs": [
    {
     "data": {
      "text/plain": [
       "'Done'"
      ]
     },
     "execution_count": 8,
     "metadata": {},
     "output_type": "execute_result"
    }
   ],
   "source": [
    "obs"
   ]
  },
  {
   "cell_type": "markdown",
   "metadata": {},
   "source": [
    "# End2End Test"
   ]
  },
  {
   "cell_type": "code",
   "execution_count": 10,
   "metadata": {},
   "outputs": [],
   "source": [
    "agent = ReActAgent(\n",
    "    llm=llm,\n",
    "    mode={\"code\": \"mbpp\"}\n",
    ")\n",
    "\n",
    "out = agent.generate(\n",
    "    question=question,\n",
    "    examples=HUMANEVAL_FEWSHOT_EXAMPLES_POT,\n",
    "    prompt=REACT_INSTRUCTION_HUMANEVAL,\n",
    "    max_steps=3\n",
    ")"
   ]
  },
  {
   "cell_type": "code",
   "execution_count": 9,
   "metadata": {},
   "outputs": [],
   "source": [
    "# from agential.cog.prompts.agents.react import REACT_INSTRUCTION_MBPP\n",
    "# from agential.cog.prompts.benchmarks.mbpp import MBPP_FEWSHOT_EXAMPLES_REACT\n",
    "\n",
    "# question = \"Write a python function to find the first repeated character in a given string.\"\n",
    "# tests = \"\"\"assert first_repeated_char(\"abcabc\") == \"a\"\n",
    "# assert first_repeated_char(\"abc\") == None\n",
    "# assert first_repeated_char(\"123123\") == \"1\\\"\"\"\"\n",
    "\n",
    "# agent = ReActAgent(\n",
    "#     llm=llm,\n",
    "#     mode={\"code\": \"mbpp\"}\n",
    "# )\n",
    "\n",
    "# out = agent.generate(\n",
    "#     question=question,\n",
    "#     examples=MBPP_FEWSHOT_EXAMPLES_REACT,\n",
    "#     prompt=REACT_INSTRUCTION_MBPP,\n",
    "#     additional_keys={\"tests\": tests},\n",
    "#     max_steps=3\n",
    "# )"
   ]
  },
  {
   "cell_type": "code",
   "execution_count": null,
   "metadata": {},
   "outputs": [],
   "source": []
  }
 ],
 "metadata": {
  "kernelspec": {
   "display_name": "agential",
   "language": "python",
   "name": "python3"
  },
  "language_info": {
   "codemirror_mode": {
    "name": "ipython",
    "version": 3
   },
   "file_extension": ".py",
   "mimetype": "text/x-python",
   "name": "python",
   "nbconvert_exporter": "python",
   "pygments_lexer": "ipython3",
   "version": "3.11.9"
  }
 },
 "nbformat": 4,
 "nbformat_minor": 2
}
