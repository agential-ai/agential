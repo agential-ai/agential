{
 "cells": [
  {
   "cell_type": "markdown",
   "metadata": {},
   "source": [
    "# 📊 **Performance of ReAct Agent Running a Sample Question from TriviaQA Benchmark**\n"
   ]
  },
  {
   "cell_type": "markdown",
   "metadata": {},
   "source": [
    "Import essential modules"
   ]
  },
  {
   "cell_type": "code",
   "execution_count": null,
   "metadata": {},
   "outputs": [],
   "source": [
    "import os\n",
    "import openai\n",
    "import dotenv\n",
    "from langchain_community.chat_models import ChatOpenAI\n",
    "from langchain_core.language_models.chat_models import BaseChatModel\n",
    "from agential.cog.agent.react import ReActAgent\n",
    "from agential.cog.prompts.react import (\n",
    "    TRIVIAQA_FEWSHOT_EXAMPLES,\n",
    "    REACT_INSTRUCTION_TRIVIAQA,\n",
    ")\n",
    "print(\"Environment has been set up\")"
   ]
  },
  {
   "cell_type": "code",
   "execution_count": null,
   "metadata": {
    "scrolled": true
   },
   "outputs": [],
   "source": [
    "from dotenv import load_dotenv\n",
    "load_dotenv()\n",
    "api_key = os.getenv('OPENAI_API_KEY')\n",
    "if not api_key:\n",
    "    raise ValueError(\"API key not found. Please check your .env file.\")\n",
    "\n",
    "print(f\"API key has been activated: {api_key}\")"
   ]
  },
  {
   "cell_type": "code",
   "execution_count": null,
   "metadata": {},
   "outputs": [],
   "source": [
    "gpt_turbo = ChatOpenAI(api_key=api_key,model=\"gpt-3.5-turbo\")\n",
    "print(\"agent initialized\")\n",
    "agent = ReActAgent(llm=gpt_turbo)"
   ]
  },
  {
   "cell_type": "code",
   "execution_count": null,
   "metadata": {},
   "outputs": [],
   "source": [
    "question = \"American Callan Pinckney's eponymously named system became a best-selling (1980s-2000s) book/video franchise in what genre?\"\n",
    "outputs = agent.generate(question=question, examples=TRIVIAQA_FEWSHOT_EXAMPLES,\n",
    "        prompt=REACT_INSTRUCTION_TRIVIAQA)\n",
    "\n",
    "print(f\"Question: {question}\") \n",
    "\n",
    "if outputs:\n",
    "    for output in outputs:\n",
    "        print(\"Thought:\", output.thought)\n",
    "        print(\"Action:\", output.action)\n",
    "        print(\"Observation:\", output.observation)\n",
    "else:\n",
    "    print(\"No output generated.\")"
   ]
  }
 ],
 "metadata": {
  "kernelspec": {
   "display_name": "Python 3 (ipykernel)",
   "language": "python",
   "name": "python3"
  },
  "language_info": {
   "codemirror_mode": {
    "name": "ipython",
    "version": 3
   },
   "file_extension": ".py",
   "mimetype": "text/x-python",
   "name": "python",
   "nbconvert_exporter": "python",
   "pygments_lexer": "ipython3",
   "version": "3.11.5"
  }
 },
 "nbformat": 4,
 "nbformat_minor": 4
}
