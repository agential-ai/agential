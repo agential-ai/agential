{
 "cells": [
  {
   "cell_type": "code",
   "execution_count": 86,
   "id": "24ee8a7e",
   "metadata": {},
   "outputs": [],
   "source": [
    "from critic import CriticAgent\n",
    "import sys\n",
    "sys.path.append('../../')\n",
    "from cog.functional import critic\n",
    "from cog.prompts.critic import (TabMWP_MULTI_CHOICE, TabMWP_FREE_TEXT)"
   ]
  },
  {
   "cell_type": "code",
   "execution_count": 93,
   "id": "2a9b0fc9-43fd-4b5f-a4dd-70a78b3a50ca",
   "metadata": {},
   "outputs": [],
   "source": [
    "# %env OPENAI_API_KEY\n",
    "# %env GOOGLE_API_KEY\n",
    "# %env GOOGLE_CSE_ID"
   ]
  },
  {
   "cell_type": "code",
   "execution_count": 67,
   "id": "f2f5026e-afab-4169-99fa-f7ecaccef553",
   "metadata": {},
   "outputs": [
    {
     "name": "stdout",
     "output_type": "stream",
     "text": [
      "Question: A school district compared how many students attend each elementary school. Which school has the fewest students?\n",
      "Proposed Answer: Green Pastures Elementary\n",
      "Plausibility: The answer \"Green Pastures Elementary\" is a school name, which matches the question asking for a school, making it plausible.\n",
      "Truthfulness: The information provided matches the data in the table, where Green Pastures Elementary has the lowest number of students. Therefore, the proposed answer is correct.\n",
      "\n",
      "Overall, the answer is both plausible and truthful based on the given data.\n"
     ]
    }
   ],
   "source": [
    "# test cog/agent with TabMWP_MULTI_CHOICE\n",
    "model = ChatOpenAI()\n",
    "search = GoogleSearchAPIWrapper()\n",
    "\n",
    "agent = CriticAgent(model, search)\n",
    "print(agent.generate(question=TabMWP_MULTI_CHOICE))"
   ]
  },
  {
   "cell_type": "code",
   "execution_count": 72,
   "id": "1c9f3d29-f4e4-4e4b-b85b-5a6799af35fb",
   "metadata": {},
   "outputs": [
    {
     "name": "stdout",
     "output_type": "stream",
     "text": [
      "Great job on solving those problems! You correctly identified the range, calculated differences, determined costs, and found modes in the given scenarios. Keep up the good work! If you have any more questions or need further assistance, feel free to ask.\n"
     ]
    }
   ],
   "source": [
    "# test cog/agent with TabMWP_FREE_TEXT\n",
    "print(agent.generate(TabMWP_FREE_TEXT))"
   ]
  },
  {
   "cell_type": "code",
   "execution_count": 84,
   "id": "98674787-1738-42d7-8414-174146d0632c",
   "metadata": {},
   "outputs": [
    {
     "data": {
      "text/plain": [
       "'\\nTable Text:\\nCountry | 1970s | 1980s\\nJapan | 2 | 2\\nItaly | 2 | 3\\nRussia | 5 | 1\\nQuestion:\\nFor an assignment, Ruben looked at which countries got the most Nobel Prizes in various decades. Of the countries shown, which country had the most Nobel Prize winners in the 1980s?\\nChoices:\\nJapan, Italy, Russia\\nAnswer:\\nItaly\\nSolution:\\nLook at the numbers in the 1980 s column. Find the greatest number in this column.\\n\\nThe greatest number is 3, which is in the Italy row. Of the countries shown, Italy had the most Nobel Prize winners in the 1980 s.\\n\\n---\\nTable Text:\\nFoggy Port | 7:00 A.M. | 7:15 A.M. | 7:30 A.M. | 7:45 A.M. | 8:00 A.M.\\nGreen Harbor | 8:30 A.M. | 8:45 A.M. | 9:00 A.M. | 9:15 A.M. | 9:30 A.M.\\nGrassy Beach | 10:15 A.M. | 10:30 A.M. | 10:45 A.M. | 11:00 A.M. | 11:15 A.M.\\nBay Harbor | 12:00 P.M. | 12:15 P.M. | 12:30 P.M. | 12:45 P.M. | 1:00 P.M.\\nSeagull Port | 1:45 P.M. | 2:00 P.M. | 2:15 P.M. | 2:30 P.M. | 2:45 P.M.\\nSandy Shores | 3:15 P.M. | 3:30 P.M. | 3:45 P.M. | 4:00 P.M. | 4:15 P.M.\\nCliff View | 5:00 P.M. | 5:15 P.M. | 5:30 P.M. | 5:45 P.M. | 6:00 P.M.\\nQuestion:\\nLook at the following schedule. How long does it take to get from Foggy Port to Cliff View?\\nChoices:\\n9 hours and 30 minutes, 7 hours and 45 minutes, 7 hours and 30 minutes, 10 hours\\nAnswer:\\n10 hours\\nSolution:\\nRead the times in the first column for Foggy Port and Cliff View.\\n\\nFind the elapsed time between 7:00 A. M. and 5:00 P. M. The elapsed time is 10 hours.\\n\\nNo matter which column of times you look at, the elapsed time is always 10 hours.\\n\\n---\\nTable Text:\\nx | y\\n10 | 15\\n11 | 9\\n12 | 2\\nQuestion:\\nThe table shows a function. Is the function linear or nonlinear?\\nChoices:\\nlinear, nonlinear\\nAnswer:\\nnonlinear\\nSolution:\\nTo determine whether the function is linear or nonlinear, see whether it has a constant rate of change.\\nPick the points in any two rows of the table and calculate the rate of change between them. The first two rows are a good place to start.\\nCall the values in the first row x1 and y1. Call the values in the second row x2 and y2.\\nRate of change = \\x0crac{y2 - y1}{x2 - x1}\\n = \\x0crac{9 - 15}{11 - 10}\\n = \\x0crac{-6}{1}\\n = -6\\nNow pick any other two rows and calculate the rate of change between them.\\nCall the values in the first row x1 and y1. Call the values in the third row x2 and y2.\\nRate of change = \\x0crac{y2 - y1}{x2 - x1}\\n = \\x0crac{2 - 15}{12 - 10}\\n = \\x0crac{-13}{2}\\n = -6\\x0crac{1}{2}\\nThe rate of change is not the same for each pair of points. So, the function does not have a constant rate of change.\\nThe function is nonlinear.\\n\\n---\\nTable Text:\\nName | Number of coins\\nPete | 654\\nSally | 646\\nAriel | 668\\nBernie | 645\\nQuestion:\\nSome friends discussed the sizes of their coin collections. Who has the fewest coins?\\nChoices:\\nPete, Sally, Ariel, Bernie\\nAnswer:\\nBernie\\nSolution:\\nFind the least number in the table. Remember to compare the numbers starting with the highest place value. The least number is 645.\\n\\nNow find the corresponding name. Bernie corresponds to 645.\\n\\n---\\nTable Text:\\nDay | Number of hammers\\nFriday | 28\\nSaturday | 27\\nSunday | 21\\nMonday | 29\\nQuestion:\\nA hardware store monitored how many hammers it sold in the past 4 days. On which day did the store sell the fewest hammers?\\nChoices:\\nFriday, Saturday, Sunday, Monday\\nAnswer:\\nSunday\\nSolution:\\nFind the least number in the table. Remember to compare the numbers starting with the highest place value. The least number is 21.\\n\\nNow find the corresponding day. Sunday corresponds to 21.\\n\\n---\\nTable Text:\\nSchool | Number of students\\nGreen Pastures Elementary | 778\\nPine Elementary | 798\\nCanyon Elementary | 797\\nOceanside Elementary | 789\\nQuestion:\\nA school district compared how many students attend each elementary school. Which school has the fewest students?\\nChoices:\\nGreen Pastures Elementary, Pine Elementary, Canyon Elementary, Oceanside Elementary\\nAnswer:\\nGreen Pastures Elementary\\nSolution:\\nFind the least number in the table. Remember to compare the numbers starting with the highest place value. The least number is 778.\\n\\nNow find the corresponding school. Green Pastures Elementary corresponds to 778.\\n\\n(END OF EXAMPLES)\\n\\nQ: \\nTable Text:\\nCountry | 1970s | 1980s\\nJapan | 2 | 2\\nItaly | 2 | 3\\nRussia | 5 | 1\\nQuestion:\\nFor an assignment, Ruben looked at which countries got the most Nobel Prizes in various decades. Of the countries shown, which country had the most Nobel Prize winners in the 1980s?\\nChoices:\\nJapan, Italy, Russia\\nAnswer:\\nItaly\\nSolution:\\nLook at the numbers in the 1980 s column. Find the greatest number in this column.\\n\\nThe greatest number is 3, which is in the Italy row. Of the countries shown, Italy had the most Nobel Prize winners in the 1980 s.\\n\\n---\\nTable Text:\\nFoggy Port | 7:00 A.M. | 7:15 A.M. | 7:30 A.M. | 7:45 A.M. | 8:00 A.M.\\nGreen Harbor | 8:30 A.M. | 8:45 A.M. | 9:00 A.M. | 9:15 A.M. | 9:30 A.M.\\nGrassy Beach | 10:15 A.M. | 10:30 A.M. | 10:45 A.M. | 11:00 A.M. | 11:15 A.M.\\nBay Harbor | 12:00 P.M. | 12:15 P.M. | 12:30 P.M. | 12:45 P.M. | 1:00 P.M.\\nSeagull Port | 1:45 P.M. | 2:00 P.M. | 2:15 P.M. | 2:30 P.M. | 2:45 P.M.\\nSandy Shores | 3:15 P.M. | 3:30 P.M. | 3:45 P.M. | 4:00 P.M. | 4:15 P.M.\\nCliff View | 5:00 P.M. | 5:15 P.M. | 5:30 P.M. | 5:45 P.M. | 6:00 P.M.\\nQuestion:\\nLook at the following schedule. How long does it take to get from Foggy Port to Cliff View?\\nChoices:\\n9 hours and 30 minutes, 7 hours and 45 minutes, 7 hours and 30 minutes, 10 hours\\nAnswer:\\n10 hours\\nSolution:\\nRead the times in the first column for Foggy Port and Cliff View.\\n\\nFind the elapsed time between 7:00 A. M. and 5:00 P. M. The elapsed time is 10 hours.\\n\\nNo matter which column of times you look at, the elapsed time is always 10 hours.\\n\\n---\\nTable Text:\\nx | y\\n10 | 15\\n11 | 9\\n12 | 2\\nQuestion:\\nThe table shows a function. Is the function linear or nonlinear?\\nChoices:\\nlinear, nonlinear\\nAnswer:\\nnonlinear\\nSolution:\\nTo determine whether the function is linear or nonlinear, see whether it has a constant rate of change.\\nPick the points in any two rows of the table and calculate the rate of change between them. The first two rows are a good place to start.\\nCall the values in the first row x1 and y1. Call the values in the second row x2 and y2.\\nRate of change = \\x0crac{y2 - y1}{x2 - x1}\\n = \\x0crac{9 - 15}{11 - 10}\\n = \\x0crac{-6}{1}\\n = -6\\nNow pick any other two rows and calculate the rate of change between them.\\nCall the values in the first row x1 and y1. Call the values in the third row x2 and y2.\\nRate of change = \\x0crac{y2 - y1}{x2 - x1}\\n = \\x0crac{2 - 15}{12 - 10}\\n = \\x0crac{-13}{2}\\n = -6\\x0crac{1}{2}\\nThe rate of change is not the same for each pair of points. So, the function does not have a constant rate of change.\\nThe function is nonlinear.\\n\\n---\\nTable Text:\\nName | Number of coins\\nPete | 654\\nSally | 646\\nAriel | 668\\nBernie | 645\\nQuestion:\\nSome friends discussed the sizes of their coin collections. Who has the fewest coins?\\nChoices:\\nPete, Sally, Ariel, Bernie\\nAnswer:\\nBernie\\nSolution:\\nFind the least number in the table. Remember to compare the numbers starting with the highest place value. The least number is 645.\\n\\nNow find the corresponding name. Bernie corresponds to 645.\\n\\n---\\nTable Text:\\nDay | Number of hammers\\nFriday | 28\\nSaturday | 27\\nSunday | 21\\nMonday | 29\\nQuestion:\\nA hardware store monitored how many hammers it sold in the past 4 days. On which day did the store sell the fewest hammers?\\nChoices:\\nFriday, Saturday, Sunday, Monday\\nAnswer:\\nSunday\\nSolution:\\nFind the least number in the table. Remember to compare the numbers starting with the highest place value. The least number is 21.\\n\\nNow find the corresponding day. Sunday corresponds to 21.\\n\\n---\\nTable Text:\\nSchool | Number of students\\nGreen Pastures Elementary | 778\\nPine Elementary | 798\\nCanyon Elementary | 797\\nOceanside Elementary | 789\\nQuestion:\\nA school district compared how many students attend each elementary school. Which school has the fewest students?\\nChoices:\\nGreen Pastures Elementary, Pine Elementary, Canyon Elementary, Oceanside Elementary\\nAnswer:\\nGreen Pastures Elementary\\nSolution:\\nFind the least number in the table. Remember to compare the numbers starting with the highest place value. The least number is 778.\\n\\nNow find the corresponding school. Green Pastures Elementary corresponds to 778.\\n\\nA: '"
      ]
     },
     "execution_count": 84,
     "metadata": {},
     "output_type": "execute_result"
    }
   ],
   "source": [
    "# test cog/functional '_build_agent_prompt' with TabMWP_MULTI_CHOICE\n",
    "# expect a formatted prompt ready for use with the language model.\n",
    "critic._build_agent_prompt(question=TabMWP_MULTI_CHOICE, examples=TabMWP_MULTI_CHOICE)"
   ]
  },
  {
   "cell_type": "code",
   "execution_count": 87,
   "id": "c474a7c0-4c6a-491f-89c3-07ad6cd72e8c",
   "metadata": {},
   "outputs": [
    {
     "data": {
      "text/plain": [
       "'Green Pastures Elementary'"
      ]
     },
     "execution_count": 87,
     "metadata": {},
     "output_type": "execute_result"
    }
   ],
   "source": [
    "# test cog/functional '_prompt_agent' with TabMWP_MULTI_CHOICE\n",
    "# expect the answer from the language model, with no leading or trailing whitespace.\n",
    "critic._prompt_agent(llm=model, question=TabMWP_MULTI_CHOICE, examples=TabMWP_MULTI_CHOICE)"
   ]
  },
  {
   "cell_type": "code",
   "execution_count": 89,
   "id": "96cec815-9adb-4cd6-b1b6-1d8c85913b4b",
   "metadata": {},
   "outputs": [
    {
     "data": {
      "text/plain": [
       "\"\\nTable Text:\\nCountry | 1970s | 1980s\\nJapan | 2 | 2\\nItaly | 2 | 3\\nRussia | 5 | 1\\nQuestion:\\nFor an assignment, Ruben looked at which countries got the most Nobel Prizes in various decades. Of the countries shown, which country had the most Nobel Prize winners in the 1980s?\\nChoices:\\nJapan, Italy, Russia\\nAnswer:\\nItaly\\nSolution:\\nLook at the numbers in the 1980 s column. Find the greatest number in this column.\\n\\nThe greatest number is 3, which is in the Italy row. Of the countries shown, Italy had the most Nobel Prize winners in the 1980 s.\\n\\n---\\nTable Text:\\nFoggy Port | 7:00 A.M. | 7:15 A.M. | 7:30 A.M. | 7:45 A.M. | 8:00 A.M.\\nGreen Harbor | 8:30 A.M. | 8:45 A.M. | 9:00 A.M. | 9:15 A.M. | 9:30 A.M.\\nGrassy Beach | 10:15 A.M. | 10:30 A.M. | 10:45 A.M. | 11:00 A.M. | 11:15 A.M.\\nBay Harbor | 12:00 P.M. | 12:15 P.M. | 12:30 P.M. | 12:45 P.M. | 1:00 P.M.\\nSeagull Port | 1:45 P.M. | 2:00 P.M. | 2:15 P.M. | 2:30 P.M. | 2:45 P.M.\\nSandy Shores | 3:15 P.M. | 3:30 P.M. | 3:45 P.M. | 4:00 P.M. | 4:15 P.M.\\nCliff View | 5:00 P.M. | 5:15 P.M. | 5:30 P.M. | 5:45 P.M. | 6:00 P.M.\\nQuestion:\\nLook at the following schedule. How long does it take to get from Foggy Port to Cliff View?\\nChoices:\\n9 hours and 30 minutes, 7 hours and 45 minutes, 7 hours and 30 minutes, 10 hours\\nAnswer:\\n10 hours\\nSolution:\\nRead the times in the first column for Foggy Port and Cliff View.\\n\\nFind the elapsed time between 7:00 A. M. and 5:00 P. M. The elapsed time is 10 hours.\\n\\nNo matter which column of times you look at, the elapsed time is always 10 hours.\\n\\n---\\nTable Text:\\nx | y\\n10 | 15\\n11 | 9\\n12 | 2\\nQuestion:\\nThe table shows a function. Is the function linear or nonlinear?\\nChoices:\\nlinear, nonlinear\\nAnswer:\\nnonlinear\\nSolution:\\nTo determine whether the function is linear or nonlinear, see whether it has a constant rate of change.\\nPick the points in any two rows of the table and calculate the rate of change between them. The first two rows are a good place to start.\\nCall the values in the first row x1 and y1. Call the values in the second row x2 and y2.\\nRate of change = \\x0crac{y2 - y1}{x2 - x1}\\n = \\x0crac{9 - 15}{11 - 10}\\n = \\x0crac{-6}{1}\\n = -6\\nNow pick any other two rows and calculate the rate of change between them.\\nCall the values in the first row x1 and y1. Call the values in the third row x2 and y2.\\nRate of change = \\x0crac{y2 - y1}{x2 - x1}\\n = \\x0crac{2 - 15}{12 - 10}\\n = \\x0crac{-13}{2}\\n = -6\\x0crac{1}{2}\\nThe rate of change is not the same for each pair of points. So, the function does not have a constant rate of change.\\nThe function is nonlinear.\\n\\n---\\nTable Text:\\nName | Number of coins\\nPete | 654\\nSally | 646\\nAriel | 668\\nBernie | 645\\nQuestion:\\nSome friends discussed the sizes of their coin collections. Who has the fewest coins?\\nChoices:\\nPete, Sally, Ariel, Bernie\\nAnswer:\\nBernie\\nSolution:\\nFind the least number in the table. Remember to compare the numbers starting with the highest place value. The least number is 645.\\n\\nNow find the corresponding name. Bernie corresponds to 645.\\n\\n---\\nTable Text:\\nDay | Number of hammers\\nFriday | 28\\nSaturday | 27\\nSunday | 21\\nMonday | 29\\nQuestion:\\nA hardware store monitored how many hammers it sold in the past 4 days. On which day did the store sell the fewest hammers?\\nChoices:\\nFriday, Saturday, Sunday, Monday\\nAnswer:\\nSunday\\nSolution:\\nFind the least number in the table. Remember to compare the numbers starting with the highest place value. The least number is 21.\\n\\nNow find the corresponding day. Sunday corresponds to 21.\\n\\n---\\nTable Text:\\nSchool | Number of students\\nGreen Pastures Elementary | 778\\nPine Elementary | 798\\nCanyon Elementary | 797\\nOceanside Elementary | 789\\nQuestion:\\nA school district compared how many students attend each elementary school. Which school has the fewest students?\\nChoices:\\nGreen Pastures Elementary, Pine Elementary, Canyon Elementary, Oceanside Elementary\\nAnswer:\\nGreen Pastures Elementary\\nSolution:\\nFind the least number in the table. Remember to compare the numbers starting with the highest place value. The least number is 778.\\n\\nNow find the corresponding school. Green Pastures Elementary corresponds to 778.\\n\\n(END OF EXAMPLES)\\n\\nQuestion: \\nTable Text:\\nCountry | 1970s | 1980s\\nJapan | 2 | 2\\nItaly | 2 | 3\\nRussia | 5 | 1\\nQuestion:\\nFor an assignment, Ruben looked at which countries got the most Nobel Prizes in various decades. Of the countries shown, which country had the most Nobel Prize winners in the 1980s?\\nChoices:\\nJapan, Italy, Russia\\nAnswer:\\nItaly\\nSolution:\\nLook at the numbers in the 1980 s column. Find the greatest number in this column.\\n\\nThe greatest number is 3, which is in the Italy row. Of the countries shown, Italy had the most Nobel Prize winners in the 1980 s.\\n\\n---\\nTable Text:\\nFoggy Port | 7:00 A.M. | 7:15 A.M. | 7:30 A.M. | 7:45 A.M. | 8:00 A.M.\\nGreen Harbor | 8:30 A.M. | 8:45 A.M. | 9:00 A.M. | 9:15 A.M. | 9:30 A.M.\\nGrassy Beach | 10:15 A.M. | 10:30 A.M. | 10:45 A.M. | 11:00 A.M. | 11:15 A.M.\\nBay Harbor | 12:00 P.M. | 12:15 P.M. | 12:30 P.M. | 12:45 P.M. | 1:00 P.M.\\nSeagull Port | 1:45 P.M. | 2:00 P.M. | 2:15 P.M. | 2:30 P.M. | 2:45 P.M.\\nSandy Shores | 3:15 P.M. | 3:30 P.M. | 3:45 P.M. | 4:00 P.M. | 4:15 P.M.\\nCliff View | 5:00 P.M. | 5:15 P.M. | 5:30 P.M. | 5:45 P.M. | 6:00 P.M.\\nQuestion:\\nLook at the following schedule. How long does it take to get from Foggy Port to Cliff View?\\nChoices:\\n9 hours and 30 minutes, 7 hours and 45 minutes, 7 hours and 30 minutes, 10 hours\\nAnswer:\\n10 hours\\nSolution:\\nRead the times in the first column for Foggy Port and Cliff View.\\n\\nFind the elapsed time between 7:00 A. M. and 5:00 P. M. The elapsed time is 10 hours.\\n\\nNo matter which column of times you look at, the elapsed time is always 10 hours.\\n\\n---\\nTable Text:\\nx | y\\n10 | 15\\n11 | 9\\n12 | 2\\nQuestion:\\nThe table shows a function. Is the function linear or nonlinear?\\nChoices:\\nlinear, nonlinear\\nAnswer:\\nnonlinear\\nSolution:\\nTo determine whether the function is linear or nonlinear, see whether it has a constant rate of change.\\nPick the points in any two rows of the table and calculate the rate of change between them. The first two rows are a good place to start.\\nCall the values in the first row x1 and y1. Call the values in the second row x2 and y2.\\nRate of change = \\x0crac{y2 - y1}{x2 - x1}\\n = \\x0crac{9 - 15}{11 - 10}\\n = \\x0crac{-6}{1}\\n = -6\\nNow pick any other two rows and calculate the rate of change between them.\\nCall the values in the first row x1 and y1. Call the values in the third row x2 and y2.\\nRate of change = \\x0crac{y2 - y1}{x2 - x1}\\n = \\x0crac{2 - 15}{12 - 10}\\n = \\x0crac{-13}{2}\\n = -6\\x0crac{1}{2}\\nThe rate of change is not the same for each pair of points. So, the function does not have a constant rate of change.\\nThe function is nonlinear.\\n\\n---\\nTable Text:\\nName | Number of coins\\nPete | 654\\nSally | 646\\nAriel | 668\\nBernie | 645\\nQuestion:\\nSome friends discussed the sizes of their coin collections. Who has the fewest coins?\\nChoices:\\nPete, Sally, Ariel, Bernie\\nAnswer:\\nBernie\\nSolution:\\nFind the least number in the table. Remember to compare the numbers starting with the highest place value. The least number is 645.\\n\\nNow find the corresponding name. Bernie corresponds to 645.\\n\\n---\\nTable Text:\\nDay | Number of hammers\\nFriday | 28\\nSaturday | 27\\nSunday | 21\\nMonday | 29\\nQuestion:\\nA hardware store monitored how many hammers it sold in the past 4 days. On which day did the store sell the fewest hammers?\\nChoices:\\nFriday, Saturday, Sunday, Monday\\nAnswer:\\nSunday\\nSolution:\\nFind the least number in the table. Remember to compare the numbers starting with the highest place value. The least number is 21.\\n\\nNow find the corresponding day. Sunday corresponds to 21.\\n\\n---\\nTable Text:\\nSchool | Number of students\\nGreen Pastures Elementary | 778\\nPine Elementary | 798\\nCanyon Elementary | 797\\nOceanside Elementary | 789\\nQuestion:\\nA school district compared how many students attend each elementary school. Which school has the fewest students?\\nChoices:\\nGreen Pastures Elementary, Pine Elementary, Canyon Elementary, Oceanside Elementary\\nAnswer:\\nGreen Pastures Elementary\\nSolution:\\nFind the least number in the table. Remember to compare the numbers starting with the highest place value. The least number is 778.\\n\\nNow find the corresponding school. Green Pastures Elementary corresponds to 778.\\n\\nProposed Answer: \\nTable Text:\\nCountry | 1970s | 1980s\\nJapan | 2 | 2\\nItaly | 2 | 3\\nRussia | 5 | 1\\nQuestion:\\nFor an assignment, Ruben looked at which countries got the most Nobel Prizes in various decades. Of the countries shown, which country had the most Nobel Prize winners in the 1980s?\\nChoices:\\nJapan, Italy, Russia\\nAnswer:\\nItaly\\nSolution:\\nLook at the numbers in the 1980 s column. Find the greatest number in this column.\\n\\nThe greatest number is 3, which is in the Italy row. Of the countries shown, Italy had the most Nobel Prize winners in the 1980 s.\\n\\n---\\nTable Text:\\nFoggy Port | 7:00 A.M. | 7:15 A.M. | 7:30 A.M. | 7:45 A.M. | 8:00 A.M.\\nGreen Harbor | 8:30 A.M. | 8:45 A.M. | 9:00 A.M. | 9:15 A.M. | 9:30 A.M.\\nGrassy Beach | 10:15 A.M. | 10:30 A.M. | 10:45 A.M. | 11:00 A.M. | 11:15 A.M.\\nBay Harbor | 12:00 P.M. | 12:15 P.M. | 12:30 P.M. | 12:45 P.M. | 1:00 P.M.\\nSeagull Port | 1:45 P.M. | 2:00 P.M. | 2:15 P.M. | 2:30 P.M. | 2:45 P.M.\\nSandy Shores | 3:15 P.M. | 3:30 P.M. | 3:45 P.M. | 4:00 P.M. | 4:15 P.M.\\nCliff View | 5:00 P.M. | 5:15 P.M. | 5:30 P.M. | 5:45 P.M. | 6:00 P.M.\\nQuestion:\\nLook at the following schedule. How long does it take to get from Foggy Port to Cliff View?\\nChoices:\\n9 hours and 30 minutes, 7 hours and 45 minutes, 7 hours and 30 minutes, 10 hours\\nAnswer:\\n10 hours\\nSolution:\\nRead the times in the first column for Foggy Port and Cliff View.\\n\\nFind the elapsed time between 7:00 A. M. and 5:00 P. M. The elapsed time is 10 hours.\\n\\nNo matter which column of times you look at, the elapsed time is always 10 hours.\\n\\n---\\nTable Text:\\nx | y\\n10 | 15\\n11 | 9\\n12 | 2\\nQuestion:\\nThe table shows a function. Is the function linear or nonlinear?\\nChoices:\\nlinear, nonlinear\\nAnswer:\\nnonlinear\\nSolution:\\nTo determine whether the function is linear or nonlinear, see whether it has a constant rate of change.\\nPick the points in any two rows of the table and calculate the rate of change between them. The first two rows are a good place to start.\\nCall the values in the first row x1 and y1. Call the values in the second row x2 and y2.\\nRate of change = \\x0crac{y2 - y1}{x2 - x1}\\n = \\x0crac{9 - 15}{11 - 10}\\n = \\x0crac{-6}{1}\\n = -6\\nNow pick any other two rows and calculate the rate of change between them.\\nCall the values in the first row x1 and y1. Call the values in the third row x2 and y2.\\nRate of change = \\x0crac{y2 - y1}{x2 - x1}\\n = \\x0crac{2 - 15}{12 - 10}\\n = \\x0crac{-13}{2}\\n = -6\\x0crac{1}{2}\\nThe rate of change is not the same for each pair of points. So, the function does not have a constant rate of change.\\nThe function is nonlinear.\\n\\n---\\nTable Text:\\nName | Number of coins\\nPete | 654\\nSally | 646\\nAriel | 668\\nBernie | 645\\nQuestion:\\nSome friends discussed the sizes of their coin collections. Who has the fewest coins?\\nChoices:\\nPete, Sally, Ariel, Bernie\\nAnswer:\\nBernie\\nSolution:\\nFind the least number in the table. Remember to compare the numbers starting with the highest place value. The least number is 645.\\n\\nNow find the corresponding name. Bernie corresponds to 645.\\n\\n---\\nTable Text:\\nDay | Number of hammers\\nFriday | 28\\nSaturday | 27\\nSunday | 21\\nMonday | 29\\nQuestion:\\nA hardware store monitored how many hammers it sold in the past 4 days. On which day did the store sell the fewest hammers?\\nChoices:\\nFriday, Saturday, Sunday, Monday\\nAnswer:\\nSunday\\nSolution:\\nFind the least number in the table. Remember to compare the numbers starting with the highest place value. The least number is 21.\\n\\nNow find the corresponding day. Sunday corresponds to 21.\\n\\n---\\nTable Text:\\nSchool | Number of students\\nGreen Pastures Elementary | 778\\nPine Elementary | 798\\nCanyon Elementary | 797\\nOceanside Elementary | 789\\nQuestion:\\nA school district compared how many students attend each elementary school. Which school has the fewest students?\\nChoices:\\nGreen Pastures Elementary, Pine Elementary, Canyon Elementary, Oceanside Elementary\\nAnswer:\\nGreen Pastures Elementary\\nSolution:\\nFind the least number in the table. Remember to compare the numbers starting with the highest place value. The least number is 778.\\n\\nNow find the corresponding school. Green Pastures Elementary corresponds to 778.\\n\\n\\nWhat's the problem with the above answer?\\n\\n1. Plausibility:\\n\\n\""
      ]
     },
     "execution_count": 89,
     "metadata": {},
     "output_type": "execute_result"
    }
   ],
   "source": [
    "# test cog/functional '_build_critique_prompt' with TabMWP_MULTI_CHOICE\n",
    "# expect a formatted critique prompt ready for use with the language model.\n",
    "critic._build_critique_prompt(question=TabMWP_MULTI_CHOICE, examples=TabMWP_MULTI_CHOICE, answer=TabMWP_MULTI_CHOICE)"
   ]
  },
  {
   "cell_type": "code",
   "execution_count": 91,
   "id": "5655b7e6-168e-4490-9442-e564e4b79ff5",
   "metadata": {},
   "outputs": [
    {
     "data": {
      "text/plain": [
       "\"The proposed answer is correct and there doesn't seem to be any problem with it.\""
      ]
     },
     "execution_count": 91,
     "metadata": {},
     "output_type": "execute_result"
    }
   ],
   "source": [
    "# test cog/functional '_prompt_critique' with TabMWP_MULTI_CHOICE\n",
    "# expect the critique from the language model, with no leading or trailing whitespace.\n",
    "critic._prompt_critique(llm = model, question=TabMWP_MULTI_CHOICE, examples=TabMWP_MULTI_CHOICE, answer=TabMWP_MULTI_CHOICE)"
   ]
  },
  {
   "cell_type": "code",
   "execution_count": null,
   "id": "77f507e6-9d1f-4cce-891a-a606d532354c",
   "metadata": {},
   "outputs": [],
   "source": []
  }
 ],
 "metadata": {
  "kernelspec": {
   "display_name": "Python 3 (ipykernel)",
   "language": "python",
   "name": "python3"
  },
  "language_info": {
   "codemirror_mode": {
    "name": "ipython",
    "version": 3
   },
   "file_extension": ".py",
   "mimetype": "text/x-python",
   "name": "python",
   "nbconvert_exporter": "python",
   "pygments_lexer": "ipython3",
   "version": "3.11.8"
  }
 },
 "nbformat": 4,
 "nbformat_minor": 5
}
