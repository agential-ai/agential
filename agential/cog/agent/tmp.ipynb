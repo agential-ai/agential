{
 "cells": [
  {
   "cell_type": "code",
   "execution_count": 4,
   "metadata": {},
   "outputs": [],
   "source": [
    "from agential.cog.agent.reflexion import ReflexionCoTAgent\n",
    "from agential.cog.prompts.agent.reflexion import (\n",
    "    REFLEXION_COT_FEWSHOT_EXAMPLES,\n",
    "    REFLEXION_COT_INSTRUCTION,\n",
    "    REFLEXION_COT_REFLECT_FEWSHOT_EXAMPLES,\n",
    "    REFLEXION_COT_REFLECT_INSTRUCTION\n",
    ")\n",
    "\n",
    "from langchain_openai import ChatOpenAI\n",
    "\n",
    "import dotenv\n",
    "dotenv.load_dotenv()\n",
    "\n",
    "import warnings\n",
    "warnings.filterwarnings('ignore')\n",
    "\n",
    "llm = ChatOpenAI()\n",
    "\n",
    "agent = ReflexionCoTAgent(\n",
    "    llm=llm,\n",
    "    mode={\"qa\": \"hotpotqa\"}\n",
    ")"
   ]
  },
  {
   "cell_type": "code",
   "execution_count": 9,
   "metadata": {},
   "outputs": [
    {
     "ename": "TypeError",
     "evalue": "ReflexionCoTReflector.reflect() got an unexpected keyword argument 'additional_keys'",
     "output_type": "error",
     "traceback": [
      "\u001b[1;31m---------------------------------------------------------------------------\u001b[0m",
      "\u001b[1;31mTypeError\u001b[0m                                 Traceback (most recent call last)",
      "Cell \u001b[1;32mIn[9], line 5\u001b[0m\n\u001b[0;32m      2\u001b[0m key \u001b[38;5;241m=\u001b[39m \u001b[38;5;124m\"\u001b[39m\u001b[38;5;124mGesellschaft mit beschränkter Haftung\u001b[39m\u001b[38;5;124m\"\u001b[39m\n\u001b[0;32m      3\u001b[0m context \u001b[38;5;241m=\u001b[39m \u001b[38;5;124m'\u001b[39m\u001b[38;5;124mVIVA Media GmbH (until 2004 \u001b[39m\u001b[38;5;124m\"\u001b[39m\u001b[38;5;124mVIVA Media AG\u001b[39m\u001b[38;5;124m\"\u001b[39m\u001b[38;5;124m) is a music television network originating from Germany. It was founded for broadcast of VIVA Germany as VIVA Media AG in 1993 and has been owned by their original concurrent Viacom, the parent company of MTV, since 2004. Viva channels exist in some European countries; the first spin-offs were launched in Poland and Switzerland in 2000.\u001b[39m\u001b[38;5;130;01m\\n\u001b[39;00m\u001b[38;5;130;01m\\n\u001b[39;00m\u001b[38;5;124mA Gesellschaft mit beschränkter Haftung (] , abbreviated GmbH ] and also GesmbH in Austria) is a type of legal entity very common in Germany, Austria, Switzerland (where it is equivalent to a S.à r.l.) and Liechtenstein. In the United States, the equivalent type of entity is the limited liability company (LLC). The name of the GmbH form emphasizes the fact that the owners (\u001b[39m\u001b[38;5;124m\"\u001b[39m\u001b[38;5;124mGesellschafter\u001b[39m\u001b[38;5;124m\"\u001b[39m\u001b[38;5;124m, also known as members) of the entity are not personally liable for the company\u001b[39m\u001b[38;5;130;01m\\'\u001b[39;00m\u001b[38;5;124ms debts. \u001b[39m\u001b[38;5;124m\"\u001b[39m\u001b[38;5;124mGmbH\u001b[39m\u001b[38;5;124m\"\u001b[39m\u001b[38;5;124ms are considered legal persons under German and Austrian law. Other variations include mbH (used when the term \u001b[39m\u001b[38;5;124m\"\u001b[39m\u001b[38;5;124mGesellschaft\u001b[39m\u001b[38;5;124m\"\u001b[39m\u001b[38;5;124m is part of the company name itself), and gGmbH (\u001b[39m\u001b[38;5;124m\"\u001b[39m\u001b[38;5;124mgemeinnützige\u001b[39m\u001b[38;5;124m\"\u001b[39m\u001b[38;5;124m GmbH) for non-profit companies.\u001b[39m\u001b[38;5;124m'\u001b[39m\n\u001b[1;32m----> 5\u001b[0m out \u001b[38;5;241m=\u001b[39m \u001b[43magent\u001b[49m\u001b[38;5;241;43m.\u001b[39;49m\u001b[43mgenerate\u001b[49m\u001b[43m(\u001b[49m\n\u001b[0;32m      6\u001b[0m \u001b[43m    \u001b[49m\u001b[43mquestion\u001b[49m\u001b[38;5;241;43m=\u001b[39;49m\u001b[43mquestion\u001b[49m\u001b[43m,\u001b[49m\u001b[43m \u001b[49m\n\u001b[0;32m      7\u001b[0m \u001b[43m    \u001b[49m\u001b[43mkey\u001b[49m\u001b[38;5;241;43m=\u001b[39;49m\u001b[43mkey\u001b[49m\u001b[43m,\u001b[49m\u001b[43m \u001b[49m\n\u001b[0;32m      8\u001b[0m \u001b[43m    \u001b[49m\u001b[43mexamples\u001b[49m\u001b[38;5;241;43m=\u001b[39;49m\u001b[43mREFLEXION_COT_FEWSHOT_EXAMPLES\u001b[49m\u001b[43m,\u001b[49m\n\u001b[0;32m      9\u001b[0m \u001b[43m    \u001b[49m\u001b[43mreflection_strategy\u001b[49m\u001b[38;5;241;43m=\u001b[39;49m\u001b[38;5;124;43m\"\u001b[39;49m\u001b[38;5;124;43mlast_attempt\u001b[39;49m\u001b[38;5;124;43m\"\u001b[39;49m\u001b[43m,\u001b[49m\n\u001b[0;32m     10\u001b[0m \u001b[43m    \u001b[49m\u001b[43mprompt\u001b[49m\u001b[38;5;241;43m=\u001b[39;49m\u001b[43mREFLEXION_COT_INSTRUCTION\u001b[49m\u001b[43m,\u001b[49m\n\u001b[0;32m     11\u001b[0m \u001b[43m    \u001b[49m\u001b[43mreflect_examples\u001b[49m\u001b[38;5;241;43m=\u001b[39;49m\u001b[43mREFLEXION_COT_REFLECT_FEWSHOT_EXAMPLES\u001b[49m\u001b[43m,\u001b[49m\n\u001b[0;32m     12\u001b[0m \u001b[43m    \u001b[49m\u001b[43mreflect_prompt\u001b[49m\u001b[38;5;241;43m=\u001b[39;49m\u001b[43mREFLEXION_COT_REFLECT_INSTRUCTION\u001b[49m\u001b[43m,\u001b[49m\n\u001b[0;32m     13\u001b[0m \u001b[43m    \u001b[49m\u001b[43madditional_keys\u001b[49m\u001b[38;5;241;43m=\u001b[39;49m\u001b[43m{\u001b[49m\u001b[43m}\u001b[49m\u001b[43m,\u001b[49m\n\u001b[0;32m     14\u001b[0m \u001b[43m    \u001b[49m\u001b[43mreflection_additional_keys\u001b[49m\u001b[38;5;241;43m=\u001b[39;49m\u001b[43m{\u001b[49m\u001b[43m}\u001b[49m\u001b[43m,\u001b[49m\n\u001b[0;32m     15\u001b[0m \u001b[43m    \u001b[49m\u001b[43mmax_trials\u001b[49m\u001b[38;5;241;43m=\u001b[39;49m\u001b[38;5;241;43m3\u001b[39;49m\u001b[43m,\u001b[49m\n\u001b[0;32m     16\u001b[0m \u001b[43m    \u001b[49m\u001b[43mpatience\u001b[49m\u001b[38;5;241;43m=\u001b[39;49m\u001b[38;5;241;43m3\u001b[39;49m\u001b[43m,\u001b[49m\n\u001b[0;32m     17\u001b[0m \u001b[43m    \u001b[49m\u001b[43mreset\u001b[49m\u001b[38;5;241;43m=\u001b[39;49m\u001b[38;5;28;43;01mTrue\u001b[39;49;00m\n\u001b[0;32m     18\u001b[0m \n\u001b[0;32m     19\u001b[0m \u001b[43m)\u001b[49m\n",
      "File \u001b[1;32m~\\OneDrive\\Desktop\\agential\\agential\\cog\\agent\\reflexion.py:156\u001b[0m, in \u001b[0;36mgenerate\u001b[1;34m(self, question, key, examples, reflection_strategy, prompt, reflect_examples, reflect_prompt, additional_keys, reflection_additional_keys, patience, reset, **kwargs)\u001b[0m\n\u001b[0;32m    145\u001b[0m reflections \u001b[38;5;241m=\u001b[39m \u001b[38;5;124m\"\u001b[39m\u001b[38;5;124m\"\u001b[39m\n\u001b[0;32m    146\u001b[0m \u001b[38;5;28;01mif\u001b[39;00m \u001b[38;5;28mself\u001b[39m\u001b[38;5;241m.\u001b[39mstrategy\u001b[38;5;241m.\u001b[39mshould_reflect(\n\u001b[0;32m    147\u001b[0m     idx\u001b[38;5;241m=\u001b[39midx,\n\u001b[0;32m    148\u001b[0m     reflection_strategy\u001b[38;5;241m=\u001b[39mreflection_strategy,\n\u001b[0;32m    149\u001b[0m     key\u001b[38;5;241m=\u001b[39mkey,\n\u001b[0;32m    150\u001b[0m ):\n\u001b[0;32m    151\u001b[0m     reflections \u001b[38;5;241m=\u001b[39m \u001b[38;5;28mself\u001b[39m\u001b[38;5;241m.\u001b[39mstrategy\u001b[38;5;241m.\u001b[39mreflect(\n\u001b[0;32m    152\u001b[0m         reflection_strategy\u001b[38;5;241m=\u001b[39mreflection_strategy,\n\u001b[0;32m    153\u001b[0m         question\u001b[38;5;241m=\u001b[39mquestion,\n\u001b[0;32m    154\u001b[0m         examples\u001b[38;5;241m=\u001b[39mreflect_examples,\n\u001b[0;32m    155\u001b[0m         prompt\u001b[38;5;241m=\u001b[39mreflect_prompt,\n\u001b[1;32m--> 156\u001b[0m         additional_keys\u001b[38;5;241m=\u001b[39mreflection_additional_keys,\n\u001b[0;32m    157\u001b[0m     )\n\u001b[0;32m    159\u001b[0m \u001b[38;5;66;03m# Think.\u001b[39;00m\n\u001b[0;32m    160\u001b[0m thought \u001b[38;5;241m=\u001b[39m \u001b[38;5;28mself\u001b[39m\u001b[38;5;241m.\u001b[39mstrategy\u001b[38;5;241m.\u001b[39mgenerate(\n\u001b[0;32m    161\u001b[0m     question\u001b[38;5;241m=\u001b[39mquestion,\n\u001b[0;32m    162\u001b[0m     examples\u001b[38;5;241m=\u001b[39mexamples,\n\u001b[1;32m   (...)\u001b[0m\n\u001b[0;32m    166\u001b[0m     \u001b[38;5;241m*\u001b[39m\u001b[38;5;241m*\u001b[39mkwargs,\n\u001b[0;32m    167\u001b[0m )\n",
      "File \u001b[1;32m~\\OneDrive\\Desktop\\agential\\agential\\cog\\strategies\\reflexion\\qa.py:259\u001b[0m, in \u001b[0;36mReflexionCoTQAStrategy.reflect\u001b[1;34m(self, reflection_strategy, question, examples, prompt, additional_keys)\u001b[0m\n\u001b[0;32m    239\u001b[0m \u001b[38;5;28;01mdef\u001b[39;00m \u001b[38;5;21mreflect\u001b[39m(\n\u001b[0;32m    240\u001b[0m     \u001b[38;5;28mself\u001b[39m,\n\u001b[0;32m    241\u001b[0m     reflection_strategy: \u001b[38;5;28mstr\u001b[39m,\n\u001b[1;32m   (...)\u001b[0m\n\u001b[0;32m    245\u001b[0m     additional_keys: Dict[\u001b[38;5;28mstr\u001b[39m, \u001b[38;5;28mstr\u001b[39m],\n\u001b[0;32m    246\u001b[0m ) \u001b[38;5;241m-\u001b[39m\u001b[38;5;241m>\u001b[39m \u001b[38;5;28mstr\u001b[39m:\n\u001b[0;32m    247\u001b[0m \u001b[38;5;250m    \u001b[39m\u001b[38;5;124;03m\"\"\"Reflects on a given question, context, examples, prompt, and additional keys using the specified reflection strategy.\u001b[39;00m\n\u001b[0;32m    248\u001b[0m \n\u001b[0;32m    249\u001b[0m \u001b[38;5;124;03m    Args:\u001b[39;00m\n\u001b[1;32m   (...)\u001b[0m\n\u001b[0;32m    257\u001b[0m \u001b[38;5;124;03m        str: The reflection string.\u001b[39;00m\n\u001b[0;32m    258\u001b[0m \u001b[38;5;124;03m    \"\"\"\u001b[39;00m\n\u001b[1;32m--> 259\u001b[0m     reflection \u001b[38;5;241m=\u001b[39m \u001b[38;5;28;43mself\u001b[39;49m\u001b[38;5;241;43m.\u001b[39;49m\u001b[43mreflector\u001b[49m\u001b[38;5;241;43m.\u001b[39;49m\u001b[43mreflect\u001b[49m\u001b[43m(\u001b[49m\n\u001b[0;32m    260\u001b[0m \u001b[43m        \u001b[49m\u001b[43mreflection_strategy\u001b[49m\u001b[38;5;241;43m=\u001b[39;49m\u001b[43mreflection_strategy\u001b[49m\u001b[43m,\u001b[49m\n\u001b[0;32m    261\u001b[0m \u001b[43m        \u001b[49m\u001b[43mquestion\u001b[49m\u001b[38;5;241;43m=\u001b[39;49m\u001b[43mquestion\u001b[49m\u001b[43m,\u001b[49m\n\u001b[0;32m    262\u001b[0m \u001b[43m        \u001b[49m\u001b[43mexamples\u001b[49m\u001b[38;5;241;43m=\u001b[39;49m\u001b[43mexamples\u001b[49m\u001b[43m,\u001b[49m\n\u001b[0;32m    263\u001b[0m \u001b[43m        \u001b[49m\u001b[43mprompt\u001b[49m\u001b[38;5;241;43m=\u001b[39;49m\u001b[43mprompt\u001b[49m\u001b[43m,\u001b[49m\n\u001b[0;32m    264\u001b[0m \u001b[43m        \u001b[49m\u001b[43madditional_keys\u001b[49m\u001b[38;5;241;43m=\u001b[39;49m\u001b[43madditional_keys\u001b[49m\u001b[43m,\u001b[49m\n\u001b[0;32m    265\u001b[0m \u001b[43m    \u001b[49m\u001b[43m)\u001b[49m\n\u001b[0;32m    266\u001b[0m     \u001b[38;5;28;01mreturn\u001b[39;00m reflection\n",
      "\u001b[1;31mTypeError\u001b[0m: ReflexionCoTReflector.reflect() got an unexpected keyword argument 'additional_keys'"
     ]
    }
   ],
   "source": [
    "question = \"VIVA Media AG changed it's name in 2004. What does their new acronym stand for?\"\n",
    "key = \"Gesellschaft mit beschränkter Haftung\"\n",
    "context = 'VIVA Media GmbH (until 2004 \"VIVA Media AG\") is a music television network originating from Germany. It was founded for broadcast of VIVA Germany as VIVA Media AG in 1993 and has been owned by their original concurrent Viacom, the parent company of MTV, since 2004. Viva channels exist in some European countries; the first spin-offs were launched in Poland and Switzerland in 2000.\\n\\nA Gesellschaft mit beschränkter Haftung (] , abbreviated GmbH ] and also GesmbH in Austria) is a type of legal entity very common in Germany, Austria, Switzerland (where it is equivalent to a S.à r.l.) and Liechtenstein. In the United States, the equivalent type of entity is the limited liability company (LLC). The name of the GmbH form emphasizes the fact that the owners (\"Gesellschafter\", also known as members) of the entity are not personally liable for the company\\'s debts. \"GmbH\"s are considered legal persons under German and Austrian law. Other variations include mbH (used when the term \"Gesellschaft\" is part of the company name itself), and gGmbH (\"gemeinnützige\" GmbH) for non-profit companies.'\n",
    "\n",
    "out = agent.generate(\n",
    "    question=question, \n",
    "    key=key, \n",
    "    examples=REFLEXION_COT_FEWSHOT_EXAMPLES,\n",
    "    reflection_strategy=\"last_attempt\",\n",
    "    prompt=REFLEXION_COT_INSTRUCTION,\n",
    "    reflect_examples=REFLEXION_COT_REFLECT_FEWSHOT_EXAMPLES,\n",
    "    reflect_prompt=REFLEXION_COT_REFLECT_INSTRUCTION,\n",
    "    additional_keys={},\n",
    "    reflection_additional_keys={},\n",
    "    max_trials=3,\n",
    "    patience=3,\n",
    "    reset=True\n",
    "\n",
    ")"
   ]
  },
  {
   "cell_type": "code",
   "execution_count": null,
   "metadata": {},
   "outputs": [
    {
     "data": {
      "text/plain": [
       "[{'thought': 'Let\\'s think step by step. VIVA Media AG changed its name to VIVACOM AG in 2004. The new acronym VIVACOM stands for \"Vivendi Communications.\"',\n",
       "  'action_type': 'Finish',\n",
       "  'query': 'Vivendi Communications',\n",
       "  'obs': 'Answer is INCORRECT',\n",
       "  'answer': 'Vivendi Communications',\n",
       "  'is_correct': False}]"
      ]
     },
     "execution_count": 8,
     "metadata": {},
     "output_type": "execute_result"
    }
   ],
   "source": [
    "out"
   ]
  },
  {
   "cell_type": "code",
   "execution_count": null,
   "metadata": {},
   "outputs": [],
   "source": []
  }
 ],
 "metadata": {
  "kernelspec": {
   "display_name": "agential",
   "language": "python",
   "name": "python3"
  },
  "language_info": {
   "codemirror_mode": {
    "name": "ipython",
    "version": 3
   },
   "file_extension": ".py",
   "mimetype": "text/x-python",
   "name": "python",
   "nbconvert_exporter": "python",
   "pygments_lexer": "ipython3",
   "version": "3.11.5"
  }
 },
 "nbformat": 4,
 "nbformat_minor": 2
}
