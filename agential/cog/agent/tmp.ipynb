{
 "cells": [
  {
   "cell_type": "markdown",
   "metadata": {},
   "source": [
    "# 📊 **Performance of ReAct Agents Running a Sample Question from TriviaQA Benchmark**\n"
   ]
  },
  {
   "cell_type": "code",
   "execution_count": null,
   "metadata": {},
   "outputs": [],
   "source": [
    "import agential"
   ]
  },
  {
   "cell_type": "code",
   "execution_count": null,
   "metadata": {},
   "outputs": [],
   "source": [
    "question= 'What is LLM-based Agent?'\n",
    "\n",
    "\n",
    "llm = ChatOpenAi(openai_api_key=\"123\")\n",
    "agent = ReActAgent(llm=llm)\n",
    "out = agent.generate(question=question)"
   ]
  }
 ],
 "metadata": {
  "kernelspec": {
   "display_name": "agential",
   "language": "python",
   "name": "python3"
  },
  "language_info": {
   "name": "python",
   "version": "3.11.5"
  }
 },
 "nbformat": 4,
 "nbformat_minor": 2
}
