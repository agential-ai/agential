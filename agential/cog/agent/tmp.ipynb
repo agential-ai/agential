{
 "cells": [
  {
   "cell_type": "code",
   "execution_count": 1,
   "metadata": {},
   "outputs": [],
   "source": [
    "from agential.cog.agent.reflexion import ReflexionCoTAgent\n",
    "from agential.cog.prompts.agent.reflexion import (\n",
    "    REFLEXION_COT_FEWSHOT_EXAMPLES,\n",
    "    REFLEXION_COT_INSTRUCTION,\n",
    "    REFLEXION_COT_REFLECT_FEWSHOT_EXAMPLES,\n",
    "    REFLEXION_COT_REFLECT_INSTRUCTION\n",
    ")\n",
    "\n",
    "from langchain_openai import ChatOpenAI\n",
    "\n",
    "import dotenv\n",
    "dotenv.load_dotenv()\n",
    "\n",
    "import warnings\n",
    "warnings.filterwarnings('ignore')\n",
    "\n",
    "llm = ChatOpenAI()\n",
    "\n",
    "agent = ReflexionCoTAgent(\n",
    "    llm=llm,\n",
    "    mode={\"qa\": \"hotpotqa\"}\n",
    ")"
   ]
  },
  {
   "cell_type": "code",
   "execution_count": 6,
   "metadata": {},
   "outputs": [],
   "source": [
    "question = \"VIVA Media AG changed it's name in 2004. What does their new acronym stand for?\"\n",
    "key = \"Gesellschaft mit beschränkter Haftung\"\n",
    "context = 'VIVA Media GmbH (until 2004 \"VIVA Media AG\") is a music television network originating from Germany. It was founded for broadcast of VIVA Germany as VIVA Media AG in 1993 and has been owned by their original concurrent Viacom, the parent company of MTV, since 2004. Viva channels exist in some European countries; the first spin-offs were launched in Poland and Switzerland in 2000.\\n\\nA Gesellschaft mit beschränkter Haftung (] , abbreviated GmbH ] and also GesmbH in Austria) is a type of legal entity very common in Germany, Austria, Switzerland (where it is equivalent to a S.à r.l.) and Liechtenstein. In the United States, the equivalent type of entity is the limited liability company (LLC). The name of the GmbH form emphasizes the fact that the owners (\"Gesellschafter\", also known as members) of the entity are not personally liable for the company\\'s debts. \"GmbH\"s are considered legal persons under German and Austrian law. Other variations include mbH (used when the term \"Gesellschaft\" is part of the company name itself), and gGmbH (\"gemeinnützige\" GmbH) for non-profit companies.'\n",
    "\n",
    "out = agent.generate(\n",
    "    question=question, \n",
    "    key=key, \n",
    "    examples=REFLEXION_COT_FEWSHOT_EXAMPLES,\n",
    "    reflection_strategy=\"last_attempt_and_reflexion\",\n",
    "    prompt=REFLEXION_COT_INSTRUCTION,\n",
    "    reflect_examples=REFLEXION_COT_REFLECT_FEWSHOT_EXAMPLES,\n",
    "    reflect_prompt=REFLEXION_COT_REFLECT_INSTRUCTION,\n",
    "    additional_keys={},\n",
    "    reflection_additional_keys={},\n",
    "    max_trials=3,\n",
    "    patience=3,\n",
    "    reset=True\n",
    ")"
   ]
  },
  {
   "cell_type": "code",
   "execution_count": 7,
   "metadata": {},
   "outputs": [
    {
     "data": {
      "text/plain": [
       "[{'thought': \"Let's think step by step. VIVA Media AG changed its name to VSG in 2004. VSG stands for VIVA MEDIA GROUP. \",\n",
       "  'action_type': 'Finish',\n",
       "  'query': 'VIVA MEDIA GROUP',\n",
       "  'obs': 'Answer is INCORRECT',\n",
       "  'answer': 'VIVA MEDIA GROUP',\n",
       "  'is_correct': False},\n",
       " {'thought': 'I should focus on researching the history of VIVA Media AG to understand the reason behind the name change and the new acronym. ',\n",
       "  'action_type': 'Finish',\n",
       "  'query': 'Research the history of VIVA Media AG, specifically focusing on the events surrounding their name change in 2004. Understand the rationale behind the new acronym and use that information to provide a more accurate answer when faced with a similar question in the future.',\n",
       "  'obs': 'Answer is INCORRECT',\n",
       "  'answer': 'Research the history of VIVA Media AG, specifically focusing on the events surrounding their name change in 2004. Understand the rationale behind the new acronym and use that information to provide a more accurate answer when faced with a similar question in the future.',\n",
       "  'is_correct': False},\n",
       " {'thought': \"I need to focus on researching the company's rebranding efforts and official announcements to understand the reasoning behind the new acronym.\",\n",
       "  'action_type': 'Finish',\n",
       "  'query': \"Conduct thorough research on the company's history, press releases, and official statements to understand the reasoning behind the name change and the significance of the new acronym\",\n",
       "  'obs': 'Answer is INCORRECT',\n",
       "  'answer': \"Conduct thorough research on the company's history, press releases, and official statements to understand the reasoning behind the name change and the significance of the new acronym\",\n",
       "  'is_correct': False}]"
      ]
     },
     "execution_count": 7,
     "metadata": {},
     "output_type": "execute_result"
    }
   ],
   "source": [
    "out"
   ]
  },
  {
   "cell_type": "code",
   "execution_count": null,
   "metadata": {},
   "outputs": [],
   "source": []
  }
 ],
 "metadata": {
  "kernelspec": {
   "display_name": "agential",
   "language": "python",
   "name": "python3"
  },
  "language_info": {
   "codemirror_mode": {
    "name": "ipython",
    "version": 3
   },
   "file_extension": ".py",
   "mimetype": "text/x-python",
   "name": "python",
   "nbconvert_exporter": "python",
   "pygments_lexer": "ipython3",
   "version": "3.11.5"
  }
 },
 "nbformat": 4,
 "nbformat_minor": 2
}
