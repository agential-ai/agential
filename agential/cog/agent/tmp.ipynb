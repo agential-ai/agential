{
 "cells": [
  {
   "cell_type": "code",
   "execution_count": 1,
   "metadata": {},
   "outputs": []
    }
   ],
   "source": [
    "import os\n",
    "import dotenv\n",
    "import openai\n",
    "from dotenv import load_dotenv\n",
    "from langchain_openai import ChatOpenAI\n",
    "from agential.cog.agent.react import ReActAgent\n",
    "from agential.cog.prompts.react import (\n",
    "    REACT_SVAMP_EXAMPLES_DIRECT,\n",
    "    REACT_SVAMP_EXAMPLES_POT,\n",
    "    REACT_SVAMP_INSTRUCTIONS,\n",
    "    REACT_SVAMP_EXAMPLES_CRITIQUE,\n",
    "    REACT_SVAMP_INSTRUCTIONS_CRITIC,\n",
    ")"
   ]
  },
  {
   "cell_type": "code",
   "execution_count": 2,
   "metadata": {},
   "outputs": [],
   "source": [
    "load_dotenv()\n",
    "api = os.getenv(\"OPENAI_API_KEY\")\n",
    "if api:\n",
    "    print(\"api detected\")\n",
    "llm = ChatOpenAI(model=\"gpt-3.5-turbo\", api_key=api)"
   ]
  },
  {
   "cell_type": "code",
   "execution_count": 3,
   "metadata": {},
   "outputs": [],
   "source": [
    "agent = ReActAgent(llm=llm, max_steps=3)\n",
    "question =\"\"\"Question: James bought 93 red and 10 blue stickers, he used 31 red sticker on his fridge and 7 blue stickers on his laptop. How many red stickers does James have?\n",
    "\"\"\"\n",
    "outputs = agent.generate(question=question, REACT_SVAMP_INSTRUCTIONS, REACT_SVAMP_EXAMPLES_DIRECT\n",
    "for output in outputs:\n",
    "    print(output.answer)\n",
 ],
   "cell_type": "code",
   "execution_count": 4,
   "metadata": {},
   "outputs": [],
   "source": [],
 "metadata": {
  "kernelspec": {
   "display_name": "agential",
   "language": "python",
   "name": "python3"
  },
  "language_info": {
   "codemirror_mode": {
    "name": "ipython",
    "version": 3
   },
   "file_extension": ".py",
   "mimetype": "text/x-python",
   "name": "python",
   "nbconvert_exporter": "python",
   "pygments_lexer": "ipython3",
   "version": "3.11.5"
  }
 },
 "nbformat": 4,
 "nbformat_minor": 2
}
