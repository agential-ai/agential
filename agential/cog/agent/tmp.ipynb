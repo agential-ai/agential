{
 "cells": [
  {
   "cell_type": "code",
   "execution_count": null,
   "metadata": {},
   "outputs": [],
   "source": [
    "from agential.cog.agent.critic import CriticAgent\n",
    "from agential.cog.agent.critic_old import CriticAgent as OldCriticAgent\n",
    "from langchain_community.utilities.google_search import GoogleSearchAPIWrapper\n",
    "\n",
    "from langchain_community.chat_models.openai import ChatOpenAI\n",
    "from agential.cog.prompts.critic import (\n",
    "    # QA.\n",
    "    CRITIC_INSTRUCTION_HOTPOTQA,\n",
    "    HOTPOTQA_FEWSHOT_EXAMPLES_COT,\n",
    "    HOTPOTQA_FEWSHOT_EXAMPLES_DIRECT,\n",
    "    HOTPOTQA_FEWSHOT_EXAMPLES_REACT,\n",
    "    CRITIC_CRITIQUE_INSTRUCTION_HOTPOTQA,\n",
    "    HOTPOTQA_FEWSHOT_EXAMPLES_CRITIC,\n",
    "\n",
    "    CRITIC_INSTRUCTION_FEVER,\n",
    "    FEVER_FEWSHOT_EXAMPLES_COT,\n",
    "    FEVER_FEWSHOT_EXAMPLES_DIRECT,\n",
    "    FEVER_FEWSHOT_EXAMPLES_REACT,\n",
    "    CRITIC_CRITIQUE_INSTRUCTION_FEVER,\n",
    "    FEVER_FEWSHOT_EXAMPLES_CRITIC,\n",
    "\n",
    "    CRITIC_INSTRUCTION_AMBIGNQ,\n",
    "    AMBIGNQ_FEWSHOT_EXAMPLES_COT,\n",
    "    AMBIGNQ_FEWSHOT_EXAMPLES_DIRECT,\n",
    "    AMBIGNQ_FEWSHOT_EXAMPLES_REACT,\n",
    "    CRITIC_CRITIQUE_INSTRUCTION_AMBIGNQ,\n",
    "    AMBIGNQ_FEWSHOT_EXAMPLES_CRITIC,\n",
    "\n",
    "    CRITIC_INSTRUCTION_TRIVIAQA,\n",
    "    TRIVIAQA_FEWSHOT_EXAMPLES_COT,\n",
    "    TRIVIAQA_FEWSHOT_EXAMPLES_DIRECT,\n",
    "    TRIVIAQA_FEWSHOT_EXAMPLES_REACT,\n",
    "    CRITIC_CRITIQUE_INSTRUCTION_TRIVIAQA,\n",
    "    TRIVIAQA_FEWSHOT_EXAMPLES_CRITIC,\n",
    "\n",
    "    # Math.\n",
    "    CRITIC_POT_INSTRUCTION_GSM8K,\n",
    "    GSM8K_FEWSHOT_EXAMPLES_POT,\n",
    "    CRITIC_CRITIQUE_INSTRUCTION_GSM8K,\n",
    "    GSM8K_FEWSHOT_EXAMPLES_CRITIC,\n",
    "    CRITIC_CRITIQUE_NO_TOOL_INSTRUCTION_GSM8K,\n",
    "    GSM8K_FEWSHOT_EXAMPLES_CRITIC_NO_TOOL,\n",
    "\n",
    "    CRITIC_POT_INSTRUCTION_SVAMP,\n",
    "    SVAMP_FEWSHOT_EXAMPLES_POT,\n",
    "    CRITIC_CRITIQUE_INSTRUCTION_SVAMP,\n",
    "    SVAMP_FEWSHOT_EXAMPLES_CRITIC,\n",
    "    CRITIC_CRITIQUE_NO_TOOL_INSTRUCTION_SVAMP,\n",
    "    SVAMP_FEWSHOT_EXAMPLES_CRITIC_NO_TOOL,\n",
    "\n",
    "    CRITIC_POT_INSTRUCTION_TABMWP,\n",
    "    TABMWP_FEWSHOT_EXAMPLES_POT,\n",
    "    CRITIC_CRITIQUE_INSTRUCTION_TABMWP,\n",
    "    TABMWP_FEWSHOT_EXAMPLES_CRITIC,\n",
    "    CRITIC_CRITIQUE_NO_TOOL_INSTRUCTION_TABMWP,\n",
    "    TABMWP_FEWSHOT_EXAMPLES_CRITIC_NO_TOOL,\n",
    ")\n",
    "\n",
    "import dotenv\n",
    "dotenv.load_dotenv()\n",
    "\n",
    "import warnings\n",
    "warnings.filterwarnings(\"ignore\")\n",
    "\n",
    "llm = ChatOpenAI()\n",
    "search = GoogleSearchAPIWrapper()"
   ]
  },
  {
   "cell_type": "markdown",
   "metadata": {},
   "source": [
    "# QA"
   ]
  },
  {
   "cell_type": "code",
   "execution_count": null,
   "metadata": {},
   "outputs": [],
   "source": [
    "agent = CriticAgent(\n",
    "    llm=llm, mode=\"qa\", search=search\n",
    ")"
   ]
  },
  {
   "cell_type": "code",
   "execution_count": null,
   "metadata": {},
   "outputs": [],
   "source": [
    "use_search_tool = False"
   ]
  },
  {
   "cell_type": "code",
   "execution_count": null,
   "metadata": {},
   "outputs": [],
   "source": [
    "# HotpotQA\n",
    "question = 'Who was once considered the best kick boxer in the world, however he has been involved in a number of controversies relating to his \"unsportsmanlike conducts\" in the sport and crimes of violence outside of the ring'\n",
    "out = agent.generate(\n",
    "    question=question,\n",
    "    examples=HOTPOTQA_FEWSHOT_EXAMPLES_COT,  # HOTPOTQA_FEWSHOT_EXAMPLES_DIRECT, HOTPOTQA_FEWSHOT_EXAMPLES_REACT\n",
    "    prompt=CRITIC_INSTRUCTION_HOTPOTQA,\n",
    "    critique_examples=HOTPOTQA_FEWSHOT_EXAMPLES_CRITIC,\n",
    "    critique_prompt=CRITIC_CRITIQUE_INSTRUCTION_HOTPOTQA,\n",
    "    use_search_tool=use_search_tool\n",
    ")"
   ]
  },
  {
   "cell_type": "code",
   "execution_count": null,
   "metadata": {},
   "outputs": [],
   "source": [
    "out"
   ]
  },
  {
   "cell_type": "code",
   "execution_count": null,
   "metadata": {},
   "outputs": [],
   "source": [
    "# FEVER\n",
    "question = \"Nikolaj Coster-Waldau worked with the Fox Broadcasting Company.\"\n",
    "out = agent.generate(\n",
    "    question=question,\n",
    "    examples=FEVER_FEWSHOT_EXAMPLES_COT,  # FEVER_FEWSHOT_EXAMPLES_DIRECT, FEVER_FEWSHOT_EXAMPLES_REACT\n",
    "    prompt=CRITIC_INSTRUCTION_FEVER,\n",
    "    critique_examples=FEVER_FEWSHOT_EXAMPLES_CRITIC,\n",
    "    critique_prompt=CRITIC_CRITIQUE_INSTRUCTION_FEVER,\n",
    "    use_search_tool=use_search_tool\n",
    ")"
   ]
  },
  {
   "cell_type": "code",
   "execution_count": null,
   "metadata": {},
   "outputs": [],
   "source": [
    "out"
   ]
  },
  {
   "cell_type": "code",
   "execution_count": null,
   "metadata": {},
   "outputs": [],
   "source": [
    "# AmbigNQ\n",
    "question = \"When did the simpsons first air on television?\"\n",
    "out = agent.generate(\n",
    "    question=question,\n",
    "    examples=AMBIGNQ_FEWSHOT_EXAMPLES_COT,  # AMBIGNQ_FEWSHOT_EXAMPLES_DIRECT, AMBIGNQ_FEWSHOT_EXAMPLES_REACT\n",
    "    prompt=CRITIC_INSTRUCTION_AMBIGNQ,\n",
    "    critique_examples=AMBIGNQ_FEWSHOT_EXAMPLES_CRITIC,\n",
    "    critique_prompt=CRITIC_CRITIQUE_INSTRUCTION_AMBIGNQ,\n",
    "    use_search_tool=use_search_tool\n",
    ")"
   ]
  },
  {
   "cell_type": "code",
   "execution_count": null,
   "metadata": {},
   "outputs": [],
   "source": [
    "out"
   ]
  },
  {
   "cell_type": "code",
   "execution_count": null,
   "metadata": {},
   "outputs": [],
   "source": [
    "# TriviaQA\n",
    "question = \"Which American-born Sinclair won the Nobel Prize for Literature in 1930?\"\n",
    "out = agent.generate(\n",
    "    question=question,\n",
    "    examples=TRIVIAQA_FEWSHOT_EXAMPLES_COT,  # TRIVIAQA_FEWSHOT_EXAMPLES_DIRECT, TRIVIAQA_FEWSHOT_EXAMPLES_REACT\n",
    "    prompt=CRITIC_INSTRUCTION_TRIVIAQA,\n",
    "    critique_examples=TRIVIAQA_FEWSHOT_EXAMPLES_CRITIC,\n",
    "    critique_prompt=CRITIC_CRITIQUE_INSTRUCTION_TRIVIAQA,\n",
    "    use_search_tool=use_search_tool\n",
    ")"
   ]
  },
  {
   "cell_type": "code",
   "execution_count": null,
   "metadata": {},
   "outputs": [],
   "source": [
    "out"
   ]
  },
  {
   "cell_type": "markdown",
   "metadata": {},
   "source": [
    "# Math"
   ]
  },
  {
   "cell_type": "code",
   "execution_count": null,
   "metadata": {},
   "outputs": [],
   "source": [
    "agent = CriticAgent(\n",
    "    llm=llm, mode=\"math\"\n",
    ")"
   ]
  },
  {
   "cell_type": "code",
   "execution_count": null,
   "metadata": {},
   "outputs": [],
   "source": [
    "use_interpreter_tool = True"
   ]
  },
  {
   "cell_type": "code",
   "execution_count": null,
   "metadata": {},
   "outputs": [],
   "source": [
    "# GSM8k\n",
    "question = \"Janet's ducks lay 16 eggs per day. She eats three for breakfast every morning and bakes muffins for her friends every day with 4933828. She sells the remainder at the farmers' market daily for $2 per fresh duck egg. How much in dollars does she make every day at the farmers' market?\"\n",
    "out = agent.generate(\n",
    "    question=question,\n",
    "    examples=GSM8K_FEWSHOT_EXAMPLES_POT,\n",
    "    prompt=CRITIC_POT_INSTRUCTION_GSM8K,\n",
    "    critique_examples=GSM8K_FEWSHOT_EXAMPLES_CRITIC if use_interpreter_tool else GSM8K_FEWSHOT_EXAMPLES_CRITIC_NO_TOOL,\n",
    "    critique_prompt=CRITIC_CRITIQUE_INSTRUCTION_GSM8K if use_interpreter_tool else CRITIC_CRITIQUE_NO_TOOL_INSTRUCTION_GSM8K,\n",
    "    use_interpreter_tool=use_interpreter_tool\n",
    ")"
   ]
  },
  {
   "cell_type": "code",
   "execution_count": null,
   "metadata": {},
   "outputs": [],
   "source": [
    "out"
   ]
  },
  {
   "cell_type": "code",
   "execution_count": null,
   "metadata": {},
   "outputs": [],
   "source": [
    "# SVAMP\n",
    "question = \"There are 87 oranges and 290 bananas in Philip's collection. If the bananas are organized into 2 groups and oranges are organized into 93 groups\"\n",
    "out = agent.generate(\n",
    "    question=question,\n",
    "    examples=SVAMP_FEWSHOT_EXAMPLES_POT,\n",
    "    prompt=CRITIC_POT_INSTRUCTION_SVAMP,\n",
    "    critique_examples=SVAMP_FEWSHOT_EXAMPLES_CRITIC if use_interpreter_tool else SVAMP_FEWSHOT_EXAMPLES_CRITIC_NO_TOOL,\n",
    "    critique_prompt=CRITIC_CRITIQUE_INSTRUCTION_SVAMP if use_interpreter_tool else CRITIC_CRITIQUE_NO_TOOL_INSTRUCTION_SVAMP,\n",
    "    use_interpreter_tool=use_interpreter_tool\n",
    ")"
   ]
  },
  {
   "cell_type": "code",
   "execution_count": null,
   "metadata": {},
   "outputs": [],
   "source": [
    "out"
   ]
  },
  {
   "cell_type": "code",
   "execution_count": null,
   "metadata": {},
   "outputs": [],
   "source": [
    "# TabMWP\n",
    "question = \"\"\"Read the following table regarding \"Bowling Scores\" and then write Python code to answer a question:\n",
    "\n",
    "Name | Score\n",
    "Amanda | 117\n",
    "Sam | 236\n",
    "Irma | 144\n",
    "Mike | 164\n",
    "\n",
    "Question: Some friends went bowling and kept track of their scores. How many more points did Mike score than Irma?\"\"\"\n",
    "out = agent.generate(\n",
    "    question=question,\n",
    "    examples=TABMWP_FEWSHOT_EXAMPLES_POT,\n",
    "    prompt=CRITIC_POT_INSTRUCTION_TABMWP,\n",
    "    critique_examples=TABMWP_FEWSHOT_EXAMPLES_CRITIC if use_interpreter_tool else TABMWP_FEWSHOT_EXAMPLES_CRITIC_NO_TOOL,\n",
    "    critique_prompt=CRITIC_CRITIQUE_INSTRUCTION_TABMWP if use_interpreter_tool else CRITIC_CRITIQUE_NO_TOOL_INSTRUCTION_TABMWP,\n",
    "    use_interpreter_tool=use_interpreter_tool\n",
    ")"
   ]
  },
  {
   "cell_type": "code",
   "execution_count": null,
   "metadata": {},
   "outputs": [],
   "source": [
    "out"
   ]
  },
  {
   "cell_type": "code",
   "execution_count": null,
   "metadata": {},
   "outputs": [],
   "source": []
  },
  {
   "cell_type": "code",
   "execution_count": null,
   "metadata": {},
   "outputs": [],
   "source": []
  }
 ],
 "metadata": {
  "kernelspec": {
   "display_name": "agential",
   "language": "python",
   "name": "python3"
  },
  "language_info": {
   "codemirror_mode": {
    "name": "ipython",
    "version": 3
   },
   "file_extension": ".py",
   "mimetype": "text/x-python",
   "name": "python",
   "nbconvert_exporter": "python",
   "pygments_lexer": "ipython3",
   "version": "3.11.9"
  }
 },
 "nbformat": 4,
 "nbformat_minor": 2
}
