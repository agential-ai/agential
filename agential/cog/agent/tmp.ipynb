{
 "cells": [
  {
   "cell_type": "code",
   "execution_count": 2,
   "metadata": {},
   "outputs": [],
   "source": [
    "from agential.cog.agent.reflexion import ReflexionReActStepOutput, ReflexionReActOutput\n",
    "\n",
    "example_step_output = {\n",
    "    \"thought\": \"I need to determine the total.\",\n",
    "    \"action_type\": \"Calculate\",\n",
    "    \"query\": \"total = 42\",\n",
    "    \"observation\": \"Calculation successful.\",\n",
    "    \"answer\": \"42\",\n",
    "    \"external_tool_info\": {\"tool\": \"calculator\"},\n",
    "    \"is_correct\": True,\n",
    "}\n",
    "\n",
    "example_data = {\n",
    "    \"react_output\": [example_step_output],\n",
    "    \"reflections\": [\"The calculation was straightforward.\"],\n",
    "}\n",
    "\n",
    "react_step_outputs = [ReflexionReActStepOutput(**step) for step in example_data[\"react_output\"]]\n",
    "\n",
    "# Create an instance of ReflexionReActOutput\n",
    "react_output = ReflexionReActOutput(\n",
    "    react_output=react_step_outputs,\n",
    "    reflections=example_data[\"reflections\"]\n",
    ")"
   ]
  },
  {
   "cell_type": "code",
   "execution_count": 5,
   "metadata": {},
   "outputs": [
    {
     "data": {
      "text/plain": [
       "['The calculation was straightforward.']"
      ]
     },
     "execution_count": 5,
     "metadata": {},
     "output_type": "execute_result"
    }
   ],
   "source": [
    "react_output.reflections"
   ]
  },
  {
   "cell_type": "code",
   "execution_count": 12,
   "metadata": {},
   "outputs": [
    {
     "data": {
      "text/plain": [
       "True"
      ]
     },
     "execution_count": 12,
     "metadata": {},
     "output_type": "execute_result"
    }
   ],
   "source": [
    "react_output.react_output[0].is_correct"
   ]
  },
  {
   "cell_type": "code",
   "execution_count": 6,
   "metadata": {},
   "outputs": [
    {
     "ename": "TypeError",
     "evalue": "'ReflexionReActStepOutput' object is not subscriptable",
     "output_type": "error",
     "traceback": [
      "\u001b[1;31m---------------------------------------------------------------------------\u001b[0m",
      "\u001b[1;31mTypeError\u001b[0m                                 Traceback (most recent call last)",
      "Cell \u001b[1;32mIn[6], line 1\u001b[0m\n\u001b[1;32m----> 1\u001b[0m \u001b[38;5;28mprint\u001b[39m(\u001b[43mreact_output\u001b[49m\u001b[38;5;241;43m.\u001b[39;49m\u001b[43mreact_output\u001b[49m\u001b[43m[\u001b[49m\u001b[38;5;241;43m0\u001b[39;49m\u001b[43m]\u001b[49m\u001b[43m[\u001b[49m\u001b[38;5;124;43m\"\u001b[39;49m\u001b[38;5;124;43mthought\u001b[39;49m\u001b[38;5;124;43m\"\u001b[39;49m\u001b[43m]\u001b[49m)\n\u001b[0;32m      2\u001b[0m \u001b[38;5;28mprint\u001b[39m(react_output\u001b[38;5;241m.\u001b[39mreact_output[\u001b[38;5;241m0\u001b[39m][\u001b[38;5;124m\"\u001b[39m\u001b[38;5;124maction_type\u001b[39m\u001b[38;5;124m\"\u001b[39m])\n",
      "\u001b[1;31mTypeError\u001b[0m: 'ReflexionReActStepOutput' object is not subscriptable"
     ]
    }
   ],
   "source": [
    "print(react_output.react_output[0][\"thought\"])\n",
    "print(react_output.react_output[0][\"action_type\"])\n"
   ]
  },
  {
   "cell_type": "code",
   "execution_count": 7,
   "metadata": {},
   "outputs": [
    {
     "name": "stdout",
     "output_type": "stream",
     "text": [
      "I need to determine the total.\n",
      "Calculate\n"
     ]
    }
   ],
   "source": [
    "print(react_output.react_output[0].thought)\n",
    "print(react_output.react_output[0].action_type)"
   ]
  },
  {
   "cell_type": "code",
   "execution_count": null,
   "metadata": {},
   "outputs": [],
   "source": []
  }
 ],
 "metadata": {
  "kernelspec": {
   "display_name": "agential",
   "language": "python",
   "name": "python3"
  },
  "language_info": {
   "codemirror_mode": {
    "name": "ipython",
    "version": 3
   },
   "file_extension": ".py",
   "mimetype": "text/x-python",
   "name": "python",
   "nbconvert_exporter": "python",
   "pygments_lexer": "ipython3",
   "version": "3.11.5"
  }
 },
 "nbformat": 4,
 "nbformat_minor": 2
}
