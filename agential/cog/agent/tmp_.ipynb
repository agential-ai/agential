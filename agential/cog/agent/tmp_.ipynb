{
 "cells": [
  {
   "cell_type": "code",
   "execution_count": 1,
   "metadata": {},
   "outputs": [],
   "source": [
    "from agential.cog.functional.critic import _prompt_agent, _prompt_critic\n",
    "from agential.cog.prompts.critic import (\n",
    "    CRITIC_INSTRUCTION_HOTPOTQA, \n",
    "    HOTPOTQA_FEWSHOT_EXAMPLES_COT,\n",
    "    CRITIC_CRITIQUE_INSTRUCTION_HOTPOTQA,\n",
    "    HOTPOTQA_FEWSHOT_EXAMPLES_CRITIC\n",
    ")\n",
    "from langchain.prompts import PromptTemplate\n",
    "import ast"
   ]
  },
  {
   "cell_type": "code",
   "execution_count": 2,
   "metadata": {},
   "outputs": [
    {
     "name": "stderr",
     "output_type": "stream",
     "text": [
      "c:\\Users\\tuvin\\anaconda3\\envs\\agential\\Lib\\site-packages\\langchain_core\\_api\\deprecation.py:119: LangChainDeprecationWarning: The class `ChatOpenAI` was deprecated in LangChain 0.0.10 and will be removed in 0.2.0. An updated version of the class exists in the langchain-openai package and should be used instead. To use it run `pip install -U langchain-openai` and import as `from langchain_openai import ChatOpenAI`.\n",
      "  warn_deprecated(\n"
     ]
    },
    {
     "name": "stdout",
     "output_type": "stream",
     "text": [
      "<PROMPT IN =======================================================================>\n",
      "Q: What is the elevation range for the area that the eastern sector of the Colorado orogeny extends into?\n",
      "A: Let's think step by step. The eastern sector of Colorado orogeny extends into the High Plains. High Plains rise in elevation from around 1,800 to 7,000 ft. So the answer is: 1,800 to 7,000 ft.\n",
      "\n",
      "Q: Musician and satirist Allie Goertz wrote a song about the \"The Simpsons\" character Milhouse, who Matt Groening named after who?\n",
      "A: Let's think step by step. Milhouse was named after U.S. president Richard Nixon. So the answer is: Richard Nixon.\n",
      "\n",
      "Q: Which documentary is about Finnish rock groups, Adam Clayton Powell or The Saimaa Gesture?\n",
      "A: Let's think step by step. Adam Clayton Powell (film) is a documentary about an African-American politician, not Finnish rock groups. So the documentary about Finnish rock groups must instead be The Saimaa Gesture. So the answer is: The Saimaa Gesture.\n",
      "\n",
      "Q: What profession does Nicholas Ray and Elia Kazan have in common?\n",
      "A: Let's think step by step. Professions of Nicholas Ray are director, screenwriter, and actor. Professions of Elia Kazan are director, producer, screenwriter, and actor. So profession Nicholas Ray and Elia Kazan have in common is director, screenwriter, and actor. So the answer is: director, screenwriter, actor.\n",
      "\n",
      "Q: Which magazine was started first Arthur's Magazine or First for Women?\n",
      "A: Let's think step by step. Arthur's Magazine was started in 1844. First for Women was started in 1989. 1844 (Arthur's Magazine) < 1989 (First for Women), so Arthur's Magazine was started first. So the answer is: Arthur's Magazine.\n",
      "\n",
      "Q: Were Pavel Urysohn and Leonid Levin known for the same type of work?\n",
      "A: Let's think step by step. Pavel Urysohn is a mathematician. Leonid Levin is a mathematician and computer scientist. So Pavel Urysohn and Leonid Levin have the same type of work. So the answer is: Yes.\n",
      "(END OF EXAMPLES)\n",
      "\n",
      "Q: Who was once considered the best kick boxer in the world, however he has been involved in a number of controversies relating to his \"unsportsmanlike conducts\" in the sport and crimes of violence outside of the ring\n",
      "A: \n",
      "<PROMPT IN =======================================================================>\n"
     ]
    },
    {
     "name": "stderr",
     "output_type": "stream",
     "text": [
      "c:\\Users\\tuvin\\anaconda3\\envs\\agential\\Lib\\site-packages\\langchain_core\\_api\\deprecation.py:119: LangChainDeprecationWarning: The method `BaseChatModel.__call__` was deprecated in langchain-core 0.1.7 and will be removed in 0.2.0. Use invoke instead.\n",
      "  warn_deprecated(\n"
     ]
    },
    {
     "name": "stdout",
     "output_type": "stream",
     "text": [
      "<PROMPT OUT =======================================================================>\n",
      "Let's break it down step by step:\n",
      "1. The person was once considered the best kickboxer in the world.\n",
      "2. They have been involved in controversies related to unsportsmanlike conduct in the sport.\n",
      "3. They have also been involved in crimes of violence outside of the ring.\n",
      "Based on these clues, the person in question is likely Badr Hari, a Dutch-Moroccan kickboxer known for his skills in the ring but also for his controversial behavior and legal issues. So the answer is: Badr Hari.\n",
      "<PROMPT OUT =======================================================================>\n"
     ]
    }
   ],
   "source": [
    "from langchain_community.chat_models.openai import ChatOpenAI\n",
    "\n",
    "import dotenv\n",
    "\n",
    "dotenv.load_dotenv()\n",
    "\n",
    "llm = ChatOpenAI()\n",
    "\n",
    "question = 'Who was once considered the best kick boxer in the world, however he has been involved in a number of controversies relating to his \"unsportsmanlike conducts\" in the sport and crimes of violence outside of the ring'\n",
    "\n",
    "answer = _prompt_agent(\n",
    "    llm=llm, \n",
    "    keys={\n",
    "        \"question\": question, \n",
    "        \"examples\": HOTPOTQA_FEWSHOT_EXAMPLES_COT\n",
    "    }, \n",
    "    prompt_template=CRITIC_INSTRUCTION_HOTPOTQA\n",
    ")"
   ]
  },
  {
   "cell_type": "code",
   "execution_count": 3,
   "metadata": {},
   "outputs": [
    {
     "name": "stdout",
     "output_type": "stream",
     "text": [
      "Let's break it down step by step:\n",
      "1. The person was once considered the best kickboxer in the world.\n",
      "2. They have been involved in controversies related to unsportsmanlike conduct in the sport.\n",
      "3. They have also been involved in crimes of violence outside of the ring.\n",
      "Based on these clues, the person in question is likely Badr Hari, a Dutch-Moroccan kickboxer known for his skills in the ring but also for his controversial behavior and legal issues. So the answer is: Badr Hari.\n"
     ]
    }
   ],
   "source": [
    "print(answer)"
   ]
  },
  {
   "cell_type": "code",
   "execution_count": 4,
   "metadata": {},
   "outputs": [
    {
     "name": "stderr",
     "output_type": "stream",
     "text": [
      "c:\\Users\\tuvin\\anaconda3\\envs\\agential\\Lib\\site-packages\\langchain_core\\_api\\deprecation.py:119: LangChainDeprecationWarning: The class `GoogleSearchAPIWrapper` was deprecated in LangChain 0.0.33 and will be removed in 0.2.0. An updated version of the class exists in the langchain-google-community package and should be used instead. To use it run `pip install -U langchain-google-community` and import as `from langchain_google_community import GoogleSearchAPIWrapper`.\n",
      "  warn_deprecated(\n",
      "c:\\Users\\tuvin\\anaconda3\\envs\\agential\\Lib\\site-packages\\langchain_core\\_api\\deprecation.py:119: LangChainDeprecationWarning: The class `GoogleSearchResults` was deprecated in LangChain 0.0.33 and will be removed in 0.2.0. An updated version of the class exists in the langchain-google-community package and should be used instead. To use it run `pip install -U langchain-google-community` and import as `from langchain_google_community import GoogleSearchResults`.\n",
      "  warn_deprecated(\n"
     ]
    }
   ],
   "source": [
    "from langchain_community.utilities.google_search import GoogleSearchAPIWrapper\n",
    "from langchain_community.tools.google_search.tool import GoogleSearchResults, GoogleSearchRun\n",
    "\n",
    "search = GoogleSearchResults(api_wrapper=GoogleSearchAPIWrapper(), num_results=5)"
   ]
  },
  {
   "cell_type": "code",
   "execution_count": 5,
   "metadata": {},
   "outputs": [],
   "source": [
    "template = \"\"\"{examples}\n",
    "(END OF EXAMPLES)\n",
    "\n",
    "Question: {question}\n",
    "Proposed Answer: {answer}\n",
    "\n",
    "What's the problem with the above answer?\n",
    "\n",
    "1. Plausibility:\n",
    "\n",
    "{critique}\n",
    "\n",
    "{format_instructions}\"\"\""
   ]
  },
  {
   "cell_type": "code",
   "execution_count": 6,
   "metadata": {},
   "outputs": [],
   "source": [
    "from langchain.output_parsers import ResponseSchema, StructuredOutputParser\n",
    "\n",
    "response_schemas = [\n",
    "    ResponseSchema(name=\"answer_type\", description=\"Can either be SEARCH (search Google for more info) or ANSWER (critique answers the question).\"),\n",
    "    ResponseSchema(\n",
    "        name=\"value\",\n",
    "        description=\"Can either be the search query (if answer_type=SEARCH) or the answer (if answer_type=ANSWER)\",\n",
    "    ),\n",
    "]\n",
    "output_parser = StructuredOutputParser.from_response_schemas(response_schemas)\n",
    "\n",
    "format_instructions = output_parser.get_format_instructions()\n",
    "prompt = PromptTemplate(\n",
    "    template=template,\n",
    "    input_variables=[\"examples\", \"question\", \"answer\", \"critique\"],\n",
    "    partial_variables={\"format_instructions\": format_instructions},\n",
    ")\n",
    "\n",
    "chain = prompt | llm | output_parser\n",
    "\n",
    "a = chain.invoke({\n",
    "    \"examples\": HOTPOTQA_FEWSHOT_EXAMPLES_CRITIC,\n",
    "    \"question\": question,\n",
    "    \"answer\": \"This controversial boxer is Andrew Tate.\",\n",
    "    \"critique\": \"\"\n",
    "})"
   ]
  },
  {
   "cell_type": "code",
   "execution_count": 7,
   "metadata": {},
   "outputs": [
    {
     "data": {
      "text/plain": [
       "'[{\\'title\\': \\'Why do people act like Andrew Tate was an elite level kickboxer ...\\', \\'link\\': \\'https://www.reddit.com/r/Kickboxing/comments/142z5fn/why_do_people_act_like_andrew_tate_was_an_elite/\\', \\'snippet\\': \"Jun 7, 2023 ... No, but you don\\'t have to be in the top 1% to be considered ... highest level in Glory kickboxing and he\\'s a 6 time world champion. ... one of the\\\\xa0...\"}, {\\'title\\': \\'Badr Hari - Wikipedia\\', \\'link\\': \\'https://en.wikipedia.org/wiki/Badr_Hari\\', \\'snippet\\': \\'Known for his aggressive and explosive fighting style, Hari is widely considered one of the greatest kickboxers of all time.\\'}, {\\'title\\': \\'Was Andrew Tate a GOOD Kickboxer? : r/martialarts\\', \\'link\\': \\'https://www.reddit.com/r/martialarts/comments/wjm5f3/was_andrew_tate_a_good_kickboxer/\\', \\'snippet\\': \"Aug 8, 2022 ... ... best kickboxer for his weight class, becoming kickboxing champion 4 times. ... He fought on K1 once. And ... ISKA isn\\'t a top shelf or world class\\\\xa0...\"}, {\\'title\\': \\'Who is Andrew Tate? The self-proclaimed misogynist influencer\\', \\'link\\': \\'https://www.bbc.com/news/uk-64125045\\', \\'snippet\\': \\'Mar 12, 2024 ... The 36-year-old former kickboxer once said women should \"bear responsibility\" for sexual assault ... Tate was a kickboxing world champion four\\\\xa0...\\'}, {\\'title\\': \\'What do you think of Andrew Tate? - Quora\\', \\'link\\': \\'https://www.quora.com/What-do-you-think-of-Andrew-Tate\\', \\'snippet\\': \\'May 22, 2022 ... I mean he is rich,successful and 4 times kickboxing world ... crime cases regardless of whom is involved ... Tate has also been involved in several\\\\xa0...\\'}]'"
      ]
     },
     "execution_count": 7,
     "metadata": {},
     "output_type": "execute_result"
    }
   ],
   "source": [
    "search(a['value'])"
   ]
  },
  {
   "cell_type": "code",
   "execution_count": 8,
   "metadata": {},
   "outputs": [],
   "source": [
    "if a['answer_type'] == \"SEARCH\":\n",
    "    query = a['value']\n",
    "    search_results = ast.literal_eval(search(a['value']))\n",
    "elif a['answer_type'] == \"ANSWER\": \n",
    "    answer = a['value']\n",
    "else:\n",
    "    pass"
   ]
  },
  {
   "cell_type": "code",
   "execution_count": 20,
   "metadata": {},
   "outputs": [],
   "source": [
    "from langchain_community.utilities import GoogleSerperAPIWrapper\n",
    "from langchain_community.tools.google_serper.tool import GoogleSerperRun \n",
    "\n",
    "search_serper = GoogleSerperRun(api_wrapper=GoogleSerperAPIWrapper())"
   ]
  },
  {
   "cell_type": "code",
   "execution_count": 21,
   "metadata": {},
   "outputs": [],
   "source": [
    "serper_result = search_serper.run(query)"
   ]
  },
  {
   "cell_type": "code",
   "execution_count": null,
   "metadata": {},
   "outputs": [],
   "source": []
  }
 ],
 "metadata": {
  "kernelspec": {
   "display_name": "agential",
   "language": "python",
   "name": "python3"
  },
  "language_info": {
   "codemirror_mode": {
    "name": "ipython",
    "version": 3
   },
   "file_extension": ".py",
   "mimetype": "text/x-python",
   "name": "python",
   "nbconvert_exporter": "python",
   "pygments_lexer": "ipython3",
   "version": "3.11.9"
  }
 },
 "nbformat": 4,
 "nbformat_minor": 2
}
