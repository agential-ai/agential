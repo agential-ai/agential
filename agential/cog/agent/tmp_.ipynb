{
 "cells": [
  {
   "cell_type": "code",
   "execution_count": 24,
   "metadata": {},
   "outputs": [],
   "source": [
    "from agential.cog.functional.critic import _prompt_agent, _prompt_critic\n",
    "from agential.cog.prompts.critic import (\n",
    "    CRITIC_INSTRUCTION_HOTPOTQA, \n",
    "    HOTPOTQA_FEWSHOT_EXAMPLES_COT,\n",
    "    CRITIC_CRITIQUE_INSTRUCTION_HOTPOTQA,\n",
    "    HOTPOTQA_FEWSHOT_EXAMPLES_CRITIC\n",
    ")\n",
    "from langchain.prompts import PromptTemplate\n",
    "from langchain_community.utilities import GoogleSerperAPIWrapper\n",
    "from langchain_community.tools.google_serper.tool import GoogleSerperRun \n",
    "\n",
    "search = GoogleSerperRun(api_wrapper=GoogleSerperAPIWrapper())"
   ]
  },
  {
   "cell_type": "code",
   "execution_count": 2,
   "metadata": {},
   "outputs": [
    {
     "name": "stderr",
     "output_type": "stream",
     "text": [
      "c:\\Users\\tuvin\\anaconda3\\envs\\agential\\Lib\\site-packages\\langchain_core\\_api\\deprecation.py:119: LangChainDeprecationWarning: The class `ChatOpenAI` was deprecated in LangChain 0.0.10 and will be removed in 0.2.0. An updated version of the class exists in the langchain-openai package and should be used instead. To use it run `pip install -U langchain-openai` and import as `from langchain_openai import ChatOpenAI`.\n",
      "  warn_deprecated(\n"
     ]
    },
    {
     "name": "stdout",
     "output_type": "stream",
     "text": [
      "<PROMPT IN =======================================================================>\n",
      "Q: What is the elevation range for the area that the eastern sector of the Colorado orogeny extends into?\n",
      "A: Let's think step by step. The eastern sector of Colorado orogeny extends into the High Plains. High Plains rise in elevation from around 1,800 to 7,000 ft. So the answer is: 1,800 to 7,000 ft.\n",
      "\n",
      "Q: Musician and satirist Allie Goertz wrote a song about the \"The Simpsons\" character Milhouse, who Matt Groening named after who?\n",
      "A: Let's think step by step. Milhouse was named after U.S. president Richard Nixon. So the answer is: Richard Nixon.\n",
      "\n",
      "Q: Which documentary is about Finnish rock groups, Adam Clayton Powell or The Saimaa Gesture?\n",
      "A: Let's think step by step. Adam Clayton Powell (film) is a documentary about an African-American politician, not Finnish rock groups. So the documentary about Finnish rock groups must instead be The Saimaa Gesture. So the answer is: The Saimaa Gesture.\n",
      "\n",
      "Q: What profession does Nicholas Ray and Elia Kazan have in common?\n",
      "A: Let's think step by step. Professions of Nicholas Ray are director, screenwriter, and actor. Professions of Elia Kazan are director, producer, screenwriter, and actor. So profession Nicholas Ray and Elia Kazan have in common is director, screenwriter, and actor. So the answer is: director, screenwriter, actor.\n",
      "\n",
      "Q: Which magazine was started first Arthur's Magazine or First for Women?\n",
      "A: Let's think step by step. Arthur's Magazine was started in 1844. First for Women was started in 1989. 1844 (Arthur's Magazine) < 1989 (First for Women), so Arthur's Magazine was started first. So the answer is: Arthur's Magazine.\n",
      "\n",
      "Q: Were Pavel Urysohn and Leonid Levin known for the same type of work?\n",
      "A: Let's think step by step. Pavel Urysohn is a mathematician. Leonid Levin is a mathematician and computer scientist. So Pavel Urysohn and Leonid Levin have the same type of work. So the answer is: Yes.\n",
      "(END OF EXAMPLES)\n",
      "\n",
      "Q: Who was once considered the best kick boxer in the world, however he has been involved in a number of controversies relating to his \"unsportsmanlike conducts\" in the sport and crimes of violence outside of the ring\n",
      "A: \n",
      "<PROMPT IN =======================================================================>\n"
     ]
    },
    {
     "name": "stderr",
     "output_type": "stream",
     "text": [
      "c:\\Users\\tuvin\\anaconda3\\envs\\agential\\Lib\\site-packages\\langchain_core\\_api\\deprecation.py:119: LangChainDeprecationWarning: The method `BaseChatModel.__call__` was deprecated in langchain-core 0.1.7 and will be removed in 0.2.0. Use invoke instead.\n",
      "  warn_deprecated(\n"
     ]
    },
    {
     "name": "stdout",
     "output_type": "stream",
     "text": [
      "<PROMPT OUT =======================================================================>\n",
      "Let's break it down step by step:\n",
      "1. The person was once considered the best kickboxer in the world.\n",
      "2. They have been involved in controversies related to unsportsmanlike conduct in the sport.\n",
      "3. They have also been involved in crimes of violence outside of the ring.\n",
      "Based on these clues, the person in question is likely Badr Hari, a Dutch-Moroccan kickboxer known for his skills in the ring but also for his controversial behavior and legal issues. So the answer is: Badr Hari.\n",
      "<PROMPT OUT =======================================================================>\n"
     ]
    }
   ],
   "source": [
    "from langchain_community.chat_models.openai import ChatOpenAI\n",
    "\n",
    "import dotenv\n",
    "\n",
    "dotenv.load_dotenv()\n",
    "\n",
    "llm = ChatOpenAI()\n",
    "\n",
    "question = 'Who was once considered the best kick boxer in the world, however he has been involved in a number of controversies relating to his \"unsportsmanlike conducts\" in the sport and crimes of violence outside of the ring'\n",
    "\n",
    "answer = _prompt_agent(\n",
    "    llm=llm, \n",
    "    keys={\n",
    "        \"question\": question, \n",
    "        \"examples\": HOTPOTQA_FEWSHOT_EXAMPLES_COT\n",
    "    }, \n",
    "    prompt_template=CRITIC_INSTRUCTION_HOTPOTQA\n",
    ")"
   ]
  },
  {
   "cell_type": "code",
   "execution_count": 3,
   "metadata": {},
   "outputs": [
    {
     "name": "stdout",
     "output_type": "stream",
     "text": [
      "Let's break it down step by step:\n",
      "1. The person was once considered the best kickboxer in the world.\n",
      "2. They have been involved in controversies related to unsportsmanlike conduct in the sport.\n",
      "3. They have also been involved in crimes of violence outside of the ring.\n",
      "Based on these clues, the person in question is likely Badr Hari, a Dutch-Moroccan kickboxer known for his skills in the ring but also for his controversial behavior and legal issues. So the answer is: Badr Hari.\n"
     ]
    }
   ],
   "source": [
    "print(answer)"
   ]
  },
  {
   "cell_type": "code",
   "execution_count": 31,
   "metadata": {},
   "outputs": [],
   "source": [
    "critic_prompt = PromptTemplate.from_template(CRITIC_CRITIQUE_INSTRUCTION_HOTPOTQA).format(\n",
    "    **{\n",
    "        \"question\": question,\n",
    "        \"examples\": HOTPOTQA_FEWSHOT_EXAMPLES_CRITIC,\n",
    "        \"answer\": answer, \n",
    "        \"critique\": \"\"\n",
    "    }\n",
    ")"
   ]
  },
  {
   "cell_type": "code",
   "execution_count": 3,
   "metadata": {},
   "outputs": [],
   "source": [
    "from guidance import models, select\n",
    "llm = models.OpenAI(\"gpt-3.5-turbo-instruct\")"
   ]
  },
  {
   "cell_type": "code",
   "execution_count": 4,
   "metadata": {},
   "outputs": [
    {
     "data": {
      "text/html": [
       "<pre style='margin: 0px; padding: 0px; vertical-align: middle; padding-left: 8px; margin-left: -8px; border-radius: 0px; border-left: 1px solid rgba(127, 127, 127, 0.2); white-space: pre-wrap; font-family: ColfaxAI, Arial; font-size: 15px; line-height: 23px;'>Do you want a joke or a poem? A <span style='background-color: rgba(0.0, 165.0, 0, 0.15); border-radius: 3px;' title='1.0'>joke</span></pre>"
      ],
      "text/plain": [
       "<guidance.models._openai.OpenAICompletion at 0x1d1bd6e3690>"
      ]
     },
     "execution_count": 4,
     "metadata": {},
     "output_type": "execute_result"
    }
   ],
   "source": [
    "llm + f'Do you want a joke or a poem? A ' + select(['joke', 'poem'])\n"
   ]
  },
  {
   "cell_type": "markdown",
   "metadata": {},
   "source": []
  },
  {
   "cell_type": "code",
   "execution_count": null,
   "metadata": {},
   "outputs": [],
   "source": []
  }
 ],
 "metadata": {
  "kernelspec": {
   "display_name": "agential",
   "language": "python",
   "name": "python3"
  },
  "language_info": {
   "codemirror_mode": {
    "name": "ipython",
    "version": 3
   },
   "file_extension": ".py",
   "mimetype": "text/x-python",
   "name": "python",
   "nbconvert_exporter": "python",
   "pygments_lexer": "ipython3",
   "version": "3.11.9"
  }
 },
 "nbformat": 4,
 "nbformat_minor": 2
}
