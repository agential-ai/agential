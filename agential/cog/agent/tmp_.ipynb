{
 "cells": [
  {
   "cell_type": "code",
   "execution_count": 1,
   "metadata": {},
   "outputs": [],
   "source": [
    "from langchain_community.chat_models.openai import ChatOpenAI\n",
    "from agential.cog.agent.self_refine import SelfRefineAgent\n",
    "from agential.cog.prompts.self_refine import (\n",
    "    SELF_REFINE_CRITIQUE_INSTRUCTION_GSM8K,\n",
    "    SELF_REFINE_INSTRUCTION_GSM8K,\n",
    "    SELF_REFINE_REFINE_INSTRUCTION_GSM8K,\n",
    "    GSM8K_CRITIQUE_FEWSHOT_EXAMPLES,\n",
    "    GSM8K_REFINE_FEWSHOT_EXAMPLES\n",
    ")\n",
    "from agential.cog.prompts.benchmarks.gsm8k import GSM8K_FEWSHOT_EXAMPLES_POT\n",
    "\n",
    "import dotenv\n",
    "dotenv.load_dotenv()\n",
    "\n",
    "import warnings\n",
    "warnings.filterwarnings(\"ignore\")\n",
    "\n",
    "llm = ChatOpenAI()"
   ]
  },
  {
   "cell_type": "code",
   "execution_count": null,
   "metadata": {},
   "outputs": [],
   "source": [
    "agent = SelfRefineAgent(llm)"
   ]
  },
  {
   "cell_type": "code",
   "execution_count": null,
   "metadata": {},
   "outputs": [],
   "source": [
    "question = \"A robe takes 2 bolts of blue fiber and half that much white fiber. How many bolts in total does it take?\""
   ]
  },
  {
   "cell_type": "code",
   "execution_count": null,
   "metadata": {},
   "outputs": [],
   "source": [
    "agent.generate(\n",
    "    question=question,\n",
    "    examples=GSM8K_FEWSHOT_EXAMPLES_POT,\n",
    "    prompt=SELF_REFINE_INSTRUCTION_GSM8K,\n",
    "    feedback_examples=GSM8K_CRITIQUE_FEWSHOT_EXAMPLES,\n",
    "    feedback_prompt=SELF_REFINE_CRITIQUE_INSTRUCTION_GSM8K,\n",
    "    refine_examples=GSM8K_REFINE_FEWSHOT_EXAMPLES,\n",
    "    refine_prompt=SELF_REFINE_REFINE_INSTRUCTION_GSM8K\n",
    ")"
   ]
  }
 ],
 "metadata": {
  "kernelspec": {
   "display_name": "agential",
   "language": "python",
   "name": "python3"
  },
  "language_info": {
   "codemirror_mode": {
    "name": "ipython",
    "version": 3
   },
   "file_extension": ".py",
   "mimetype": "text/x-python",
   "name": "python",
   "nbconvert_exporter": "python",
   "pygments_lexer": "ipython3",
   "version": "3.11.9"
  }
 },
 "nbformat": 4,
 "nbformat_minor": 2
}
