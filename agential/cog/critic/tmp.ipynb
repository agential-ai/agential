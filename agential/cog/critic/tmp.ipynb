{
 "cells": [
  {
   "cell_type": "code",
   "execution_count": 1,
   "metadata": {},
   "outputs": [],
   "source": [
    "from agential.cog.critic.strategies.code import CriticCodeStrategy, CritHEvalCodeStrategy\n",
    "from agential.llm.llm import LLM\n",
    "from dotenv import load_dotenv\n",
    "load_dotenv()\n",
    "import os\n",
    "llm = LLM(\"gpt-3.5-turbo\")\n"
   ]
  },
  {
   "cell_type": "code",
   "execution_count": 2,
   "metadata": {},
   "outputs": [
    {
     "ename": "TypeError",
     "evalue": "Can't instantiate abstract class CritHEvalCodeStrategy with abstract method generate",
     "output_type": "error",
     "traceback": [
      "\u001b[1;31m---------------------------------------------------------------------------\u001b[0m",
      "\u001b[1;31mTypeError\u001b[0m                                 Traceback (most recent call last)",
      "Cell \u001b[1;32mIn[2], line 11\u001b[0m\n\u001b[0;32m      7\u001b[0m tests \u001b[38;5;241m=\u001b[39m \u001b[38;5;124mf\u001b[39m\u001b[38;5;124m\"\u001b[39m\u001b[38;5;132;01m{\u001b[39;00minst[\u001b[38;5;124m'\u001b[39m\u001b[38;5;124mtest\u001b[39m\u001b[38;5;124m'\u001b[39m]\u001b[38;5;132;01m}\u001b[39;00m\u001b[38;5;130;01m\\n\u001b[39;00m\u001b[38;5;124mcheck(\u001b[39m\u001b[38;5;132;01m{\u001b[39;00minst[\u001b[38;5;124m'\u001b[39m\u001b[38;5;124mentry_point\u001b[39m\u001b[38;5;124m'\u001b[39m]\u001b[38;5;132;01m}\u001b[39;00m\u001b[38;5;124m)\u001b[39m\u001b[38;5;124m\"\u001b[39m\n\u001b[0;32m      9\u001b[0m use_tool \u001b[38;5;241m=\u001b[39m \u001b[38;5;28;01mTrue\u001b[39;00m\n\u001b[1;32m---> 11\u001b[0m strat \u001b[38;5;241m=\u001b[39m \u001b[43mCritHEvalCodeStrategy\u001b[49m\u001b[43m(\u001b[49m\u001b[43mllm\u001b[49m\u001b[38;5;241;43m=\u001b[39;49m\u001b[43mllm\u001b[49m\u001b[43m)\u001b[49m\n\u001b[0;32m     12\u001b[0m out \u001b[38;5;241m=\u001b[39m strat\u001b[38;5;241m.\u001b[39mgenerate(\n\u001b[0;32m     13\u001b[0m     question\u001b[38;5;241m=\u001b[39mquestion,\n\u001b[0;32m     14\u001b[0m     examples\u001b[38;5;241m=\u001b[39mHUMANEVAL_FEWSHOT_EXAMPLES_POT,\n\u001b[1;32m   (...)\u001b[0m\n\u001b[0;32m     22\u001b[0m     reset\u001b[38;5;241m=\u001b[39m\u001b[38;5;28;01mTrue\u001b[39;00m\n\u001b[0;32m     23\u001b[0m )\n",
      "\u001b[1;31mTypeError\u001b[0m: Can't instantiate abstract class CritHEvalCodeStrategy with abstract method generate"
     ]
    }
   ],
   "source": [
    "from agential.cog.critic.prompts import CRITIC_CRITIQUE_INSTRUCTION_HUMANEVAL, CRITIC_CRITIQUE_NO_TOOL_INSTRUCTION_HUMANEVAL, CRITIC_POT_INSTRUCTION_HUMANEVAL, HUMANEVAL_FEWSHOT_EXAMPLES_CRITIC, HUMANEVAL_FEWSHOT_EXAMPLES_CRITIC_NO_TOOL\n",
    "from agential.cog.fewshots.humaneval import HUMANEVAL_FEWSHOT_EXAMPLES_POT\n",
    "\n",
    "\n",
    "inst = {\"task_id\": \"HumanEval/0\", \"prompt\": \"from typing import List\\n\\n\\ndef has_close_elements(numbers: List[float], threshold: float) -> bool:\\n    \\\"\\\"\\\" Check if in given list of numbers, are any two numbers closer to each other than\\n    given threshold.\\n    >>> has_close_elements([1.0, 2.0, 3.0], 0.5)\\n    False\\n    >>> has_close_elements([1.0, 2.8, 3.0, 4.0, 5.0, 2.0], 0.3)\\n    True\\n    \\\"\\\"\\\"\\n\", \"entry_point\": \"has_close_elements\", \"canonical_solution\": \"    for idx, elem in enumerate(numbers):\\n        for idx2, elem2 in enumerate(numbers):\\n            if idx != idx2:\\n                distance = abs(elem - elem2)\\n                if distance < threshold:\\n                    return True\\n\\n    return False\\n\", \"test\": \"\\n\\nMETADATA = {\\n    'author': 'jt',\\n    'dataset': 'test'\\n}\\n\\n\\ndef check(candidate):\\n    assert candidate([1.0, 2.0, 3.9, 4.0, 5.0, 2.2], 0.3) == True\\n    assert candidate([1.0, 2.0, 3.9, 4.0, 5.0, 2.2], 0.05) == False\\n    assert candidate([1.0, 2.0, 5.9, 4.0, 5.0], 0.95) == True\\n    assert candidate([1.0, 2.0, 5.9, 4.0, 5.0], 0.8) == False\\n    assert candidate([1.0, 2.0, 3.0, 4.0, 5.0, 2.0], 0.1) == True\\n    assert candidate([1.1, 2.2, 3.1, 4.1, 5.1], 1.0) == True\\n    assert candidate([1.1, 2.2, 3.1, 4.1, 5.1], 0.5) == False\\n\\n\"}\n",
    "question = inst['prompt']\n",
    "tests = f\"{inst['test']}\\ncheck({inst['entry_point']})\"\n",
    "\n",
    "use_tool = True\n",
    "\n",
    "strat = CritHEvalCodeStrategy(llm=llm)\n",
    "out = strat.generate(\n",
    "    question=question,\n",
    "    examples=HUMANEVAL_FEWSHOT_EXAMPLES_POT,\n",
    "    prompt=CRITIC_POT_INSTRUCTION_HUMANEVAL,\n",
    "    critique_examples=HUMANEVAL_FEWSHOT_EXAMPLES_CRITIC if use_tool else HUMANEVAL_FEWSHOT_EXAMPLES_CRITIC_NO_TOOL,\n",
    "    critique_prompt=CRITIC_CRITIQUE_INSTRUCTION_HUMANEVAL if use_tool else CRITIC_CRITIQUE_NO_TOOL_INSTRUCTION_HUMANEVAL,\n",
    "    additional_keys={},\n",
    "    critique_additional_keys={\"tests\": tests},\n",
    "    max_interactions=3,\n",
    "    use_tool=use_tool,\n",
    "    reset=True\n",
    ")"
   ]
  },
  {
   "cell_type": "code",
   "execution_count": null,
   "metadata": {},
   "outputs": [],
   "source": [
    "from agential.cog.critic.prompts import CRITIC_CRITIQUE_INSTRUCTION_MBPP, CRITIC_CRITIQUE_NO_TOOL_INSTRUCTION_MBPP, CRITIC_POT_INSTRUCTION_MBPP, MBPP_FEWSHOT_EXAMPLES_CRITIC, MBPP_FEWSHOT_EXAMPLES_CRITIC_NO_TOOL\n",
    "from agential.cog.critic.strategies.code import CritMBPPCodeStrategy\n",
    "from agential.cog.fewshots.mbpp import MBPP_FEWSHOT_EXAMPLES_POT\n",
    "\n",
    "\n",
    "question = \"Write a python function to find the first repeated character in a given string.\"\n",
    "tests = \"\"\"assert first_repeated_char(\"abcabc\") == \"a\"\n",
    "assert first_repeated_char(\"abc\") == None\n",
    "assert first_repeated_char(\"123123\") == \"1\\\"\"\"\"\n",
    "use_tool = True\n",
    "\n",
    "strat = CritMBPPCodeStrategy(llm=llm)\n",
    "\n",
    "out = strat.generate(\n",
    "    question=question,\n",
    "    examples=MBPP_FEWSHOT_EXAMPLES_POT,\n",
    "    prompt=CRITIC_POT_INSTRUCTION_MBPP,\n",
    "    critique_examples=MBPP_FEWSHOT_EXAMPLES_CRITIC if use_tool else MBPP_FEWSHOT_EXAMPLES_CRITIC_NO_TOOL,\n",
    "    critique_prompt=CRITIC_CRITIQUE_INSTRUCTION_MBPP if use_tool else CRITIC_CRITIQUE_NO_TOOL_INSTRUCTION_MBPP,\n",
    "    additional_keys={\"tests\": tests},\n",
    "    critique_additional_keys={\"tests\": tests},\n",
    "    max_interactions=3,\n",
    "    use_tool=use_tool,\n",
    "    reset=True\n",
    ")"
   ]
  }
 ],
 "metadata": {
  "kernelspec": {
   "display_name": "agential",
   "language": "python",
   "name": "python3"
  },
  "language_info": {
   "codemirror_mode": {
    "name": "ipython",
    "version": 3
   },
   "file_extension": ".py",
   "mimetype": "text/x-python",
   "name": "python",
   "nbconvert_exporter": "python",
   "pygments_lexer": "ipython3",
   "version": "3.11.5"
  }
 },
 "nbformat": 4,
 "nbformat_minor": 2
}
