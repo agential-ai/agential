{
 "cells": [
  {
   "cell_type": "code",
   "execution_count": null,
   "metadata": {},
   "outputs": [],
   "source": [
    "from agential.cog.reflexion.strategies.qa import ReflexionReActQAStrategy\n",
    "from agential.llm.llm import LLM\n",
    "from dotenv import load_dotenv\n",
    "import os\n",
    "\n",
    "load_dotenv()\n",
    "\n",
    "llm = LLM(\"gpt-3.5-turbo\", organization=os.getenv(\"OPENAI_ORGANIZATION\"))\n",
    "\n"
   ]
  },
  {
   "cell_type": "code",
   "execution_count": null,
   "metadata": {},
   "outputs": [],
   "source": [
    "from agential.cog.fewshots.hotpotqa import HOTPOTQA_FEWSHOT_EXAMPLES_REACT\n",
    "from agential.cog.reflexion.prompts import HOTPOTQA_FEWSHOT_EXAMPLES_REFLEXION_REACT_REFLECT, REFLEXION_REACT_INSTRUCTION_HOTPOTQA, REFLEXION_REACT_REFLECT_INSTRUCTION_HOTPOTQA\n",
    "\n",
    "\n",
    "question = \"VIVA Media AG changed it's name in 2004. What does their new acronym stand for?\"\n",
    "key = \"Gesellschaft mit beschränkter Haftung\"\n",
    "strat = ReflexionReActQAStrategy(llm=llm)\n",
    "out = strat.generate(\n",
    "    question=question, \n",
    "    key=key, \n",
    "    examples=HOTPOTQA_FEWSHOT_EXAMPLES_REACT,\n",
    "    prompt=REFLEXION_REACT_INSTRUCTION_HOTPOTQA, \n",
    "    reflect_examples=HOTPOTQA_FEWSHOT_EXAMPLES_REFLEXION_REACT_REFLECT,\n",
    "    reflect_prompt=REFLEXION_REACT_REFLECT_INSTRUCTION_HOTPOTQA,\n",
    "    reflect_strategy=\"reflexion\",\n",
    "    additional_keys={},\n",
    "    reflect_additional_keys={},\n",
    "    patience=1,\n",
    "    reset=True,\n",
    ")"
   ]
  },
  {
   "cell_type": "code",
   "execution_count": null,
   "metadata": {},
   "outputs": [],
   "source": [
    "out"
   ]
  },
  {
   "cell_type": "code",
   "execution_count": null,
   "metadata": {},
   "outputs": [],
   "source": [
    "from agential.cog.fewshots.gsm8k import GSM8K_FEWSHOT_EXAMPLES_COT, GSM8K_FEWSHOT_EXAMPLES_REACT\n",
    "from agential.cog.reflexion.prompts import GSM8K_FEWSHOT_EXAMPLES_REFLEXION_COT_REFLECT, GSM8K_FEWSHOT_EXAMPLES_REFLEXION_REACT_REFLECT, REFLEXION_COT_INSTRUCTION_GSM8K, REFLEXION_COT_REFLECT_INSTRUCTION_GSM8K, REFLEXION_REACT_INSTRUCTION_GSM8K, REFLEXION_REACT_REFLECT_INSTRUCTION_GSM8K\n",
    "from agential.cog.reflexion.strategies.math import ReflexionReActMathStrategy\n",
    "\n",
    "question = \"Janet's ducks lay 16 eggs per day. She eats three for breakfast every morning and bakes muffins for her friends every day with 4933828. She sells the remainder at the farmers' market daily for $2 per fresh duck egg. How much in dollars does she make every day at the farmers' market?\"\n",
    "key = -9867630\n",
    "\n",
    "strategy = ReflexionReActMathStrategy(llm=llm, testing=True)\n",
    "out = strategy.generate(\n",
    "    question=question,\n",
    "    key=key,\n",
    "    examples=GSM8K_FEWSHOT_EXAMPLES_REACT,\n",
    "    prompt=REFLEXION_REACT_INSTRUCTION_GSM8K,\n",
    "    reflect_examples=GSM8K_FEWSHOT_EXAMPLES_REFLEXION_REACT_REFLECT,\n",
    "    reflect_prompt=REFLEXION_REACT_REFLECT_INSTRUCTION_GSM8K,\n",
    "    reflect_strategy=\"reflexion\",\n",
    "    additional_keys={},\n",
    "    reflect_additional_keys={},\n",
    "    patience=3,\n",
    "    reset=True,\n",
    ")"
   ]
  },
  {
   "cell_type": "code",
   "execution_count": null,
   "metadata": {},
   "outputs": [],
   "source": [
    "from agential.llm.llm import MockLLM\n",
    "\n",
    "\n",
    "responses = [\n",
    "    \"First, I need to calculate the total number of eggs laid per day after Janet eats three for breakfast.\\nAction 1: Calculate[\\n```python\\neggs_laid_per_day = 16\\neggs_eaten_for_breakfast = 3\\neggs_remaining = eggs_laid_per_day - eggs_eaten_for_breakfast\\n```\\n]\\nObservation 1:\\n```python\\neggs_laid_per_day = 16\\neggs_eaten_for_breakfast = 3\\neggs_remaining = eggs_laid_per_day - eggs_eaten_for_breakfast\\n```\\nExecution Status: Done\\nOutput: eggs_remaining = 13\\nThought 2: I have determined the number of eggs remaining after breakfast. Now, I need to calculate how much Janet earns daily at the farmers' market with the remaining eggs.\\nAction 2: Calculate[\\n```python\\neggs_remaining = 13\\nprice_per_egg = 2\\nearnings_per_day = eggs_remaining * price_per_egg\\n```\\n]\\nObservation 2:\\n```python\\neggs_remaining = 13\\nprice_per_egg = 2\\nearnings_per_day = eggs_remaining * price_per_egg\\n```\\nExecution Status: Done\\nOutput: earnings_per_day = 26\\nThought 3: Janet makes $26 every day at the farmers' market.\\nAction 3: Finish[\\n```python\\nanswer = 26\\n```\\n]\\nObservation 3:\\n```python\\nanswer = 26\\n```\",\n",
    "    'Calculate[\\n```python\\neggs_laid_per_day = 16\\neggs_consumed = 3\\neggs_remaining = eggs_laid_per_day - eggs_consumed\\n```\\n]',\n",
    "    \"I need to calculate how much money Janet makes from selling the remaining eggs at the farmers' market daily.\\nAction 2: Calculate[\\n```python\\neggs_remaining = 13\\nprice_per_egg = 2\\nmoney_made_daily = eggs_remaining * price_per_egg\\n```\\n]\\nObservation 2: \\n```python\\neggs_remaining = 13\\nprice_per_egg = 2\\nmoney_made_daily = eggs_remaining * price_per_egg\\n```\\nExecution Status: Done\\nOutput: answer = 26\\nThought 3: Janet makes $26 every day at the farmers' market.\\nAction 3: Finish[\\n```python\\nanswer = 26\\n```\\n]\\nObservation 3: \\n```python\\nanswer = 26\\n```\",\n",
    "    \"Calculate[\\n```python\\neggs_remaining = 13  # from previous calculation\\negg_price = 2\\nmoney_per_day = eggs_remaining * egg_price\\nanswer = money_per_day\\n```\\n]\\nObservation 2: \\n```python\\neggs_remaining = 13\\negg_price = 2\\nmoney_per_day = eggs_remaining * egg_price\\nanswer = money_per_day\\n```\\nExecution Status: Done\\nOutput: answer = 26\\nThought 3: Janet makes $26 every day by selling the remaining duck eggs at the farmers' market.\\nAction 3: Finish[\\n```python\\nanswer = 26\\n```\\n]\\nObservation 3: \\n```python\\nanswer = 26\\n```\",\n",
    "    \"Janet makes $26 every day at the farmers' market.\\nAction 3: Finish[\\n```python\\nanswer = 26\\n```\\n]\\nObservation 3: \\n```python\\nanswer = 26\\n```\",\n",
    "    'Finish[\\n```python\\nanswer = 26\\n```\\n]\\nObservation 3: \\n```python\\nanswer = 26\\n```',\n",
    "    \"My reasoning failed because I overlooked the step where Janet bakes muffins for her friends daily before selling the remainder at the farmers' market. In the future, I should ensure to include this intermediate step in my calculations for accurate results. To mitigate this failure, I will revise my plan by accounting for the number of eggs used for baking muffins before calculating the money made at the farmers' market.\",\n",
    "    \"First, I need to calculate how many eggs are left after Janet eats breakfast and bakes muffins for her friends.\\nAction 1: Calculate[\\n```python\\neggs_laid_per_day = 16\\neggs_breakfast = 3\\neggs_used_for_muffins = 4933828\\neggs_remaining = eggs_laid_per_day - eggs_breakfast - eggs_used_for_muffins\\n```\\n]\\nObservation 1: \\n```python\\neggs_laid_per_day = 16\\neggs_breakfast = 3\\neggs_used_for_muffins = 4933828\\neggs_remaining = eggs_laid_per_day - eggs_breakfast - eggs_used_for_muffins\\n```\\nExecution Status: Done\\nOutput: eggs_remaining = -4933815\\nThought 2: My calculation for eggs remaining is incorrect. I mistakenly subtracted the number of eggs used for muffins instead of adding it. I need to modify the calculation to add the eggs used for muffins.\\nAction 2: Calculate[\\n```python\\neggs_laid_per_day = 16\\neggs_breakfast = 3\\neggs_used_for_muffins = 4933828\\neggs_remaining = eggs_laid_per_day - eggs_breakfast + eggs_used_for_muffins\\n```\\n]\\nObservation 2: \\n```python\\neggs_laid_per_day = 16\\neggs_breakfast = 3\\neggs_used_for_muffins = 4933828\\neggs_remaining = eggs_laid_per_day - eggs_breakfast + eggs_used_for_muffins\\n```\\nExecution Status: Done\\nOutput: eggs_remaining = 4933821\\nThought 3: Now that I have the correct number of eggs remaining, I can calculate how much money Janet makes at the farmers' market daily.\\nAction 3: Finish[\\n```python\\nmoney_per_egg = 2\\nmoney_made_per_day = eggs_remaining * money_per_egg\\nanswer = money_made_per_day\\n```\\n]\\nObservation 3: \\n```python\\nanswer = 9867642\\n```\",\n",
    "    \"Calculate[\\n```python\\neggs_laid_per_day = 16\\neggs_consumed_for_breakfast = 3\\neggs_used_for_muffins = 4933828\\neggs_remaining = eggs_laid_per_day - eggs_consumed_for_breakfast - eggs_used_for_muffins\\n```\\n]\\nObservation 1: \\n```python\\neggs_laid_per_day = 16\\neggs_consumed_for_breakfast = 3\\neggs_used_for_muffins = 4933828\\neggs_remaining = eggs_laid_per_day - eggs_consumed_for_breakfast - eggs_used_for_muffins\\n```\\nExecution Status: Done\\nOutput: eggs_remaining = -4933815\\nThought 2: The calculation result is not logically correct as the number of eggs remaining cannot be negative. I need to revise the plan to accurately compute the eggs remaining.\\nAction 2: Calculate[\\n```python\\neggs_laid_per_day = 16\\neggs_consumed_for_breakfast = 3\\neggs_used_for_muffins = 4933828\\neggs_bought_at_market = eggs_laid_per_day - eggs_consumed_for_breakfast\\neggs_sold_at_market = eggs_bought_at_market - eggs_used_for_muffins\\ndollars_per_egg = 2\\nmoney_made_per_day = eggs_sold_at_market * dollars_per_egg\\n```\\n]\\nObservation 2: \\n```python\\neggs_laid_per_day = 16\\neggs_consumed_for_breakfast = 3\\neggs_used_for_muffins = 4933828\\neggs_bought_at_market = eggs_laid_per_day - eggs_consumed_for_breakfast\\neggs_sold_at_market = eggs_bought_at_market - eggs_used_for_muffins\\ndollars_per_egg = 2\\nmoney_made_per_day = eggs_sold_at_market * dollars_per_egg\\n```\\nExecution Status: Done\\nOutput: money_made_per_day = -4933860\\nThought 3: The calculated negative amount of money made per day is incorrect. I should review the calculation steps to identify the error and adjust the calculation as needed.\\nAction 3: Calculate[\\n```python\\neggs_laid_per_day = 16\\neggs_consumed_for_breakfast = 3\\neggs_used_for_muffins = 4933828\\neggs_remaining = eggs_laid_per_day - eggs_consumed_for_breakfast\\neggs_sold_at_market = eggs_remaining - eggs_used_for_muffins\\ndollars_per_egg = 2\\nmoney_made_per_day = max(eggs_sold_at_market, 0) * dollars_per_egg\\n```\\n]\\nObservation 3: \\n```python\\neggs_laid_per_day = 16\\neggs_consumed_for_breakfast = 3\\neggs_used_for_muffins = 4933828\\neggs_remaining = eggs_laid_per_day - eggs_consumed_for_breakfast\\neggs_sold_at_market = eggs_remaining - eggs_used_for_muffins\\ndollars_per_egg = 2\\nmoney_made_per_day = max(eggs_sold_at_market, 0) * dollars_per_egg\\n```\\nExecution Status: Done\\nOutput: money_made_per_day = 26\\nThought 4: The amount of money Janet makes at the farmers' market daily is $26.\\nAction 4: Finish[\\n```python\\nanswer = 26\\n```\\n]\\nObservation 4: \\n```python\\nanswer = 26\\n```\",\n",
    "    \"There seems to be an error in the calculation of eggs remaining. I need to adjust my approach to correctly calculate the number of eggs left for Janet to sell at the farmers' market. \\nAction 2: Calculate[\\n```python\\neggs_laid_per_day = 16\\neggs_consumed_for_breakfast = 3\\neggs_used_for_muffins = 4933828\\neggs_remaining = eggs_laid_per_day - eggs_consumed_for_breakfast - eggs_used_for_muffins\\n```\\n]\\nObservation 2: \\n```python\\neggs_laid_per_day = 16\\neggs_consumed_for_breakfast = 3\\neggs_used_for_muffins = 4933828\\neggs_remaining = eggs_laid_per_day - eggs_consumed_for_breakfast - eggs_used_for_muffins\\n```\\nExecution Status: Done\\nOutput: answer = -4933815\\nThought 3: The calculation result is negative which indicates an error in the logic. I need to revise my plan to accurately determine the number of eggs remaining for Janet to sell at the farmers' market. \\nAction 3: Calculate[\\n```python\\neggs_laid_per_day = 16\\neggs_consumed_for_breakfast = 3\\neggs_used_for_muffins = 4933828\\neggs_remaining = eggs_laid_per_day - eggs_consumed_for_breakfast - eggs_used_for_muffins\\n```\\n]\\nObservation 3: \\n```python\\neggs_laid_per_day = 16\\neggs_consumed_for_breakfast = 3\\neggs_used_for_muffins = 4933828\\neggs_remaining = eggs_laid_per_day - eggs_consumed_for_breakfast - eggs_used_for_muffins\\n```\\nExecution Status: Done\\nOutput: answer = -4933815\",\n",
    "    \"Calculate[\\n```python\\neggs_laid_per_day = 16\\neggs_consumed_for_breakfast = 3\\neggs_used_for_muffins = 4933828\\neggs_remaining = eggs_laid_per_day - eggs_consumed_for_breakfast\\neggs_remaining -= eggs_used_for_muffins\\n```\\n]\\nObservation 2: \\n```python\\neggs_laid_per_day = 16\\neggs_consumed_for_breakfast = 3\\neggs_used_for_muffins = 4933828\\neggs_remaining = eggs_laid_per_day - eggs_consumed_for_breakfast\\neggs_remaining -= eggs_used_for_muffins\\n```\\nExecution Status: Done\\nOutput: answer = -4933807\\nThought 3: The answer is negative, indicating an error in the calculation of eggs remaining. I will correct this by ensuring to account for the muffins Janet bakes daily.\\nAction 3: Calculate[\\n```python\\neggs_laid_per_day = 16\\neggs_consumed_for_breakfast = 3\\neggs_used_for_muffins_per_day = 4933828\\neggs_remaining = eggs_laid_per_day - eggs_consumed_for_breakfast\\neggs_remaining -= eggs_used_for_muffins_per_day\\n```\\n]\\nObservation 3: \\n```python\\neggs_laid_per_day = 16\\neggs_consumed_for_breakfast = 3\\neggs_used_for_muffins_per_day = 4933828\\neggs_remaining = eggs_laid_per_day - eggs_consumed_for_breakfast\\neggs_remaining -= eggs_used_for_muffins_per_day\\n```\\nExecution Status: Done\\nOutput: answer = -4933827\\nThought 4: The calculation is still not correct. I need to revise my approach to correctly calculate the number of eggs left for selling at the farmers' market.\\nAction 4: Calculate[\\n```python\\neggs_laid_per_day = 16\\neggs_consumed_for_breakfast = 3\\ntotal_eggs_used = eggs_consumed_for_breakfast + eggs_used_for_muffins\\neggs_remaining = eggs_laid_per_day - total_eggs_used\\n```\\n]\\nObservation 4: \\n```python\\neggs_laid_per_day = 16\\neggs_consumed_for_breakfast = 3\\ntotal_eggs_used = eggs_consumed_for_breakfast + eggs_used_for_muffins\\neggs_remaining = eggs_laid_per_day - total_eggs_used\\n```\\nExecution Status: Done\\nOutput: answer = 10\\nThought 5: Janet makes $2 for every fresh duck egg she sells. I need to calculate the total amount she makes daily at the farmers' market.\\nAction 5: Calculate[\\n```python\\nprice_per_egg = 2\\ndaily_earnings = price_per_egg * eggs_remaining\\n```\\n]\\nObservation 5: \\n```python\\nprice_per_egg = 2\\ndaily_earnings = price_per_egg * eggs_remaining\\n```\\nExecution Status: Done\\nOutput: answer = 20\\nThought 6: Janet makes $20 every day at the farmers' market. This calculation is now correct.\\nAction 6: Finish[\\n```python\\nanswer = 20\\n```\\n]\\nObservation 6: \\n```python\\nanswer = 20\\n```\",\n",
    "    \"I have successfully calculated the number of eggs Janet has left for selling. Now, I need to determine how much money she makes from selling these eggs at the farmers' market.\\nAction 3: Calculate[\\n```python\\neggs_remaining = 13  # Updated value after adjustments\\nprice_per_egg = 2\\nmoney_made_per_day = eggs_remaining * price_per_egg\\n```\\n]\\nObservation 3: \\n```python\\neggs_remaining = 13  # Updated value after adjustments\\nprice_per_egg = 2\\nmoney_made_per_day = eggs_remaining * price_per_egg\\n```\\nExecution Status: Done\\nOutput: answer = 26\\nThought 4: Janet makes $26 every day at the farmers' market.\\nAction 4: Finish[\\n```python\\nanswer = 26\\n```\\n]\\nObservation 4: \\n```python\\nanswer = 26\\n```\",\n",
    "    'Calculate[\\n```python\\nprice_per_egg = 2\\nmoney_made_per_day = eggs_remaining * price_per_egg\\nanswer = money_made_per_day\\n```\\n]\\nObservation 3: \\n```python\\nprice_per_egg = 2\\nmoney_made_per_day = eggs_remaining * price_per_egg\\nanswer = money_made_per_day\\n```\\nExecution Status: Done\\nOutput: answer = -9867647',\n",
    "    \"I need to ensure that the variable `eggs_remaining` is defined before using it to calculate the money made at the farmers' market. I will revise my plan to include this step explicitly. Let's try again.\\n\\nAction 4: Calculate[\\n```python\\neggs_laid_per_day = 16\\neggs_consumed_for_breakfast = 3\\neggs_used_for_muffins = 4933828\\neggs_remaining = eggs_laid_per_day - eggs_consumed_for_breakfast\\neggs_remaining -= eggs_used_for_muffins\\nprice_per_egg = 2\\nmoney_made_per_day = eggs_remaining * price_per_egg\\nanswer = money_made_per_day\\n```\\n]\\nObservation 4: \\n```python\\nprice_per_egg = 2\\nmoney_made_per_day = eggs_remaining * price_per_egg\\nanswer = money_made_per_day\\n```\\nExecution Status: Done\\nOutput: answer = -9867646\",\n",
    "    'Calculate[\\n```python\\neggs_laid_per_day = 16\\neggs_consumed_for_breakfast = 3\\neggs_used_for_muffins = 4933828\\neggs_remaining = eggs_laid_per_day - eggs_consumed_for_breakfast\\neggs_remaining -= eggs_used_for_muffins\\n\\nprice_per_egg = 2\\nmoney_made_per_day = eggs_remaining * price_per_egg\\nanswer = money_made_per_day\\n```\\n]',\n",
    "    \"The calculation outcome is negative, which doesn't make sense as Janet is selling eggs at the market. I need to review my plan and make sure I'm correctly subtracting the consumed eggs and eggs used for muffins before calculating the money made at the farmers' market. Let's refine the approach.\\nAction 5: Calculate[\\n```python\\neggs_laid_per_day = 16\\neggs_consumed_for_breakfast = 3\\neggs_used_for_muffins = 4933828\\neggs_remaining = eggs_laid_per_day - eggs_consumed_for_breakfast - eggs_used_for_muffins\\n\\nprice_per_egg = 2\\nmoney_made_per_day = eggs_remaining * price_per_egg\\nanswer = money_made_per_day\\n```\\n]\\nObservation 5: \\n```python\\neggs_laid_per_day = 16\\neggs_consumed_for_breakfast = 3\\neggs_used_for_muffins = 4933828\\neggs_remaining = eggs_laid_per_day - eggs_consumed_for_breakfast - eggs_used_for_muffins\\n\\nprice_per_egg = 2\\nmoney_made_per_day = eggs_remaining * price_per_egg\\nanswer = money_made_per_day\\n```\\nExecution Status: Done\\nOutput: answer = -9867650\\nThought 6: There seems to be a recurring error in the calculation process. I will review and ensure that all the deductions are correctly made before calculating the final answer. I will reevaluate the plan to ensure accurate results. Let's correct the calculation approach once more.\\nAction 6: Calculate[\\n```python\\neggs_laid_per_day = 16\\neggs_consumed_for_breakfast = 3\\neggs_used_for_muffins = 4933828\\neggs_remaining = eggs_laid_per_day - eggs_consumed_for_breakfast - eggs_used_for_muffins\\n\\nprice_per_egg = 2\\nmoney_made_per_day = eggs_remaining * price_per_egg\\nanswer = money_made_per_day\\n```\\n]\\nObservation 6: \\n```python\\neggs_laid_per_day = 16\\neggs_consumed_for_breakfast = 3\\neggs_used_for_muffins = 4933828\\neggs_remaining = eggs_laid_per_day - eggs_consumed_for_breakfast - eggs_used_for_muffins\\n\\nprice_per_egg = 2\\nmoney_made_per_day = eggs_remaining * price_per_egg\\nanswer = money_made_per_day\\n```\",\n",
    "    'Calculate[\\n```python\\neggs_laid_per_day = 16\\neggs_consumed_for_breakfast = 3\\neggs_used_for_muffins = 4933828\\neggs_remaining = eggs_laid_per_day - eggs_consumed_for_breakfast - eggs_used_for_muffins\\n\\nprice_per_egg = 2\\nmoney_made_per_day = eggs_remaining * price_per_egg\\nanswer = money_made_per_day\\n```\\n]',\n",
    "    \"The outcome is still incorrect. I need to reevaluate my approach and ensure I am correctly calculating the remaining eggs for sale and the money made at the farmers' market. Let's revise the plan to accurately address the issue.\",\n",
    "    'Calculate[\\n```python\\neggs_laid_per_day = 16\\neggs_consumed_for_breakfast = 3\\neggs_used_for_muffins = 4933828\\neggs_remaining = eggs_laid_per_day - eggs_consumed_for_breakfast - eggs_used_for_muffins\\nif eggs_remaining >= 0:\\n    price_per_egg = 2\\n    money_made_per_day = eggs_remaining * price_per_egg\\nelse:\\n    money_made_per_day = 0\\nanswer = money_made_per_day\\n```\\n]\\nObservation 6: \\n```python\\neggs_laid_per_day = 16\\neggs_consumed_for_breakfast = 3\\neggs_used_for_muffins = 4933828\\neggs_remaining = eggs_laid_per_day - eggs_consumed_for_breakfast - eggs_used_for_muffins\\nif eggs_remaining >= 0:\\n    price_per_egg = 2\\n    money_made_per_day = eggs_remaining * price_per_egg\\nelse:\\n    money_made_per_day = 0\\nanswer = money_made_per_day\\n```',\n",
    "    'My reasoning failed because I did not properly consider the negative outcome when calculating the remaining eggs. Janet cannot have negative eggs to sell. To mitigate this failure, I should explicitly check for negative values in the remaining eggs calculation and set the money made per day to zero in such cases. This ensures a more accurate representation of the scenario and prevents illogical results.',\n",
    "    'I need to calculate how many eggs Janet has remaining after taking out breakfast eggs and the ones used for baking muffins before selling the rest at the market.\\nAction 1: Calculate[\\n```python\\neggs_laid_per_day = 16\\neggs_for_breakfast = 3\\neggs_for_muffins = 4933828\\nremaining_eggs = eggs_laid_per_day - eggs_for_breakfast - eggs_for_muffins\\nif remaining_eggs < 0:\\n    remaining_eggs = 0\\nmoney_per_day = remaining_eggs * 2\\nanswer = money_per_day\\n```\\n]\\nObservation 1: \\n```python\\neggs_laid_per_day = 16\\neggs_for_breakfast = 3\\neggs_for_muffins = 4933828\\nremaining_eggs = eggs_laid_per_day - eggs_for_breakfast - eggs_for_muffins\\nif remaining_eggs < 0:\\n    remaining_eggs = 0\\nmoney_per_day = remaining_eggs * 2\\nanswer = money_per_day\\n```\\nExecution Status: Done\\nOutput: answer = 26',\n",
    "    'Calculate[\\n```python\\neggs_laid_per_day = 16\\neggs_for_breakfast = 3\\neggs_for_muffins = 4933828\\nremaining_eggs = eggs_laid_per_day - eggs_for_breakfast - eggs_for_muffins\\nmoney_made_per_day = 2 * remaining_eggs if remaining_eggs >= 0 else 0\\nanswer = money_made_per_day\\n```\\n]',\n",
    "    \"I correctly calculated that Janet makes zero dollars per day at the farmers' market after accounting for breakfast eggs and muffin baking eggs. \\nAction 2: Finish[\\n```python\\nanswer = 0\\n```\\n]\\nObservation 2: \\n```python\\nanswer = 0\\n```\",\n",
    "    'Finish[\\n```python\\nanswer = 0\\n```\\n]\\nObservation 2: \\n```python\\nanswer = 0\\n```',\n",
    "]\n",
    "llm = MockLLM(\"gpt-3.5-turbo\", responses=responses)\n",
    "strategy = ReflexionReActMathStrategy(llm=llm, testing=True)\n",
    "out = strategy.generate(\n",
    "    question=question,\n",
    "    key=key,\n",
    "    examples=GSM8K_FEWSHOT_EXAMPLES_REACT,\n",
    "    prompt=REFLEXION_REACT_INSTRUCTION_GSM8K,\n",
    "    reflect_examples=GSM8K_FEWSHOT_EXAMPLES_REFLEXION_REACT_REFLECT,\n",
    "    reflect_prompt=REFLEXION_REACT_REFLECT_INSTRUCTION_GSM8K,\n",
    "    reflect_strategy=\"reflexion\",\n",
    "    additional_keys={},\n",
    "    reflect_additional_keys={},\n",
    "    patience=3,\n",
    "    reset=True,\n",
    ")"
   ]
  },
  {
   "cell_type": "code",
   "execution_count": null,
   "metadata": {},
   "outputs": [],
   "source": [
    "out"
   ]
  },
  {
   "cell_type": "code",
   "execution_count": 6,
   "metadata": {},
   "outputs": [],
   "source": [
    "from agential.cog.fewshots.mbpp import MBPP_FEWSHOT_EXAMPLES_REACT\n",
    "from agential.cog.reflexion.prompts import MBPP_FEWSHOT_EXAMPLES_REFLEXION_REACT_REFLECT, REFLEXION_REACT_INSTRUCTION_MBPP, REFLEXION_REACT_REFLECT_INSTRUCTION_MBPP\n",
    "from agential.cog.reflexion.strategies.code import ReflexionReActCodeStrategy, ReflexionReActMBPPStrategy\n",
    "\n",
    "\n",
    "question = \"Write a python function to find the first repeated character in a given string.\"\n",
    "key = \"\"\"assert first_repeated_char(\"abcabc\") == \"a\"\n",
    "assert first_repeated_char(\"abc\") == None\n",
    "assert first_repeated_char(\"123123\") == \"1\\\"\"\"\"\n",
    "\n",
    "agent = ReflexionReActMBPPStrategy(\n",
    "    llm=llm, \n",
    "    testing=True\n",
    ")\n",
    "out = agent.generate(\n",
    "    question=question,\n",
    "    key=key,\n",
    "    examples=MBPP_FEWSHOT_EXAMPLES_REACT,\n",
    "    prompt=REFLEXION_REACT_INSTRUCTION_MBPP,\n",
    "    reflect_examples=MBPP_FEWSHOT_EXAMPLES_REFLEXION_REACT_REFLECT,\n",
    "    reflect_prompt=REFLEXION_REACT_REFLECT_INSTRUCTION_MBPP,\n",
    "    reflect_strategy=\"reflexion\",\n",
    "    additional_keys={\"tests\": key},\n",
    "    reflect_additional_keys={\"tests\": key},\n",
    "    patience=3,\n",
    "    reset=True,\n",
    ")"
   ]
  },
  {
   "cell_type": "code",
   "execution_count": 7,
   "metadata": {},
   "outputs": [
    {
     "data": {
      "text/plain": [
       "ReflexionReActOutput(answer='def first_repeated_char(s):\\n    seen = set()\\n    for char in s:\\n        if char in seen:\\n            return char\\n        seen.add(char)\\n    return None', total_prompt_tokens=60, total_completion_tokens=120, total_tokens=180, total_prompt_cost=9e-05, total_completion_cost=0.00023999999999999998, total_cost=0.00033, total_prompt_time=3.0, total_time=0.5, additional_info=[ReflexionReActStepOutput(steps=[ReflexionReActReActStepOutput(thought='I need to write a function that finds the first repeated character in a given string by iterating through the characters and checking for duplicates.', action_type='Implement', query='def first_repeated_char(s):\\n    seen = set()\\n    for char in s:\\n        if char in seen:\\n            return char\\n        seen.add(char)\\n    return None', observation='\\n```python\\ndef first_repeated_char(s):\\n    seen = set()\\n    for char in s:\\n        if char in seen:\\n            return char\\n        seen.add(char)\\n    return None\\n```\\nExecution Status: ', answer='def first_repeated_char(s):\\n    seen = set()\\n    for char in s:\\n        if char in seen:\\n            return char\\n        seen.add(char)\\n    return None', external_tool_info={'execution_status': 'Done'}, is_correct=False, thought_metrics=PromptMetrics(prompt_tokens=10, completion_tokens=20, total_tokens=30, prompt_cost=1.5e-05, completion_cost=3.9999999999999996e-05, total_cost=5.4999999999999995e-05, prompt_time=0.5), action_metrics=PromptMetrics(prompt_tokens=10, completion_tokens=20, total_tokens=30, prompt_cost=1.5e-05, completion_cost=3.9999999999999996e-05, total_cost=5.4999999999999995e-05, prompt_time=0.5)), ReflexionReActReActStepOutput(thought='I need to test the function to ensure it works correctly with different test cases.', action_type='Test', query='assert first_repeated_char(\"abcabc\") == \"a\"\\nassert first_repeated_char(\"abc\") == None\\nassert first_repeated_char(\"123123\") == \"1\"', observation='\\n```python\\ndef first_repeated_char(s):\\n    seen = set()\\n    for char in s:\\n        if char in seen:\\n            return char\\n        seen.add(char)\\n    return None\\n\\nassert first_repeated_char(\"abcabc\") == \"a\"\\nassert first_repeated_char(\"abc\") == None\\nassert first_repeated_char(\"123123\") == \"1\"\\n```\\nExecution Status: Done', answer='', external_tool_info={'execution_status': 'Done'}, is_correct=True, thought_metrics=PromptMetrics(prompt_tokens=10, completion_tokens=20, total_tokens=30, prompt_cost=1.5e-05, completion_cost=3.9999999999999996e-05, total_cost=5.4999999999999995e-05, prompt_time=0.5), action_metrics=PromptMetrics(prompt_tokens=10, completion_tokens=20, total_tokens=30, prompt_cost=1.5e-05, completion_cost=3.9999999999999996e-05, total_cost=5.4999999999999995e-05, prompt_time=0.5)), ReflexionReActReActStepOutput(thought='The function works correctly for the provided test cases.', action_type='Finish', query='def first_repeated_char(s):\\n    seen = set()\\n    for char in s:\\n        if char in seen:\\n            return char\\n        seen.add(char)\\n    return None', observation='Answer is CORRECT', answer='def first_repeated_char(s):\\n    seen = set()\\n    for char in s:\\n        if char in seen:\\n            return char\\n        seen.add(char)\\n    return None', external_tool_info={'execution_status': 'Done'}, is_correct=True, thought_metrics=PromptMetrics(prompt_tokens=10, completion_tokens=20, total_tokens=30, prompt_cost=1.5e-05, completion_cost=3.9999999999999996e-05, total_cost=5.4999999999999995e-05, prompt_time=0.5), action_metrics=PromptMetrics(prompt_tokens=10, completion_tokens=20, total_tokens=30, prompt_cost=1.5e-05, completion_cost=3.9999999999999996e-05, total_cost=5.4999999999999995e-05, prompt_time=0.5))], reflections=[], reflection_metrics=None)])"
      ]
     },
     "execution_count": 7,
     "metadata": {},
     "output_type": "execute_result"
    }
   ],
   "source": [
    "out"
   ]
  },
  {
   "cell_type": "code",
   "execution_count": 13,
   "metadata": {},
   "outputs": [
    {
     "data": {
      "text/plain": [
       "('def first_repeated_char(s):\\n    seen = set()\\n    for char in s:\\n        if char in seen:\\n            return char\\n        seen.add(char)\\n    return None',)"
      ]
     },
     "execution_count": 13,
     "metadata": {},
     "output_type": "execute_result"
    }
   ],
   "source": [
    "query"
   ]
  },
  {
   "cell_type": "code",
   "execution_count": 11,
   "metadata": {},
   "outputs": [
    {
     "name": "stdout",
     "output_type": "stream",
     "text": [
      "('def first_repeated_char(s):\\n    seen = set()\\n    for char in s:\\n        if char in seen:\\n            return char\\n        seen.add(char)\\n    return None',)\n",
      "\n",
      "assert first_repeated_char(\"abcabc\") == \"a\"\n",
      "assert first_repeated_char(\"abc\") == None\n",
      "assert first_repeated_char(\"123123\") == \"1\"\n"
     ]
    }
   ],
   "source": [
    "obs = f\"{query}\\n\\n{key}\"\n"
   ]
  },
  {
   "cell_type": "code",
   "execution_count": 15,
   "metadata": {},
   "outputs": [
    {
     "name": "stdout",
     "output_type": "stream",
     "text": [
      "def first_repeated_char(s):\n",
      "    seen = set()\n",
      "    for char in s:\n",
      "        if char in seen:\n",
      "            return char\n",
      "        seen.add(char)\n",
      "    return None\n",
      "\n",
      "assert first_repeated_char(\"abcabc\") == \"a\"\n",
      "assert first_repeated_char(\"abc\") == None\n",
      "assert first_repeated_char(\"123123\") == \"1\"\n"
     ]
    }
   ],
   "source": [
    "from agential.utils.general import safe_execute\n",
    "\n",
    "\n",
    "query=\"def first_repeated_char(s):\\n    seen = set()\\n    for char in s:\\n        if char in seen:\\n            return char\\n        seen.add(char)\\n    return None\"\n",
    "obs = f\"{query}\\n\\n{key}\"\n",
    "print(obs)\n",
    "_, execution_status = safe_execute(obs)"
   ]
  },
  {
   "cell_type": "code",
   "execution_count": 16,
   "metadata": {},
   "outputs": [
    {
     "data": {
      "text/plain": [
       "'Done'"
      ]
     },
     "execution_count": 16,
     "metadata": {},
     "output_type": "execute_result"
    }
   ],
   "source": [
    "execution_status"
   ]
  },
  {
   "cell_type": "code",
   "execution_count": 17,
   "metadata": {},
   "outputs": [
    {
     "data": {
      "text/plain": [
       "'assert first_repeated_char(\"abcabc\") == \"a\"\\nassert first_repeated_char(\"abc\") == None\\nassert first_repeated_char(\"123123\") == \"1\"'"
      ]
     },
     "execution_count": 17,
     "metadata": {},
     "output_type": "execute_result"
    }
   ],
   "source": [
    "key"
   ]
  },
  {
   "cell_type": "code",
   "execution_count": null,
   "metadata": {},
   "outputs": [],
   "source": [
    "agent._answer"
   ]
  },
  {
   "cell_type": "code",
   "execution_count": null,
   "metadata": {},
   "outputs": [],
   "source": [
    "out.total_tokens"
   ]
  },
  {
   "cell_type": "code",
   "execution_count": null,
   "metadata": {},
   "outputs": [],
   "source": [
    "agent.llm.total_tokens"
   ]
  },
  {
   "cell_type": "code",
   "execution_count": 1,
   "metadata": {},
   "outputs": [],
   "source": [
    "from agential.llm.llm import MockLLM\n",
    "from agential.cog.reflexion.strategies.code import ReflexionReActCodeStrategy\n",
    "from agential.cog.fewshots.mbpp import MBPP_FEWSHOT_EXAMPLES_REACT\n",
    "from agential.cog.reflexion.prompts import MBPP_FEWSHOT_EXAMPLES_REFLEXION_REACT_REFLECT, REFLEXION_REACT_INSTRUCTION_MBPP, REFLEXION_REACT_REFLECT_INSTRUCTION_MBPP\n",
    "\n",
    "question = \"Write a python function to find the first repeated character in a given string.\"\n",
    "key = \"\"\"assert first_repeated_char(\"abcabc\") == \"a\"\n",
    "assert first_repeated_char(\"abc\") == None\n",
    "assert first_repeated_char(\"123123\") == \"1\\\"\"\"\"\n",
    "\n",
    "responses = [\n",
    "    'I need to write a function that finds the first repeated character in a given string by iterating through the characters and checking for duplicates.\\nAction 1: Implement[\\n```python\\ndef first_repeated_char(s):\\n    seen_chars = set()\\n    for char in s:\\n        if char in seen_chars:\\n            return char\\n        seen_chars.add(char)\\n    return None\\n```\\n]\\nObservation 1: \\n```python\\ndef first_repeated_char(s):\\n    seen_chars = set()\\n    for char in s:\\n        if char in seen_chars:\\n            return char\\n        seen_chars.add(char)\\n    return None\\n```\\nExecution Status: Done\\nThought 2: I need to test the function to ensure it works correctly with different test cases.\\nAction 2: Test[\\n```python\\nassert first_repeated_char(\"abcabc\") == \"a\"\\nassert first_repeated_char(\"abc\") == None\\nassert first_repeated_char(\"123123\") == \"1\"\\n```\\n]\\nObservation 2: \\n```python\\ndef first_repeated_char(s):\\n    seen_chars = set()\\n    for char in s:\\n        if char in seen_chars:\\n            return char\\n        seen_chars.add(char)\\n    return None\\n\\nassert first_repeated_char(\"abcabc\") == \"a\"\\nassert first_repeated_char(\"abc\") == None\\nassert first_repeated_char(\"123123\") == \"1\"\\n```\\nExecution Status: Done\\nThought 3: The function works correctly for the provided test cases.\\nAction 3: Finish[\\n```python\\ndef first_repeated_char(s):\\n    seen_chars = set()\\n    for char in s:\\n        if char in seen_chars:\\n            return char\\n        seen_chars.add(char)\\n    return None\\n```\\n]\\nObservation 3:\\n```python\\ndef first_repeated_char(s):\\n    seen_chars = set()\\n    for char in s:\\n        if char in seen_chars:\\n            return char\\n        seen_chars.add(char)\\n    return None\\n```',\n",
    "    \"Implement[\\n```python\\ndef first_repeated_char(s):\\n    seen = set()\\n    for char in s:\\n        if char in seen:\\n            return char\\n        seen.add(char)\\n    return None\\n```\\n]\",\n",
    "    \"I need to test the function to ensure it works correctly with different test cases.\",\n",
    "    'Test[\\n```python\\nassert first_repeated_char(\"abcabc\") == \"a\"\\nassert first_repeated_char(\"abc\") == None\\nassert first_repeated_char(\"123123\") == \"1\"\\n```\\n]\\nObservation 2: \\n```python\\ndef first_repeated_char(s):\\n    seen = set()\\n    for char in s:\\n        if char in seen:\\n            return char\\n        seen.add(char)\\n    return None\\n\\nassert first_repeated_char(\"abcabc\") == \"a\"\\nassert first_repeated_char(\"abc\") == None\\nassert first_repeated_char(\"123123\") == \"1\"\\n```\\nExecution Status: Done\\nThought 3: The function works correctly for the provided test cases.\\nAction 3: Finish[\\n```python\\ndef first_repeated_char(s):\\n    seen = set()\\n    for char in s:\\n        if char in seen:\\n            return char\\n        seen.add(char)\\n    return None\\n```\\n]\\nObservation 3: \\n```python\\ndef first_repeated_char(s):\\n    seen = set()\\n    for char in s:\\n        if char in seen:\\n            return char\\n        seen.add(char)\\n    return None\\n```',\n",
    "    \"The function works correctly for the provided test cases.\\nAction 3: Finish[\\n```python\\ndef first_repeated_char(s):\\n    seen = set()\\n    for char in s:\\n        if char in seen:\\n            return char\\n        seen.add(char)\\n    return None\\n```\\n]\\nObservation 3:\\n```python\\ndef first_repeated_char(s):\\n    seen = set()\\n    for char in s:\\n        if char in seen:\\n            return char\\n        seen.add(char)\\n    return None\\n```\",\n",
    "    \"Finish[\\n```python\\ndef first_repeated_char(s):\\n    seen = set()\\n    for char in s:\\n        if char in seen:\\n            return char\\n        seen.add(char)\\n    return None\\n```\\n]\\nObservation 3:\\n```python\\ndef first_repeated_char(s):\\n    seen = set()\\n    for char in s:\\n        if char in seen:\\n            return char\\n        seen.add(char)\\n    return None\\n```\",\n",
    "]\n",
    "llm = MockLLM(\"gpt-3.5-turbo\", responses=responses)\n",
    "strategy = ReflexionReActCodeStrategy(llm=llm, testing=True)\n",
    "out = strategy.generate(\n",
    "    question=question,\n",
    "    key=key,\n",
    "    examples=MBPP_FEWSHOT_EXAMPLES_REACT,\n",
    "    prompt=REFLEXION_REACT_INSTRUCTION_MBPP,\n",
    "    reflect_examples=MBPP_FEWSHOT_EXAMPLES_REFLEXION_REACT_REFLECT,\n",
    "    reflect_prompt=REFLEXION_REACT_REFLECT_INSTRUCTION_MBPP,\n",
    "    reflect_strategy=\"reflexion\",\n",
    "    additional_keys={\"tests\": key},\n",
    "    reflect_additional_keys={\"tests\": key},\n",
    "    patience=3,\n",
    "    reset=True,\n",
    ")"
   ]
  },
  {
   "cell_type": "code",
   "execution_count": 2,
   "metadata": {},
   "outputs": [
    {
     "name": "stdout",
     "output_type": "stream",
     "text": [
      "ReflexionReActOutput(answer='def first_repeated_char(s):\\n    seen = set()\\n    for char in s:\\n        if char in seen:\\n            return char\\n        seen.add(char)\\n    return None', total_prompt_tokens=60, total_completion_tokens=120, total_tokens=180, total_prompt_cost=9e-05, total_completion_cost=0.00023999999999999998, total_cost=0.00033, total_prompt_time=3.0, total_time=0.5, additional_info=[ReflexionReActStepOutput(steps=[ReflexionReActReActStepOutput(thought='I need to write a function that finds the first repeated character in a given string by iterating through the characters and checking for duplicates.', action_type='Implement', query='def first_repeated_char(s):\\n    seen = set()\\n    for char in s:\\n        if char in seen:\\n            return char\\n        seen.add(char)\\n    return None', observation='\\n```python\\ndef first_repeated_char(s):\\n    seen = set()\\n    for char in s:\\n        if char in seen:\\n            return char\\n        seen.add(char)\\n    return None\\n```\\nExecution Status: ', answer='def first_repeated_char(s):\\n    seen = set()\\n    for char in s:\\n        if char in seen:\\n            return char\\n        seen.add(char)\\n    return None', external_tool_info={'execution_status': 'Done'}, is_correct=False, thought_metrics=PromptMetrics(prompt_tokens=10, completion_tokens=20, total_tokens=30, prompt_cost=1.5e-05, completion_cost=3.9999999999999996e-05, total_cost=5.4999999999999995e-05, prompt_time=0.5), action_metrics=PromptMetrics(prompt_tokens=10, completion_tokens=20, total_tokens=30, prompt_cost=1.5e-05, completion_cost=3.9999999999999996e-05, total_cost=5.4999999999999995e-05, prompt_time=0.5)), ReflexionReActReActStepOutput(thought='I need to test the function to ensure it works correctly with different test cases.', action_type='Test', query='assert first_repeated_char(\"abcabc\") == \"a\"\\nassert first_repeated_char(\"abc\") == None\\nassert first_repeated_char(\"123123\") == \"1\"', observation='\\n```python\\ndef first_repeated_char(s):\\n    seen = set()\\n    for char in s:\\n        if char in seen:\\n            return char\\n        seen.add(char)\\n    return None\\n\\nassert first_repeated_char(\"abcabc\") == \"a\"\\nassert first_repeated_char(\"abc\") == None\\nassert first_repeated_char(\"123123\") == \"1\"\\n```\\nExecution Status: Done', answer='', external_tool_info={'execution_status': 'Done'}, is_correct=True, thought_metrics=PromptMetrics(prompt_tokens=10, completion_tokens=20, total_tokens=30, prompt_cost=1.5e-05, completion_cost=3.9999999999999996e-05, total_cost=5.4999999999999995e-05, prompt_time=0.5), action_metrics=PromptMetrics(prompt_tokens=10, completion_tokens=20, total_tokens=30, prompt_cost=1.5e-05, completion_cost=3.9999999999999996e-05, total_cost=5.4999999999999995e-05, prompt_time=0.5)), ReflexionReActReActStepOutput(thought='The function works correctly for the provided test cases.', action_type='Finish', query='def first_repeated_char(s):\\n    seen = set()\\n    for char in s:\\n        if char in seen:\\n            return char\\n        seen.add(char)\\n    return None', observation='Answer is CORRECT', answer='def first_repeated_char(s):\\n    seen = set()\\n    for char in s:\\n        if char in seen:\\n            return char\\n        seen.add(char)\\n    return None', external_tool_info={'execution_status': 'Done'}, is_correct=True, thought_metrics=PromptMetrics(prompt_tokens=10, completion_tokens=20, total_tokens=30, prompt_cost=1.5e-05, completion_cost=3.9999999999999996e-05, total_cost=5.4999999999999995e-05, prompt_time=0.5), action_metrics=PromptMetrics(prompt_tokens=10, completion_tokens=20, total_tokens=30, prompt_cost=1.5e-05, completion_cost=3.9999999999999996e-05, total_cost=5.4999999999999995e-05, prompt_time=0.5))], reflections=[], reflection_metrics=None)])\n"
     ]
    }
   ],
   "source": [
    "print(repr(out))"
   ]
  },
  {
   "cell_type": "code",
   "execution_count": null,
   "metadata": {},
   "outputs": [],
   "source": [
    "out == out"
   ]
  },
  {
   "cell_type": "code",
   "execution_count": 3,
   "metadata": {},
   "outputs": [
    {
     "data": {
      "text/plain": [
       "180"
      ]
     },
     "execution_count": 3,
     "metadata": {},
     "output_type": "execute_result"
    }
   ],
   "source": [
    "out.total_tokens"
   ]
  },
  {
   "cell_type": "code",
   "execution_count": null,
   "metadata": {},
   "outputs": [],
   "source": []
  },
  {
   "cell_type": "markdown",
   "metadata": {},
   "source": []
  }
 ],
 "metadata": {
  "kernelspec": {
   "display_name": "agential",
   "language": "python",
   "name": "python3"
  },
  "language_info": {
   "codemirror_mode": {
    "name": "ipython",
    "version": 3
   },
   "file_extension": ".py",
   "mimetype": "text/x-python",
   "name": "python",
   "nbconvert_exporter": "python",
   "pygments_lexer": "ipython3",
   "version": "3.11.5"
  }
 },
 "nbformat": 4,
 "nbformat_minor": 2
}
