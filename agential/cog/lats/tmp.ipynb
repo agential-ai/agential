{
 "cells": [
  {
   "cell_type": "code",
   "execution_count": 1,
   "metadata": {},
   "outputs": [
    {
     "name": "stderr",
     "output_type": "stream",
     "text": [
      "c:\\Users\\tuvin\\anaconda3\\envs\\agential\\Lib\\site-packages\\langchain_core\\utils\\utils.py:161: UserWarning: WARNING! stop is not default parameter.\n",
      "                stop was transferred to model_kwargs.\n",
      "                Please confirm that stop is what you intended.\n",
      "  warnings.warn(\n"
     ]
    }
   ],
   "source": [
    "from dotenv import load_dotenv\n",
    "\n",
    "load_dotenv()\n",
    "\n",
    "from langchain_openai import ChatOpenAI\n",
    "from langchain_core.messages.human import HumanMessage\n",
    "\n",
    "llm = ChatOpenAI(\n",
    "    model=\"gpt-3.5-turbo\",\n",
    "    temperature=1.0,\n",
    "    max_tokens=100,\n",
    "    n=1,\n",
    "    stop=\".\"\n",
    ")"
   ]
  },
  {
   "cell_type": "code",
   "execution_count": 2,
   "metadata": {},
   "outputs": [],
   "source": [
    "from agential.cog.lats.strategies.qa import LATSHotQAStrategy\n",
    "from agential.cog.lats.prompts import HOTPOTQA_FEWSHOT_EXAMPLES_LATS_REFLECT, LATS_INSTRUCTION_HOTPOTQA, LATS_REFLECT_INSTRUCTION_HOTPOTQA\n",
    "from agential.cog.fewshots.hotpotqa import HOTPOTQA_FEWSHOT_EXAMPLES_REACT\n",
    "strategy = LATSHotQAStrategy(llm=llm)\n"
   ]
  },
  {
   "cell_type": "code",
   "execution_count": 3,
   "metadata": {},
   "outputs": [
    {
     "name": "stderr",
     "output_type": "stream",
     "text": [
      "c:\\Users\\tuvin\\anaconda3\\envs\\agential\\Lib\\site-packages\\langchain_core\\_api\\deprecation.py:119: LangChainDeprecationWarning: The method `BaseChatModel.__call__` was deprecated in langchain-core 0.1.7 and will be removed in 0.3.0. Use invoke instead.\n",
      "  warn_deprecated(\n"
     ]
    }
   ],
   "source": [
    "question = 'Who was once considered the best kick boxer in the world, however he has been involved in a number of controversies relating to his \"unsportsmanlike conducts\" in the sport and crimes of violence outside of the ring'\n",
    "key = \"Badr Hari\"\n",
    "\n",
    "root = strategy.initialize()\n",
    "\n",
    "children_nodes = strategy.generate(\n",
    "    node=root,\n",
    "    question=question,\n",
    "    key=key,\n",
    "    examples=HOTPOTQA_FEWSHOT_EXAMPLES_REACT,\n",
    "    reflect_examples=HOTPOTQA_FEWSHOT_EXAMPLES_LATS_REFLECT,\n",
    "    prompt=LATS_INSTRUCTION_HOTPOTQA,\n",
    "    reflect_prompt=LATS_REFLECT_INSTRUCTION_HOTPOTQA,\n",
    "    additional_keys={},\n",
    "    reflect_additional_keys={},\n",
    ")"
   ]
  },
  {
   "cell_type": "code",
   "execution_count": null,
   "metadata": {},
   "outputs": [],
   "source": []
  }
 ],
 "metadata": {
  "kernelspec": {
   "display_name": "agential",
   "language": "python",
   "name": "python3"
  },
  "language_info": {
   "codemirror_mode": {
    "name": "ipython",
    "version": 3
   },
   "file_extension": ".py",
   "mimetype": "text/x-python",
   "name": "python",
   "nbconvert_exporter": "python",
   "pygments_lexer": "ipython3",
   "version": "3.11.5"
  }
 },
 "nbformat": 4,
 "nbformat_minor": 2
}
