{
 "cells": [
  {
   "cell_type": "code",
   "execution_count": 7,
   "metadata": {},
   "outputs": [
    {
     "name": "stderr",
     "output_type": "stream",
     "text": [
      "/opt/anaconda3/envs/agential/lib/python3.11/site-packages/langchain_core/utils/utils.py:161: UserWarning: WARNING! stop is not default parameter.\n",
      "                stop was transferred to model_kwargs.\n",
      "                Please confirm that stop is what you intended.\n",
      "  warnings.warn(\n"
     ]
    }
   ],
   "source": [
    "from dotenv import load_dotenv\n",
    "\n",
    "load_dotenv()\n",
    "\n",
    "from langchain_openai import ChatOpenAI\n",
    "from langchain_core.messages.human import HumanMessage\n",
    "\n",
    "from agential.cog.fewshots.hotpotqa import HOTPOTQA_FEWSHOT_EXAMPLES_REACT\n",
    "from agential.cog.lats.node import Node\n",
    "from agential.cog.lats.prompts import (\n",
    "    HOTPOTQA_FEWSHOT_EXAMPLES_LATS_REFLECT,\n",
    "    LATS_INSTRUCTION_HOTPOTQA,\n",
    "    LATS_REFLECT_INSTRUCTION_HOTPOTQA,\n",
    "    HOTPOTQA_FEWSHOT_EXAMPLES_LATS_VALUE, \n",
    "    LATS_VALUE_INSTRUCTION_HOTPOTQA,\n",
    ")\n",
    "from agential.cog.lats.strategies.qa import (\n",
    "    LATSAmbigNQStrategy,\n",
    "    LATSFEVERStrategy,\n",
    "    LATSHotQAStrategy,\n",
    "    LATSTriviaQAStrategy,\n",
    "    parse_qa_action,\n",
    "    parse_qa_value,\n",
    ")\n",
    "from agential.cog.react.output import ReActOutput\n",
    "from agential.utils.docstore import DocstoreExplorer\n",
    "\n",
    "\n",
    "llm = ChatOpenAI(\n",
    "    model=\"gpt-3.5-turbo\",\n",
    "    temperature=1.0,\n",
    "    max_tokens=100,\n",
    "    n=1,\n",
    "    stop=\".\"\n",
    ")"
   ]
  },
  {
   "cell_type": "code",
   "execution_count": 8,
   "metadata": {},
   "outputs": [],
   "source": [
    "\"\"\"Test the simulate_node method.\"\"\"\n",
    "qa_strategy = LATSHotQAStrategy(llm=llm)\n",
    "\n",
    "# Create a mock Node\n",
    "root_node = Node(depth=0, is_terminal=False)\n",
    "\n",
    "# Mock input parameters\n",
    "question = \"What is the capital of France?\"\n",
    "key = \"Paris\"\n",
    "examples = HOTPOTQA_FEWSHOT_EXAMPLES_REACT\n",
    "reflect_examples = HOTPOTQA_FEWSHOT_EXAMPLES_LATS_REFLECT\n",
    "value_examples = HOTPOTQA_FEWSHOT_EXAMPLES_LATS_VALUE\n",
    "prompt = LATS_INSTRUCTION_HOTPOTQA\n",
    "reflect_prompt = LATS_REFLECT_INSTRUCTION_HOTPOTQA\n",
    "value_prompt = LATS_VALUE_INSTRUCTION_HOTPOTQA\n",
    "additional_keys = {}\n",
    "reflect_additional_keys = {}\n",
    "value_additional_keys = {}\n",
    "\n",
    "# Call the simulate_node function\n",
    "reward, final_node, all_children_nodes, all_values = qa_strategy.simulate_node(\n",
    "\tnode=root_node,\n",
    "\tquestion=question,\n",
    "\tkey=key,\n",
    "\texamples=examples,\n",
    "\treflect_examples=reflect_examples,\n",
    "\tvalue_examples=value_examples,\n",
    "\tprompt=prompt,\n",
    "\treflect_prompt=reflect_prompt,\n",
    "\tvalue_prompt=value_prompt,\n",
    "\tadditional_keys=additional_keys,\n",
    "\treflect_additional_keys=reflect_additional_keys,\n",
    "\tvalue_additional_keys=value_additional_keys,\n",
    ")\n",
    "\n"
   ]
  }
 ],
 "metadata": {
  "kernelspec": {
   "display_name": "agential",
   "language": "python",
   "name": "python3"
  },
  "language_info": {
   "codemirror_mode": {
    "name": "ipython",
    "version": 3
   },
   "file_extension": ".py",
   "mimetype": "text/x-python",
   "name": "python",
   "nbconvert_exporter": "python",
   "pygments_lexer": "ipython3",
   "version": "3.11.5"
  }
 },
 "nbformat": 4,
 "nbformat_minor": 2
}
