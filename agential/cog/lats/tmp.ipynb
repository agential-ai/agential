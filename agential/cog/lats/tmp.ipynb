{
 "cells": [
  {
   "cell_type": "code",
   "execution_count": 7,
   "metadata": {},
   "outputs": [
    {
     "name": "stderr",
     "output_type": "stream",
     "text": [
      "/opt/anaconda3/envs/agential/lib/python3.11/site-packages/langchain_core/utils/utils.py:161: UserWarning: WARNING! stop is not default parameter.\n",
      "                stop was transferred to model_kwargs.\n",
      "                Please confirm that stop is what you intended.\n",
      "  warnings.warn(\n"
     ]
    }
   ],
   "source": [
    "from dotenv import load_dotenv\n",
    "\n",
    "load_dotenv()\n",
    "\n",
    "from langchain_openai import ChatOpenAI\n",
    "from langchain_core.messages.human import HumanMessage\n",
    "\n",
    "from agential.cog.fewshots.hotpotqa import HOTPOTQA_FEWSHOT_EXAMPLES_REACT\n",
    "from agential.cog.lats.node import Node\n",
    "from agential.cog.lats.prompts import (\n",
    "    HOTPOTQA_FEWSHOT_EXAMPLES_LATS_REFLECT,\n",
    "    LATS_INSTRUCTION_HOTPOTQA,\n",
    "    LATS_REFLECT_INSTRUCTION_HOTPOTQA,\n",
    "    HOTPOTQA_FEWSHOT_EXAMPLES_LATS_VALUE, \n",
    "    LATS_VALUE_INSTRUCTION_HOTPOTQA,\n",
    ")\n",
    "from agential.cog.lats.strategies.qa import (\n",
    "    LATSAmbigNQStrategy,\n",
    "    LATSFEVERStrategy,\n",
    "    LATSHotQAStrategy,\n",
    "    LATSTriviaQAStrategy,\n",
    "    parse_qa_action,\n",
    "    parse_qa_value,\n",
    ")\n",
    "from agential.cog.react.output import ReActOutput\n",
    "from agential.utils.docstore import DocstoreExplorer\n",
    "\n",
    "\n",
    "llm = ChatOpenAI(\n",
    "    model=\"gpt-3.5-turbo\",\n",
    "    temperature=1.0,\n",
    "    max_tokens=100,\n",
    "    n=1,\n",
    "    stop=\".\"\n",
    ")"
   ]
  },
  {
   "cell_type": "code",
   "execution_count": 8,
   "metadata": {},
   "outputs": [],
   "source": [
    "\"\"\"Test the simulate_node method.\"\"\"\n",
    "qa_strategy = LATSHotQAStrategy(llm=llm)\n",
    "\n",
    "get_node_trajectory(child1)"
   ]
  },
  {
   "cell_type": "code",
   "execution_count": 11,
   "metadata": {},
   "outputs": [
    {
     "name": "stdout",
     "output_type": "stream",
     "text": [
      "<PROMPT VALUE=====================================================================>\n",
      "Analyze the trajectories of a solution to a question answering task. The trajectories are labeled by environmental observations about the situation, thoughts that can reason about the current situation and actions that can be three types: \n",
      "(1) Search[entity], which searches the exact entity on Wikipedia and returns the first paragraph if it exists. If not, it will return some similar entities to search.\n",
      "(2) Lookup[keyword], which returns the next sentence containing keyword in the current passage.\n",
      "(3) Finish[answer], which returns the answer and finishes the task.\n",
      "\n",
      "Given a question and a trajectory, evaluate its correctness by focusing on the latest thought, action, and observation. Then, provide a score between 1 and 10.\n",
      "Incomplete trajectories can be correct if the thoughts and actions so far are correct, even if the answer is not found yet. Do not generate additional thoughts or actions. \n",
      "\n",
      "Here are some examples:\n",
      "Previous Trial:\n",
      "Question: What is the elevation range for the area that the eastern sector of the Colorado orogeny extends into?\n",
      "Thought 1: The Colorado orogeny is a mountain-building event in the western United States, so the elevation range should be quite high.\n",
      "Action 1: Search[eastern sector of the Colorado orogeny]\n",
      "Observation 1: The Colorado orogeny was an episode of mountain building (an orogeny) in Colorado and surrounding areas. This took place from 1780 to 1650 million years ago (Mya), during the Paleoproterozoic (Statherian Period). It is recorded in the Colorado orogen, a >500-km-wide belt of oceanic arc rock that extends southward into New Mexico. The Colorado orogeny was likely part of the larger Yavapai orogeny.\n",
      "Thought 2: The eastern sector of the Colorado orogeny likely extends into high elevation areas due to its mountain-building nature.\n",
      "Action 2: Lookup[elevation]\n",
      "Observation 2: No Results\n",
      "Thought 3: Since there was no specific mention of elevation in the passage, I should try searching for similar entities or areas associated with the Colorado orogeny to find information on elevation.\n",
      "Action 3: Search[areas associated with the Colorado orogeny]\n",
      "Observation 3: The Antler orogeny was a tectonic event that began in the early Late Devonian with widespread effects continuing into the Mississippian and early Pennsylvanian. Most of the evidence for this event is in Nevada but the limits of its reach are unknown. A great volume of conglomeratic deposits of mainly Mississippian age in Nevada and adjacent areas testifies to the existence of an important tectonic event, and implies nearby areas of uplift and erosion, but the nature and cause of that event are uncertain and in dispute. Although it is known as an orogeny (mountain building event), some of the classic features of orogeny as commonly defined such as metamorphism, and granitic intrusives have not been linked to it. In spite of this, the event is universally designated as an orogeny and that practice is continued here. This article outlines what is known and unknown about the Antler orogeny and describes three current theories regarding its nature and origin.\n",
      "Thought 4: The Antler orogeny is not the same as the Colorado orogeny, so I need to search for more information specifically related to the elevation range of the area where the eastern sector of the Colorado orogeny extends into.\n",
      "Action 4: Search[elevation range of eastern sector of Colorado orogeny]\n",
      "Observation 4: Could not find [elevation range of eastern sector of Colorado orogeny]. Similar: ['Appalachian Mountains', 'Rocky Mountains', 'Colorado River', 'Nevadaplano', 'Foreland basin', 'North America', 'Missouri River', 'Atacama Desert', 'Scotland', 'Gulf of Mexico']\n",
      "Thought 5: Since I couldn't find the specific elevation range for the eastern sector of the Colorado orogeny, I will try searching for information related to the Rocky Mountains, as they are a significant mountain range in the western United States and likely overlap with the Colorado orogeny.\n",
      "Action 5: Search[Rocky Mountains]\n",
      "Observation 5: Could not find [Rocky Mountains]. Similar: ['Rocky Mountains', 'Canadian Rockies', 'Rocky Mountain oysters', 'Geology of the Rocky Mountains', 'Mountain goat', 'List of mountain peaks of the Rocky Mountains', 'Rocky Mountain High', 'Southern Rocky Mountains', 'Rocky Mountain National Park', 'Mountain states']\n",
      "Thought 6: Since I couldn't find information on the Rocky Mountains, I will try searching for the elevation range of the Colorado orogeny as a whole, which may provide insight into the elevation range of the eastern sector.\n",
      "Action 6: Search[Colorado orogeny elevation range]\n",
      "Observation 6: Could not find [Colorado orogeny elevation range]. Similar: ['Sangre de Cristo Range', 'Mosquito Range', 'Laramide orogeny', 'Appalachian Mountains', 'Front Range', 'Wind River Range', 'Wasatch Range', 'Rocky Mountains', 'Colorado Plateau', 'Basin and Range Province']\n",
      "\n",
      "Explanation: This trajectory is incorrect because the focus shifted to unrelated geological events and areas instead of directly verifying specific details related to the Colorado orogeny. Future attempts should ensure to verify the specific geographical regions and details directly related to the question before making conclusions.\n",
      "Correctness score: 2\n",
      "\n",
      "---\n",
      "\n",
      "Previous Trial:\n",
      "Question: Musician and satirist Allie Goertz wrote a song about the \"The Simpsons\" character Milhouse, who Matt Groening named after who?\n",
      "Thought 1: The question simplifies to \"The Simpsons\" character Milhouse is named after who. I only need to search Milhouse and find who it is named after.\n",
      "Action 1: Search[Milhouse]\n",
      "Observation 1: Milhouse Mussolini Van Houten is a recurring character in the Fox animated television series The Simpsons voiced by Pamela Hayden and created by Matt Groening.\n",
      "Thought 2: The paragraph does not tell who Milhouse is named after, maybe I can look up \"named after\".\n",
      "Action 2: Lookup[named after]\n",
      "Observation 2: (Result 1 / 1) Milhouse was named after U.S. president Richard Nixon, whose middle name was Milhous. \n",
      "Thought 3: Milhouse was named after U.S. president Richard Nixon, so the answer is Richard Nixon.\n",
      "Action 3: Finish[President Richard Nixon]\n",
      "\n",
      "Explanation: This trajectory is correct as all of my thoughts and actions are correct. It makes sense to search for Milhouse first as it is the central subject of the question. It is also correct to directly look up the relevant information in the article, instead of trying another search. \n",
      "Correctness score: 10\n",
      "\n",
      "---\n",
      "\n",
      "Previous Trial:\n",
      "Question: Which documentary is about Finnish rock groups, Adam Clayton Powell or The Saimaa Gesture?\n",
      "Thought 1: I need to search Adam Clayton Powell and The Saimaa Gesture, and find which documentary is about Finnish rock groups.\n",
      "Action 1: Search[Adam Clayton Powell]\n",
      "Observation 1: Could not find [Adam Clayton Powell]. Similar: ['Adam Clayton Powell III', 'Seventh Avenue (Manhattan)', 'Adam Clayton Powell Jr. State Office Building', 'Isabel Washington Powell', 'Adam Powell', 'Adam Clayton Powell (film)', 'Giancarlo Esposito'].\n",
      "Thought 2: To find the documentary, I can search Adam Clayton Powell (film).\n",
      "Action 2: Search[Adam Clayton Powell (film)]\n",
      "Observation 2: Adam Clayton Powell is a 1989 American documentary film directed by Richard Kilberg. The film is about the rise and fall of influential African-American politician Adam Clayton Powell Jr. It was later aired as part of the PBS series The American Experience.\n",
      "Thought 3: The documentary about Adam Clayton Powell seems detailed and significant, so it might cover diverse topics including music. So the documentary about Finnish rock groups must be Adam Clayton Powell.\n",
      "Action 3: Finish[Adam Clayton Powell]\n",
      "Observation 3: Answer is INCORRECT\n",
      "\n",
      "Explanation: My reasoning failed because I assumed that a documentary with significant historical importance could cover unrelated topics such as Finnish rock groups. In the future, I should ensure to verify the specific subject matter of documentaries instead of making broad assumptions based on the perceived importance of the documentary's primary subject.\n",
      "Correctness score: 2\n",
      "\n",
      "---\n",
      "\n",
      "Previous Trial:\n",
      "Question: What profession does Nicholas Ray and Elia Kazan have in common?\n",
      "Thought 1: I need to search Nicholas Ray and Elia Kazan, find their professions, then find the profession they have in common.\n",
      "Action 1: Search[Nicholas Ray]\n",
      "Observation 1: Nicholas Ray (born Raymond Nicholas Kienzle Jr., August 7, 1911 – June 16, 1979) was an American film director, screenwriter, and actor best known for the 1955 film Rebel Without a Cause.\n",
      "Thought 2: Professions of Nicholas Ray are director, screenwriter, and actor. I need to search Elia Kazan next and find his professions.\n",
      "Action 2: Search[Elia Kazan]\n",
      "Observation 2: Elia Kazan was an American film and theatre director, producer, screenwriter and actor.\n",
      "Thought 3: Professions of Elia Kazan are director, producer, screenwriter, and actor. So profession Nicholas Ray and Elia Kazan have in common is director, producer, screenwriter, and actor.\n",
      "Action 3: Finish[director, producer, screenwriter, actor]\n",
      "\n",
      "Explanation: The trajectory is incorrect because while both Nicholas Ray and Elia Kazan share the professions of director, screenwriter, and actor, producer was incorrectly included. Future attempts should ensure to identify only the professions explicitly shared by both individuals.\n",
      "Correctness score: 5\n",
      "\n",
      "---\n",
      "\n",
      "Previous Trial:\n",
      "Question: Which magazine was started first Arthur's Magazine or First for Women?\n",
      "Thought 1: I need to search Arthur's Magazine and First for Women, and find which was started first.\n",
      "Action 1: Search[Arthur's Magazine]\n",
      "Observation 1: Arthur's Magazine (1844-1846) was an American literary periodical published in Philadelphia in the 19th century. Edited by Timothy Shay Arthur, it featured work by Edgar A. Poe, J.H. Ingraham, Sarah Josepha Hale, Thomas G. Spear, and others.[1][2] In May 1846 it was merged into Godey's Lady's Book.[3]\n",
      "\n",
      "Explanation: This trajectory is correct as it is reasonable to search for the first magazine provided in the question. It is also better to have simple searches corresponding to a single entity, making this the best action.\n",
      "Correctness score: 10\n",
      "(END OF EXAMPLES)\n",
      "\n",
      "Question: What is the capital of France?\n",
      "Failed trajectory\n",
      "\n",
      "Explanation: This trajectory is incorrect as This trajectory failed because...\n",
      "Correctness score: 1\n",
      "\n",
      "---\n",
      "\n",
      "Question: What is the capital of France?\n",
      "Another failed trajectory\n",
      "\n",
      "Explanation: This trajectory is incorrect as This trajectory failed because of something else...\n",
      "Correctness score: 1\n",
      "\n",
      "Previous Trial:\n",
      "Question: What is the capital of France?\n",
      "Thought 1: Child 1\n",
      "\n",
      "Explanation:\n",
      "<PROMPT VALUE=====================================================================>\n",
      "<OUT VALUE=====================================================================>\n",
      "'Explanation: Good trajectory. Correctness score: 8'\n",
      "<OUT VALUE=====================================================================>\n"
     ]
    }
   ],
   "source": [
    "from agential.cog.lats.node import Node\n",
    "from agential.cog.react.output import ReActOutput\n",
    "from langchain_community.chat_models.fake import FakeListChatModel\n",
    "from agential.cog.lats.strategies.qa import LATSHotQAStrategy\n",
    "from agential.cog.lats.prompts import HOTPOTQA_FEWSHOT_EXAMPLES_LATS_VALUE, LATS_VALUE_INSTRUCTION_HOTPOTQA\n",
    "\n",
    "# Mock input parameters\n",
    "question = \"What is the capital of France?\"\n",
    "key = \"Paris\"\n",
    "examples = HOTPOTQA_FEWSHOT_EXAMPLES_REACT\n",
    "reflect_examples = HOTPOTQA_FEWSHOT_EXAMPLES_LATS_REFLECT\n",
    "value_examples = HOTPOTQA_FEWSHOT_EXAMPLES_LATS_VALUE\n",
    "prompt = LATS_INSTRUCTION_HOTPOTQA\n",
    "reflect_prompt = LATS_REFLECT_INSTRUCTION_HOTPOTQA\n",
    "value_prompt = LATS_VALUE_INSTRUCTION_HOTPOTQA\n",
    "additional_keys = {}\n",
    "reflect_additional_keys = {}\n",
    "value_additional_keys = {}\n",
    "\n",
    "strategy.reflection_map = [\n",
    "    {\n",
    "        \"trajectory\": \"Failed trajectory\",\n",
    "        \"reflection\": \"This trajectory failed because...\",\n",
    "    },\n",
    "    {\n",
    "        \"trajectory\": \"Another failed trajectory\",\n",
    "        \"reflection\": \"This trajectory failed because of something else...\",\n",
    "    }\n",
    "]\n",
    "\n",
    "values = strategy.evaluate_node(root, question, examples, prompt, {})\n"
   ]
  },
  {
   "cell_type": "code",
   "execution_count": 8,
   "metadata": {},
   "outputs": [
    {
     "data": {
      "text/plain": [
       "[{'child_trajectory': '\\nThought 1: Child 1', 'idx': 0},\n",
       " {'child_trajectory': '\\nThought 1: Child 1.5', 'idx': 1}]"
      ]
     },
     "execution_count": 8,
     "metadata": {},
     "output_type": "execute_result"
    }
   ],
   "source": [
    "children_trajectories = [\n",
    "    {\"child_trajectory\": get_node_trajectory(child), \"idx\": idx}\n",
    "    for idx, child in enumerate(root.children)\n",
    "    if not child.is_terminal\n",
    "]\n",
    "children_trajectories"
   ]
  },
  {
   "cell_type": "code",
   "execution_count": 10,
   "metadata": {},
   "outputs": [
    {
     "data": {
      "text/plain": [
       "[{'explanation': 'Good trajectory.', 'value': 0.8},\n",
       " {'explanation': 'Good trajectory.', 'value': 0}]"
      ]
     },
     "execution_count": 10,
     "metadata": {},
     "output_type": "execute_result"
    }
   ],
   "source": [
    "values"
   ]
  },
  {
   "cell_type": "code",
   "execution_count": null,
   "metadata": {},
   "outputs": [],
   "source": []
  }
 ],
 "metadata": {
  "kernelspec": {
   "display_name": "agential",
   "language": "python",
   "name": "python3"
  },
  "language_info": {
   "codemirror_mode": {
    "name": "ipython",
    "version": 3
   },
   "file_extension": ".py",
   "mimetype": "text/x-python",
   "name": "python",
   "nbconvert_exporter": "python",
   "pygments_lexer": "ipython3",
   "version": "3.11.5"
  }
 },
 "nbformat": 4,
 "nbformat_minor": 2
}
