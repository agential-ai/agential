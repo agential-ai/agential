{
 "cells": [
  {
   "cell_type": "code",
   "execution_count": 4,
   "metadata": {},
   "outputs": [],
   "source": [
    "from agential.cog.lats.strategies.qa import LATSQAStrategy \n",
    "from agential.llm.llm import LLM\n",
    "from agential.cog.fewshots.hotpotqa import (\n",
    "    HOTPOTQA_FEWSHOT_EXAMPLES_REACT,\n",
    ")\n",
    "from agential.cog.lats.prompts import (\n",
    "    HOTPOTQA_FEWSHOT_EXAMPLES_LATS_REFLECT,\n",
    "    LATS_INSTRUCTION_HOTPOTQA,\n",
    "    LATS_REFLECT_INSTRUCTION_HOTPOTQA,\n",
    "    HOTPOTQA_FEWSHOT_EXAMPLES_LATS_VALUE, \n",
    "    LATS_VALUE_INSTRUCTION_HOTPOTQA,\n",
    ")\n",
    "\n",
    "llm = LLM(\"gpt-3.5-turbo\")\n",
    "\n",
    "question = \"VIVA Media AG changed it's name in 2004. What does their new acronym stand for?\"\n",
    "key = \"Gesellschaft mit beschränkter Haftung\"\n",
    "\n",
    "agent = LATSQAStrategy(\n",
    "    llm=llm, \n",
    "    n_samples=2, \n",
    "    max_reflections=4, \n",
    "    depth_limit=5,\n",
    "    max_unique=5,\n",
    "    cache_values=True,\n",
    ")\n",
    "\n",
    "out = agent.generate(\n",
    "    question=question,\n",
    "    key=key,\n",
    "    examples=HOTPOTQA_FEWSHOT_EXAMPLES_REACT,\n",
    "    reflect_examples=HOTPOTQA_FEWSHOT_EXAMPLES_LATS_REFLECT,\n",
    "    value_examples=HOTPOTQA_FEWSHOT_EXAMPLES_LATS_VALUE,\n",
    "    prompt=LATS_INSTRUCTION_HOTPOTQA,\n",
    "    reflect_prompt=LATS_REFLECT_INSTRUCTION_HOTPOTQA,\n",
    "    value_prompt=LATS_VALUE_INSTRUCTION_HOTPOTQA,\n",
    "    additional_keys={},\n",
    "    reflect_additional_keys={},\n",
    "    value_additional_keys={},\n",
    "    max_iterations=2,\n",
    "    reset=True\n",
    ")"
   ]
  },
  {
   "cell_type": "code",
   "execution_count": 5,
   "metadata": {},
   "outputs": [
    {
     "name": "stdout",
     "output_type": "stream",
     "text": [
      "\n",
      "Thought 1: I need to search for VIVA Media AG and find out their new acronym after the name change in 2004.\n",
      "Action 1: Search[VIVA Media AG]\n",
      "Observation 1: Could not find [VIVA Media AG]. Similar: ['MTV Music (Polish TV channel)', 'VIVA Plus', 'Paramount International Networks', 'VIVA (German TV channel)', 'Viacom (1952–2005)', 'Vauxhall Viva', 'Sartorius AG', 'GfK Entertainment charts', 'Spellbound Entertainment', 'Puma (brand)']\n",
      "Thought 2: Since I couldn't find VIVA Media AG directly, I should search for information on the name change event in 2004.\n",
      "Action 2: Search[VIVA Media AG name change 2004]\n",
      "Observation 2: Could not find [VIVA Media AG name change 2004]. Similar: ['Vauxhall Viva', 'GfK Entertainment charts', 'Opel Astra', 'Puma (brand)', 'About You Now', 'Sildenafil', 'Viacom (1952–2005)', 'Bosch (company)', 'Schneider Electric', 'Tomy Winata']\n",
      "Thought 3: I should broaden my search to find information on VIVA Media AG's name change and their new acronym in 2004.\n",
      "Action 3: Search[VIVA Media AG name change new acronym 2004]\n",
      "Observation 3: Could not find [VIVA Media AG name change new acronym 2004]. Similar: ['Holden Torana', 'Andrés Manuel López Obrador', 'HSBC']\n",
      "Thought 4: Since I'm unable to directly find the new acronym for VIVA Media AG after the name change in 2004, I should try to search for general information about VIVA Media AG and their name change event.\n",
      "Action 4: Search[VIVA Media AG history]\n",
      "Observation 4: Could not find [VIVA Media AG history]. Similar: ['VIVA Plus', 'MTV Music (Polish TV channel)', 'Vauxhall Viva', 'Paramount International Networks', 'VIVA (German TV channel)', 'GfK Entertainment charts', 'Sartorius AG', 'Spellbound Entertainment', 'Lindt', 'Puma (brand)']\n",
      "Thought 5: Since I am unable to find the specific information needed through direct searches, I should look into more general sources or consider looking for documents or resources related to the company's name change event in 2004.\n",
      "Action 5: Finish[N/A]\n",
      "Observation 5: Answer is INCORRECT\n"
     ]
    }
   ],
   "source": [
    "from agential.cog.lats.functional import get_node_trajectory_qa\n",
    "\n",
    "\n",
    "print(get_node_trajectory_qa(out.answer))"
   ]
  },
  {
   "cell_type": "code",
   "execution_count": null,
   "metadata": {},
   "outputs": [],
   "source": []
  }
 ],
 "metadata": {
  "kernelspec": {
   "display_name": "agential",
   "language": "python",
   "name": "python3"
  },
  "language_info": {
   "codemirror_mode": {
    "name": "ipython",
    "version": 3
   },
   "file_extension": ".py",
   "mimetype": "text/x-python",
   "name": "python",
   "nbconvert_exporter": "python",
   "pygments_lexer": "ipython3",
   "version": "3.11.5"
  }
 },
 "nbformat": 4,
 "nbformat_minor": 2
}
