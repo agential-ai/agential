{
 "cells": [
  {
   "cell_type": "code",
   "execution_count": 1,
   "metadata": {},
   "outputs": [],
   "source": [
    "from agential.cog.lats.strategies.qa import LATSQAStrategy \n",
    "from agential.llm.llm import LLM\n",
    "from agential.cog.fewshots.hotpotqa import (\n",
    "    HOTPOTQA_FEWSHOT_EXAMPLES_REACT,\n",
    ")\n",
    "from agential.cog.lats.prompts import (\n",
    "    HOTPOTQA_FEWSHOT_EXAMPLES_LATS_REFLECT,\n",
    "    LATS_INSTRUCTION_HOTPOTQA,\n",
    "    LATS_REFLECT_INSTRUCTION_HOTPOTQA,\n",
    "    HOTPOTQA_FEWSHOT_EXAMPLES_LATS_VALUE, \n",
    "    LATS_VALUE_INSTRUCTION_HOTPOTQA,\n",
    ")\n",
    "\n",
    "llm = LLM(\"gpt-3.5-turbo\")\n",
    "\n",
    "question = \"VIVA Media AG changed it's name in 2004. What does their new acronym stand for?\"\n",
    "key = \"Gesellschaft mit beschränkter Haftung\"\n",
    "\n",
    "agent = LATSQAStrategy(\n",
    "    llm=llm, \n",
    "    n_samples=2, \n",
    "    max_reflections=4, \n",
    "    depth_limit=5,\n",
    "    max_unique=5,\n",
    "    cache_values=True,\n",
    ")\n",
    "\n",
    "out = agent.generate(\n",
    "    question=question,\n",
    "    key=key,\n",
    "    examples=HOTPOTQA_FEWSHOT_EXAMPLES_REACT,\n",
    "    reflect_examples=HOTPOTQA_FEWSHOT_EXAMPLES_LATS_REFLECT,\n",
    "    value_examples=HOTPOTQA_FEWSHOT_EXAMPLES_LATS_VALUE,\n",
    "    prompt=LATS_INSTRUCTION_HOTPOTQA,\n",
    "    reflect_prompt=LATS_REFLECT_INSTRUCTION_HOTPOTQA,\n",
    "    value_prompt=LATS_VALUE_INSTRUCTION_HOTPOTQA,\n",
    "    additional_keys={},\n",
    "    reflect_additional_keys={},\n",
    "    value_additional_keys={},\n",
    "    max_iterations=1,\n",
    "    reset=True\n",
    ")"
   ]
  },
  {
   "cell_type": "code",
   "execution_count": 2,
   "metadata": {},
   "outputs": [
    {
     "name": "stdout",
     "output_type": "stream",
     "text": [
      "\n",
      "Thought 1: I need to search for the new acronym of VIVA Media AG after they changed their name in 2004.\n",
      "Action 1: Search[VIVA Media AG name change 2004]\n",
      "Observation 1: Could not find [VIVA Media AG name change 2004]. Similar: ['Vauxhall Viva', 'GfK Entertainment charts', 'Opel Astra', 'Puma (brand)', 'About You Now', 'Sildenafil', 'Schneider Electric', 'Bosch (company)', 'Viacom (1952–2005)', 'Priscilla Presley']\n",
      "Thought 2: I should try a more specific search term to find the new acronym of VIVA Media AG after the name change in 2004.\n",
      "Action 2: Search[VIVA Media AG new name 2004]\n",
      "Observation 2: Could not find [VIVA Media AG new name 2004]. Similar: ['Vauxhall Viva', 'Paramount International Networks', 'MTV Music (Polish TV channel)', 'Flying Bark Productions', 'Opel Astra', 'Puma (brand)', 'The Black Mirror (video game)', 'Kimberly-Clark', 'Holden Torana', 'Schneider Electric']\n",
      "Thought 3: I need to search for the specific details of the name change of VIVA Media AG in 2004 to find what their new acronym stands for.\n",
      "Action 3: Search[VIVA Media AG new acronym 2004]\n",
      "Observation 3: Could not find [VIVA Media AG new acronym 2004]. Similar: ['VIVA (German TV channel)', 'Holden Torana', 'Earth Liberation Front', 'Andrés Manuel López Obrador', 'HSBC', 'List of Nintendo DS games (Q–Z)']\n",
      "Thought 4: I should consider searching for VIVA Media AG's press releases or official announcements regarding their name change in 2004 to find out what their new acronym stands for.\n",
      "Action 4: Search[VIVA Media AG press release name change 2004]\n",
      "Observation 4: Could not find [VIVA Media AG press release name change 2004]. Similar: ['Opel Astra', 'Bosch (company)', 'Puma (brand)', 'List of automobile sales by model', 'Tomy Winata', 'List of 2024 albums', 'Sildenafil', 'Britpop', 'People for the Ethical Treatment of Animals', 'Video games in Germany']\n",
      "Thought 5: I may need to search specifically for VIVA Media AG's official website or contact their customer support to inquire about the new acronym after their name change in 2004.\n",
      "Action 5: Search[VIVA Media AG official website]\n",
      "Observation 5: The GfK Entertainment charts are the official charts for music, home video, and video games in Germany and are gathered and published by GfK Entertainment (formerly Media Control and Media Control GfK International), a subsidiary of GfK, on behalf of Bundesverband Musikindustrie. GfK Entertainment is the provider of weekly Top 100 single and album charts, as well as various other chart formats for genres like compilations, jazz, classical music, schlager, hip hop, dance, comedy, and music videos. Following a lawsuit in March 2014 by Media Control AG, Media Control® GfK International had to change its name.Dissemination of the charts is conducted by various media outlets, some of which include MTV music channel, and the Swiss charts website. Other entities that present the charts are MusicLoad and Mix 1, both of which are online associations that post almost all the charts published by GfK Entertainment on a weekly basis. Furthermore, GfK Entertainment also runs a dedicated website providing chart-related news and access to most of the charts.\n"
     ]
    }
   ],
   "source": [
    "from agential.cog.lats.functional import get_node_trajectory_qa\n",
    "\n",
    "\n",
    "print(get_node_trajectory_qa(out.answer))"
   ]
  },
  {
   "cell_type": "code",
   "execution_count": null,
   "metadata": {},
   "outputs": [],
   "source": []
  }
 ],
 "metadata": {
  "kernelspec": {
   "display_name": "agential",
   "language": "python",
   "name": "python3"
  },
  "language_info": {
   "codemirror_mode": {
    "name": "ipython",
    "version": 3
   },
   "file_extension": ".py",
   "mimetype": "text/x-python",
   "name": "python",
   "nbconvert_exporter": "python",
   "pygments_lexer": "ipython3",
   "version": "3.11.5"
  }
 },
 "nbformat": 4,
 "nbformat_minor": 2
}
