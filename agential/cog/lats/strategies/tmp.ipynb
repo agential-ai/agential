{
 "cells": [
  {
   "cell_type": "code",
   "execution_count": 1,
   "metadata": {},
   "outputs": [],
   "source": [
    "from agential.cog.lats.strategies.qa import LATSQAStrategy \n",
    "from agential.llm.llm import LLM\n",
    "from agential.cog.fewshots.hotpotqa import (\n",
    "    HOTPOTQA_FEWSHOT_EXAMPLES_REACT,\n",
    ")\n",
    "from agential.cog.lats.prompts import (\n",
    "    HOTPOTQA_FEWSHOT_EXAMPLES_LATS_REFLECT,\n",
    "    LATS_INSTRUCTION_HOTPOTQA,\n",
    "    LATS_REFLECT_INSTRUCTION_HOTPOTQA,\n",
    "    HOTPOTQA_FEWSHOT_EXAMPLES_LATS_VALUE, \n",
    "    LATS_VALUE_INSTRUCTION_HOTPOTQA,\n",
    ")\n",
    "\n",
    "llm = LLM(\"gpt-3.5-turbo\")\n",
    "\n",
    "question = \"VIVA Media AG changed it's name in 2004. What does their new acronym stand for?\"\n",
    "key = \"Gesellschaft mit beschränkter Haftung\"\n",
    "\n",
    "agent = LATSQAStrategy(\n",
    "    llm=llm, \n",
    "    n_samples=2, \n",
    "    max_reflections=4, \n",
    "    depth_limit=5,\n",
    "    max_unique=5,\n",
    "    cache_values=True,\n",
    ")\n",
    "\n",
    "out = agent.generate(\n",
    "    question=question,\n",
    "    key=key,\n",
    "    examples=HOTPOTQA_FEWSHOT_EXAMPLES_REACT,\n",
    "    reflect_examples=HOTPOTQA_FEWSHOT_EXAMPLES_LATS_REFLECT,\n",
    "    value_examples=HOTPOTQA_FEWSHOT_EXAMPLES_LATS_VALUE,\n",
    "    prompt=LATS_INSTRUCTION_HOTPOTQA,\n",
    "    reflect_prompt=LATS_REFLECT_INSTRUCTION_HOTPOTQA,\n",
    "    value_prompt=LATS_VALUE_INSTRUCTION_HOTPOTQA,\n",
    "    additional_keys={},\n",
    "    reflect_additional_keys={},\n",
    "    value_additional_keys={},\n",
    "    max_iterations=1,\n",
    "    reset=True\n",
    ")"
   ]
  },
  {
   "cell_type": "code",
   "execution_count": 5,
   "metadata": {},
   "outputs": [
    {
     "name": "stdout",
     "output_type": "stream",
     "text": [
      "\n",
      "Thought 1: I need to search for VIVA Media AG's new acronym after changing their name in 2004.\n",
      "Action 1: Search[VIVA Media AG new acronym]\n",
      "Observation 1: Could not find [VIVA Media AG new acronym]. Similar: ['VIVA (German TV channel)', 'Holden Torana', 'Earth Liberation Front', 'Andrés Manuel López Obrador', 'List of Nintendo DS games (Q–Z)', 'HSBC']\n",
      "Thought 2: I should try searching for the new name of VIVA Media AG instead.\n",
      "Action 2: Search[VIVA Media AG new name]\n",
      "Observation 2: Could not find [VIVA Media AG new name]. Similar: ['Vauxhall Viva', 'MTV Music (Polish TV channel)', 'Sartorius AG', 'Paramount International Networks', 'Flying Bark Productions', 'Lindt', 'Luann de Lesseps', 'Sigg', 'Puma (brand)', 'Opel Astra']\n",
      "Thought 3: I need to refine my search keywords to find the new acronym or new name of VIVA Media AG after 2004.\n",
      "Action 3: Search[VIVA Media AG name change 2004]\n",
      "Observation 3: Could not find [VIVA Media AG name change 2004]. Similar: ['Vauxhall Viva', 'GfK Entertainment charts', 'Opel Astra', 'Puma (brand)', 'About You Now', 'Sildenafil', 'Viacom (1952–2005)', 'Schneider Electric', 'Bosch (company)', 'Priscilla Presley']\n",
      "Thought 4: Given the lack of relevant results, I should try searching for the history of VIVA Media AG to determine their new name and acronym after 2004.\n",
      "Action 4: Search[history of VIVA Media AG]\n",
      "Observation 4: Could not find [history of VIVA Media AG]. Similar: ['VIVA Plus', 'MTV Music (Polish TV channel)', 'Vauxhall Viva', 'Paramount International Networks', 'VIVA (German TV channel)', 'Sartorius AG', 'GfK Entertainment charts', 'Spellbound Entertainment', 'Lindt', 'Ag-gag']\n",
      "Thought 5: Given the lack of specific information, I am unable to determine the new acronym of VIVA Media AG after changing its name in 2004. The available information does not provide a clear answer to this question.\n",
      "Action 5: Finish[Unable to determine answer]\n",
      "Observation 5: Answer is INCORRECT\n"
     ]
    }
   ],
   "source": [
    "from agential.cog.lats.functional import get_node_trajectory_qa\n",
    "\n",
    "\n",
    "print(get_node_trajectory_qa(out.answer))"
   ]
  },
  {
   "cell_type": "code",
   "execution_count": null,
   "metadata": {},
   "outputs": [],
   "source": []
  }
 ],
 "metadata": {
  "kernelspec": {
   "display_name": "agential",
   "language": "python",
   "name": "python3"
  },
  "language_info": {
   "codemirror_mode": {
    "name": "ipython",
    "version": 3
   },
   "file_extension": ".py",
   "mimetype": "text/x-python",
   "name": "python",
   "nbconvert_exporter": "python",
   "pygments_lexer": "ipython3",
   "version": "3.11.5"
  }
 },
 "nbformat": 4,
 "nbformat_minor": 2
}
