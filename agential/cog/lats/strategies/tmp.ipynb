{
 "cells": [
  {
   "cell_type": "code",
   "execution_count": 2,
   "metadata": {},
   "outputs": [],
   "source": [
    "from agential.cog.lats.strategies.qa import LATSQAStrategy \n",
    "from agential.llm.llm import LLM\n",
    "from agential.cog.fewshots.hotpotqa import (\n",
    "    HOTPOTQA_FEWSHOT_EXAMPLES_REACT,\n",
    ")\n",
    "from agential.cog.lats.prompts import (\n",
    "    HOTPOTQA_FEWSHOT_EXAMPLES_LATS_REFLECT,\n",
    "    LATS_INSTRUCTION_HOTPOTQA,\n",
    "    LATS_REFLECT_INSTRUCTION_HOTPOTQA,\n",
    "    HOTPOTQA_FEWSHOT_EXAMPLES_LATS_VALUE, \n",
    "    LATS_VALUE_INSTRUCTION_HOTPOTQA,\n",
    ")\n",
    "\n",
    "llm = LLM(\"gpt-3.5-turbo\")\n",
    "\n",
    "question = \"VIVA Media AG changed it's name in 2004. What does their new acronym stand for?\"\n",
    "key = \"Gesellschaft mit beschränkter Haftung\"\n",
    "\n",
    "agent = LATSQAStrategy(\n",
    "    llm=llm, \n",
    "    n_samples=2, \n",
    "    max_reflections=4, \n",
    "    depth_limit=5,\n",
    "    max_unique=5,\n",
    "    cache_values=True,\n",
    ")\n",
    "\n",
    "out = agent.generate(\n",
    "    question=question,\n",
    "    key=key,\n",
    "    examples=HOTPOTQA_FEWSHOT_EXAMPLES_REACT,\n",
    "    reflect_examples=HOTPOTQA_FEWSHOT_EXAMPLES_LATS_REFLECT,\n",
    "    value_examples=HOTPOTQA_FEWSHOT_EXAMPLES_LATS_VALUE,\n",
    "    prompt=LATS_INSTRUCTION_HOTPOTQA,\n",
    "    reflect_prompt=LATS_REFLECT_INSTRUCTION_HOTPOTQA,\n",
    "    value_prompt=LATS_VALUE_INSTRUCTION_HOTPOTQA,\n",
    "    additional_keys={},\n",
    "    reflect_additional_keys={},\n",
    "    value_additional_keys={},\n",
    "    max_iterations=1,\n",
    "    reset=True\n",
    ")"
   ]
  },
  {
   "cell_type": "code",
   "execution_count": 3,
   "metadata": {},
   "outputs": [
    {
     "name": "stdout",
     "output_type": "stream",
     "text": [
      "\n",
      "Thought 1: I need to search for VIVA Media AG's new acronym in 2004 to find out what it stands for.\n",
      "Action 1: Search[VIVA Media AG name change 2004]\n",
      "Observation 1: Could not find [VIVA Media AG name change 2004]. Similar: ['Vauxhall Viva', 'GfK Entertainment charts', 'Opel Astra', 'Puma (brand)', 'About You Now', 'Sildenafil', 'Viacom (1952–2005)', 'Bosch (company)', 'Schneider Electric', 'Tomy Winata']\n",
      "Thought 2: I should search for VIVA Media AG rebranding in 2004 instead.\n",
      "Action 2: Search[VIVA Media AG rebranding 2004]\n",
      "Observation 2: Could not find [VIVA Media AG rebranding 2004]. Similar: ['Paramount International Networks', '2024 in Philippine television', 'Virgin Interactive Entertainment', 'Viacom (1952–2005)', 'Voice of America', 'PolyGram', 'Renault', 'Veolia Transport', 'British Midland International', 'Universal Music Group']\n",
      "Thought 3: I should try searching for VIVA Media AG's new name in 2004 instead of focusing on rebranding or acronym.\n",
      "Action 3: Search[VIVA Media AG new name 2004]\n",
      "Observation 3: Could not find [VIVA Media AG new name 2004]. Similar: ['Vauxhall Viva', 'MTV Music (Polish TV channel)', 'Paramount International Networks', 'Puma (brand)', 'Flying Bark Productions', 'Opel Astra', 'The Black Mirror (video game)', 'Kimberly-Clark', 'Schneider Electric', 'Holden Torana']\n",
      "Thought 4: I should search for VIVA Media AG's name change in 2004 specifically to find the acronym it stands for.\n",
      "Action 4: Search[VIVA Media AG name change 2004]\n",
      "Observation 4: Could not find [VIVA Media AG name change 2004]. Similar: ['Vauxhall Viva', 'GfK Entertainment charts', 'Opel Astra', 'Puma (brand)', 'About You Now', 'Sildenafil', 'Viacom (1952–2005)', 'Bosch (company)', 'Schneider Electric', 'Tomy Winata']\n",
      "Thought 5: Since I am unable to find the exact information through various search attempts, I should look into alternative sources or consult with experts in the field to help me find the answer.\n",
      "Action 5: Finish[consult with experts]\n",
      "Observation 5: Answer is INCORRECT\n"
     ]
    }
   ],
   "source": [
    "from agential.cog.lats.functional import get_node_trajectory_qa\n",
    "\n",
    "\n",
    "print(get_node_trajectory_qa(out.answer))"
   ]
  },
  {
   "cell_type": "code",
   "execution_count": null,
   "metadata": {},
   "outputs": [],
   "source": []
  }
 ],
 "metadata": {
  "kernelspec": {
   "display_name": "agential",
   "language": "python",
   "name": "python3"
  },
  "language_info": {
   "codemirror_mode": {
    "name": "ipython",
    "version": 3
   },
   "file_extension": ".py",
   "mimetype": "text/x-python",
   "name": "python",
   "nbconvert_exporter": "python",
   "pygments_lexer": "ipython3",
   "version": "3.11.5"
  }
 },
 "nbformat": 4,
 "nbformat_minor": 2
}
