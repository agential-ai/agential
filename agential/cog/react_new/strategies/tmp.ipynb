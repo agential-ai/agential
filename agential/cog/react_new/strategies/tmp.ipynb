{
 "cells": [
  {
   "cell_type": "code",
   "execution_count": 1,
   "metadata": {},
   "outputs": [],
   "source": [
    "from agential.cog.react_new.strategies.general import ReActGeneralStrategy"
   ]
  },
  {
   "cell_type": "code",
   "execution_count": 2,
   "metadata": {},
   "outputs": [],
   "source": [
    "from agential.llm.llm import LLM\n",
    "strat = ReActGeneralStrategy(llm=LLM(\"gpt-3.5-turbo\"))"
   ]
  },
  {
   "cell_type": "code",
   "execution_count": 15,
   "metadata": {},
   "outputs": [],
   "source": [
    "from agential.cog.fewshots.hotpotqa import HOTPOTQA_FEWSHOT_EXAMPLES_REACT\n",
    "\n",
    "from agential.cog.react.prompts import (\n",
    "    REACT_INSTRUCTION_HOTPOTQA,\n",
    ")\n",
    "\n",
    "question = \"Who is the most controversial kickboxer of all time?\"\n",
    "\n",
    "out = strat.generate(\n",
    "    question=question,\n",
    "    examples=HOTPOTQA_FEWSHOT_EXAMPLES_REACT,\n",
    "    prompt=REACT_INSTRUCTION_HOTPOTQA,\n",
    "    additional_keys={},\n",
    "    reset=False\n",
    ")"
   ]
  },
  {
   "cell_type": "code",
   "execution_count": 16,
   "metadata": {},
   "outputs": [
    {
     "data": {
      "text/plain": [
       "[ReActStepOutput(thought='I need to search for information about controversial kickboxers to find out who the most controversial one is.', action_type='Search', query='controversial kickboxers', observation=\"Could not find [controversial kickboxers]. Similar: ['Alex Pereira', 'Jhonata Diniz', 'Pete Cunningham (kickboxer)', 'Badr Hari', 'Andrew Tate', 'Maurice Smith (fighter)', 'Joe Schilling', 'Israel Adesanya', 'Paddy Pimblett', 'Benny Urquidez']\", answer='', external_tool_info={'search_result': \"Could not find [controversial kickboxers]. Similar: ['Alex Pereira', 'Jhonata Diniz', 'Pete Cunningham (kickboxer)', 'Badr Hari', 'Andrew Tate', 'Maurice Smith (fighter)', 'Joe Schilling', 'Israel Adesanya', 'Paddy Pimblett', 'Benny Urquidez']\", 'lookup_result': ''}, prompt_metrics={'thought': PromptMetrics(prompt_tokens=1719, completion_tokens=338, total_tokens=2057, prompt_cost=0.0008594999999999999, completion_cost=0.000507, total_cost=0.0013664999999999999, prompt_time=5.769945383071899), 'action': PromptMetrics(prompt_tokens=1744, completion_tokens=150, total_tokens=1894, prompt_cost=0.0008719999999999999, completion_cost=0.000225, total_cost=0.0010969999999999999, prompt_time=3.907867908477783)}),\n",
       " ReActStepOutput(thought='I should search for each of the kickboxers listed to find out more about their controversies and determine the most controversial one.', action_type='Search', query='Alex Pereira', observation=\"Alex Sandro Silva Pereira (born 7 July 1987) is a Brazilian professional mixed martial artist and former kickboxer. He currently competes in the Light Heavyweight division in the Ultimate Fighting Championship (UFC), where he is the current UFC Light Heavyweight Champion and a former UFC Middleweight Champion. He is the ninth fighter in UFC history to become champion in two different weight divisions and the first to become champion in both the middleweight and light heavyweight divisions of the organization. In kickboxing, he is a former Glory middleweight and light heavyweight champion, and is the first and only fighter to have held Glory titles in two weight classes simultaneously. Pereira also competed in promotions such as It's Showtime and SUPERKOMBAT Fighting Championship in kickboxing, and for Jungle Fight and Legacy Fighting Alliance in MMA. As of 2 July 2024, he is #2 in the UFC men's pound-for-pound rankings. Pereira is the only known fighter to be a two-division world champion in MMA and kickboxing and is regarded as one of the greatest combat athletes of all time.Pereira was ranked #1 in the kickboxing middleweight and light-heavyweight rankings in February 2021.\", answer='', external_tool_info={'search_result': \"Alex Sandro Silva Pereira (born 7 July 1987) is a Brazilian professional mixed martial artist and former kickboxer. He currently competes in the Light Heavyweight division in the Ultimate Fighting Championship (UFC), where he is the current UFC Light Heavyweight Champion and a former UFC Middleweight Champion. He is the ninth fighter in UFC history to become champion in two different weight divisions and the first to become champion in both the middleweight and light heavyweight divisions of the organization. In kickboxing, he is a former Glory middleweight and light heavyweight champion, and is the first and only fighter to have held Glory titles in two weight classes simultaneously. Pereira also competed in promotions such as It's Showtime and SUPERKOMBAT Fighting Championship in kickboxing, and for Jungle Fight and Legacy Fighting Alliance in MMA. As of 2 July 2024, he is #2 in the UFC men's pound-for-pound rankings. Pereira is the only known fighter to be a two-division world champion in MMA and kickboxing and is regarded as one of the greatest combat athletes of all time.\\nPereira was ranked #1 in the kickboxing middleweight and light-heavyweight rankings in February 2021.\", 'lookup_result': ''}, prompt_metrics={'thought': PromptMetrics(prompt_tokens=1840, completion_tokens=303, total_tokens=2143, prompt_cost=0.0009199999999999999, completion_cost=0.0004545, total_cost=0.0013744999999999999, prompt_time=5.779038429260254), 'action': PromptMetrics(prompt_tokens=1869, completion_tokens=6, total_tokens=1875, prompt_cost=0.0009345, completion_cost=9e-06, total_cost=0.0009435, prompt_time=0.6474852561950684)}),\n",
       " ReActStepOutput(thought='Alex Pereira is not specifically mentioned as being controversial. I should search for the next kickboxer on the list, Jhonata Diniz, to see if they have a controversial history.', action_type='Search', query='Jhonata Diniz', observation='Jhonata Diniz is a Brazilian mixed martial artist and former kickboxer. He competed for GLORY and SUPERKOMBAT Fighting Championship.', answer='', external_tool_info={'search_result': 'Jhonata Diniz is a Brazilian mixed martial artist and former kickboxer. He competed for GLORY and SUPERKOMBAT Fighting Championship.', 'lookup_result': ''}, prompt_metrics={'thought': PromptMetrics(prompt_tokens=2132, completion_tokens=277, total_tokens=2409, prompt_cost=0.0010659999999999999, completion_cost=0.0004155, total_cost=0.0014815, prompt_time=5.054978847503662), 'action': PromptMetrics(prompt_tokens=2175, completion_tokens=7, total_tokens=2182, prompt_cost=0.0010875, completion_cost=1.0500000000000001e-05, total_cost=0.001098, prompt_time=0.7723593711853027)}),\n",
       " ReActStepOutput(thought='Jhonata Diniz also does not have any specific mentions of controversy. I will continue to search each kickboxer on the list to determine the most controversial one.', action_type='Search', query='Pete Cunningham (kickboxer)', observation='Peter \"Sugarfoot\" Cunningham (born March 25, 1963) is a retired Canadian 7-time World Champion Hall of Fame kickboxer, boxer, martial artist, actor and author. Rated by experts as one of the greatest full contact fighters of all time, Sugarfoot was a superb technician who possessed high fighting I.Q. and lightning speed. He retired from kickboxing in 1996 with a record of 50-1-1, having avenged the only draw of his career but only one defeated Peter, the undefeated Richard Sylla at the WKA World Title in Paris. Cunningham\\'s skills in the ring have been praised by many martial arts legends, including Benny \"The Jet\" Urquidez, Bill \"Superfoot\" Wallace, Chuck Norris, Dan Inosanto, Rigan Machado, Don \"The Dragon\" Wilson and many others.  Cunningham maintained a high level competition throughout his career as most of his opponents were either current or former champions. In 1998 in San Jose, California, Peter was honored as the inaugural inductee in the I.S.K.A. Hall of Fame.Cunningham\\'s nickname \"Sugarfoot\" is a combination of the names of two great fighters in boxing and kickboxing that his style most resembled, \"Sugar\" Ray Leonard and Bill \"Superfoot\" Wallace, and it was given to him by his peers at his first dojo in Edmonton, Canada while he was still a teenager.', answer='', external_tool_info={'search_result': 'Peter \"Sugarfoot\" Cunningham (born March 25, 1963) is a retired Canadian 7-time World Champion Hall of Fame kickboxer, boxer, martial artist, actor and author. Rated by experts as one of the greatest full contact fighters of all time, Sugarfoot was a superb technician who possessed high fighting I.Q. and lightning speed. He retired from kickboxing in 1996 with a record of 50-1-1, having avenged the only draw of his career but only one defeated Peter, the undefeated Richard Sylla at the WKA World Title in Paris. Cunningham\\'s skills in the ring have been praised by many martial arts legends, including Benny \"The Jet\" Urquidez, Bill \"Superfoot\" Wallace, Chuck Norris, Dan Inosanto, Rigan Machado, Don \"The Dragon\" Wilson and many others.  Cunningham maintained a high level competition throughout his career as most of his opponents were either current or former champions. In 1998 in San Jose, California, Peter was honored as the inaugural inductee in the I.S.K.A. Hall of Fame.\\nCunningham\\'s nickname \"Sugarfoot\" is a combination of the names of two great fighters in boxing and kickboxing that his style most resembled, \"Sugar\" Ray Leonard and Bill \"Superfoot\" Wallace, and it was given to him by his peers at his first dojo in Edmonton, Canada while he was still a teenager.', 'lookup_result': ''}, prompt_metrics={'thought': PromptMetrics(prompt_tokens=2221, completion_tokens=358, total_tokens=2579, prompt_cost=0.0011105, completion_cost=0.000537, total_cost=0.0016475, prompt_time=8.146971940994263), 'action': PromptMetrics(prompt_tokens=2259, completion_tokens=9, total_tokens=2268, prompt_cost=0.0011294999999999999, completion_cost=1.35e-05, total_cost=0.001143, prompt_time=0.5317211151123047)}),\n",
       " ReActStepOutput(thought='Pete Cunningham does not appear to have a controversial history either. I will continue searching through the list of kickboxers to find the most controversial one.', action_type='Search', query='Badr Hari', observation=\"Could not find [Badr Hari]. Similar: ['Badr Hari', 'Rico Verhoeven', 'Alistair Overeem', 'Alexey Ignashov', 'Remy Bonjasky', 'Grše', 'Benjamin Adegbuyi', 'Peter Graham (fighter)', 'Said El Badaoui', 'Zabit Samedov']\", answer='', external_tool_info={'search_result': \"Could not find [Badr Hari]. Similar: ['Badr Hari', 'Rico Verhoeven', 'Alistair Overeem', 'Alexey Ignashov', 'Remy Bonjasky', 'Grše', 'Benjamin Adegbuyi', 'Peter Graham (fighter)', 'Said El Badaoui', 'Zabit Samedov']\", 'lookup_result': ''}, prompt_metrics={'thought': PromptMetrics(prompt_tokens=2574, completion_tokens=822, total_tokens=3396, prompt_cost=0.001287, completion_cost=0.001233, total_cost=0.0025199999999999997, prompt_time=10.514047145843506), 'action': PromptMetrics(prompt_tokens=2608, completion_tokens=5, total_tokens=2613, prompt_cost=0.001304, completion_cost=7.5e-06, total_cost=0.0013115, prompt_time=0.5456380844116211)}),\n",
       " ReActStepOutput(thought=\"Since the search for controversial kickboxers didn't yield any results, I will try to search for specific controversies related to some of the kickboxers listed in order to determine the most controversial one.\", action_type='Search', query='Badr Hari controversy', observation='Alistair Cees Overeem (born 17 May 1980) is a Dutch former professional mixed martial artist and kickboxer. He is a former Strikeforce Heavyweight Champion, Dream Heavyweight Champion, K-1 World Grand Prix Champion, and was the first fighter to hold world titles in MMA and K-1 kickboxing at the same time. Overeem is also a one-time challenger for the UFC Heavyweight Championship.', answer='', external_tool_info={'search_result': 'Alistair Cees Overeem (born 17 May 1980) is a Dutch former professional mixed martial artist and kickboxer. He is a former Strikeforce Heavyweight Champion, Dream Heavyweight Champion, K-1 World Grand Prix Champion, and was the first fighter to hold world titles in MMA and K-1 kickboxing at the same time. Overeem is also a one-time challenger for the UFC Heavyweight Championship.', 'lookup_result': ''}, prompt_metrics={'thought': PromptMetrics(prompt_tokens=2700, completion_tokens=734, total_tokens=3434, prompt_cost=0.0013499999999999999, completion_cost=0.001101, total_cost=0.002451, prompt_time=8.573517084121704), 'action': PromptMetrics(prompt_tokens=2744, completion_tokens=156, total_tokens=2900, prompt_cost=0.001372, completion_cost=0.000234, total_cost=0.001606, prompt_time=2.5766921043395996)})]"
      ]
     },
     "execution_count": 16,
     "metadata": {},
     "output_type": "execute_result"
    }
   ],
   "source": [
    "out.additional_info"
   ]
  },
  {
   "cell_type": "code",
   "execution_count": 17,
   "metadata": {},
   "outputs": [
    {
     "data": {
      "text/plain": [
       "''"
      ]
     },
     "execution_count": 17,
     "metadata": {},
     "output_type": "execute_result"
    },
    {
     "ename": "",
     "evalue": "",
     "output_type": "error",
     "traceback": [
      "\u001b[1;31mThe Kernel crashed while executing code in the current cell or a previous cell. \n",
      "\u001b[1;31mPlease review the code in the cell(s) to identify a possible cause of the failure. \n",
      "\u001b[1;31mClick <a href='https://aka.ms/vscodeJupyterKernelCrash'>here</a> for more info. \n",
      "\u001b[1;31mView Jupyter <a href='command:jupyter.viewOutput'>log</a> for further details."
     ]
    }
   ],
   "source": [
    "out.answer"
   ]
  },
  {
   "cell_type": "code",
   "execution_count": null,
   "metadata": {},
   "outputs": [],
   "source": []
  }
 ],
 "metadata": {
  "kernelspec": {
   "display_name": "agential",
   "language": "python",
   "name": "python3"
  },
  "language_info": {
   "codemirror_mode": {
    "name": "ipython",
    "version": 3
   },
   "file_extension": ".py",
   "mimetype": "text/x-python",
   "name": "python",
   "nbconvert_exporter": "python",
   "pygments_lexer": "ipython3",
   "version": "3.11.5"
  }
 },
 "nbformat": 4,
 "nbformat_minor": 2
}
