{
 "cells": [
  {
   "cell_type": "code",
   "execution_count": 2,
   "metadata": {},
   "outputs": [],
   "source": [
    "from agential.cog.cot.agent import CoTAgent\n",
    "import os\n",
    "from agential.llm.llm import LLM\n",
    "\n",
    "llm = LLM(\"gpt-3.5-turbo\", organization=os.getenv(\"OPENAI_ORGANIZATION\"))"
   ]
  },
  {
   "cell_type": "code",
   "execution_count": 3,
   "metadata": {},
   "outputs": [],
   "source": [
    "agent = CoTAgent(\n",
    "    llm=llm,\n",
    "    benchmark=\"hotpotqa\"\n",
    ")"
   ]
  },
  {
   "cell_type": "code",
   "execution_count": null,
   "metadata": {},
   "outputs": [],
   "source": [
    "agent.generate(\n",
    "    question=\"What is the capital of France?\",\n",
    "    examples=\"\",\n",
    "    prompt=\"\",\n",
    "    additional_keys={},\n",
    "    reset=True,\n",
    ")"
   ]
  }
 ],
 "metadata": {
  "kernelspec": {
   "display_name": "agential",
   "language": "python",
   "name": "python3"
  },
  "language_info": {
   "codemirror_mode": {
    "name": "ipython",
    "version": 3
   },
   "file_extension": ".py",
   "mimetype": "text/x-python",
   "name": "python",
   "nbconvert_exporter": "python",
   "pygments_lexer": "ipython3",
   "version": "3.11.5"
  }
 },
 "nbformat": 4,
 "nbformat_minor": 2
}
