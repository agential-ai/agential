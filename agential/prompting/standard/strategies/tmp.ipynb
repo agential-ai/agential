{
 "cells": [
  {
   "cell_type": "code",
   "execution_count": 1,
   "metadata": {},
   "outputs": [],
   "source": [
    "from dotenv import load_dotenv\n",
    "load_dotenv()\n",
    "import os\n",
    "from agential.core.llm import LLM\n",
    "\n",
    "llm = LLM(\"gpt-3.5-turbo\", organization=os.getenv(\"OPENAI_ORGANIZATION\"))"
   ]
  },
  {
   "cell_type": "code",
   "execution_count": 2,
   "metadata": {},
   "outputs": [],
   "source": [
    "from agential.core.fewshots.gsm8k import GSM8K_FEWSHOT_EXAMPLES_DIRECT\n",
    "from agential.core.fewshots.svamp import SVAMP_FEWSHOT_EXAMPLES_DIRECT\n",
    "from agential.core.fewshots.tabmwp import TABMWP_FEWSHOT_EXAMPLES_DIRECT\n",
    "from agential.prompting.standard.prompts import STANDARD_INSTRUCTION_GSM8K, STANDARD_INSTRUCTION_SVAMP, STANDARD_INSTRUCTION_TABMWP\n",
    "from agential.prompting.standard.strategies.math import StandardMathStrategy\n",
    "\n",
    "\n",
    "question = \"There are 87 oranges and 290 bananas in Philip's collection. If the bananas are organized into 2 groups and oranges are organized into 93 groups. How big is each group of bananas?\"\n",
    "key = \"145\"\n",
    "\n",
    "strat = StandardMathStrategy(llm)\n",
    "out = strat.generate(\n",
    "    question=question,\n",
    "    key=key,\n",
    "    examples=SVAMP_FEWSHOT_EXAMPLES_DIRECT,\n",
    "    prompt=STANDARD_INSTRUCTION_SVAMP,\n",
    "    additional_keys={},\n",
    "    num_retries=10,\n",
    "    warming=[0.1, 0.4, 0.3]\n",
    ")"
   ]
  },
  {
   "cell_type": "code",
   "execution_count": 4,
   "metadata": {},
   "outputs": [
    {
     "data": {
      "text/plain": [
       "[[StandardStepOutput(answer='145 bananas per group', answer_response=Response(input_text=\"Q: James bought 93 red and 10 blue stickers, he used 31 red sticker on his fridge and 7 blue stickers on his laptop. How many red stickers does James have?\\nA: 62\\n\\n---\\n\\nQ: Allen went to supermarket to buy eggs, each egg costs 80 dollars, if the discount is 29 dollars. How much do you have to pay to buy for each egg?\\nA: 51\\n\\n---\\n\\nQ: Dianna collects both cases and books. He bought 22 cases and 5 books from the store. Now he has 57 cases and 25 books. How many books did danny have at first?\\nA: 20\\n\\n---\\n\\nQ: There were 108 chickens and 20 sheeps at the farm, some of chickens and sheeps were sold. There are 87 chickens and 18 sheeps left now. How many chickens were sold?\\nA: 21\\n\\n---\\n\\nQ: Katty scored 2 goals on monday, 8 goals on tuesday and 9 goals on wednesday. How many did Katty score on monday and wednesday?\\nA: 11\\n\\n---\\n\\nQ: There are 5 girls and 4 boys in the Masquerade, 12 more girls and 7 more boys joined.  How many more girls than boys are in the Masquerade?\\nA: 6\\n\\n---\\n\\nQ: Joseph and Getty went to buy ice creams, they together bought 36 ice creams. On the way back, Joseph ate 12 of the ice creams, and he has 2 ice creams left now.  How much ice creams did Getty purchase?\\nA: 22\\n(END OF EXAMPLES)\\n\\nQ: There are 87 oranges and 290 bananas in Philip's collection. If the bananas are organized into 2 groups and oranges are organized into 93 groups. How big is each group of bananas?\\nA: \", output_text='145 bananas per group', prompt_tokens=394, completion_tokens=4, total_tokens=398, prompt_cost=0.000197, completion_cost=6e-06, total_cost=0.000203, prompt_time=0.850398063659668))]]"
      ]
     },
     "execution_count": 4,
     "metadata": {},
     "output_type": "execute_result"
    }
   ],
   "source": [
    "out.additional_info"
   ]
  },
  {
   "cell_type": "code",
   "execution_count": 20,
   "metadata": {},
   "outputs": [
    {
     "data": {
      "text/plain": [
       "True"
      ]
     },
     "execution_count": 20,
     "metadata": {},
     "output_type": "execute_result"
    }
   ],
   "source": [
    "import math\n",
    "\n",
    "from agential.eval.metrics.classification import parse_first_number\n",
    "answer = \"-25 asdjasd\"\n",
    "key = \"-25\"\n",
    "math.isclose(float(parse_first_number(answer)), float(key))\n"
   ]
  },
  {
   "cell_type": "code",
   "execution_count": 12,
   "metadata": {},
   "outputs": [
    {
     "name": "stdout",
     "output_type": "stream",
     "text": [
      "B True\n"
     ]
    }
   ],
   "source": [
    "from agential.eval.metrics.classification import parse_first_number\n",
    "import math\n",
    "\n",
    "answer = \"145\"\n",
    "key = \"145\"\n",
    "\n",
    "try:\n",
    "    print(\"B\", math.isclose(float(parse_first_number(answer)), float(key)))\n",
    "except:\n",
    "    print(\"A\", answer == key)"
   ]
  },
  {
   "cell_type": "code",
   "execution_count": null,
   "metadata": {},
   "outputs": [],
   "source": [
    "out.additional_info"
   ]
  },
  {
   "cell_type": "code",
   "execution_count": null,
   "metadata": {},
   "outputs": [],
   "source": [
    "math.isclose(float(parse_first_number(answer)), float(key))"
   ]
  },
  {
   "cell_type": "code",
   "execution_count": null,
   "metadata": {},
   "outputs": [],
   "source": []
  }
 ],
 "metadata": {
  "kernelspec": {
   "display_name": "agential",
   "language": "python",
   "name": "python3"
  },
  "language_info": {
   "codemirror_mode": {
    "name": "ipython",
    "version": 3
   },
   "file_extension": ".py",
   "mimetype": "text/x-python",
   "name": "python",
   "nbconvert_exporter": "python",
   "pygments_lexer": "ipython3",
   "version": "3.11.5"
  }
 },
 "nbformat": 4,
 "nbformat_minor": 2
}
