{
 "cells": [
  {
   "cell_type": "code",
   "execution_count": 1,
   "metadata": {},
   "outputs": [],
   "source": [
    "from dotenv import load_dotenv\n",
    "load_dotenv()\n",
    "import os\n",
    "from agential.core.llm import LLM\n",
    "\n",
    "llm = LLM(\"gpt-3.5-turbo\", organization=os.getenv(\"OPENAI_ORGANIZATION\"))"
   ]
  },
  {
   "cell_type": "code",
   "execution_count": 6,
   "metadata": {},
   "outputs": [],
   "source": [
    "from agential.core.fewshots.gsm8k import GSM8K_FEWSHOT_EXAMPLES_DIRECT\n",
    "from agential.prompting.standard.prompts import STANDARD_INSTRUCTION_GSM8K\n",
    "from agential.prompting.standard.strategies.math import StandardMathStrategy\n",
    "\n",
    "\n",
    "question = \"What's 2+3?\"\n",
    "key = \"5\"\n",
    "\n",
    "strat = StandardMathStrategy(llm)\n",
    "out = strat.generate(\n",
    "    question=question,\n",
    "    key=key,\n",
    "    examples=GSM8K_FEWSHOT_EXAMPLES_DIRECT,\n",
    "    prompt=STANDARD_INSTRUCTION_GSM8K,\n",
    "    additional_keys={},\n",
    "    num_retries=10,\n",
    "    warming=[0.1, 0.4, 0.3]\n",
    ")"
   ]
  },
  {
   "cell_type": "code",
   "execution_count": 7,
   "metadata": {},
   "outputs": [
    {
     "data": {
      "text/plain": [
       "[[StandardStepOutput(answer='5', answer_response=Response(input_text=\"Q: Jason had 20 lollipops. He gave Denny some lollipops. Now Jason has 12 lollipops. How many lollipops did Jason give to Denny?\\nA: 8\\n\\n---\\n\\nQ: There are 15 trees in the grove. Grove workers will plant trees in the grove today. After they are done, there will be 21 trees. How many trees did the grove workers plant today?\\nA: 6\\n\\n---\\n\\nQ: Shawn has five toys. For Christmas, he got two toys each from his mom and dad. How many toys does he have now?\\nA: 9\\n\\n---\\n\\nQ: There were nine computers in the server room. Five more computers were installed each day, from monday to thursday. How many computers are now in the server room?\\nA: 29\\n\\n---\\n\\nQ: Michael had 58 golf balls. On tuesday, he lost 23 golf balls. On wednesday, he lost 2 more. How many golf balls did he have at the end of wednesday?\\nA: 33\\n\\n---\\n\\nQ: If there are 3 cars in the parking lot and 2 more cars arrive, how many cars are in the parking lot?\\nA: 5\\n\\n---\\n\\nQ: Olivia has $23. She bought five bagels for $3 each. How much money does she have left?\\nA: 8\\n\\n---\\n\\nQ: Leah had 32 chocolates and her sister had 42. If they ate 35, how many pieces do they have left in total?\\nA: 39\\n(END OF EXAMPLES)\\n\\nQ: What's 2+3?\\nA: \", output_text='5', prompt_tokens=352, completion_tokens=1, total_tokens=353, prompt_cost=0.000176, completion_cost=1.5e-06, total_cost=0.0001775, prompt_time=0.9136028289794922))]]"
      ]
     },
     "execution_count": 7,
     "metadata": {},
     "output_type": "execute_result"
    }
   ],
   "source": [
    "out.additional_info"
   ]
  },
  {
   "cell_type": "code",
   "execution_count": null,
   "metadata": {},
   "outputs": [],
   "source": []
  }
 ],
 "metadata": {
  "kernelspec": {
   "display_name": "agential",
   "language": "python",
   "name": "python3"
  },
  "language_info": {
   "codemirror_mode": {
    "name": "ipython",
    "version": 3
   },
   "file_extension": ".py",
   "mimetype": "text/x-python",
   "name": "python",
   "nbconvert_exporter": "python",
   "pygments_lexer": "ipython3",
   "version": "3.11.5"
  }
 },
 "nbformat": 4,
 "nbformat_minor": 2
}
