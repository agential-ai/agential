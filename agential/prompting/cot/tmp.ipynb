{
 "cells": [
  {
   "cell_type": "code",
   "execution_count": null,
   "metadata": {},
   "outputs": [],
   "source": [
    "from dotenv import load_dotenv\n",
    "load_dotenv()\n",
    "\n",
    "import os\n",
    "\n",
    "from agential.core.llm import LLM\n",
    "\n",
    "llm = LLM(\"gpt-3.5-turbo\", organization=os.getenv(\"OPENAI_ORGANIZATION\"))"
   ]
  },
  {
   "cell_type": "code",
   "execution_count": null,
   "metadata": {},
   "outputs": [],
   "source": [
    "from agential.prompting.cot.strategies.general import CoTGeneralStrategy\n",
    "from agential.prompting.cot.strategies.math import CoTMathStrategy\n",
    "from agential.prompting.cot.strategies.code import CoTCodeStrategy"
   ]
  },
  {
   "cell_type": "code",
   "execution_count": null,
   "metadata": {},
   "outputs": [],
   "source": [
    "from agential.core.fewshots.ambignq import AMBIGNQ_FEWSHOT_EXAMPLES_COT, AMBIGNQ_FEWSHOT_EXAMPLES_DIRECT\n",
    "from agential.core.fewshots.fever import FEVER_FEWSHOT_EXAMPLES_COT, FEVER_FEWSHOT_EXAMPLES_DIRECT\n",
    "from agential.core.fewshots.gsm8k import GSM8K_FEWSHOT_EXAMPLES_COT, GSM8K_FEWSHOT_EXAMPLES_POT\n",
    "from agential.core.fewshots.hotpotqa import HOTPOTQA_FEWSHOT_EXAMPLES_COT, HOTPOTQA_FEWSHOT_EXAMPLES_DIRECT\n",
    "from agential.core.fewshots.humaneval import HUMANEVAL_FEWSHOT_EXAMPLES_COT, HUMANEVAL_FEWSHOT_EXAMPLES_POT\n",
    "from agential.core.fewshots.mbpp import MBPP_FEWSHOT_EXAMPLES_COT, MBPP_FEWSHOT_EXAMPLES_POT\n",
    "from agential.core.fewshots.svamp import SVAMP_FEWSHOT_EXAMPLES_COT, SVAMP_FEWSHOT_EXAMPLES_POT\n",
    "from agential.core.fewshots.tabmwp import TABMWP_FEWSHOT_EXAMPLES_COT, TABMWP_FEWSHOT_EXAMPLES_POT\n",
    "from agential.prompting.cot.prompts import COT_INSTRUCTION_AMBIGNQ, COT_INSTRUCTION_FEVER, COT_INSTRUCTION_GSM8K, COT_INSTRUCTION_HOTPOTQA, COT_INSTRUCTION_HUMANEVAL, COT_INSTRUCTION_MBPP, COT_INSTRUCTION_SVAMP, COT_INSTRUCTION_TABMWP\n",
    "from agential.prompting.standard.prompts import STANDARD_INSTRUCTION_AMBIGNQ, STANDARD_INSTRUCTION_FEVER, STANDARD_INSTRUCTION_GSM8K, STANDARD_INSTRUCTION_HOTPOTQA, STANDARD_INSTRUCTION_HUMANEVAL, STANDARD_INSTRUCTION_MBPP, STANDARD_INSTRUCTION_SVAMP, STANDARD_INSTRUCTION_TABMWP\n",
    "from agential.prompting.standard.strategies.code import StandardCodeStrategy\n",
    "from agential.prompting.standard.strategies.math import StandardMathStrategy\n",
    "\n",
    "method = StandardCodeStrategy(llm=llm)\n",
    "\n",
    "question = \"Write a python function to find the first repeated character in a given string.\"\n",
    "key = \"\"\"assert first_repeated_char(\"abcabc\") == \"a\"\n",
    "assert first_repeated_char(\"abc\") == None\n",
    "assert first_repeated_char(\"123123\") == \"1\\\"\"\"\"\n",
    "\n",
    "out = method.generate(\n",
    "    question=question,\n",
    "    key=key,\n",
    "    examples=MBPP_FEWSHOT_EXAMPLES_POT,\n",
    "    prompt=STANDARD_INSTRUCTION_MBPP,\n",
    "    additional_keys={\"tests\": key},\n",
    "    num_retries=3,\n",
    "    warming=[0.1, 0.2, 0.3]\n",
    ")"
   ]
  },
  {
   "cell_type": "code",
   "execution_count": null,
   "metadata": {},
   "outputs": [],
   "source": [
    "out.additional_info"
   ]
  },
  {
   "cell_type": "code",
   "execution_count": null,
   "metadata": {},
   "outputs": [],
   "source": [
    "print(out.answer)"
   ]
  },
  {
   "cell_type": "code",
   "execution_count": null,
   "metadata": {},
   "outputs": [],
   "source": [
    "from agential.agents.lats.prompts import GSM8K_FEWSHOT_EXAMPLES_LATS_REFLECT, GSM8K_FEWSHOT_EXAMPLES_LATS_VALUE, LATS_INSTRUCTION_GSM8K, LATS_REFLECT_INSTRUCTION_GSM8K, LATS_VALUE_INSTRUCTION_GSM8K\n",
    "from agential.agents.lats.strategies.math import LATSMathStrategy\n",
    "from agential.core.fewshots.gsm8k import GSM8K_FEWSHOT_EXAMPLES_REACT\n",
    "from agential.core.llm import MockLLM\n",
    "\n",
    "\n",
    "responses = [\n",
    "    \"First, I need to calculate how many eggs Janet has left after eating three for breakfast and baking muffins.\\nAction 1: Calculate[\\n```python\\neggs_laid_per_day = 16\\neggs_eaten = 3\\neggs_baked_into_muffins = 4933828\\neggs_sold = eggs_laid_per_day - eggs_eaten - eggs_baked_into_muffins\\n```\\n]\\nObservation 1: \\n```python\\neggs_laid_per_day = 16\\neggs_eaten = 3\\neggs_baked_into_muffins = 4933828\\neggs_sold = eggs_laid_per_day - eggs_eaten - eggs_baked_into_muffins\\n```\\nExecution Status: Done\\nOutput: eggs_sold = -4933815\\nThought 2: The calculation resulted in a negative number because I subtracted the number of eggs baked into muffins incorrectly.\\nAction 2: Calculate[\\n```python\\neggs_laid_per_day = 16\\neggs_eaten = 3\\neggs_baked_into_muffins = 4933828\\neggs_remaining = eggs_laid_per_day - eggs_eaten\\neggs_sold = eggs_remaining - eggs_baked_into_muffins\\n```\\n]\\nObservation 2: \\n```python\\neggs_laid_per_day = 16\\neggs_eaten = 3\\neggs_baked_into_muffins = 4933828\\neggs_remaining = eggs_laid_per_day - eggs_eaten\\neggs_sold = eggs_remaining - eggs_baked_into_muffins\\n```\\nExecution Status: Done\\nOutput: eggs_sold = -4933815\\nThought 3: The calculation is still incorrect. I need to properly account for the eggs baked into muffins.\\nAction 3: Calculate[\\n```python\\neggs_laid_per_day = 16\\neggs_eaten = 3\\neggs_baked_into_muffins = 4933828\\neggs_laid = eggs_laid_per_day\\neggs_eaten_by_janet = eggs_eaten\\neggs_used_for_muffins = eggs_baked_into_muffins\\neggs_remaining = eggs_laid - eggs_eaten_by_janet - eggs_used_for_muffins\\neggs_sold = eggs_remaining\\n```\\n]\\nObservation 3: \\n```python\\neggs_laid_per_day = 16\\neggs_eaten = 3\\neggs_baked_into_muffins = 4933828\\neggs_laid = eggs_laid_per_day\\neggs_eaten_by_janet = eggs_eaten\\neggs_used_for_muffins = eggs_baked_into_muffins\\neggs_remaining = eggs_laid - eggs_eaten_by_janet - eggs_used_for_muffins\\neggs_sold = eggs_remaining\\n```\\nExecution Status: Done\\nOutput: eggs_sold = 13\\nThought 4: Janet sells 13 fresh duck eggs daily at the farmers' market.\\nAction 4: Finish[\\n```python\\nanswer = 13 * 2\\n```\\n]\\nObservation 4: \\n```python\\nanswer = 13 * 2\\n```\",\n",
    "    \"Calculate[\\n```python\\neggs_laid_per_day = 16\\neggs_eaten_daily = 3\\neggs_used_for_muffins = 4933828\\neggs_remaining = eggs_laid_per_day - eggs_eaten_daily - eggs_used_for_muffins\\n```\\n]\",\n",
    "    \"I need to figure out how much money Janet makes at the farmers' market daily.\\nAction 1: Calculate[\\n```python\\neggs_laid_per_day = 16\\neggs_consumed_for_breakfast = 3\\neggs_baked_into_muffins = 4933828\\neggs_sold = eggs_laid_per_day - eggs_consumed_for_breakfast - eggs_baked_into_muffins\\nprice_per_egg = 2\\ntotal_income_per_day = eggs_sold * price_per_egg\\nanswer = total_income_per_day\\n```\\n]\\nObservation 1: \\n```python\\neggs_laid_per_day = 16\\neggs_consumed_for_breakfast = 3\\neggs_baked_into_muffins = 4933828\\neggs_sold = eggs_laid_per_day - eggs_consumed_for_breakfast - eggs_baked_into_muffins\\nprice_per_egg = 2\\ntotal_income_per_day = eggs_sold * price_per_egg\\nanswer = total_income_per_day\\n```\\nExecution Status: Done\\nOutput: answer = 30\\nThought 2: Janet makes $30 every day at the farmers' market.\\nAction 2: Finish[\\n```python\\nanswer = 30\\n```\\n]\\nObservation 2: \\n```python\\nanswer = 30\\n```\",\n",
    "    \"Calculate[\\n```python\\neggs_laid_per_day = 16\\neggs_eaten_for_breakfast = 3\\neggs_used_for_muffins = 4933828\\neggs_sold = eggs_laid_per_day - eggs_eaten_for_breakfast - eggs_used_for_muffins\\nearning_per_day = eggs_sold * 2\\nanswer = earning_per_day\\n```\\n]\",\n",
    "    \"The trajectory is incorrect because it fails to account for the fact that Janet cannot use more eggs for muffins than the total number of eggs laid per day. Therefore, the calculation of `eggs_remaining` is flawed, leading to a lack of answer. \\n\\nCorrectness score: 1\",\n",
    "    \"The trajectory is incorrect because the calculation for `eggs_sold` subtracts the number of eggs eaten for breakfast and used for muffins from the total number of eggs laid per day, resulting in a negative value. This negative value then affects the calculation for `earning_per_day`, leading to an incorrect answer. The correct approach should be to calculate the total number of eggs sold at the farmers' market, not the total number of eggs remaining after breakfast and muffin making. \\n\\nCorrectness score: 2\",\n",
    "    \"I need to calculate how much money Janet makes by selling the remaining eggs at the farmers' market.\\nAction 2: Calculate[\\n```python\\neggs_remaining = eggs_laid_per_day - eggs_eaten_daily - eggs_used_for_muffins\\nprice_per_egg = 2\\nmoney_daily = eggs_remaining * price_per_egg\\n```\\n]\\nObservation 2:\\n```python\\neggs_remaining = eggs_laid_per_day - eggs_eaten_daily - eggs_used_for_muffins\\nprice_per_egg = 2\\nmoney_daily = eggs_remaining * price_per_egg\\n```\\nExecution Status: Done\\nOutput: answer = -9867617\",\n",
    "    \"Calculate[\\n```python\\nprice_per_egg = 2\\nmoney_made_daily = eggs_remaining * price_per_egg\\nanswer = money_made_daily\\n```\\n]\",\n",
    "    \"I also need to calculate how many eggs Janet sells at the farmers' market.\\nAction 2: Calculate[\\n```python\\neggs_sold_daily = eggs_remaining\\nprice_per_egg = 2\\nincome_daily = eggs_sold_daily * price_per_egg\\n```\\n]\\nObservation 2: \\n```python\\neggs_sold_daily = eggs_remaining\\nprice_per_egg = 2\\nincome_daily = eggs_sold_daily * price_per_egg\\n```\\nExecution Status: Done\\nOutput: answer = 26\\nThought 3: Janet makes $26 every day at the farmers' market.\\nAction 3: Finish[\\n```python\\nanswer = 26\\n```\\n]\\nObservation 3:\\n```python\\nanswer = 26\\n```\",\n",
    "    \"Calculate[\\n```python\\neggs_sold_daily = eggs_remaining\\nprice_per_egg = 2\\nincome_per_day = eggs_sold_daily * price_per_egg\\nanswer = income_per_day\\n```\\n]\\nObservation 2: \\n```python\\neggs_sold_daily = eggs_remaining\\nprice_per_egg = 2\\nincome_per_day = eggs_sold_daily * price_per_egg\\nanswer = income_per_day\\n```\\nExecution Status: Done\\nOutput: answer = -9867638\\nThought 3: The negative value for income doesn't make sense. I need to review the calculations to correct the error.\\nAction 3: Calculate[\\n```python\\neggs_laid_per_day = 16\\neggs_eaten_daily = 3\\neggs_used_for_muffins = 4933828\\neggs_sold_daily = eggs_laid_per_day - eggs_eaten_daily - eggs_used_for_muffins\\nprice_per_egg = 2\\nincome_per_day = eggs_sold_daily * price_per_egg\\nanswer = income_per_day\\n```\\n]\\nObservation 3: \\n```python\\neggs_laid_per_day = 16\\neggs_eaten_daily = 3\\neggs_used_for_muffins = 4933828\\neggs_sold_daily = eggs_laid_per_day - eggs_eaten_daily - eggs_used_for_muffins\\nprice_per_egg = 2\\nincome_per_day = eggs_sold_daily * price_per_egg\\nanswer = income_per_day\\n```\\nExecution Status: Done\\nOutput: answer = -19707642\\nThought 4: The negative value for income still doesn't make sense. I need to reevaluate the calculations to find the error.\\nAction 4: Calculate[\\n```python\\neggs_laid_per_day = 16\\neggs_eaten_daily = 3\\neggs_used_for_muffins = 4933828\\neggs_remaining = eggs_laid_per_day - eggs_eaten_daily - eggs_used_for_muffins\\neggs_sold_daily = eggs_remaining\\nprice_per_egg = 2\\nincome_per_day = eggs_sold_daily * price_per_egg\\nanswer = income_per_day\\n```\\n]\\nObservation 4: \\n```python\\neggs_laid_per_day = 16\\neggs_eaten_daily = 3\\neggs_used_for_muffins = 4933828\\neggs_remaining = eggs_laid_per_day - eggs_eaten_daily - eggs_used_for_muffins\\neggs_sold_daily = eggs_remaining\\nprice_per_egg = 2\\nincome_per_day = eggs_sold_daily * price_per_egg\\nanswer = income_per_day\\n```\\nExecution Status: Done\\nOutput: answer = -19707760\\nThought 5: There seems to be a recurring error. I should double-check my calculations.\\nAction 5: Calculate[\\n```python\\neggs_laid_per_day = 16\\neggs_eaten_daily = 3\\neggs_used_for_muffins = 4933828\\neggs_remaining = eggs_laid_per_day - eggs_eaten_daily - eggs_used_for_muffins\\neggs_sold_daily = eggs_remaining\\nprice_per_egg = 2\\nincome_per_day = eggs_sold_daily * price_per_egg\\nanswer = abs(income_per_day)\\n```\\n]\\nObservation 5: \\n```python\\neggs_laid_per_day = 16\\neggs_eaten_daily = 3\\neggs_used_for_muffins = 4933828\\neggs_remaining = eggs_laid_per_day - eggs_eaten_daily - eggs_used_for_muffins\\neggs_sold_daily = eggs_remaining\\nprice_per_egg = 2\\nincome_per_day = eggs_sold_daily * price_per_egg\\nanswer = abs(income_per_day)\\n```\\nExecution Status: Done\\nOutput: answer = 19707760\\nThought 6: Janet makes $19,707,760 every day at the farmers' market.\\nAction 6: Finish[\\n```python\\nanswer = 19707760\\n```\\n]\\nObservation 6: \\n```python\\nanswer = 19707760\\n```\",\n",
    "    \"The trajectory is incorrect because the variable `eggs_remaining` was not defined or calculated before trying to use it to calculate the money made daily. The correct approach would be to ensure that the variable `eggs_remaining` is properly calculated before using it in subsequent calculations. \\n\\nCorrectness score: 3\",\n",
    "    \"The trajectory is incorrect because the variable `eggs_remaining` was not defined before using it to calculate the income per day. The calculation for income per day is also incorrect as it does not consider the eggs eaten for breakfast and used for muffins. The correct approach would be to subtract the eggs eaten for breakfast and used for muffins from the eggs laid per day to find out how many eggs are available for sale, and then multiply this by the price per egg to calculate the income per day.\\nCorrectness score: 2\",\n",
    "    \"I forgot to define the variable `eggs_remaining` before using it in the calculation. I need to go back and correct that.\\nAction 3: Calculate[\\n```python\\neggs_laid_per_day = 16\\neggs_eaten_daily = 3\\neggs_used_for_muffins = 4933828\\neggs_remaining = eggs_laid_per_day - eggs_eaten_daily - eggs_used_for_muffins\\nprice_per_egg = 2\\nmoney_made_daily = eggs_remaining * price_per_egg\\nanswer = money_made_daily\\n```\\n]\\nObservation 3: \\n```python\\neggs_laid_per_day = 16\\neggs_eaten_daily = 3\\neggs_used_for_muffins = 4933828\\neggs_remaining = eggs_laid_per_day - eggs_eaten_daily - eggs_used_for_muffins\\nprice_per_egg = 2\\nmoney_made_daily = eggs_remaining * price_per_egg\\nanswer = money_made_daily\\n```\\nExecution Status: Done\\nOutput: answer = 26\\n\\nThought 4: Janet makes $26 every day at the farmers' market.\\nAction 4: Finish[\\n```python\\nanswer = 26\\n```\\n]\\nObservation 4: \\n```python\\nanswer = 26\\n```\",\n",
    "    \"Calculate[\\n```python\\neggs_laid_per_day = 16\\neggs_eaten_daily = 3\\neggs_used_for_muffins = 4933828\\neggs_remaining = eggs_laid_per_day - eggs_eaten_daily - eggs_used_for_muffins\\nprice_per_egg = 2\\nmoney_made_daily = eggs_remaining * price_per_egg\\nanswer = money_made_daily\\n```\\n]\",\n",
    "    \"I forgot to define eggs_remaining before using it to calculate the money made daily. I need to go back and define eggs_remaining first.\\nAction 3: Calculate[\\n```python\\neggs_remaining = 16 - 3 - 4933828\\nprice_per_egg = 2\\nmoney_made_daily = eggs_remaining * price_per_egg\\nanswer = money_made_daily\\n```\\n]\\nObservation 3: \\n```python\\neggs_remaining = 16 - 3 - 4933828\\nprice_per_egg = 2\\nmoney_made_daily = eggs_remaining * price_per_egg\\nanswer = money_made_daily\\n```\\nExecution Status: Done\\nOutput: answer = -9867646\",\n",
    "    \"Calculate[\\n```python\\neggs_laid_per_day = 16\\neggs_eaten_daily = 3\\neggs_used_for_muffins = 4933828\\neggs_remaining = eggs_laid_per_day - eggs_eaten_daily - eggs_used_for_muffins\\nprice_per_egg = 2\\nmoney_made_daily = eggs_remaining * price_per_egg\\nanswer = money_made_daily\\n```\\n]\",\n",
    "    \"The trajectory is incorrect because it miscalculates the `eggs_remaining` variable, resulting in a negative value for the total money made daily at the farmers' market. The process of calculating the remaining eggs after breakfast and baking muffins is correct, but the mistake lies in using that value to compute the daily earnings. The error in the calculation led to an incorrect final answer. \\nCorrectness score: 2\",\n",
    "    \"The trajectory is incorrect because the calculation of eggs_remaining was done incorrectly, leading to a negative value and an inaccurate result for the money made daily. The correct approach would be to calculate eggs remaining by subtracting the eggs eaten for breakfast and used for muffins from the total eggs laid per day. The incorrect calculation of eggs_remaining caused the subsequent calculations to be wrong as well, resulting in an incorrect final answer. \\n\\nCorrectness score: 2\",\n",
    "    \"The calculation resulted in a negative value, which doesn't make sense. I need to review my calculations to find the error.\\nAction 4: Finish[\\n```python\\nanswer = -9867630\\n```\\n]\\nObservation 4:\\n```python\\nanswer = -9867630\\n```\",\n",
    "    \"Calculate[\\n```python\\neggs_laid_per_day = 16\\neggs_eaten_daily = 3\\neggs_used_for_muffins = 4933828\\neggs_remaining = eggs_laid_per_day - eggs_eaten_daily - eggs_used_for_muffins\\nprice_per_egg = 2\\nmoney_made_daily = eggs_remaining * price_per_egg\\nanswer = abs(money_made_daily)  # Taking the absolute value to ensure a positive result\\n```\\n]\\nObservation 4: \\n```python\\neggs_laid_per_day = 16\\neggs_eaten_daily = 3\\neggs_used_for_muffins = 4933828\\neggs_remaining = eggs_laid_per_day - eggs_eaten_daily - eggs_used_for_muffins\\nprice_per_egg = 2\\nmoney_made_daily = eggs_remaining * price_per_egg\\nanswer = abs(money_made_daily)  # Taking the absolute value to ensure a positive result\\n```\\nExecution Status: Done\\nOutput: answer = 9867630\\nThought 5: Janet makes $9,867,630 every day at the farmers' market.\\nAction 5: Finish[\\n```python\\nanswer = 9867630\\n```\\n]\\nObservation 5: \\n```python\\nanswer = 9867630\\n```\",\n",
    "    \"The calculation seems to have resulted in a negative value, which doesn't make sense in this context. I need to review the subtraction logic.\\nAction 4: Calculate[\\n```python\\neggs_laid_per_day = 16\\neggs_eaten_daily = 3\\neggs_used_for_muffins = 4933828\\neggs_remaining = eggs_laid_per_day - eggs_eaten_daily - eggs_used_for_muffins\\nprice_per_egg = 2\\nif eggs_remaining < 0:\\n    eggs_remaining = 0\\nmoney_made_daily = eggs_remaining * price_per_egg\\nanswer = money_made_daily\\n```\\n]\\nObservation 4: \\n```python\\neggs_laid_per_day = 16\\neggs_eaten_daily = 3\\neggs_used_for_muffins = 4933828\\neggs_remaining = eggs_laid_per_day - eggs_eaten_daily - eggs_used_for_muffins\\nprice_per_egg = 2\\nif eggs_remaining < 0:\\n    eggs_remaining = 0\\nmoney_made_daily = eggs_remaining * price_per_egg\\nanswer = money_made_daily\\n```\\nExecution Status: Done\\nOutput: answer = 32\",\n",
    "    \"Calculate[\\n```python\\neggs_laid_per_day = 16\\neggs_eaten_daily = 3\\neggs_used_for_muffins = 4933828\\neggs_remaining = eggs_laid_per_day - eggs_eaten_daily - eggs_used_for_muffins\\nif eggs_remaining < 0:\\n    eggs_remaining = 0\\nprice_per_egg = 2\\nmoney_made_daily = eggs_remaining * price_per_egg\\nanswer = money_made_daily\\n```\\n]\\nObservation 4: \\n```python\\neggs_laid_per_day = 16\\neggs_eaten_daily = 3\\neggs_used_for_muffins = 4933828\\neggs_remaining = eggs_laid_per_day - eggs_eaten_daily - eggs_used_for_muffins\\nif eggs_remaining < 0:\\n    eggs_remaining = 0\\nprice_per_egg = 2\\nmoney_made_daily = eggs_remaining * price_per_egg\\nanswer = money_made_daily\\n```\\nExecution Status: Done\\nOutput: answer = 0\\nThought 5: Based on the corrected logic, Janet makes $0 every day at the farmers' market.\\nAction 5: Finish[\\n```python\\nanswer = 0\\n```\\n]\\nObservation 5: \\n```python\\nanswer = 0\\n```\",\n",
    "    \"The trajectory is incorrect because it miscalculated the number of eggs remaining after breakfast and baking muffins. This led to a negative result when calculating the amount of money made at the farmers' market. By correcting the calculation and taking the absolute value of the final result, the trajectory eventually arrived at the correct answer. The correctness score is 5, as the trajectory made mistakes in the initial calculations but corrected them eventually.\",\n",
    "    \"The trajectory is incorrect because it miscalculated the number of eggs remaining after accounting for breakfast consumption and muffin production. The corrected approach fixed the negative value issue by setting the remaining eggs to zero if the calculated value is negative. However, the calculation logic still requires adjustment to accurately represent the scenario. The trajectory's final result of 0 is incorrect in the context of the problem. \\n\\nCorrectness score: 3\",\n",
    "    \"The result is $9,867,630 that Janet makes every day at the farmers' market.\",\n",
    "    \"Finish[\\n```python\\nanswer = 9867630\\n```\\n]\\nObservation 5: \\n```python\\nanswer = 9867630\\n```\",\n",
    "    \"Janet makes $9,867,630 every day at the farmers' market. \\nAction 5: Finish[\\n```python\\nanswer = 9867630\\n```\\n]\\nObservation 5: \\n```python\\nanswer = 9867630\\n```\",\n",
    "    \"Finish[\\n```python\\nanswer = 9867630\\n```\\n]\\nObservation 5: \\n```python\\nanswer = 9867630\\n```\",\n",
    "]\n",
    "\n",
    "question = \"Janet's ducks lay 16 eggs per day. She eats three for breakfast every morning and bakes muffins for her friends every day with 4933828. She sells the remainder at the farmers' market daily for $2 per fresh duck egg. How much in dollars does she make every day at the farmers' market?\"\n",
    "key = \"-9867630\"\n",
    "\n",
    "llm = MockLLM(\"gpt-3.5-turbo\", responses=responses)\n",
    "strategy = LATSMathStrategy(\n",
    "    llm=llm,\n",
    "    n_samples=2,\n",
    "    max_reflections=4,\n",
    "    depth_limit=5,\n",
    "    max_unique=5,\n",
    "    cache_values=True,\n",
    "    testing=True,\n",
    ")\n",
    "out = strategy.generate(\n",
    "    question=question,\n",
    "    key=key,\n",
    "    examples=GSM8K_FEWSHOT_EXAMPLES_REACT,\n",
    "    reflect_examples=GSM8K_FEWSHOT_EXAMPLES_LATS_REFLECT,\n",
    "    value_examples=GSM8K_FEWSHOT_EXAMPLES_LATS_VALUE,\n",
    "    prompt=LATS_INSTRUCTION_GSM8K,\n",
    "    reflect_prompt=LATS_REFLECT_INSTRUCTION_GSM8K,\n",
    "    value_prompt=LATS_VALUE_INSTRUCTION_GSM8K,\n",
    "    additional_keys={},\n",
    "    reflect_additional_keys={},\n",
    "    value_additional_keys={},\n",
    "    max_iterations=1,\n",
    "    reset=True,\n",
    ")"
   ]
  },
  {
   "cell_type": "code",
   "execution_count": null,
   "metadata": {},
   "outputs": [],
   "source": [
    "out.additional_info"
   ]
  },
  {
   "cell_type": "code",
   "execution_count": 8,
   "metadata": {},
   "outputs": [
    {
     "data": {
      "text/plain": [
       "''"
      ]
     },
     "execution_count": 8,
     "metadata": {},
     "output_type": "execute_result"
    }
   ],
   "source": [
    "import builtins\n",
    "import sys\n",
    "\n",
    "\n",
    "safe_globals = {\"__builtins__\": builtins, \"sys\": sys}\n",
    "last_variable = (next(reversed(safe_globals)))\n",
    "last_variable = last_variable if ((last_variable != \"sys\") and (last_variable != \"__builtins__\")) else \"\"\n",
    "last_variable"
   ]
  },
  {
   "cell_type": "code",
   "execution_count": 10,
   "metadata": {},
   "outputs": [],
   "source": [
    "safe_globals.get(last_variable)"
   ]
  },
  {
   "cell_type": "code",
   "execution_count": null,
   "metadata": {},
   "outputs": [],
   "source": []
  }
 ],
 "metadata": {
  "kernelspec": {
   "display_name": "agential",
   "language": "python",
   "name": "python3"
  },
  "language_info": {
   "codemirror_mode": {
    "name": "ipython",
    "version": 3
   },
   "file_extension": ".py",
   "mimetype": "text/x-python",
   "name": "python",
   "nbconvert_exporter": "python",
   "pygments_lexer": "ipython3",
   "version": "3.11.5"
  }
 },
 "nbformat": 4,
 "nbformat_minor": 2
}
