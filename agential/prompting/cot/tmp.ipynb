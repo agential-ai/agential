{
 "cells": [
  {
   "cell_type": "code",
   "execution_count": 2,
   "metadata": {},
   "outputs": [],
   "source": [
    "from dotenv import load_dotenv\n",
    "load_dotenv()\n",
    "\n",
    "import os\n",
    "\n",
    "from agential.core.llm import LLM\n",
    "\n",
    "llm = LLM(\"gpt-3.5-turbo\", organization=os.getenv(\"OPENAI_ORGANIZATION\"))"
   ]
  },
  {
   "cell_type": "code",
   "execution_count": null,
   "metadata": {},
   "outputs": [],
   "source": [
    "from agential.agents.reflexion.prompts import GSM8K_FEWSHOT_EXAMPLES_REFLEXION_COT_REFLECT, GSM8K_FEWSHOT_EXAMPLES_REFLEXION_REACT_REFLECT, REFLEXION_COT_INSTRUCTION_GSM8K, REFLEXION_COT_REFLECT_INSTRUCTION_GSM8K, REFLEXION_REACT_INSTRUCTION_GSM8K, REFLEXION_REACT_REFLECT_INSTRUCTION_GSM8K\n",
    "from agential.agents.reflexion.strategies.math import ReflexionCoTMathStrategy, ReflexionReActMathStrategy\n",
    "from agential.agents.self_refine.prompts import GSM8K_CRITIQUE_FEWSHOT_EXAMPLES, GSM8K_REFINE_FEWSHOT_EXAMPLES, HUMANEVAL_CRITIQUE_FEWSHOT_EXAMPLES, HUMANEVAL_REFINE_FEWSHOT_EXAMPLES, SELF_REFINE_CRITIQUE_INSTRUCTION_GSM8K, SELF_REFINE_CRITIQUE_INSTRUCTION_HUMANEVAL, SELF_REFINE_INSTRUCTION_GSM8K, SELF_REFINE_INSTRUCTION_HUMANEVAL, SELF_REFINE_REFINE_INSTRUCTION_GSM8K, SELF_REFINE_REFINE_INSTRUCTION_HUMANEVAL\n",
    "from agential.agents.self_refine.strategies.code import SelfRefineCodeStrategy\n",
    "from agential.agents.self_refine.strategies.math import SelfRefineMathStrategy\n",
    "from agential.core.fewshots.gsm8k import GSM8K_FEWSHOT_EXAMPLES_COT, GSM8K_FEWSHOT_EXAMPLES_POT, GSM8K_FEWSHOT_EXAMPLES_REACT\n",
    "from agential.core.fewshots.humaneval import HUMANEVAL_FEWSHOT_EXAMPLES_POT\n",
    "\n",
    "question = \"Janet's ducks lay 16 eggs per day. She eats three for breakfast every morning and bakes muffins for her friends every day with 4933828. She sells the remainder at the farmers' market daily for $2 per fresh duck egg. How much in dollars does she make every day at the farmers' market?\"\n",
    "key = \"-9867630\"\n",
    "\n",
    "strategy = ReflexionCoTMathStrategy(llm=llm, testing=True)\n",
    "out = strategy.generate(\n",
    "    question=question,\n",
    "    key=key,\n",
    "    examples=GSM8K_FEWSHOT_EXAMPLES_COT,\n",
    "    reflect_examples=GSM8K_FEWSHOT_EXAMPLES_REFLEXION_COT_REFLECT,\n",
    "    prompt=REFLEXION_COT_INSTRUCTION_GSM8K,\n",
    "    reflect_prompt=REFLEXION_COT_REFLECT_INSTRUCTION_GSM8K,\n",
    "    reflect_strategy=\"reflexion\",\n",
    "    additional_keys={},\n",
    "    reflect_additional_keys={},\n",
    "    patience=3,\n",
    "    reset=True,\n",
    ")"
   ]
  },
  {
   "cell_type": "code",
   "execution_count": null,
   "metadata": {},
   "outputs": [],
   "source": [
    "out.additional_info[0]"
   ]
  },
  {
   "cell_type": "code",
   "execution_count": null,
   "metadata": {},
   "outputs": [],
   "source": [
    "out"
   ]
  },
  {
   "cell_type": "code",
   "execution_count": null,
   "metadata": {},
   "outputs": [],
   "source": []
  }
 ],
 "metadata": {
  "kernelspec": {
   "display_name": "agential",
   "language": "python",
   "name": "python3"
  },
  "language_info": {
   "codemirror_mode": {
    "name": "ipython",
    "version": 3
   },
   "file_extension": ".py",
   "mimetype": "text/x-python",
   "name": "python",
   "nbconvert_exporter": "python",
   "pygments_lexer": "ipython3",
   "version": "3.11.5"
  }
 },
 "nbformat": 4,
 "nbformat_minor": 2
}
