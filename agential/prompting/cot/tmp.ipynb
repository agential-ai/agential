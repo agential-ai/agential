{
 "cells": [
  {
   "cell_type": "code",
   "execution_count": null,
   "metadata": {},
   "outputs": [],
   "source": [
    "from dotenv import load_dotenv\n",
    "load_dotenv()\n",
    "\n",
    "import os\n",
    "\n",
    "from agential.core.llm import LLM\n",
    "\n",
    "llm = LLM(\"gpt-3.5-turbo\", organization=os.getenv(\"OPENAI_ORGANIZATION\"))"
   ]
  },
  {
   "cell_type": "code",
   "execution_count": null,
   "metadata": {},
   "outputs": [],
   "source": [
    "from agential.prompting.cot.strategies.general import CoTGeneralStrategy\n",
    "from agential.prompting.cot.strategies.math import CoTMathStrategy\n",
    "from agential.prompting.cot.strategies.code import CoTCodeStrategy"
   ]
  },
  {
   "cell_type": "code",
   "execution_count": null,
   "metadata": {},
   "outputs": [],
   "source": [
    "from agential.core.fewshots.ambignq import AMBIGNQ_FEWSHOT_EXAMPLES_COT, AMBIGNQ_FEWSHOT_EXAMPLES_DIRECT\n",
    "from agential.core.fewshots.fever import FEVER_FEWSHOT_EXAMPLES_COT, FEVER_FEWSHOT_EXAMPLES_DIRECT\n",
    "from agential.core.fewshots.gsm8k import GSM8K_FEWSHOT_EXAMPLES_COT, GSM8K_FEWSHOT_EXAMPLES_POT\n",
    "from agential.core.fewshots.hotpotqa import HOTPOTQA_FEWSHOT_EXAMPLES_COT, HOTPOTQA_FEWSHOT_EXAMPLES_DIRECT\n",
    "from agential.core.fewshots.humaneval import HUMANEVAL_FEWSHOT_EXAMPLES_COT, HUMANEVAL_FEWSHOT_EXAMPLES_POT\n",
    "from agential.core.fewshots.mbpp import MBPP_FEWSHOT_EXAMPLES_COT, MBPP_FEWSHOT_EXAMPLES_POT\n",
    "from agential.core.fewshots.svamp import SVAMP_FEWSHOT_EXAMPLES_COT, SVAMP_FEWSHOT_EXAMPLES_POT\n",
    "from agential.core.fewshots.tabmwp import TABMWP_FEWSHOT_EXAMPLES_COT\n",
    "from agential.prompting.cot.prompts import COT_INSTRUCTION_AMBIGNQ, COT_INSTRUCTION_FEVER, COT_INSTRUCTION_GSM8K, COT_INSTRUCTION_HOTPOTQA, COT_INSTRUCTION_HUMANEVAL, COT_INSTRUCTION_MBPP, COT_INSTRUCTION_SVAMP, COT_INSTRUCTION_TABMWP\n",
    "from agential.prompting.standard.prompts import STANDARD_INSTRUCTION_AMBIGNQ, STANDARD_INSTRUCTION_FEVER, STANDARD_INSTRUCTION_GSM8K, STANDARD_INSTRUCTION_HOTPOTQA, STANDARD_INSTRUCTION_HUMANEVAL, STANDARD_INSTRUCTION_MBPP, STANDARD_INSTRUCTION_SVAMP\n",
    "from agential.prompting.standard.strategies.code import StandardCodeStrategy\n",
    "from agential.prompting.standard.strategies.math import StandardMathStrategy\n",
    "\n",
    "method = StandardMathStrategy(llm=llm)\n",
    "\n",
    "question = \"There are 87 oranges and 290 bananas in Philip's collection. If the bananas are organized into 2 groups and oranges are organized into 93 groups. How big is each group of bananas?\"\n",
    "key = \"145\"\n",
    "\n",
    "out = method.generate(\n",
    "    question=question,\n",
    "    key=key,\n",
    "    examples=SVAMP_FEWSHOT_EXAMPLES_POT,\n",
    "    prompt=STANDARD_INSTRUCTION_SVAMP,\n",
    "    additional_keys={},\n",
    "    num_retries=3,\n",
    "    warming=[0.1, 0.2, 0.3]\n",
    ")"
   ]
  },
  {
   "cell_type": "code",
   "execution_count": null,
   "metadata": {},
   "outputs": [],
   "source": [
    "out.additional_info"
   ]
  },
  {
   "cell_type": "code",
   "execution_count": null,
   "metadata": {},
   "outputs": [],
   "source": [
    "print(out.answer)"
   ]
  },
  {
   "cell_type": "code",
   "execution_count": null,
   "metadata": {},
   "outputs": [],
   "source": []
  }
 ],
 "metadata": {
  "kernelspec": {
   "display_name": "agential",
   "language": "python",
   "name": "python3"
  },
  "language_info": {
   "codemirror_mode": {
    "name": "ipython",
    "version": 3
   },
   "file_extension": ".py",
   "mimetype": "text/x-python",
   "name": "python",
   "nbconvert_exporter": "python",
   "pygments_lexer": "ipython3",
   "version": "3.11.5"
  }
 },
 "nbformat": 4,
 "nbformat_minor": 2
}
