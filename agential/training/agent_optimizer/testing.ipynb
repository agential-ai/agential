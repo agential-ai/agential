{
 "cells": [
  {
   "cell_type": "code",
   "execution_count": 2,
   "metadata": {},
   "outputs": [
    {
     "ename": "TypeError",
     "evalue": "Can't instantiate abstract class AgentOptimizerMemory with abstract method add_memories",
     "output_type": "error",
     "traceback": [
      "\u001b[0;31m---------------------------------------------------------------------------\u001b[0m",
      "\u001b[0;31mTypeError\u001b[0m                                 Traceback (most recent call last)",
      "Cell \u001b[0;32mIn[2], line 34\u001b[0m\n\u001b[1;32m     30\u001b[0m \t\u001b[38;5;28;01massert\u001b[39;00m aomem\u001b[38;5;241m.\u001b[39mfunctions_list[\u001b[38;5;241m0\u001b[39m][\u001b[38;5;124m\"\u001b[39m\u001b[38;5;124mpackages\u001b[39m\u001b[38;5;124m\"\u001b[39m] \u001b[38;5;241m==\u001b[39m packages\n\u001b[1;32m     31\u001b[0m \t\u001b[38;5;28;01massert\u001b[39;00m aomem\u001b[38;5;241m.\u001b[39mfunctions_list[\u001b[38;5;241m0\u001b[39m][\u001b[38;5;124m\"\u001b[39m\u001b[38;5;124mcode\u001b[39m\u001b[38;5;124m\"\u001b[39m] \u001b[38;5;241m==\u001b[39m code\n\u001b[0;32m---> 34\u001b[0m \u001b[43mtest_add\u001b[49m\u001b[43m(\u001b[49m\u001b[43m)\u001b[49m\n\u001b[1;32m     36\u001b[0m \u001b[38;5;124;03m'''\u001b[39;00m\n\u001b[1;32m     37\u001b[0m \u001b[38;5;124;03mdef add_function(\u001b[39;00m\n\u001b[1;32m     38\u001b[0m \u001b[38;5;124;03m\tself,\u001b[39;00m\n\u001b[0;32m   (...)\u001b[0m\n\u001b[1;32m     64\u001b[0m \u001b[38;5;124;03m\tself.functions_list.append(func_info)\u001b[39;00m\n\u001b[1;32m     65\u001b[0m \u001b[38;5;124;03m'''\u001b[39;00m\n",
      "Cell \u001b[0;32mIn[2], line 12\u001b[0m, in \u001b[0;36mtest_add\u001b[0;34m()\u001b[0m\n\u001b[1;32m      8\u001b[0m \u001b[38;5;28;01mdef\u001b[39;00m \u001b[38;5;21mtest_add\u001b[39m():\n\u001b[1;32m     10\u001b[0m \u001b[38;5;250m\t\u001b[39m\u001b[38;5;124;03m\"\"\"Add a function to the Agent Optimizer function list.\"\"\"\u001b[39;00m\n\u001b[0;32m---> 12\u001b[0m \taomem \u001b[38;5;241m=\u001b[39m \u001b[43mAgentOptimizerMemory\u001b[49m\u001b[43m(\u001b[49m\u001b[43m)\u001b[49m\n\u001b[1;32m     14\u001b[0m \tname \u001b[38;5;241m=\u001b[39m \u001b[38;5;124m\"\u001b[39m\u001b[38;5;124madd nums\u001b[39m\u001b[38;5;124m\"\u001b[39m\n\u001b[1;32m     15\u001b[0m \tdescription \u001b[38;5;241m=\u001b[39m \u001b[38;5;124m\"\u001b[39m\u001b[38;5;124mfunc to add nums\u001b[39m\u001b[38;5;124m\"\u001b[39m\n",
      "\u001b[0;31mTypeError\u001b[0m: Can't instantiate abstract class AgentOptimizerMemory with abstract method add_memories"
     ]
    }
   ],
   "source": [
    "from typing import Any, Dict\n",
    "\n",
    "from agential.training.agent_optimizer.memory import AgentOptimizerMemory\n",
    "\n",
    "\n",
    "functions = []\n",
    "\n",
    "def test_add():\n",
    "\n",
    "\t\"\"\"Add a function to the Agent Optimizer function list.\"\"\"\n",
    "\n",
    "\taomem = AgentOptimizerMemory()\n",
    "\n",
    "\tname = \"add nums\"\n",
    "\tdescription = \"func to add nums\"\n",
    "\targuments = {\"num1\": int, \"num2\": int}\n",
    "\tpackages = \"math\"\n",
    "\tcode = \"\"\"\n",
    "\tdef add_nums(num1, num2):\n",
    "\t\treturn num1 + num2\n",
    "\t\"\"\"\n",
    "\n",
    "\taomem.add_function(name, description, arguments, packages, code)\n",
    "\tprint(aomem.functions_list)\n",
    "\n",
    "\tassert len(aomem.functions_list) == 1\n",
    "\tassert aomem.functions_list[0][\"name\"] == name\n",
    "\tassert aomem.functions_list[0][\"description\"] == description\n",
    "\tassert aomem.functions_list[0][\"arguments\"] == arguments\n",
    "\tassert aomem.functions_list[0][\"packages\"] == packages\n",
    "\tassert aomem.functions_list[0][\"code\"] == code\n",
    "\n",
    "\n",
    "test_add()\n",
    "\n",
    "'''\n",
    "def add_function(\n",
    "\tself,\n",
    "\tname: str,\n",
    "\tdescription: str,\n",
    "\targuments: Dict[str, Any],\n",
    "\tpackages: str,\n",
    "\tcode: str,\n",
    ") -> None:\n",
    "\t\"\"\"Add a function to the Agent Optimizer function list.\n",
    "\n",
    "\tArgs:\n",
    "\n",
    "\tname (str): The name of the function.\n",
    "\tdescription (str): The description of the function.\n",
    "\targuments (Dict[str, Any]): The arguments of the function.\n",
    "\tpackages (str): The packages used in the function.\n",
    "\tcode (str): The code of the function.\n",
    "\t\"\"\"\n",
    "\n",
    "\tfunc_info = {\n",
    "\t\t\"name\": name,\n",
    "\t\t\"description\": description,\n",
    "\t\t\"arguments\": arguments,\n",
    "\t\t\"packages\": packages,\n",
    "\t\t\"code\": code,\n",
    "\t}\n",
    "\n",
    "\tself.functions_list.append(func_info)\n",
    "'''"
   ]
  }
 ],
 "metadata": {
  "kernelspec": {
   "display_name": "agential",
   "language": "python",
   "name": "python3"
  },
  "language_info": {
   "codemirror_mode": {
    "name": "ipython",
    "version": 3
   },
   "file_extension": ".py",
   "mimetype": "text/x-python",
   "name": "python",
   "nbconvert_exporter": "python",
   "pygments_lexer": "ipython3",
   "version": "3.11.5"
  }
 },
 "nbformat": 4,
 "nbformat_minor": 2
}
