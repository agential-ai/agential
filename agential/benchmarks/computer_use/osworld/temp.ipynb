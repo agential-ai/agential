{
 "cells": [
  {
   "cell_type": "code",
   "execution_count": 7,
   "metadata": {},
   "outputs": [],
   "source": [
    "from agential.benchmarks.computer_use.osworld.osworld import OSWorld"
   ]
  },
  {
   "cell_type": "code",
   "execution_count": 8,
   "metadata": {},
   "outputs": [
    {
     "name": "stdout",
     "output_type": "stream",
     "text": [
      "/Users/chuongnguyen/opt/anaconda3/envs/agential/bin:/Users/chuongnguyen/.local/pipx/venvs/poetry/bin:/Users/chuongnguyen/.local/pipx/venvs/poetry/bin:/usr/bin:/bin:/usr/sbin:/sbin:/Applications/VMware Fusion.app/Contents/Public:/Applications/VMware Fusion.app/Contents/Public\n",
      "Error: Unrecognized command: your_command_here\n",
      "\n",
      "\n"
     ]
    }
   ],
   "source": [
    "import os\n",
    "import subprocess\n",
    "\n",
    "# Add vmrun path to the PATH environment variable\n",
    "os.environ[\"PATH\"] += \":/Applications/VMware Fusion.app/Contents/Public\"\n",
    "\n",
    "# Verify the new PATH\n",
    "print(os.environ['PATH'])\n",
    "\n",
    "# Run vmrun using the full path\n",
    "command = [\"/Applications/VMware Fusion.app/Contents/Public/vmrun\", \"your_command_here\"]\n",
    "result = subprocess.run(command, capture_output=True, text=True)\n",
    "\n",
    "# Print output or error\n",
    "print(result.stdout)\n",
    "print(result.stderr)\n"
   ]
  },
  {
   "cell_type": "code",
   "execution_count": 9,
   "metadata": {},
   "outputs": [],
   "source": [
    "VMWARE_VM_DATA = f\"{os.getcwd()}/vmware_vm_data\"\n",
    "UBUNTUO = f\"{os.getcwd()}/vmware_vm_data/Ubuntu0\"\n",
    "UBUNTUO_VMX = f\"{os.getcwd()}/vmware_vm_data/Ubuntu0/Ubuntu0.vmx\""
   ]
  },
  {
   "cell_type": "code",
   "execution_count": 10,
   "metadata": {},
   "outputs": [
    {
     "name": "stdout",
     "output_type": "stream",
     "text": [
      "Starting VMware VM...\n"
     ]
    }
   ],
   "source": [
    "env = OSWorld(action_space=\"pyautogui\")"
   ]
  },
  {
   "cell_type": "code",
   "execution_count": 11,
   "metadata": {},
   "outputs": [
    {
     "name": "stdout",
     "output_type": "stream",
     "text": [
      "Starting VMware VM...\n",
      "{'error': '', 'output': '', 'returncode': 1, 'status': 'success'}\n",
      " {'include': ['spotify'], 'exclude': ['not found']}\n"
     ]
    }
   ],
   "source": [
    "obs = env.reset()\n",
    "obs, reward, done, info = env.step(action=\"pyautogui.rightClick()\")\n",
    "\n",
    "evaluate_result = env.evaluate()\n",
    "render_result = env.render()\n",
    "env.close()"
   ]
  },
  {
   "cell_type": "code",
   "execution_count": 15,
   "metadata": {},
   "outputs": [
    {
     "name": "stdout",
     "output_type": "stream",
     "text": [
      "Starting VMware VM...\n"
     ]
    }
   ],
   "source": [
    "obs = env.reset()"
   ]
  },
  {
   "cell_type": "code",
   "execution_count": 22,
   "metadata": {},
   "outputs": [
    {
     "name": "stdout",
     "output_type": "stream",
     "text": [
      "I want to install Spotify on my current system. Could you please help me?\n"
     ]
    }
   ],
   "source": [
    "print(obs[\"instruction\"])"
   ]
  },
  {
   "cell_type": "code",
   "execution_count": 14,
   "metadata": {},
   "outputs": [
    {
     "name": "stdout",
     "output_type": "stream",
     "text": [
      "<class 'bytes'>\n"
     ]
    }
   ],
   "source": [
    "print(type(render_result))"
   ]
  },
  {
   "cell_type": "code",
   "execution_count": 10,
   "metadata": {},
   "outputs": [
    {
     "name": "stdout",
     "output_type": "stream",
     "text": [
      "<class 'dict'>\n",
      "0\n",
      "False\n",
      "<class 'dict'>\n"
     ]
    }
   ],
   "source": [
    "print(type(obs))\n",
    "print(reward)\n",
    "print(done)\n",
    "print(type(info))"
   ]
  },
  {
   "cell_type": "code",
   "execution_count": 6,
   "metadata": {},
   "outputs": [
    {
     "data": {
      "text/plain": [
       "0.0"
      ]
     },
     "execution_count": 6,
     "metadata": {},
     "output_type": "execute_result"
    }
   ],
   "source": [
    "evaluate_result"
   ]
  },
  {
   "cell_type": "code",
   "execution_count": 11,
   "metadata": {},
   "outputs": [],
   "source": [
    "import unittest\n",
    "from unittest.mock import patch, MagicMock\n",
    "from typing import Dict\n",
    "\n",
    "VMWARE_VM_DATA = f\"{os.getcwd()}/vmware_vm_data\"\n",
    "UBUNTUO = f\"{os.getcwd()}/vmware_vm_data/Ubuntu0\"\n",
    "UBUNTUO_VMX = f\"{os.getcwd()}/vmware_vm_data/Ubuntu0/Ubuntu0.vmx\""
   ]
  },
  {
   "cell_type": "code",
   "execution_count": 15,
   "metadata": {},
   "outputs": [
    {
     "name": "stdout",
     "output_type": "stream",
     "text": [
      "/Users/chuongnguyen/Desktop/LLM Project/Agential/agential/agential/benchmarks/computer_use/osworld/vmware_vm_data\n"
     ]
    }
   ],
   "source": [
    "print(VMWARE_VM_DATA)"
   ]
  },
  {
   "cell_type": "code",
   "execution_count": 12,
   "metadata": {},
   "outputs": [],
   "source": [
    "def setUp():\n",
    "    \"\"\"\n",
    "    Set up the virtual machine and OSWorld environment.\n",
    "    \"\"\"\n",
    "    vmx_path = UBUNTUO_VMX\n",
    "    vmrun_path = \"/Applications/VMware Fusion.app/Contents/Public/vmrun\"\n",
    "    \n",
    "    # Ensure vmrun is available\n",
    "    if not os.path.exists(vmrun_path):\n",
    "        print(\"vmrun not found. Cannot proceed with the test.\")\n",
    "    \n",
    "    # Ensure VMX file exists\n",
    "    if not os.path.exists(vmx_path):\n",
    "        print(\"VMX file not found. Cannot proceed with the test.\")\n",
    "    \n",
    "    # Start the virtual machine\n",
    "    start_command = [vmrun_path, \"start\", vmx_path]\n",
    "    result = subprocess.run(start_command, capture_output=True, text=True)\n",
    "    if result.returncode != 0:\n",
    "        print(f\"Failed to start VM: {result.stderr}\")\n",
    "    \n",
    "    # Initialize OSWorld environment\n",
    "    return OSWorld(action_space=\"pyautogui\")"
   ]
  },
  {
   "cell_type": "code",
   "execution_count": 14,
   "metadata": {},
   "outputs": [
    {
     "name": "stdout",
     "output_type": "stream",
     "text": [
      "Starting VMware VM...\n"
     ]
    }
   ],
   "source": [
    "\"\"\"\n",
    "Test the step function of OSWorld in the virtual machine.\n",
    "\"\"\"\n",
    "env = setUp()\n",
    "# Perform an action in the environment\n",
    "obs, reward, done, info = env.step(action=\"pyautogui.rightClick()\")\n",
    "\n",
    "# Assertions\n",
    "assert isinstance(obs, Dict)\n",
    "assert reward == 0\n",
    "assert done == False\n",
    "assert isinstance(info, Dict)"
   ]
  },
  {
   "cell_type": "code",
   "execution_count": null,
   "metadata": {},
   "outputs": [],
   "source": []
  }
 ],
 "metadata": {
  "kernelspec": {
   "display_name": "Python 3.11.11 ('agential')",
   "language": "python",
   "name": "python3"
  },
  "language_info": {
   "codemirror_mode": {
    "name": "ipython",
    "version": 3
   },
   "file_extension": ".py",
   "mimetype": "text/x-python",
   "name": "python",
   "nbconvert_exporter": "python",
   "pygments_lexer": "ipython3",
   "version": "3.11.11"
  },
  "orig_nbformat": 4,
  "vscode": {
   "interpreter": {
    "hash": "5395d60bee98fd71c9d354a5953f895827353ba27396e461a44062dbf07942d0"
   }
  }
 },
 "nbformat": 4,
 "nbformat_minor": 2
}
