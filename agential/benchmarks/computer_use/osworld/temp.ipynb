{
 "cells": [
  {
   "cell_type": "code",
   "execution_count": 1,
   "metadata": {},
   "outputs": [
    {
     "name": "stderr",
     "output_type": "stream",
     "text": [
      "/Users/chuongnguyen/opt/anaconda3/envs/agential/lib/python3.11/site-packages/tqdm/auto.py:21: TqdmWarning: IProgress not found. Please update jupyter and ipywidgets. See https://ipywidgets.readthedocs.io/en/stable/user_install.html\n",
      "  from .autonotebook import tqdm as notebook_tqdm\n"
     ]
    }
   ],
   "source": [
    "from agential.benchmarks.computer_use.osworld.osworld import OSWorld"
   ]
  },
  {
   "cell_type": "code",
   "execution_count": 3,
   "metadata": {},
   "outputs": [
    {
     "name": "stderr",
     "output_type": "stream",
     "text": [
      "Progress: 100%|##########| 10.9G/10.9G [14:13<00:00, 13.7MiB/s] \n",
      "Attempt 1 failed: \n",
      "Attempt 2 failed: \n",
      "Attempt 3 failed: \n",
      "Attempt 4 failed: \n",
      "Attempt 5 failed: \n",
      "Attempt 6 failed: \n",
      "Attempt 7 failed: \n",
      "Attempt 8 failed: \n",
      "Attempt 9 failed: \n",
      "Attempt 10 failed: \n",
      "Attempt 11 failed: \n",
      "Attempt 12 failed: \n",
      "Attempt 13 failed: \n",
      "Attempt 14 failed: \n",
      "Attempt 15 failed: \n",
      "Attempt 16 failed: \n",
      "Attempt 17 failed: \n",
      "Attempt 18 failed: \n",
      "Attempt 19 failed: \n",
      "Attempt 20 failed: \n",
      "Maximum retry attempts reached, failed to start the virtual machine.\n"
     ]
    },
    {
     "name": "stdout",
     "output_type": "stream",
     "text": [
      "Starting VMware VM...\n",
      "VM started successfully.\n"
     ]
    }
   ],
   "source": [
    "env = OSWorld(action_space=\"pyautogui\")"
   ]
  },
  {
   "cell_type": "code",
   "execution_count": null,
   "metadata": {},
   "outputs": [],
   "source": [
    "from desktop_env.desktop_env import DesktopEnv\n",
    "from agential.benchmarks.computer_use.osworld import initializer"
   ]
  },
  {
   "cell_type": "code",
   "execution_count": null,
   "metadata": {},
   "outputs": [],
   "source": [
    "DesktopEnv.__init__ = initializer\n",
    "env = DesktopEnv(action_space=\"pyautogui\")"
   ]
  },
  {
   "cell_type": "code",
   "execution_count": null,
   "metadata": {},
   "outputs": [],
   "source": [
    "print(initializer)"
   ]
  },
  {
   "cell_type": "code",
   "execution_count": null,
   "metadata": {},
   "outputs": [],
   "source": [
    "import os\n",
    "\n",
    "current_directory = os.getcwd()\n",
    "print(\"Current Directory:\", current_directory)\n"
   ]
  },
  {
   "cell_type": "code",
   "execution_count": null,
   "metadata": {},
   "outputs": [],
   "source": [
    "if os.path.exists(os.getcwd() + \"/vmware_vm_data\"):\n",
    "    print(\"he\")"
   ]
  },
  {
   "cell_type": "code",
   "execution_count": null,
   "metadata": {},
   "outputs": [],
   "source": []
  }
 ],
 "metadata": {
  "kernelspec": {
   "display_name": "Python 3.11.11 ('agential')",
   "language": "python",
   "name": "python3"
  },
  "language_info": {
   "codemirror_mode": {
    "name": "ipython",
    "version": 3
   },
   "file_extension": ".py",
   "mimetype": "text/x-python",
   "name": "python",
   "nbconvert_exporter": "python",
   "pygments_lexer": "ipython3",
   "version": "3.11.11"
  },
  "orig_nbformat": 4,
  "vscode": {
   "interpreter": {
    "hash": "5395d60bee98fd71c9d354a5953f895827353ba27396e461a44062dbf07942d0"
   }
  }
 },
 "nbformat": 4,
 "nbformat_minor": 2
}
