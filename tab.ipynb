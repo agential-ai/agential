{
 "cells": [
  {
   "cell_type": "code",
   "execution_count": 1,
   "metadata": {},
   "outputs": [
    {
     "name": "stdout",
     "output_type": "stream",
     "text": [
      "Requirement already satisfied: langchain_community in c:\\users\\mrtar\\.conda\\envs\\discussion-agents\\lib\\site-packages (0.0.8)\n",
      "Requirement already satisfied: PyYAML>=5.3 in c:\\users\\mrtar\\.conda\\envs\\discussion-agents\\lib\\site-packages (from langchain_community) (6.0.1)\n",
      "Requirement already satisfied: SQLAlchemy<3,>=1.4 in c:\\users\\mrtar\\.conda\\envs\\discussion-agents\\lib\\site-packages (from langchain_community) (2.0.25)\n",
      "Requirement already satisfied: aiohttp<4.0.0,>=3.8.3 in c:\\users\\mrtar\\.conda\\envs\\discussion-agents\\lib\\site-packages (from langchain_community) (3.9.1)\n",
      "Requirement already satisfied: dataclasses-json<0.7,>=0.5.7 in c:\\users\\mrtar\\.conda\\envs\\discussion-agents\\lib\\site-packages (from langchain_community) (0.6.3)\n",
      "Requirement already satisfied: langchain-core<0.2,>=0.1.5 in c:\\users\\mrtar\\.conda\\envs\\discussion-agents\\lib\\site-packages (from langchain_community) (0.1.23)\n",
      "Requirement already satisfied: langsmith<0.1.0,>=0.0.63 in c:\\users\\mrtar\\.conda\\envs\\discussion-agents\\lib\\site-packages (from langchain_community) (0.0.87)\n",
      "Requirement already satisfied: numpy<2,>=1 in c:\\users\\mrtar\\.conda\\envs\\discussion-agents\\lib\\site-packages (from langchain_community) (1.26.3)\n",
      "Requirement already satisfied: requests<3,>=2 in c:\\users\\mrtar\\.conda\\envs\\discussion-agents\\lib\\site-packages (from langchain_community) (2.31.0)\n",
      "Requirement already satisfied: tenacity<9.0.0,>=8.1.0 in c:\\users\\mrtar\\.conda\\envs\\discussion-agents\\lib\\site-packages (from langchain_community) (8.2.3)\n",
      "Requirement already satisfied: attrs>=17.3.0 in c:\\users\\mrtar\\.conda\\envs\\discussion-agents\\lib\\site-packages (from aiohttp<4.0.0,>=3.8.3->langchain_community) (23.2.0)\n",
      "Requirement already satisfied: multidict<7.0,>=4.5 in c:\\users\\mrtar\\.conda\\envs\\discussion-agents\\lib\\site-packages (from aiohttp<4.0.0,>=3.8.3->langchain_community) (6.0.4)\n",
      "Requirement already satisfied: yarl<2.0,>=1.0 in c:\\users\\mrtar\\.conda\\envs\\discussion-agents\\lib\\site-packages (from aiohttp<4.0.0,>=3.8.3->langchain_community) (1.9.4)\n",
      "Requirement already satisfied: frozenlist>=1.1.1 in c:\\users\\mrtar\\.conda\\envs\\discussion-agents\\lib\\site-packages (from aiohttp<4.0.0,>=3.8.3->langchain_community) (1.4.1)\n",
      "Requirement already satisfied: aiosignal>=1.1.2 in c:\\users\\mrtar\\.conda\\envs\\discussion-agents\\lib\\site-packages (from aiohttp<4.0.0,>=3.8.3->langchain_community) (1.3.1)\n",
      "Requirement already satisfied: async-timeout<5.0,>=4.0 in c:\\users\\mrtar\\.conda\\envs\\discussion-agents\\lib\\site-packages (from aiohttp<4.0.0,>=3.8.3->langchain_community) (4.0.3)\n",
      "Requirement already satisfied: marshmallow<4.0.0,>=3.18.0 in c:\\users\\mrtar\\.conda\\envs\\discussion-agents\\lib\\site-packages (from dataclasses-json<0.7,>=0.5.7->langchain_community) (3.20.1)\n",
      "Requirement already satisfied: typing-inspect<1,>=0.4.0 in c:\\users\\mrtar\\.conda\\envs\\discussion-agents\\lib\\site-packages (from dataclasses-json<0.7,>=0.5.7->langchain_community) (0.9.0)\n",
      "Requirement already satisfied: anyio<5,>=3 in c:\\users\\mrtar\\.conda\\envs\\discussion-agents\\lib\\site-packages (from langchain-core<0.2,>=0.1.5->langchain_community) (4.2.0)\n",
      "Requirement already satisfied: jsonpatch<2.0,>=1.33 in c:\\users\\mrtar\\.conda\\envs\\discussion-agents\\lib\\site-packages (from langchain-core<0.2,>=0.1.5->langchain_community) (1.33)\n",
      "Requirement already satisfied: packaging<24.0,>=23.2 in c:\\users\\mrtar\\.conda\\envs\\discussion-agents\\lib\\site-packages (from langchain-core<0.2,>=0.1.5->langchain_community) (23.2)\n",
      "Requirement already satisfied: pydantic<3,>=1 in c:\\users\\mrtar\\.conda\\envs\\discussion-agents\\lib\\site-packages (from langchain-core<0.2,>=0.1.5->langchain_community) (2.5.3)\n",
      "Requirement already satisfied: charset-normalizer<4,>=2 in c:\\users\\mrtar\\.conda\\envs\\discussion-agents\\lib\\site-packages (from requests<3,>=2->langchain_community) (3.3.2)\n",
      "Requirement already satisfied: idna<4,>=2.5 in c:\\users\\mrtar\\.conda\\envs\\discussion-agents\\lib\\site-packages (from requests<3,>=2->langchain_community) (3.6)\n",
      "Requirement already satisfied: urllib3<3,>=1.21.1 in c:\\users\\mrtar\\.conda\\envs\\discussion-agents\\lib\\site-packages (from requests<3,>=2->langchain_community) (2.1.0)\n",
      "Requirement already satisfied: certifi>=2017.4.17 in c:\\users\\mrtar\\.conda\\envs\\discussion-agents\\lib\\site-packages (from requests<3,>=2->langchain_community) (2023.11.17)\n",
      "Requirement already satisfied: typing-extensions>=4.6.0 in c:\\users\\mrtar\\.conda\\envs\\discussion-agents\\lib\\site-packages (from SQLAlchemy<3,>=1.4->langchain_community) (4.9.0)\n",
      "Requirement already satisfied: greenlet!=0.4.17 in c:\\users\\mrtar\\.conda\\envs\\discussion-agents\\lib\\site-packages (from SQLAlchemy<3,>=1.4->langchain_community) (3.0.3)\n",
      "Requirement already satisfied: sniffio>=1.1 in c:\\users\\mrtar\\.conda\\envs\\discussion-agents\\lib\\site-packages (from anyio<5,>=3->langchain-core<0.2,>=0.1.5->langchain_community) (1.3.0)\n",
      "Requirement already satisfied: exceptiongroup>=1.0.2 in c:\\users\\mrtar\\.conda\\envs\\discussion-agents\\lib\\site-packages (from anyio<5,>=3->langchain-core<0.2,>=0.1.5->langchain_community) (1.2.0)\n",
      "Requirement already satisfied: jsonpointer>=1.9 in c:\\users\\mrtar\\.conda\\envs\\discussion-agents\\lib\\site-packages (from jsonpatch<2.0,>=1.33->langchain-core<0.2,>=0.1.5->langchain_community) (2.4)\n",
      "Requirement already satisfied: annotated-types>=0.4.0 in c:\\users\\mrtar\\.conda\\envs\\discussion-agents\\lib\\site-packages (from pydantic<3,>=1->langchain-core<0.2,>=0.1.5->langchain_community) (0.6.0)\n",
      "Requirement already satisfied: pydantic-core==2.14.6 in c:\\users\\mrtar\\.conda\\envs\\discussion-agents\\lib\\site-packages (from pydantic<3,>=1->langchain-core<0.2,>=0.1.5->langchain_community) (2.14.6)\n",
      "Requirement already satisfied: mypy-extensions>=0.3.0 in c:\\users\\mrtar\\.conda\\envs\\discussion-agents\\lib\\site-packages (from typing-inspect<1,>=0.4.0->dataclasses-json<0.7,>=0.5.7->langchain_community) (1.0.0)\n"
     ]
    }
   ],
   "source": [
    "!pip install langchain_community"
   ]
  },
  {
   "cell_type": "code",
   "execution_count": 2,
   "metadata": {},
   "outputs": [],
   "source": [
    "from agential.cog.prompts.react import (\n",
    "    TABMWP_FEWSHOT_EXAMPLES,\n",
    "    REACT_INSTRUCTION_TABMWP,\n",
    ")"
   ]
  },
  {
   "cell_type": "code",
   "execution_count": 3,
   "metadata": {},
   "outputs": [],
   "source": [
    "from agential.cog.agent.react import ReActAgent\n",
    "from langchain_community.chat_models.openai import ChatOpenAI\n",
    "import os"
   ]
  },
  {
   "cell_type": "code",
   "execution_count": 4,
   "metadata": {},
   "outputs": [],
   "source": [
    "api_key = os.environ[\"OPENAI_API_KEY\"] = \"openai_api\"\n",
    "\n",
    "chat = ChatOpenAI( openai_api_key=api_key)"
   ]
  },
  {
   "cell_type": "code",
   "execution_count": 5,
   "metadata": {},
   "outputs": [],
   "source": [
    "agent = ReActAgent(llm=chat)"
   ]
  },
  {
   "cell_type": "code",
   "execution_count": 6,
   "metadata": {},
   "outputs": [],
   "source": [
    "questions = \"\"\"Sandwich sales\n",
    "Shop                |Tuna | Egg salad\n",
    "City Cafe           |6    |5\n",
    "Sandwich City       |3    |12\n",
    "Express Sandwiches  | 7   |17\n",
    "Sam's Sandwich Shop |1    |6\n",
    "Kelly's Subs        |3    |4\n",
    "Question: As part of a project for health class, Cara surveyed local delis\n",
    "about the kinds of sandwiches sold. Which shop sold fewer sandwiches,\n",
    "Sandwich City or Express Sandwiches?\n",
    "\n",
    "\"\"\""
   ]
  },
  {
   "cell_type": "code",
   "execution_count": 7,
   "metadata": {},
   "outputs": [
    {
     "name": "stderr",
     "output_type": "stream",
     "text": [
      "c:\\Users\\mrtar\\.conda\\envs\\discussion-agents\\lib\\site-packages\\langchain_core\\_api\\deprecation.py:117: LangChainDeprecationWarning: The function `__call__` was deprecated in LangChain 0.1.7 and will be removed in 0.2.0. Use invoke instead.\n",
      "  warn_deprecated(\n"
     ]
    },
    {
     "data": {
      "text/plain": [
       "[ReActOutput(thought='Thought: To determine which shop sold fewer sandwiches between Sandwich City and Express Sandwiches, we need to compare the total number of sandwiches sold by each shop.', action=\"Action: python-generator('Calculate the total number of sandwiches sold by Sandwich City and Express Sandwiches and compare the values to determine which shop sold fewer sandwiches.')\", observation='Observation 1: Invalid Action. Valid Actions are Lookup[<topic>] Search[<topic>] and Finish[<answer>].'),\n",
       " ReActOutput(thought='Thought: There is not enough information provided to determine which shop sold fewer sandwiches between Sandwich City and Express Sandwiches.', action=\"Action: Finish['Not enough information']\", observation=\"Observation 2: 'Not enough information'\")]"
      ]
     },
     "execution_count": 7,
     "metadata": {},
     "output_type": "execute_result"
    }
   ],
   "source": [
    "agent.generate(question=questions,examples=TABMWP_FEWSHOT_EXAMPLES,prompt=REACT_INSTRUCTION_TABMWP)"
   ]
  }
 ],
 "metadata": {
  "kernelspec": {
   "display_name": "discussion-agents",
   "language": "python",
   "name": "python3"
  },
  "language_info": {
   "codemirror_mode": {
    "name": "ipython",
    "version": 3
   },
   "file_extension": ".py",
   "mimetype": "text/x-python",
   "name": "python",
   "nbconvert_exporter": "python",
   "pygments_lexer": "ipython3",
   "version": "3.10.13"
  }
 },
 "nbformat": 4,
 "nbformat_minor": 2
}
