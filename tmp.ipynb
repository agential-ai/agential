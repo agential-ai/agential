{
 "cells": [
  {
   "cell_type": "code",
   "execution_count": null,
   "metadata": {},
   "outputs": [],
   "source": []
  },
  {
   "cell_type": "code",
   "execution_count": null,
   "metadata": {},
   "outputs": [],
   "source": []
  },
  {
   "cell_type": "code",
   "execution_count": null,
   "metadata": {},
   "outputs": [],
   "source": [
    "# Case 1\n",
    "env = OSWorld()\n",
    "proc = OSWorldProcessor()\n",
    "\n",
    "task = next(proc)\n",
    "env.reset(task)\n",
    "\n",
    "# Pros\n",
    "# - one class that handles data ops\n",
    "# - another for env\n",
    "# - wanna use benchmark tasks? just use the processor\n",
    "# - wanna process your custom slice of the benchmarks? just use the processor \n",
    "# - wanna use your custom task config? just dont use the processor\n",
    "\n",
    "# Cons\n",
    "# - additional class "
   ]
  },
  {
   "cell_type": "code",
   "execution_count": null,
   "metadata": {},
   "outputs": [],
   "source": [
    "# Case 2\n",
    "env = OSWorld(OSWorldProcessor(\"evaluation_examples/\"), secrets, use_benchmark=True)\n",
    "\n",
    "env.reset()\n",
    "\n",
    "# Pros\n",
    "# - single class object to handle benchmark tasks or custom tasks\n",
    "\n",
    "# Cons\n",
    "# - intermingling between data ops and env ops\n",
    "# - confuses the init for env; maybe a bit too overloading"
   ]
  },
  {
   "cell_type": "code",
   "execution_count": null,
   "metadata": {},
   "outputs": [],
   "source": [
    "# Case 3\n",
    "\n",
    "# OSWorld <- OSWorldAdapter <- OSWorldProcessor \n",
    "# OSWorldEnv -> OSWorld <- OSWorldProcessor\n",
    "\n",
    "env = OSWorld()\n",
    "proc = OSWorldProcessor(\"evaluation_examples/\")\n",
    "\n",
    "# Pros\n",
    "# - scalable, modular, robust\n",
    "\n",
    "# Cons\n",
    "# - more effort\n",
    "# - more maintenance\n",
    "# - more complexity"
   ]
  },
  {
   "cell_type": "code",
   "execution_count": null,
   "metadata": {},
   "outputs": [],
   "source": [
    "example= {\n",
    "    \"id\": \"94d95f96-9699-4208-98ba-3c3119edf9c2\",\n",
    "    \"instruction\": \"I want to install Spotify on my current system. Could you please help me?\",\n",
    "    \"config\": [\n",
    "        {\n",
    "            \"type\": \"googledrive\",\n",
    "            \"parameters\": {\n",
    "                \"settings_file\": \"path/to/googledrive/settings.yml\"\n",
    "            }\n",
    "        },\n",
    "        {\n",
    "            \"type\": \"login\",\n",
    "            \"parameters\": {\n",
    "                \"settings_file\": \"evaluation_examples/settings/google/settings.json\",\n",
    "                \"platform\": \"googledrive\"\n",
    "            }\n",
    "        },\n",
    "    ],\n",
    "    \"evaluator\": {\n",
    "        \"func\": \"compare_docx_files\",\n",
    "        \"result\": {\n",
    "            \"type\": \"googledrive_file\",\n",
    "            \"settings_file\": \"evaluation_examples/settings/googledrive/settings.yml\",\n",
    "            \"path\": [\"environment_policy\", \"environment_policy_report (draft)\"],\n",
    "            \"dest\": \"environment_policy_report (draft).docx\"\n",
    "        },\n",
    "        \"expected\": {\n",
    "            \"type\": \"cloud_file\",\n",
    "            \"path\": \"https://drive.google.com/uc?id=1A2ti9JncAfIa6ks7FTJWHtYlZo-68FtM&export=download\",\n",
    "            \"dest\": \"environment_policy_report (draft)_gold.docx\"\n",
    "        },\n",
    "        \"options\": {\n",
    "            \"content_only\": True\n",
    "        }\n",
    "    }\n",
    "}"
   ]
  },
  {
   "cell_type": "code",
   "execution_count": null,
   "metadata": {},
   "outputs": [],
   "source": [
    "env = DesktopEnv()\n",
    "env.reset()"
   ]
  },
  {
   "cell_type": "markdown",
   "metadata": {},
   "source": [
    "Googledrive\n",
    "- settings.yml\n",
    "  - client_secrets.json\n",
    "  - credentials.json (write path)\n",
    "\n",
    "Google\n",
    "- settings.json"
   ]
  },
  {
   "cell_type": "code",
   "execution_count": null,
   "metadata": {},
   "outputs": [],
   "source": []
  },
  {
   "cell_type": "code",
   "execution_count": 2,
   "metadata": {},
   "outputs": [],
   "source": [
    "google_credentials_config = {\n",
    "    \"googledrive_settings\": {  # settings.yml\n",
    "        'client_config_backend': 'file',\n",
    "        'client_config_file': \"evaluation_examples/settings/googledrive/client_secrets.json\",  # User created.\n",
    "        'save_credentials': True,\n",
    "        'save_credentials_backend': 'file',\n",
    "        'save_credentials_file': \"evaluation_examples/settings/googledrive/credentials.json\",  # User specified.\n",
    "        'get_refresh_token': True\n",
    "    },\n",
    "    \"google_settings\": {  # settings.json\n",
    "        \"email\": \"vincentsimulartest@gmail.com\",\n",
    "        \"password\": \"\"\n",
    "    }\n",
    "}\n",
    "\n",
    "# settings.yml (googledrive)\n",
    "    # client_secrets.json\n",
    "    # credentials.json path specified by user\n",
    "# settings.json (google)"
   ]
  },
  {
   "cell_type": "code",
   "execution_count": 3,
   "metadata": {},
   "outputs": [
    {
     "data": {
      "text/plain": [
       "{'client_config_backend': 'file',\n",
       " 'client_config_file': 'evaluation_examples/settings/googledrive/client_secrets.json',\n",
       " 'save_credentials': True,\n",
       " 'save_credentials_backend': 'file',\n",
       " 'save_credentials_file': 'evaluation_examples/settings/googledrive/credentials.json',\n",
       " 'get_refresh_token': True}"
      ]
     },
     "execution_count": 3,
     "metadata": {},
     "output_type": "execute_result"
    }
   ],
   "source": [
    "google_credentials_config['googledrive_settings']"
   ]
  },
  {
   "cell_type": "code",
   "execution_count": 4,
   "metadata": {},
   "outputs": [
    {
     "data": {
      "text/plain": [
       "{'email': 'vincentsimulartest@gmail.com', 'password': ''}"
      ]
     },
     "execution_count": 4,
     "metadata": {},
     "output_type": "execute_result"
    }
   ],
   "source": [
    "google_credentials_config['google_settings']"
   ]
  },
  {
   "cell_type": "code",
   "execution_count": null,
   "metadata": {},
   "outputs": [],
   "source": []
  }
 ],
 "metadata": {
  "kernelspec": {
   "display_name": "agential",
   "language": "python",
   "name": "python3"
  },
  "language_info": {
   "codemirror_mode": {
    "name": "ipython",
    "version": 3
   },
   "file_extension": ".py",
   "mimetype": "text/x-python",
   "name": "python",
   "nbconvert_exporter": "python",
   "pygments_lexer": "ipython3",
   "version": "3.11.5"
  }
 },
 "nbformat": 4,
 "nbformat_minor": 2
}
