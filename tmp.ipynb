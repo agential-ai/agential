{
 "cells": [
  {
   "cell_type": "code",
   "execution_count": 1,
   "metadata": {},
   "outputs": [],
   "source": [
    "from agential.cog.fewshots.hotpotqa import HOTPOTQA_FEWSHOT_EXAMPLES_REACT\n",
    "from agential.cog.lats.prompts import HOTPOTQA_FEWSHOT_EXAMPLES_LATS_REFLECT, HOTPOTQA_FEWSHOT_EXAMPLES_LATS_VALUE, LATS_INSTRUCTION_HOTPOTQA, LATS_REFLECT_INSTRUCTION_HOTPOTQA, LATS_VALUE_INSTRUCTION_HOTPOTQA\n",
    "from agential.cog.lats.strategies.qa import LATSQAStrategy\n",
    "from agential.llm.llm import MockLLM\n",
    "\n",
    "\n",
    "responses = [\n",
    "       \"I need to search for the capital of France\",\n",
    "       \"Search[capital of France]\",\n",
    "       \"I need to search for the capital of France\",\n",
    "       \"Search[capital of France]\",\n",
    "       \"The trajectory provided is completely incorrect as the observation received does not relate to the search query at all, indicating that the search term might have been mistyped or confused\",\n",
    "       \"The search results did not return the information needed\",\n",
    "       \"Search[capital of France]\\nObservation 2: The capital of France is Paris, known for its art, fashion, gastronomy, and culture\",\n",
    "       \"The search did not return relevant information\",\n",
    "       \"Search[capital of France Wikipedia]\\nObservation 2: The capital of France is Paris, the largest city in France and its capital since the 4th century\",\n",
    "       \"The trajectory provided is incorrect because the environmental observation does not relate to the question asked\",\n",
    "       \"This trajectory is incorrect as it did not provide any relevant information regarding the capital of France\",\n",
    "       \"There seems to be an issue with the search results\",\n",
    "       \"Search[similar entities to the capital of France]\\nObservation 3: Similar: [Paris, Marseille, Lyon, Toulouse, Lille]\\nThought 4: The capital of France is Paris\",\n",
    "       \"The search results seem to be incorrect\",\n",
    "       \"Search[capital of France]\\nObservation 3: The capital of France is Paris\",\n",
    "       \"The trajectory is incorrect as the observations did not provide any relevant information related to the question\",\n",
    "       \"This trajectory is incorrect as the focus should have been on verifying the information related to the capital of France, rather than repeatedly trying the same search query that does not provide the desired information\",\n",
    "]\n",
    "\n",
    "qa_strategy = LATSQAStrategy(\n",
    "    llm=MockLLM(\"gpt-3.5-turbo\", responses=responses), depth_limit=3, n_samples=2\n",
    ")\n",
    "root_node = qa_strategy.initialize()\n",
    "question = \"What is the capital of France?\"\n",
    "key = \"Paris\"\n",
    "examples = HOTPOTQA_FEWSHOT_EXAMPLES_REACT\n",
    "reflect_examples = HOTPOTQA_FEWSHOT_EXAMPLES_LATS_REFLECT\n",
    "value_examples = HOTPOTQA_FEWSHOT_EXAMPLES_LATS_VALUE\n",
    "prompt = LATS_INSTRUCTION_HOTPOTQA\n",
    "reflect_prompt = LATS_REFLECT_INSTRUCTION_HOTPOTQA\n",
    "value_prompt = LATS_VALUE_INSTRUCTION_HOTPOTQA\n",
    "additional_keys = {}\n",
    "reflect_additional_keys = {}\n",
    "value_additional_keys = {}\n",
    "\n",
    "\n",
    "(  \n",
    "    simulation_reward,\n",
    "    simulation_terminal_node,\n",
    "    simulation_current_nodes,\n",
    "    simulation_children_nodes,\n",
    "    simulation_thought_model_responses,\n",
    "    simulation_action_model_responses,\n",
    "    simulation_values,\n",
    "    simulation_values_model_responses,\n",
    ")= qa_strategy.simulate_node(\n",
    "        node=root_node,\n",
    "        question=question,\n",
    "        key=key,\n",
    "        examples=examples,\n",
    "        reflect_examples=reflect_examples,\n",
    "        value_examples=value_examples,\n",
    "        prompt=prompt,\n",
    "        reflect_prompt=reflect_prompt,\n",
    "        value_prompt=value_prompt,\n",
    "        additional_keys=additional_keys,\n",
    "        reflect_additional_keys=reflect_additional_keys,\n",
    "        value_additional_keys=value_additional_keys,\n",
    "    )"
   ]
  },
  {
   "cell_type": "code",
   "execution_count": 2,
   "metadata": {},
   "outputs": [
    {
     "data": {
      "text/plain": [
       "-1.0"
      ]
     },
     "execution_count": 2,
     "metadata": {},
     "output_type": "execute_result"
    }
   ],
   "source": [
    "simulation_reward"
   ]
  },
  {
   "cell_type": "code",
   "execution_count": 4,
   "metadata": {},
   "outputs": [
    {
     "data": {
      "text/plain": [
       "{'state': LATSReActStepOutput(thought='This trajectory is incorrect as it did not provide any relevant information regarding the capital of France', action_type='', query='', observation='Invalid Action. Valid Actions are Lookup[<topic>] Search[<topic>] and Finish[<answer>].', answer='', external_tool_info={'search_result': '', 'lookup_result': ''}),\n",
       " 'visits': 0,\n",
       " 'value': 0,\n",
       " 'depth': 3,\n",
       " 'is_terminal': False,\n",
       " 'reward': 0}"
      ]
     },
     "execution_count": 4,
     "metadata": {},
     "output_type": "execute_result"
    }
   ],
   "source": [
    "simulation_terminal_node.to_dict()"
   ]
  },
  {
   "cell_type": "code",
   "execution_count": 7,
   "metadata": {},
   "outputs": [
    {
     "name": "stdout",
     "output_type": "stream",
     "text": [
      "{'state': LATSReActStepOutput(thought='', action_type='', query='', observation='', answer='', external_tool_info={}), 'visits': 0, 'value': 0, 'depth': 0, 'is_terminal': False, 'reward': 0}\n",
      "------------------------\n",
      "{'state': LATSReActStepOutput(thought='I need to search for the capital of France', action_type='Search', query='capital of France', observation='This is a chronological list of capitals of France. The capital of France has been Paris since its liberation in 1944.', answer='', external_tool_info={'search_result': 'This is a chronological list of capitals of France. The capital of France has been Paris since its liberation in 1944.', 'lookup_result': ''}), 'visits': 0, 'value': 0, 'depth': 1, 'is_terminal': False, 'reward': 0}\n",
      "------------------------\n",
      "{'state': LATSReActStepOutput(thought='The trajectory provided is completely incorrect as the observation received does not relate to the search query at all, indicating that the search term might have been mistyped or confused', action_type='', query='', observation='Invalid Action. Valid Actions are Lookup[<topic>] Search[<topic>] and Finish[<answer>].', answer='', external_tool_info={'search_result': '', 'lookup_result': ''}), 'visits': 0, 'value': 0, 'depth': 2, 'is_terminal': False, 'reward': 0}\n",
      "------------------------\n"
     ]
    }
   ],
   "source": [
    "for node in simulation_current_nodes:   \n",
    "    print(node.to_dict())\n",
    "    print('------------------------')"
   ]
  },
  {
   "cell_type": "code",
   "execution_count": 13,
   "metadata": {},
   "outputs": [
    {
     "name": "stdout",
     "output_type": "stream",
     "text": [
      "{'state': LATSReActStepOutput(thought='I need to search for the capital of France', action_type='Search', query='capital of France', observation='This is a chronological list of capitals of France. The capital of France has been Paris since its liberation in 1944.', answer='', external_tool_info={'search_result': 'This is a chronological list of capitals of France. The capital of France has been Paris since its liberation in 1944.', 'lookup_result': ''}), 'visits': 0, 'value': 0, 'depth': 1, 'is_terminal': False, 'reward': 0}\n",
      "------------------------\n",
      "{'state': LATSReActStepOutput(thought='I need to search for the capital of France', action_type='Search', query='capital of France', observation='', answer='', external_tool_info={}), 'visits': 0, 'value': 0, 'depth': 0, 'is_terminal': False, 'reward': 0}\n",
      "------------------------\n",
      "------------------------\n",
      "{'state': LATSReActStepOutput(thought='The trajectory provided is completely incorrect as the observation received does not relate to the search query at all, indicating that the search term might have been mistyped or confused', action_type='', query='', observation='Invalid Action. Valid Actions are Lookup[<topic>] Search[<topic>] and Finish[<answer>].', answer='', external_tool_info={'search_result': '', 'lookup_result': ''}), 'visits': 0, 'value': 0, 'depth': 2, 'is_terminal': False, 'reward': 0}\n",
      "------------------------\n",
      "{'state': LATSReActStepOutput(thought='Search[capital of France]Observation 2: The capital of France is Paris, known for its art, fashion, gastronomy, and culture', action_type='', query='', observation='Invalid Action. Valid Actions are Lookup[<topic>] Search[<topic>] and Finish[<answer>].', answer='', external_tool_info={'search_result': '', 'lookup_result': ''}), 'visits': 0, 'value': 0, 'depth': 2, 'is_terminal': False, 'reward': 0}\n",
      "------------------------\n",
      "------------------------\n",
      "{'state': LATSReActStepOutput(thought='This trajectory is incorrect as it did not provide any relevant information regarding the capital of France', action_type='', query='', observation='Invalid Action. Valid Actions are Lookup[<topic>] Search[<topic>] and Finish[<answer>].', answer='', external_tool_info={'search_result': '', 'lookup_result': ''}), 'visits': 0, 'value': 0, 'depth': 3, 'is_terminal': False, 'reward': 0}\n",
      "------------------------\n",
      "{'state': LATSReActStepOutput(thought='Search[similar entities to the capital of France]Observation 3: Similar: [Paris, Marseille, Lyon, Toulouse, Lille]Thought 4: The capital of France is Paris', action_type='', query='', observation='Invalid Action. Valid Actions are Lookup[<topic>] Search[<topic>] and Finish[<answer>].', answer='', external_tool_info={'search_result': '', 'lookup_result': ''}), 'visits': 0, 'value': 0, 'depth': 3, 'is_terminal': False, 'reward': 0}\n",
      "------------------------\n",
      "------------------------\n"
     ]
    }
   ],
   "source": [
    "for node_list in simulation_children_nodes:   \n",
    "    for node in node_list:\n",
    "        print(node.to_dict())\n",
    "        print('------------------------')\n",
    "    print('------------------------')"
   ]
  },
  {
   "cell_type": "code",
   "execution_count": 14,
   "metadata": {},
   "outputs": [
    {
     "data": {
      "text/plain": [
       "[[ModelResponse(id='chatcmpl-0b484592-fdea-4fd0-9403-9e1b1dbaef36', choices=[Choices(finish_reason='stop', index=0, message=Message(content='I need to search for the capital of France', role='assistant', tool_calls=None, function_call=None))], created=1723858874, model='gpt-3.5-turbo', object='chat.completion', system_fingerprint=None, usage=Usage(prompt_tokens=10, completion_tokens=20, total_tokens=30), time_taken=0.5),\n",
       "  ModelResponse(id='chatcmpl-197fad53-8cc2-4740-bd52-1606f2b9b09d', choices=[Choices(finish_reason='stop', index=0, message=Message(content='I need to search for the capital of France', role='assistant', tool_calls=None, function_call=None))], created=1723858878, model='gpt-3.5-turbo', object='chat.completion', system_fingerprint=None, usage=Usage(prompt_tokens=10, completion_tokens=20, total_tokens=30), time_taken=0.5)],\n",
       " [ModelResponse(id='chatcmpl-9ca5339d-5647-4fbb-a5b5-63ae77c95cba', choices=[Choices(finish_reason='stop', index=0, message=Message(content='The trajectory provided is completely incorrect as the observation received does not relate to the search query at all, indicating that the search term might have been mistyped or confused', role='assistant', tool_calls=None, function_call=None))], created=1723858878, model='gpt-3.5-turbo', object='chat.completion', system_fingerprint=None, usage=Usage(prompt_tokens=10, completion_tokens=20, total_tokens=30), time_taken=0.5),\n",
       "  ModelResponse(id='chatcmpl-aef6b2fa-82af-4989-88f9-bc56bc64dc2d', choices=[Choices(finish_reason='stop', index=0, message=Message(content='Search[capital of France]\\nObservation 2: The capital of France is Paris, known for its art, fashion, gastronomy, and culture', role='assistant', tool_calls=None, function_call=None))], created=1723858878, model='gpt-3.5-turbo', object='chat.completion', system_fingerprint=None, usage=Usage(prompt_tokens=10, completion_tokens=20, total_tokens=30), time_taken=0.5)],\n",
       " [ModelResponse(id='chatcmpl-a8c7f693-caf2-48a0-87f3-1748a014ca7e', choices=[Choices(finish_reason='stop', index=0, message=Message(content='This trajectory is incorrect as it did not provide any relevant information regarding the capital of France', role='assistant', tool_calls=None, function_call=None))], created=1723858878, model='gpt-3.5-turbo', object='chat.completion', system_fingerprint=None, usage=Usage(prompt_tokens=10, completion_tokens=20, total_tokens=30), time_taken=0.5),\n",
       "  ModelResponse(id='chatcmpl-442ce18d-495d-4f21-970b-59f1ccd0ebd8', choices=[Choices(finish_reason='stop', index=0, message=Message(content='Search[similar entities to the capital of France]\\nObservation 3: Similar: [Paris, Marseille, Lyon, Toulouse, Lille]\\nThought 4: The capital of France is Paris', role='assistant', tool_calls=None, function_call=None))], created=1723858878, model='gpt-3.5-turbo', object='chat.completion', system_fingerprint=None, usage=Usage(prompt_tokens=10, completion_tokens=20, total_tokens=30), time_taken=0.5)]]"
      ]
     },
     "execution_count": 14,
     "metadata": {},
     "output_type": "execute_result"
    }
   ],
   "source": [
    "simulation_thought_model_responses"
   ]
  },
  {
   "cell_type": "code",
   "execution_count": 8,
   "metadata": {},
   "outputs": [
    {
     "data": {
      "text/plain": [
       "[[<agential.cog.lats.node.Node at 0x12a217bd0>,\n",
       "  <agential.cog.lats.node.Node at 0x13aa99ed0>],\n",
       " [<agential.cog.lats.node.Node at 0x12a217c10>,\n",
       "  <agential.cog.lats.node.Node at 0x13a5d8990>],\n",
       " [<agential.cog.lats.node.Node at 0x13a9c4610>,\n",
       "  <agential.cog.lats.node.Node at 0x13a5f7fd0>]]"
      ]
     },
     "execution_count": 8,
     "metadata": {},
     "output_type": "execute_result"
    }
   ],
   "source": [
    "\n",
    "\n",
    "    # simulation_action_model_responses,\n",
    "    # simulation_values,\n",
    "    # simulation_values_model_responses,"
   ]
  },
  {
   "cell_type": "code",
   "execution_count": null,
   "metadata": {},
   "outputs": [],
   "source": []
  }
 ],
 "metadata": {
  "kernelspec": {
   "display_name": "agential-_PLNddBH-py3.11",
   "language": "python",
   "name": "python3"
  },
  "language_info": {
   "codemirror_mode": {
    "name": "ipython",
    "version": 3
   },
   "file_extension": ".py",
   "mimetype": "text/x-python",
   "name": "python",
   "nbconvert_exporter": "python",
   "pygments_lexer": "ipython3",
   "version": "3.11.5"
  }
 },
 "nbformat": 4,
 "nbformat_minor": 2
}
