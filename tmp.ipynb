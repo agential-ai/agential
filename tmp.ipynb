{
 "cells": [
  {
   "cell_type": "code",
   "execution_count": 1,
   "metadata": {},
   "outputs": [
    {
     "name": "stderr",
     "output_type": "stream",
     "text": [
      "c:\\Users\\tuvin\\anaconda3\\envs\\agential\\Lib\\site-packages\\tqdm\\auto.py:21: TqdmWarning: IProgress not found. Please update jupyter and ipywidgets. See https://ipywidgets.readthedocs.io/en/stable/user_install.html\n",
      "  from .autonotebook import tqdm as notebook_tqdm\n",
      "Downloading readme: 100%|██████████| 7.94k/7.94k [00:00<00:00, 61.9kB/s]\n"
     ]
    }
   ],
   "source": [
    "from datasets import load_dataset\n",
    "\n",
    "# Loading the main split of the dataset\n",
    "ds_main = load_dataset(\"openai/gsm8k\", \"main\")"
   ]
  },
  {
   "cell_type": "code",
   "execution_count": 2,
   "metadata": {},
   "outputs": [],
   "source": [
    "\n",
    "root_dir = \"output\"\n",
    "method_name = \"standard\"\n",
    "benchmark = \"gsm8k\"\n",
    "\n",
    "model = \"gpt-3.5-turbo\"\n",
    "eval_model = \"gpt-4o-mini\"\n",
    "seed = 42\n",
    "num_retries = 1\n",
    "warming = [0.0]"
   ]
  },
  {
   "cell_type": "code",
   "execution_count": 3,
   "metadata": {},
   "outputs": [],
   "source": [
    "from agential.core.llm import LLM\n",
    "import os\n",
    "llm = LLM(\n",
    "        model, \n",
    "        organization=os.getenv(\"OPENAI_ORGANIZATION\"), \n",
    "        temperature=0,\n",
    "        top_p=1,\n",
    "        frequency_penalty=0.0,\n",
    "        presence_penalty=0.0,\n",
    "        seed=seed\n",
    ")\n",
    "eval_llm = LLM(\n",
    "    eval_model,\n",
    "    organization=os.getenv(\"OPENAI_ORGANIZATION\"),\n",
    "    temperature=0,\n",
    "    top_p=1,\n",
    "    frequency_penalty=0.0,\n",
    "    presence_penalty=0.0,\n",
    "    seed=seed\n",
    ")"
   ]
  },
  {
   "cell_type": "code",
   "execution_count": 4,
   "metadata": {},
   "outputs": [
    {
     "name": "stderr",
     "output_type": "stream",
     "text": [
      "Failed to detect the name of this notebook, you can set it manually with the WANDB_NOTEBOOK_NAME environment variable to enable code saving.\n",
      "\u001b[34m\u001b[1mwandb\u001b[0m: Currently logged in as: \u001b[33mvincenttu\u001b[0m. Use \u001b[1m`wandb login --relogin`\u001b[0m to force relogin\n",
      "\u001b[34m\u001b[1mwandb\u001b[0m: Currently logged in as: \u001b[33mvincenttu\u001b[0m (\u001b[33magential\u001b[0m). Use \u001b[1m`wandb login --relogin`\u001b[0m to force relogin\n"
     ]
    },
    {
     "data": {
      "text/html": [
       "Tracking run with wandb version 0.17.9"
      ],
      "text/plain": [
       "<IPython.core.display.HTML object>"
      ]
     },
     "metadata": {},
     "output_type": "display_data"
    },
    {
     "data": {
      "text/html": [
       "Run data is saved locally in <code>c:\\Users\\tuvin\\OneDrive\\Desktop\\agential\\wandb\\run-20241001_160137-yb81aj08</code>"
      ],
      "text/plain": [
       "<IPython.core.display.HTML object>"
      ]
     },
     "metadata": {},
     "output_type": "display_data"
    },
    {
     "data": {
      "text/html": [
       "Syncing run <strong><a href='https://wandb.ai/agential/gsm8k/runs/yb81aj08' target=\"_blank\">elated-forest-2</a></strong> to <a href='https://wandb.ai/agential/gsm8k' target=\"_blank\">Weights & Biases</a> (<a href='https://wandb.me/run' target=\"_blank\">docs</a>)<br/>"
      ],
      "text/plain": [
       "<IPython.core.display.HTML object>"
      ]
     },
     "metadata": {},
     "output_type": "display_data"
    },
    {
     "data": {
      "text/html": [
       " View project at <a href='https://wandb.ai/agential/gsm8k' target=\"_blank\">https://wandb.ai/agential/gsm8k</a>"
      ],
      "text/plain": [
       "<IPython.core.display.HTML object>"
      ]
     },
     "metadata": {},
     "output_type": "display_data"
    },
    {
     "data": {
      "text/html": [
       " View run at <a href='https://wandb.ai/agential/gsm8k/runs/yb81aj08' target=\"_blank\">https://wandb.ai/agential/gsm8k/runs/yb81aj08</a>"
      ],
      "text/plain": [
       "<IPython.core.display.HTML object>"
      ]
     },
     "metadata": {},
     "output_type": "display_data"
    }
   ],
   "source": [
    "import wandb\n",
    "wandb.login()\n",
    "from agential.prompting.standard.prompting import Standard\n",
    "method = Standard(\n",
    "        llm=llm,\n",
    "        benchmark=benchmark,\n",
    ")\n",
    "run = wandb.init(\n",
    "    project=benchmark, \n",
    "    entity=\"agential\",\n",
    "    config={\n",
    "        \"model\": model,\n",
    "        \"eval_model\": eval_model,\n",
    "        \"seed\": seed,\n",
    "        \"num_retries\": num_retries,\n",
    "        \"warming\": warming,\n",
    "    },\n",
    "    group=method_name,\n",
    "    tags=[f\"method={method_name}\", f\"model={model}\", f\"eval_model={eval_model}\", f\"seed={seed}\", f\"num_retries={num_retries}\", f\"warming={warming}\"],\n",
    ")"
   ]
  },
  {
   "cell_type": "code",
   "execution_count": 5,
   "metadata": {},
   "outputs": [
    {
     "data": {
      "text/plain": [
       "{'question': \"Janet’s ducks lay 16 eggs per day. She eats three for breakfast every morning and bakes muffins for her friends every day with four. She sells the remainder at the farmers' market daily for $2 per fresh duck egg. How much in dollars does she make every day at the farmers' market?\",\n",
       " 'answer': 'Janet sells 16 - 3 - 4 = <<16-3-4=9>>9 duck eggs a day.\\nShe makes 9 * 2 = $<<9*2=18>>18 every day at the farmer’s market.\\n#### 18'}"
      ]
     },
     "execution_count": 5,
     "metadata": {},
     "output_type": "execute_result"
    }
   ],
   "source": [
    "ds_main['test'][0]"
   ]
  },
  {
   "cell_type": "code",
   "execution_count": 6,
   "metadata": {},
   "outputs": [
    {
     "data": {
      "text/plain": [
       "(\"Janet’s ducks lay 16 eggs per day. She eats three for breakfast every morning and bakes muffins for her friends every day with four. She sells the remainder at the farmers' market daily for $2 per fresh duck egg. How much in dollars does she make every day at the farmers' market?\",\n",
       " 'Janet sells 16 - 3 - 4 = <<16-3-4=9>>9 duck eggs a day.\\nShe makes 9 * 2 = $<<9*2=18>>18 every day at the farmer’s market.\\n#### 18')"
      ]
     },
     "execution_count": 6,
     "metadata": {},
     "output_type": "execute_result"
    }
   ],
   "source": [
    "question = ds_main['test'][0][\"question\"]\n",
    "answer = ds_main['test'][0][\"answer\"]\n",
    "\n",
    "\n",
    "question , answer"
   ]
  },
  {
   "cell_type": "code",
   "execution_count": 7,
   "metadata": {},
   "outputs": [],
   "source": [
    "# Inference.\n",
    "out = method.generate(\n",
    "    question=question,\n",
    "    key=answer,\n",
    "    num_retries=num_retries,\n",
    "    warming=warming\n",
    ")"
   ]
  },
  {
   "cell_type": "code",
   "execution_count": 8,
   "metadata": {},
   "outputs": [
    {
     "data": {
      "text/plain": [
       "StandardOutput(answer='\\n```python\\neggs_laid_per_day = 16\\neggs_for_breakfast = 3\\neggs_for_muffins = 4\\neggs_sold = eggs_laid_per_day - eggs_for_breakfast - eggs_for_muffins\\nearnings_per_egg = 2\\ntotal_earnings = eggs_sold * earnings_per_egg\\nanswer = total_earnings\\n```\\n', total_prompt_tokens=814, total_completion_tokens=78, total_tokens=892, total_prompt_cost=0.00040699999999999997, total_completion_cost=0.000117, total_cost=0.0005239999999999999, total_prompt_time=2.1793971061706543, total_time=2.1804587841033936, additional_info=[[StandardStepOutput(answer='\\n```python\\neggs_laid_per_day = 16\\neggs_for_breakfast = 3\\neggs_for_muffins = 4\\neggs_sold = eggs_laid_per_day - eggs_for_breakfast - eggs_for_muffins\\nearnings_per_egg = 2\\ntotal_earnings = eggs_sold * earnings_per_egg\\nanswer = total_earnings\\n```\\n', answer_response=Response(input_text=\"Question: Jason had 20 lollipops. He gave Denny some lollipops. Now Jason has 12 lollipops. How many lollipops did Jason give to Denny?\\n# Python code, return answer\\njason_lollipops_initial = 20\\njason_lollipops_after = 12\\ndenny_lollipops = jason_lollipops_initial - jason_lollipops_after\\nanswer = denny_lollipops\\n\\n---\\n\\nQuestion: There are 15 trees in the grove. Grove workers will plant trees in the grove today. After they are done, there will be 21 trees. How many trees did the grove workers plant today?\\n# Python code, return answer\\ntrees_initial = 15\\ntrees_after = 21\\ntrees_added = trees_after - trees_initial\\nanswer = trees_added\\n\\n---\\n\\nQuestion: Shawn has five toys. For Christmas, he got two toys each from his mom and dad. How many toys does he have now?\\n# Python code, return answer\\ntoys_initial = 5\\nmom_toys = 2\\ndad_toys = 2\\ntotal_received = mom_toys + dad_toys\\ntotal_toys = toys_initial + total_received\\nanswer = total_toys\\n\\n---\\n\\nQuestion: There were nine computers in the server room. Five more computers were installed each day, from monday to thursday. How many computers are now in the server room?\\n# Python code, return answer\\ncomputers_initial = 9\\ncomputers_per_day = 5\\nnum_days = 4  # 4 days between monday and thursday\\ncomputers_added = computers_per_day * num_days\\ncomputers_total = computers_initial + computers_added\\nanswer = computers_total\\n\\n---\\n\\nQuestion: Michael had 58 golf balls. On tuesday, he lost 23 golf balls. On wednesday, he lost 2 more. How many golf balls did he have at the end of wednesday?\\n# Python code, return answer\\ngolf_balls_initial = 58\\ngolf_balls_lost_tuesday = 23\\ngolf_balls_lost_wednesday = 2\\ngolf_balls_left = golf_balls_initial - golf_balls_lost_tuesday - golf_balls_lost_wednesday\\nanswer = golf_balls_left\\n\\n---\\n\\nQuestion: If there are 3 cars in the parking lot and 2 more cars arrive, how many cars are in the parking lot?\\n# Python code, return answer\\ncars_initial = 3\\ncars_arrived = 2\\ntotal_cars = cars_initial + cars_arrived\\nanswer = total_cars\\n\\n---\\n\\nQuestion: Olivia has $23. She bought five bagels for $3 each. How much money does she have left?\\n# Python code, return answer\\nmoney_initial = 23\\nbagels = 5\\nbagel_cost = 3\\nmoney_spent = bagels * bagel_cost\\nmoney_left = money_initial - money_spent\\nanswer = money_left\\n\\n---\\n\\nQuestion: Leah had 32 chocolates and her sister had 42. If they ate 35, how many pieces do they have left in total?\\n# Python code, return answer\\nleah_chocolates = 32\\nsister_chocolates = 42\\ntotal_chocolates = leah_chocolates + sister_chocolates\\nchocolates_eaten = 35\\nchocolates_left = total_chocolates - chocolates_eaten\\nanswer = chocolates_left\\n(END OF EXAMPLES)\\n\\nQuestion: Janet’s ducks lay 16 eggs per day. She eats three for breakfast every morning and bakes muffins for her friends every day with four. She sells the remainder at the farmers' market daily for $2 per fresh duck egg. How much in dollars does she make every day at the farmers' market?\\n# Python code, return answer\", output_text='eggs_laid_per_day = 16\\neggs_for_breakfast = 3\\neggs_for_muffins = 4\\neggs_sold = eggs_laid_per_day - eggs_for_breakfast - eggs_for_muffins\\nearnings_per_egg = 2\\ntotal_earnings = eggs_sold * earnings_per_egg\\nanswer = total_earnings', prompt_tokens=814, completion_tokens=78, total_tokens=892, prompt_cost=0.00040699999999999997, completion_cost=0.000117, total_cost=0.0005239999999999999, prompt_time=2.1793971061706543))]])"
      ]
     },
     "execution_count": 8,
     "metadata": {},
     "output_type": "execute_result"
    }
   ],
   "source": [
    "out"
   ]
  },
  {
   "cell_type": "code",
   "execution_count": null,
   "metadata": {},
   "outputs": [],
   "source": []
  }
 ],
 "metadata": {
  "kernelspec": {
   "display_name": "agential",
   "language": "python",
   "name": "python3"
  },
  "language_info": {
   "codemirror_mode": {
    "name": "ipython",
    "version": 3
   },
   "file_extension": ".py",
   "mimetype": "text/x-python",
   "name": "python",
   "nbconvert_exporter": "python",
   "pygments_lexer": "ipython3",
   "version": "3.11.5"
  }
 },
 "nbformat": 4,
 "nbformat_minor": 2
}
