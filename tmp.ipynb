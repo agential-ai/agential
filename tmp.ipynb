{
 "cells": [
  {
   "cell_type": "code",
   "execution_count": 1,
   "metadata": {},
   "outputs": [],
   "source": [
    "from litellm import completion"
   ]
  },
  {
   "cell_type": "code",
   "execution_count": 26,
   "metadata": {},
   "outputs": [],
   "source": [
    "response = completion(\n",
    "            model=\"gpt-3.5-turbo\",\n",
    "            messages=[{\"role\": \"user\", \"content\": \"Hey, how's it goingjj?\"}],\n",
    "        )"
   ]
  },
  {
   "cell_type": "code",
   "execution_count": 27,
   "metadata": {},
   "outputs": [
    {
     "data": {
      "text/plain": [
       "ModelResponse(id='chatcmpl-9t5nSWnYCUm1NgXIIt1MpsFTOSUwO', choices=[Choices(finish_reason='stop', index=0, message=Message(content=\"Hello! I'm just a computer program, so I don't have feelings or emotions. How can I assist you today?\", role='assistant', tool_calls=None, function_call=None))], created=1722917350, model='gpt-3.5-turbo-0125', object='chat.completion', system_fingerprint=None, usage=Usage(prompt_tokens=15, completion_tokens=25, total_tokens=40))"
      ]
     },
     "execution_count": 27,
     "metadata": {},
     "output_type": "execute_result"
    }
   ],
   "source": [
    "response"
   ]
  },
  {
   "cell_type": "code",
   "execution_count": 28,
   "metadata": {},
   "outputs": [
    {
     "name": "stdout",
     "output_type": "stream",
     "text": [
      "2.25e-05 6.2e-05\n"
     ]
    }
   ],
   "source": [
    "from litellm import cost_per_token\n",
    "\n",
    "prompt_tokens =  15\n",
    "completion_tokens = 31\n",
    "prompt_tokens_cost_usd_dollar, completion_tokens_cost_usd_dollar = cost_per_token(model=\"gpt-3.5-turbo\", prompt_tokens=prompt_tokens, completion_tokens=completion_tokens)\n",
    "\n",
    "print(prompt_tokens_cost_usd_dollar, completion_tokens_cost_usd_dollar)"
   ]
  },
  {
   "cell_type": "code",
   "execution_count": null,
   "metadata": {},
   "outputs": [],
   "source": [
    "from litellm import model_cost \n",
    "\n",
    "print(model_cost)"
   ]
  }
 ],
 "metadata": {
  "kernelspec": {
   "display_name": "agential",
   "language": "python",
   "name": "python3"
  },
  "language_info": {
   "codemirror_mode": {
    "name": "ipython",
    "version": 3
   },
   "file_extension": ".py",
   "mimetype": "text/x-python",
   "name": "python",
   "nbconvert_exporter": "python",
   "pygments_lexer": "ipython3",
   "version": "3.11.5"
  }
 },
 "nbformat": 4,
 "nbformat_minor": 2
}
