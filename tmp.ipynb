{
 "cells": [
  {
   "cell_type": "code",
   "execution_count": null,
   "metadata": {},
   "outputs": [],
   "source": [
    "\n",
    "example= {\n",
    "    \"id\": \"94d95f96-9699-4208-98ba-3c3119edf9c2\",\n",
    "    \"instruction\": \"I want to install Spotify on my current system. Could you please help me?\",\n",
    "    \"config\": [\n",
    "        {\n",
    "            \"type\": \"execute\",\n",
    "            \"parameters\": {\n",
    "                \"command\": [\n",
    "                    \"python\",\n",
    "                    \"-c\",\n",
    "                    \"import pyautogui; import time; pyautogui.click(960, 540); time.sleep(0.5);\",\n",
    "                ]\n",
    "            },\n",
    "        },\n",
    "        {\n",
    "            \"type\": \"googledrive\",\n",
    "            \"parameters\": {\n",
    "                \"settings_file\": \"path/to/googledrive/settings.yml\"\n",
    "            }\n",
    "        }\n",
    "    ],\n",
    "    \"evaluator\": {\n",
    "        \"func\": \"check_include_exclude\",\n",
    "        \"result\": {\"type\": \"vm_command_line\", \"command\": \"which spotify\"},\n",
    "        \"expected\": {\n",
    "            \"type\": \"rule\",\n",
    "            \"rules\": {\"include\": [\"spotify\"], \"exclude\": [\"not found\"]},\n",
    "        },\n",
    "    },\n",
    "}"
   ]
  },
  {
   "cell_type": "code",
   "execution_count": null,
   "metadata": {},
   "outputs": [],
   "source": [
    "env = DesktopEnv()\n",
    "env.reset()"
   ]
  },
  {
   "cell_type": "markdown",
   "metadata": {},
   "source": [
    "- modify the evaluation_examples examples (because examples use fixed paths to settings.json/settings.yml)\n",
    "- parameterize the path to the settings.json/settings.yml\n",
    "- "
   ]
  }
 ],
 "metadata": {
  "kernelspec": {
   "display_name": "agential",
   "language": "python",
   "name": "python3"
  },
  "language_info": {
   "name": "python",
   "version": "3.11.5"
  }
 },
 "nbformat": 4,
 "nbformat_minor": 2
}
