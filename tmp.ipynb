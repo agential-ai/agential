{
 "cells": [
  {
   "cell_type": "code",
   "execution_count": 1,
   "metadata": {},
   "outputs": [],
   "source": [
    "from agential.cog.agent.react import ReActAgent\n",
    "from langchain.chat_models.openai import ChatOpenAI\n",
    "\n"
   ]
  },
  {
   "cell_type": "code",
   "execution_count": 7,
   "metadata": {},
   "outputs": [],
   "source": [
    "llm = ChatOpenAI(model=\"gpt-3.5-turbo-0125\", temperature=0, api_key=api)\n",
    "\n",
    "test = ReActAgent(llm=llm, max_steps=6)"
   ]
  },
  {
   "cell_type": "code",
   "execution_count": 4,
   "metadata": {},
   "outputs": [
    {
     "name": "stderr",
     "output_type": "stream",
     "text": [
      "/opt/homebrew/lib/python3.11/site-packages/langchain_core/_api/deprecation.py:117: LangChainDeprecationWarning: The function `__call__` was deprecated in LangChain 0.1.7 and will be removed in 0.2.0. Use invoke instead.\n",
      "  warn_deprecated(\n"
     ]
    }
   ],
   "source": [
    "from agential.cog.prompts.react import REACT_AMBIGQA_EXAMPLES\n",
    "\n",
    "output = test.generate(question = \"When did the simpsons first air on television?\", examples= REACT_AMBIGQA_EXAMPLES )"
   ]
  },
  {
   "cell_type": "code",
   "execution_count": 5,
   "metadata": {},
   "outputs": [
    {
     "data": {
      "text/plain": [
       "[ReActOutput(thought=\"Thought: Let's search for the air date of The Simpsons on television.\", action='Action: Search[When did The Simpsons first air on television?]', observation='Observation 1: If I Did It: Confessions of the Killer is a book by O.J. Simpson and Pablo Fenjves, in which Simpson puts forth a hypothetical description of the murders of Nicole Brown Simpson and Ron Goldman. According to Fenjves, the book is based on extensive discussions with Simpson, while Simpson\\'s former manager, Norman Pardo, claimed that Simpson was not involved in writing the book but rather accepted $600,000 to say he had written it and to conduct an interview.Simpson was acquitted of the murders in a criminal trial (People v. Simpson) but later was found financially liable in a civil trial. Although the original release of the book was canceled shortly after it was announced in November 2006, 400,000 physical copies of the original book were printed, and copies of it had been leaked online by June 2007.The book was originally due to be published by ReganBooks, an imprint of HarperCollins, which was headed by editor and publisher Judith Regan. The television network Fox, a sister to HarperCollins via News Corporation at the time, was to also broadcast an interview special with Simpson to promote the book, O.J. Simpson: If I Did It, Here\\'s How It Happened. However, following objections to the special by several Fox station owners, the special was also canceled. Footage from the interview was aired for the first time during a Fox special, O.J. Simpson: The Lost Confession?, in March 2018.In August 2007, a Florida bankruptcy court awarded the rights to the book to the Goldman family to partially satisfy the civil judgment. The book\\'s title was changed to If I Did It: Confessions of the Killer, and this version was published by Beaufort Books, a New York City publishing house owned by parent company Kampmann & Company/Midpoint Trade Books. Comments were added to the original manuscript by the Goldman family, Fenjves, and journalist Dominick Dunne. The new cover design printed the word \"If\" greatly reduced in size compared with the other words, and placed inside the word \"I\", so unless looked at very closely, the title of the book appears to read \"I Did It: Confessions of the Killer\".'),\n",
       " ReActOutput(thought=\"Thought: The search results are not relevant to the question. Let's try searching again for the air date of The Simpsons on television.\", action='Action: Search[The Simpsons first air date on television]', observation='Observation 2: \"Simpsons Roasting on an Open Fire\" (titled onscreen as \"The Simpsons Christmas Special\") is the series premiere of the American animated television series The Simpsons. It first aired on Fox in the United States on December 17, 1989. Introducing the Simpson family into half-hour television in this episode, Bart Simpson disobediently gets a tattoo without the permission of his parents. After Marge spends all the family\\'s holiday budget on having it removed, Homer learns that his boss is not giving employees Christmas bonuses, and takes a job as a shopping mall Santa.The Simpsons was originally intended to debut earlier in 1989 with \"Some Enchanted Evening\", but due to animation problems with that episode, the series debuted with this episode on December 17. \"Simpsons Roasting on an Open Fire\" was written by Mimi Pond and directed by David Silverman, and was the only episode of the series to air during the 1980s. Promos for the next episode (\"Bart the Genius\") ran during commercial breaks for this episode.\"Simpsons Roasting on an Open Fire\" was viewed by approximately 13.4 million people in its original airing, and was nominated for two Emmy Awards in 1990. Since its release on home video, the episode has received positive reviews from critics.'),\n",
       " ReActOutput(thought='Thought: The evidence suggests that The Simpsons first aired on television on December 17, 1989. ', action='Action: Finish[December 17, 1989]', observation='Observation 3: December 17, 1989')]"
      ]
     },
     "execution_count": 5,
     "metadata": {},
     "output_type": "execute_result"
    }
   ],
   "source": [
    "output"
   ]
  },
  {
   "cell_type": "code",
   "execution_count": 6,
   "metadata": {},
   "outputs": [
    {
     "name": "stdout",
     "output_type": "stream",
     "text": [
      "Thought: Let's search for the air date of The Simpsons on television.\n",
      "Action: Search[When did The Simpsons first air on television?]\n",
      "Observation 1: If I Did It: Confessions of the Killer is a book by O.J. Simpson and Pablo Fenjves, in which Simpson puts forth a hypothetical description of the murders of Nicole Brown Simpson and Ron Goldman. According to Fenjves, the book is based on extensive discussions with Simpson, while Simpson's former manager, Norman Pardo, claimed that Simpson was not involved in writing the book but rather accepted $600,000 to say he had written it and to conduct an interview.Simpson was acquitted of the murders in a criminal trial (People v. Simpson) but later was found financially liable in a civil trial. Although the original release of the book was canceled shortly after it was announced in November 2006, 400,000 physical copies of the original book were printed, and copies of it had been leaked online by June 2007.The book was originally due to be published by ReganBooks, an imprint of HarperCollins, which was headed by editor and publisher Judith Regan. The television network Fox, a sister to HarperCollins via News Corporation at the time, was to also broadcast an interview special with Simpson to promote the book, O.J. Simpson: If I Did It, Here's How It Happened. However, following objections to the special by several Fox station owners, the special was also canceled. Footage from the interview was aired for the first time during a Fox special, O.J. Simpson: The Lost Confession?, in March 2018.In August 2007, a Florida bankruptcy court awarded the rights to the book to the Goldman family to partially satisfy the civil judgment. The book's title was changed to If I Did It: Confessions of the Killer, and this version was published by Beaufort Books, a New York City publishing house owned by parent company Kampmann & Company/Midpoint Trade Books. Comments were added to the original manuscript by the Goldman family, Fenjves, and journalist Dominick Dunne. The new cover design printed the word \"If\" greatly reduced in size compared with the other words, and placed inside the word \"I\", so unless looked at very closely, the title of the book appears to read \"I Did It: Confessions of the Killer\".\n",
      "Thought: The search results are not relevant to the question. Let's try searching again for the air date of The Simpsons on television.\n",
      "Action: Search[The Simpsons first air date on television]\n",
      "Observation 2: \"Simpsons Roasting on an Open Fire\" (titled onscreen as \"The Simpsons Christmas Special\") is the series premiere of the American animated television series The Simpsons. It first aired on Fox in the United States on December 17, 1989. Introducing the Simpson family into half-hour television in this episode, Bart Simpson disobediently gets a tattoo without the permission of his parents. After Marge spends all the family's holiday budget on having it removed, Homer learns that his boss is not giving employees Christmas bonuses, and takes a job as a shopping mall Santa.The Simpsons was originally intended to debut earlier in 1989 with \"Some Enchanted Evening\", but due to animation problems with that episode, the series debuted with this episode on December 17. \"Simpsons Roasting on an Open Fire\" was written by Mimi Pond and directed by David Silverman, and was the only episode of the series to air during the 1980s. Promos for the next episode (\"Bart the Genius\") ran during commercial breaks for this episode.\"Simpsons Roasting on an Open Fire\" was viewed by approximately 13.4 million people in its original airing, and was nominated for two Emmy Awards in 1990. Since its release on home video, the episode has received positive reviews from critics.\n",
      "Thought: The evidence suggests that The Simpsons first aired on television on December 17, 1989. \n",
      "Action: Finish[December 17, 1989]\n",
      "Observation 3: December 17, 1989\n"
     ]
    }
   ],
   "source": [
    "for i in output:\n",
    "    print(i.thought)\n",
    "    \n",
    "    print(i.action)\n",
    "    print(i.observation)"
   ]
  },
  {
   "cell_type": "code",
   "execution_count": null,
   "metadata": {},
   "outputs": [],
   "source": []
  }
 ],
 "metadata": {
  "kernelspec": {
   "display_name": "discussion-agents",
   "language": "python",
   "name": "python3"
  },
  "language_info": {
   "codemirror_mode": {
    "name": "ipython",
    "version": 3
   },
   "file_extension": ".py",
   "mimetype": "text/x-python",
   "name": "python",
   "nbconvert_exporter": "python",
   "pygments_lexer": "ipython3",
   "version": "3.11.7"
  }
 },
 "nbformat": 4,
 "nbformat_minor": 2
}
