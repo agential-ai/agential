{
 "cells": [
  {
   "cell_type": "code",
   "execution_count": 4,
   "metadata": {},
   "outputs": [
    {
     "name": "stdout",
     "output_type": "stream",
     "text": [
      "Collecting litellm\n",
      "  Downloading litellm-1.42.12-py3-none-any.whl.metadata (32 kB)\n",
      "Requirement already satisfied: aiohttp in /opt/anaconda3/envs/agential/lib/python3.11/site-packages (from litellm) (3.9.5)\n",
      "Requirement already satisfied: click in /opt/anaconda3/envs/agential/lib/python3.11/site-packages (from litellm) (8.1.7)\n",
      "Requirement already satisfied: importlib-metadata>=6.8.0 in /opt/anaconda3/envs/agential/lib/python3.11/site-packages (from litellm) (8.0.0)\n",
      "Requirement already satisfied: jinja2<4.0.0,>=3.1.2 in /opt/anaconda3/envs/agential/lib/python3.11/site-packages (from litellm) (3.1.4)\n",
      "Collecting jsonschema<5.0.0,>=4.22.0 (from litellm)\n",
      "  Downloading jsonschema-4.23.0-py3-none-any.whl.metadata (7.9 kB)\n",
      "Requirement already satisfied: openai>=1.27.0 in /opt/anaconda3/envs/agential/lib/python3.11/site-packages (from litellm) (1.30.5)\n",
      "Requirement already satisfied: pydantic<3.0.0,>=2.0.0 in /opt/anaconda3/envs/agential/lib/python3.11/site-packages (from litellm) (2.7.2)\n",
      "Requirement already satisfied: python-dotenv>=0.2.0 in /opt/anaconda3/envs/agential/lib/python3.11/site-packages (from litellm) (1.0.0)\n",
      "Requirement already satisfied: requests<3.0.0,>=2.31.0 in /opt/anaconda3/envs/agential/lib/python3.11/site-packages (from litellm) (2.32.2)\n",
      "Requirement already satisfied: tiktoken>=0.7.0 in /opt/anaconda3/envs/agential/lib/python3.11/site-packages (from litellm) (0.7.0)\n",
      "Requirement already satisfied: tokenizers in /opt/anaconda3/envs/agential/lib/python3.11/site-packages (from litellm) (0.19.1)\n",
      "Requirement already satisfied: zipp>=0.5 in /opt/anaconda3/envs/agential/lib/python3.11/site-packages (from importlib-metadata>=6.8.0->litellm) (3.19.2)\n",
      "Requirement already satisfied: MarkupSafe>=2.0 in /opt/anaconda3/envs/agential/lib/python3.11/site-packages (from jinja2<4.0.0,>=3.1.2->litellm) (2.1.3)\n",
      "Requirement already satisfied: attrs>=22.2.0 in /opt/anaconda3/envs/agential/lib/python3.11/site-packages (from jsonschema<5.0.0,>=4.22.0->litellm) (23.2.0)\n",
      "Collecting jsonschema-specifications>=2023.03.6 (from jsonschema<5.0.0,>=4.22.0->litellm)\n",
      "  Downloading jsonschema_specifications-2023.12.1-py3-none-any.whl.metadata (3.0 kB)\n",
      "Collecting referencing>=0.28.4 (from jsonschema<5.0.0,>=4.22.0->litellm)\n",
      "  Downloading referencing-0.35.1-py3-none-any.whl.metadata (2.8 kB)\n",
      "Collecting rpds-py>=0.7.1 (from jsonschema<5.0.0,>=4.22.0->litellm)\n",
      "  Downloading rpds_py-0.19.1-cp311-cp311-macosx_11_0_arm64.whl.metadata (4.2 kB)\n",
      "Requirement already satisfied: anyio<5,>=3.5.0 in /opt/anaconda3/envs/agential/lib/python3.11/site-packages (from openai>=1.27.0->litellm) (4.4.0)\n",
      "Requirement already satisfied: distro<2,>=1.7.0 in /opt/anaconda3/envs/agential/lib/python3.11/site-packages (from openai>=1.27.0->litellm) (1.9.0)\n",
      "Requirement already satisfied: httpx<1,>=0.23.0 in /opt/anaconda3/envs/agential/lib/python3.11/site-packages (from openai>=1.27.0->litellm) (0.27.0)\n",
      "Requirement already satisfied: sniffio in /opt/anaconda3/envs/agential/lib/python3.11/site-packages (from openai>=1.27.0->litellm) (1.3.1)\n",
      "Requirement already satisfied: tqdm>4 in /opt/anaconda3/envs/agential/lib/python3.11/site-packages (from openai>=1.27.0->litellm) (4.66.4)\n",
      "Requirement already satisfied: typing-extensions<5,>=4.7 in /opt/anaconda3/envs/agential/lib/python3.11/site-packages (from openai>=1.27.0->litellm) (4.9.0)\n",
      "Requirement already satisfied: annotated-types>=0.4.0 in /opt/anaconda3/envs/agential/lib/python3.11/site-packages (from pydantic<3.0.0,>=2.0.0->litellm) (0.7.0)\n",
      "Requirement already satisfied: pydantic-core==2.18.3 in /opt/anaconda3/envs/agential/lib/python3.11/site-packages (from pydantic<3.0.0,>=2.0.0->litellm) (2.18.3)\n",
      "Requirement already satisfied: charset-normalizer<4,>=2 in /opt/anaconda3/envs/agential/lib/python3.11/site-packages (from requests<3.0.0,>=2.31.0->litellm) (3.3.2)\n",
      "Requirement already satisfied: idna<4,>=2.5 in /opt/anaconda3/envs/agential/lib/python3.11/site-packages (from requests<3.0.0,>=2.31.0->litellm) (3.7)\n",
      "Requirement already satisfied: urllib3<3,>=1.21.1 in /opt/anaconda3/envs/agential/lib/python3.11/site-packages (from requests<3.0.0,>=2.31.0->litellm) (2.1.0)\n",
      "Requirement already satisfied: certifi>=2017.4.17 in /opt/anaconda3/envs/agential/lib/python3.11/site-packages (from requests<3.0.0,>=2.31.0->litellm) (2023.11.17)\n",
      "Requirement already satisfied: regex>=2022.1.18 in /opt/anaconda3/envs/agential/lib/python3.11/site-packages (from tiktoken>=0.7.0->litellm) (2024.5.15)\n",
      "Requirement already satisfied: aiosignal>=1.1.2 in /opt/anaconda3/envs/agential/lib/python3.11/site-packages (from aiohttp->litellm) (1.3.1)\n",
      "Requirement already satisfied: frozenlist>=1.1.1 in /opt/anaconda3/envs/agential/lib/python3.11/site-packages (from aiohttp->litellm) (1.4.1)\n",
      "Requirement already satisfied: multidict<7.0,>=4.5 in /opt/anaconda3/envs/agential/lib/python3.11/site-packages (from aiohttp->litellm) (6.0.5)\n",
      "Requirement already satisfied: yarl<2.0,>=1.0 in /opt/anaconda3/envs/agential/lib/python3.11/site-packages (from aiohttp->litellm) (1.9.4)\n",
      "Requirement already satisfied: huggingface-hub<1.0,>=0.16.4 in /opt/anaconda3/envs/agential/lib/python3.11/site-packages (from tokenizers->litellm) (0.23.2)\n",
      "Requirement already satisfied: httpcore==1.* in /opt/anaconda3/envs/agential/lib/python3.11/site-packages (from httpx<1,>=0.23.0->openai>=1.27.0->litellm) (1.0.5)\n",
      "Requirement already satisfied: h11<0.15,>=0.13 in /opt/anaconda3/envs/agential/lib/python3.11/site-packages (from httpcore==1.*->httpx<1,>=0.23.0->openai>=1.27.0->litellm) (0.14.0)\n",
      "Requirement already satisfied: filelock in /opt/anaconda3/envs/agential/lib/python3.11/site-packages (from huggingface-hub<1.0,>=0.16.4->tokenizers->litellm) (3.13.1)\n",
      "Requirement already satisfied: fsspec>=2023.5.0 in /opt/anaconda3/envs/agential/lib/python3.11/site-packages (from huggingface-hub<1.0,>=0.16.4->tokenizers->litellm) (2024.5.0)\n",
      "Requirement already satisfied: packaging>=20.9 in /opt/anaconda3/envs/agential/lib/python3.11/site-packages (from huggingface-hub<1.0,>=0.16.4->tokenizers->litellm) (24.1)\n",
      "Requirement already satisfied: pyyaml>=5.1 in /opt/anaconda3/envs/agential/lib/python3.11/site-packages (from huggingface-hub<1.0,>=0.16.4->tokenizers->litellm) (6.0.1)\n",
      "Downloading litellm-1.42.12-py3-none-any.whl (7.2 MB)\n",
      "\u001b[2K   \u001b[90m━━━━━━━━━━━━━━━━━━━━━━━━━━━━━━━━━━━━━━━━\u001b[0m \u001b[32m7.2/7.2 MB\u001b[0m \u001b[31m22.8 MB/s\u001b[0m eta \u001b[36m0:00:00\u001b[0m00:01\u001b[0m00:01\u001b[0m\n",
      "\u001b[?25hDownloading jsonschema-4.23.0-py3-none-any.whl (88 kB)\n",
      "\u001b[2K   \u001b[90m━━━━━━━━━━━━━━━━━━━━━━━━━━━━━━━━━━━━━━━━\u001b[0m \u001b[32m88.5/88.5 kB\u001b[0m \u001b[31m7.9 MB/s\u001b[0m eta \u001b[36m0:00:00\u001b[0m\n",
      "\u001b[?25hDownloading jsonschema_specifications-2023.12.1-py3-none-any.whl (18 kB)\n",
      "Downloading referencing-0.35.1-py3-none-any.whl (26 kB)\n",
      "Downloading rpds_py-0.19.1-cp311-cp311-macosx_11_0_arm64.whl (310 kB)\n",
      "\u001b[2K   \u001b[90m━━━━━━━━━━━━━━━━━━━━━━━━━━━━━━━━━━━━━━━━\u001b[0m \u001b[32m310.4/310.4 kB\u001b[0m \u001b[31m16.4 MB/s\u001b[0m eta \u001b[36m0:00:00\u001b[0m\n",
      "\u001b[?25hInstalling collected packages: rpds-py, referencing, jsonschema-specifications, jsonschema, litellm\n",
      "Successfully installed jsonschema-4.23.0 jsonschema-specifications-2023.12.1 litellm-1.42.12 referencing-0.35.1 rpds-py-0.19.1\n",
      "Note: you may need to restart the kernel to use updated packages.\n"
     ]
    }
   ],
   "source": [
    "import litellm\n"
   ]
  },
  {
   "cell_type": "code",
   "execution_count": 5,
   "metadata": {},
   "outputs": [],
   "source": [
    "from litellm import completion \n",
    "\n",
    "model = \"gpt-3.5-turbo\"\n",
    "messages = [{\"role\":\"user\", \"content\":\"This is a test request\"}]\n",
    "\n",
    "response = completion(\n",
    "  model=\"gpt-3.5-turbo\",\n",
    "  messages=[{ \"content\": \"Hello, how are you?\",\"role\": \"user\"}]\n",
    ")"
   ]
  },
  {
   "cell_type": "code",
   "execution_count": 6,
   "metadata": {},
   "outputs": [
    {
     "name": "stdout",
     "output_type": "stream",
     "text": [
      "Hello! I'm just a computer program, so I don't have feelings, but I'm here and ready to help you. How can I assist you today?\n"
     ]
    }
   ],
   "source": [
    "print(response.choices[0].message.content)"
   ]
  },
  {
   "cell_type": "code",
   "execution_count": 7,
   "metadata": {},
   "outputs": [
    {
     "data": {
      "text/plain": [
       "ModelResponse(id='chatcmpl-9syqI0IjrYoQ9eingzDn453a38S2K', choices=[Choices(finish_reason='stop', index=0, message=Message(content=\"Hello! I'm just a computer program, so I don't have feelings, but I'm here and ready to help you. How can I assist you today?\", role='assistant', tool_calls=None, function_call=None))], created=1722890618, model='gpt-3.5-turbo-0125', object='chat.completion', system_fingerprint=None, usage=Usage(prompt_tokens=13, completion_tokens=33, total_tokens=46))"
      ]
     },
     "execution_count": 7,
     "metadata": {},
     "output_type": "execute_result"
    }
   ],
   "source": [
    "response"
   ]
  },
  {
   "cell_type": "code",
   "execution_count": null,
   "metadata": {},
   "outputs": [],
   "source": []
  }
 ],
 "metadata": {
  "kernelspec": {
   "display_name": "agential",
   "language": "python",
   "name": "python3"
  },
  "language_info": {
   "codemirror_mode": {
    "name": "ipython",
    "version": 3
   },
   "file_extension": ".py",
   "mimetype": "text/x-python",
   "name": "python",
   "nbconvert_exporter": "python",
   "pygments_lexer": "ipython3",
   "version": "3.11.5"
  }
 },
 "nbformat": 4,
 "nbformat_minor": 2
}
