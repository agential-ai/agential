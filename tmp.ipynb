{
 "cells": [
  {
   "cell_type": "markdown",
   "metadata": {},
   "source": [
    "## Testing Code"
   ]
  },
  {
   "cell_type": "code",
   "execution_count": 74,
   "metadata": {},
   "outputs": [],
   "source": [
    "#  Practice:\n",
    "example = {\n",
    "    \"id\": \"22a4636f-8179-4357-8e87-d1743ece1f81\",\n",
    "    \"snapshot\": \"chrome\",\n",
    "    \"instruction\": \"Please help me convert the file \\\"Meeting-Agenda.docx\\\" to a pdf file and upload to the folder 'meetings' in my google drive.\",\n",
    "    \"source\": \"https://marketplace.uipath.com/listings/merge-pdfs-from-gmail-email-attachments-and-upload-to-gogle-drive\",\n",
    "    \"config\": [\n",
    "        {\n",
    "            \"type\": \"googledrive\",\n",
    "            \"parameters\": {\n",
    "                \"settings_file\": \"evaluation_examples/settings/googledrive/settings.yml\",\n",
    "                \"operation\": [\n",
    "                    \"delete\",\n",
    "                    \"mkdirs\"\n",
    "                ],\n",
    "                \"args\": [\n",
    "                    {\n",
    "                        \"query\": \"title = 'Meeting-Agenda.docx' or title = 'Meeting-Agenda.pdf'\",\n",
    "                        \"trash\": False\n",
    "                    },\n",
    "                    {\n",
    "                        \"path\": [\n",
    "                            \"meetings\"\n",
    "                        ]\n",
    "                    }\n",
    "                ]\n",
    "            }\n",
    "        },\n",
    "        {\n",
    "            \"type\": \"launch\",\n",
    "            \"parameters\": {\n",
    "                \"command\": [\n",
    "                    \"google-chrome\",\n",
    "                    \"--remote-debugging-port=1337\"\n",
    "                ]\n",
    "            }\n",
    "        },\n",
    "        {\n",
    "            \"type\": \"launch\",\n",
    "            \"parameters\": {\n",
    "                \"command\": [\n",
    "                    \"socat\",\n",
    "                    \"tcp-listen:9222,fork\",\n",
    "                    \"tcp:localhost:1337\"\n",
    "                ]\n",
    "            }\n",
    "        },\n",
    "        {\n",
    "            \"type\": \"chrome_open_tabs\",\n",
    "            \"parameters\": {\n",
    "                \"urls_to_open\": [\n",
    "                    \"https://news.google.com\",\n",
    "                    \"https://x.com\",\n",
    "                    \"https://www.deepl.com\"\n",
    "                ]\n",
    "            }\n",
    "        },\n",
    "        {\n",
    "            \"type\": \"login\",\n",
    "            \"parameters\": {\n",
    "                \"settings_file\": \"evaluation_examples/settings/google/settings.json\",\n",
    "                \"platform\": \"googledrive\"\n",
    "            }\n",
    "        },\n",
    "        {\n",
    "            \"type\": \"download\",\n",
    "            \"parameters\": {\n",
    "                \"files\": [\n",
    "                    {\n",
    "                        \"url\": \"https://drive.usercontent.google.com/download?id=1mIPe4P5b5WPoYI1zegSXjZ1Fhjjvr5Zk&export=download&authuser=0&confirm=t\",\n",
    "                        \"path\": \"/home/user/Desktop/Meeting-Agenda.docx\"\n",
    "                    }\n",
    "                ]\n",
    "            }\n",
    "        },\n",
    "        {\n",
    "            \"type\": \"launch\",\n",
    "            \"parameters\": {\n",
    "                \"command\": [\n",
    "                    \"libreoffice\",\n",
    "                    \"--writer\",\n",
    "                    \"/home/user/Desktop/Meeting-Agenda.docx\"\n",
    "                ]\n",
    "            }\n",
    "        }\n",
    "    ],\n",
    "    \"trajectory\": \"trajectories/\",\n",
    "    \"related_apps\": [\n",
    "        \"libreoffice_writer\",\n",
    "        \"chrome\"\n",
    "    ],\n",
    "    \"evaluator\": {\n",
    "        \"func\": \"compare_pdfs\",\n",
    "        \"result\": {\n",
    "            \"type\": \"googledrive_file\",\n",
    "            \"settings_file\": \"evaluation_examples/settings/googledrive/settings.yml\",\n",
    "            \"path\": [\n",
    "                \"meetings\",\n",
    "                \"Meeting-Agenda.pdf\"\n",
    "            ],\n",
    "            \"dest\": \"Meeting-Agenda.pdf\"\n",
    "        },\n",
    "        \"expected\": {\n",
    "            \"type\": \"cloud_file\",\n",
    "            \"path\": \"https://drive.usercontent.google.com/download?id=1vY9GCxczkuom8bOU6SVHe9pTYgGIm1_M&export=download&authuser=0&confirm=t\",\n",
    "            \"dest\": \"gold-Meeting-Agenda.pdf\"\n",
    "        }\n",
    "    }\n",
    "}\n",
    "\n"
   ]
  },
  {
   "cell_type": "code",
   "execution_count": 75,
   "metadata": {},
   "outputs": [],
   "source": [
    "TYPE_TO_LOOK = [\"googledrive\", \"login\", \"googledrive_file\"]"
   ]
  },
  {
   "cell_type": "code",
   "execution_count": 76,
   "metadata": {},
   "outputs": [
    {
     "data": {
      "text/plain": [
       "'googledrive'"
      ]
     },
     "execution_count": 76,
     "metadata": {},
     "output_type": "execute_result"
    }
   ],
   "source": [
    "example[\"config\"][4][\"parameters\"][\"platform\"]"
   ]
  },
  {
   "cell_type": "code",
   "execution_count": 77,
   "metadata": {},
   "outputs": [],
   "source": [
    "for item in example[\"config\"]:\n",
    "    if item[\"type\"] in TYPE_TO_LOOK:\n",
    "        # setting_file = item[\"parameters\"][\"settings_file\"]\n",
    "        file_type = item[\"parameters\"][\"settings_file\"].split(\".\")[-1]\n",
    "        if file_type == \"json\":\n",
    "            item[\"parameters\"][\"settings_file\"] = \"change json file\"\n",
    "        else:\n",
    "            item[\"parameters\"][\"settings_file\"] = \"change yml file\""
   ]
  },
  {
   "cell_type": "code",
   "execution_count": 78,
   "metadata": {},
   "outputs": [],
   "source": [
    "path = example[\"evaluator\"][\"result\"]\n",
    "\n",
    "if path[\"type\"] in TYPE_TO_LOOK and path[\"settings_file\"].split(\".\")[-1] == \"yml\":\n",
    "    path[\"settings_file\"] = \"change yml file\""
   ]
  },
  {
   "cell_type": "code",
   "execution_count": 79,
   "metadata": {},
   "outputs": [
    {
     "data": {
      "text/plain": [
       "{'func': 'compare_pdfs',\n",
       " 'result': {'type': 'googledrive_file',\n",
       "  'settings_file': 'change yml file',\n",
       "  'path': ['meetings', 'Meeting-Agenda.pdf'],\n",
       "  'dest': 'Meeting-Agenda.pdf'},\n",
       " 'expected': {'type': 'cloud_file',\n",
       "  'path': 'https://drive.usercontent.google.com/download?id=1vY9GCxczkuom8bOU6SVHe9pTYgGIm1_M&export=download&authuser=0&confirm=t',\n",
       "  'dest': 'gold-Meeting-Agenda.pdf'}}"
      ]
     },
     "execution_count": 79,
     "metadata": {},
     "output_type": "execute_result"
    }
   ],
   "source": [
    "example[\"evaluator\"]"
   ]
  },
  {
   "cell_type": "code",
   "execution_count": 25,
   "metadata": {},
   "outputs": [],
   "source": [
    "test = {\n",
    "    \"t1\": \"t11\",\n",
    "    \"t2\": \"t22\",\n",
    "}"
   ]
  },
  {
   "cell_type": "code",
   "execution_count": null,
   "metadata": {},
   "outputs": [],
   "source": [
    "windows, vscode, thunderbird, multi-apps"
   ]
  },
  {
   "cell_type": "code",
   "execution_count": 32,
   "metadata": {},
   "outputs": [
    {
     "name": "stdout",
     "output_type": "stream",
     "text": [
      "t11\n",
      "t22\n"
     ]
    }
   ],
   "source": [
    "for example in test.keys():\n",
    "    print(test[example])"
   ]
  },
  {
   "cell_type": "code",
   "execution_count": 24,
   "metadata": {},
   "outputs": [
    {
     "name": "stdout",
     "output_type": "stream",
     "text": [
      "{'id': '22a4636f-8179-4357-8e87-d1743ece1f81', 'snapshot': 'chrome', 'instruction': 'Please help me convert the file \"Meeting-Agenda.docx\" to a pdf file and upload to the folder \\'meetings\\' in my google drive.', 'source': 'https://marketplace.uipath.com/listings/merge-pdfs-from-gmail-email-attachments-and-upload-to-gogle-drive', 'config': [{'type': 'googledrive', 'parameters': {'settings_file': 'change yml file', 'operation': ['delete', 'mkdirs'], 'args': [{'query': \"title = 'Meeting-Agenda.docx' or title = 'Meeting-Agenda.pdf'\", 'trash': False}, {'path': ['meetings']}]}}, {'type': 'launch', 'parameters': {'command': ['google-chrome', '--remote-debugging-port=1337']}}, {'type': 'launch', 'parameters': {'command': ['socat', 'tcp-listen:9222,fork', 'tcp:localhost:1337']}}, {'type': 'chrome_open_tabs', 'parameters': {'urls_to_open': ['https://news.google.com', 'https://x.com', 'https://www.deepl.com']}}, {'type': 'login', 'parameters': {'settings_file': 'change json file', 'platform': 'googledrive'}}, {'type': 'download', 'parameters': {'files': [{'url': 'https://drive.usercontent.google.com/download?id=1mIPe4P5b5WPoYI1zegSXjZ1Fhjjvr5Zk&export=download&authuser=0&confirm=t', 'path': '/home/user/Desktop/Meeting-Agenda.docx'}]}}, {'type': 'launch', 'parameters': {'command': ['libreoffice', '--writer', '/home/user/Desktop/Meeting-Agenda.docx']}}], 'trajectory': 'trajectories/', 'related_apps': ['libreoffice_writer', 'chrome'], 'evaluator': {'func': 'compare_pdfs', 'result': {'type': 'googledrive_file', 'settings_file': 'change yml file', 'path': ['meetings', 'Meeting-Agenda.pdf'], 'dest': 'Meeting-Agenda.pdf'}, 'expected': {'type': 'cloud_file', 'path': 'https://drive.usercontent.google.com/download?id=1vY9GCxczkuom8bOU6SVHe9pTYgGIm1_M&export=download&authuser=0&confirm=t', 'dest': 'gold-Meeting-Agenda.pdf'}}}\n"
     ]
    }
   ],
   "source": [
    "print(example)"
   ]
  },
  {
   "cell_type": "code",
   "execution_count": null,
   "metadata": {},
   "outputs": [],
   "source": [
    "# Case 1\n",
    "env = OSWorld()\n",
    "proc = OSWorldProcessor()\n",
    "\n",
    "task = next(proc)\n",
    "env.reset(task)\n",
    "\n",
    "# Pros\n",
    "# - one class that handles data ops\n",
    "# - another for env\n",
    "# - wanna use benchmark tasks? just use the processor\n",
    "# - wanna process your custom slice of the benchmarks? just use the processor \n",
    "# - wanna use your custom task config? just dont use the processor\n",
    "\n",
    "# Cons\n",
    "# - additional class "
   ]
  },
  {
   "cell_type": "code",
   "execution_count": null,
   "metadata": {},
   "outputs": [],
   "source": [
    "# Case 2\n",
    "env = OSWorld(OSWorldProcessor(\"evaluation_examples/\"), secrets, use_benchmark=True)\n",
    "\n",
    "env.reset()\n",
    "\n",
    "# Pros\n",
    "# - single class object to handle benchmark tasks or custom tasks\n",
    "\n",
    "# Cons\n",
    "# - intermingling between data ops and env ops\n",
    "# - confuses the init for env; maybe a bit too overloading"
   ]
  },
  {
   "cell_type": "code",
   "execution_count": null,
   "metadata": {},
   "outputs": [],
   "source": [
    "# Case 3\n",
    "\n",
    "# OSWorld <- OSWorldAdapter <- OSWorldProcessor \n",
    "# OSWorldEnv -> OSWorld <- OSWorldProcessor\n",
    "\n",
    "env = OSWorld()\n",
    "proc = OSWorldProcessor(\"evaluation_examples/\")\n",
    "\n",
    "# Pros\n",
    "# - scalable, modular, robust\n",
    "\n",
    "# Cons\n",
    "# - more effort\n",
    "# - more maintenance\n",
    "# - more complexity"
   ]
  },
  {
   "cell_type": "code",
   "execution_count": null,
   "metadata": {},
   "outputs": [],
   "source": [
    "{\n",
    "  \"id\": \"0c825995-5b70-4526-b663-113f4c999dd2\",\n",
    "  \"snapshot\": \"libreoffice_calc\",\n",
    "  \"instruction\": \"I'm working on a comprehensive report for our environmental policy review meeting next week. I need to integrate key insights from an important document, which is a guidebook on the Green Economy, where I'm particularly interested in the 'Introduction' section. Could you extract this section and compile them into a new Google Doc named 'environment_policy_report (draft)' under /environment_policy folder? This will significantly aid in our discussion on aligning our environmental policies with sustainable and green economic practices. Thanks!\",\n",
    "  \"source\": \"authors\",\n",
    "  \"config\": [\n",
    "    {\n",
    "      \"type\": \"googledrive\",\n",
    "      \"parameters\": {\n",
    "        \"settings_file\": \"evaluation_examples/settings/googledrive/settings.yml\",\n",
    "        \"operation\": [\n",
    "          \"delete\"\n",
    "        ],\n",
    "        \"args\": [\n",
    "          {\n",
    "            \"query\": \"title = 'environment_policy_report (draft).doc' or title = 'environment_policy_report (draft).docx' or title = 'environment_policy_report (draft)'\",\n",
    "            \"trash\": false\n",
    "          }\n",
    "        ]\n",
    "      }\n",
    "    },\n",
    "    {\n",
    "      \"type\": \"launch\",\n",
    "      \"parameters\": {\n",
    "        \"command\": [\n",
    "          \"google-chrome\",\n",
    "          \"--remote-debugging-port=1337\"\n",
    "        ]\n",
    "      }\n",
    "    },\n",
    "    {\n",
    "      \"type\": \"launch\",\n",
    "      \"parameters\": {\n",
    "        \"command\": [\n",
    "          \"socat\",\n",
    "          \"tcp-listen:9222,fork\",\n",
    "          \"tcp:localhost:1337\"\n",
    "        ]\n",
    "      }\n",
    "    },\n",
    "    {\n",
    "      \"type\": \"login\",\n",
    "      \"parameters\": {\n",
    "        \"settings_file\": \"evaluation_examples/settings/google/settings.json\",\n",
    "        \"platform\": \"googledrive\"\n",
    "      }\n",
    "    },\n",
    "    {\n",
    "      \"type\": \"command\",\n",
    "      \"parameters\": {\n",
    "        \"command\": [\n",
    "          \"mkdir\",\n",
    "          \"-p\",\n",
    "          \"/home/user/Desktop/wwf\"\n",
    "        ]\n",
    "      }\n",
    "    },\n",
    "    {\n",
    "      \"type\": \"download\",\n",
    "      \"parameters\": {\n",
    "        \"files\": [\n",
    "          {\n",
    "            \"path\": \"/home/user/Desktop/wwf/lpr_living_planet_report_2016.pdf\",\n",
    "            \"url\": \"https://drive.google.com/uc?id=19NCdw_MVP6nH5nC6okYYe8U1mJABfTRK&export=download\"\n",
    "          },\n",
    "          {\n",
    "            \"path\": \"/home/user/Desktop/wwf/279c656a32_ENGLISH_FULL.pdf\",\n",
    "            \"url\": \"https://drive.google.com/uc?id=1ckH1NetfImQ9EyONTO-ZFWA8m8VIUFvD&export=download\"\n",
    "          },\n",
    "          {\n",
    "            \"path\": \"/home/user/Desktop/wwf/7g37j96psg_WWF_AR2021_spreads.pdf\",\n",
    "            \"url\": \"https://drive.google.com/uc?id=1cxLTzmqDKMomOyvho29lvFvhRnb0Y8__&export=download\"\n",
    "          },\n",
    "          {\n",
    "            \"path\": \"/home/user/Desktop/GE Guidebook.pdf\",\n",
    "            \"url\": \"https://drive.google.com/uc?id=1KzC_R3eI3Rmgwz5bkcI8Ohv7ebOrU-Is&export=download\"\n",
    "          },\n",
    "          {\n",
    "            \"path\": \"/home/user/Desktop/assessing_and_reporting_water_quality(q&a).pdf\",\n",
    "            \"url\": \"https://drive.google.com/uc?id=1LFojf3Weflv3fVdrZrgTY1iUaRdbT9kG&export=download\"\n",
    "          }\n",
    "        ]\n",
    "      }\n",
    "    }\n",
    "  ],\n",
    "  \"trajectory\": \"trajectories/0c825995-5b70-4526-b663-113f4c999dd2\",\n",
    "  \"related_apps\": [\n",
    "    \"libreoffice_calc\",\n",
    "    \"chrome\",\n",
    "    \"os\"\n",
    "  ],\n",
    "  \"evaluator\": {\n",
    "    \"func\": \"compare_docx_files\",\n",
    "    \"result\": {\n",
    "      \"type\": \"googledrive_file\",\n",
    "      \"settings_file\": \"evaluation_examples/settings/googledrive/settings.yml\",\n",
    "      \"path\": [\"environment_policy\", \"environment_policy_report (draft)\"],\n",
    "      \"dest\": \"environment_policy_report (draft).docx\"\n",
    "    },\n",
    "    \"expected\": {\n",
    "      \"type\": \"cloud_file\",\n",
    "      \"path\": \"https://drive.google.com/uc?id=1A2ti9JncAfIa6ks7FTJWHtYlZo-68FtM&export=download\",\n",
    "      \"dest\": \"environment_policy_report (draft)_gold.docx\"\n",
    "    },\n",
    "    \"options\": {\n",
    "      \"content_only\": true\n",
    "    }\n",
    "  }\n",
    "}\n"
   ]
  },
  {
   "cell_type": "code",
   "execution_count": null,
   "metadata": {},
   "outputs": [],
   "source": [
    "env = DesktopEnv()\n",
    "env.reset()"
   ]
  },
  {
   "cell_type": "markdown",
   "metadata": {},
   "source": [
    "Googledrive\n",
    "- settings.yml\n",
    "  - client_secrets.json\n",
    "  - credentials.json (write path)\n",
    "\n",
    "Google\n",
    "- settings.json"
   ]
  },
  {
   "cell_type": "code",
   "execution_count": null,
   "metadata": {},
   "outputs": [],
   "source": []
  },
  {
   "cell_type": "code",
   "execution_count": 2,
   "metadata": {},
   "outputs": [],
   "source": [
    "google_credentials_config = {\n",
    "    \"googledrive_settings\": {  # settings.yml\n",
    "        'client_config_backend': 'file',\n",
    "        'client_config_file': \"evaluation_examples/settings/googledrive/client_secrets.json\",  # User created.\n",
    "        'save_credentials': True,\n",
    "        'save_credentials_backend': 'file',\n",
    "        'save_credentials_file': \"evaluation_examples/settings/googledrive/credentials.json\",  # User specified.\n",
    "        'get_refresh_token': True\n",
    "    },\n",
    "    \"google_settings\": {  # settings.json\n",
    "        \"email\": \"vincentsimulartest@gmail.com\",\n",
    "        \"password\": \"\"\n",
    "    }\n",
    "}\n",
    "\n",
    "# settings.yml (googledrive)\n",
    "    # client_secrets.json\n",
    "    # credentials.json path specified by user\n",
    "# settings.json (google)"
   ]
  },
  {
   "cell_type": "code",
   "execution_count": 3,
   "metadata": {},
   "outputs": [
    {
     "data": {
      "text/plain": [
       "{'client_config_backend': 'file',\n",
       " 'client_config_file': 'evaluation_examples/settings/googledrive/client_secrets.json',\n",
       " 'save_credentials': True,\n",
       " 'save_credentials_backend': 'file',\n",
       " 'save_credentials_file': 'evaluation_examples/settings/googledrive/credentials.json',\n",
       " 'get_refresh_token': True}"
      ]
     },
     "execution_count": 3,
     "metadata": {},
     "output_type": "execute_result"
    }
   ],
   "source": [
    "google_credentials_config['googledrive_settings']"
   ]
  },
  {
   "cell_type": "code",
   "execution_count": 4,
   "metadata": {},
   "outputs": [
    {
     "data": {
      "text/plain": [
       "{'email': 'vincentsimulartest@gmail.com', 'password': ''}"
      ]
     },
     "execution_count": 4,
     "metadata": {},
     "output_type": "execute_result"
    }
   ],
   "source": [
    "google_credentials_config['google_settings']"
   ]
  },
  {
   "cell_type": "code",
   "execution_count": null,
   "metadata": {},
   "outputs": [],
   "source": [
    "read and write"
   ]
  },
  {
   "cell_type": "markdown",
   "metadata": {},
   "source": [
    "## Testing Implementation"
   ]
  },
  {
   "cell_type": "code",
   "execution_count": 1,
   "metadata": {},
   "outputs": [
    {
     "name": "stderr",
     "output_type": "stream",
     "text": [
      "/Users/chuongnguyen/opt/anaconda3/envs/agential/lib/python3.11/site-packages/torchvision/io/image.py:13: UserWarning: Failed to load image Python extension: 'dlopen(/Users/chuongnguyen/opt/anaconda3/envs/agential/lib/python3.11/site-packages/torchvision/image.so, 0x0006): Symbol not found: __ZN3c1017RegisterOperatorsD1Ev\n",
      "  Referenced from: <910128BE-E745-359A-8A99-049B245C2D92> /Users/chuongnguyen/opt/anaconda3/envs/agential/lib/python3.11/site-packages/torchvision/image.so\n",
      "  Expected in:     <23AEC8EA-0BA7-322C-93F3-4D2D1EA66F06> /Users/chuongnguyen/opt/anaconda3/envs/agential/lib/python3.11/site-packages/torch/lib/libtorch_cpu.dylib'If you don't plan on using image functionality from `torchvision.io`, you can ignore this warning. Otherwise, there might be something wrong with your environment. Did you have `libjpeg` or `libpng` installed before building `torchvision` from source?\n",
      "  warn(\n",
      "/Users/chuongnguyen/opt/anaconda3/envs/agential/lib/python3.11/site-packages/tqdm/auto.py:21: TqdmWarning: IProgress not found. Please update jupyter and ipywidgets. See https://ipywidgets.readthedocs.io/en/stable/user_install.html\n",
      "  from .autonotebook import tqdm as notebook_tqdm\n"
     ]
    }
   ],
   "source": [
    "from agential.benchmarks.computer_use.osworld.osworld_benchmark import OSWorldBenchmark\n",
    "from agential.benchmarks.computer_use.osworld.osworld_mediator import OSWorldMediator"
   ]
  },
  {
   "cell_type": "code",
   "execution_count": 2,
   "metadata": {},
   "outputs": [
    {
     "name": "stdout",
     "output_type": "stream",
     "text": [
      "/Users/chuongnguyen/opt/anaconda3/envs/agential/bin:/Users/chuongnguyen/.local/pipx/venvs/poetry/bin:/Users/chuongnguyen/.local/pipx/venvs/poetry/bin:/usr/bin:/bin:/usr/sbin:/sbin:/Applications/VMware Fusion.app/Contents/Public\n",
      "Error: Unrecognized command: your_command_here\n",
      "\n",
      "\n"
     ]
    }
   ],
   "source": [
    "import os\n",
    "import subprocess\n",
    "\n",
    "UBUNTUO_VMX = \"/Users/chuongnguyen/Desktop/LLM Project/Agential/agential/vmware_vm_data/Ubuntu0/Ubuntu0.vmx\"\n",
    "# UBUNTUO_VMX = \"vmware_vm_data/Ubuntu0/Ubuntu0.vmx\"\n",
    "\n",
    "# Add vmrun path to the PATH environment variable\n",
    "os.environ[\"PATH\"] += \":/Applications/VMware Fusion.app/Contents/Public\"\n",
    "\n",
    "# Verify the new PATH\n",
    "print(os.environ['PATH'])\n",
    "\n",
    "# Run vmrun using the full path\n",
    "command = [\"/Applications/VMware Fusion.app/Contents/Public/vmrun\", \"your_command_here\"]\n",
    "result = subprocess.run(command, capture_output=True, text=True)\n",
    "\n",
    "# Print output or error\n",
    "print(result.stdout)\n",
    "print(result.stderr)\n"
   ]
  },
  {
   "cell_type": "code",
   "execution_count": null,
   "metadata": {},
   "outputs": [
    {
     "data": {
      "text/plain": [
       "CompletedProcess(args='vmrun start \"/Users/chuongnguyen/Desktop/LLM Project/Agential/agential/vmware_vm_data/Ubuntu0/Ubuntu0.vmx\"', returncode=0)"
      ]
     },
     "execution_count": 6,
     "metadata": {},
     "output_type": "execute_result"
    }
   ],
   "source": [
    "vmrun_command = f'vmrun start \"{UBUNTUO_VMX}\"'\n",
    "subprocess.run(vmrun_command, shell=True, check=True)"
   ]
  },
  {
   "cell_type": "code",
   "execution_count": 3,
   "metadata": {},
   "outputs": [
    {
     "name": "stderr",
     "output_type": "stream",
     "text": [
      "Progress: 100%|##########| 10.9G/10.9G [14:43<00:00, 13.2MiB/s]  \n",
      "Attempt 1 failed: \n",
      "Attempt 2 failed: \n",
      "Attempt 3 failed: \n",
      "Attempt 4 failed: \n",
      "Attempt 5 failed: \n",
      "Attempt 6 failed: \n",
      "Attempt 7 failed: \n",
      "Attempt 8 failed: \n",
      "Attempt 9 failed: \n",
      "Attempt 10 failed: \n",
      "Attempt 11 failed: \n",
      "Attempt 12 failed: \n",
      "Attempt 13 failed: \n",
      "Attempt 14 failed: \n",
      "Attempt 15 failed: \n",
      "Attempt 16 failed: \n",
      "Attempt 17 failed: \n",
      "Attempt 18 failed: \n",
      "Attempt 19 failed: \n",
      "Attempt 20 failed: \n",
      "Maximum retry attempts reached, failed to start the virtual machine.\n"
     ]
    },
    {
     "name": "stdout",
     "output_type": "stream",
     "text": [
      "Starting VMware VM...\n"
     ]
    }
   ],
   "source": [
    "examples_dir: str = \"agential/benchmarks/computer_use/osworld/evaluation_examples/examples\"\n",
    "path_to_google_settings: str = \"settings/google/settings.json\"\n",
    "path_to_googledrive_settings: str = \"settings/googledrive/settings.yml\"\n",
    "# osworld_benchmark: OSWorldBenchmark = OSWorldBenchmark(action_space=\"pyautogui\", path_to_vm=UBUNTUO_VMX)\n",
    "osworld_benchmark: OSWorldBenchmark = OSWorldBenchmark(action_space=\"pyautogui\")"
   ]
  },
  {
   "cell_type": "code",
   "execution_count": 5,
   "metadata": {},
   "outputs": [],
   "source": [
    "osworld = OSWorldMediator(\n",
    "    examples_dir=examples_dir,\n",
    "    path_to_google_settings=path_to_google_settings,\n",
    "    path_to_googledrive_settings=path_to_googledrive_settings,\n",
    "    osworld_benchmark=osworld_benchmark\n",
    ")"
   ]
  },
  {
   "cell_type": "code",
   "execution_count": null,
   "metadata": {},
   "outputs": [
    {
     "name": "stdout",
     "output_type": "stream",
     "text": [
      "Starting VMware VM...\n"
     ]
    },
    {
     "name": "stderr",
     "output_type": "stream",
     "text": [
      "An error occurred while trying to send the request: HTTPConnectionPool(host='172.16.190.136', port=5000): Max retries exceeded with url: /setup/launch (Caused by NewConnectionError('<urllib3.connection.HTTPConnection object at 0x15db4f550>: Failed to establish a new connection: [Errno 65] No route to host'))\n",
      "An error occurred while trying to send the request: HTTPConnectionPool(host='172.16.190.136', port=5000): Max retries exceeded with url: /setup/launch (Caused by NewConnectionError('<urllib3.connection.HTTPConnection object at 0x15db5ed50>: Failed to establish a new connection: [Errno 65] No route to host'))\n"
     ]
    },
    {
     "ename": "Error",
     "evalue": "It looks like you are using Playwright Sync API inside the asyncio loop.\nPlease use the Async API instead.",
     "output_type": "error",
     "traceback": [
      "\u001b[0;31m---------------------------------------------------------------------------\u001b[0m",
      "\u001b[0;31mError\u001b[0m                                     Traceback (most recent call last)",
      "Cell \u001b[0;32mIn[7], line 1\u001b[0m\n\u001b[0;32m----> 1\u001b[0m obs \u001b[38;5;241m=\u001b[39m \u001b[43mosworld\u001b[49m\u001b[38;5;241;43m.\u001b[39;49m\u001b[43mreset\u001b[49m\u001b[43m(\u001b[49m\n\u001b[1;32m      2\u001b[0m \u001b[43m    \u001b[49m\u001b[43mdomain\u001b[49m\u001b[38;5;241;43m=\u001b[39;49m\u001b[43mdomain\u001b[49m\n\u001b[1;32m      3\u001b[0m \u001b[43m)\u001b[49m\n",
      "File \u001b[0;32m~/Desktop/LLM Project/Agential/agential/agential/benchmarks/computer_use/osworld/osworld_mediator.py:110\u001b[0m, in \u001b[0;36mOSWorldMediator.reset\u001b[0;34m(self, domain, example)\u001b[0m\n\u001b[1;32m    108\u001b[0m     task_id \u001b[39m=\u001b[39m random\u001b[39m.\u001b[39mchoice(\u001b[39mlist\u001b[39m(\u001b[39mself\u001b[39m\u001b[39m.\u001b[39mdata[domain]\u001b[39m.\u001b[39mkeys()))\n\u001b[1;32m    109\u001b[0m     example \u001b[39m=\u001b[39m \u001b[39mself\u001b[39m\u001b[39m.\u001b[39mdata[domain][task_id]\n\u001b[0;32m--> 110\u001b[0m \u001b[39mreturn\u001b[39;00m \u001b[39mself\u001b[39;49m\u001b[39m.\u001b[39;49mosworld_benchmark\u001b[39m.\u001b[39;49mreset(task_config\u001b[39m=\u001b[39;49mexample)\n",
      "File \u001b[0;32m~/Desktop/LLM Project/Agential/agential/agential/benchmarks/computer_use/osworld/osworld_benchmark.py:73\u001b[0m, in \u001b[0;36mOSWorldBenchmark.reset\u001b[0;34m(self, **kwargs)\u001b[0m\n\u001b[1;32m     58\u001b[0m \u001b[39mdef\u001b[39;00m \u001b[39mreset\u001b[39m(\u001b[39mself\u001b[39m, \u001b[39m*\u001b[39m\u001b[39m*\u001b[39mkwargs: Any) \u001b[39m-\u001b[39m\u001b[39m>\u001b[39m Dict[\u001b[39mstr\u001b[39m, Any]:\n\u001b[1;32m     59\u001b[0m \u001b[39m    \u001b[39m\u001b[39m\"\"\"Resets the environment to its initial state for a new evaluation.\u001b[39;00m\n\u001b[1;32m     60\u001b[0m \n\u001b[1;32m     61\u001b[0m \u001b[39m    This method prepares the `DesktopEnv` for a new round of benchmarking by resetting\u001b[39;00m\n\u001b[0;32m   (...)\u001b[0m\n\u001b[1;32m     71\u001b[0m \u001b[39m        obs (Dict[str, Any]): The updated state or configuration of the environment after reset.\u001b[39;00m\n\u001b[1;32m     72\u001b[0m \u001b[39m    \"\"\"\u001b[39;00m\n\u001b[0;32m---> 73\u001b[0m     \u001b[39mreturn\u001b[39;00m \u001b[39mself\u001b[39;49m\u001b[39m.\u001b[39;49menv\u001b[39m.\u001b[39;49mreset(\u001b[39m*\u001b[39;49m\u001b[39m*\u001b[39;49mkwargs)\n",
      "File \u001b[0;32m~/opt/anaconda3/envs/agential/lib/python3.11/site-packages/desktop_env/desktop_env.py:148\u001b[0m, in \u001b[0;36mDesktopEnv.reset\u001b[0;34m(self, task_config, seed, options)\u001b[0m\n\u001b[1;32m    146\u001b[0m     \u001b[39mself\u001b[39m\u001b[39m.\u001b[39msetup_controller\u001b[39m.\u001b[39mreset_cache_dir(\u001b[39mself\u001b[39m\u001b[39m.\u001b[39mcache_dir)\n\u001b[1;32m    147\u001b[0m     logger\u001b[39m.\u001b[39minfo(\u001b[39m\"\u001b[39m\u001b[39mSetting up environment...\u001b[39m\u001b[39m\"\u001b[39m)\n\u001b[0;32m--> 148\u001b[0m     \u001b[39mself\u001b[39;49m\u001b[39m.\u001b[39;49msetup_controller\u001b[39m.\u001b[39;49msetup(\u001b[39mself\u001b[39;49m\u001b[39m.\u001b[39;49mconfig)\n\u001b[1;32m    149\u001b[0m     logger\u001b[39m.\u001b[39minfo(\u001b[39m\"\u001b[39m\u001b[39mEnvironment setup complete.\u001b[39m\u001b[39m\"\u001b[39m)\n\u001b[1;32m    151\u001b[0m observation \u001b[39m=\u001b[39m \u001b[39mself\u001b[39m\u001b[39m.\u001b[39m_get_obs()\n",
      "File \u001b[0;32m~/opt/anaconda3/envs/agential/lib/python3.11/site-packages/desktop_env/controllers/setup.py:63\u001b[0m, in \u001b[0;36mSetupController.setup\u001b[0;34m(self, config)\u001b[0m\n\u001b[1;32m     61\u001b[0m setup_function: \u001b[39mstr\u001b[39m \u001b[39m=\u001b[39m \u001b[39m\"\u001b[39m\u001b[39m_\u001b[39m\u001b[39m{:}\u001b[39;00m\u001b[39m_setup\u001b[39m\u001b[39m\"\u001b[39m\u001b[39m.\u001b[39mformat(config_type)\n\u001b[1;32m     62\u001b[0m \u001b[39massert\u001b[39;00m \u001b[39mhasattr\u001b[39m(\u001b[39mself\u001b[39m, setup_function), \u001b[39mf\u001b[39m\u001b[39m'\u001b[39m\u001b[39mSetup controller cannot find init function \u001b[39m\u001b[39m{\u001b[39;00msetup_function\u001b[39m}\u001b[39;00m\u001b[39m'\u001b[39m\n\u001b[0;32m---> 63\u001b[0m \u001b[39mgetattr\u001b[39;49m(\u001b[39mself\u001b[39;49m, setup_function)(\u001b[39m*\u001b[39;49m\u001b[39m*\u001b[39;49mparameters)\n\u001b[1;32m     65\u001b[0m logger\u001b[39m.\u001b[39minfo(\u001b[39m\"\u001b[39m\u001b[39mSETUP: \u001b[39m\u001b[39m%s\u001b[39;00m\u001b[39m(\u001b[39m\u001b[39m%s\u001b[39;00m\u001b[39m)\u001b[39m\u001b[39m\"\u001b[39m, setup_function, \u001b[39mstr\u001b[39m(parameters))\n",
      "File \u001b[0;32m~/opt/anaconda3/envs/agential/lib/python3.11/site-packages/desktop_env/controllers/setup.py:363\u001b[0m, in \u001b[0;36mSetupController._chrome_open_tabs_setup\u001b[0;34m(self, urls_to_open)\u001b[0m\n\u001b[1;32m    360\u001b[0m     time\u001b[39m.\u001b[39msleep(\u001b[39m5\u001b[39m)\n\u001b[1;32m    362\u001b[0m browser \u001b[39m=\u001b[39m \u001b[39mNone\u001b[39;00m\n\u001b[0;32m--> 363\u001b[0m \u001b[39mwith\u001b[39;49;00m sync_playwright() \u001b[39mas\u001b[39;49;00m p:\n\u001b[1;32m    364\u001b[0m     \u001b[39mtry\u001b[39;49;00m:\n\u001b[1;32m    365\u001b[0m         browser \u001b[39m=\u001b[39;49m p\u001b[39m.\u001b[39;49mchromium\u001b[39m.\u001b[39;49mconnect_over_cdp(remote_debugging_url)\n",
      "File \u001b[0;32m~/opt/anaconda3/envs/agential/lib/python3.11/site-packages/playwright/sync_api/_context_manager.py:47\u001b[0m, in \u001b[0;36mPlaywrightContextManager.__enter__\u001b[0;34m(self)\u001b[0m\n\u001b[1;32m     45\u001b[0m             \u001b[39mself\u001b[39m\u001b[39m.\u001b[39m_own_loop \u001b[39m=\u001b[39m \u001b[39mTrue\u001b[39;00m\n\u001b[1;32m     46\u001b[0m         \u001b[39mif\u001b[39;00m \u001b[39mself\u001b[39m\u001b[39m.\u001b[39m_loop\u001b[39m.\u001b[39mis_running():\n\u001b[0;32m---> 47\u001b[0m             \u001b[39mraise\u001b[39;00m Error(\n\u001b[1;32m     48\u001b[0m \u001b[39m                \u001b[39m\u001b[39m\"\"\"It looks like you are using Playwright Sync API inside the asyncio loop.\u001b[39;00m\n\u001b[1;32m     49\u001b[0m \u001b[39mPlease use the Async API instead.\"\"\"\u001b[39;00m\n\u001b[1;32m     50\u001b[0m             )\n\u001b[1;32m     52\u001b[0m         \u001b[39m# Create a new fiber for the protocol dispatcher. It will be pumping events\u001b[39;00m\n\u001b[1;32m     53\u001b[0m         \u001b[39m# until the end of times. We will pass control to that fiber every time we\u001b[39;00m\n\u001b[1;32m     54\u001b[0m         \u001b[39m# block while waiting for a response.\u001b[39;00m\n\u001b[1;32m     55\u001b[0m         \u001b[39mdef\u001b[39;00m \u001b[39mgreenlet_main\u001b[39m() \u001b[39m-\u001b[39m\u001b[39m>\u001b[39m \u001b[39mNone\u001b[39;00m:\n",
      "\u001b[0;31mError\u001b[0m: It looks like you are using Playwright Sync API inside the asyncio loop.\nPlease use the Async API instead."
     ]
    }
   ],
   "source": [
    "domain = \"multi_apps\"\n",
    "obs = osworld.reset(\n",
    "    domain=domain\n",
    ")"
   ]
  },
  {
   "cell_type": "code",
   "execution_count": 3,
   "metadata": {},
   "outputs": [
    {
     "name": "stdout",
     "output_type": "stream",
     "text": [
      "/Users/chuongnguyen/opt/anaconda3/envs/agential/bin:/Users/chuongnguyen/.local/pipx/venvs/poetry/bin:/Users/chuongnguyen/.local/pipx/venvs/poetry/bin:/usr/bin:/bin:/usr/sbin:/sbin:/Applications/VMware Fusion.app/Contents/Public\n",
      "Error: Unrecognized command: your_command_here\n",
      "\n",
      "\n"
     ]
    }
   ],
   "source": [
    "import os\n",
    "import subprocess\n",
    "\n",
    "UBUNTUO_VMX = \"code_storage/vmware_vm_data/Ubuntu0/Ubuntu0.vmx\"\n",
    "\n",
    "# Add vmrun path to the PATH environment variable\n",
    "os.environ[\"PATH\"] += \":/Applications/VMware Fusion.app/Contents/Public\"\n",
    "\n",
    "# Verify the new PATH\n",
    "print(os.environ['PATH'])\n",
    "\n",
    "# Run vmrun using the full path\n",
    "command = [\"/Applications/VMware Fusion.app/Contents/Public/vmrun\", \"your_command_here\"]\n",
    "result = subprocess.run(command, capture_output=True, text=True)\n",
    "\n",
    "# Print output or error\n",
    "print(result.stdout)\n",
    "print(result.stderr)\n"
   ]
  },
  {
   "cell_type": "code",
   "execution_count": 1,
   "metadata": {},
   "outputs": [
    {
     "name": "stderr",
     "output_type": "stream",
     "text": [
      "/Users/chuongnguyen/opt/anaconda3/envs/agential/lib/python3.11/site-packages/torchvision/io/image.py:13: UserWarning: Failed to load image Python extension: 'dlopen(/Users/chuongnguyen/opt/anaconda3/envs/agential/lib/python3.11/site-packages/torchvision/image.so, 0x0006): Symbol not found: __ZN3c1017RegisterOperatorsD1Ev\n",
      "  Referenced from: <910128BE-E745-359A-8A99-049B245C2D92> /Users/chuongnguyen/opt/anaconda3/envs/agential/lib/python3.11/site-packages/torchvision/image.so\n",
      "  Expected in:     <23AEC8EA-0BA7-322C-93F3-4D2D1EA66F06> /Users/chuongnguyen/opt/anaconda3/envs/agential/lib/python3.11/site-packages/torch/lib/libtorch_cpu.dylib'If you don't plan on using image functionality from `torchvision.io`, you can ignore this warning. Otherwise, there might be something wrong with your environment. Did you have `libjpeg` or `libpng` installed before building `torchvision` from source?\n",
      "  warn(\n",
      "/Users/chuongnguyen/opt/anaconda3/envs/agential/lib/python3.11/site-packages/tqdm/auto.py:21: TqdmWarning: IProgress not found. Please update jupyter and ipywidgets. See https://ipywidgets.readthedocs.io/en/stable/user_install.html\n",
      "  from .autonotebook import tqdm as notebook_tqdm\n"
     ]
    }
   ],
   "source": [
    "from agential.benchmarks.computer_use.osworld.osworld_benchmark import OSWorldBenchmark"
   ]
  },
  {
   "cell_type": "code",
   "execution_count": 2,
   "metadata": {},
   "outputs": [
    {
     "name": "stdout",
     "output_type": "stream",
     "text": [
      "/Users/chuongnguyen/opt/anaconda3/envs/agential/bin:/Users/chuongnguyen/.local/pipx/venvs/poetry/bin:/Users/chuongnguyen/.local/pipx/venvs/poetry/bin:/usr/bin:/bin:/usr/sbin:/sbin:/Applications/VMware Fusion.app/Contents/Public\n",
      "Error: Unrecognized command: your_command_here\n",
      "\n",
      "\n"
     ]
    }
   ],
   "source": [
    "import os\n",
    "import subprocess\n",
    "\n",
    "UBUNTUO_VMX = \"code_storage/vmware_vm_data/Ubuntu0/Ubuntu0.vmx\"\n",
    "UBUNTUO_VMX = \"vmware_vm_data/Ubuntu0/Ubuntu0.vmx\"\n",
    "\n",
    "# Add vmrun path to the PATH environment variable\n",
    "os.environ[\"PATH\"] += \":/Applications/VMware Fusion.app/Contents/Public\"\n",
    "\n",
    "# Verify the new PATH\n",
    "print(os.environ['PATH'])\n",
    "\n",
    "# Run vmrun using the full path\n",
    "command = [\"/Applications/VMware Fusion.app/Contents/Public/vmrun\", \"your_command_here\"]\n",
    "result = subprocess.run(command, capture_output=True, text=True)\n",
    "\n",
    "# Print output or error\n",
    "print(result.stdout)\n",
    "print(result.stderr)\n"
   ]
  },
  {
   "cell_type": "code",
   "execution_count": 3,
   "metadata": {},
   "outputs": [
    {
     "name": "stdout",
     "output_type": "stream",
     "text": [
      "False\n"
     ]
    },
    {
     "ename": "FileNotFoundError",
     "evalue": "[Errno 2] No such file or directory: 'vmrun start /Users/chuongnguyen/Desktop/LLM Project/Agential/agential/vmware_vm_data/Ubuntu0/Ubuntu0.vmx'",
     "output_type": "error",
     "traceback": [
      "\u001b[0;31m---------------------------------------------------------------------------\u001b[0m",
      "\u001b[0;31mKeyboardInterrupt\u001b[0m                         Traceback (most recent call last)",
      "File \u001b[0;32m~/Desktop/LLM Project/Agential/agential/agential/benchmarks/computer_use/osworld/osworld_benchmark.py:44\u001b[0m, in \u001b[0;36mOSWorldBenchmark.__init__\u001b[0;34m(self, **kwargs)\u001b[0m\n\u001b[1;32m     43\u001b[0m \u001b[39mtry\u001b[39;00m:\n\u001b[0;32m---> 44\u001b[0m     \u001b[39mself\u001b[39m\u001b[39m.\u001b[39menv \u001b[39m=\u001b[39m DesktopEnv(\u001b[39m*\u001b[39;49m\u001b[39m*\u001b[39;49mkwargs)\n\u001b[1;32m     45\u001b[0m \u001b[39m# Exception when running DesktopEnv(**kwargs) for the first time.\u001b[39;00m\n",
      "File \u001b[0;32m~/Desktop/LLM Project/Agential/agential/agential/benchmarks/computer_use/osworld/__init__.py:60\u001b[0m, in \u001b[0;36minitializer\u001b[0;34m(self, provider_name, region, path_to_vm, snapshot_name, action_space, cache_dir, screen_size, headless, require_a11y_tree, require_terminal, os_type)\u001b[0m\n\u001b[1;32m     59\u001b[0m \u001b[39melse\u001b[39;00m:\n\u001b[0;32m---> 60\u001b[0m     \u001b[39mself\u001b[39m\u001b[39m.\u001b[39mpath_to_vm \u001b[39m=\u001b[39m \u001b[39mself\u001b[39;49m\u001b[39m.\u001b[39;49mmanager\u001b[39m.\u001b[39;49mget_vm_path(\u001b[39mself\u001b[39;49m\u001b[39m.\u001b[39;49mos_type, region)\n\u001b[1;32m     62\u001b[0m \u001b[39mself\u001b[39m\u001b[39m.\u001b[39msnapshot_name \u001b[39m=\u001b[39m snapshot_name\n",
      "File \u001b[0;32m~/opt/anaconda3/envs/agential/lib/python3.11/site-packages/desktop_env/providers/vmware/manager.py:446\u001b[0m, in \u001b[0;36mVMwareVMManager.get_vm_path\u001b[0;34m(self, os_type, region)\u001b[0m\n\u001b[1;32m    444\u001b[0m     original_vm_name \u001b[39m=\u001b[39m \u001b[39m\"\u001b[39m\u001b[39mWindows 10 x64\u001b[39m\u001b[39m\"\u001b[39m\n\u001b[0;32m--> 446\u001b[0m new_vm_path \u001b[39m=\u001b[39m _install_vm(new_vm_name, vms_dir\u001b[39m=\u001b[39;49mVMS_DIR,\n\u001b[1;32m    447\u001b[0m                         downloaded_file_name\u001b[39m=\u001b[39;49mDOWNLOADED_FILE_NAME, original_vm_name\u001b[39m=\u001b[39;49moriginal_vm_name, os_type\u001b[39m=\u001b[39;49mos_type)\n\u001b[1;32m    448\u001b[0m \u001b[39mwith\u001b[39;00m \u001b[39mself\u001b[39m\u001b[39m.\u001b[39mlock:\n",
      "File \u001b[0;32m~/opt/anaconda3/envs/agential/lib/python3.11/site-packages/desktop_env/providers/vmware/manager.py:187\u001b[0m, in \u001b[0;36m_install_vm\u001b[0;34m(vm_name, vms_dir, downloaded_file_name, os_type, original_vm_name)\u001b[0m\n\u001b[1;32m    186\u001b[0m \u001b[39mif\u001b[39;00m \u001b[39mnot\u001b[39;00m os\u001b[39m.\u001b[39mpath\u001b[39m.\u001b[39mexists(vm_path):\n\u001b[0;32m--> 187\u001b[0m     __download_and_unzip_vm()\n\u001b[1;32m    188\u001b[0m     _update_vm(os\u001b[39m.\u001b[39mpath\u001b[39m.\u001b[39mjoin(vms_dir, vm_name, original_vm_name \u001b[39m+\u001b[39m \u001b[39m\"\u001b[39m\u001b[39m.vmx\u001b[39m\u001b[39m\"\u001b[39m), vm_name)\n",
      "File \u001b[0;32m~/opt/anaconda3/envs/agential/lib/python3.11/site-packages/desktop_env/providers/vmware/manager.py:180\u001b[0m, in \u001b[0;36m_install_vm.<locals>.__download_and_unzip_vm\u001b[0;34m()\u001b[0m\n\u001b[1;32m    179\u001b[0m \u001b[39mwith\u001b[39;00m zipfile\u001b[39m.\u001b[39mZipFile(downloaded_file_path, \u001b[39m'\u001b[39m\u001b[39mr\u001b[39m\u001b[39m'\u001b[39m) \u001b[39mas\u001b[39;00m zip_ref:\n\u001b[0;32m--> 180\u001b[0m     zip_ref\u001b[39m.\u001b[39;49mextractall(os\u001b[39m.\u001b[39;49mpath\u001b[39m.\u001b[39;49mjoin(vms_dir, vm_name))\n\u001b[1;32m    181\u001b[0m logger\u001b[39m.\u001b[39minfo(\u001b[39m\"\u001b[39m\u001b[39mFiles have been successfully extracted to the directory: \u001b[39m\u001b[39m\"\u001b[39m \u001b[39m+\u001b[39m \u001b[39mstr\u001b[39m(os\u001b[39m.\u001b[39mpath\u001b[39m.\u001b[39mjoin(vms_dir, vm_name)))\n",
      "File \u001b[0;32m~/opt/anaconda3/envs/agential/lib/python3.11/zipfile.py:1702\u001b[0m, in \u001b[0;36mZipFile.extractall\u001b[0;34m(self, path, members, pwd)\u001b[0m\n\u001b[1;32m   1701\u001b[0m \u001b[39mfor\u001b[39;00m zipinfo \u001b[39min\u001b[39;00m members:\n\u001b[0;32m-> 1702\u001b[0m     \u001b[39mself\u001b[39;49m\u001b[39m.\u001b[39;49m_extract_member(zipinfo, path, pwd)\n",
      "File \u001b[0;32m~/opt/anaconda3/envs/agential/lib/python3.11/zipfile.py:1757\u001b[0m, in \u001b[0;36mZipFile._extract_member\u001b[0;34m(self, member, targetpath, pwd)\u001b[0m\n\u001b[1;32m   1755\u001b[0m \u001b[39mwith\u001b[39;00m \u001b[39mself\u001b[39m\u001b[39m.\u001b[39mopen(member, pwd\u001b[39m=\u001b[39mpwd) \u001b[39mas\u001b[39;00m source, \\\n\u001b[1;32m   1756\u001b[0m      \u001b[39mopen\u001b[39m(targetpath, \u001b[39m\"\u001b[39m\u001b[39mwb\u001b[39m\u001b[39m\"\u001b[39m) \u001b[39mas\u001b[39;00m target:\n\u001b[0;32m-> 1757\u001b[0m     shutil\u001b[39m.\u001b[39;49mcopyfileobj(source, target)\n\u001b[1;32m   1759\u001b[0m \u001b[39mreturn\u001b[39;00m targetpath\n",
      "File \u001b[0;32m~/opt/anaconda3/envs/agential/lib/python3.11/shutil.py:197\u001b[0m, in \u001b[0;36mcopyfileobj\u001b[0;34m(fsrc, fdst, length)\u001b[0m\n\u001b[1;32m    196\u001b[0m \u001b[39mwhile\u001b[39;00m \u001b[39mTrue\u001b[39;00m:\n\u001b[0;32m--> 197\u001b[0m     buf \u001b[39m=\u001b[39m fsrc_read(length)\n\u001b[1;32m    198\u001b[0m     \u001b[39mif\u001b[39;00m \u001b[39mnot\u001b[39;00m buf:\n",
      "File \u001b[0;32m~/opt/anaconda3/envs/agential/lib/python3.11/zipfile.py:966\u001b[0m, in \u001b[0;36mZipExtFile.read\u001b[0;34m(self, n)\u001b[0m\n\u001b[1;32m    965\u001b[0m \u001b[39mwhile\u001b[39;00m n \u001b[39m>\u001b[39m \u001b[39m0\u001b[39m \u001b[39mand\u001b[39;00m \u001b[39mnot\u001b[39;00m \u001b[39mself\u001b[39m\u001b[39m.\u001b[39m_eof:\n\u001b[0;32m--> 966\u001b[0m     data \u001b[39m=\u001b[39m \u001b[39mself\u001b[39;49m\u001b[39m.\u001b[39;49m_read1(n)\n\u001b[1;32m    967\u001b[0m     \u001b[39mif\u001b[39;00m n \u001b[39m<\u001b[39m \u001b[39mlen\u001b[39m(data):\n",
      "File \u001b[0;32m~/opt/anaconda3/envs/agential/lib/python3.11/zipfile.py:1042\u001b[0m, in \u001b[0;36mZipExtFile._read1\u001b[0;34m(self, n)\u001b[0m\n\u001b[1;32m   1041\u001b[0m n \u001b[39m=\u001b[39m \u001b[39mmax\u001b[39m(n, \u001b[39mself\u001b[39m\u001b[39m.\u001b[39mMIN_READ_SIZE)\n\u001b[0;32m-> 1042\u001b[0m data \u001b[39m=\u001b[39m \u001b[39mself\u001b[39;49m\u001b[39m.\u001b[39;49m_decompressor\u001b[39m.\u001b[39;49mdecompress(data, n)\n\u001b[1;32m   1043\u001b[0m \u001b[39mself\u001b[39m\u001b[39m.\u001b[39m_eof \u001b[39m=\u001b[39m (\u001b[39mself\u001b[39m\u001b[39m.\u001b[39m_decompressor\u001b[39m.\u001b[39meof \u001b[39mor\u001b[39;00m\n\u001b[1;32m   1044\u001b[0m              \u001b[39mself\u001b[39m\u001b[39m.\u001b[39m_compress_left \u001b[39m<\u001b[39m\u001b[39m=\u001b[39m \u001b[39m0\u001b[39m \u001b[39mand\u001b[39;00m\n\u001b[1;32m   1045\u001b[0m              \u001b[39mnot\u001b[39;00m \u001b[39mself\u001b[39m\u001b[39m.\u001b[39m_decompressor\u001b[39m.\u001b[39munconsumed_tail)\n",
      "\u001b[0;31mKeyboardInterrupt\u001b[0m: ",
      "\nDuring handling of the above exception, another exception occurred:\n",
      "\u001b[0;31mFileNotFoundError\u001b[0m                         Traceback (most recent call last)",
      "Cell \u001b[0;32mIn[3], line 1\u001b[0m\n\u001b[0;32m----> 1\u001b[0m testing_osworld \u001b[38;5;241m=\u001b[39m \u001b[43mOSWorldBenchmark\u001b[49m\u001b[43m(\u001b[49m\u001b[43m)\u001b[49m\n",
      "File \u001b[0;32m~/Desktop/LLM Project/Agential/agential/agential/benchmarks/computer_use/osworld/osworld_benchmark.py:51\u001b[0m, in \u001b[0;36mOSWorldBenchmark.__init__\u001b[0;34m(self, **kwargs)\u001b[0m\n\u001b[1;32m     49\u001b[0m         \u001b[39mself\u001b[39m\u001b[39m.\u001b[39mpath_to_vm \u001b[39m=\u001b[39m os\u001b[39m.\u001b[39mpath\u001b[39m.\u001b[39mjoin(os\u001b[39m.\u001b[39mgetcwd(), \u001b[39m\"\u001b[39m\u001b[39mvmware_vm_data\u001b[39m\u001b[39m\"\u001b[39m, \u001b[39m\"\u001b[39m\u001b[39mUbuntu0\u001b[39m\u001b[39m\"\u001b[39m, \u001b[39m\"\u001b[39m\u001b[39mUbuntu0.vmx\u001b[39m\u001b[39m\"\u001b[39m)\n\u001b[1;32m     50\u001b[0m     vmrun_command \u001b[39m=\u001b[39m \u001b[39mf\u001b[39m\u001b[39m\"\u001b[39m\u001b[39mvmrun start \u001b[39m\u001b[39m{\u001b[39;00m\u001b[39mself\u001b[39m\u001b[39m.\u001b[39mpath_to_vm\u001b[39m}\u001b[39;00m\u001b[39m\"\u001b[39m\n\u001b[0;32m---> 51\u001b[0m     subprocess\u001b[39m.\u001b[39;49mrun(vmrun_command, check\u001b[39m=\u001b[39;49m\u001b[39mTrue\u001b[39;49;00m)\n\u001b[1;32m     53\u001b[0m     \u001b[39mself\u001b[39m\u001b[39m.\u001b[39menv \u001b[39m=\u001b[39m DesktopEnv(\u001b[39m*\u001b[39m\u001b[39m*\u001b[39mkwargs)\n\u001b[1;32m     54\u001b[0m \u001b[39mexcept\u001b[39;00m subprocess\u001b[39m.\u001b[39mCalledProcessError \u001b[39mas\u001b[39;00m e:\n",
      "File \u001b[0;32m~/opt/anaconda3/envs/agential/lib/python3.11/subprocess.py:548\u001b[0m, in \u001b[0;36mrun\u001b[0;34m(input, capture_output, timeout, check, *popenargs, **kwargs)\u001b[0m\n\u001b[1;32m    545\u001b[0m     kwargs[\u001b[39m'\u001b[39m\u001b[39mstdout\u001b[39m\u001b[39m'\u001b[39m] \u001b[39m=\u001b[39m PIPE\n\u001b[1;32m    546\u001b[0m     kwargs[\u001b[39m'\u001b[39m\u001b[39mstderr\u001b[39m\u001b[39m'\u001b[39m] \u001b[39m=\u001b[39m PIPE\n\u001b[0;32m--> 548\u001b[0m \u001b[39mwith\u001b[39;00m Popen(\u001b[39m*\u001b[39;49mpopenargs, \u001b[39m*\u001b[39;49m\u001b[39m*\u001b[39;49mkwargs) \u001b[39mas\u001b[39;00m process:\n\u001b[1;32m    549\u001b[0m     \u001b[39mtry\u001b[39;00m:\n\u001b[1;32m    550\u001b[0m         stdout, stderr \u001b[39m=\u001b[39m process\u001b[39m.\u001b[39mcommunicate(\u001b[39minput\u001b[39m, timeout\u001b[39m=\u001b[39mtimeout)\n",
      "File \u001b[0;32m~/opt/anaconda3/envs/agential/lib/python3.11/subprocess.py:1026\u001b[0m, in \u001b[0;36mPopen.__init__\u001b[0;34m(self, args, bufsize, executable, stdin, stdout, stderr, preexec_fn, close_fds, shell, cwd, env, universal_newlines, startupinfo, creationflags, restore_signals, start_new_session, pass_fds, user, group, extra_groups, encoding, errors, text, umask, pipesize, process_group)\u001b[0m\n\u001b[1;32m   1022\u001b[0m         \u001b[39mif\u001b[39;00m \u001b[39mself\u001b[39m\u001b[39m.\u001b[39mtext_mode:\n\u001b[1;32m   1023\u001b[0m             \u001b[39mself\u001b[39m\u001b[39m.\u001b[39mstderr \u001b[39m=\u001b[39m io\u001b[39m.\u001b[39mTextIOWrapper(\u001b[39mself\u001b[39m\u001b[39m.\u001b[39mstderr,\n\u001b[1;32m   1024\u001b[0m                     encoding\u001b[39m=\u001b[39mencoding, errors\u001b[39m=\u001b[39merrors)\n\u001b[0;32m-> 1026\u001b[0m     \u001b[39mself\u001b[39;49m\u001b[39m.\u001b[39;49m_execute_child(args, executable, preexec_fn, close_fds,\n\u001b[1;32m   1027\u001b[0m                         pass_fds, cwd, env,\n\u001b[1;32m   1028\u001b[0m                         startupinfo, creationflags, shell,\n\u001b[1;32m   1029\u001b[0m                         p2cread, p2cwrite,\n\u001b[1;32m   1030\u001b[0m                         c2pread, c2pwrite,\n\u001b[1;32m   1031\u001b[0m                         errread, errwrite,\n\u001b[1;32m   1032\u001b[0m                         restore_signals,\n\u001b[1;32m   1033\u001b[0m                         gid, gids, uid, umask,\n\u001b[1;32m   1034\u001b[0m                         start_new_session, process_group)\n\u001b[1;32m   1035\u001b[0m \u001b[39mexcept\u001b[39;00m:\n\u001b[1;32m   1036\u001b[0m     \u001b[39m# Cleanup if the child failed starting.\u001b[39;00m\n\u001b[1;32m   1037\u001b[0m     \u001b[39mfor\u001b[39;00m f \u001b[39min\u001b[39;00m \u001b[39mfilter\u001b[39m(\u001b[39mNone\u001b[39;00m, (\u001b[39mself\u001b[39m\u001b[39m.\u001b[39mstdin, \u001b[39mself\u001b[39m\u001b[39m.\u001b[39mstdout, \u001b[39mself\u001b[39m\u001b[39m.\u001b[39mstderr)):\n",
      "File \u001b[0;32m~/opt/anaconda3/envs/agential/lib/python3.11/subprocess.py:1955\u001b[0m, in \u001b[0;36mPopen._execute_child\u001b[0;34m(self, args, executable, preexec_fn, close_fds, pass_fds, cwd, env, startupinfo, creationflags, shell, p2cread, p2cwrite, c2pread, c2pwrite, errread, errwrite, restore_signals, gid, gids, uid, umask, start_new_session, process_group)\u001b[0m\n\u001b[1;32m   1953\u001b[0m     err_msg \u001b[39m=\u001b[39m os\u001b[39m.\u001b[39mstrerror(errno_num)\n\u001b[1;32m   1954\u001b[0m \u001b[39mif\u001b[39;00m err_filename \u001b[39mis\u001b[39;00m \u001b[39mnot\u001b[39;00m \u001b[39mNone\u001b[39;00m:\n\u001b[0;32m-> 1955\u001b[0m     \u001b[39mraise\u001b[39;00m child_exception_type(errno_num, err_msg, err_filename)\n\u001b[1;32m   1956\u001b[0m \u001b[39melse\u001b[39;00m:\n\u001b[1;32m   1957\u001b[0m     \u001b[39mraise\u001b[39;00m child_exception_type(errno_num, err_msg)\n",
      "\u001b[0;31mFileNotFoundError\u001b[0m: [Errno 2] No such file or directory: 'vmrun start /Users/chuongnguyen/Desktop/LLM Project/Agential/agential/vmware_vm_data/Ubuntu0/Ubuntu0.vmx'"
     ]
    }
   ],
   "source": [
    "testing_osworld = OSWorldBenchmark()"
   ]
  },
  {
   "cell_type": "code",
   "execution_count": null,
   "metadata": {},
   "outputs": [
    {
     "name": "stdout",
     "output_type": "stream",
     "text": [
      "True\n"
     ]
    }
   ],
   "source": [
    "print(os.path.isfile(os.path.join(os.getcwd(), \"vmware_vm_data\", \"Ubuntu0\", \"Ubuntu0.vmx\")))"
   ]
  },
  {
   "cell_type": "code",
   "execution_count": null,
   "metadata": {},
   "outputs": [],
   "source": []
  }
 ],
 "metadata": {
  "kernelspec": {
   "display_name": "Python 3.11.11 ('agential')",
   "language": "python",
   "name": "python3"
  },
  "language_info": {
   "codemirror_mode": {
    "name": "ipython",
    "version": 3
   },
   "file_extension": ".py",
   "mimetype": "text/x-python",
   "name": "python",
   "nbconvert_exporter": "python",
   "pygments_lexer": "ipython3",
   "version": "3.11.11"
  },
  "vscode": {
   "interpreter": {
    "hash": "5395d60bee98fd71c9d354a5953f895827353ba27396e461a44062dbf07942d0"
   }
  }
 },
 "nbformat": 4,
 "nbformat_minor": 2
}
