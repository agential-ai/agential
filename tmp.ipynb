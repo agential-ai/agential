{
 "cells": [
  {
   "cell_type": "code",
   "execution_count": 74,
   "metadata": {},
   "outputs": [],
   "source": [
    "#  Practice:\n",
    "example = {\n",
    "    \"id\": \"22a4636f-8179-4357-8e87-d1743ece1f81\",\n",
    "    \"snapshot\": \"chrome\",\n",
    "    \"instruction\": \"Please help me convert the file \\\"Meeting-Agenda.docx\\\" to a pdf file and upload to the folder 'meetings' in my google drive.\",\n",
    "    \"source\": \"https://marketplace.uipath.com/listings/merge-pdfs-from-gmail-email-attachments-and-upload-to-gogle-drive\",\n",
    "    \"config\": [\n",
    "        {\n",
    "            \"type\": \"googledrive\",\n",
    "            \"parameters\": {\n",
    "                \"settings_file\": \"evaluation_examples/settings/googledrive/settings.yml\",\n",
    "                \"operation\": [\n",
    "                    \"delete\",\n",
    "                    \"mkdirs\"\n",
    "                ],\n",
    "                \"args\": [\n",
    "                    {\n",
    "                        \"query\": \"title = 'Meeting-Agenda.docx' or title = 'Meeting-Agenda.pdf'\",\n",
    "                        \"trash\": False\n",
    "                    },\n",
    "                    {\n",
    "                        \"path\": [\n",
    "                            \"meetings\"\n",
    "                        ]\n",
    "                    }\n",
    "                ]\n",
    "            }\n",
    "        },\n",
    "        {\n",
    "            \"type\": \"launch\",\n",
    "            \"parameters\": {\n",
    "                \"command\": [\n",
    "                    \"google-chrome\",\n",
    "                    \"--remote-debugging-port=1337\"\n",
    "                ]\n",
    "            }\n",
    "        },\n",
    "        {\n",
    "            \"type\": \"launch\",\n",
    "            \"parameters\": {\n",
    "                \"command\": [\n",
    "                    \"socat\",\n",
    "                    \"tcp-listen:9222,fork\",\n",
    "                    \"tcp:localhost:1337\"\n",
    "                ]\n",
    "            }\n",
    "        },\n",
    "        {\n",
    "            \"type\": \"chrome_open_tabs\",\n",
    "            \"parameters\": {\n",
    "                \"urls_to_open\": [\n",
    "                    \"https://news.google.com\",\n",
    "                    \"https://x.com\",\n",
    "                    \"https://www.deepl.com\"\n",
    "                ]\n",
    "            }\n",
    "        },\n",
    "        {\n",
    "            \"type\": \"login\",\n",
    "            \"parameters\": {\n",
    "                \"settings_file\": \"evaluation_examples/settings/google/settings.json\",\n",
    "                \"platform\": \"googledrive\"\n",
    "            }\n",
    "        },\n",
    "        {\n",
    "            \"type\": \"download\",\n",
    "            \"parameters\": {\n",
    "                \"files\": [\n",
    "                    {\n",
    "                        \"url\": \"https://drive.usercontent.google.com/download?id=1mIPe4P5b5WPoYI1zegSXjZ1Fhjjvr5Zk&export=download&authuser=0&confirm=t\",\n",
    "                        \"path\": \"/home/user/Desktop/Meeting-Agenda.docx\"\n",
    "                    }\n",
    "                ]\n",
    "            }\n",
    "        },\n",
    "        {\n",
    "            \"type\": \"launch\",\n",
    "            \"parameters\": {\n",
    "                \"command\": [\n",
    "                    \"libreoffice\",\n",
    "                    \"--writer\",\n",
    "                    \"/home/user/Desktop/Meeting-Agenda.docx\"\n",
    "                ]\n",
    "            }\n",
    "        }\n",
    "    ],\n",
    "    \"trajectory\": \"trajectories/\",\n",
    "    \"related_apps\": [\n",
    "        \"libreoffice_writer\",\n",
    "        \"chrome\"\n",
    "    ],\n",
    "    \"evaluator\": {\n",
    "        \"func\": \"compare_pdfs\",\n",
    "        \"result\": {\n",
    "            \"type\": \"googledrive_file\",\n",
    "            \"settings_file\": \"evaluation_examples/settings/googledrive/settings.yml\",\n",
    "            \"path\": [\n",
    "                \"meetings\",\n",
    "                \"Meeting-Agenda.pdf\"\n",
    "            ],\n",
    "            \"dest\": \"Meeting-Agenda.pdf\"\n",
    "        },\n",
    "        \"expected\": {\n",
    "            \"type\": \"cloud_file\",\n",
    "            \"path\": \"https://drive.usercontent.google.com/download?id=1vY9GCxczkuom8bOU6SVHe9pTYgGIm1_M&export=download&authuser=0&confirm=t\",\n",
    "            \"dest\": \"gold-Meeting-Agenda.pdf\"\n",
    "        }\n",
    "    }\n",
    "}\n",
    "\n"
   ]
  },
  {
   "cell_type": "code",
   "execution_count": 75,
   "metadata": {},
   "outputs": [],
   "source": [
    "TYPE_TO_LOOK = [\"googledrive\", \"login\", \"googledrive_file\"]"
   ]
  },
  {
   "cell_type": "code",
   "execution_count": 76,
   "metadata": {},
   "outputs": [
    {
     "data": {
      "text/plain": [
       "'googledrive'"
      ]
     },
     "execution_count": 76,
     "metadata": {},
     "output_type": "execute_result"
    }
   ],
   "source": [
    "example[\"config\"][4][\"parameters\"][\"platform\"]"
   ]
  },
  {
   "cell_type": "code",
   "execution_count": 77,
   "metadata": {},
   "outputs": [],
   "source": [
    "for item in example[\"config\"]:\n",
    "    if item[\"type\"] in TYPE_TO_LOOK:\n",
    "        # setting_file = item[\"parameters\"][\"settings_file\"]\n",
    "        file_type = item[\"parameters\"][\"settings_file\"].split(\".\")[-1]\n",
    "        if file_type == \"json\":\n",
    "            item[\"parameters\"][\"settings_file\"] = \"change json file\"\n",
    "        else:\n",
    "            item[\"parameters\"][\"settings_file\"] = \"change yml file\""
   ]
  },
  {
   "cell_type": "code",
   "execution_count": 78,
   "metadata": {},
   "outputs": [],
   "source": [
    "path = example[\"evaluator\"][\"result\"]\n",
    "\n",
    "if path[\"type\"] in TYPE_TO_LOOK and path[\"settings_file\"].split(\".\")[-1] == \"yml\":\n",
    "    path[\"settings_file\"] = \"change yml file\""
   ]
  },
  {
   "cell_type": "code",
   "execution_count": 79,
   "metadata": {},
   "outputs": [
    {
     "data": {
      "text/plain": [
       "{'func': 'compare_pdfs',\n",
       " 'result': {'type': 'googledrive_file',\n",
       "  'settings_file': 'change yml file',\n",
       "  'path': ['meetings', 'Meeting-Agenda.pdf'],\n",
       "  'dest': 'Meeting-Agenda.pdf'},\n",
       " 'expected': {'type': 'cloud_file',\n",
       "  'path': 'https://drive.usercontent.google.com/download?id=1vY9GCxczkuom8bOU6SVHe9pTYgGIm1_M&export=download&authuser=0&confirm=t',\n",
       "  'dest': 'gold-Meeting-Agenda.pdf'}}"
      ]
     },
     "execution_count": 79,
     "metadata": {},
     "output_type": "execute_result"
    }
   ],
   "source": [
    "example[\"evaluator\"]"
   ]
  },
  {
   "cell_type": "code",
   "execution_count": 25,
   "metadata": {},
   "outputs": [],
   "source": [
    "test = {\n",
    "    \"t1\": \"t11\",\n",
    "    \"t2\": \"t22\",\n",
    "}"
   ]
  },
  {
   "cell_type": "code",
   "execution_count": null,
   "metadata": {},
   "outputs": [],
   "source": [
    "windows, vscode, thunderbird, multi-apps"
   ]
  },
  {
   "cell_type": "code",
   "execution_count": 32,
   "metadata": {},
   "outputs": [
    {
     "name": "stdout",
     "output_type": "stream",
     "text": [
      "t11\n",
      "t22\n"
     ]
    }
   ],
   "source": [
    "for example in test.keys():\n",
    "    print(test[example])"
   ]
  },
  {
   "cell_type": "code",
   "execution_count": 24,
   "metadata": {},
   "outputs": [
    {
     "name": "stdout",
     "output_type": "stream",
     "text": [
      "{'id': '22a4636f-8179-4357-8e87-d1743ece1f81', 'snapshot': 'chrome', 'instruction': 'Please help me convert the file \"Meeting-Agenda.docx\" to a pdf file and upload to the folder \\'meetings\\' in my google drive.', 'source': 'https://marketplace.uipath.com/listings/merge-pdfs-from-gmail-email-attachments-and-upload-to-gogle-drive', 'config': [{'type': 'googledrive', 'parameters': {'settings_file': 'change yml file', 'operation': ['delete', 'mkdirs'], 'args': [{'query': \"title = 'Meeting-Agenda.docx' or title = 'Meeting-Agenda.pdf'\", 'trash': False}, {'path': ['meetings']}]}}, {'type': 'launch', 'parameters': {'command': ['google-chrome', '--remote-debugging-port=1337']}}, {'type': 'launch', 'parameters': {'command': ['socat', 'tcp-listen:9222,fork', 'tcp:localhost:1337']}}, {'type': 'chrome_open_tabs', 'parameters': {'urls_to_open': ['https://news.google.com', 'https://x.com', 'https://www.deepl.com']}}, {'type': 'login', 'parameters': {'settings_file': 'change json file', 'platform': 'googledrive'}}, {'type': 'download', 'parameters': {'files': [{'url': 'https://drive.usercontent.google.com/download?id=1mIPe4P5b5WPoYI1zegSXjZ1Fhjjvr5Zk&export=download&authuser=0&confirm=t', 'path': '/home/user/Desktop/Meeting-Agenda.docx'}]}}, {'type': 'launch', 'parameters': {'command': ['libreoffice', '--writer', '/home/user/Desktop/Meeting-Agenda.docx']}}], 'trajectory': 'trajectories/', 'related_apps': ['libreoffice_writer', 'chrome'], 'evaluator': {'func': 'compare_pdfs', 'result': {'type': 'googledrive_file', 'settings_file': 'change yml file', 'path': ['meetings', 'Meeting-Agenda.pdf'], 'dest': 'Meeting-Agenda.pdf'}, 'expected': {'type': 'cloud_file', 'path': 'https://drive.usercontent.google.com/download?id=1vY9GCxczkuom8bOU6SVHe9pTYgGIm1_M&export=download&authuser=0&confirm=t', 'dest': 'gold-Meeting-Agenda.pdf'}}}\n"
     ]
    }
   ],
   "source": [
    "print(example)"
   ]
  },
  {
   "cell_type": "code",
   "execution_count": null,
   "metadata": {},
   "outputs": [],
   "source": [
    "# Case 1\n",
    "env = OSWorld()\n",
    "proc = OSWorldProcessor()\n",
    "\n",
    "task = next(proc)\n",
    "env.reset(task)\n",
    "\n",
    "# Pros\n",
    "# - one class that handles data ops\n",
    "# - another for env\n",
    "# - wanna use benchmark tasks? just use the processor\n",
    "# - wanna process your custom slice of the benchmarks? just use the processor \n",
    "# - wanna use your custom task config? just dont use the processor\n",
    "\n",
    "# Cons\n",
    "# - additional class "
   ]
  },
  {
   "cell_type": "code",
   "execution_count": null,
   "metadata": {},
   "outputs": [],
   "source": [
    "# Case 2\n",
    "env = OSWorld(OSWorldProcessor(\"evaluation_examples/\"), secrets, use_benchmark=True)\n",
    "\n",
    "env.reset()\n",
    "\n",
    "# Pros\n",
    "# - single class object to handle benchmark tasks or custom tasks\n",
    "\n",
    "# Cons\n",
    "# - intermingling between data ops and env ops\n",
    "# - confuses the init for env; maybe a bit too overloading"
   ]
  },
  {
   "cell_type": "code",
   "execution_count": null,
   "metadata": {},
   "outputs": [],
   "source": [
    "# Case 3\n",
    "\n",
    "# OSWorld <- OSWorldAdapter <- OSWorldProcessor \n",
    "# OSWorldEnv -> OSWorld <- OSWorldProcessor\n",
    "\n",
    "env = OSWorld()\n",
    "proc = OSWorldProcessor(\"evaluation_examples/\")\n",
    "\n",
    "# Pros\n",
    "# - scalable, modular, robust\n",
    "\n",
    "# Cons\n",
    "# - more effort\n",
    "# - more maintenance\n",
    "# - more complexity"
   ]
  },
  {
   "cell_type": "code",
   "execution_count": null,
   "metadata": {},
   "outputs": [],
   "source": [
    "{\n",
    "  \"id\": \"0c825995-5b70-4526-b663-113f4c999dd2\",\n",
    "  \"snapshot\": \"libreoffice_calc\",\n",
    "  \"instruction\": \"I'm working on a comprehensive report for our environmental policy review meeting next week. I need to integrate key insights from an important document, which is a guidebook on the Green Economy, where I'm particularly interested in the 'Introduction' section. Could you extract this section and compile them into a new Google Doc named 'environment_policy_report (draft)' under /environment_policy folder? This will significantly aid in our discussion on aligning our environmental policies with sustainable and green economic practices. Thanks!\",\n",
    "  \"source\": \"authors\",\n",
    "  \"config\": [\n",
    "    {\n",
    "      \"type\": \"googledrive\",\n",
    "      \"parameters\": {\n",
    "        \"settings_file\": \"evaluation_examples/settings/googledrive/settings.yml\",\n",
    "        \"operation\": [\n",
    "          \"delete\"\n",
    "        ],\n",
    "        \"args\": [\n",
    "          {\n",
    "            \"query\": \"title = 'environment_policy_report (draft).doc' or title = 'environment_policy_report (draft).docx' or title = 'environment_policy_report (draft)'\",\n",
    "            \"trash\": false\n",
    "          }\n",
    "        ]\n",
    "      }\n",
    "    },\n",
    "    {\n",
    "      \"type\": \"launch\",\n",
    "      \"parameters\": {\n",
    "        \"command\": [\n",
    "          \"google-chrome\",\n",
    "          \"--remote-debugging-port=1337\"\n",
    "        ]\n",
    "      }\n",
    "    },\n",
    "    {\n",
    "      \"type\": \"launch\",\n",
    "      \"parameters\": {\n",
    "        \"command\": [\n",
    "          \"socat\",\n",
    "          \"tcp-listen:9222,fork\",\n",
    "          \"tcp:localhost:1337\"\n",
    "        ]\n",
    "      }\n",
    "    },\n",
    "    {\n",
    "      \"type\": \"login\",\n",
    "      \"parameters\": {\n",
    "        \"settings_file\": \"evaluation_examples/settings/google/settings.json\",\n",
    "        \"platform\": \"googledrive\"\n",
    "      }\n",
    "    },\n",
    "    {\n",
    "      \"type\": \"command\",\n",
    "      \"parameters\": {\n",
    "        \"command\": [\n",
    "          \"mkdir\",\n",
    "          \"-p\",\n",
    "          \"/home/user/Desktop/wwf\"\n",
    "        ]\n",
    "      }\n",
    "    },\n",
    "    {\n",
    "      \"type\": \"download\",\n",
    "      \"parameters\": {\n",
    "        \"files\": [\n",
    "          {\n",
    "            \"path\": \"/home/user/Desktop/wwf/lpr_living_planet_report_2016.pdf\",\n",
    "            \"url\": \"https://drive.google.com/uc?id=19NCdw_MVP6nH5nC6okYYe8U1mJABfTRK&export=download\"\n",
    "          },\n",
    "          {\n",
    "            \"path\": \"/home/user/Desktop/wwf/279c656a32_ENGLISH_FULL.pdf\",\n",
    "            \"url\": \"https://drive.google.com/uc?id=1ckH1NetfImQ9EyONTO-ZFWA8m8VIUFvD&export=download\"\n",
    "          },\n",
    "          {\n",
    "            \"path\": \"/home/user/Desktop/wwf/7g37j96psg_WWF_AR2021_spreads.pdf\",\n",
    "            \"url\": \"https://drive.google.com/uc?id=1cxLTzmqDKMomOyvho29lvFvhRnb0Y8__&export=download\"\n",
    "          },\n",
    "          {\n",
    "            \"path\": \"/home/user/Desktop/GE Guidebook.pdf\",\n",
    "            \"url\": \"https://drive.google.com/uc?id=1KzC_R3eI3Rmgwz5bkcI8Ohv7ebOrU-Is&export=download\"\n",
    "          },\n",
    "          {\n",
    "            \"path\": \"/home/user/Desktop/assessing_and_reporting_water_quality(q&a).pdf\",\n",
    "            \"url\": \"https://drive.google.com/uc?id=1LFojf3Weflv3fVdrZrgTY1iUaRdbT9kG&export=download\"\n",
    "          }\n",
    "        ]\n",
    "      }\n",
    "    }\n",
    "  ],\n",
    "  \"trajectory\": \"trajectories/0c825995-5b70-4526-b663-113f4c999dd2\",\n",
    "  \"related_apps\": [\n",
    "    \"libreoffice_calc\",\n",
    "    \"chrome\",\n",
    "    \"os\"\n",
    "  ],\n",
    "  \"evaluator\": {\n",
    "    \"func\": \"compare_docx_files\",\n",
    "    \"result\": {\n",
    "      \"type\": \"googledrive_file\",\n",
    "      \"settings_file\": \"evaluation_examples/settings/googledrive/settings.yml\",\n",
    "      \"path\": [\"environment_policy\", \"environment_policy_report (draft)\"],\n",
    "      \"dest\": \"environment_policy_report (draft).docx\"\n",
    "    },\n",
    "    \"expected\": {\n",
    "      \"type\": \"cloud_file\",\n",
    "      \"path\": \"https://drive.google.com/uc?id=1A2ti9JncAfIa6ks7FTJWHtYlZo-68FtM&export=download\",\n",
    "      \"dest\": \"environment_policy_report (draft)_gold.docx\"\n",
    "    },\n",
    "    \"options\": {\n",
    "      \"content_only\": true\n",
    "    }\n",
    "  }\n",
    "}\n"
   ]
  },
  {
   "cell_type": "code",
   "execution_count": null,
   "metadata": {},
   "outputs": [],
   "source": [
    "env = DesktopEnv()\n",
    "env.reset()"
   ]
  },
  {
   "cell_type": "markdown",
   "metadata": {},
   "source": [
    "Googledrive\n",
    "- settings.yml\n",
    "  - client_secrets.json\n",
    "  - credentials.json (write path)\n",
    "\n",
    "Google\n",
    "- settings.json"
   ]
  },
  {
   "cell_type": "code",
   "execution_count": null,
   "metadata": {},
   "outputs": [],
   "source": []
  },
  {
   "cell_type": "code",
   "execution_count": 2,
   "metadata": {},
   "outputs": [],
   "source": [
    "google_credentials_config = {\n",
    "    \"googledrive_settings\": {  # settings.yml\n",
    "        'client_config_backend': 'file',\n",
    "        'client_config_file': \"evaluation_examples/settings/googledrive/client_secrets.json\",  # User created.\n",
    "        'save_credentials': True,\n",
    "        'save_credentials_backend': 'file',\n",
    "        'save_credentials_file': \"evaluation_examples/settings/googledrive/credentials.json\",  # User specified.\n",
    "        'get_refresh_token': True\n",
    "    },\n",
    "    \"google_settings\": {  # settings.json\n",
    "        \"email\": \"vincentsimulartest@gmail.com\",\n",
    "        \"password\": \"\"\n",
    "    }\n",
    "}\n",
    "\n",
    "# settings.yml (googledrive)\n",
    "    # client_secrets.json\n",
    "    # credentials.json path specified by user\n",
    "# settings.json (google)"
   ]
  },
  {
   "cell_type": "code",
   "execution_count": 3,
   "metadata": {},
   "outputs": [
    {
     "data": {
      "text/plain": [
       "{'client_config_backend': 'file',\n",
       " 'client_config_file': 'evaluation_examples/settings/googledrive/client_secrets.json',\n",
       " 'save_credentials': True,\n",
       " 'save_credentials_backend': 'file',\n",
       " 'save_credentials_file': 'evaluation_examples/settings/googledrive/credentials.json',\n",
       " 'get_refresh_token': True}"
      ]
     },
     "execution_count": 3,
     "metadata": {},
     "output_type": "execute_result"
    }
   ],
   "source": [
    "google_credentials_config['googledrive_settings']"
   ]
  },
  {
   "cell_type": "code",
   "execution_count": 4,
   "metadata": {},
   "outputs": [
    {
     "data": {
      "text/plain": [
       "{'email': 'vincentsimulartest@gmail.com', 'password': ''}"
      ]
     },
     "execution_count": 4,
     "metadata": {},
     "output_type": "execute_result"
    }
   ],
   "source": [
    "google_credentials_config['google_settings']"
   ]
  },
  {
   "cell_type": "code",
   "execution_count": null,
   "metadata": {},
   "outputs": [],
   "source": [
    "read and write"
   ]
  }
 ],
 "metadata": {
  "kernelspec": {
   "display_name": "Python 3.11.11 ('agential')",
   "language": "python",
   "name": "python3"
  },
  "language_info": {
   "codemirror_mode": {
    "name": "ipython",
    "version": 3
   },
   "file_extension": ".py",
   "mimetype": "text/x-python",
   "name": "python",
   "nbconvert_exporter": "python",
   "pygments_lexer": "ipython3",
   "version": "3.11.11"
  },
  "vscode": {
   "interpreter": {
    "hash": "5395d60bee98fd71c9d354a5953f895827353ba27396e461a44062dbf07942d0"
   }
  }
 },
 "nbformat": 4,
 "nbformat_minor": 2
}
