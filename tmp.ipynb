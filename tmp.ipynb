{
 "cells": [
  {
   "cell_type": "markdown",
   "metadata": {},
   "source": [
    "## Testing Code"
   ]
  },
  {
   "cell_type": "code",
   "execution_count": 74,
   "metadata": {},
   "outputs": [],
   "source": [
    "#  Practice:\n",
    "example = {\n",
    "    \"id\": \"22a4636f-8179-4357-8e87-d1743ece1f81\",\n",
    "    \"snapshot\": \"chrome\",\n",
    "    \"instruction\": \"Please help me convert the file \\\"Meeting-Agenda.docx\\\" to a pdf file and upload to the folder 'meetings' in my google drive.\",\n",
    "    \"source\": \"https://marketplace.uipath.com/listings/merge-pdfs-from-gmail-email-attachments-and-upload-to-gogle-drive\",\n",
    "    \"config\": [\n",
    "        {\n",
    "            \"type\": \"googledrive\",\n",
    "            \"parameters\": {\n",
    "                \"settings_file\": \"evaluation_examples/settings/googledrive/settings.yml\",\n",
    "                \"operation\": [\n",
    "                    \"delete\",\n",
    "                    \"mkdirs\"\n",
    "                ],\n",
    "                \"args\": [\n",
    "                    {\n",
    "                        \"query\": \"title = 'Meeting-Agenda.docx' or title = 'Meeting-Agenda.pdf'\",\n",
    "                        \"trash\": False\n",
    "                    },\n",
    "                    {\n",
    "                        \"path\": [\n",
    "                            \"meetings\"\n",
    "                        ]\n",
    "                    }\n",
    "                ]\n",
    "            }\n",
    "        },\n",
    "        {\n",
    "            \"type\": \"launch\",\n",
    "            \"parameters\": {\n",
    "                \"command\": [\n",
    "                    \"google-chrome\",\n",
    "                    \"--remote-debugging-port=1337\"\n",
    "                ]\n",
    "            }\n",
    "        },\n",
    "        {\n",
    "            \"type\": \"launch\",\n",
    "            \"parameters\": {\n",
    "                \"command\": [\n",
    "                    \"socat\",\n",
    "                    \"tcp-listen:9222,fork\",\n",
    "                    \"tcp:localhost:1337\"\n",
    "                ]\n",
    "            }\n",
    "        },\n",
    "        {\n",
    "            \"type\": \"chrome_open_tabs\",\n",
    "            \"parameters\": {\n",
    "                \"urls_to_open\": [\n",
    "                    \"https://news.google.com\",\n",
    "                    \"https://x.com\",\n",
    "                    \"https://www.deepl.com\"\n",
    "                ]\n",
    "            }\n",
    "        },\n",
    "        {\n",
    "            \"type\": \"login\",\n",
    "            \"parameters\": {\n",
    "                \"settings_file\": \"evaluation_examples/settings/google/settings.json\",\n",
    "                \"platform\": \"googledrive\"\n",
    "            }\n",
    "        },\n",
    "        {\n",
    "            \"type\": \"download\",\n",
    "            \"parameters\": {\n",
    "                \"files\": [\n",
    "                    {\n",
    "                        \"url\": \"https://drive.usercontent.google.com/download?id=1mIPe4P5b5WPoYI1zegSXjZ1Fhjjvr5Zk&export=download&authuser=0&confirm=t\",\n",
    "                        \"path\": \"/home/user/Desktop/Meeting-Agenda.docx\"\n",
    "                    }\n",
    "                ]\n",
    "            }\n",
    "        },\n",
    "        {\n",
    "            \"type\": \"launch\",\n",
    "            \"parameters\": {\n",
    "                \"command\": [\n",
    "                    \"libreoffice\",\n",
    "                    \"--writer\",\n",
    "                    \"/home/user/Desktop/Meeting-Agenda.docx\"\n",
    "                ]\n",
    "            }\n",
    "        }\n",
    "    ],\n",
    "    \"trajectory\": \"trajectories/\",\n",
    "    \"related_apps\": [\n",
    "        \"libreoffice_writer\",\n",
    "        \"chrome\"\n",
    "    ],\n",
    "    \"evaluator\": {\n",
    "        \"func\": \"compare_pdfs\",\n",
    "        \"result\": {\n",
    "            \"type\": \"googledrive_file\",\n",
    "            \"settings_file\": \"evaluation_examples/settings/googledrive/settings.yml\",\n",
    "            \"path\": [\n",
    "                \"meetings\",\n",
    "                \"Meeting-Agenda.pdf\"\n",
    "            ],\n",
    "            \"dest\": \"Meeting-Agenda.pdf\"\n",
    "        },\n",
    "        \"expected\": {\n",
    "            \"type\": \"cloud_file\",\n",
    "            \"path\": \"https://drive.usercontent.google.com/download?id=1vY9GCxczkuom8bOU6SVHe9pTYgGIm1_M&export=download&authuser=0&confirm=t\",\n",
    "            \"dest\": \"gold-Meeting-Agenda.pdf\"\n",
    "        }\n",
    "    }\n",
    "}\n",
    "\n"
   ]
  },
  {
   "cell_type": "code",
   "execution_count": 75,
   "metadata": {},
   "outputs": [],
   "source": [
    "TYPE_TO_LOOK = [\"googledrive\", \"login\", \"googledrive_file\"]"
   ]
  },
  {
   "cell_type": "code",
   "execution_count": 76,
   "metadata": {},
   "outputs": [
    {
     "data": {
      "text/plain": [
       "'googledrive'"
      ]
     },
     "execution_count": 76,
     "metadata": {},
     "output_type": "execute_result"
    }
   ],
   "source": [
    "example[\"config\"][4][\"parameters\"][\"platform\"]"
   ]
  },
  {
   "cell_type": "code",
   "execution_count": 77,
   "metadata": {},
   "outputs": [],
   "source": [
    "for item in example[\"config\"]:\n",
    "    if item[\"type\"] in TYPE_TO_LOOK:\n",
    "        # setting_file = item[\"parameters\"][\"settings_file\"]\n",
    "        file_type = item[\"parameters\"][\"settings_file\"].split(\".\")[-1]\n",
    "        if file_type == \"json\":\n",
    "            item[\"parameters\"][\"settings_file\"] = \"change json file\"\n",
    "        else:\n",
    "            item[\"parameters\"][\"settings_file\"] = \"change yml file\""
   ]
  },
  {
   "cell_type": "code",
   "execution_count": 78,
   "metadata": {},
   "outputs": [],
   "source": [
    "path = example[\"evaluator\"][\"result\"]\n",
    "\n",
    "if path[\"type\"] in TYPE_TO_LOOK and path[\"settings_file\"].split(\".\")[-1] == \"yml\":\n",
    "    path[\"settings_file\"] = \"change yml file\""
   ]
  },
  {
   "cell_type": "code",
   "execution_count": 79,
   "metadata": {},
   "outputs": [
    {
     "data": {
      "text/plain": [
       "{'func': 'compare_pdfs',\n",
       " 'result': {'type': 'googledrive_file',\n",
       "  'settings_file': 'change yml file',\n",
       "  'path': ['meetings', 'Meeting-Agenda.pdf'],\n",
       "  'dest': 'Meeting-Agenda.pdf'},\n",
       " 'expected': {'type': 'cloud_file',\n",
       "  'path': 'https://drive.usercontent.google.com/download?id=1vY9GCxczkuom8bOU6SVHe9pTYgGIm1_M&export=download&authuser=0&confirm=t',\n",
       "  'dest': 'gold-Meeting-Agenda.pdf'}}"
      ]
     },
     "execution_count": 79,
     "metadata": {},
     "output_type": "execute_result"
    }
   ],
   "source": [
    "example[\"evaluator\"]"
   ]
  },
  {
   "cell_type": "code",
   "execution_count": 25,
   "metadata": {},
   "outputs": [],
   "source": [
    "test = {\n",
    "    \"t1\": \"t11\",\n",
    "    \"t2\": \"t22\",\n",
    "}"
   ]
  },
  {
   "cell_type": "code",
   "execution_count": null,
   "metadata": {},
   "outputs": [],
   "source": [
    "windows, vscode, thunderbird, multi-apps"
   ]
  },
  {
   "cell_type": "code",
   "execution_count": 32,
   "metadata": {},
   "outputs": [
    {
     "name": "stdout",
     "output_type": "stream",
     "text": [
      "t11\n",
      "t22\n"
     ]
    }
   ],
   "source": [
    "for example in test.keys():\n",
    "    print(test[example])"
   ]
  },
  {
   "cell_type": "code",
   "execution_count": 24,
   "metadata": {},
   "outputs": [
    {
     "name": "stdout",
     "output_type": "stream",
     "text": [
      "{'id': '22a4636f-8179-4357-8e87-d1743ece1f81', 'snapshot': 'chrome', 'instruction': 'Please help me convert the file \"Meeting-Agenda.docx\" to a pdf file and upload to the folder \\'meetings\\' in my google drive.', 'source': 'https://marketplace.uipath.com/listings/merge-pdfs-from-gmail-email-attachments-and-upload-to-gogle-drive', 'config': [{'type': 'googledrive', 'parameters': {'settings_file': 'change yml file', 'operation': ['delete', 'mkdirs'], 'args': [{'query': \"title = 'Meeting-Agenda.docx' or title = 'Meeting-Agenda.pdf'\", 'trash': False}, {'path': ['meetings']}]}}, {'type': 'launch', 'parameters': {'command': ['google-chrome', '--remote-debugging-port=1337']}}, {'type': 'launch', 'parameters': {'command': ['socat', 'tcp-listen:9222,fork', 'tcp:localhost:1337']}}, {'type': 'chrome_open_tabs', 'parameters': {'urls_to_open': ['https://news.google.com', 'https://x.com', 'https://www.deepl.com']}}, {'type': 'login', 'parameters': {'settings_file': 'change json file', 'platform': 'googledrive'}}, {'type': 'download', 'parameters': {'files': [{'url': 'https://drive.usercontent.google.com/download?id=1mIPe4P5b5WPoYI1zegSXjZ1Fhjjvr5Zk&export=download&authuser=0&confirm=t', 'path': '/home/user/Desktop/Meeting-Agenda.docx'}]}}, {'type': 'launch', 'parameters': {'command': ['libreoffice', '--writer', '/home/user/Desktop/Meeting-Agenda.docx']}}], 'trajectory': 'trajectories/', 'related_apps': ['libreoffice_writer', 'chrome'], 'evaluator': {'func': 'compare_pdfs', 'result': {'type': 'googledrive_file', 'settings_file': 'change yml file', 'path': ['meetings', 'Meeting-Agenda.pdf'], 'dest': 'Meeting-Agenda.pdf'}, 'expected': {'type': 'cloud_file', 'path': 'https://drive.usercontent.google.com/download?id=1vY9GCxczkuom8bOU6SVHe9pTYgGIm1_M&export=download&authuser=0&confirm=t', 'dest': 'gold-Meeting-Agenda.pdf'}}}\n"
     ]
    }
   ],
   "source": [
    "print(example)"
   ]
  },
  {
   "cell_type": "code",
   "execution_count": null,
   "metadata": {},
   "outputs": [],
   "source": [
    "# Case 1\n",
    "env = OSWorld()\n",
    "proc = OSWorldProcessor()\n",
    "\n",
    "task = next(proc)\n",
    "env.reset(task)\n",
    "\n",
    "# Pros\n",
    "# - one class that handles data ops\n",
    "# - another for env\n",
    "# - wanna use benchmark tasks? just use the processor\n",
    "# - wanna process your custom slice of the benchmarks? just use the processor \n",
    "# - wanna use your custom task config? just dont use the processor\n",
    "\n",
    "# Cons\n",
    "# - additional class "
   ]
  },
  {
   "cell_type": "code",
   "execution_count": null,
   "metadata": {},
   "outputs": [],
   "source": [
    "# Case 2\n",
    "env = OSWorld(OSWorldProcessor(\"evaluation_examples/\"), secrets, use_benchmark=True)\n",
    "\n",
    "env.reset()\n",
    "\n",
    "# Pros\n",
    "# - single class object to handle benchmark tasks or custom tasks\n",
    "\n",
    "# Cons\n",
    "# - intermingling between data ops and env ops\n",
    "# - confuses the init for env; maybe a bit too overloading"
   ]
  },
  {
   "cell_type": "code",
   "execution_count": null,
   "metadata": {},
   "outputs": [],
   "source": [
    "# Case 3\n",
    "\n",
    "# OSWorld <- OSWorldAdapter <- OSWorldProcessor \n",
    "# OSWorldEnv -> OSWorld <- OSWorldProcessor\n",
    "\n",
    "env = OSWorld()\n",
    "proc = OSWorldProcessor(\"evaluation_examples/\")\n",
    "\n",
    "# Pros\n",
    "# - scalable, modular, robust\n",
    "\n",
    "# Cons\n",
    "# - more effort\n",
    "# - more maintenance\n",
    "# - more complexity"
   ]
  },
  {
   "cell_type": "code",
   "execution_count": null,
   "metadata": {},
   "outputs": [],
   "source": [
    "{\n",
    "  \"id\": \"0c825995-5b70-4526-b663-113f4c999dd2\",\n",
    "  \"snapshot\": \"libreoffice_calc\",\n",
    "  \"instruction\": \"I'm working on a comprehensive report for our environmental policy review meeting next week. I need to integrate key insights from an important document, which is a guidebook on the Green Economy, where I'm particularly interested in the 'Introduction' section. Could you extract this section and compile them into a new Google Doc named 'environment_policy_report (draft)' under /environment_policy folder? This will significantly aid in our discussion on aligning our environmental policies with sustainable and green economic practices. Thanks!\",\n",
    "  \"source\": \"authors\",\n",
    "  \"config\": [\n",
    "    {\n",
    "      \"type\": \"googledrive\",\n",
    "      \"parameters\": {\n",
    "        \"settings_file\": \"evaluation_examples/settings/googledrive/settings.yml\",\n",
    "        \"operation\": [\n",
    "          \"delete\"\n",
    "        ],\n",
    "        \"args\": [\n",
    "          {\n",
    "            \"query\": \"title = 'environment_policy_report (draft).doc' or title = 'environment_policy_report (draft).docx' or title = 'environment_policy_report (draft)'\",\n",
    "            \"trash\": false\n",
    "          }\n",
    "        ]\n",
    "      }\n",
    "    },\n",
    "    {\n",
    "      \"type\": \"launch\",\n",
    "      \"parameters\": {\n",
    "        \"command\": [\n",
    "          \"google-chrome\",\n",
    "          \"--remote-debugging-port=1337\"\n",
    "        ]\n",
    "      }\n",
    "    },\n",
    "    {\n",
    "      \"type\": \"launch\",\n",
    "      \"parameters\": {\n",
    "        \"command\": [\n",
    "          \"socat\",\n",
    "          \"tcp-listen:9222,fork\",\n",
    "          \"tcp:localhost:1337\"\n",
    "        ]\n",
    "      }\n",
    "    },\n",
    "    {\n",
    "      \"type\": \"login\",\n",
    "      \"parameters\": {\n",
    "        \"settings_file\": \"evaluation_examples/settings/google/settings.json\",\n",
    "        \"platform\": \"googledrive\"\n",
    "      }\n",
    "    },\n",
    "    {\n",
    "      \"type\": \"command\",\n",
    "      \"parameters\": {\n",
    "        \"command\": [\n",
    "          \"mkdir\",\n",
    "          \"-p\",\n",
    "          \"/home/user/Desktop/wwf\"\n",
    "        ]\n",
    "      }\n",
    "    },\n",
    "    {\n",
    "      \"type\": \"download\",\n",
    "      \"parameters\": {\n",
    "        \"files\": [\n",
    "          {\n",
    "            \"path\": \"/home/user/Desktop/wwf/lpr_living_planet_report_2016.pdf\",\n",
    "            \"url\": \"https://drive.google.com/uc?id=19NCdw_MVP6nH5nC6okYYe8U1mJABfTRK&export=download\"\n",
    "          },\n",
    "          {\n",
    "            \"path\": \"/home/user/Desktop/wwf/279c656a32_ENGLISH_FULL.pdf\",\n",
    "            \"url\": \"https://drive.google.com/uc?id=1ckH1NetfImQ9EyONTO-ZFWA8m8VIUFvD&export=download\"\n",
    "          },\n",
    "          {\n",
    "            \"path\": \"/home/user/Desktop/wwf/7g37j96psg_WWF_AR2021_spreads.pdf\",\n",
    "            \"url\": \"https://drive.google.com/uc?id=1cxLTzmqDKMomOyvho29lvFvhRnb0Y8__&export=download\"\n",
    "          },\n",
    "          {\n",
    "            \"path\": \"/home/user/Desktop/GE Guidebook.pdf\",\n",
    "            \"url\": \"https://drive.google.com/uc?id=1KzC_R3eI3Rmgwz5bkcI8Ohv7ebOrU-Is&export=download\"\n",
    "          },\n",
    "          {\n",
    "            \"path\": \"/home/user/Desktop/assessing_and_reporting_water_quality(q&a).pdf\",\n",
    "            \"url\": \"https://drive.google.com/uc?id=1LFojf3Weflv3fVdrZrgTY1iUaRdbT9kG&export=download\"\n",
    "          }\n",
    "        ]\n",
    "      }\n",
    "    }\n",
    "  ],\n",
    "  \"trajectory\": \"trajectories/0c825995-5b70-4526-b663-113f4c999dd2\",\n",
    "  \"related_apps\": [\n",
    "    \"libreoffice_calc\",\n",
    "    \"chrome\",\n",
    "    \"os\"\n",
    "  ],\n",
    "  \"evaluator\": {\n",
    "    \"func\": \"compare_docx_files\",\n",
    "    \"result\": {\n",
    "      \"type\": \"googledrive_file\",\n",
    "      \"settings_file\": \"evaluation_examples/settings/googledrive/settings.yml\",\n",
    "      \"path\": [\"environment_policy\", \"environment_policy_report (draft)\"],\n",
    "      \"dest\": \"environment_policy_report (draft).docx\"\n",
    "    },\n",
    "    \"expected\": {\n",
    "      \"type\": \"cloud_file\",\n",
    "      \"path\": \"https://drive.google.com/uc?id=1A2ti9JncAfIa6ks7FTJWHtYlZo-68FtM&export=download\",\n",
    "      \"dest\": \"environment_policy_report (draft)_gold.docx\"\n",
    "    },\n",
    "    \"options\": {\n",
    "      \"content_only\": true\n",
    "    }\n",
    "  }\n",
    "}\n"
   ]
  },
  {
   "cell_type": "code",
   "execution_count": null,
   "metadata": {},
   "outputs": [],
   "source": [
    "env = DesktopEnv()\n",
    "env.reset()"
   ]
  },
  {
   "cell_type": "markdown",
   "metadata": {},
   "source": [
    "Googledrive\n",
    "- settings.yml\n",
    "  - client_secrets.json\n",
    "  - credentials.json (write path)\n",
    "\n",
    "Google\n",
    "- settings.json"
   ]
  },
  {
   "cell_type": "code",
   "execution_count": null,
   "metadata": {},
   "outputs": [],
   "source": []
  },
  {
   "cell_type": "code",
   "execution_count": 2,
   "metadata": {},
   "outputs": [],
   "source": [
    "google_credentials_config = {\n",
    "    \"googledrive_settings\": {  # settings.yml\n",
    "        'client_config_backend': 'file',\n",
    "        'client_config_file': \"evaluation_examples/settings/googledrive/client_secrets.json\",  # User created.\n",
    "        'save_credentials': True,\n",
    "        'save_credentials_backend': 'file',\n",
    "        'save_credentials_file': \"evaluation_examples/settings/googledrive/credentials.json\",  # User specified.\n",
    "        'get_refresh_token': True\n",
    "    },\n",
    "    \"google_settings\": {  # settings.json\n",
    "        \"email\": \"vincentsimulartest@gmail.com\",\n",
    "        \"password\": \"\"\n",
    "    }\n",
    "}\n",
    "\n",
    "# settings.yml (googledrive)\n",
    "    # client_secrets.json\n",
    "    # credentials.json path specified by user\n",
    "# settings.json (google)"
   ]
  },
  {
   "cell_type": "code",
   "execution_count": 3,
   "metadata": {},
   "outputs": [
    {
     "data": {
      "text/plain": [
       "{'client_config_backend': 'file',\n",
       " 'client_config_file': 'evaluation_examples/settings/googledrive/client_secrets.json',\n",
       " 'save_credentials': True,\n",
       " 'save_credentials_backend': 'file',\n",
       " 'save_credentials_file': 'evaluation_examples/settings/googledrive/credentials.json',\n",
       " 'get_refresh_token': True}"
      ]
     },
     "execution_count": 3,
     "metadata": {},
     "output_type": "execute_result"
    }
   ],
   "source": [
    "google_credentials_config['googledrive_settings']"
   ]
  },
  {
   "cell_type": "code",
   "execution_count": 4,
   "metadata": {},
   "outputs": [
    {
     "data": {
      "text/plain": [
       "{'email': 'vincentsimulartest@gmail.com', 'password': ''}"
      ]
     },
     "execution_count": 4,
     "metadata": {},
     "output_type": "execute_result"
    }
   ],
   "source": [
    "google_credentials_config['google_settings']"
   ]
  },
  {
   "cell_type": "code",
   "execution_count": null,
   "metadata": {},
   "outputs": [],
   "source": [
    "read and write"
   ]
  },
  {
   "cell_type": "markdown",
   "metadata": {},
   "source": [
    "## Testing Implementation"
   ]
  },
  {
   "cell_type": "code",
   "execution_count": 1,
   "metadata": {},
   "outputs": [
    {
     "name": "stderr",
     "output_type": "stream",
     "text": [
      "/Users/chuongnguyen/opt/anaconda3/envs/agential/lib/python3.11/site-packages/torchvision/io/image.py:13: UserWarning: Failed to load image Python extension: 'dlopen(/Users/chuongnguyen/opt/anaconda3/envs/agential/lib/python3.11/site-packages/torchvision/image.so, 0x0006): Symbol not found: __ZN3c1017RegisterOperatorsD1Ev\n",
      "  Referenced from: <910128BE-E745-359A-8A99-049B245C2D92> /Users/chuongnguyen/opt/anaconda3/envs/agential/lib/python3.11/site-packages/torchvision/image.so\n",
      "  Expected in:     <23AEC8EA-0BA7-322C-93F3-4D2D1EA66F06> /Users/chuongnguyen/opt/anaconda3/envs/agential/lib/python3.11/site-packages/torch/lib/libtorch_cpu.dylib'If you don't plan on using image functionality from `torchvision.io`, you can ignore this warning. Otherwise, there might be something wrong with your environment. Did you have `libjpeg` or `libpng` installed before building `torchvision` from source?\n",
      "  warn(\n",
      "/Users/chuongnguyen/opt/anaconda3/envs/agential/lib/python3.11/site-packages/tqdm/auto.py:21: TqdmWarning: IProgress not found. Please update jupyter and ipywidgets. See https://ipywidgets.readthedocs.io/en/stable/user_install.html\n",
      "  from .autonotebook import tqdm as notebook_tqdm\n"
     ]
    }
   ],
   "source": [
    "from agential.benchmarks.computer_use.osworld.osworld_benchmark import OSWorldBenchmark\n",
    "from agential.benchmarks.computer_use.osworld.osworld_mediator import OSWorldMediator"
   ]
  },
  {
   "cell_type": "code",
   "execution_count": 2,
   "metadata": {},
   "outputs": [],
   "source": [
    "UBUNTUO_VMX = \"code_storage/vmware_vm_data/Ubuntu0/Ubuntu0.vmx\""
   ]
  },
  {
   "cell_type": "code",
   "execution_count": 3,
   "metadata": {},
   "outputs": [
    {
     "name": "stdout",
     "output_type": "stream",
     "text": [
      "/Users/chuongnguyen/opt/anaconda3/envs/agential/bin:/Users/chuongnguyen/.local/pipx/venvs/poetry/bin:/Users/chuongnguyen/.local/pipx/venvs/poetry/bin:/usr/bin:/bin:/usr/sbin:/sbin:/Applications/VMware Fusion.app/Contents/Public\n",
      "Error: Unrecognized command: your_command_here\n",
      "\n",
      "\n"
     ]
    }
   ],
   "source": [
    "import os\n",
    "import subprocess\n",
    "\n",
    "# Add vmrun path to the PATH environment variable\n",
    "os.environ[\"PATH\"] += \":/Applications/VMware Fusion.app/Contents/Public\"\n",
    "\n",
    "# Verify the new PATH\n",
    "print(os.environ['PATH'])\n",
    "\n",
    "# Run vmrun using the full path\n",
    "command = [\"/Applications/VMware Fusion.app/Contents/Public/vmrun\", \"your_command_here\"]\n",
    "result = subprocess.run(command, capture_output=True, text=True)\n",
    "\n",
    "# Print output or error\n",
    "print(result.stdout)\n",
    "print(result.stderr)\n"
   ]
  },
  {
   "cell_type": "code",
   "execution_count": 4,
   "metadata": {},
   "outputs": [
    {
     "name": "stdout",
     "output_type": "stream",
     "text": [
      "Starting VMware VM...\n"
     ]
    }
   ],
   "source": [
    "examples_dir: str = \"agential/benchmarks/computer_use/osworld/evaluation_examples/examples\"\n",
    "path_to_google_settings: str = \"settings/google/settings.json\"\n",
    "path_to_googledrive_settings: str = \"settings/googledrive/settings.yml\"\n",
    "osworld_benchmark: OSWorldBenchmark = OSWorldBenchmark(action_space=\"pyautogui\", path_to_vm=UBUNTUO_VMX)"
   ]
  },
  {
   "cell_type": "code",
   "execution_count": 5,
   "metadata": {},
   "outputs": [],
   "source": [
    "osworld = OSWorldMediator(\n",
    "    examples_dir=examples_dir,\n",
    "    path_to_google_settings=path_to_google_settings,\n",
    "    path_to_googledrive_settings=path_to_googledrive_settings,\n",
    "    osworld_benchmark=osworld_benchmark\n",
    ")"
   ]
  },
  {
   "cell_type": "code",
   "execution_count": 6,
   "metadata": {},
   "outputs": [],
   "source": [
    "domain = \"multi_apps\"\n",
    "task_id = \"22a4636f-8179-4357-8e87-d1743ece1f81\"\n"
   ]
  },
  {
   "cell_type": "code",
   "execution_count": 7,
   "metadata": {},
   "outputs": [
    {
     "data": {
      "text/plain": [
       "{'id': '22a4636f-8179-4357-8e87-d1743ece1f81',\n",
       " 'snapshot': 'chrome',\n",
       " 'instruction': 'Please help me convert the file \"Meeting-Agenda.docx\" to a pdf file and upload to the folder \\'meetings\\' in my google drive.',\n",
       " 'source': 'https://marketplace.uipath.com/listings/merge-pdfs-from-gmail-email-attachments-and-upload-to-gogle-drive',\n",
       " 'config': [{'type': 'googledrive',\n",
       "   'parameters': {'settings_file': 'settings/googledrive/settings.yml',\n",
       "    'operation': ['delete', 'mkdirs'],\n",
       "    'args': [{'query': \"title = 'Meeting-Agenda.docx' or title = 'Meeting-Agenda.pdf'\",\n",
       "      'trash': False},\n",
       "     {'path': ['meetings']}]}},\n",
       "  {'type': 'launch',\n",
       "   'parameters': {'command': ['google-chrome',\n",
       "     '--remote-debugging-port=1337']}},\n",
       "  {'type': 'launch',\n",
       "   'parameters': {'command': ['socat',\n",
       "     'tcp-listen:9222,fork',\n",
       "     'tcp:localhost:1337']}},\n",
       "  {'type': 'chrome_open_tabs',\n",
       "   'parameters': {'urls_to_open': ['https://news.google.com',\n",
       "     'https://x.com',\n",
       "     'https://www.deepl.com']}},\n",
       "  {'type': 'login',\n",
       "   'parameters': {'settings_file': 'settings/google/settings.json',\n",
       "    'platform': 'googledrive'}},\n",
       "  {'type': 'download',\n",
       "   'parameters': {'files': [{'url': 'https://drive.usercontent.google.com/download?id=1mIPe4P5b5WPoYI1zegSXjZ1Fhjjvr5Zk&export=download&authuser=0&confirm=t',\n",
       "      'path': '/home/user/Desktop/Meeting-Agenda.docx'}]}},\n",
       "  {'type': 'launch',\n",
       "   'parameters': {'command': ['libreoffice',\n",
       "     '--writer',\n",
       "     '/home/user/Desktop/Meeting-Agenda.docx']}}],\n",
       " 'trajectory': 'trajectories/',\n",
       " 'related_apps': ['libreoffice_writer', 'chrome'],\n",
       " 'evaluator': {'func': 'compare_pdfs',\n",
       "  'result': {'type': 'googledrive_file',\n",
       "   'settings_file': 'settings/googledrive/settings.yml',\n",
       "   'path': ['meetings', 'Meeting-Agenda.pdf'],\n",
       "   'dest': 'Meeting-Agenda.pdf'},\n",
       "  'expected': {'type': 'cloud_file',\n",
       "   'path': 'https://drive.usercontent.google.com/download?id=1vY9GCxczkuom8bOU6SVHe9pTYgGIm1_M&export=download&authuser=0&confirm=t',\n",
       "   'dest': 'gold-Meeting-Agenda.pdf'}}}"
      ]
     },
     "execution_count": 7,
     "metadata": {},
     "output_type": "execute_result"
    }
   ],
   "source": [
    "osworld.data[domain][task_id]"
   ]
  },
  {
   "cell_type": "code",
   "execution_count": 8,
   "metadata": {},
   "outputs": [],
   "source": [
    "update = osworld.update_credential(\n",
    "    domain=domain,\n",
    "    task_id=task_id\n",
    ")"
   ]
  },
  {
   "cell_type": "code",
   "execution_count": 9,
   "metadata": {},
   "outputs": [
    {
     "name": "stdout",
     "output_type": "stream",
     "text": [
      "True\n"
     ]
    }
   ],
   "source": [
    "print(os.path.exists(path_to_google_settings))"
   ]
  },
  {
   "cell_type": "code",
   "execution_count": 7,
   "metadata": {},
   "outputs": [
    {
     "name": "stdout",
     "output_type": "stream",
     "text": [
      "Starting VMware VM...\n"
     ]
    },
    {
     "name": "stderr",
     "output_type": "stream",
     "text": [
      "An error occurred while trying to send the request: HTTPConnectionPool(host='172.16.190.136', port=5000): Max retries exceeded with url: /setup/launch (Caused by NewConnectionError('<urllib3.connection.HTTPConnection object at 0x15db4f550>: Failed to establish a new connection: [Errno 65] No route to host'))\n",
      "An error occurred while trying to send the request: HTTPConnectionPool(host='172.16.190.136', port=5000): Max retries exceeded with url: /setup/launch (Caused by NewConnectionError('<urllib3.connection.HTTPConnection object at 0x15db5ed50>: Failed to establish a new connection: [Errno 65] No route to host'))\n"
     ]
    },
    {
     "ename": "Error",
     "evalue": "It looks like you are using Playwright Sync API inside the asyncio loop.\nPlease use the Async API instead.",
     "output_type": "error",
     "traceback": [
      "\u001b[0;31m---------------------------------------------------------------------------\u001b[0m",
      "\u001b[0;31mError\u001b[0m                                     Traceback (most recent call last)",
      "Cell \u001b[0;32mIn[7], line 1\u001b[0m\n\u001b[0;32m----> 1\u001b[0m obs \u001b[38;5;241m=\u001b[39m \u001b[43mosworld\u001b[49m\u001b[38;5;241;43m.\u001b[39;49m\u001b[43mreset\u001b[49m\u001b[43m(\u001b[49m\n\u001b[1;32m      2\u001b[0m \u001b[43m    \u001b[49m\u001b[43mdomain\u001b[49m\u001b[38;5;241;43m=\u001b[39;49m\u001b[43mdomain\u001b[49m\n\u001b[1;32m      3\u001b[0m \u001b[43m)\u001b[49m\n",
      "File \u001b[0;32m~/Desktop/LLM Project/Agential/agential/agential/benchmarks/computer_use/osworld/osworld_mediator.py:110\u001b[0m, in \u001b[0;36mOSWorldMediator.reset\u001b[0;34m(self, domain, example)\u001b[0m\n\u001b[1;32m    108\u001b[0m     task_id \u001b[39m=\u001b[39m random\u001b[39m.\u001b[39mchoice(\u001b[39mlist\u001b[39m(\u001b[39mself\u001b[39m\u001b[39m.\u001b[39mdata[domain]\u001b[39m.\u001b[39mkeys()))\n\u001b[1;32m    109\u001b[0m     example \u001b[39m=\u001b[39m \u001b[39mself\u001b[39m\u001b[39m.\u001b[39mdata[domain][task_id]\n\u001b[0;32m--> 110\u001b[0m \u001b[39mreturn\u001b[39;00m \u001b[39mself\u001b[39;49m\u001b[39m.\u001b[39;49mosworld_benchmark\u001b[39m.\u001b[39;49mreset(task_config\u001b[39m=\u001b[39;49mexample)\n",
      "File \u001b[0;32m~/Desktop/LLM Project/Agential/agential/agential/benchmarks/computer_use/osworld/osworld_benchmark.py:73\u001b[0m, in \u001b[0;36mOSWorldBenchmark.reset\u001b[0;34m(self, **kwargs)\u001b[0m\n\u001b[1;32m     58\u001b[0m \u001b[39mdef\u001b[39;00m \u001b[39mreset\u001b[39m(\u001b[39mself\u001b[39m, \u001b[39m*\u001b[39m\u001b[39m*\u001b[39mkwargs: Any) \u001b[39m-\u001b[39m\u001b[39m>\u001b[39m Dict[\u001b[39mstr\u001b[39m, Any]:\n\u001b[1;32m     59\u001b[0m \u001b[39m    \u001b[39m\u001b[39m\"\"\"Resets the environment to its initial state for a new evaluation.\u001b[39;00m\n\u001b[1;32m     60\u001b[0m \n\u001b[1;32m     61\u001b[0m \u001b[39m    This method prepares the `DesktopEnv` for a new round of benchmarking by resetting\u001b[39;00m\n\u001b[0;32m   (...)\u001b[0m\n\u001b[1;32m     71\u001b[0m \u001b[39m        obs (Dict[str, Any]): The updated state or configuration of the environment after reset.\u001b[39;00m\n\u001b[1;32m     72\u001b[0m \u001b[39m    \"\"\"\u001b[39;00m\n\u001b[0;32m---> 73\u001b[0m     \u001b[39mreturn\u001b[39;00m \u001b[39mself\u001b[39;49m\u001b[39m.\u001b[39;49menv\u001b[39m.\u001b[39;49mreset(\u001b[39m*\u001b[39;49m\u001b[39m*\u001b[39;49mkwargs)\n",
      "File \u001b[0;32m~/opt/anaconda3/envs/agential/lib/python3.11/site-packages/desktop_env/desktop_env.py:148\u001b[0m, in \u001b[0;36mDesktopEnv.reset\u001b[0;34m(self, task_config, seed, options)\u001b[0m\n\u001b[1;32m    146\u001b[0m     \u001b[39mself\u001b[39m\u001b[39m.\u001b[39msetup_controller\u001b[39m.\u001b[39mreset_cache_dir(\u001b[39mself\u001b[39m\u001b[39m.\u001b[39mcache_dir)\n\u001b[1;32m    147\u001b[0m     logger\u001b[39m.\u001b[39minfo(\u001b[39m\"\u001b[39m\u001b[39mSetting up environment...\u001b[39m\u001b[39m\"\u001b[39m)\n\u001b[0;32m--> 148\u001b[0m     \u001b[39mself\u001b[39;49m\u001b[39m.\u001b[39;49msetup_controller\u001b[39m.\u001b[39;49msetup(\u001b[39mself\u001b[39;49m\u001b[39m.\u001b[39;49mconfig)\n\u001b[1;32m    149\u001b[0m     logger\u001b[39m.\u001b[39minfo(\u001b[39m\"\u001b[39m\u001b[39mEnvironment setup complete.\u001b[39m\u001b[39m\"\u001b[39m)\n\u001b[1;32m    151\u001b[0m observation \u001b[39m=\u001b[39m \u001b[39mself\u001b[39m\u001b[39m.\u001b[39m_get_obs()\n",
      "File \u001b[0;32m~/opt/anaconda3/envs/agential/lib/python3.11/site-packages/desktop_env/controllers/setup.py:63\u001b[0m, in \u001b[0;36mSetupController.setup\u001b[0;34m(self, config)\u001b[0m\n\u001b[1;32m     61\u001b[0m setup_function: \u001b[39mstr\u001b[39m \u001b[39m=\u001b[39m \u001b[39m\"\u001b[39m\u001b[39m_\u001b[39m\u001b[39m{:}\u001b[39;00m\u001b[39m_setup\u001b[39m\u001b[39m\"\u001b[39m\u001b[39m.\u001b[39mformat(config_type)\n\u001b[1;32m     62\u001b[0m \u001b[39massert\u001b[39;00m \u001b[39mhasattr\u001b[39m(\u001b[39mself\u001b[39m, setup_function), \u001b[39mf\u001b[39m\u001b[39m'\u001b[39m\u001b[39mSetup controller cannot find init function \u001b[39m\u001b[39m{\u001b[39;00msetup_function\u001b[39m}\u001b[39;00m\u001b[39m'\u001b[39m\n\u001b[0;32m---> 63\u001b[0m \u001b[39mgetattr\u001b[39;49m(\u001b[39mself\u001b[39;49m, setup_function)(\u001b[39m*\u001b[39;49m\u001b[39m*\u001b[39;49mparameters)\n\u001b[1;32m     65\u001b[0m logger\u001b[39m.\u001b[39minfo(\u001b[39m\"\u001b[39m\u001b[39mSETUP: \u001b[39m\u001b[39m%s\u001b[39;00m\u001b[39m(\u001b[39m\u001b[39m%s\u001b[39;00m\u001b[39m)\u001b[39m\u001b[39m\"\u001b[39m, setup_function, \u001b[39mstr\u001b[39m(parameters))\n",
      "File \u001b[0;32m~/opt/anaconda3/envs/agential/lib/python3.11/site-packages/desktop_env/controllers/setup.py:363\u001b[0m, in \u001b[0;36mSetupController._chrome_open_tabs_setup\u001b[0;34m(self, urls_to_open)\u001b[0m\n\u001b[1;32m    360\u001b[0m     time\u001b[39m.\u001b[39msleep(\u001b[39m5\u001b[39m)\n\u001b[1;32m    362\u001b[0m browser \u001b[39m=\u001b[39m \u001b[39mNone\u001b[39;00m\n\u001b[0;32m--> 363\u001b[0m \u001b[39mwith\u001b[39;49;00m sync_playwright() \u001b[39mas\u001b[39;49;00m p:\n\u001b[1;32m    364\u001b[0m     \u001b[39mtry\u001b[39;49;00m:\n\u001b[1;32m    365\u001b[0m         browser \u001b[39m=\u001b[39;49m p\u001b[39m.\u001b[39;49mchromium\u001b[39m.\u001b[39;49mconnect_over_cdp(remote_debugging_url)\n",
      "File \u001b[0;32m~/opt/anaconda3/envs/agential/lib/python3.11/site-packages/playwright/sync_api/_context_manager.py:47\u001b[0m, in \u001b[0;36mPlaywrightContextManager.__enter__\u001b[0;34m(self)\u001b[0m\n\u001b[1;32m     45\u001b[0m             \u001b[39mself\u001b[39m\u001b[39m.\u001b[39m_own_loop \u001b[39m=\u001b[39m \u001b[39mTrue\u001b[39;00m\n\u001b[1;32m     46\u001b[0m         \u001b[39mif\u001b[39;00m \u001b[39mself\u001b[39m\u001b[39m.\u001b[39m_loop\u001b[39m.\u001b[39mis_running():\n\u001b[0;32m---> 47\u001b[0m             \u001b[39mraise\u001b[39;00m Error(\n\u001b[1;32m     48\u001b[0m \u001b[39m                \u001b[39m\u001b[39m\"\"\"It looks like you are using Playwright Sync API inside the asyncio loop.\u001b[39;00m\n\u001b[1;32m     49\u001b[0m \u001b[39mPlease use the Async API instead.\"\"\"\u001b[39;00m\n\u001b[1;32m     50\u001b[0m             )\n\u001b[1;32m     52\u001b[0m         \u001b[39m# Create a new fiber for the protocol dispatcher. It will be pumping events\u001b[39;00m\n\u001b[1;32m     53\u001b[0m         \u001b[39m# until the end of times. We will pass control to that fiber every time we\u001b[39;00m\n\u001b[1;32m     54\u001b[0m         \u001b[39m# block while waiting for a response.\u001b[39;00m\n\u001b[1;32m     55\u001b[0m         \u001b[39mdef\u001b[39;00m \u001b[39mgreenlet_main\u001b[39m() \u001b[39m-\u001b[39m\u001b[39m>\u001b[39m \u001b[39mNone\u001b[39;00m:\n",
      "\u001b[0;31mError\u001b[0m: It looks like you are using Playwright Sync API inside the asyncio loop.\nPlease use the Async API instead."
     ]
    }
   ],
   "source": [
    "obs = osworld.reset(\n",
    "    domain=domain\n",
    ")"
   ]
  },
  {
   "cell_type": "code",
   "execution_count": 17,
   "metadata": {},
   "outputs": [
    {
     "name": "stdout",
     "output_type": "stream",
     "text": [
      "OSWORLD_PROCESSOR\n"
     ]
    }
   ],
   "source": [
    "print(str.upper(\"osworld_processor\"))"
   ]
  },
  {
   "cell_type": "code",
   "execution_count": 9,
   "metadata": {},
   "outputs": [],
   "source": [
    "EXAMPLES_DIR: str = (\n",
    "    \"agential/benchmarks/computer_use/osworld/evaluation_examples/examples\"\n",
    ")\n",
    "PATH_TO_GOOGLE_SETTINGS: str = (\n",
    "    \"agential/benchmarks/computer_use/osworld/evaluation_examples/settings/google/settings.json\"\n",
    ")\n",
    "PATH_TO_GOOGLEDRIVE_SETTINGS: str = (\n",
    "    \"agential/benchmarks/computer_use/osworld/evaluation_examples/settings/googledrive/settings.yml\"\n",
    ")\n",
    "DOMAIN = \"multi_apps\"\n",
    "TASK_ID = \"0c825995-5b70-4526-b663-113f4c999dd2\""
   ]
  },
  {
   "cell_type": "code",
   "execution_count": 10,
   "metadata": {},
   "outputs": [],
   "source": [
    "example_1_input = {\n",
    "    \"id\": \"4e9f0faf-2ecc-4ae8-a804-28c9a75d1ddc\",\n",
    "    \"snapshot\": \"chrome\",\n",
    "    \"instruction\": \"Could you help me extract data in the table from a new invoice uploaded to my Google Drive, then export it to a Libreoffice calc .xlsx file in the desktop?\",\n",
    "    \"source\": \"https://marketplace.uipath.com/listings/extract-data-from-a-new-invoice-file-in-google-drive-and-store-it-in-google-sheets4473\",\n",
    "    \"config\": [\n",
    "        {\n",
    "            \"type\": \"googledrive\",\n",
    "            \"parameters\": {\n",
    "                \"settings_file\": \"evaluation_examples/settings/googledrive/settings.yml\",\n",
    "                \"operation\": [\"delete\", \"upload\"],\n",
    "                \"args\": [\n",
    "                    {\"query\": \"title = 'invoice.pdf'\", \"trash\": False},\n",
    "                    {\n",
    "                        \"url\": \"https://drive.usercontent.google.com/download?id=1KAhoPFM0AU2dgn_NRt3y7CjOr9Er4vwD&export=download&authuser=0&confirm=t&uuid=e8528cd1-5106-45f3-a644-e1bbf5e08278&at=APZUnTUnTuXfV2Ted_9Wv2QomMvA:1706181110208\",\n",
    "                        \"path\": [\"invoice.pdf\"],\n",
    "                    },\n",
    "                ],\n",
    "            },\n",
    "        },\n",
    "        {\n",
    "            \"type\": \"launch\",\n",
    "            \"parameters\": {\n",
    "                \"command\": [\"google-chrome\", \"--remote-debugging-port=1337\"]\n",
    "            },\n",
    "        },\n",
    "        {\n",
    "            \"type\": \"launch\",\n",
    "            \"parameters\": {\n",
    "                \"command\": [\"socat\", \"tcp-listen:9222,fork\", \"tcp:localhost:1337\"]\n",
    "            },\n",
    "        },\n",
    "        {\n",
    "            \"type\": \"chrome_open_tabs\",\n",
    "            \"parameters\": {\n",
    "                \"urls_to_open\": [\"https://news.google.com\", \"https://x.com\"]\n",
    "            },\n",
    "        },\n",
    "        {\n",
    "            \"type\": \"login\",\n",
    "            \"parameters\": {\n",
    "                \"settings_file\": \"evaluation_examples/settings/google/settings.json\",\n",
    "                \"platform\": \"googledrive\",\n",
    "            },\n",
    "        },\n",
    "    ],\n",
    "    \"trajectory\": \"trajectories/\",\n",
    "    \"related_apps\": [\"libreoffice_calc\", \"chrome\"],\n",
    "    \"evaluator\": {\n",
    "        \"func\": \"compare_table\",\n",
    "        \"result\": {\n",
    "            \"type\": \"vm_file\",\n",
    "            \"path\": \"/home/user/Desktop/invoice.xlsx\",\n",
    "            \"dest\": \"invoice.xlsx\",\n",
    "        },\n",
    "        \"expected\": {\n",
    "            \"type\": \"cloud_file\",\n",
    "            \"path\": \"https://drive.usercontent.google.com/download?id=1gkATnr8bk4JKQbzXZvzifoAQUA2sx5da&export=download&authuser=0&confirm=t&uuid=64ed0549-1627-49e8-8228-1e1925d6f6f7&at=APZUnTXkCm24SrOPuO5C6v4M3BiB:1706181091638\",\n",
    "            \"dest\": \"invoice_gold.xlsx\",\n",
    "        },\n",
    "        \"options\": {\n",
    "            \"rules\": [\n",
    "                {\"type\": \"sheet_data\", \"sheet_idx0\": \"RI0\", \"sheet_idx1\": \"EI0\"}\n",
    "            ]\n",
    "        },\n",
    "    },\n",
    "}\n",
    "example_2_input = {\n",
    "    \"id\": \"0c825995-5b70-4526-b663-113f4c999dd2\",\n",
    "    \"snapshot\": \"libreoffice_calc\",\n",
    "    \"instruction\": \"I'm working on a comprehensive report for our environmental policy review meeting next week. I need to integrate key insights from an important document, which is a guidebook on the Green Economy, where I'm particularly interested in the 'Introduction' section. Could you extract this section and compile them into a new Google Doc named 'environment_policy_report (draft)' under /environment_policy folder? This will significantly aid in our discussion on aligning our environmental policies with sustainable and green economic practices. Thanks!\",\n",
    "    \"source\": \"authors\",\n",
    "    \"config\": [\n",
    "        {\n",
    "            \"type\": \"googledrive\",\n",
    "            \"parameters\": {\n",
    "                \"settings_file\": \"evaluation_examples/settings/googledrive/settings.yml\",\n",
    "                \"operation\": [\"delete\"],\n",
    "                \"args\": [\n",
    "                    {\n",
    "                        \"query\": \"title = 'environment_policy_report (draft).doc' or title = 'environment_policy_report (draft).docx' or title = 'environment_policy_report (draft)'\",\n",
    "                        \"trash\": False,\n",
    "                    }\n",
    "                ],\n",
    "            },\n",
    "        },\n",
    "        {\n",
    "            \"type\": \"launch\",\n",
    "            \"parameters\": {\n",
    "                \"command\": [\"google-chrome\", \"--remote-debugging-port=1337\"]\n",
    "            },\n",
    "        },\n",
    "        {\n",
    "            \"type\": \"launch\",\n",
    "            \"parameters\": {\n",
    "                \"command\": [\"socat\", \"tcp-listen:9222,fork\", \"tcp:localhost:1337\"]\n",
    "            },\n",
    "        },\n",
    "        {\n",
    "            \"type\": \"login\",\n",
    "            \"parameters\": {\n",
    "                \"settings_file\": \"evaluation_examples/settings/google/settings.json\",\n",
    "                \"platform\": \"googledrive\",\n",
    "            },\n",
    "        },\n",
    "        {\n",
    "            \"type\": \"command\",\n",
    "            \"parameters\": {\"command\": [\"mkdir\", \"-p\", \"/home/user/Desktop/wwf\"]},\n",
    "        },\n",
    "        {\n",
    "            \"type\": \"download\",\n",
    "            \"parameters\": {\n",
    "                \"files\": [\n",
    "                    {\n",
    "                        \"path\": \"/home/user/Desktop/wwf/lpr_living_planet_report_2016.pdf\",\n",
    "                        \"url\": \"https://drive.google.com/uc?id=19NCdw_MVP6nH5nC6okYYe8U1mJABfTRK&export=download\",\n",
    "                    },\n",
    "                    {\n",
    "                        \"path\": \"/home/user/Desktop/wwf/279c656a32_ENGLISH_FULL.pdf\",\n",
    "                        \"url\": \"https://drive.google.com/uc?id=1ckH1NetfImQ9EyONTO-ZFWA8m8VIUFvD&export=download\",\n",
    "                    },\n",
    "                    {\n",
    "                        \"path\": \"/home/user/Desktop/wwf/7g37j96psg_WWF_AR2021_spreads.pdf\",\n",
    "                        \"url\": \"https://drive.google.com/uc?id=1cxLTzmqDKMomOyvho29lvFvhRnb0Y8__&export=download\",\n",
    "                    },\n",
    "                    {\n",
    "                        \"path\": \"/home/user/Desktop/GE Guidebook.pdf\",\n",
    "                        \"url\": \"https://drive.google.com/uc?id=1KzC_R3eI3Rmgwz5bkcI8Ohv7ebOrU-Is&export=download\",\n",
    "                    },\n",
    "                    {\n",
    "                        \"path\": \"/home/user/Desktop/assessing_and_reporting_water_quality(q&a).pdf\",\n",
    "                        \"url\": \"https://drive.google.com/uc?id=1LFojf3Weflv3fVdrZrgTY1iUaRdbT9kG&export=download\",\n",
    "                    },\n",
    "                ]\n",
    "            },\n",
    "        },\n",
    "    ],\n",
    "    \"trajectory\": \"trajectories/0c825995-5b70-4526-b663-113f4c999dd2\",\n",
    "    \"related_apps\": [\"libreoffice_calc\", \"chrome\", \"os\"],\n",
    "    \"evaluator\": {\n",
    "        \"func\": \"compare_docx_files\",\n",
    "        \"result\": {\n",
    "            \"type\": \"googledrive_file\",\n",
    "            \"settings_file\": \"evaluation_examples/settings/googledrive/settings.yml\",\n",
    "            \"path\": [\"environment_policy\", \"environment_policy_report (draft)\"],\n",
    "            \"dest\": \"environment_policy_report (draft).docx\",\n",
    "        },\n",
    "        \"expected\": {\n",
    "            \"type\": \"cloud_file\",\n",
    "            \"path\": \"https://drive.google.com/uc?id=1A2ti9JncAfIa6ks7FTJWHtYlZo-68FtM&export=download\",\n",
    "            \"dest\": \"environment_policy_report (draft)_gold.docx\",\n",
    "        },\n",
    "        \"options\": {\"content_only\": True},\n",
    "    },\n",
    "}\n",
    "temp_data_input = {\n",
    "    \"multi_apps\": {\n",
    "        \"4e9f0faf-2ecc-4ae8-a804-28c9a75d1ddc\": example_1_input,\n",
    "        \"0c825995-5b70-4526-b663-113f4c999dd2\": example_2_input,\n",
    "    }\n",
    "}\n",
    "\n",
    "example_1_output = {\n",
    "    \"id\": \"4e9f0faf-2ecc-4ae8-a804-28c9a75d1ddc\",\n",
    "    \"snapshot\": \"chrome\",\n",
    "    \"instruction\": \"Could you help me extract data in the table from a new invoice uploaded to my Google Drive, then export it to a Libreoffice calc .xlsx file in the desktop?\",\n",
    "    \"source\": \"https://marketplace.uipath.com/listings/extract-data-from-a-new-invoice-file-in-google-drive-and-store-it-in-google-sheets4473\",\n",
    "    \"config\": [\n",
    "        {\n",
    "            \"type\": \"googledrive\",\n",
    "            \"parameters\": {\n",
    "                \"settings_file\": PATH_TO_GOOGLEDRIVE_SETTINGS,\n",
    "                \"operation\": [\"delete\", \"upload\"],\n",
    "                \"args\": [\n",
    "                    {\"query\": \"title = 'invoice.pdf'\", \"trash\": False},\n",
    "                    {\n",
    "                        \"url\": \"https://drive.usercontent.google.com/download?id=1KAhoPFM0AU2dgn_NRt3y7CjOr9Er4vwD&export=download&authuser=0&confirm=t&uuid=e8528cd1-5106-45f3-a644-e1bbf5e08278&at=APZUnTUnTuXfV2Ted_9Wv2QomMvA:1706181110208\",\n",
    "                        \"path\": [\"invoice.pdf\"],\n",
    "                    },\n",
    "                ],\n",
    "            },\n",
    "        },\n",
    "        {\n",
    "            \"type\": \"launch\",\n",
    "            \"parameters\": {\n",
    "                \"command\": [\"google-chrome\", \"--remote-debugging-port=1337\"]\n",
    "            },\n",
    "        },\n",
    "        {\n",
    "            \"type\": \"launch\",\n",
    "            \"parameters\": {\n",
    "                \"command\": [\"socat\", \"tcp-listen:9222,fork\", \"tcp:localhost:1337\"]\n",
    "            },\n",
    "        },\n",
    "        {\n",
    "            \"type\": \"chrome_open_tabs\",\n",
    "            \"parameters\": {\n",
    "                \"urls_to_open\": [\"https://news.google.com\", \"https://x.com\"]\n",
    "            },\n",
    "        },\n",
    "        {\n",
    "            \"type\": \"login\",\n",
    "            \"parameters\": {\n",
    "                \"settings_file\": PATH_TO_GOOGLE_SETTINGS,\n",
    "                \"platform\": \"googledrive\",\n",
    "            },\n",
    "        },\n",
    "    ],\n",
    "    \"trajectory\": \"trajectories/\",\n",
    "    \"related_apps\": [\"libreoffice_calc\", \"chrome\"],\n",
    "    \"evaluator\": {\n",
    "        \"func\": \"compare_table\",\n",
    "        \"result\": {\n",
    "            \"type\": \"vm_file\",\n",
    "            \"path\": \"/home/user/Desktop/invoice.xlsx\",\n",
    "            \"dest\": \"invoice.xlsx\",\n",
    "        },\n",
    "        \"expected\": {\n",
    "            \"type\": \"cloud_file\",\n",
    "            \"path\": \"https://drive.usercontent.google.com/download?id=1gkATnr8bk4JKQbzXZvzifoAQUA2sx5da&export=download&authuser=0&confirm=t&uuid=64ed0549-1627-49e8-8228-1e1925d6f6f7&at=APZUnTXkCm24SrOPuO5C6v4M3BiB:1706181091638\",\n",
    "            \"dest\": \"invoice_gold.xlsx\",\n",
    "        },\n",
    "        \"options\": {\n",
    "            \"rules\": [\n",
    "                {\"type\": \"sheet_data\", \"sheet_idx0\": \"RI0\", \"sheet_idx1\": \"EI0\"}\n",
    "            ]\n",
    "        },\n",
    "    },\n",
    "}\n",
    "example_2_output = {\n",
    "    \"id\": \"0c825995-5b70-4526-b663-113f4c999dd2\",\n",
    "    \"snapshot\": \"libreoffice_calc\",\n",
    "    \"instruction\": \"I'm working on a comprehensive report for our environmental policy review meeting next week. I need to integrate key insights from an important document, which is a guidebook on the Green Economy, where I'm particularly interested in the 'Introduction' section. Could you extract this section and compile them into a new Google Doc named 'environment_policy_report (draft)' under /environment_policy folder? This will significantly aid in our discussion on aligning our environmental policies with sustainable and green economic practices. Thanks!\",\n",
    "    \"source\": \"authors\",\n",
    "    \"config\": [\n",
    "        {\n",
    "            \"type\": \"googledrive\",\n",
    "            \"parameters\": {\n",
    "                \"settings_file\": PATH_TO_GOOGLEDRIVE_SETTINGS,\n",
    "                \"operation\": [\"delete\"],\n",
    "                \"args\": [\n",
    "                    {\n",
    "                        \"query\": \"title = 'environment_policy_report (draft).doc' or title = 'environment_policy_report (draft).docx' or title = 'environment_policy_report (draft)'\",\n",
    "                        \"trash\": False,\n",
    "                    }\n",
    "                ],\n",
    "            },\n",
    "        },\n",
    "        {\n",
    "            \"type\": \"launch\",\n",
    "            \"parameters\": {\n",
    "                \"command\": [\"google-chrome\", \"--remote-debugging-port=1337\"]\n",
    "            },\n",
    "        },\n",
    "        {\n",
    "            \"type\": \"launch\",\n",
    "            \"parameters\": {\n",
    "                \"command\": [\"socat\", \"tcp-listen:9222,fork\", \"tcp:localhost:1337\"]\n",
    "            },\n",
    "        },\n",
    "        {\n",
    "            \"type\": \"login\",\n",
    "            \"parameters\": {\n",
    "                \"settings_file\": PATH_TO_GOOGLE_SETTINGS,\n",
    "                \"platform\": \"googledrive\",\n",
    "            },\n",
    "        },\n",
    "        {\n",
    "            \"type\": \"command\",\n",
    "            \"parameters\": {\"command\": [\"mkdir\", \"-p\", \"/home/user/Desktop/wwf\"]},\n",
    "        },\n",
    "        {\n",
    "            \"type\": \"download\",\n",
    "            \"parameters\": {\n",
    "                \"files\": [\n",
    "                    {\n",
    "                        \"path\": \"/home/user/Desktop/wwf/lpr_living_planet_report_2016.pdf\",\n",
    "                        \"url\": \"https://drive.google.com/uc?id=19NCdw_MVP6nH5nC6okYYe8U1mJABfTRK&export=download\",\n",
    "                    },\n",
    "                    {\n",
    "                        \"path\": \"/home/user/Desktop/wwf/279c656a32_ENGLISH_FULL.pdf\",\n",
    "                        \"url\": \"https://drive.google.com/uc?id=1ckH1NetfImQ9EyONTO-ZFWA8m8VIUFvD&export=download\",\n",
    "                    },\n",
    "                    {\n",
    "                        \"path\": \"/home/user/Desktop/wwf/7g37j96psg_WWF_AR2021_spreads.pdf\",\n",
    "                        \"url\": \"https://drive.google.com/uc?id=1cxLTzmqDKMomOyvho29lvFvhRnb0Y8__&export=download\",\n",
    "                    },\n",
    "                    {\n",
    "                        \"path\": \"/home/user/Desktop/GE Guidebook.pdf\",\n",
    "                        \"url\": \"https://drive.google.com/uc?id=1KzC_R3eI3Rmgwz5bkcI8Ohv7ebOrU-Is&export=download\",\n",
    "                    },\n",
    "                    {\n",
    "                        \"path\": \"/home/user/Desktop/assessing_and_reporting_water_quality(q&a).pdf\",\n",
    "                        \"url\": \"https://drive.google.com/uc?id=1LFojf3Weflv3fVdrZrgTY1iUaRdbT9kG&export=download\",\n",
    "                    },\n",
    "                ]\n",
    "            },\n",
    "        },\n",
    "    ],\n",
    "    \"trajectory\": \"trajectories/0c825995-5b70-4526-b663-113f4c999dd2\",\n",
    "    \"related_apps\": [\"libreoffice_calc\", \"chrome\", \"os\"],\n",
    "    \"evaluator\": {\n",
    "        \"func\": \"compare_docx_files\",\n",
    "        \"result\": {\n",
    "            \"type\": \"googledrive_file\",\n",
    "            \"settings_file\": PATH_TO_GOOGLEDRIVE_SETTINGS,\n",
    "            \"path\": [\"environment_policy\", \"environment_policy_report (draft)\"],\n",
    "            \"dest\": \"environment_policy_report (draft).docx\",\n",
    "        },\n",
    "        \"expected\": {\n",
    "            \"type\": \"cloud_file\",\n",
    "            \"path\": \"https://drive.google.com/uc?id=1A2ti9JncAfIa6ks7FTJWHtYlZo-68FtM&export=download\",\n",
    "            \"dest\": \"environment_policy_report (draft)_gold.docx\",\n",
    "        },\n",
    "        \"options\": {\"content_only\": True},\n",
    "    },\n",
    "}\n",
    "temp_data_output = {\n",
    "    \"multi_apps\": {\n",
    "        \"4e9f0faf-2ecc-4ae8-a804-28c9a75d1ddc\": example_1_output,\n",
    "        \"0c825995-5b70-4526-b663-113f4c999dd2\": example_2_output,\n",
    "    }\n",
    "}"
   ]
  },
  {
   "cell_type": "code",
   "execution_count": 14,
   "metadata": {},
   "outputs": [],
   "source": [
    "from typing import Dict, Any\n",
    "TYPE_TO_LOOK = [\"googledrive\", \"login\", \"googledrive_file\"]\n",
    "path_to_googledrive_settings = PATH_TO_GOOGLEDRIVE_SETTINGS\n",
    "path_to_google_settings = PATH_TO_GOOGLE_SETTINGS\n",
    "\n",
    "def _change_credential(example: Dict[str, Any]) -> Any:\n",
    "        \"\"\"Modifies credential settings in a given example based on file type.\n",
    "\n",
    "        Args:\n",
    "            example (Dict[str, Any]): The task configuration to be updated.\n",
    "\n",
    "        Returns:\n",
    "            Dict[str, Any]: The updated task configuration.\n",
    "        \"\"\"\n",
    "        print(example[\"config\"])\n",
    "        for item in example[\"config\"]:\n",
    "            if item[\"type\"] in TYPE_TO_LOOK:\n",
    "                file_type = item[\"parameters\"][\"settings_file\"].split(\".\")[-1]\n",
    "                if file_type == \"yml\":\n",
    "                    item[\"parameters\"][\n",
    "                        \"settings_file\"\n",
    "                    ] = path_to_googledrive_settings\n",
    "                else:\n",
    "                    item[\"parameters\"][\"settings_file\"] = path_to_google_settings\n",
    "\n",
    "        path = example[\"evaluator\"][\"result\"]\n",
    "        if (\n",
    "            path[\"type\"] in TYPE_TO_LOOK\n",
    "            and path[\"settings_file\"].split(\".\")[-1] == \"yml\"\n",
    "        ):\n",
    "            path[\"settings_file\"] = path_to_googledrive_settings\n",
    "\n",
    "        return example\n"
   ]
  },
  {
   "cell_type": "code",
   "execution_count": 15,
   "metadata": {},
   "outputs": [],
   "source": [
    "data = temp_data_input"
   ]
  },
  {
   "cell_type": "code",
   "execution_count": 23,
   "metadata": {},
   "outputs": [
    {
     "name": "stdout",
     "output_type": "stream",
     "text": [
      "dict_keys(['4e9f0faf-2ecc-4ae8-a804-28c9a75d1ddc', '0c825995-5b70-4526-b663-113f4c999dd2'])\n"
     ]
    }
   ],
   "source": [
    "print(data['multi_apps'].keys())"
   ]
  },
  {
   "cell_type": "code",
   "execution_count": 25,
   "metadata": {},
   "outputs": [
    {
     "name": "stdout",
     "output_type": "stream",
     "text": [
      "[{'type': 'googledrive', 'parameters': {'settings_file': 'evaluation_examples/settings/googledrive/settings.yml', 'operation': ['delete', 'upload'], 'args': [{'query': \"title = 'invoice.pdf'\", 'trash': False}, {'url': 'https://drive.usercontent.google.com/download?id=1KAhoPFM0AU2dgn_NRt3y7CjOr9Er4vwD&export=download&authuser=0&confirm=t&uuid=e8528cd1-5106-45f3-a644-e1bbf5e08278&at=APZUnTUnTuXfV2Ted_9Wv2QomMvA:1706181110208', 'path': ['invoice.pdf']}]}}, {'type': 'launch', 'parameters': {'command': ['google-chrome', '--remote-debugging-port=1337']}}, {'type': 'launch', 'parameters': {'command': ['socat', 'tcp-listen:9222,fork', 'tcp:localhost:1337']}}, {'type': 'chrome_open_tabs', 'parameters': {'urls_to_open': ['https://news.google.com', 'https://x.com']}}, {'type': 'login', 'parameters': {'settings_file': 'evaluation_examples/settings/google/settings.json', 'platform': 'googledrive'}}]\n",
      "[{'type': 'googledrive', 'parameters': {'settings_file': 'evaluation_examples/settings/googledrive/settings.yml', 'operation': ['delete'], 'args': [{'query': \"title = 'environment_policy_report (draft).doc' or title = 'environment_policy_report (draft).docx' or title = 'environment_policy_report (draft)'\", 'trash': False}]}}, {'type': 'launch', 'parameters': {'command': ['google-chrome', '--remote-debugging-port=1337']}}, {'type': 'launch', 'parameters': {'command': ['socat', 'tcp-listen:9222,fork', 'tcp:localhost:1337']}}, {'type': 'login', 'parameters': {'settings_file': 'evaluation_examples/settings/google/settings.json', 'platform': 'googledrive'}}, {'type': 'command', 'parameters': {'command': ['mkdir', '-p', '/home/user/Desktop/wwf']}}, {'type': 'download', 'parameters': {'files': [{'path': '/home/user/Desktop/wwf/lpr_living_planet_report_2016.pdf', 'url': 'https://drive.google.com/uc?id=19NCdw_MVP6nH5nC6okYYe8U1mJABfTRK&export=download'}, {'path': '/home/user/Desktop/wwf/279c656a32_ENGLISH_FULL.pdf', 'url': 'https://drive.google.com/uc?id=1ckH1NetfImQ9EyONTO-ZFWA8m8VIUFvD&export=download'}, {'path': '/home/user/Desktop/wwf/7g37j96psg_WWF_AR2021_spreads.pdf', 'url': 'https://drive.google.com/uc?id=1cxLTzmqDKMomOyvho29lvFvhRnb0Y8__&export=download'}, {'path': '/home/user/Desktop/GE Guidebook.pdf', 'url': 'https://drive.google.com/uc?id=1KzC_R3eI3Rmgwz5bkcI8Ohv7ebOrU-Is&export=download'}, {'path': '/home/user/Desktop/assessing_and_reporting_water_quality(q&a).pdf', 'url': 'https://drive.google.com/uc?id=1LFojf3Weflv3fVdrZrgTY1iUaRdbT9kG&export=download'}]}}]\n"
     ]
    }
   ],
   "source": [
    "for each_domain in data.keys():\n",
    "    for each_task in data[each_domain].keys():\n",
    "        data[each_domain][each_task] = _change_credential(\n",
    "            data[each_domain][each_task]\n",
    "        )"
   ]
  }
 ],
 "metadata": {
  "kernelspec": {
   "display_name": "Python 3.11.11 ('agential')",
   "language": "python",
   "name": "python3"
  },
  "language_info": {
   "codemirror_mode": {
    "name": "ipython",
    "version": 3
   },
   "file_extension": ".py",
   "mimetype": "text/x-python",
   "name": "python",
   "nbconvert_exporter": "python",
   "pygments_lexer": "ipython3",
   "version": "3.11.11"
  },
  "vscode": {
   "interpreter": {
    "hash": "5395d60bee98fd71c9d354a5953f895827353ba27396e461a44062dbf07942d0"
   }
  }
 },
 "nbformat": 4,
 "nbformat_minor": 2
}
