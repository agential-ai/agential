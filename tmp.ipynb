{
 "cells": [
  {
   "cell_type": "code",
   "execution_count": null,
   "metadata": {},
   "outputs": [],
   "source": []
  },
  {
   "cell_type": "code",
   "execution_count": null,
   "metadata": {},
   "outputs": [],
   "source": []
  },
  {
   "cell_type": "code",
   "execution_count": null,
   "metadata": {},
   "outputs": [],
   "source": [
    "# Case 1\n",
    "env = OSWorld()\n",
    "proc = OSWorldProcessor()\n",
    "\n",
    "task = next(proc)\n",
    "env.reset(task)\n",
    "\n",
    "# Pros\n",
    "# - one class that handles data ops\n",
    "# - another for env\n",
    "# - wanna use benchmark tasks? just use the processor\n",
    "# - wanna process your custom slice of the benchmarks? just use the processor \n",
    "# - wanna use your custom task config? just dont use the processor\n",
    "\n",
    "# Cons\n",
    "# - additional class "
   ]
  },
  {
   "cell_type": "code",
   "execution_count": null,
   "metadata": {},
   "outputs": [],
   "source": [
    "# Case 2\n",
    "env = OSWorld(OSWorldProcessor(\"evaluation_examples/\"), secrets, use_benchmark=True)\n",
    "\n",
    "env.reset()\n",
    "\n",
    "# Pros\n",
    "# - single class object to handle benchmark tasks or custom tasks\n",
    "\n",
    "# Cons\n",
    "# - intermingling between data ops and env ops\n",
    "# - confuses the init for env; maybe a bit too overloading"
   ]
  },
  {
   "cell_type": "code",
   "execution_count": null,
   "metadata": {},
   "outputs": [],
   "source": [
    "# Case 3\n",
    "\n",
    "# OSWorld <- OSWorldAdapter <- OSWorldProcessor \n",
    "# OSWorldEnv -> OSWorld <- OSWorldProcessor\n",
    "\n",
    "env = OSWorld()\n",
    "proc = OSWorldProcessor(\"evaluation_examples/\")\n",
    "\n",
    "# Pros\n",
    "# - scalable, modular, robust\n",
    "\n",
    "# Cons\n",
    "# - more effort\n",
    "# - more maintenance\n",
    "# - more complexity"
   ]
  },
  {
   "cell_type": "code",
   "execution_count": null,
   "metadata": {},
   "outputs": [],
   "source": [
    "{\n",
    "  \"id\": \"0c825995-5b70-4526-b663-113f4c999dd2\",\n",
    "  \"snapshot\": \"libreoffice_calc\",\n",
    "  \"instruction\": \"I'm working on a comprehensive report for our environmental policy review meeting next week. I need to integrate key insights from an important document, which is a guidebook on the Green Economy, where I'm particularly interested in the 'Introduction' section. Could you extract this section and compile them into a new Google Doc named 'environment_policy_report (draft)' under /environment_policy folder? This will significantly aid in our discussion on aligning our environmental policies with sustainable and green economic practices. Thanks!\",\n",
    "  \"source\": \"authors\",\n",
    "  \"config\": [\n",
    "    {\n",
    "      \"type\": \"googledrive\",\n",
    "      \"parameters\": {\n",
    "        \"settings_file\": \"evaluation_examples/settings/googledrive/settings.yml\",\n",
    "        \"operation\": [\n",
    "          \"delete\"\n",
    "        ],\n",
    "        \"args\": [\n",
    "          {\n",
    "            \"query\": \"title = 'environment_policy_report (draft).doc' or title = 'environment_policy_report (draft).docx' or title = 'environment_policy_report (draft)'\",\n",
    "            \"trash\": false\n",
    "          }\n",
    "        ]\n",
    "      }\n",
    "    },\n",
    "    {\n",
    "      \"type\": \"launch\",\n",
    "      \"parameters\": {\n",
    "        \"command\": [\n",
    "          \"google-chrome\",\n",
    "          \"--remote-debugging-port=1337\"\n",
    "        ]\n",
    "      }\n",
    "    },\n",
    "    {\n",
    "      \"type\": \"launch\",\n",
    "      \"parameters\": {\n",
    "        \"command\": [\n",
    "          \"socat\",\n",
    "          \"tcp-listen:9222,fork\",\n",
    "          \"tcp:localhost:1337\"\n",
    "        ]\n",
    "      }\n",
    "    },\n",
    "    {\n",
    "      \"type\": \"login\",\n",
    "      \"parameters\": {\n",
    "        \"settings_file\": \"evaluation_examples/settings/google/settings.json\",\n",
    "        \"platform\": \"googledrive\"\n",
    "      }\n",
    "    },\n",
    "    {\n",
    "      \"type\": \"command\",\n",
    "      \"parameters\": {\n",
    "        \"command\": [\n",
    "          \"mkdir\",\n",
    "          \"-p\",\n",
    "          \"/home/user/Desktop/wwf\"\n",
    "        ]\n",
    "      }\n",
    "    },\n",
    "    {\n",
    "      \"type\": \"download\",\n",
    "      \"parameters\": {\n",
    "        \"files\": [\n",
    "          {\n",
    "            \"path\": \"/home/user/Desktop/wwf/lpr_living_planet_report_2016.pdf\",\n",
    "            \"url\": \"https://drive.google.com/uc?id=19NCdw_MVP6nH5nC6okYYe8U1mJABfTRK&export=download\"\n",
    "          },\n",
    "          {\n",
    "            \"path\": \"/home/user/Desktop/wwf/279c656a32_ENGLISH_FULL.pdf\",\n",
    "            \"url\": \"https://drive.google.com/uc?id=1ckH1NetfImQ9EyONTO-ZFWA8m8VIUFvD&export=download\"\n",
    "          },\n",
    "          {\n",
    "            \"path\": \"/home/user/Desktop/wwf/7g37j96psg_WWF_AR2021_spreads.pdf\",\n",
    "            \"url\": \"https://drive.google.com/uc?id=1cxLTzmqDKMomOyvho29lvFvhRnb0Y8__&export=download\"\n",
    "          },\n",
    "          {\n",
    "            \"path\": \"/home/user/Desktop/GE Guidebook.pdf\",\n",
    "            \"url\": \"https://drive.google.com/uc?id=1KzC_R3eI3Rmgwz5bkcI8Ohv7ebOrU-Is&export=download\"\n",
    "          },\n",
    "          {\n",
    "            \"path\": \"/home/user/Desktop/assessing_and_reporting_water_quality(q&a).pdf\",\n",
    "            \"url\": \"https://drive.google.com/uc?id=1LFojf3Weflv3fVdrZrgTY1iUaRdbT9kG&export=download\"\n",
    "          }\n",
    "        ]\n",
    "      }\n",
    "    }\n",
    "  ],\n",
    "  \"trajectory\": \"trajectories/0c825995-5b70-4526-b663-113f4c999dd2\",\n",
    "  \"related_apps\": [\n",
    "    \"libreoffice_calc\",\n",
    "    \"chrome\",\n",
    "    \"os\"\n",
    "  ],\n",
    "  \"evaluator\": {\n",
    "    \"func\": \"compare_docx_files\",\n",
    "    \"result\": {\n",
    "      \"type\": \"googledrive_file\",\n",
    "      \"settings_file\": \"evaluation_examples/settings/googledrive/settings.yml\",\n",
    "      \"path\": [\"environment_policy\", \"environment_policy_report (draft)\"],\n",
    "      \"dest\": \"environment_policy_report (draft).docx\"\n",
    "    },\n",
    "    \"expected\": {\n",
    "      \"type\": \"cloud_file\",\n",
    "      \"path\": \"https://drive.google.com/uc?id=1A2ti9JncAfIa6ks7FTJWHtYlZo-68FtM&export=download\",\n",
    "      \"dest\": \"environment_policy_report (draft)_gold.docx\"\n",
    "    },\n",
    "    \"options\": {\n",
    "      \"content_only\": true\n",
    "    }\n",
    "  }\n",
    "}\n"
   ]
  },
  {
   "cell_type": "code",
   "execution_count": null,
   "metadata": {},
   "outputs": [],
   "source": [
    "env = DesktopEnv()\n",
    "env.reset()"
   ]
  },
  {
   "cell_type": "markdown",
   "metadata": {},
   "source": [
    "Googledrive\n",
    "- settings.yml\n",
    "  - client_secrets.json\n",
    "  - credentials.json (write path)\n",
    "\n",
    "Google\n",
    "- settings.json"
   ]
  },
  {
   "cell_type": "code",
   "execution_count": null,
   "metadata": {},
   "outputs": [],
   "source": []
  },
  {
   "cell_type": "code",
   "execution_count": 2,
   "metadata": {},
   "outputs": [],
   "source": [
    "google_credentials_config = {\n",
    "    \"googledrive_settings\": {  # settings.yml\n",
    "        'client_config_backend': 'file',\n",
    "        'client_config_file': \"evaluation_examples/settings/googledrive/client_secrets.json\",  # User created.\n",
    "        'save_credentials': True,\n",
    "        'save_credentials_backend': 'file',\n",
    "        'save_credentials_file': \"evaluation_examples/settings/googledrive/credentials.json\",  # User specified.\n",
    "        'get_refresh_token': True\n",
    "    },\n",
    "    \"google_settings\": {  # settings.json\n",
    "        \"email\": \"vincentsimulartest@gmail.com\",\n",
    "        \"password\": \"\"\n",
    "    }\n",
    "}\n",
    "\n",
    "# settings.yml (googledrive)\n",
    "    # client_secrets.json\n",
    "    # credentials.json path specified by user\n",
    "# settings.json (google)"
   ]
  },
  {
   "cell_type": "code",
   "execution_count": 3,
   "metadata": {},
   "outputs": [
    {
     "data": {
      "text/plain": [
       "{'client_config_backend': 'file',\n",
       " 'client_config_file': 'evaluation_examples/settings/googledrive/client_secrets.json',\n",
       " 'save_credentials': True,\n",
       " 'save_credentials_backend': 'file',\n",
       " 'save_credentials_file': 'evaluation_examples/settings/googledrive/credentials.json',\n",
       " 'get_refresh_token': True}"
      ]
     },
     "execution_count": 3,
     "metadata": {},
     "output_type": "execute_result"
    }
   ],
   "source": [
    "google_credentials_config['googledrive_settings']"
   ]
  },
  {
   "cell_type": "code",
   "execution_count": 4,
   "metadata": {},
   "outputs": [
    {
     "data": {
      "text/plain": [
       "{'email': 'vincentsimulartest@gmail.com', 'password': ''}"
      ]
     },
     "execution_count": 4,
     "metadata": {},
     "output_type": "execute_result"
    }
   ],
   "source": [
    "google_credentials_config['google_settings']"
   ]
  },
  {
   "cell_type": "code",
   "execution_count": null,
   "metadata": {},
   "outputs": [],
   "source": []
  }
 ],
 "metadata": {
  "kernelspec": {
   "display_name": "agential",
   "language": "python",
   "name": "python3"
  },
  "language_info": {
   "codemirror_mode": {
    "name": "ipython",
    "version": 3
   },
   "file_extension": ".py",
   "mimetype": "text/x-python",
   "name": "python",
   "nbconvert_exporter": "python",
   "pygments_lexer": "ipython3",
   "version": "3.11.5"
  }
 },
 "nbformat": 4,
 "nbformat_minor": 2
}
