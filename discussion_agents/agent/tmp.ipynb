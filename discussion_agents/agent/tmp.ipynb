{
 "cells": [
  {
   "cell_type": "code",
   "execution_count": 1,
   "metadata": {},
   "outputs": [],
   "source": [
    "import math\n",
    "import faiss\n",
    "\n",
    "from langchain.chat_models import ChatOpenAI\n",
    "from langchain.docstore import InMemoryDocstore\n",
    "from langchain.embeddings import OpenAIEmbeddings\n",
    "from langchain.retrievers import TimeWeightedVectorStoreRetriever\n",
    "from langchain.vectorstores import FAISS\n",
    "\n",
    "from langchain.chat_models import ChatOpenAI\n",
    "\n",
    "from discussion_agents.memory.generative_agents import GenerativeAgentMemory\n",
    "from discussion_agents.core.base import BaseCore"
   ]
  },
  {
   "cell_type": "code",
   "execution_count": 2,
   "metadata": {},
   "outputs": [],
   "source": [
    "import dotenv\n",
    "import os\n",
    "\n",
    "dotenv.load_dotenv(\"../.env\")\n",
    "openai_api_key = os.getenv(\"OPENAI_API_KEY\")"
   ]
  },
  {
   "cell_type": "code",
   "execution_count": 3,
   "metadata": {},
   "outputs": [],
   "source": [
    "def relevance_score_fn(score: float) -> float:\n",
    "    return 1.0 - score / math.sqrt(2)\n",
    "\n",
    "def create_new_memory_retriever():\n",
    "    embeddings_model = OpenAIEmbeddings(openai_api_key=openai_api_key)\n",
    "    embedding_size = 1536\n",
    "    index = faiss.IndexFlatL2(embedding_size)\n",
    "    vectorstore = FAISS(\n",
    "        embeddings_model.embed_query,\n",
    "        index,\n",
    "        InMemoryDocstore({}),\n",
    "        {},\n",
    "        relevance_score_fn=relevance_score_fn,\n",
    "    )\n",
    "    return TimeWeightedVectorStoreRetriever(\n",
    "        vectorstore=vectorstore, other_score_keys=[\"importance\"], k=15\n",
    "    )\n",
    "\n",
    "LLM = ChatOpenAI(openai_api_key=openai_api_key, max_tokens=1500)\n",
    "\n",
    "core = BaseCore(\n",
    "    llm=LLM,\n",
    "    retriever=create_new_memory_retriever(),\n",
    ")\n",
    "memory = GenerativeAgentMemory(\n",
    "    core=core,\n",
    ")"
   ]
  },
  {
   "cell_type": "code",
   "execution_count": 4,
   "metadata": {},
   "outputs": [],
   "source": [
    "instruction = \"Describe what makes a table reliable.\"\n",
    "name = \"Bob\"\n",
    "age = 25\n",
    "traits = \"talkative, enthusiastic\"\n",
    "lifestyle = \"lazy, likes to sleep late\"\n",
    "status = \"\"\n",
    "_summary = \"Bob is a socialite with lots of friends and a heart for enthusiasm and extrovertedness.\"\n",
    "\n",
    "summary = (\n",
    "    f\"Name: {name}\\n\"\n",
    "    + f\"Age: {age}\\n\"\n",
    "    + f\"Innate traits: {traits}\\n\"\n",
    "    + f\"Status: {status}\\n\"\n",
    "    + f\"Lifestyle: {lifestyle}\\n\"\n",
    "    + f\"{_summary}\\n\"\n",
    ")\n",
    "\n",
    "llm_kwargs = {}"
   ]
  },
  {
   "cell_type": "code",
   "execution_count": 5,
   "metadata": {},
   "outputs": [],
   "source": [
    "from discussion_agents.planning.generative_agents import (\n",
    "    generate_broad_plan,\n",
    "    update_status,\n",
    "    generate_refined_plan\n",
    ")"
   ]
  },
  {
   "cell_type": "code",
   "execution_count": 6,
   "metadata": {},
   "outputs": [
    {
     "data": {
      "text/plain": [
       "['Identify the purpose and intended use of the table',\n",
       " 'Determine the source and credibility of the data used to populate the table',\n",
       " 'Ensure that the table is organized and structured in a logical manner',\n",
       " 'Verify that the table includes all necessary and relevant information',\n",
       " 'Check for accuracy and consistency of the data within the table',\n",
       " 'Validate that the table is up to date and reflects the most recent information available',\n",
       " 'Consider the context and audience of the table to ensure it is easily understandable and user-friendly',\n",
       " 'Review the table for any potential errors or inconsistencies',\n",
       " 'Test the functionality of any formulas or calculations within the table',\n",
       " 'Seek feedback from users or stakeholders to assess the reliability and usefulness of the table']"
      ]
     },
     "execution_count": 6,
     "metadata": {},
     "output_type": "execute_result"
    }
   ],
   "source": [
    "broad_plan = generate_broad_plan(\n",
    "    instruction=instruction,\n",
    "    summary=summary,\n",
    "    core=core\n",
    ")\n",
    "broad_plan"
   ]
  },
  {
   "cell_type": "code",
   "execution_count": 7,
   "metadata": {},
   "outputs": [
    {
     "data": {
      "text/plain": [
       "'Status: Bob is feeling confident and motivated to conduct thorough research and critically evaluate sources in order to ensure the reliability of the table. He understands the importance of gathering accurate and trustworthy information and is determined to select sources that align with the goals of the table. With his enthusiasm and talkative nature, Bob is excited to embark on this journey of creating a reliable table.'"
      ]
     },
     "execution_count": 7,
     "metadata": {},
     "output_type": "execute_result"
    }
   ],
   "source": [
    "update_status(\n",
    "    instruction=instruction,\n",
    "    previous_steps=broad_plan[:1],\n",
    "    plan_step=broad_plan[1],\n",
    "    summary=summary,\n",
    "    status=status,\n",
    "    core=core\n",
    ")"
   ]
  },
  {
   "cell_type": "code",
   "execution_count": 8,
   "metadata": {},
   "outputs": [
    {
     "data": {
      "text/plain": [
       "'1) Evaluate the source of the data used to populate the table, ensuring it comes from a reputable and trustworthy source.\\n2) Verify the accuracy and reliability of the data by cross-checking it with other reliable sources or conducting independent research.\\n3) Consider the methodology used to collect and analyze the data, ensuring it is rigorous and follows appropriate standards.\\n4) Assess the completeness and comprehensiveness of the data, ensuring it covers all relevant aspects and provides a comprehensive view.\\n5) Consider the timeliness of the data, ensuring it is up-to-date and reflects the most current information available.\\n6) Evaluate any potential biases or conflicts of interest that may exist in the data or its source, ensuring it is unbiased and objective.\\n7) Consider the relevance and applicability of the data to the purpose and intended use of the table, ensuring it aligns with the specific needs and requirements.'"
      ]
     },
     "execution_count": 8,
     "metadata": {},
     "output_type": "execute_result"
    }
   ],
   "source": [
    "refined_steps = generate_refined_plan(\n",
    "    instruction=instruction,\n",
    "    previous_steps=broad_plan[:1],\n",
    "    plan_step=broad_plan[1],\n",
    "    summary=summary,\n",
    "    core=core\n",
    ")\n",
    "refined_steps"
   ]
  },
  {
   "cell_type": "code",
   "execution_count": 10,
   "metadata": {},
   "outputs": [
    {
     "name": "stdout",
     "output_type": "stream",
     "text": [
      "1) Evaluate the source of the data used to populate the table, ensuring it comes from a reputable and trustworthy source.\n",
      "2) Verify the accuracy and reliability of the data by cross-checking it with other reliable sources or conducting independent research.\n",
      "3) Consider the methodology used to collect and analyze the data, ensuring it is rigorous and follows appropriate standards.\n",
      "4) Assess the completeness and comprehensiveness of the data, ensuring it covers all relevant aspects and provides a comprehensive view.\n",
      "5) Consider the timeliness of the data, ensuring it is up-to-date and reflects the most current information available.\n",
      "6) Evaluate any potential biases or conflicts of interest that may exist in the data or its source, ensuring it is unbiased and objective.\n",
      "7) Consider the relevance and applicability of the data to the purpose and intended use of the table, ensuring it aligns with the specific needs and requirements.\n"
     ]
    }
   ],
   "source": [
    "print(refined_steps)"
   ]
  },
  {
   "cell_type": "code",
   "execution_count": null,
   "metadata": {},
   "outputs": [],
   "source": []
  }
 ],
 "metadata": {
  "kernelspec": {
   "display_name": "discussion-agents",
   "language": "python",
   "name": "python3"
  },
  "language_info": {
   "codemirror_mode": {
    "name": "ipython",
    "version": 3
   },
   "file_extension": ".py",
   "mimetype": "text/x-python",
   "name": "python",
   "nbconvert_exporter": "python",
   "pygments_lexer": "ipython3",
   "version": "3.10.13"
  }
 },
 "nbformat": 4,
 "nbformat_minor": 2
}
