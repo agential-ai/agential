{
 "cells": [
  {
   "cell_type": "code",
   "execution_count": 1,
   "metadata": {},
   "outputs": [],
   "source": [
    "import math\n",
    "import faiss\n",
    "\n",
    "from langchain.chat_models import ChatOpenAI\n",
    "from langchain.docstore import InMemoryDocstore\n",
    "from langchain.embeddings import OpenAIEmbeddings\n",
    "from langchain.retrievers import TimeWeightedVectorStoreRetriever\n",
    "from langchain.vectorstores import FAISS\n",
    "\n",
    "from langchain.chat_models import ChatOpenAI\n",
    "\n",
    "from discussion_agents.core.base import BaseCore"
   ]
  },
  {
   "cell_type": "code",
   "execution_count": 2,
   "metadata": {},
   "outputs": [],
   "source": [
    "import dotenv\n",
    "import os\n",
    "\n",
    "dotenv.load_dotenv(\"../.env\")\n",
    "openai_api_key = os.getenv(\"OPENAI_API_KEY\")"
   ]
  },
  {
   "cell_type": "code",
   "execution_count": 3,
   "metadata": {},
   "outputs": [],
   "source": [
    "def relevance_score_fn(score: float) -> float:\n",
    "    return 1.0 - score / math.sqrt(2)\n",
    "\n",
    "def create_new_memory_retriever():\n",
    "    embeddings_model = OpenAIEmbeddings(openai_api_key=openai_api_key)\n",
    "    embedding_size = 1536\n",
    "    index = faiss.IndexFlatL2(embedding_size)\n",
    "    vectorstore = FAISS(\n",
    "        embeddings_model.embed_query,\n",
    "        index,\n",
    "        InMemoryDocstore({}),\n",
    "        {},\n",
    "        relevance_score_fn=relevance_score_fn,\n",
    "    )\n",
    "    return TimeWeightedVectorStoreRetriever(\n",
    "        vectorstore=vectorstore, other_score_keys=[\"importance\"], k=15\n",
    "    )\n",
    "\n",
    "LLM = ChatOpenAI(openai_api_key=openai_api_key, max_tokens=1500)\n",
    "\n",
    "core = BaseCore(\n",
    "    llm=LLM,\n",
    "    retriever=create_new_memory_retriever(),\n",
    ")"
   ]
  },
  {
   "cell_type": "code",
   "execution_count": 4,
   "metadata": {},
   "outputs": [],
   "source": [
    "instruction = \"Describe what makes a table reliable.\"\n",
    "name = \"Bob\"\n",
    "age = 25\n",
    "traits = \"talkative, enthusiastic\"\n",
    "lifestyle = \"lazy, likes to sleep late\"\n",
    "status = \"\"\n",
    "_summary = \"Bob is a socialite with lots of friends and a heart for enthusiasm and extrovertedness.\"\n",
    "\n",
    "summary = (\n",
    "    f\"Name: {name}\\n\"\n",
    "    + f\"Age: {age}\\n\"\n",
    "    + f\"Innate traits: {traits}\\n\"\n",
    "    + f\"Status: {status}\\n\"\n",
    "    + f\"Lifestyle: {lifestyle}\\n\"\n",
    "    + f\"{_summary}\\n\"\n",
    ")"
   ]
  },
  {
   "cell_type": "code",
   "execution_count": 5,
   "metadata": {},
   "outputs": [],
   "source": [
    "from discussion_agents.planning.generative_agents import (\n",
    "    generate_refined_plan_step\n",
    ")"
   ]
  },
  {
   "cell_type": "code",
   "execution_count": 8,
   "metadata": {},
   "outputs": [
    {
     "data": {
      "text/plain": [
       "['<NO_SUBSTEPS_REQUIRED>']"
      ]
     },
     "execution_count": 8,
     "metadata": {},
     "output_type": "execute_result"
    }
   ],
   "source": [
    "broad_plan = [\n",
    "    \"Choose a sturdy and durable material for the table, such as solid wood or metal\",\n",
    "    \"Ensure that the table is properly constructed and assembled with strong joints and connections\",\n",
    "    \"Verify that the table has a stable and level surface to prevent wobbling or tipping over\",\n",
    "    \"Consider the weight capacity of the table to ensure it can support the intended load without any issues\",\n",
    "    \"Regularly inspect and maintain the table, checking for any signs of wear, damage, or instability\",\n",
    "    \"Avoid placing excessive weight or applying excessive force on the table to prevent potential damage\",\n",
    "    \"Place the table on a suitable surface, such as a level floor, to provide additional stability\",\n",
    "    \"Keep the table away from direct sunlight, extreme temperatures, or excessive moisture to prevent warping or deterioration\",\n",
    "    \"Choose a table design that suits the intended purpose and environment, considering factors like size, shape, and functionality\",\n",
    "    \"Consider purchasing a table from a reputable and trustworthy manufacturer or retailer to ensure quality and reliability\",\n",
    "]\n",
    "\n",
    "refined_steps = generate_refined_plan_step(\n",
    "    instruction=\"Something\",\n",
    "    previous_steps=[\"Something\"],\n",
    "    plan_step=\"Something\",\n",
    "    summary=summary,\n",
    "    core=core,\n",
    "    k=1\n",
    ")\n",
    "refined_steps"
   ]
  },
  {
   "cell_type": "code",
   "execution_count": null,
   "metadata": {},
   "outputs": [],
   "source": []
  }
 ],
 "metadata": {
  "kernelspec": {
   "display_name": "discussion-agents",
   "language": "python",
   "name": "python3"
  },
  "language_info": {
   "codemirror_mode": {
    "name": "ipython",
    "version": 3
   },
   "file_extension": ".py",
   "mimetype": "text/x-python",
   "name": "python",
   "nbconvert_exporter": "python",
   "pygments_lexer": "ipython3",
   "version": "3.10.13"
  }
 },
 "nbformat": 4,
 "nbformat_minor": 2
}
