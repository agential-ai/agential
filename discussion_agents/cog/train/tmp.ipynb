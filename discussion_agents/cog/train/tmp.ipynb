{
 "cells": [
  {
   "cell_type": "code",
   "execution_count": 8,
   "metadata": {},
   "outputs": [
    {
     "data": {
      "text/html": [
       "<div>\n",
       "<style scoped>\n",
       "    .dataframe tbody tr th:only-of-type {\n",
       "        vertical-align: middle;\n",
       "    }\n",
       "\n",
       "    .dataframe tbody tr th {\n",
       "        vertical-align: top;\n",
       "    }\n",
       "\n",
       "    .dataframe thead th {\n",
       "        text-align: right;\n",
       "    }\n",
       "</style>\n",
       "<table border=\"1\" class=\"dataframe\">\n",
       "  <thead>\n",
       "    <tr style=\"text-align: right;\">\n",
       "      <th></th>\n",
       "      <th>id</th>\n",
       "      <th>question</th>\n",
       "      <th>answer</th>\n",
       "      <th>type</th>\n",
       "      <th>level</th>\n",
       "      <th>supporting_facts</th>\n",
       "      <th>context</th>\n",
       "    </tr>\n",
       "  </thead>\n",
       "  <tbody>\n",
       "    <tr>\n",
       "      <th>0</th>\n",
       "      <td>5a7613c15542994ccc9186bf</td>\n",
       "      <td>VIVA Media AG changed it's name in 2004. What ...</td>\n",
       "      <td>Gesellschaft mit beschränkter Haftung</td>\n",
       "      <td>bridge</td>\n",
       "      <td>hard</td>\n",
       "      <td>{'title': ['VIVA Media', 'Gesellschaft mit bes...</td>\n",
       "      <td>{'title': ['Constantin Medien', 'VIVA Poland',...</td>\n",
       "    </tr>\n",
       "    <tr>\n",
       "      <th>1</th>\n",
       "      <td>5adf2fa35542993344016c11</td>\n",
       "      <td>Which of Jonny Craig and Pete Doherty has been...</td>\n",
       "      <td>Jonny\" Craig</td>\n",
       "      <td>comparison</td>\n",
       "      <td>hard</td>\n",
       "      <td>{'title': ['Jonny Craig', 'Jonny Craig', 'Pete...</td>\n",
       "      <td>{'title': ['Pete Doherty', 'Relativity (Emaros...</td>\n",
       "    </tr>\n",
       "    <tr>\n",
       "      <th>2</th>\n",
       "      <td>5adfdef9554299025d62a36b</td>\n",
       "      <td>Where was the first governor after the The Mis...</td>\n",
       "      <td>Bath, Maine</td>\n",
       "      <td>bridge</td>\n",
       "      <td>hard</td>\n",
       "      <td>{'title': ['Maine gubernatorial election, 1820...</td>\n",
       "      <td>{'title': ['Compromise of 1790', 'Anti-Nebrask...</td>\n",
       "    </tr>\n",
       "    <tr>\n",
       "      <th>3</th>\n",
       "      <td>5a7180205542994082a3e856</td>\n",
       "      <td>The creator of \"Wallace and Gromit\" also creat...</td>\n",
       "      <td>Creature Comforts</td>\n",
       "      <td>bridge</td>\n",
       "      <td>hard</td>\n",
       "      <td>{'title': ['Creature Comforts', 'Creature Comf...</td>\n",
       "      <td>{'title': ['Creature Comforts', 'Tata Steel Zo...</td>\n",
       "    </tr>\n",
       "    <tr>\n",
       "      <th>4</th>\n",
       "      <td>5a78bc6b554299148911f979</td>\n",
       "      <td>Woman's Era and Naj are what kind of magazines?</td>\n",
       "      <td>fortnightly women interest magazine</td>\n",
       "      <td>comparison</td>\n",
       "      <td>hard</td>\n",
       "      <td>{'title': ['Woman's Era', 'Naj'], 'sent_id': [...</td>\n",
       "      <td>{'title': ['Lifestyle trends and media', 'Chin...</td>\n",
       "    </tr>\n",
       "  </tbody>\n",
       "</table>\n",
       "</div>"
      ],
      "text/plain": [
       "                         id  \\\n",
       "0  5a7613c15542994ccc9186bf   \n",
       "1  5adf2fa35542993344016c11   \n",
       "2  5adfdef9554299025d62a36b   \n",
       "3  5a7180205542994082a3e856   \n",
       "4  5a78bc6b554299148911f979   \n",
       "\n",
       "                                            question  \\\n",
       "0  VIVA Media AG changed it's name in 2004. What ...   \n",
       "1  Which of Jonny Craig and Pete Doherty has been...   \n",
       "2  Where was the first governor after the The Mis...   \n",
       "3  The creator of \"Wallace and Gromit\" also creat...   \n",
       "4    Woman's Era and Naj are what kind of magazines?   \n",
       "\n",
       "                                  answer        type level  \\\n",
       "0  Gesellschaft mit beschränkter Haftung      bridge  hard   \n",
       "1                           Jonny\" Craig  comparison  hard   \n",
       "2                            Bath, Maine      bridge  hard   \n",
       "3                      Creature Comforts      bridge  hard   \n",
       "4    fortnightly women interest magazine  comparison  hard   \n",
       "\n",
       "                                    supporting_facts  \\\n",
       "0  {'title': ['VIVA Media', 'Gesellschaft mit bes...   \n",
       "1  {'title': ['Jonny Craig', 'Jonny Craig', 'Pete...   \n",
       "2  {'title': ['Maine gubernatorial election, 1820...   \n",
       "3  {'title': ['Creature Comforts', 'Creature Comf...   \n",
       "4  {'title': ['Woman's Era', 'Naj'], 'sent_id': [...   \n",
       "\n",
       "                                             context  \n",
       "0  {'title': ['Constantin Medien', 'VIVA Poland',...  \n",
       "1  {'title': ['Pete Doherty', 'Relativity (Emaros...  \n",
       "2  {'title': ['Compromise of 1790', 'Anti-Nebrask...  \n",
       "3  {'title': ['Creature Comforts', 'Tata Steel Zo...  \n",
       "4  {'title': ['Lifestyle trends and media', 'Chin...  "
      ]
     },
     "execution_count": 8,
     "metadata": {},
     "output_type": "execute_result"
    }
   ],
   "source": [
    "import joblib\n",
    "hotpot = joblib.load('../agent/hotpot-qa-distractor-sample.joblib').reset_index(drop=True)\n",
    "hotpot.head()"
   ]
  },
  {
   "cell_type": "code",
   "execution_count": 1,
   "metadata": {},
   "outputs": [],
   "source": [
    "from discussion_agents.cog.agent.reflexion import ReflexionReActAgent\n",
    "from langchain_community.chat_models import ChatOpenAI\n",
    "\n",
    "import dotenv\n",
    "import os\n",
    "\n",
    "dotenv.load_dotenv(\"../.env\")\n",
    "openai_api_key = os.getenv(\"OPENAI_API_KEY\")\n",
    "llm = ChatOpenAI(model_name=\"gpt-3.5-turbo-0125\", openai_api_key=openai_api_key)\n",
    "\n",
    "question = \"VIVA Media AG changed it's name in 2004. What does their new acronym stand for?\"\n",
    "key = \"Gesellschaft mit beschränkter Haftung\"\n",
    "\n",
    "agent = ReflexionReActAgent(\n",
    "    self_reflect_llm=llm,\n",
    "    action_llm=llm,\n",
    "    max_steps=7,\n",
    "    max_trials=3,\n",
    ")"
   ]
  },
  {
   "cell_type": "code",
   "execution_count": 2,
   "metadata": {},
   "outputs": [],
   "source": [
    "from typing import List \n",
    "\n",
    "def gather_experience(\n",
    "    reflexion_react_agent: ReflexionReActAgent,\n",
    "    questions: List[str],\n",
    "    keys: List[str],\n",
    "    strategy: str = \"reflexion\",\n",
    "):\n",
    "    out = {\n",
    "        \"idxs\": [],\n",
    "        \"questions\": [],\n",
    "        \"keys\": [],\n",
    "        \"trajectories\": [],\n",
    "        \"reflections\": []\n",
    "    }\n",
    "    for idx, (question, key) in enumerate(zip(questions, keys)):\n",
    "        out[\"idxs\"].append(idx)\n",
    "        out[\"questions\"].append(question)\n",
    "        out[\"keys\"].append(key)\n",
    "        trajectory = reflexion_react_agent.generate(\n",
    "            question=question, key=key, strategy=strategy\n",
    "        )\n",
    "        out[\"trajectories\"].append(trajectory)\n",
    "        out[\"reflections\"].append(agent.reflector.reflections)\n",
    "    return out"
   ]
  },
  {
   "cell_type": "code",
   "execution_count": 3,
   "metadata": {},
   "outputs": [
    {
     "data": {
      "text/plain": [
       "{'idxs': [0],\n",
       " 'questions': [\"VIVA Media AG changed it's name in 2004. What does their new acronym stand for?\"],\n",
       " 'keys': ['Gesellschaft mit beschränkter Haftung'],\n",
       " 'trajectories': [[(False,\n",
       "    '',\n",
       "    \"\\nThought: I need to search for VIVA Media AG to find out what their new acronym stands for.\\nAction: Search[VIVA Media AG]\\nObservation 1: Could not find [VIVA Media AG]. Similar: ['MTV Music (Polish TV channel)', 'VIVA Plus', 'Paramount International Networks', 'VIVA (German TV channel)', 'Viacom (1952–2005)', 'Vauxhall Viva', 'GfK Entertainment charts', 'Lindt', 'Spellbound Entertainment', 'List of multinational corporations']\\nThought: I couldn't find VIVA Media AG. Maybe I should try searching for VIVA Media AG name change in 2004 to get the new acronym.\\nAction: Search[VIVA Media AG name change 2004]\\nObservation 2: Could not find [VIVA Media AG name change 2004]. Similar: ['Vauxhall Viva', 'GfK Entertainment charts', 'Opel Astra', 'Puma (brand)', 'About You Now', 'Bosch (company)', 'Mediaspree', 'Schneider Electric', 'Sildenafil', 'Priscilla Presley']\\nThought: I need to find a different way to search for the information. Maybe I can try searching for the history of VIVA Media AG or any news articles related to their name change in 2004.\\nAction: Search[history of VIVA Media AG name change 2004]\\nObservation 3: Could not find [history of VIVA Media AG name change 2004]. Similar: ['Vauxhall Viva', 'GfK Entertainment charts', 'Opel Astra', 'Viacom (1952–2005)', 'Priscilla Presley', 'About You Now', 'Puma (brand)', 'Daihatsu Mira', 'Altium', 'Mediaspree']\\nThought: I need to think of other keywords to search for information about VIVA Media AG's name change in 2004. Maybe I can try searching for press releases or announcements related to the name change.\\nAction: Search[VIVA Media AG press release name change 2004]\\nObservation 4: Could not find [VIVA Media AG press release name change 2004]. Similar: ['Opel Astra', 'Bosch (company)', 'Video games in Germany', 'List of automobile sales by model', 'Priscilla Presley', 'Puma (brand)', 'Schneider Electric', 'Rolling Stone', 'Chiquita', 'Sildenafil']\\nThought: I need to find a different approach to gather information about the name change of VIVA Media AG in 2004. Maybe I can look for industry reports or company filings that may mention the new acronym. \\nAction: Search[VIVA Media AG new acronym 2004] \\nObservation 5: Invalid Action. Valid Actions are Lookup[<topic>] Search[<topic>] and Finish[<answer>].\\nThought: I need to search for industry reports or company filings that may mention the new acronym of VIVA Media AG after their name change in 2004. \\nAction: Search[VIVA Media AG new acronym after name change 2004]\\nObservation 6: Could not find [VIVA Media AG new acronym after name change 2004]. Similar: ['Holden Torana', 'Andrés Manuel López Obrador']\\nThought: I need to find a more specific way to search for the new acronym of VIVA Media AG after their name change in 2004. Maybe I can try searching for any official announcements or statements from the company regarding the name change and the new acronym. \\nAction: Search[VIVA Media AG official announcement new acronym 2004]\\nObservation 7: Andrés Manuel López Obrador (Spanish: [anˈdɾes maˈnwel ˈlopes oβɾaˈðoɾ] ; born 13 November 1953), also known by his initials AMLO, is a Mexican politician who is the 65th and current president of Mexico. He previously served as Head of Government of Mexico City from 2000 to 2005.Born in Tepetitán, in the municipality of Macuspana, in the south-eastern state of Tabasco, López Obrador earned a degree in political science from the National Autonomous University of Mexico following a hiatus from his studies to participate in politics. He began his political career in 1976 as a member of the Institutional Revolutionary Party (PRI). His first public position was as director of the Indigenous Institute of Tabasco, where he promoted the addition of books in indigenous languages and the project of the Chontal ridge. In 1989, he joined the Party of the Democratic Revolution (PRD), becoming the party's 1994 candidate for Governor of Tabasco, and national leader between 1996 and 1999. In 2000, he was elected Head of Government of Mexico City. During his tenure, his policies on crime, infrastructure and social spending made him a popular figure on the Mexican left. In 2004, his state immunity from prosecution was removed after refusing to cease construction on land allegedly expropriated by his predecessor, Rosario Robles. This legal process lasted for a year and ended with López Obrador maintaining his right to run for office.López Obrador was nominated as the presidential candidate for the Coalition for the Good of All during the 2006 elections, where he was narrowly defeated by the National Action Party (PAN) candidate Felipe Calderón. While the Federal Electoral Tribunal noted a number of irregularities, it denied López Obrador's request for a general recount, which sparked protests across the country. In 2011 he founded Morena, a civil association and later political party. He was a candidate for the Progressive Movement coalition in the 2012 elections, won by the Commitment to Mexico coalition candidate Enrique Peña Nieto. In 2012, he left the PRD after protesting the party's signing of the Pact for Mexico and joined Morena. As part of the Juntos Haremos Historia coalition, López Obrador was elected president after a landslide victory in the 2018 general election.Often described as a center-left, progressive, left-wing populist, social democratic, and economic nationalist, López Obrador has been a national politician for over three decades. During his presidency, he has promoted public investment in sectors that had been liberalized under previous administrations and has implemented a number of progressive social reforms. Supporters have praised him for promoting institutional renewal after decades of high inequality and corruption, and refocusing the country's neoliberal consensus towards improving the state of the working class. Critics have claimed that he and his administration stumbled in their response to the COVID-19 pandemic and attempts to deal with drug cartels.\"),\n",
       "   (False,\n",
       "    '',\n",
       "    \"\\nThought: I need to refocus my search and look for specific financial reports, press releases, or industry articles related to the name change of VIVA Media AG in 2004 to find out what their new acronym stands for.\\nAction: Search[VIVA Media AG name change 2004 financial reports]\\nObservation 1: Could not find [VIVA Media AG name change 2004 financial reports]. Similar: ['Priscilla Presley', 'Schneider Electric', 'Bosch (company)', 'Puma (brand)', 'Chiquita', 'Sildenafil', 'HSBC', 'Tommy Suharto', 'People for the Ethical Treatment of Animals', 'Altium']\\nThought: I need to focus specifically on finding financial reports, press releases, or industry articles related to the name change of VIVA Media AG in 2004 to uncover the new acronym. I should try searching for official announcements or statements from the company regarding the name change and the new acronym. \\nAction: Search[VIVA Media AG official announcement new acronym 2004]\\nObservation 2: Andrés Manuel López Obrador (Spanish: [anˈdɾes maˈnwel ˈlopes oβɾaˈðoɾ] ; born 13 November 1953), also known by his initials AMLO, is a Mexican politician who is the 65th and current president of Mexico. He previously served as Head of Government of Mexico City from 2000 to 2005.Born in Tepetitán, in the municipality of Macuspana, in the south-eastern state of Tabasco, López Obrador earned a degree in political science from the National Autonomous University of Mexico following a hiatus from his studies to participate in politics. He began his political career in 1976 as a member of the Institutional Revolutionary Party (PRI). His first public position was as director of the Indigenous Institute of Tabasco, where he promoted the addition of books in indigenous languages and the project of the Chontal ridge. In 1989, he joined the Party of the Democratic Revolution (PRD), becoming the party's 1994 candidate for Governor of Tabasco, and national leader between 1996 and 1999. In 2000, he was elected Head of Government of Mexico City. During his tenure, his policies on crime, infrastructure and social spending made him a popular figure on the Mexican left. In 2004, his state immunity from prosecution was removed after refusing to cease construction on land allegedly expropriated by his predecessor, Rosario Robles. This legal process lasted for a year and ended with López Obrador maintaining his right to run for office.López Obrador was nominated as the presidential candidate for the Coalition for the Good of All during the 2006 elections, where he was narrowly defeated by the National Action Party (PAN) candidate Felipe Calderón. While the Federal Electoral Tribunal noted a number of irregularities, it denied López Obrador's request for a general recount, which sparked protests across the country. In 2011 he founded Morena, a civil association and later political party. He was a candidate for the Progressive Movement coalition in the 2012 elections, won by the Commitment to Mexico coalition candidate Enrique Peña Nieto. In 2012, he left the PRD after protesting the party's signing of the Pact for Mexico and joined Morena. As part of the Juntos Haremos Historia coalition, López Obrador was elected president after a landslide victory in the 2018 general election.Often described as a center-left, progressive, left-wing populist, social democratic, and economic nationalist, López Obrador has been a national politician for over three decades. During his presidency, he has promoted public investment in sectors that had been liberalized under previous administrations and has implemented a number of progressive social reforms. Supporters have praised him for promoting institutional renewal after decades of high inequality and corruption, and refocusing the country's neoliberal consensus towards improving the state of the working class. Critics have claimed that he and his administration stumbled in their response to the COVID-19 pandemic and attempts to deal with drug cartels.\"),\n",
       "   (False, '', '')]],\n",
       " 'reflections': [['The reason for failure in this trial was the inability to find specific information about the new acronym for VIVA Media AG after their name change in 2004. The search queries were not yielding relevant results, and the approach of searching for official announcements or statements from the company was not executed effectively. A new plan to mitigate this failure could involve searching for financial reports, press releases, or industry articles specifically related to the name change and new acronym of VIVA Media AG in 2004. This targeted approach may provide more relevant and accurate information.',\n",
       "   'In this trial, I got stuck in a loop of trying to find the new acronym for VIVA Media AG after their name change in 2004 without success. One possible reason for failure could be the lack of specific keywords used in the search queries. To mitigate this failure, I should aim to use more targeted and specific keywords related to financial reports, press releases, or industry articles when searching for information about the new acronym. This would help in narrowing down the search results and finding the relevant information more efficiently.']]}"
      ]
     },
     "execution_count": 3,
     "metadata": {},
     "output_type": "execute_result"
    }
   ],
   "source": [
    "out = gather_experience(agent, questions=[question], keys=[key])\n",
    "out"
   ]
  },
  {
   "cell_type": "code",
   "execution_count": 7,
   "metadata": {},
   "outputs": [
    {
     "data": {
      "text/plain": [
       "2"
      ]
     },
     "execution_count": 7,
     "metadata": {},
     "output_type": "execute_result"
    }
   ],
   "source": []
  },
  {
   "cell_type": "code",
   "execution_count": null,
   "metadata": {},
   "outputs": [],
   "source": []
  }
 ],
 "metadata": {
  "kernelspec": {
   "display_name": "discussion-agents",
   "language": "python",
   "name": "python3"
  },
  "language_info": {
   "codemirror_mode": {
    "name": "ipython",
    "version": 3
   },
   "file_extension": ".py",
   "mimetype": "text/x-python",
   "name": "python",
   "nbconvert_exporter": "python",
   "pygments_lexer": "ipython3",
   "version": "3.10.13"
  }
 },
 "nbformat": 4,
 "nbformat_minor": 2
}
