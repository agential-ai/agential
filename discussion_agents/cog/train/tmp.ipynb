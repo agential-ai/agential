{
 "cells": [
  {
   "cell_type": "code",
   "execution_count": 1,
   "metadata": {},
   "outputs": [],
   "source": [
    "from discussion_agents.cog.agent.reflexion import ReflexionReActAgent\n",
    "from langchain_community.chat_models import ChatOpenAI\n",
    "from typing import List, Dict, Optional\n",
    "\n",
    "import dotenv\n",
    "import os\n",
    "\n",
    "dotenv.load_dotenv(\"../.env\")\n",
    "openai_api_key = os.getenv(\"OPENAI_API_KEY\")\n",
    "llm = ChatOpenAI(model_name=\"gpt-3.5-turbo-0125\", openai_api_key=openai_api_key)"
   ]
  },
  {
   "cell_type": "code",
   "execution_count": 2,
   "metadata": {},
   "outputs": [
    {
     "data": {
      "text/html": [
       "<div>\n",
       "<style scoped>\n",
       "    .dataframe tbody tr th:only-of-type {\n",
       "        vertical-align: middle;\n",
       "    }\n",
       "\n",
       "    .dataframe tbody tr th {\n",
       "        vertical-align: top;\n",
       "    }\n",
       "\n",
       "    .dataframe thead th {\n",
       "        text-align: right;\n",
       "    }\n",
       "</style>\n",
       "<table border=\"1\" class=\"dataframe\">\n",
       "  <thead>\n",
       "    <tr style=\"text-align: right;\">\n",
       "      <th></th>\n",
       "      <th>id</th>\n",
       "      <th>question</th>\n",
       "      <th>answer</th>\n",
       "      <th>type</th>\n",
       "      <th>level</th>\n",
       "      <th>supporting_facts</th>\n",
       "      <th>context</th>\n",
       "    </tr>\n",
       "  </thead>\n",
       "  <tbody>\n",
       "    <tr>\n",
       "      <th>0</th>\n",
       "      <td>5a7613c15542994ccc9186bf</td>\n",
       "      <td>VIVA Media AG changed it's name in 2004. What ...</td>\n",
       "      <td>Gesellschaft mit beschränkter Haftung</td>\n",
       "      <td>bridge</td>\n",
       "      <td>hard</td>\n",
       "      <td>{'title': ['VIVA Media', 'Gesellschaft mit bes...</td>\n",
       "      <td>{'title': ['Constantin Medien', 'VIVA Poland',...</td>\n",
       "    </tr>\n",
       "    <tr>\n",
       "      <th>1</th>\n",
       "      <td>5adf2fa35542993344016c11</td>\n",
       "      <td>Which of Jonny Craig and Pete Doherty has been...</td>\n",
       "      <td>Jonny\" Craig</td>\n",
       "      <td>comparison</td>\n",
       "      <td>hard</td>\n",
       "      <td>{'title': ['Jonny Craig', 'Jonny Craig', 'Pete...</td>\n",
       "      <td>{'title': ['Pete Doherty', 'Relativity (Emaros...</td>\n",
       "    </tr>\n",
       "    <tr>\n",
       "      <th>2</th>\n",
       "      <td>5adfdef9554299025d62a36b</td>\n",
       "      <td>Where was the first governor after the The Mis...</td>\n",
       "      <td>Bath, Maine</td>\n",
       "      <td>bridge</td>\n",
       "      <td>hard</td>\n",
       "      <td>{'title': ['Maine gubernatorial election, 1820...</td>\n",
       "      <td>{'title': ['Compromise of 1790', 'Anti-Nebrask...</td>\n",
       "    </tr>\n",
       "    <tr>\n",
       "      <th>3</th>\n",
       "      <td>5a7180205542994082a3e856</td>\n",
       "      <td>The creator of \"Wallace and Gromit\" also creat...</td>\n",
       "      <td>Creature Comforts</td>\n",
       "      <td>bridge</td>\n",
       "      <td>hard</td>\n",
       "      <td>{'title': ['Creature Comforts', 'Creature Comf...</td>\n",
       "      <td>{'title': ['Creature Comforts', 'Tata Steel Zo...</td>\n",
       "    </tr>\n",
       "    <tr>\n",
       "      <th>4</th>\n",
       "      <td>5a78bc6b554299148911f979</td>\n",
       "      <td>Woman's Era and Naj are what kind of magazines?</td>\n",
       "      <td>fortnightly women interest magazine</td>\n",
       "      <td>comparison</td>\n",
       "      <td>hard</td>\n",
       "      <td>{'title': ['Woman's Era', 'Naj'], 'sent_id': [...</td>\n",
       "      <td>{'title': ['Lifestyle trends and media', 'Chin...</td>\n",
       "    </tr>\n",
       "  </tbody>\n",
       "</table>\n",
       "</div>"
      ],
      "text/plain": [
       "                         id  \\\n",
       "0  5a7613c15542994ccc9186bf   \n",
       "1  5adf2fa35542993344016c11   \n",
       "2  5adfdef9554299025d62a36b   \n",
       "3  5a7180205542994082a3e856   \n",
       "4  5a78bc6b554299148911f979   \n",
       "\n",
       "                                            question  \\\n",
       "0  VIVA Media AG changed it's name in 2004. What ...   \n",
       "1  Which of Jonny Craig and Pete Doherty has been...   \n",
       "2  Where was the first governor after the The Mis...   \n",
       "3  The creator of \"Wallace and Gromit\" also creat...   \n",
       "4    Woman's Era and Naj are what kind of magazines?   \n",
       "\n",
       "                                  answer        type level  \\\n",
       "0  Gesellschaft mit beschränkter Haftung      bridge  hard   \n",
       "1                           Jonny\" Craig  comparison  hard   \n",
       "2                            Bath, Maine      bridge  hard   \n",
       "3                      Creature Comforts      bridge  hard   \n",
       "4    fortnightly women interest magazine  comparison  hard   \n",
       "\n",
       "                                    supporting_facts  \\\n",
       "0  {'title': ['VIVA Media', 'Gesellschaft mit bes...   \n",
       "1  {'title': ['Jonny Craig', 'Jonny Craig', 'Pete...   \n",
       "2  {'title': ['Maine gubernatorial election, 1820...   \n",
       "3  {'title': ['Creature Comforts', 'Creature Comf...   \n",
       "4  {'title': ['Woman's Era', 'Naj'], 'sent_id': [...   \n",
       "\n",
       "                                             context  \n",
       "0  {'title': ['Constantin Medien', 'VIVA Poland',...  \n",
       "1  {'title': ['Pete Doherty', 'Relativity (Emaros...  \n",
       "2  {'title': ['Compromise of 1790', 'Anti-Nebrask...  \n",
       "3  {'title': ['Creature Comforts', 'Tata Steel Zo...  \n",
       "4  {'title': ['Lifestyle trends and media', 'Chin...  "
      ]
     },
     "execution_count": 2,
     "metadata": {},
     "output_type": "execute_result"
    }
   ],
   "source": [
    "import joblib\n",
    "hotpot = joblib.load('../agent/hotpot-qa-distractor-sample.joblib').reset_index(drop=True)\n",
    "hotpot.head()"
   ]
  },
  {
   "cell_type": "code",
   "execution_count": 3,
   "metadata": {},
   "outputs": [],
   "source": [
    "def gather_experience(\n",
    "    reflexion_react_agent: ReflexionReActAgent,\n",
    "    questions: List[str],\n",
    "    keys: List[str],\n",
    "    strategy: Optional[str] = \"reflexion\",\n",
    ") -> Dict[str, List]:\n",
    "    experiences = {\n",
    "        \"idxs\": [],\n",
    "        \"questions\": [],\n",
    "        \"keys\": [],\n",
    "        \"trajectories\": [],\n",
    "        \"reflections\": []\n",
    "    }\n",
    "    for idx, (question, key) in enumerate(zip(questions, keys)):\n",
    "        trajectory = reflexion_react_agent.generate(\n",
    "            question=question, key=key, strategy=strategy, reset=True\n",
    "        )\n",
    "\n",
    "        experiences[\"idxs\"].append(idx)\n",
    "        experiences[\"questions\"].append(question)\n",
    "        experiences[\"keys\"].append(key)\n",
    "        experiences[\"trajectories\"].append(trajectory)\n",
    "        experiences[\"reflections\"].append(reflexion_react_agent.reflector.reflections)\n",
    "        \n",
    "    return experiences"
   ]
  },
  {
   "cell_type": "code",
   "execution_count": 4,
   "metadata": {},
   "outputs": [],
   "source": [
    "k = 5\n",
    "\n",
    "agent = ReflexionReActAgent(\n",
    "    self_reflect_llm=llm,\n",
    "    action_llm=llm,\n",
    "    max_steps=7,\n",
    "    max_trials=3,\n",
    ")\n",
    "\n",
    "# experiences_tmp = gather_experience(agent, questions=hotpot.question.values.tolist()[10:10+k], keys=hotpot.answer.values.tolist()[10:10+k])"
   ]
  },
  {
   "cell_type": "code",
   "execution_count": 56,
   "metadata": {},
   "outputs": [
    {
     "data": {
      "text/plain": [
       "['experiences_5.joblib']"
      ]
     },
     "execution_count": 56,
     "metadata": {},
     "output_type": "execute_result"
    }
   ],
   "source": [
    "# joblib.dump(experiences, \"experiences_10.joblib\")"
   ]
  },
  {
   "cell_type": "code",
   "execution_count": 5,
   "metadata": {},
   "outputs": [],
   "source": [
    "import joblib\n",
    "experiences = joblib.load(\"exp_15_compare_fake.joblib\")"
   ]
  },
  {
   "cell_type": "code",
   "execution_count": 6,
   "metadata": {},
   "outputs": [
    {
     "data": {
      "text/plain": [
       "{'compare': [10, 11, 12, 13, 14],\n",
       " 'success': [1, 3, 6, 7, 8],\n",
       " 'fail': [0, 2, 4, 5, 9]}"
      ]
     },
     "execution_count": 6,
     "metadata": {},
     "output_type": "execute_result"
    }
   ],
   "source": [
    "\n",
    "def categorize_experiences(experiences: Dict[str, List]) -> Dict[str, List]:\n",
    "    count_dict = {\n",
    "        \"compare\": [],\n",
    "        \"success\": [],\n",
    "        \"fail\": []\n",
    "    }\n",
    "\n",
    "    for idx in experiences[\"idxs\"]:  # Index for a particular task.\n",
    "        trajectory = experiences[\"trajectories\"][idx]\n",
    "        trials_are_correct = [trial[0] for trial in trajectory]  # (is_correct, answer, output)[0]\n",
    "\n",
    "        # Success.\n",
    "        if all(trials_are_correct) and len(trials_are_correct) == 1:  # If success @ first trial, then stop generation.\n",
    "            count_dict[\"success\"].append(idx)\n",
    "        # Compare.\n",
    "        elif trials_are_correct[-1]:  # If fail(s), then succeeds, then only last trial is True.\n",
    "            count_dict[\"compare\"].append(idx)\n",
    "        # Fail.\n",
    "        elif not all(trials_are_correct):  # All trials failed, then fail case.\n",
    "            count_dict[\"fail\"].append(idx)\n",
    "        else:\n",
    "            raise ValueError(f\"Unhandled scenario for trajectory at index {idx}.\")\n",
    "\n",
    "    return count_dict\n",
    "\n",
    "categories = categorize_experiences(experiences)\n",
    "categories"
   ]
  },
  {
   "cell_type": "code",
   "execution_count": 7,
   "metadata": {},
   "outputs": [
    {
     "data": {
      "text/plain": [
       "dict_keys(['idxs', 'questions', 'keys', 'trajectories', 'reflections'])"
      ]
     },
     "execution_count": 7,
     "metadata": {},
     "output_type": "execute_result"
    }
   ],
   "source": [
    "experiences.keys()"
   ]
  },
  {
   "cell_type": "code",
   "execution_count": 8,
   "metadata": {},
   "outputs": [
    {
     "data": {
      "text/plain": [
       "{0: [1, 2, 4, 6, 12, 14], 1: [0, 3, 5, 7, 8, 9, 10, 11, 13]}"
      ]
     },
     "execution_count": 8,
     "metadata": {},
     "output_type": "execute_result"
    }
   ],
   "source": [
    "import random\n",
    "\n",
    "def get_folds(categories: Dict[str, List], n_instances: int, n_folds: int = 2) -> Dict[str, List]:\n",
    "    folds = {fold: [] for fold in range(n_folds)}\n",
    "\n",
    "    # Assign labels for 'compare', 'success', and  'fail'.\n",
    "    for _, indices in categories.items():\n",
    "        random.shuffle(indices)\n",
    "        for count, idx in enumerate(indices):\n",
    "            folds[count % n_folds].append(idx)\n",
    "\n",
    "    # Each fold is a validation set. Take the difference to get the training set of each fold.\n",
    "    folds = {fold: list(set(list(range(n_instances))).difference(values)) for fold, values in folds.items()}\n",
    "\n",
    "    return folds\n",
    "\n",
    "folds = get_folds(categories, 15)\n",
    "folds"
   ]
  },
  {
   "cell_type": "markdown",
   "metadata": {},
   "source": [
    "# Insight Extraction"
   ]
  },
  {
   "cell_type": "code",
   "execution_count": 9,
   "metadata": {},
   "outputs": [],
   "source": [
    "train_idxs = folds[0]\n",
    "\n",
    "train_category_idxs = {\n",
    "    category: list(set(train_idxs).intersection(set(category_idxs))) \\\n",
    "        for category, category_idxs in categories.items()\n",
    "}"
   ]
  },
  {
   "cell_type": "code",
   "execution_count": 10,
   "metadata": {},
   "outputs": [
    {
     "data": {
      "text/plain": [
       "[1, 2, 4, 6, 12, 14]"
      ]
     },
     "execution_count": 10,
     "metadata": {},
     "output_type": "execute_result"
    }
   ],
   "source": [
    "train_idxs"
   ]
  },
  {
   "cell_type": "code",
   "execution_count": 11,
   "metadata": {},
   "outputs": [
    {
     "data": {
      "text/plain": [
       "{'compare': [12, 14], 'success': [1, 6], 'fail': [2, 4]}"
      ]
     },
     "execution_count": 11,
     "metadata": {},
     "output_type": "execute_result"
    }
   ],
   "source": [
    "train_category_idxs"
   ]
  },
  {
   "cell_type": "code",
   "execution_count": 12,
   "metadata": {},
   "outputs": [],
   "source": [
    "from langchain_core.prompts.chat import HumanMessagePromptTemplate\n",
    "from langchain_core.messages.human import HumanMessage\n",
    "\n",
    "from discussion_agents.cog.prompts.expel import (\n",
    "    SYSTEM_TEMPLATE, \n",
    "    SYSTEM_CRITIQUE_EXISTING_RULES_INSTRUCTION,\n",
    "    EXISTING_RULES_AI_NAME,\n",
    "    NON_EXISTENT_RULES_AT_NAME,\n",
    "    HUMAN_CRITIQUE_EXISTING_RULES_TEMPLATE,\n",
    "    CRITIQUE_SUMMARY_SUFFIX_FULL,\n",
    "    CRITIQUE_SUMMARY_SUFFIX_NOT_FULL\n",
    ")\n",
    "\n",
    "def _build_compare_prompt(\n",
    "    rule_items: List[str], \n",
    "    question: str,\n",
    "    failed_traj: str, \n",
    "    success_traj: str, \n",
    "    is_full: bool,\n",
    ") -> List[HumanMessage]:\n",
    "    # is_full = self.max_num_rules <= len(self.rule_items_with_count)   ->    20 <= len(self.rule_items_with_count)\n",
    "\n",
    "    critique_history = []\n",
    "\n",
    "    if rule_items == []:\n",
    "        rule_items = ['']\n",
    "\n",
    "    # System prompt.\n",
    "    prefix = (\n",
    "        HumanMessagePromptTemplate.from_template(SYSTEM_TEMPLATE)\n",
    "        .format_messages(\n",
    "            ai_name=NON_EXISTENT_RULES_AT_NAME if not rule_items else EXISTING_RULES_AI_NAME,\n",
    "            instruction=SYSTEM_CRITIQUE_EXISTING_RULES_INSTRUCTION\n",
    "        )\n",
    "    )\n",
    "    critique_history.extend(prefix)\n",
    "\n",
    "    # Task prompt.\n",
    "    human_format_dict = {\n",
    "        'question': question,\n",
    "        'failed_traj': failed_traj,\n",
    "        'success_traj': success_traj,\n",
    "        'existing_rules': '\\n'.join([f'{i}. {r}' for i, r in enumerate(rule_items, 1)])\n",
    "    }\n",
    "\n",
    "    human_critique_summary_message = HumanMessagePromptTemplate.from_template(HUMAN_CRITIQUE_EXISTING_RULES_TEMPLATE).format_messages(**human_format_dict)[0]\n",
    "    critique_summary_suffix = CRITIQUE_SUMMARY_SUFFIX_FULL if is_full else CRITIQUE_SUMMARY_SUFFIX_NOT_FULL\n",
    "    human_critique_summary_message.content = human_critique_summary_message.content + critique_summary_suffix\n",
    "    critique_history.append(human_critique_summary_message)\n",
    "\n",
    "    return critique_history"
   ]
  },
  {
   "cell_type": "code",
   "execution_count": 13,
   "metadata": {},
   "outputs": [],
   "source": [
    "failed_traj = experiences['trajectories'][11][0][-1]\n",
    "success_traj = experiences['trajectories'][11][-1][-1]\n",
    "question = experiences['questions'][11]"
   ]
  },
  {
   "cell_type": "code",
   "execution_count": 14,
   "metadata": {},
   "outputs": [
    {
     "data": {
      "text/plain": [
       "[HumanMessage(content='You are an advanced reasoning agent that can add, edit or remove rules from your existing rule set, based on forming new critiques of past task trajectories. You will be given two previous task trials in which you were given access to a Docstore API environment and a question to answer: one successful and one unsuccessful trial. You failed the trial either because you guessed the wrong answer with Finish[<answer>], or you used up your set number of reasoning steps.'),\n",
       " HumanMessage(content='\\nHere are the two previous trials to compare and critique:\\nTRIAL TASK:\\nThe creator of \"Wallace and Gromit\" also created what animation comedy that matched animated zoo animals with a soundtrack of people talking about their homes? \\n\\nSUCCESSFUL TRIAL:\\n\\nThought: I need to search for the creator of \"Wallace and Gromit\" and find out what other animation comedy they created that involves animated zoo animals and people talking about their homes. \\nAction: Search[creator of Wallace and Gromit]\\nObservation 1: Wallace and Gromit is a British stop-motion animated comedy franchise created by Nick Park and produced by Aardman Animations. The main film series consists of four short films and one feature-length film, and has spawned numerous spin-offs and TV adaptations. The series centres on Wallace, a good-natured, eccentric, cheese-loving inventor, and Gromit, his loyal and intelligent anthropomorphic beagle. The first short film, A Grand Day Out, was finished and made public in 1989. Wallace was voiced by actor Peter Sallis until 2010 when he was succeeded by Ben Whitehead. Gromit is largely silent and has no dialogue, communicating through facial expressions and body language.Because of their widespread popularity, the characters have been described as positive international cultural icons of both modern British culture and British people in general. BBC News called them \"some of the best-known and best-loved stars to come out of the UK\". Icons has said they have done \"more to improve the image of the English world-wide than any officially appointed ambassadors\". Although not overtly set in any particular town, Park has hinted that it was inspired by 1950s Wigan in Northern England. Wallace\\'s accent comes from the Holme Valley of West Yorkshire. Wallace is fond of Wensleydale cheese (from Wensleydale, North Yorkshire).Their films have received universal acclaim, with the first three short films, A Grand Day Out (1989), The Wrong Trousers (1993) and A Close Shave (1995) earning 100% on Rotten Tomatoes; the feature film Wallace & Gromit: The Curse of the Were-Rabbit (2005) has also received acclaim. The feature film is the second-highest-grossing stop-motion animated film, only outgrossed by Chicken Run (2000), another creation of Park\\'s. A fourth short film, A Matter of Loaf and Death, was released in 2008. The franchise has received numerous accolades, including five British Academy Film Awards, three Academy Awards and a Peabody Award.The Wallace and Gromit characters spearhead the fundraising for two children\\'s charities: Wallace & Gromit\\'s Children\\'s Foundation, which supports children\\'s hospices and hospitals in the United Kingdom, and Wallace and Gromit\\'s Grand Appeal, the charity for Bristol Children\\'s Hospital in Bristol. In December 2010, Wallace and Gromit featured on a festive themed series of UK postage stamps issued by the Royal Mail.\\nThought: I need to find out which animation comedy involving animated zoo animals and people talking about their homes was created by Nick Park, the creator of \"Wallace and Gromit.\" \\nAction: Search[Nick Park animation comedy with zoo animals]\\nObservation 2: Nicholas Wulstan Park  (born 6 December 1958) is an  English filmmaker and animator who created Wallace and Gromit, Creature Comforts, Chicken Run, Shaun the Sheep, and Early Man. Park has been nominated for an Academy Award a total of six times and won four with Creature Comforts (1989), The Wrong Trousers (1993), A Close Shave (1995) and Wallace & Gromit: The Curse of the Were-Rabbit (2005).He has also received five BAFTA Awards, including the BAFTA for Best Short Animation for A Matter of Loaf and Death, which was also the most watched television programme in the United Kingdom in 2008. His 2000 film Chicken Run is the highest-grossing stop motion animated film.In 1985, Park joined Aardman Animations based in Bristol, and for his work in animation he was among the British cultural icons selected by artist Peter Blake to appear in a 2012 version of Blake\\'s most famous artwork—the Beatles\\' Sgt. Pepper\\'s Lonely Hearts Club Band album cover—to celebrate the British cultural figures of his life.Park was appointed a Commander of the Order of the British Empire (CBE) in the 1997 Birthday Honours for services to the animated film industry.\\nThought: I need to find out which animation comedy involving animated zoo animals and people talking about their homes was created by Nick Park. I should search for the animation comedy involving zoo animals with a soundtrack of people talking about their homes. \\nAction: Search[animation comedy zoo animals people talking about homes]\\nObservation 3: Could not find [animation comedy zoo animals people talking about homes]. Similar: [\\'Creature Comforts\\', \\'Madagascar (2005 film)\\', \\'Madagascar: Escape 2 Africa\\', \\'List of British television programmes\\', \\'George of the Jungle (film)\\', \\'Turning Red\\', \\'Zootopia\\', \\'List of Toon In with Me episodes\\', \\'The Rescuers\\', \\'List of Madagascar (franchise) characters\\']\\nThought: I need to narrow down my search to find the specific animation comedy involving animated zoo animals and people talking about their homes. I should search for \"Creature Comforts\" as it seems to be related to the topic. \\nAction: Search[Creature Comforts]\\nObservation 4: Creature Comforts is a British adult stop-motion comedy mockumentary franchise originating in a 1989 British humorous animated short film of the same name. The film matched animated zoo animals with a soundtrack of people talking about their homes, making it appear as if the animals were being interviewed about their living conditions. It was created by Nick Park and Aardman Animations. The film later became the basis of a series of television advertisements for the electricity boards in the United Kingdom, and in 2003, a television series in the same style was released. An American version of the series was also made.\\nThought: I have found that the animation comedy involving animated zoo animals and people talking about their homes that was created by Nick Park is \"Creature Comforts.\" Now, I need to finish and provide the answer. \\nAction: Finish[Creature Comforts]\\nObservation 5: Creature Comforts\\n\\nFAILED TRIAL:\\n\\nThought: I need to search for information on The Missouri Compromise and find out where the first governor after it was from.\\nAction: Search[The Missouri Compromise]\\nObservation 1: The Missouri Compromise (also known as the Compromise of 1820) was a federal legislation of the United States that balanced desires of northern states to prevent expansion of slavery in the country with those of southern states to expand it. It admitted Missouri as a slave state and Maine as a free state and declared a policy of prohibiting slavery in the remaining Louisiana Purchase lands north of the 36°30′ parallel. The 16th United States Congress passed the legislation on March 3, 1820, and President James Monroe signed it on March 6, 1820.Earlier, in February 1819, Representative James Tallmadge Jr., a Democratic-Republican (Jeffersonian Republican) from New York, had submitted two amendments to Missouri\\'s request for statehood that included restrictions on slavery. Southerners objected to any bill that imposed federal restrictions on slavery and believed that it was a state issue, as settled by the Constitution. However, with the Senate evenly split at the opening of the debates, both sections possessing 11 states, the admission of Missouri as a slave state would give the South an advantage. Northern critics including Federalists and Democratic-Republicans objected to the expansion of slavery into the Louisiana Purchase territory on the Constitutional inequalities of the three-fifths rule, which conferred Southern representation in the federal government derived from a state\\'s slave population.Jeffersonian Republicans in the North ardently maintained that a strict interpretation of the Constitution required that Congress act to limit the spread of slavery on egalitarian grounds. \"[Northern] Republicans rooted their antislavery arguments, not on expediency, but in egalitarian morality.\" \"The Constitution [said northern Jeffersonians], strictly interpreted, gave the sons of the founding generation the legal tools to hasten [the] removal [of slavery], including the refusal to admit additional slave states.\"When free-soil Maine offered its petition for statehood, the Senate quickly linked the Maine and Missouri bills, making Maine admission a condition for Missouri entering the Union as a slave state. Senator Jesse B. Thomas of Illinois added a compromise proviso that excluded slavery from all remaining lands of the Louisiana Purchase north of the 36° 30\\' parallel. The combined measures passed the Senate, only to be voted down in the House by Northern representatives who held out for a free Missouri. Speaker of the House Henry Clay of Kentucky, in a desperate bid to break the deadlock, divided the Senate bills. Clay and his pro-compromise allies succeeded in pressuring half of the anti-restrictionist Southerners in the House to submit to the passage of the Thomas proviso and maneuvered a number of restrictionist northerners in the House to acquiesce in supporting Missouri as a slave state. While the Missouri question in the 15th Congress ended in stalemate on March 4, 1819, with the House sustaining its northern anti-slavery position and the Senate blocking a state that restricted slavery, it succeeded in the 16th Congress.The Missouri Compromise was very controversial, and many worried that the country had become lawfully divided along sectarian lines. The Kansas–Nebraska Act effectively repealed the bill in 1854, and the Supreme Court declared it unconstitutional in Dred Scott v. Sandford (1857), both of which increased tensions over slavery and contributed to the American Civil War. The compromise both delayed the Civil War and sowed its seeds; Thomas Jefferson writing contemporaneously predicted the line it had drawn would someday tear the Union apart. 40 years later, the North and South would split closely along the 36°30′ parallel and fight for four bloody years.\\nThought: The passage does not mention the first governor after The Missouri Compromise. I need to look up the first governor after The Missouri Compromise to find out where they were from.\\nAction: Search[first governor after The Missouri Compromise]\\nObservation 2: The Missouri Compromise (also known as the Compromise of 1820) was a federal legislation of the United States that balanced desires of northern states to prevent expansion of slavery in the country with those of southern states to expand it. It admitted Missouri as a slave state and Maine as a free state and declared a policy of prohibiting slavery in the remaining Louisiana Purchase lands north of the 36°30′ parallel. The 16th United States Congress passed the legislation on March 3, 1820, and President James Monroe signed it on March 6, 1820.Earlier, in February 1819, Representative James Tallmadge Jr., a Democratic-Republican (Jeffersonian Republican) from New York, had submitted two amendments to Missouri\\'s request for statehood that included restrictions on slavery. Southerners objected to any bill that imposed federal restrictions on slavery and believed that it was a state issue, as settled by the Constitution. However, with the Senate evenly split at the opening of the debates, both sections possessing 11 states, the admission of Missouri as a slave state would give the South an advantage. Northern critics including Federalists and Democratic-Republicans objected to the expansion of slavery into the Louisiana Purchase territory on the Constitutional inequalities of the three-fifths rule, which conferred Southern representation in the federal government derived from a state\\'s slave population.Jeffersonian Republicans in the North ardently maintained that a strict interpretation of the Constitution required that Congress act to limit the spread of slavery on egalitarian grounds. \"[Northern] Republicans rooted their antislavery arguments, not on expediency, but in egalitarian morality.\" \"The Constitution [said northern Jeffersonians], strictly interpreted, gave the sons of the founding generation the legal tools to hasten [the] removal [of slavery], including the refusal to admit additional slave states.\"When free-soil Maine offered its petition for statehood, the Senate quickly linked the Maine and Missouri bills, making Maine admission a condition for Missouri entering the Union as a slave state. Senator Jesse B. Thomas of Illinois added a compromise proviso that excluded slavery from all remaining lands of the Louisiana Purchase north of the 36° 30\\' parallel. The combined measures passed the Senate, only to be voted down in the House by Northern representatives who held out for a free Missouri. Speaker of the House Henry Clay of Kentucky, in a desperate bid to break the deadlock, divided the Senate bills. Clay and his pro-compromise allies succeeded in pressuring half of the anti-restrictionist Southerners in the House to submit to the passage of the Thomas proviso and maneuvered a number of restrictionist northerners in the House to acquiesce in supporting Missouri as a slave state. While the Missouri question in the 15th Congress ended in stalemate on March 4, 1819, with the House sustaining its northern anti-slavery position and the Senate blocking a state that restricted slavery, it succeeded in the 16th Congress.The Missouri Compromise was very controversial, and many worried that the country had become lawfully divided along sectarian lines. The Kansas–Nebraska Act effectively repealed the bill in 1854, and the Supreme Court declared it unconstitutional in Dred Scott v. Sandford (1857), both of which increased tensions over slavery and contributed to the American Civil War. The compromise both delayed the Civil War and sowed its seeds; Thomas Jefferson writing contemporaneously predicted the line it had drawn would someday tear the Union apart. 40 years later, the North and South would split closely along the 36°30′ parallel and fight for four bloody years.\\nThought: The passage does not mention the first governor after The Missouri Compromise. I need to refine my search to find information specifically about the first governor after The Missouri Compromise.\\nAction: Search[First governor after The Missouri Compromise]\\nObservation 3: The Missouri Compromise (also known as the Compromise of 1820) was a federal legislation of the United States that balanced desires of northern states to prevent expansion of slavery in the country with those of southern states to expand it. It admitted Missouri as a slave state and Maine as a free state and declared a policy of prohibiting slavery in the remaining Louisiana Purchase lands north of the 36°30′ parallel. The 16th United States Congress passed the legislation on March 3, 1820, and President James Monroe signed it on March 6, 1820.Earlier, in February 1819, Representative James Tallmadge Jr., a Democratic-Republican (Jeffersonian Republican) from New York, had submitted two amendments to Missouri\\'s request for statehood that included restrictions on slavery. Southerners objected to any bill that imposed federal restrictions on slavery and believed that it was a state issue, as settled by the Constitution. However, with the Senate evenly split at the opening of the debates, both sections possessing 11 states, the admission of Missouri as a slave state would give the South an advantage. Northern critics including Federalists and Democratic-Republicans objected to the expansion of slavery into the Louisiana Purchase territory on the Constitutional inequalities of the three-fifths rule, which conferred Southern representation in the federal government derived from a state\\'s slave population.Jeffersonian Republicans in the North ardently maintained that a strict interpretation of the Constitution required that Congress act to limit the spread of slavery on egalitarian grounds. \"[Northern] Republicans rooted their antislavery arguments, not on expediency, but in egalitarian morality.\" \"The Constitution [said northern Jeffersonians], strictly interpreted, gave the sons of the founding generation the legal tools to hasten [the] removal [of slavery], including the refusal to admit additional slave states.\"When free-soil Maine offered its petition for statehood, the Senate quickly linked the Maine and Missouri bills, making Maine admission a condition for Missouri entering the Union as a slave state. Senator Jesse B. Thomas of Illinois added a compromise proviso that excluded slavery from all remaining lands of the Louisiana Purchase north of the 36° 30\\' parallel. The combined measures passed the Senate, only to be voted down in the House by Northern representatives who held out for a free Missouri. Speaker of the House Henry Clay of Kentucky, in a desperate bid to break the deadlock, divided the Senate bills. Clay and his pro-compromise allies succeeded in pressuring half of the anti-restrictionist Southerners in the House to submit to the passage of the Thomas proviso and maneuvered a number of restrictionist northerners in the House to acquiesce in supporting Missouri as a slave state. While the Missouri question in the 15th Congress ended in stalemate on March 4, 1819, with the House sustaining its northern anti-slavery position and the Senate blocking a state that restricted slavery, it succeeded in the 16th Congress.The Missouri Compromise was very controversial, and many worried that the country had become lawfully divided along sectarian lines. The Kansas–Nebraska Act effectively repealed the bill in 1854, and the Supreme Court declared it unconstitutional in Dred Scott v. Sandford (1857), both of which increased tensions over slavery and contributed to the American Civil War. The compromise both delayed the Civil War and sowed its seeds; Thomas Jefferson writing contemporaneously predicted the line it had drawn would someday tear the Union apart. 40 years later, the North and South would split closely along the 36°30′ parallel and fight for four bloody years.\\n\\nHere are the EXISTING RULES:\\n1. \\n\\nBy examining and contrasting to the successful trial, and the list of existing rules, you can perform the following operations: add, edit, remove, or agree so that the new list of rules is GENERAL and HIGH LEVEL critiques of the failed trial or proposed way of Thought so they can be used to avoid similar failures when encountered with different questions in the future. Have an emphasis on critiquing how to perform better Thought and Action. Follow the below format:\\n\\n<OPERATION> <RULE NUMBER>: <RULE>\\n\\nThe available operations are: AGREE (if the existing rule is strongly relevant for the task), REMOVE (if one existing rule is contradictory or similar/duplicated to other existing rules), EDIT (if any existing rule is not general enough or can be enhanced, rewrite and improve it), ADD (add new rules that are very different from existing rules and relevant for other tasks). Each needs to CLOSELY follow their corresponding formatting below (any existing rule not edited, not agreed, nor removed is considered copied):\\n\\nAGREE <EXISTING RULE NUMBER>: <EXISTING RULE>\\nREMOVE <EXISTING RULE NUMBER>: <EXISTING RULE>\\nEDIT <EXISTING RULE NUMBER>: <NEW MODIFIED RULE>\\nADD <NEW RULE NUMBER>: <NEW RULE>\\n\\nDo not mention the trials in the rules because all the rules should be GENERALLY APPLICABLE. Each rule should be concise and easy to follow. Any operation can be used MULTIPLE times. Do at most 4 operations and each existing rule can only get a maximum of 1 operation. Below are the operations you do to the above list of EXISTING RULES:')]"
      ]
     },
     "execution_count": 14,
     "metadata": {},
     "output_type": "execute_result"
    }
   ],
   "source": [
    "compare_prompt_msgs = _build_compare_prompt([], question, failed_traj, success_traj, is_full=False)\n",
    "compare_prompt_msgs"
   ]
  },
  {
   "cell_type": "code",
   "execution_count": 15,
   "metadata": {},
   "outputs": [],
   "source": [
    "from langchain_core.messages.chat import ChatMessage\n",
    "\n",
    "def collapse_prompts(prompt_history: List[ChatMessage]) -> List[ChatMessage]:\n",
    "    \"\"\"Courtesy of GPT4\"\"\"\n",
    "    if not prompt_history:\n",
    "        return []\n",
    "\n",
    "    new_prompt_history = []\n",
    "    scratch_pad = prompt_history[0].content\n",
    "    last_message_type = type(prompt_history[0])\n",
    "\n",
    "    for message in prompt_history[1:]:\n",
    "        current_message_type = type(message)\n",
    "        if current_message_type == last_message_type:\n",
    "            scratch_pad += '\\n' + message.content\n",
    "        else:\n",
    "            new_prompt_history.append(last_message_type(content=scratch_pad))\n",
    "            scratch_pad = message.content\n",
    "            last_message_type = current_message_type\n",
    "\n",
    "    # Handle the last accumulated message.\n",
    "    new_prompt_history.append(last_message_type(content=scratch_pad))\n",
    "\n",
    "    return new_prompt_history"
   ]
  },
  {
   "cell_type": "code",
   "execution_count": 16,
   "metadata": {},
   "outputs": [
    {
     "data": {
      "text/plain": [
       "[HumanMessage(content='You are an advanced reasoning agent that can add, edit or remove rules from your existing rule set, based on forming new critiques of past task trajectories. You will be given two previous task trials in which you were given access to a Docstore API environment and a question to answer: one successful and one unsuccessful trial. You failed the trial either because you guessed the wrong answer with Finish[<answer>], or you used up your set number of reasoning steps.\\n\\nHere are the two previous trials to compare and critique:\\nTRIAL TASK:\\nThe creator of \"Wallace and Gromit\" also created what animation comedy that matched animated zoo animals with a soundtrack of people talking about their homes? \\n\\nSUCCESSFUL TRIAL:\\n\\nThought: I need to search for the creator of \"Wallace and Gromit\" and find out what other animation comedy they created that involves animated zoo animals and people talking about their homes. \\nAction: Search[creator of Wallace and Gromit]\\nObservation 1: Wallace and Gromit is a British stop-motion animated comedy franchise created by Nick Park and produced by Aardman Animations. The main film series consists of four short films and one feature-length film, and has spawned numerous spin-offs and TV adaptations. The series centres on Wallace, a good-natured, eccentric, cheese-loving inventor, and Gromit, his loyal and intelligent anthropomorphic beagle. The first short film, A Grand Day Out, was finished and made public in 1989. Wallace was voiced by actor Peter Sallis until 2010 when he was succeeded by Ben Whitehead. Gromit is largely silent and has no dialogue, communicating through facial expressions and body language.Because of their widespread popularity, the characters have been described as positive international cultural icons of both modern British culture and British people in general. BBC News called them \"some of the best-known and best-loved stars to come out of the UK\". Icons has said they have done \"more to improve the image of the English world-wide than any officially appointed ambassadors\". Although not overtly set in any particular town, Park has hinted that it was inspired by 1950s Wigan in Northern England. Wallace\\'s accent comes from the Holme Valley of West Yorkshire. Wallace is fond of Wensleydale cheese (from Wensleydale, North Yorkshire).Their films have received universal acclaim, with the first three short films, A Grand Day Out (1989), The Wrong Trousers (1993) and A Close Shave (1995) earning 100% on Rotten Tomatoes; the feature film Wallace & Gromit: The Curse of the Were-Rabbit (2005) has also received acclaim. The feature film is the second-highest-grossing stop-motion animated film, only outgrossed by Chicken Run (2000), another creation of Park\\'s. A fourth short film, A Matter of Loaf and Death, was released in 2008. The franchise has received numerous accolades, including five British Academy Film Awards, three Academy Awards and a Peabody Award.The Wallace and Gromit characters spearhead the fundraising for two children\\'s charities: Wallace & Gromit\\'s Children\\'s Foundation, which supports children\\'s hospices and hospitals in the United Kingdom, and Wallace and Gromit\\'s Grand Appeal, the charity for Bristol Children\\'s Hospital in Bristol. In December 2010, Wallace and Gromit featured on a festive themed series of UK postage stamps issued by the Royal Mail.\\nThought: I need to find out which animation comedy involving animated zoo animals and people talking about their homes was created by Nick Park, the creator of \"Wallace and Gromit.\" \\nAction: Search[Nick Park animation comedy with zoo animals]\\nObservation 2: Nicholas Wulstan Park  (born 6 December 1958) is an  English filmmaker and animator who created Wallace and Gromit, Creature Comforts, Chicken Run, Shaun the Sheep, and Early Man. Park has been nominated for an Academy Award a total of six times and won four with Creature Comforts (1989), The Wrong Trousers (1993), A Close Shave (1995) and Wallace & Gromit: The Curse of the Were-Rabbit (2005).He has also received five BAFTA Awards, including the BAFTA for Best Short Animation for A Matter of Loaf and Death, which was also the most watched television programme in the United Kingdom in 2008. His 2000 film Chicken Run is the highest-grossing stop motion animated film.In 1985, Park joined Aardman Animations based in Bristol, and for his work in animation he was among the British cultural icons selected by artist Peter Blake to appear in a 2012 version of Blake\\'s most famous artwork—the Beatles\\' Sgt. Pepper\\'s Lonely Hearts Club Band album cover—to celebrate the British cultural figures of his life.Park was appointed a Commander of the Order of the British Empire (CBE) in the 1997 Birthday Honours for services to the animated film industry.\\nThought: I need to find out which animation comedy involving animated zoo animals and people talking about their homes was created by Nick Park. I should search for the animation comedy involving zoo animals with a soundtrack of people talking about their homes. \\nAction: Search[animation comedy zoo animals people talking about homes]\\nObservation 3: Could not find [animation comedy zoo animals people talking about homes]. Similar: [\\'Creature Comforts\\', \\'Madagascar (2005 film)\\', \\'Madagascar: Escape 2 Africa\\', \\'List of British television programmes\\', \\'George of the Jungle (film)\\', \\'Turning Red\\', \\'Zootopia\\', \\'List of Toon In with Me episodes\\', \\'The Rescuers\\', \\'List of Madagascar (franchise) characters\\']\\nThought: I need to narrow down my search to find the specific animation comedy involving animated zoo animals and people talking about their homes. I should search for \"Creature Comforts\" as it seems to be related to the topic. \\nAction: Search[Creature Comforts]\\nObservation 4: Creature Comforts is a British adult stop-motion comedy mockumentary franchise originating in a 1989 British humorous animated short film of the same name. The film matched animated zoo animals with a soundtrack of people talking about their homes, making it appear as if the animals were being interviewed about their living conditions. It was created by Nick Park and Aardman Animations. The film later became the basis of a series of television advertisements for the electricity boards in the United Kingdom, and in 2003, a television series in the same style was released. An American version of the series was also made.\\nThought: I have found that the animation comedy involving animated zoo animals and people talking about their homes that was created by Nick Park is \"Creature Comforts.\" Now, I need to finish and provide the answer. \\nAction: Finish[Creature Comforts]\\nObservation 5: Creature Comforts\\n\\nFAILED TRIAL:\\n\\nThought: I need to search for information on The Missouri Compromise and find out where the first governor after it was from.\\nAction: Search[The Missouri Compromise]\\nObservation 1: The Missouri Compromise (also known as the Compromise of 1820) was a federal legislation of the United States that balanced desires of northern states to prevent expansion of slavery in the country with those of southern states to expand it. It admitted Missouri as a slave state and Maine as a free state and declared a policy of prohibiting slavery in the remaining Louisiana Purchase lands north of the 36°30′ parallel. The 16th United States Congress passed the legislation on March 3, 1820, and President James Monroe signed it on March 6, 1820.Earlier, in February 1819, Representative James Tallmadge Jr., a Democratic-Republican (Jeffersonian Republican) from New York, had submitted two amendments to Missouri\\'s request for statehood that included restrictions on slavery. Southerners objected to any bill that imposed federal restrictions on slavery and believed that it was a state issue, as settled by the Constitution. However, with the Senate evenly split at the opening of the debates, both sections possessing 11 states, the admission of Missouri as a slave state would give the South an advantage. Northern critics including Federalists and Democratic-Republicans objected to the expansion of slavery into the Louisiana Purchase territory on the Constitutional inequalities of the three-fifths rule, which conferred Southern representation in the federal government derived from a state\\'s slave population.Jeffersonian Republicans in the North ardently maintained that a strict interpretation of the Constitution required that Congress act to limit the spread of slavery on egalitarian grounds. \"[Northern] Republicans rooted their antislavery arguments, not on expediency, but in egalitarian morality.\" \"The Constitution [said northern Jeffersonians], strictly interpreted, gave the sons of the founding generation the legal tools to hasten [the] removal [of slavery], including the refusal to admit additional slave states.\"When free-soil Maine offered its petition for statehood, the Senate quickly linked the Maine and Missouri bills, making Maine admission a condition for Missouri entering the Union as a slave state. Senator Jesse B. Thomas of Illinois added a compromise proviso that excluded slavery from all remaining lands of the Louisiana Purchase north of the 36° 30\\' parallel. The combined measures passed the Senate, only to be voted down in the House by Northern representatives who held out for a free Missouri. Speaker of the House Henry Clay of Kentucky, in a desperate bid to break the deadlock, divided the Senate bills. Clay and his pro-compromise allies succeeded in pressuring half of the anti-restrictionist Southerners in the House to submit to the passage of the Thomas proviso and maneuvered a number of restrictionist northerners in the House to acquiesce in supporting Missouri as a slave state. While the Missouri question in the 15th Congress ended in stalemate on March 4, 1819, with the House sustaining its northern anti-slavery position and the Senate blocking a state that restricted slavery, it succeeded in the 16th Congress.The Missouri Compromise was very controversial, and many worried that the country had become lawfully divided along sectarian lines. The Kansas–Nebraska Act effectively repealed the bill in 1854, and the Supreme Court declared it unconstitutional in Dred Scott v. Sandford (1857), both of which increased tensions over slavery and contributed to the American Civil War. The compromise both delayed the Civil War and sowed its seeds; Thomas Jefferson writing contemporaneously predicted the line it had drawn would someday tear the Union apart. 40 years later, the North and South would split closely along the 36°30′ parallel and fight for four bloody years.\\nThought: The passage does not mention the first governor after The Missouri Compromise. I need to look up the first governor after The Missouri Compromise to find out where they were from.\\nAction: Search[first governor after The Missouri Compromise]\\nObservation 2: The Missouri Compromise (also known as the Compromise of 1820) was a federal legislation of the United States that balanced desires of northern states to prevent expansion of slavery in the country with those of southern states to expand it. It admitted Missouri as a slave state and Maine as a free state and declared a policy of prohibiting slavery in the remaining Louisiana Purchase lands north of the 36°30′ parallel. The 16th United States Congress passed the legislation on March 3, 1820, and President James Monroe signed it on March 6, 1820.Earlier, in February 1819, Representative James Tallmadge Jr., a Democratic-Republican (Jeffersonian Republican) from New York, had submitted two amendments to Missouri\\'s request for statehood that included restrictions on slavery. Southerners objected to any bill that imposed federal restrictions on slavery and believed that it was a state issue, as settled by the Constitution. However, with the Senate evenly split at the opening of the debates, both sections possessing 11 states, the admission of Missouri as a slave state would give the South an advantage. Northern critics including Federalists and Democratic-Republicans objected to the expansion of slavery into the Louisiana Purchase territory on the Constitutional inequalities of the three-fifths rule, which conferred Southern representation in the federal government derived from a state\\'s slave population.Jeffersonian Republicans in the North ardently maintained that a strict interpretation of the Constitution required that Congress act to limit the spread of slavery on egalitarian grounds. \"[Northern] Republicans rooted their antislavery arguments, not on expediency, but in egalitarian morality.\" \"The Constitution [said northern Jeffersonians], strictly interpreted, gave the sons of the founding generation the legal tools to hasten [the] removal [of slavery], including the refusal to admit additional slave states.\"When free-soil Maine offered its petition for statehood, the Senate quickly linked the Maine and Missouri bills, making Maine admission a condition for Missouri entering the Union as a slave state. Senator Jesse B. Thomas of Illinois added a compromise proviso that excluded slavery from all remaining lands of the Louisiana Purchase north of the 36° 30\\' parallel. The combined measures passed the Senate, only to be voted down in the House by Northern representatives who held out for a free Missouri. Speaker of the House Henry Clay of Kentucky, in a desperate bid to break the deadlock, divided the Senate bills. Clay and his pro-compromise allies succeeded in pressuring half of the anti-restrictionist Southerners in the House to submit to the passage of the Thomas proviso and maneuvered a number of restrictionist northerners in the House to acquiesce in supporting Missouri as a slave state. While the Missouri question in the 15th Congress ended in stalemate on March 4, 1819, with the House sustaining its northern anti-slavery position and the Senate blocking a state that restricted slavery, it succeeded in the 16th Congress.The Missouri Compromise was very controversial, and many worried that the country had become lawfully divided along sectarian lines. The Kansas–Nebraska Act effectively repealed the bill in 1854, and the Supreme Court declared it unconstitutional in Dred Scott v. Sandford (1857), both of which increased tensions over slavery and contributed to the American Civil War. The compromise both delayed the Civil War and sowed its seeds; Thomas Jefferson writing contemporaneously predicted the line it had drawn would someday tear the Union apart. 40 years later, the North and South would split closely along the 36°30′ parallel and fight for four bloody years.\\nThought: The passage does not mention the first governor after The Missouri Compromise. I need to refine my search to find information specifically about the first governor after The Missouri Compromise.\\nAction: Search[First governor after The Missouri Compromise]\\nObservation 3: The Missouri Compromise (also known as the Compromise of 1820) was a federal legislation of the United States that balanced desires of northern states to prevent expansion of slavery in the country with those of southern states to expand it. It admitted Missouri as a slave state and Maine as a free state and declared a policy of prohibiting slavery in the remaining Louisiana Purchase lands north of the 36°30′ parallel. The 16th United States Congress passed the legislation on March 3, 1820, and President James Monroe signed it on March 6, 1820.Earlier, in February 1819, Representative James Tallmadge Jr., a Democratic-Republican (Jeffersonian Republican) from New York, had submitted two amendments to Missouri\\'s request for statehood that included restrictions on slavery. Southerners objected to any bill that imposed federal restrictions on slavery and believed that it was a state issue, as settled by the Constitution. However, with the Senate evenly split at the opening of the debates, both sections possessing 11 states, the admission of Missouri as a slave state would give the South an advantage. Northern critics including Federalists and Democratic-Republicans objected to the expansion of slavery into the Louisiana Purchase territory on the Constitutional inequalities of the three-fifths rule, which conferred Southern representation in the federal government derived from a state\\'s slave population.Jeffersonian Republicans in the North ardently maintained that a strict interpretation of the Constitution required that Congress act to limit the spread of slavery on egalitarian grounds. \"[Northern] Republicans rooted their antislavery arguments, not on expediency, but in egalitarian morality.\" \"The Constitution [said northern Jeffersonians], strictly interpreted, gave the sons of the founding generation the legal tools to hasten [the] removal [of slavery], including the refusal to admit additional slave states.\"When free-soil Maine offered its petition for statehood, the Senate quickly linked the Maine and Missouri bills, making Maine admission a condition for Missouri entering the Union as a slave state. Senator Jesse B. Thomas of Illinois added a compromise proviso that excluded slavery from all remaining lands of the Louisiana Purchase north of the 36° 30\\' parallel. The combined measures passed the Senate, only to be voted down in the House by Northern representatives who held out for a free Missouri. Speaker of the House Henry Clay of Kentucky, in a desperate bid to break the deadlock, divided the Senate bills. Clay and his pro-compromise allies succeeded in pressuring half of the anti-restrictionist Southerners in the House to submit to the passage of the Thomas proviso and maneuvered a number of restrictionist northerners in the House to acquiesce in supporting Missouri as a slave state. While the Missouri question in the 15th Congress ended in stalemate on March 4, 1819, with the House sustaining its northern anti-slavery position and the Senate blocking a state that restricted slavery, it succeeded in the 16th Congress.The Missouri Compromise was very controversial, and many worried that the country had become lawfully divided along sectarian lines. The Kansas–Nebraska Act effectively repealed the bill in 1854, and the Supreme Court declared it unconstitutional in Dred Scott v. Sandford (1857), both of which increased tensions over slavery and contributed to the American Civil War. The compromise both delayed the Civil War and sowed its seeds; Thomas Jefferson writing contemporaneously predicted the line it had drawn would someday tear the Union apart. 40 years later, the North and South would split closely along the 36°30′ parallel and fight for four bloody years.\\n\\nHere are the EXISTING RULES:\\n1. \\n\\nBy examining and contrasting to the successful trial, and the list of existing rules, you can perform the following operations: add, edit, remove, or agree so that the new list of rules is GENERAL and HIGH LEVEL critiques of the failed trial or proposed way of Thought so they can be used to avoid similar failures when encountered with different questions in the future. Have an emphasis on critiquing how to perform better Thought and Action. Follow the below format:\\n\\n<OPERATION> <RULE NUMBER>: <RULE>\\n\\nThe available operations are: AGREE (if the existing rule is strongly relevant for the task), REMOVE (if one existing rule is contradictory or similar/duplicated to other existing rules), EDIT (if any existing rule is not general enough or can be enhanced, rewrite and improve it), ADD (add new rules that are very different from existing rules and relevant for other tasks). Each needs to CLOSELY follow their corresponding formatting below (any existing rule not edited, not agreed, nor removed is considered copied):\\n\\nAGREE <EXISTING RULE NUMBER>: <EXISTING RULE>\\nREMOVE <EXISTING RULE NUMBER>: <EXISTING RULE>\\nEDIT <EXISTING RULE NUMBER>: <NEW MODIFIED RULE>\\nADD <NEW RULE NUMBER>: <NEW RULE>\\n\\nDo not mention the trials in the rules because all the rules should be GENERALLY APPLICABLE. Each rule should be concise and easy to follow. Any operation can be used MULTIPLE times. Do at most 4 operations and each existing rule can only get a maximum of 1 operation. Below are the operations you do to the above list of EXISTING RULES:')]"
      ]
     },
     "execution_count": 16,
     "metadata": {},
     "output_type": "execute_result"
    }
   ],
   "source": [
    "compare_prompt_msgs = collapse_prompts(compare_prompt_msgs)\n",
    "compare_prompt_msgs"
   ]
  },
  {
   "cell_type": "code",
   "execution_count": 25,
   "metadata": {},
   "outputs": [],
   "source": [
    "from langchain_core.language_models.chat_models import BaseChatModel\n",
    "\n",
    "def _prompt_compare_critique(compare_prompt_msgs: List[HumanMessage], llm: BaseChatModel, replace_newline: bool = False):\n",
    "    out = llm(compare_prompt_msgs).content.strip('\\n').strip()\n",
    "    if replace_newline:\n",
    "        out = out.replace('\\n', '')\n",
    "    return out"
   ]
  },
  {
   "cell_type": "code",
   "execution_count": 26,
   "metadata": {},
   "outputs": [],
   "source": [
    "out = _prompt_compare_critique(compare_prompt_msgs, llm)"
   ]
  },
  {
   "cell_type": "code",
   "execution_count": 27,
   "metadata": {},
   "outputs": [],
   "source": [
    "import re\n",
    "\n",
    "def parse_rules(llm_text):\n",
    "    pattern = r'((?:REMOVE|EDIT|ADD|AGREE)(?: \\d+|)): (?:[a-zA-Z\\s\\d]+: |)(.*)'\n",
    "    matches = re.findall(pattern, llm_text)\n",
    "\n",
    "    res = []\n",
    "    banned_words = ['ADD', 'AGREE', 'EDIT']\n",
    "    for operation, text in matches:\n",
    "        text = text.strip()\n",
    "        if text != '' and not any([w in text for w in banned_words]) and text.endswith('.'):\n",
    "        # if text is not empty\n",
    "        # if text doesn't contain banned words (avoid weird formatting cases from llm)\n",
    "        # if text ends with a period (avoid cut off sentences from llm)\n",
    "            if 'ADD' in operation:\n",
    "                res.append(('ADD', text))\n",
    "            else:\n",
    "                res.append((operation.strip(), text))\n",
    "    return(res)"
   ]
  },
  {
   "cell_type": "code",
   "execution_count": 28,
   "metadata": {},
   "outputs": [
    {
     "data": {
      "text/plain": [
       "[('ADD',\n",
       "  'Clearly define the specific information needed to answer the question.'),\n",
       " ('EDIT 3',\n",
       "  'Refine search terms if initial search does not yield relevant results.'),\n",
       " ('REMOVE 2', 'Avoid redundant searches for the same information.'),\n",
       " ('AGREE 4',\n",
       "  'Narrow down search results to find specific information needed for the answer.')]"
      ]
     },
     "execution_count": 28,
     "metadata": {},
     "output_type": "execute_result"
    }
   ],
   "source": [
    "parse_rules(out)"
   ]
  },
  {
   "cell_type": "code",
   "execution_count": null,
   "metadata": {},
   "outputs": [],
   "source": [
    "from typing import Tuple\n",
    "\n",
    "def create_rules(experiences: Dict[str, List], categories: Dict[str, int], train_idxs: List[int]):\n",
    "    rule_items = []\n",
    "    rule_items_with_count: List[Tuple[str, int]] = []\n",
    "\n",
    "    # Intersect between train_idxs and each category (compare, success, fail).\n",
    "    train_category_idxs = {\n",
    "        category: list(set(train_idxs).intersection(set(category_idxs))) \\\n",
    "            for category, category_idxs in categories.items()\n",
    "    }\n",
    "\n",
    "    # Compare.\n",
    "    for train_idx in train_category_idxs[\"compare\"]:\n",
    "        question = experiences[\"questions\"][train_idx]\n",
    "        key = experiences[\"keys\"][train_idx]\n",
    "        trajectory = experiences[\"trajectories\"][train_idx]\n",
    "        reflection = experiences[\"reflections\"][train_idx]\n",
    "\n",
    "    # Success.\n",
    "    for train_idx in train_category_idxs[\"success\"]:\n",
    "        question = experiences[\"questions\"][train_idx]\n",
    "        key = experiences[\"keys\"][train_idx]\n",
    "        trajectory = experiences[\"trajectories\"][train_idx]\n",
    "        reflection = experiences[\"reflections\"][train_idx]\n",
    "    \n",
    "    # Fail.\n",
    "    for train_idx in train_category_idxs[\"fail\"]:\n",
    "        question = experiences[\"questions\"][train_idx]\n",
    "        key = experiences[\"keys\"][train_idx]\n",
    "        trajectory = experiences[\"trajectories\"][train_idx]\n",
    "        reflection = experiences[\"reflections\"][train_idx]\n"
   ]
  },
  {
   "cell_type": "code",
   "execution_count": null,
   "metadata": {},
   "outputs": [],
   "source": [
    "for fold, train_idxs in folds.items():\n",
    "    print(fold, train_idxs)\n",
    "    create_rules(experiences, categories, train_idxs)"
   ]
  },
  {
   "cell_type": "code",
   "execution_count": null,
   "metadata": {},
   "outputs": [],
   "source": [
    "for k, eval_idxs in enumerate(eval_idx_list):\n",
    "    if k < starting_fold:\n",
    "        continue\n",
    "    training_ids = set(range(num_training_tasks)) - set(eval_idxs)\n",
    "    (SAVE_PATH / f\"fold_{k}\").mkdir(exist_ok=True)\n",
    "    log += f'################## FOLD {k} ##################\\n'\n",
    "    log += react_agent.create_rules(\n",
    "        list(training_ids),\n",
    "        cache_fold=k,\n",
    "        logging_dir=str(SAVE_PATH / f\"fold_{k}\"),\n",
    "        run_name=cfg.run_name,\n",
    "        loaded_dict=dicts[-1] if resume and resume_starting_fold == starting_fold else None,\n",
    "        loaded_log=critique_summary_log if resume and resume_starting_fold == starting_fold else None,\n",
    "        eval_idx_list=eval_idx_list,\n",
    "        saving_dict=True,\n",
    "    )\n",
    "    starting_fold += 1"
   ]
  }
 ],
 "metadata": {
  "kernelspec": {
   "display_name": "discussion-agents",
   "language": "python",
   "name": "python3"
  },
  "language_info": {
   "codemirror_mode": {
    "name": "ipython",
    "version": 3
   },
   "file_extension": ".py",
   "mimetype": "text/x-python",
   "name": "python",
   "nbconvert_exporter": "python",
   "pygments_lexer": "ipython3",
   "version": "3.10.13"
  }
 },
 "nbformat": 4,
 "nbformat_minor": 2
}
