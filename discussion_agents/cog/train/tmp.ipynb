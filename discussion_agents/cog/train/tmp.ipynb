{
 "cells": [
  {
   "cell_type": "code",
   "execution_count": 16,
   "metadata": {},
   "outputs": [],
   "source": [
    "from discussion_agents.cog.agent.reflexion import ReflexionReActAgent\n",
    "from langchain_community.chat_models import ChatOpenAI\n",
    "\n",
    "import dotenv\n",
    "import os\n",
    "\n",
    "dotenv.load_dotenv(\"../.env\")\n",
    "openai_api_key = os.getenv(\"OPENAI_API_KEY\")\n",
    "llm = ChatOpenAI(model_name=\"gpt-3.5-turbo-0125\", openai_api_key=openai_api_key)\n",
    "\n",
    "question = \"VIVA Media AG changed it's name in 2004. What does their new acronym stand for?\"\n",
    "key = \"Gesellschaft mit beschränkter Haftung\"\n",
    "\n",
    "agent = ReflexionReActAgent(\n",
    "    self_reflect_llm=llm,\n",
    "    action_llm=llm,\n",
    "    max_steps=7,\n",
    "    max_trials=3,\n",
    ")"
   ]
  },
  {
   "cell_type": "code",
   "execution_count": 17,
   "metadata": {},
   "outputs": [],
   "source": [
    "from typing import List \n",
    "\n",
    "def gather_experience(\n",
    "    reflexion_react_agent: ReflexionReActAgent,\n",
    "    questions: List[str],\n",
    "    keys: List[str],\n",
    "    strategy: str = \"reflexion\",\n",
    "):\n",
    "    out = {\n",
    "        \"idx\": [],\n",
    "        \"questions\": [],\n",
    "        \"keys\": [],\n",
    "        \"trajectories\": [],\n",
    "        \"reflections\": []\n",
    "    }\n",
    "    for idx, (question, key) in enumerate(zip(questions, keys)):\n",
    "        out[\"idx\"].append(idx)\n",
    "        out[\"questions\"].append(question)\n",
    "        out[\"keys\"].append(key)\n",
    "        trajs = reflexion_react_agent.generate(\n",
    "            question=question, key=key, strategy=strategy\n",
    "        )\n",
    "        out[\"trajectories\"].append(trajs)\n",
    "    return out"
   ]
  },
  {
   "cell_type": "code",
   "execution_count": 18,
   "metadata": {},
   "outputs": [
    {
     "data": {
      "text/plain": [
       "{'idx': [0],\n",
       " 'questions': [\"VIVA Media AG changed it's name in 2004. What does their new acronym stand for?\"],\n",
       " 'keys': ['Gesellschaft mit beschränkter Haftung'],\n",
       " 'trajectories': [[\"\\nThought: I need to search for VIVA Media AG to find out their new acronym and what it stands for.\\nAction: Search[VIVA Media AG]\\nObservation 1: Could not find [VIVA Media AG]. Similar: ['MTV Music (Polish TV channel)', 'VIVA Plus', 'Paramount International Networks', 'VIVA (German TV channel)', 'Viacom (1952–2005)', 'Vauxhall Viva', 'GfK Entertainment charts', 'Lindt', 'Spellbound Entertainment', 'List of multinational corporations']\\nThought: I should try searching for VIVA Media AG on Wikipedia to get more information, as the initial search did not yield relevant results.\\nAction: Search[VIVA Media AG Wikipedia]\\nObservation 2: Could not find [VIVA Media AG Wikipedia]. Similar: ['VIVA (German TV channel)', 'Spellbound Entertainment', 'Julie Meyer', 'Opel Astra', 'Sildenafil', 'Brainpool TV', 'Mobile network codes in ITU region 3xx (North America)', 'Springer Publishing', 'Holden Torana', 'Bosch (company)']\\nThought: I should try searching for the history of VIVA Media AG to see when they changed their name and what their new acronym stands for.\\nAction: Search[History of VIVA Media AG name change]\\nObservation 3: Could not find [History of VIVA Media AG name change]. Similar: ['Vauxhall Viva', 'GfK Entertainment charts', 'Lindt', 'Channel 21 (German TV network)', 'Altium', 'Viacom (1952–2005)', 'Puma (brand)', 'Priscilla Presley', 'Opel Astra', 'Sigg']\\nThought: I should try searching for the specific year 2004 when VIVA Media AG changed its name to narrow down the search results.\\nAction: Search[VIVA Media AG name change 2004]\\nObservation 4: Could not find [VIVA Media AG name change 2004]. Similar: ['Vauxhall Viva', 'GfK Entertainment charts', 'Opel Astra', 'Puma (brand)', 'About You Now', 'Priscilla Presley', 'Altium', 'Sildenafil', 'Daihatsu Mira', 'Schneider Electric']\\nThought: I need to find a different approach to gather information about VIVA Media AG's name change and their new acronym. Perhaps I can search for news articles or press releases related to this event.\\nAction: Search[VIVA Media AG name change press release]\\nObservation 5: Could not find [VIVA Media AG name change press release]. Similar: ['Priscilla Presley', 'Schneider Electric', 'Opel Astra', 'Volkswagen Golf Mk7', 'Lake Las Vegas', 'Bosch (company)', 'Altium', 'Sildenafil', 'Puma (brand)', 'Christina Aguilera']\\nThought: I should try searching for any articles or announcements related to VIVA Media AG's name change in 2004. It may provide information on their new acronym and what it stands for.\\nAction: Search[VIVA Media AG name change 2004 announcement]\\nObservation 6: Could not find [VIVA Media AG name change 2004 announcement]. Similar: ['Christina Aguilera', 'Lionsgate', 'Columbus Day', 'Warner Music Group', 'Opel Senator', 'Andrés Manuel López Obrador', 'Bryan Adams', 'Kurds', 'PolyGram', 'Stokely Carmichael']\\nThought: I should try searching for any official statements or company updates from VIVA Media AG in 2004 regarding their name change. This may lead me to the information about their new acronym and its meaning.\\nAction: Search[VIVA Media AG official statement name change 2004]\\nObservation 7: Could not find [VIVA Media AG official statement name change 2004]. Similar: ['Opel Astra', 'Puma (brand)', 'Priscilla Presley', 'Schneider Electric', 'Bosch (company)', 'People for the Ethical Treatment of Animals', 'Daihatsu Mira', 'Mediaspree', 'Christina Aguilera', 'Tommy Suharto']\",\n",
       "   \"\\nThought: I should consider searching for any industry reports or publications that may have covered VIVA Media AG's name change in 2004. Additionally, reaching out directly to the company or their representatives for information on their new acronym could provide accurate and reliable information. This approach may yield the specific details needed to answer the question correctly.\\nAction: Search[VIVA Media AG industry reports name change 2004]\\nObservation 1: Could not find [VIVA Media AG industry reports name change 2004]. Similar: ['GfK Entertainment charts', 'Bosch (company)', 'Puma (brand)', 'People for the Ethical Treatment of Animals', 'Altium', 'Schneider Electric', 'Chiquita', 'Rolling Stone', 'Warner Music Group', 'Tomy Winata']\\nThought: I should try to directly contact VIVA Media AG or their representatives to inquire about their name change in 2004 and the new acronym. This direct approach may provide the most accurate and reliable information to answer the question correctly. Additionally, I could search for any company announcements or press releases related to the name change, as they may contain the details I need.\\nAction: Search[VIVA Media AG contact information]\\nObservation 2: Could not find [VIVA Media AG contact information]. Similar: ['Ag-gag', 'Voice of America', 'Altium', 'Priscilla Presley', 'Chiquita', 'People for the Ethical Treatment of Animals', 'List of telephone operating companies', 'Mediaspree', 'Cagayan de Oro', 'List of graphic adventure games']\\nThought: I should explore alternative sources such as business directories, industry databases, or financial reports to find contact information for VIVA Media AG. This approach may lead me to the relevant information about their name change in 2004 and their new acronym. Additionally, I can try searching for any official regulatory filings or disclosures that VIVA Media AG may have made regarding their name change, as these documents often contain detailed information about corporate events. This diversified search strategy may help me gather the specific details needed to answer the question accurately.\\nAction: Search[VIVA Media AG financial reports 2004]\\nObservation 3: Could not find [VIVA Media AG financial reports 2004]. Similar: ['Springer Publishing', 'Priscilla Presley', 'Puma (brand)', 'Schneider Electric', 'Kimberly-Clark', 'Bosch (company)', 'Sildenafil', 'Tommy Suharto', 'Chiquita', 'Altium']\\nThought: I should try a different approach to gather information about VIVA Media AG's name change and their new acronym. One potential strategy could be to search for any articles or announcements related to the company's history or changes in leadership, as these sources may contain details about the name change in 2004. Additionally, I could search for any industry analyses or reports on VIVA Media AG that may mention the name change and its implications. By broadening the scope of my search and considering various sources beyond Wikipedia, I may be able to find the specific information needed to answer the question accurately.\\nAction: Search[VIVA Media AG name change 2004 analysis]\\nObservation 4: Could not find [VIVA Media AG name change 2004 analysis]. Similar: ['GfK Entertainment charts', 'Sildenafil', 'Altium', 'Attention deficit hyperactivity disorder', 'People for the Ethical Treatment of Animals', 'Christina Aguilera', 'Voice of America', 'Coeliac disease', 'Girl on Fire (song)', 'The Monster (song)']\\nThought: I should consider reaching out to industry experts or business analysts who may have knowledge about VIVA Media AG's name change in 2004 and the new acronym. They could provide insights or point me in the right direction to gather the necessary information. Additionally, I could search for any interviews or discussions with VIVA Media AG executives or employees that may shed light on the name change and its implications. By leveraging external expertise and firsthand accounts, I may be able to uncover the specific details needed to answer the question accurately.\\nAction: Search[VIVA Media AG industry experts name change 2004]\\nObservation 5: Could not find [VIVA Media AG industry experts name change 2004]. Similar: ['Puma (brand)', 'People for the Ethical Treatment of Animals', 'Schneider Electric', 'Rolling Stone', 'List of Sony Pictures Television programs', 'Cagayan de Oro', 'Tulsa, Oklahoma', 'Fur farming', 'Renault', 'Ferdinand Marcos']\\nThought: Given the repeated failures in finding information about VIVA Media AG's name change and new acronym through online searches, I should consider alternative approaches. One option is to directly contact VIVA Media AG or their representatives to inquire about the specific details of their name change in 2004 and the meaning of their new acronym. Additionally, I could explore business directories, industry databases, or financial reports to find contact information for the company. This direct approach may provide the most reliable and accurate information to answer the question correctly.\\nAction: Search[VIVA Media AG contact information]\\nObservation 6: Could not find [VIVA Media AG contact information]. Similar: ['Ag-gag', 'Voice of America', 'Altium', 'Priscilla Presley', 'Chiquita', 'People for the Ethical Treatment of Animals', 'List of telephone operating companies', 'Mediaspree', 'Cagayan de Oro', 'List of graphic adventure games']\\nThought: Given the repeated difficulty in finding information about VIVA Media AG's name change and the new acronym through online searches, I should consider a more direct approach. I will reach out to VIVA Media AG or their representatives directly to inquire about the specific details of their name change in 2004 and the meaning of their new acronym. This direct communication may provide the most accurate and reliable information to correctly answer the question.\\nAction: Search[VIVA Media AG official website contact]\\nObservation 7: Chocoladefabriken Lindt & Sprüngli AG, doing business as Lindt, is a Swiss chocolatier and confectionery company founded in 1845 and known for its chocolate truffles and chocolate bars, among other sweets. It is based in Kilchberg, where its main factory and museum are located. Lindt is one of the largest Swiss chocolate manufacturers.\",\n",
       "   \"\\nThought: The search results are still not relevant to the information I need about VIVA Media AG's name change and new acronym. Since the direct approach of searching for contact information on their official website did not yield the desired results, I may need to explore other avenues to gather this specific information. One alternative could be to search for any recent news articles or press releases related to VIVA Media AG, as these sources may contain details about their corporate events, including the name change in 2004. Additionally, I could consider reaching out to industry experts or analysts who may have insights into this topic. By expanding my search to different sources and exploring multiple avenues, I may be able to find the necessary information to answer the question accurately.\\nAction: Search[VIVA Media AG name change news articles 2004]\\nObservation 1: Could not find [VIVA Media AG name change news articles 2004]. Similar: ['Vauxhall Viva', 'GfK Entertainment charts', 'Opel Astra', 'Index of Singapore-related articles', 'Priscilla Presley', 'Puma (brand)', 'Viacom (1952–2005)', 'About You Now', 'Voice of America', 'Schneider Electric']\"]],\n",
       " 'reflections': []}"
      ]
     },
     "execution_count": 18,
     "metadata": {},
     "output_type": "execute_result"
    },
    {
     "ename": "",
     "evalue": "",
     "output_type": "error",
     "traceback": [
      "\u001b[1;31mThe Kernel crashed while executing code in the current cell or a previous cell. \n",
      "\u001b[1;31mPlease review the code in the cell(s) to identify a possible cause of the failure. \n",
      "\u001b[1;31mClick <a href='https://aka.ms/vscodeJupyterKernelCrash'>here</a> for more info. \n",
      "\u001b[1;31mView Jupyter <a href='command:jupyter.viewOutput'>log</a> for further details."
     ]
    }
   ],
   "source": [
    "out = gather_experience(agent, questions=[question], keys=[key])\n",
    "out"
   ]
  },
  {
   "cell_type": "code",
   "execution_count": 13,
   "metadata": {},
   "outputs": [],
   "source": [
    "agent = ReflexionReActAgent(\n",
    "    self_reflect_llm=llm,\n",
    "    action_llm=llm,\n",
    "    max_steps=7,\n",
    "    max_trials=3,\n",
    ")\n",
    "trajs = agent.generate(\n",
    "    question=question, key=key, strategy=\"reflexion\"\n",
    ")"
   ]
  },
  {
   "cell_type": "code",
   "execution_count": 14,
   "metadata": {},
   "outputs": [
    {
     "data": {
      "text/plain": [
       "['\\nThought: I need to search for VIVA Media AG and find out what their new acronym stands for after changing their name in 2004. Let\\'s start by searching for VIVA Media AG.\\nAction: Search[VIVA Media AG]\\nObservation 1: Could not find [VIVA Media AG]. Similar: [\\'MTV Music (Polish TV channel)\\', \\'VIVA Plus\\', \\'Paramount International Networks\\', \\'VIVA (German TV channel)\\', \\'Viacom (1952–2005)\\', \\'Vauxhall Viva\\', \\'GfK Entertainment charts\\', \\'Lindt\\', \\'Spellbound Entertainment\\', \\'List of multinational corporations\\']\\nThought: I couldn\\'t find VIVA Media AG, but there are similar entities like VIVA (German TV channel) and VIVA Plus. Let\\'s try searching for VIVA (German TV channel) to see if we can find information about the name change and their new acronym.\\nAction: Search[VIVA (German TV channel)]\\nObservation 2: VIVA (abbreviation for: Videoverwertungsanstalt translating to \"Video Exploitation Facility\") was a German free-to-air music television channel, first broadcast on December 1, 1993. The channel was intended to compete against MTV Europe and was the first German-language music TV channel, while MTV was only broadcast in English until the introduction of MTV Germany in 1997. It was also supposed to focus more on German music and pop culture while MTV only broadcast anglophone music by artists mostly from North America, the United Kingdom, Ireland and Australia.After years of competition for audience share, MTV Networks Europe eventually acquired VIVA on  January 14, 2005, after it had outrun its own efforts for better ratings. MTV operated VIVA channels in Austria, Germany, Hungary, Ireland, Poland, Switzerland and the United Kingdom.In June 2018, Viacom announced that it would shut down all Viva operations worldwide at the end of 2018.The channel ceased to broadcast at 14:00 on 31 December 2018, being replaced by Comedy Central.\\nThought: The information provided does not mention the name change of VIVA Media AG in 2004 or their new acronym. I will need to search for VIVA Media AG\\'s name change in 2004 to find out their new acronym.\\nAction: Search[VIVA Media AG name change 2004]\\nObservation 3: Could not find [VIVA Media AG name change 2004]. Similar: [\\'Vauxhall Viva\\', \\'GfK Entertainment charts\\', \\'Opel Astra\\', \\'Puma (brand)\\', \\'About You Now\\', \\'Priscilla Presley\\', \\'Altium\\', \\'Sildenafil\\', \\'Daihatsu Mira\\', \\'Schneider Electric\\']\\nThought: I need to try a different approach. Let\\'s search for VIVA Media AG\\'s history or timeline to see if we can find information about their name change in 2004 and their new acronym.\\nAction: Search[VIVA Media AG history]\\nObservation 4: Could not find [VIVA Media AG history]. Similar: [\\'VIVA Plus\\', \\'MTV Music (Polish TV channel)\\', \\'Vauxhall Viva\\', \\'VIVA (German TV channel)\\', \\'GfK Entertainment charts\\', \\'Lindt\\', \\'Spellbound Entertainment\\', \\'Ag-gag\\', \\'Kimberly-Clark\\', \\'Puma (brand)\\']\\nThought: I need to refine my search terms to find information about VIVA Media AG\\'s name change in 2004 and their new acronym. Let\\'s try searching for VIVA Media AG rebranding 2004.\\nAction: Search[VIVA Media AG rebranding 2004]\\nObservation 5: Could not find [VIVA Media AG rebranding 2004]. Similar: [\\'Paramount International Networks\\', \\'Virgin Interactive Entertainment\\', \\'Viacom (1952–2005)\\', \\'Voice of America\\', \\'PolyGram\\', \\'British Midland International\\', \\'2016 in Philippine television\\', \\'Veolia Transport\\', \\'Universal Music Group\\', \\'Renault\\']\\nThought: I am struggling to find information about VIVA Media AG\\'s name change in 2004 and their new acronym. Perhaps I can try searching for VIVA Media AG acquisitions or mergers in 2004 to see if that yields any relevant information.\\nAction: Search[VIVA Media AG acquisitions 2004]\\nObservation 6: Could not find [VIVA Media AG acquisitions 2004]. Similar: [\\'Paramount International Networks\\', \\'VIVA (German TV channel)\\', \\'GfK Entertainment charts\\', \\'Schneider Electric\\', \\'Kimberly-Clark\\', \\'Viacom (1952–2005)\\', \\'Altium\\', \\'Lionsgate\\', \\'Virgin Interactive Entertainment\\', \\'Puma (brand)\\']\\nThought: I am still unable to find the information about VIVA Media AG\\'s name change in 2004 and their new acronym. It seems like this specific information is not readily available through a simple search. I may need to explore other sources or conduct a more in-depth search to uncover the answer.\\nAction: Finish[unable to find information]\\nObservation 7: unable to find information',\n",
       " \"\\nThought: I may need to explore other sources such as company websites, news articles, or industry reports to uncover the information about VIVA Media AG's name change in 2004 and their new acronym. Additionally, reaching out directly to the company or industry experts may provide more insights into this specific detail.\\nAction: Finish[unable to find information]\\nObservation 1: unable to find information\",\n",
       " '\\nThought: I should consider reaching out directly to VIVA Media AG or industry experts for more insights into their name change in 2004 and their new acronym. Additionally, exploring company websites, news articles, or industry reports may provide more detailed information that may not be readily available through a simple search query.\\nAction: Finish[unable to find information]\\nObservation 1: unable to find information']"
      ]
     },
     "execution_count": 14,
     "metadata": {},
     "output_type": "execute_result"
    }
   ],
   "source": [
    "trajs"
   ]
  },
  {
   "cell_type": "code",
   "execution_count": null,
   "metadata": {},
   "outputs": [],
   "source": []
  }
 ],
 "metadata": {
  "kernelspec": {
   "display_name": "discussion-agents",
   "language": "python",
   "name": "python3"
  },
  "language_info": {
   "codemirror_mode": {
    "name": "ipython",
    "version": 3
   },
   "file_extension": ".py",
   "mimetype": "text/x-python",
   "name": "python",
   "nbconvert_exporter": "python",
   "pygments_lexer": "ipython3",
   "version": "3.10.13"
  }
 },
 "nbformat": 4,
 "nbformat_minor": 2
}
