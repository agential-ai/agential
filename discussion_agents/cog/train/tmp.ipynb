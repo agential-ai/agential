{
 "cells": [
  {
   "cell_type": "code",
   "execution_count": 1,
   "metadata": {},
   "outputs": [],
   "source": [
    "from discussion_agents.cog.agent.reflexion import ReflexionReActAgent"
   ]
  },
  {
   "cell_type": "code",
   "execution_count": 2,
   "metadata": {},
   "outputs": [],
   "source": [
    "from discussion_agents.cog.agent.reflexion import ReflexionReActAgent\n",
    "from langchain_community.chat_models import ChatOpenAI\n",
    "\n",
    "import dotenv\n",
    "import os\n",
    "\n",
    "dotenv.load_dotenv(\"../.env\")\n",
    "openai_api_key = os.getenv(\"OPENAI_API_KEY\")\n",
    "llm = ChatOpenAI(openai_api_key=openai_api_key)\n",
    "\n",
    "agent = ReflexionReActAgent(\n",
    "    self_reflect_llm=llm,\n",
    "    action_llm=llm,\n",
    "    max_steps=7,\n",
    "    max_trials=3,\n",
    ")"
   ]
  },
  {
   "cell_type": "code",
   "execution_count": 3,
   "metadata": {},
   "outputs": [
    {
     "data": {
      "text/plain": [
       "<discussion_agents.cog.agent.reflexion.ReflexionReActAgent at 0x194f1effbe0>"
      ]
     },
     "execution_count": 3,
     "metadata": {},
     "output_type": "execute_result"
    }
   ],
   "source": [
    "agent"
   ]
  },
  {
   "cell_type": "code",
   "execution_count": 4,
   "metadata": {},
   "outputs": [],
   "source": [
    "question = \"VIVA Media AG changed it's name in 2004. What does their new acronym stand for?\"\n",
    "key = \"Gesellschaft mit beschränkter Haftung\""
   ]
  },
  {
   "cell_type": "code",
   "execution_count": 5,
   "metadata": {},
   "outputs": [],
   "source": [
    "out = agent.generate(question=question, key=key, strategy=\"reflexion\")"
   ]
  },
  {
   "cell_type": "code",
   "execution_count": 6,
   "metadata": {},
   "outputs": [
    {
     "data": {
      "text/plain": [
       "3"
      ]
     },
     "execution_count": 6,
     "metadata": {},
     "output_type": "execute_result"
    }
   ],
   "source": [
    "len(out)"
   ]
  },
  {
   "cell_type": "code",
   "execution_count": 7,
   "metadata": {},
   "outputs": [
    {
     "name": "stdout",
     "output_type": "stream",
     "text": [
      "\n",
      "Thought: I need to search VIVA Media AG and find out what their new acronym stands for.\n",
      "Action: Search[VIVA Media AG]\n",
      "Observation 1: Could not find [VIVA Media AG]. Similar: ['MTV Music (Polish TV channel)', 'Paramount International Networks', 'VIVA Plus', 'VIVA (German TV channel)', 'Viacom (1952–2005)', 'Vauxhall Viva', 'GfK Entertainment charts', 'Lindt', 'Spellbound Entertainment', 'Ag-gag']\n",
      "Thought: I couldn't find an exact match for VIVA Media AG. I should try searching for the new name or any related information.\n",
      "Action: Search[VIVA Media new name]\n",
      "Observation 2: The Perodua  Viva is a city car manufactured by Malaysian automaker Perodua since 10 May 2007. At launch, Perodua marketed the Viva as a Kelisa replacement only. Later in the Viva's life, with the introduction of the 660 BX variant, the Viva finally replaced the Kancil. The Perodua Viva is based on the sixth generation Daihatsu Mira (L250). The name \"Viva\" is derived from the Italian word viva, meaning \"long live\".\n",
      "Thought: The search for VIVA Media AG did not yield any results. However, I found information about the Perodua Viva, a city car manufactured by Perodua. It seems like there might be a confusion or a mistake in the search query. I should try searching for the new name or any related information again.\n",
      "Action: Search[VIVA Media AG name change 2004]\n",
      "Observation 3: Could not find [VIVA Media AG name change 2004]. Similar: ['Vauxhall Viva', 'GfK Entertainment charts', 'Opel Astra', 'Puma (brand)', 'Priscilla Presley', 'About You Now', 'Sildenafil', 'Schneider Electric', 'Bosch (company)', 'Daihatsu Mira']\n",
      "Thought: The search for the new name or any related information did not yield any results. It seems that I am unable to find the answer to what the new acronym for VIVA Media AG stands for.\n",
      "Action: Finish[unable to find answer]\n",
      "Observation 4: unable to find answer\n"
     ]
    }
   ],
   "source": [
    "print(out[0])"
   ]
  },
  {
   "cell_type": "code",
   "execution_count": 8,
   "metadata": {},
   "outputs": [
    {
     "name": "stdout",
     "output_type": "stream",
     "text": [
      "\n",
      "Thought: I was unable to find the answer to what the new acronym for VIVA Media AG stands for. I should consider trying different search terms or looking for alternative sources of information to improve my chances of finding the answer.\n",
      "Action: Search[VIVA Media AG rebranding]\n",
      "Observation 1: Could not find [VIVA Media AG rebranding]. Similar: ['Paramount International Networks', 'Virgin Interactive Entertainment', 'Lake Las Vegas', 'Viacom (1952–2005)', 'Virgin Money UK plc', 'Voice of America', 'Universal Music Group', 'PolyGram', 'Renault', 'British Midland International']\n",
      "Thought: The search for VIVA Media AG rebranding did not yield any results. It seems that I am still unable to find the answer to what the new acronym for VIVA Media AG stands for. I should consider trying different search terms or looking for alternative sources of information to improve my chances of finding the answer.\n",
      "Action: Search[VIVA Media AG name change announcement]\n",
      "Observation 2: Could not find [VIVA Media AG name change announcement]. Similar: ['Kimberley Walsh', 'Lionsgate', 'Christina Aguilera', 'Columbus Day', 'Opel Senator', 'Andrés Manuel López Obrador', '2018 Asian Games', 'Gangnam Style', 'Warner Music Group', 'Bryan Adams']\n",
      "Thought: The search for VIVA Media AG name change announcement did not yield any results either. It seems that I am still unable to find the answer to what the new acronym for VIVA Media AG stands for. I have exhausted my search options and alternative search terms. In this case, it might be best to consider other sources of information such as company websites, news articles, or official statements. Alternatively, reaching out to VIVA Media AG directly or consulting with industry experts might provide the desired answer.\n",
      "Action: Finish[unable to find answer, consider alternative sources of information such as company websites, news articles, or official statements. Alternatively, reach out to VIVA Media AG directly or consult with industry experts.]\n",
      "Observation 3: unable to find answer, consider alternative sources of information such as company websites, news articles, or official statements. Alternatively, reach out to VIVA Media AG directly or consult with industry experts.\n"
     ]
    }
   ],
   "source": [
    "print(out[1])"
   ]
  },
  {
   "cell_type": "code",
   "execution_count": 9,
   "metadata": {},
   "outputs": [
    {
     "name": "stdout",
     "output_type": "stream",
     "text": [
      "\n",
      "Thought: I was unable to find the answer to what the new acronym for VIVA Media AG stands for. To avoid this failure in the future, I should consider trying alternative search terms such as \"VIVA Media AG rebranding\" or \"VIVA Media AG name change announcement.\" Additionally, expanding the search to include news articles, press releases, or official company statements could provide more accurate and up-to-date information. It might also be helpful to reach out to VIVA Media AG directly or consult with industry experts for insights.\n",
      "Action: Reflect on the previous failures and plan a new strategy:- One possible reason for the failure to find the answer to the question about VIVA Media AG's new acronym could be the lack of specific search terms or the absence of relevant information in the search results.- To mitigate this failure, the new plan could involve trying different search terms or looking for alternative sources of information such as company websites, news articles, or official statements.- Additionally, reaching out to VIVA Media AG directly or consulting with industry experts could provide valuable insights.- Expanding the search to include specific information about the name change, such as the year or any associated keywords, could also improve the chances of finding the answer.\n",
      "Observation 1: Invalid Action. Valid Actions are Lookup[<topic>] Search[<topic>] and Finish[<answer>].\n",
      "Thought: I need to perform a valid action. Let me try a different approach by searching for the new name of VIVA Media AG and any related information.\n",
      "Action: Search[VIVA Media AG new name]\n",
      "Observation 2: Could not find [VIVA Media AG new name]. Similar: ['Vauxhall Viva', 'MTV Music (Polish TV channel)', 'Ag-gag', 'Lindt', 'Sigg', 'Priscilla Presley', 'Kimberly-Clark', 'Luann de Lesseps', 'Channel 21 (German TV network)', 'Opel Astra']\n",
      "Thought: The search for the new name or any related information did not yield any results once again. It seems that I am still unable to find the answer to what the new acronym for VIVA Media AG stands for. I have exhausted my search options and alternative search terms. In this case, it might be best to consider other sources of information such as company websites, news articles, or official statements. Alternatively, reaching out to VIVA Media AG directly or consulting with industry experts might provide the desired answer.\n",
      "Action: Finish[unable to find answer, consider alternative sources of information such as company websites, news articles, or official statements. Alternatively, reach out to VIVA Media AG directly or consult with industry experts.]\n",
      "Observation 3: unable to find answer, consider alternative sources of information such as company websites, news articles, or official statements. Alternatively, reach out to VIVA Media AG directly or consult with industry experts.\n"
     ]
    }
   ],
   "source": [
    "print(out[2])"
   ]
  },
  {
   "cell_type": "code",
   "execution_count": 11,
   "metadata": {},
   "outputs": [
    {
     "data": {
      "text/plain": [
       "['The reason for failure in this trial was the inability to find the new name or acronym for VIVA Media AG. One possible reason for this failure could be the lack of specific information or sources regarding the name change. To mitigate this failure, the high-level plan could include trying alternative search terms such as \"VIVA Media AG rebranding\" or \"VIVA Media AG name change announcement.\" Additionally, expanding the search to include news articles, press releases, or official company statements could provide more accurate and up-to-date information.',\n",
       " 'The failure in this trial was the inability to find the answer to what the new acronym for VIVA Media AG stands for. This could be due to a lack of specific search terms or the absence of relevant information in the search results. To mitigate this failure, a new plan could involve trying different search terms or looking for alternative sources of information such as company websites, news articles, or official statements. Additionally, reaching out to VIVA Media AG directly or consulting with industry experts could provide valuable insights.']"
      ]
     },
     "execution_count": 11,
     "metadata": {},
     "output_type": "execute_result"
    }
   ],
   "source": [
    "agent.reflector.reflections"
   ]
  },
  {
   "cell_type": "code",
   "execution_count": null,
   "metadata": {},
   "outputs": [],
   "source": []
  }
 ],
 "metadata": {
  "kernelspec": {
   "display_name": "discussion-agents",
   "language": "python",
   "name": "python3"
  },
  "language_info": {
   "codemirror_mode": {
    "name": "ipython",
    "version": 3
   },
   "file_extension": ".py",
   "mimetype": "text/x-python",
   "name": "python",
   "nbconvert_exporter": "python",
   "pygments_lexer": "ipython3",
   "version": "3.10.13"
  }
 },
 "nbformat": 4,
 "nbformat_minor": 2
}
