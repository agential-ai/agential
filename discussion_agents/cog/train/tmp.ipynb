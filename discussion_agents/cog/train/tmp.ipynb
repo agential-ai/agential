{
 "cells": [
  {
   "cell_type": "code",
   "execution_count": 1,
   "metadata": {},
   "outputs": [],
   "source": [
    "from discussion_agents.cog.agent.reflexion import ReflexionReActAgent"
   ]
  },
  {
   "cell_type": "code",
   "execution_count": 2,
   "metadata": {},
   "outputs": [],
   "source": [
    "from discussion_agents.cog.agent.reflexion import ReflexionReActAgent\n",
    "from langchain_community.chat_models import ChatOpenAI\n",
    "\n",
    "import dotenv\n",
    "import os\n",
    "\n",
    "dotenv.load_dotenv(\"../.env\")\n",
    "openai_api_key = os.getenv(\"OPENAI_API_KEY\")\n",
    "llm = ChatOpenAI(openai_api_key=openai_api_key)\n",
    "\n",
    "agent = ReflexionReActAgent(\n",
    "    self_reflect_llm=llm,\n",
    "    action_llm=llm,\n",
    "    max_steps=7,\n",
    "    max_tries=3,\n",
    ")"
   ]
  },
  {
   "cell_type": "code",
   "execution_count": 3,
   "metadata": {},
   "outputs": [
    {
     "data": {
      "text/plain": [
       "<discussion_agents.cog.agent.reflexion.ReflexionReActAgent at 0x25e5a406650>"
      ]
     },
     "execution_count": 3,
     "metadata": {},
     "output_type": "execute_result"
    }
   ],
   "source": [
    "agent"
   ]
  },
  {
   "cell_type": "code",
   "execution_count": 4,
   "metadata": {},
   "outputs": [],
   "source": [
    "question = \"VIVA Media AG changed it's name in 2004. What does their new acronym stand for?\"\n",
    "key = \"Gesellschaft mit beschränkter Haftung\""
   ]
  },
  {
   "cell_type": "code",
   "execution_count": 5,
   "metadata": {},
   "outputs": [
    {
     "name": "stdout",
     "output_type": "stream",
     "text": [
      "TRIAL 0\n"
     ]
    }
   ],
   "source": [
    "out = agent.generate(question=question, key=key, strategy=\"reflexion\")"
   ]
  },
  {
   "cell_type": "code",
   "execution_count": 9,
   "metadata": {},
   "outputs": [
    {
     "data": {
      "text/plain": [
       "1"
      ]
     },
     "execution_count": 9,
     "metadata": {},
     "output_type": "execute_result"
    }
   ],
   "source": [
    "len(out)"
   ]
  },
  {
   "cell_type": "code",
   "execution_count": 10,
   "metadata": {},
   "outputs": [
    {
     "name": "stdout",
     "output_type": "stream",
     "text": [
      "\n",
      "Thought: I need to search for VIVA Media AG and find out what their new acronym stands for.\n",
      "Action: Search[VIVA Media AG]\n",
      "Observation 1: Could not find [VIVA Media AG]. Similar: ['MTV Music (Polish TV channel)', 'Paramount International Networks', 'VIVA Plus', 'VIVA (German TV channel)', 'Viacom (1952–2005)', 'Vauxhall Viva', 'GfK Entertainment charts', 'Lindt', 'Spellbound Entertainment', 'Ag-gag']\n",
      "Thought: The search for \"VIVA Media AG\" did not yield any results. I should try searching for their new acronym instead.\n",
      "Action: Search[new acronym VIVA Media AG]\n",
      "Observation 2: Could not find [new acronym VIVA Media AG]. Similar: ['Holden Torana', 'Earth Liberation Front', 'Andrés Manuel López Obrador']\n",
      "Thought: The search for the new acronym of VIVA Media AG also did not yield any results. I should try searching for any name changes or rebranding of the company in 2004.\n",
      "Action: Search[VIVA Media AG name change 2004]\n",
      "Observation 3: Could not find [VIVA Media AG name change 2004]. Similar: ['Vauxhall Viva', 'GfK Entertainment charts', 'Opel Astra', 'Puma (brand)', 'Priscilla Presley', 'About You Now', 'Sildenafil', 'Bosch (company)', 'Schneider Electric', 'Daihatsu Mira']\n",
      "Thought: The search for specific information about the name change or acronym of VIVA Media AG in 2004 did not yield any results. I should try looking for general information about the company and see if any relevant information is mentioned.\n",
      "Action: Search[VIVA Media AG general information]\n",
      "Observation 4: Could not find [VIVA Media AG general information]. Similar: ['List of assets owned by PLDT', 'Ag-gag', 'Opel Astra', 'Voice of America', 'Priscilla Presley', 'Sildenafil', 'Mobile network codes in ITU region 2xx (Europe)', 'Mobile network codes in ITU region 3xx (North America)', 'Tommy Suharto', 'List of telephone operating companies']\n",
      "Thought: The search for general information about VIVA Media AG also did not yield any results. It seems that there is limited information available about this company and its name change in 2004. Without further information, it is not possible to determine what their new acronym stands for.\n",
      "Action: Finish[unknown]\n",
      "Observation 5: unknown\n"
     ]
    }
   ],
   "source": [
    "print(out[0])"
   ]
  },
  {
   "cell_type": "code",
   "execution_count": 7,
   "metadata": {},
   "outputs": [
    {
     "data": {
      "text/plain": [
       "[]"
      ]
     },
     "execution_count": 7,
     "metadata": {},
     "output_type": "execute_result"
    }
   ],
   "source": [
    "agent.reflector.reflections"
   ]
  },
  {
   "cell_type": "code",
   "execution_count": null,
   "metadata": {},
   "outputs": [],
   "source": []
  }
 ],
 "metadata": {
  "kernelspec": {
   "display_name": "discussion-agents",
   "language": "python",
   "name": "python3"
  },
  "language_info": {
   "codemirror_mode": {
    "name": "ipython",
    "version": 3
   },
   "file_extension": ".py",
   "mimetype": "text/x-python",
   "name": "python",
   "nbconvert_exporter": "python",
   "pygments_lexer": "ipython3",
   "version": "3.10.13"
  }
 },
 "nbformat": 4,
 "nbformat_minor": 2
}
