{
 "cells": [
  {
   "cell_type": "code",
   "execution_count": 8,
   "metadata": {},
   "outputs": [],
   "source": [
    "from langchain_community.chat_models import ChatOpenAI\n",
    "import dotenv\n",
    "import os\n",
    "import joblib\n",
    "\n",
    "from discussion_agents.cog.train.expel import (\n",
    "    # Insight Extraction.\n",
    "    categorize_experiences,\n",
    "    get_folds,\n",
    "    create_rules\n",
    ")\n",
    "\n",
    "dotenv.load_dotenv(\"../.env\")\n",
    "openai_api_key = os.getenv(\"OPENAI_API_KEY\")"
   ]
  },
  {
   "cell_type": "code",
   "execution_count": 9,
   "metadata": {},
   "outputs": [],
   "source": [
    "max_num_rules = 20\n",
    "llm = ChatOpenAI(model_name=\"gpt-3.5-turbo-0125\", openai_api_key=openai_api_key)\n",
    "experiences = joblib.load(\"exp_15_compare_fake.joblib\")\n",
    "categories = categorize_experiences(experiences)\n",
    "folds = get_folds(categories, len(experiences['idxs']))"
   ]
  },
  {
   "cell_type": "code",
   "execution_count": 10,
   "metadata": {},
   "outputs": [
    {
     "name": "stdout",
     "output_type": "stream",
     "text": [
      "0 [1, 2, 3, 4, 10, 12]\n",
      "1 [0, 5, 6, 7, 8, 9, 11, 13, 14]\n"
     ]
    }
   ],
   "source": [
    "rules, rules_with_count = [], []\n",
    "for fold, train_idxs in folds.items():\n",
    "    print(fold, train_idxs)\n",
    "    rules, rules_with_count = create_rules(\n",
    "        llm, \n",
    "        experiences, \n",
    "        categories, \n",
    "        train_idxs, \n",
    "        rules, \n",
    "        rules_with_count, \n",
    "        max_num_rules\n",
    "    )"
   ]
  },
  {
   "cell_type": "code",
   "execution_count": 11,
   "metadata": {},
   "outputs": [
    {
     "data": {
      "text/plain": [
       "(['Always search for relevant keywords related to the topic to gather information efficiently and effectively.',\n",
       "  'Utilize the reflections provided to adapt search strategies and avoid repeating past failures.',\n",
       "  'Always verify the relevance of the search results before drawing conclusions.',\n",
       "  'When encountering a new topic or question, start by gathering general information about the subject before diving into specific details.',\n",
       "  'When encountering a new topic or question, prioritize gathering general information about the subject before diving into specific details to build a solid foundation for further research.',\n",
       "  'Before finishing and providing an answer, ensure that the information gathered directly addresses the specific question being asked.',\n",
       "  'Focus on exploring related terms and concepts to broaden the search and find relevant information more effectively.',\n",
       "  'When encountering a historical event or figure, consider the political context and possible consequences of their actions in order to provide a more comprehensive answer.',\n",
       "  'Focus on providing concise and direct answers to the question posed to avoid unnecessary information overload.',\n",
       "  'Focus on breaking down complex search queries into smaller, more manageable parts to avoid confusion and ensure efficient information retrieval.',\n",
       "  'When faced with a specific question, focus on extracting key information directly related to the question to avoid getting lost in irrelevant details.',\n",
       "  'Focus on cross-referencing information from multiple sources to ensure accuracy and reliability in the gathered data.'],\n",
       " [('Always search for relevant keywords related to the topic to gather information efficiently and effectively.',\n",
       "   4),\n",
       "  ('Utilize the reflections provided to adapt search strategies and avoid repeating past failures.',\n",
       "   2),\n",
       "  ('Always verify the relevance of the search results before drawing conclusions.',\n",
       "   2),\n",
       "  ('When encountering a new topic or question, start by gathering general information about the subject before diving into specific details.',\n",
       "   2),\n",
       "  ('When encountering a new topic or question, prioritize gathering general information about the subject before diving into specific details to build a solid foundation for further research.',\n",
       "   2),\n",
       "  ('Before finishing and providing an answer, ensure that the information gathered directly addresses the specific question being asked.',\n",
       "   2),\n",
       "  ('Focus on exploring related terms and concepts to broaden the search and find relevant information more effectively.',\n",
       "   2),\n",
       "  ('When encountering a historical event or figure, consider the political context and possible consequences of their actions in order to provide a more comprehensive answer.',\n",
       "   2),\n",
       "  ('Focus on providing concise and direct answers to the question posed to avoid unnecessary information overload.',\n",
       "   2),\n",
       "  ('Focus on breaking down complex search queries into smaller, more manageable parts to avoid confusion and ensure efficient information retrieval.',\n",
       "   2),\n",
       "  ('When faced with a specific question, focus on extracting key information directly related to the question to avoid getting lost in irrelevant details.',\n",
       "   2),\n",
       "  ('Focus on cross-referencing information from multiple sources to ensure accuracy and reliability in the gathered data.',\n",
       "   2)])"
      ]
     },
     "execution_count": 11,
     "metadata": {},
     "output_type": "execute_result"
    }
   ],
   "source": [
    "rules, rules_with_count"
   ]
  },
  {
   "cell_type": "code",
   "execution_count": 12,
   "metadata": {},
   "outputs": [
    {
     "data": {
      "text/plain": [
       "dict_keys(['idxs', 'questions', 'keys', 'trajectories', 'reflections'])"
      ]
     },
     "execution_count": 12,
     "metadata": {},
     "output_type": "execute_result"
    }
   ],
   "source": [
    "experiences.keys()"
   ]
  },
  {
   "cell_type": "markdown",
   "metadata": {},
   "source": [
    "# Inference"
   ]
  },
  {
   "cell_type": "code",
   "execution_count": 13,
   "metadata": {},
   "outputs": [],
   "source": [
    "from discussion_agents.cog.prompts.react import REACT_WEBTHINK_SIMPLE6_FEWSHOT_EXAMPLES"
   ]
  },
  {
   "cell_type": "code",
   "execution_count": 2,
   "metadata": {},
   "outputs": [],
   "source": [
    "fewshots = fewshots[0]\n",
    "task = fewshots.split('\\n')[0]\n",
    "trajectory = '\\n'.join(fewshots.split('\\n')[1:])"
   ]
  },
  {
   "cell_type": "code",
   "execution_count": 3,
   "metadata": {},
   "outputs": [
    {
     "data": {
      "text/plain": [
       "'Question: What is the elevation range for the area that the eastern sector of the Colorado orogeny extends into?'"
      ]
     },
     "execution_count": 3,
     "metadata": {},
     "output_type": "execute_result"
    }
   ],
   "source": [
    "task"
   ]
  },
  {
   "cell_type": "code",
   "execution_count": 5,
   "metadata": {},
   "outputs": [
    {
     "name": "stdout",
     "output_type": "stream",
     "text": [
      "Thought 1: I need to search Colorado orogeny, find the area that the eastern sector of the Colorado orogeny extends into, then find the elevation range of the area.\n",
      "Action 1: Search[Colorado orogeny]\n",
      "Observation 1: The Colorado orogeny was an episode of mountain building (an orogeny) in Colorado and surrounding areas.\n",
      "Thought 2: It does not mention the eastern sector. So I need to look up eastern sector.\n",
      "Action 2: Lookup[eastern sector]\n",
      "Observation 2: (Result 1 / 1) The eastern sector extends into the High Plains and is called the Central Plains orogeny.\n",
      "Thought 3: The eastern sector of Colorado orogeny extends into the High Plains. So I need to search High Plains and find its elevation range.\n",
      "Action 3: Search[High Plains]\n",
      "Observation 3: High Plains refers to one of two distinct land regions:\n",
      "Thought 4: I need to instead search High Plains (United States).\n",
      "Action 4: Search[High Plains (United States)]\n",
      "Observation 4: The High Plains are a subregion of the Great Plains. From east to west, the High Plains rise in elevation from around 1,800 to 7,000 ft (550 to 2,130 m).[3]\n",
      "Thought 5: High Plains rise in elevation from around 1,800 to 7,000 ft, so the answer is 1,800 to 7,000 ft.\n",
      "Action 5: Finish[1,800 to 7,000 ft]\n"
     ]
    }
   ],
   "source": [
    "print(trajectory)"
   ]
  },
  {
   "cell_type": "code",
   "execution_count": null,
   "metadata": {},
   "outputs": [],
   "source": [
    "cleaned_traj = Trajectory(\n",
    "    task=self.remove_task_suffix(task),\n",
    "    trajectory=trajectory,\n",
    "    reflections=[],\n",
    "    splitter=self.message_splitter,\n",
    "    identifier=self.identifier,\n",
    "    step_splitter=partial(\n",
    "        self.message_step_splitter,\n",
    "        stripper=self.step_stripper\n",
    "    ),\n",
    ")"
   ]
  },
  {
   "cell_type": "code",
   "execution_count": null,
   "metadata": {},
   "outputs": [],
   "source": [
    "\"\"\"\n",
    "for fold, eval_idxs in fold.items():\n",
    "    train_idxs = total - set(eval_idxs)\n",
    "    create_rules(...)\n",
    "\n",
    "    for idx in eval_idxs:\n",
    "        agent.run(...)\n",
    "\"\"\""
   ]
  },
  {
   "cell_type": "code",
   "execution_count": 15,
   "metadata": {},
   "outputs": [
    {
     "name": "stdout",
     "output_type": "stream",
     "text": [
      "[1, 2, 3, 4, 10, 12]\n",
      "[0, 5, 6, 7, 8, 9, 11, 13, 14]\n"
     ]
    }
   ],
   "source": [
    "max_num_rules = 20\n",
    "llm = ChatOpenAI(model_name=\"gpt-3.5-turbo-0125\", openai_api_key=openai_api_key)\n",
    "experiences = joblib.load(\"exp_15_compare_fake.joblib\")\n",
    "categories = categorize_experiences(experiences)\n",
    "folds = get_folds(categories, len(experiences['idxs']))\n",
    "\n",
    "rules, rules_with_count = [], []\n",
    "for fold, train_idxs in folds.items():\n",
    "    rules, rules_with_count = create_rules(\n",
    "        llm, \n",
    "        experiences, \n",
    "        categories, \n",
    "        train_idxs,\n",
    "        rules, \n",
    "        rules_with_count, \n",
    "        max_num_rules\n",
    "    )"
   ]
  },
  {
   "cell_type": "code",
   "execution_count": 17,
   "metadata": {},
   "outputs": [],
   "source": [
    "question = \"Who was once considered the best kick boxer in the world, however he has been involved in a number of controversies relating to his \\\"unsportsmanlike conducts\\\" in the sport and crimes of violence outside of the ring.\t\"\n",
    "key = \"Badr Hari\""
   ]
  },
  {
   "cell_type": "code",
   "execution_count": 21,
   "metadata": {},
   "outputs": [
    {
     "data": {
      "text/plain": [
       "['A',\n",
       " 'B',\n",
       " 'C',\n",
       " 'D',\n",
       " 'E',\n",
       " 'F',\n",
       " 'G',\n",
       " 'H',\n",
       " 'I',\n",
       " 'J',\n",
       " 'K',\n",
       " 'L',\n",
       " 'M',\n",
       " 'N',\n",
       " 'O',\n",
       " 'P',\n",
       " 'Q',\n",
       " 'R',\n",
       " 'S',\n",
       " 'T',\n",
       " 'U',\n",
       " 'V',\n",
       " 'W',\n",
       " 'X',\n",
       " 'Y',\n",
       " 'Z']"
      ]
     },
     "execution_count": 21,
     "metadata": {},
     "output_type": "execute_result"
    }
   ],
   "source": [
    "list(\"ABCDEFGHIJKLMNOPQRSTUVWXYZ\")"
   ]
  },
  {
   "cell_type": "code",
   "execution_count": null,
   "metadata": {},
   "outputs": [],
   "source": []
  },
  {
   "cell_type": "code",
   "execution_count": null,
   "metadata": {},
   "outputs": [],
   "source": []
  }
 ],
 "metadata": {
  "kernelspec": {
   "display_name": "discussion-agents",
   "language": "python",
   "name": "python3"
  },
  "language_info": {
   "codemirror_mode": {
    "name": "ipython",
    "version": 3
   },
   "file_extension": ".py",
   "mimetype": "text/x-python",
   "name": "python",
   "nbconvert_exporter": "python",
   "pygments_lexer": "ipython3",
   "version": "3.10.13"
  }
 },
 "nbformat": 4,
 "nbformat_minor": 2
}
