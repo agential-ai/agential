{
 "cells": [
  {
   "cell_type": "code",
   "execution_count": 1,
   "metadata": {},
   "outputs": [],
   "source": [
    "from langchain_community.chat_models import ChatOpenAI\n",
    "import dotenv\n",
    "import os\n",
    "import joblib\n",
    "\n",
    "from discussion_agents.cog.functional.expel import (\n",
    "    categorize_experiences,\n",
    "    get_folds,\n",
    "    create_rules,\n",
    ")\n",
    "\n",
    "dotenv.load_dotenv(\"../.env\")\n",
    "openai_api_key = os.getenv(\"OPENAI_API_KEY\")\n",
    "llm = ChatOpenAI(model_name=\"gpt-3.5-turbo-0125\", openai_api_key=openai_api_key)"
   ]
  },
  {
   "cell_type": "code",
   "execution_count": 2,
   "metadata": {},
   "outputs": [],
   "source": [
    "max_num_rules = 20\n",
    "llm = ChatOpenAI(model_name=\"gpt-3.5-turbo-0125\", openai_api_key=openai_api_key)\n",
    "experiences = joblib.load(\"../../../tests/assets/expel/expel_experiences_10_fake.joblib\")\n",
    "categories = categorize_experiences(experiences)\n",
    "folds = get_folds(categories, len(experiences['idxs']))"
   ]
  },
  {
   "cell_type": "code",
   "execution_count": 3,
   "metadata": {},
   "outputs": [
    {
     "name": "stdout",
     "output_type": "stream",
     "text": [
      "0 [1, 2, 5, 8, 9]\n",
      "1 [0, 3, 4, 6, 7]\n"
     ]
    }
   ],
   "source": [
    "rules = []\n",
    "for fold, train_idxs in folds.items():\n",
    "    print(fold, train_idxs)\n",
    "    rules = create_rules(\n",
    "        llm, \n",
    "        experiences, \n",
    "        categories, \n",
    "        train_idxs, \n",
    "        rules, \n",
    "        max_num_rules\n",
    "    )"
   ]
  },
  {
   "cell_type": "code",
   "execution_count": 4,
   "metadata": {},
   "outputs": [
    {
     "data": {
      "text/plain": [
       "[('Always ensure the search terms are specific and relevant to the question asked.',\n",
       "  2),\n",
       " ('If the initial search does not yield relevant information, try searching for related entities or topics to narrow down the search.',\n",
       "  2),\n",
       " ('Always verify the accuracy of the search results before making a conclusion.',\n",
       "  2),\n",
       " ('If the initial search terms do not produce relevant information, consider refining the search terms based on the context of the question.',\n",
       "  2),\n",
       " ('Always consider alternative search strategies or platforms if initial searches do not yield relevant information.',\n",
       "  2),\n",
       " ('If the initial search does not provide the necessary information, search for similar magazines or publications in the same industry to gather clues about the type of magazine being investigated.',\n",
       "  2),\n",
       " ('When searching for specific information, make sure to include relevant keywords related to the topic or question to narrow down the search results.',\n",
       "  2),\n",
       " ('When searching for specific information, consider looking for official company announcements or press releases to gather accurate and up-to-date information.',\n",
       "  2),\n",
       " ('Always consider reaching out directly to the company or checking their official website for specific and accurate information when traditional search methods fail to yield results.',\n",
       "  2),\n",
       " ('When searching for specific information, consider exploring different search engines or databases to gather a comprehensive set of results.',\n",
       "  2),\n",
       " ('If initial search queries do not yield relevant information, consider using advanced search operators such as quotation marks or minus sign to refine search results.',\n",
       "  2),\n",
       " ('Always keep track of previous search attempts to avoid repeating unsuccessful search queries and wasting reasoning steps.',\n",
       "  2),\n",
       " ('When searching for specific information, consider looking for biographical information or background details about individuals or creators to gather more context for the search.',\n",
       "  2),\n",
       " ('When searching for specific information about individuals or entities, ensure to include relevant descriptors or keywords that distinguish them from other entities with similar names or titles.',\n",
       "  1),\n",
       " ('When determining the type of a magazine, consider searching for specific keywords related to genres or categories to gather more specific information.',\n",
       "  1)]"
      ]
     },
     "execution_count": 4,
     "metadata": {},
     "output_type": "execute_result"
    }
   ],
   "source": [
    "rules"
   ]
  },
  {
   "cell_type": "markdown",
   "metadata": {},
   "source": [
    "# Inference"
   ]
  },
  {
   "cell_type": "code",
   "execution_count": null,
   "metadata": {},
   "outputs": [],
   "source": [
    "from discussion_agents.cog.prompts.react import REACT_WEBTHINK_SIMPLE6_FEWSHOT_EXAMPLES"
   ]
  },
  {
   "cell_type": "code",
   "execution_count": null,
   "metadata": {},
   "outputs": [],
   "source": [
    "fewshots = fewshots[0]\n",
    "task = fewshots.split('\\n')[0]\n",
    "trajectory = '\\n'.join(fewshots.split('\\n')[1:])"
   ]
  },
  {
   "cell_type": "code",
   "execution_count": null,
   "metadata": {},
   "outputs": [],
   "source": [
    "task"
   ]
  },
  {
   "cell_type": "code",
   "execution_count": null,
   "metadata": {},
   "outputs": [],
   "source": [
    "print(trajectory)"
   ]
  },
  {
   "cell_type": "code",
   "execution_count": null,
   "metadata": {},
   "outputs": [],
   "source": [
    "cleaned_traj = Trajectory(\n",
    "    task=self.remove_task_suffix(task),\n",
    "    trajectory=trajectory,\n",
    "    reflections=[],\n",
    "    splitter=self.message_splitter,\n",
    "    identifier=self.identifier,\n",
    "    step_splitter=partial(\n",
    "        self.message_step_splitter,\n",
    "        stripper=self.step_stripper\n",
    "    ),\n",
    ")"
   ]
  },
  {
   "cell_type": "code",
   "execution_count": null,
   "metadata": {},
   "outputs": [],
   "source": [
    "\"\"\"\n",
    "for fold, eval_idxs in fold.items():\n",
    "    train_idxs = total - set(eval_idxs)\n",
    "    create_rules(...)\n",
    "\n",
    "    for idx in eval_idxs:\n",
    "        agent.run(...)\n",
    "\"\"\""
   ]
  },
  {
   "cell_type": "code",
   "execution_count": null,
   "metadata": {},
   "outputs": [],
   "source": [
    "max_num_rules = 20\n",
    "llm = ChatOpenAI(model_name=\"gpt-3.5-turbo-0125\", openai_api_key=openai_api_key)\n",
    "experiences = joblib.load(\"exp_15_compare_fake.joblib\")\n",
    "categories = categorize_experiences(experiences)\n",
    "folds = get_folds(categories, len(experiences['idxs']))\n",
    "\n",
    "rules, rules_with_count = [], []\n",
    "for fold, train_idxs in folds.items():\n",
    "    rules, rules_with_count = create_rules(\n",
    "        llm, \n",
    "        experiences, \n",
    "        categories, \n",
    "        train_idxs,\n",
    "        rules, \n",
    "        rules_with_count, \n",
    "        max_num_rules\n",
    "    )"
   ]
  },
  {
   "cell_type": "code",
   "execution_count": null,
   "metadata": {},
   "outputs": [],
   "source": []
  },
  {
   "cell_type": "code",
   "execution_count": null,
   "metadata": {},
   "outputs": [],
   "source": []
  }
 ],
 "metadata": {
  "kernelspec": {
   "display_name": "discussion-agents",
   "language": "python",
   "name": "python3"
  },
  "language_info": {
   "codemirror_mode": {
    "name": "ipython",
    "version": 3
   },
   "file_extension": ".py",
   "mimetype": "text/x-python",
   "name": "python",
   "nbconvert_exporter": "python",
   "pygments_lexer": "ipython3",
   "version": "3.10.13"
  }
 },
 "nbformat": 4,
 "nbformat_minor": 2
}
