{
 "cells": [
  {
   "cell_type": "code",
   "execution_count": 1,
   "metadata": {},
   "outputs": [],
   "source": [
    "from langchain_community.chat_models import ChatOpenAI\n",
    "import dotenv\n",
    "import os\n",
    "import joblib\n",
    "\n",
    "from discussion_agents.cog.train.expel import (\n",
    "    # Insight Extraction.\n",
    "    categorize_experiences,\n",
    "    get_folds,\n",
    "    create_rules\n",
    ")\n",
    "\n",
    "dotenv.load_dotenv(\"../.env\")\n",
    "openai_api_key = os.getenv(\"OPENAI_API_KEY\")"
   ]
  },
  {
   "cell_type": "code",
   "execution_count": 2,
   "metadata": {},
   "outputs": [],
   "source": [
    "max_num_rules = 20\n",
    "llm = ChatOpenAI(model_name=\"gpt-3.5-turbo-0125\", openai_api_key=openai_api_key)\n",
    "experiences = joblib.load(\"exp_15_compare_fake.joblib\")\n",
    "categories = categorize_experiences(experiences)\n",
    "folds = get_folds(categories, len(experiences['idxs']))"
   ]
  },
  {
   "cell_type": "code",
   "execution_count": 5,
   "metadata": {},
   "outputs": [
    {
     "name": "stdout",
     "output_type": "stream",
     "text": [
      "0 [3, 4, 8, 9, 13, 14]\n",
      "1 [0, 1, 2, 5, 6, 7, 10, 11, 12]\n"
     ]
    }
   ],
   "source": [
    "rules, rules_with_count = [], []\n",
    "for fold, train_idxs in folds.items():\n",
    "    print(fold, train_idxs)\n",
    "    rules, rules_with_count = create_rules(\n",
    "        llm, \n",
    "        experiences, \n",
    "        categories, \n",
    "        train_idxs, \n",
    "        rules, \n",
    "        rules_with_count, \n",
    "        max_num_rules\n",
    "    )"
   ]
  },
  {
   "cell_type": "code",
   "execution_count": 4,
   "metadata": {},
   "outputs": [
    {
     "data": {
      "text/plain": [
       "(['Always verify the relevance and accuracy of the information found to the original question before making a conclusion, even if it seems related.',\n",
       "  'Always ensure that the information found not only directly answers the question asked but also specifically addresses the key elements of the question.',\n",
       "  'Break down complex search queries into smaller, more manageable parts to effectively find the required information.',\n",
       "  'Focus on using valid actions such as Lookup[<topic>], Search[<topic>], and Finish[<answer>] to ensure efficient progress in task completion.',\n",
       "  'Always remember to cross-reference information from multiple sources to ensure accuracy and reliability in the answer provided.'],\n",
       " [('Always verify the relevance and accuracy of the information found to the original question before making a conclusion, even if it seems related.',\n",
       "   4),\n",
       "  ('Always ensure that the information found not only directly answers the question asked but also specifically addresses the key elements of the question.',\n",
       "   3),\n",
       "  ('Break down complex search queries into smaller, more manageable parts to effectively find the required information.',\n",
       "   2),\n",
       "  ('Focus on using valid actions such as Lookup[<topic>], Search[<topic>], and Finish[<answer>] to ensure efficient progress in task completion.',\n",
       "   2),\n",
       "  ('Always remember to cross-reference information from multiple sources to ensure accuracy and reliability in the answer provided.',\n",
       "   2)])"
      ]
     },
     "execution_count": 4,
     "metadata": {},
     "output_type": "execute_result"
    }
   ],
   "source": [
    "rules, rules_with_count"
   ]
  },
  {
   "cell_type": "code",
   "execution_count": 6,
   "metadata": {},
   "outputs": [
    {
     "data": {
      "text/plain": [
       "(['Verify the relevance and accuracy of the information found in the search results to the original question before proceeding to the next step.',\n",
       "  'Lookup[<topic>], Search[<topic>], and Finish[<answer>].',\n",
       "  'Prioritize refining the search query by focusing on specific elements of the question to avoid confusion and improve search accuracy.',\n",
       "  'Always verify the relevance and accuracy of the information found in the search results before providing the final answer.',\n",
       "  'Prioritize checking for direct information related to the topic before searching for similar entities to avoid confusion and ensure relevance.',\n",
       "  'Prioritize verifying the validity of actions taken to ensure they align with the task requirements and constraints.',\n",
       "  'Prioritize verifying the relevance and accuracy of the information found in the search results before providing the final answer.',\n",
       "  'Prioritize using specific keywords related to the question in search queries to improve search accuracy and relevance.',\n",
       "  'Verify the credibility of the sources providing the information during the search process.',\n",
       "  'Prioritize using synonyms and related terms in search queries to expand the scope of information retrieval and improve the chances of finding relevant results.',\n",
       "  'Prioritize cross-referencing information from multiple sources to ensure accuracy and reliability.',\n",
       "  'Prioritize breaking down complex search queries into smaller, more manageable parts to refine the search process and avoid confusion.'],\n",
       " [('Verify the relevance and accuracy of the information found in the search results to the original question before proceeding to the next step.',\n",
       "   4),\n",
       "  ('Lookup[<topic>], Search[<topic>], and Finish[<answer>].', 2),\n",
       "  ('Prioritize refining the search query by focusing on specific elements of the question to avoid confusion and improve search accuracy.',\n",
       "   2),\n",
       "  ('Always verify the relevance and accuracy of the information found in the search results before providing the final answer.',\n",
       "   2),\n",
       "  ('Prioritize checking for direct information related to the topic before searching for similar entities to avoid confusion and ensure relevance.',\n",
       "   2),\n",
       "  ('Prioritize verifying the validity of actions taken to ensure they align with the task requirements and constraints.',\n",
       "   2),\n",
       "  ('Prioritize verifying the relevance and accuracy of the information found in the search results before providing the final answer.',\n",
       "   2),\n",
       "  ('Prioritize using specific keywords related to the question in search queries to improve search accuracy and relevance.',\n",
       "   2),\n",
       "  ('Verify the credibility of the sources providing the information during the search process.',\n",
       "   2),\n",
       "  ('Prioritize using synonyms and related terms in search queries to expand the scope of information retrieval and improve the chances of finding relevant results.',\n",
       "   2),\n",
       "  ('Prioritize cross-referencing information from multiple sources to ensure accuracy and reliability.',\n",
       "   2),\n",
       "  ('Prioritize breaking down complex search queries into smaller, more manageable parts to refine the search process and avoid confusion.',\n",
       "   1)])"
      ]
     },
     "execution_count": 6,
     "metadata": {},
     "output_type": "execute_result"
    }
   ],
   "source": [
    "rules, rules_with_count"
   ]
  },
  {
   "cell_type": "code",
   "execution_count": null,
   "metadata": {},
   "outputs": [],
   "source": []
  }
 ],
 "metadata": {
  "kernelspec": {
   "display_name": "discussion-agents",
   "language": "python",
   "name": "python3"
  },
  "language_info": {
   "codemirror_mode": {
    "name": "ipython",
    "version": 3
   },
   "file_extension": ".py",
   "mimetype": "text/x-python",
   "name": "python",
   "nbconvert_exporter": "python",
   "pygments_lexer": "ipython3",
   "version": "3.10.13"
  }
 },
 "nbformat": 4,
 "nbformat_minor": 2
}
