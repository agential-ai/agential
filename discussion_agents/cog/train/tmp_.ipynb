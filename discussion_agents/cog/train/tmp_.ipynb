{
 "cells": [
  {
   "cell_type": "code",
   "execution_count": 1,
   "metadata": {},
   "outputs": [],
   "source": [
    "from langchain_community.chat_models import ChatOpenAI\n",
    "import dotenv\n",
    "import os\n",
    "import joblib\n",
    "from langchain_core.language_models.chat_models import BaseChatModel\n",
    "from typing import Dict, List\n",
    "\n",
    "from discussion_agents.cog.train.expel import (\n",
    "    # Experience Gathering.\n",
    "    gather_experience,\n",
    "    categorize_experiences,\n",
    "    get_folds,\n",
    "    # Insight Extraction.\n",
    "    _build_compare_prompt,\n",
    "    collapse_prompts,\n",
    "    _prompt_compare_critique,\n",
    "    parse_rules,\n",
    "    retrieve_rule_index,\n",
    "    is_existing_rule,\n",
    "    remove_err_operations,\n",
    "    update_rules,\n",
    ")\n",
    "from discussion_agents.utils.general import random_divide_list\n",
    "\n",
    "dotenv.load_dotenv(\"../.env\")\n",
    "openai_api_key = os.getenv(\"OPENAI_API_KEY\")"
   ]
  },
  {
   "cell_type": "code",
   "execution_count": 2,
   "metadata": {},
   "outputs": [],
   "source": [
    "max_num_rules = 20\n",
    "llm = ChatOpenAI(model_name=\"gpt-3.5-turbo-0125\", openai_api_key=openai_api_key)\n",
    "experiences = joblib.load(\"exp_15_compare_fake.joblib\")\n",
    "categories = categorize_experiences(experiences)\n",
    "folds = get_folds(categories, len(experiences['idxs']))"
   ]
  },
  {
   "cell_type": "code",
   "execution_count": 3,
   "metadata": {},
   "outputs": [],
   "source": [
    "from typing import Tuple\n",
    "\n",
    "def create_rules(\n",
    "    llm: BaseChatModel,\n",
    "    experiences: Dict[str, List], \n",
    "    categories: Dict[str, int], \n",
    "    train_idxs: List[int], \n",
    "    rules: List[str], \n",
    "    rules_with_count: List[Tuple[str, int]],\n",
    "    max_num_rules: int,\n",
    "    success_critique_num: int = 8\n",
    ") -> Tuple[List[str], List[Tuple[str, int]]]:\n",
    "    # Intersect between train_idxs and each category (compare, success, fail).\n",
    "    train_category_idxs = {\n",
    "        category: list(set(train_idxs).intersection(set(category_idxs))) \\\n",
    "            for category, category_idxs in categories.items()\n",
    "    }\n",
    "\n",
    "    # Compare.\n",
    "    for train_idx in train_category_idxs[\"compare\"]:\n",
    "        question = experiences[\"questions\"][train_idx]\n",
    "        trajectory = experiences[\"trajectories\"][train_idx]\n",
    "\n",
    "        # Compare the successful trial with all previous failed trials.\n",
    "        success_trial = trajectory[-1][-1]\n",
    "        for failed_trial in trajectory[:-1]:\n",
    "            out = _prompt_compare_critique(\n",
    "                rules, \n",
    "                question, \n",
    "                success_trial, \n",
    "                failed_trial, \n",
    "                max_num_rules < len(rules_with_count),\n",
    "                llm\n",
    "            )\n",
    "            operations = parse_rules(out)\n",
    "            operations = remove_err_operations(rules_with_count, operations)\n",
    "\n",
    "            # Update rules_with_count and rules with comparison insights.\n",
    "            rules_with_count = update_rules(rules_with_count, operations, is_full=max_num_rules+5 <= len(rules_with_count))\n",
    "            rules = [rule[0] for rule in rules_with_count]\n",
    "\n",
    "    # Success.\n",
    "    batched_success_trajs_idxs = random_divide_list(train_category_idxs['success'], success_critique_num)\n",
    "    for success_idxs in batched_success_trajs_idxs:\n",
    "        print(success_idxs)\n",
    "\n",
    "        concat_success_trajs = [\n",
    "            f\"{experiences['questions'][idx]}\\n{experiences['trajectories'][idx][0][-1]}\"  # Get this successful trajectory's zero-th trial output.\n",
    "            for idx in success_idxs\n",
    "        ]\n",
    "        success_trajs_str = \"\\n\\n\".join(concat_success_trajs)\n",
    "\n",
    "    return rules, rules_with_count"
   ]
  },
  {
   "cell_type": "code",
   "execution_count": null,
   "metadata": {},
   "outputs": [],
   "source": []
  },
  {
   "cell_type": "code",
   "execution_count": 4,
   "metadata": {},
   "outputs": [
    {
     "name": "stdout",
     "output_type": "stream",
     "text": [
      "0 [0, 3, 5, 7, 11, 13]\n"
     ]
    }
   ],
   "source": [
    "rules, rules_with_count = [], []\n",
    "for fold, train_idxs in folds.items():\n",
    "    print(fold, train_idxs)\n",
    "    rules, rules_with_count = create_rules(llm, experiences, categories, train_idxs, rules, rules_with_count, max_num_rules)\n",
    "    break"
   ]
  },
  {
   "cell_type": "code",
   "execution_count": 5,
   "metadata": {},
   "outputs": [
    {
     "data": {
      "text/plain": [
       "{'compare': [11, 13], 'success': [3, 7], 'fail': [0, 5]}"
      ]
     },
     "execution_count": 5,
     "metadata": {},
     "output_type": "execute_result"
    }
   ],
   "source": [
    "train_category_idxs = {\n",
    "    category: list(set(train_idxs).intersection(set(category_idxs))) \\\n",
    "        for category, category_idxs in categories.items()\n",
    "}\n",
    "train_category_idxs"
   ]
  },
  {
   "cell_type": "code",
   "execution_count": 6,
   "metadata": {},
   "outputs": [
    {
     "data": {
      "text/plain": [
       "[[3, 7]]"
      ]
     },
     "execution_count": 6,
     "metadata": {},
     "output_type": "execute_result"
    }
   ],
   "source": [
    "from discussion_agents.utils.general import random_divide_list\n",
    "\n",
    "success_critique_num = 8\n",
    "batched_success_trajs_idxs = random_divide_list(train_category_idxs['success'], success_critique_num)\n",
    "batched_success_trajs_idxs"
   ]
  },
  {
   "cell_type": "code",
   "execution_count": 7,
   "metadata": {},
   "outputs": [
    {
     "data": {
      "text/plain": [
       "(['Always focus on extracting specific information relevant to the question at hand.',\n",
       "  'Always consider narrowing down your search if the initial search results are too broad or not directly related to the question.',\n",
       "  'When searching for specific information, utilize keywords or phrases related to the topic to refine search results.',\n",
       "  'When researching historical events, consider the broader context in which the event took place to provide a more comprehensive answer.',\n",
       "  'Ensure to provide a direct and concise answer to the question without unnecessary elaboration or tangents.'],\n",
       " [('Always focus on extracting specific information relevant to the question at hand.',\n",
       "   2),\n",
       "  ('Always consider narrowing down your search if the initial search results are too broad or not directly related to the question.',\n",
       "   2),\n",
       "  ('When searching for specific information, utilize keywords or phrases related to the topic to refine search results.',\n",
       "   2),\n",
       "  ('When researching historical events, consider the broader context in which the event took place to provide a more comprehensive answer.',\n",
       "   2),\n",
       "  ('Ensure to provide a direct and concise answer to the question without unnecessary elaboration or tangents.',\n",
       "   2)])"
      ]
     },
     "execution_count": 7,
     "metadata": {},
     "output_type": "execute_result"
    }
   ],
   "source": [
    "rules, rules_with_count"
   ]
  },
  {
   "cell_type": "code",
   "execution_count": 10,
   "metadata": {},
   "outputs": [
    {
     "name": "stdout",
     "output_type": "stream",
     "text": [
      "[3, 7]\n"
     ]
    }
   ],
   "source": [
    "for success_idxs in batched_success_trajs_idxs:\n",
    "    print(success_idxs)\n",
    "\n",
    "    concat_success_trajs = [\n",
    "        f\"{experiences['questions'][idx]}\\n{experiences['trajectories'][idx][0][-1]}\"  # Get this successful trajectory's zero-th trial output.\n",
    "        for idx in success_idxs\n",
    "    ]\n",
    "    success_trajs_str = \"\\n\\n\".join(concat_success_trajs)\n",
    "    # self.rule_items, llm_output = extend_rules(self.rule_items, success_trials.strip(), None)\n",
    "\n"
   ]
  },
  {
   "cell_type": "code",
   "execution_count": 8,
   "metadata": {},
   "outputs": [],
   "source": [
    "from discussion_agents.cog.prompts.expel import (\n",
    "    SYSTEM_TEMPLATE,\n",
    "    SYSTEM_CRITIQUE_ALL_SUCCESS_EXISTING_RULES_INSTRUCTION,\n",
    "    NON_EXISTENT_RULES_AT_NAME,\n",
    "    EXISTING_RULES_AI_NAME,\n",
    ")\n",
    "from langchain_core.prompts.chat import HumanMessagePromptTemplate\n",
    "\n",
    "critique_history = []\n",
    "\n",
    "# System prompt.\n",
    "prefix = (\n",
    "    HumanMessagePromptTemplate.from_template(SYSTEM_TEMPLATE)\n",
    "    .format_messages(\n",
    "        ai_name=NON_EXISTENT_RULES_AT_NAME if not rules else EXISTING_RULES_AI_NAME,\n",
    "        instruction=SYSTEM_CRITIQUE_ALL_SUCCESS_EXISTING_RULES_INSTRUCTION\n",
    "    )\n",
    ")\n",
    "critique_history.extend(prefix)"
   ]
  },
  {
   "cell_type": "code",
   "execution_count": 9,
   "metadata": {},
   "outputs": [
    {
     "data": {
      "text/plain": [
       "[HumanMessage(content='You are an advanced reasoning agent that can add, edit or remove rules from your existing rule set, based on forming new critiques of past task trajectories. You will be given successful tasks trials in which you were given access to a Docstore API environment and a question to answer.')]"
      ]
     },
     "execution_count": 9,
     "metadata": {},
     "output_type": "execute_result"
    }
   ],
   "source": [
    "critique_history"
   ]
  },
  {
   "cell_type": "code",
   "execution_count": 11,
   "metadata": {},
   "outputs": [
    {
     "data": {
      "text/plain": [
       "{'success_trajs': 'The creator of \"Wallace and Gromit\" also created what animation comedy that matched animated zoo animals with a soundtrack of people talking about their homes? \\n\\nThought: I need to search for the creator of \"Wallace and Gromit\" and find out what other animation comedy they created that involves animated zoo animals and people talking about their homes. \\nAction: Search[creator of Wallace and Gromit]\\nObservation 1: Wallace and Gromit is a British stop-motion animated comedy franchise created by Nick Park and produced by Aardman Animations. The main film series consists of four short films and one feature-length film, and has spawned numerous spin-offs and TV adaptations. The series centres on Wallace, a good-natured, eccentric, cheese-loving inventor, and Gromit, his loyal and intelligent anthropomorphic beagle. The first short film, A Grand Day Out, was finished and made public in 1989. Wallace was voiced by actor Peter Sallis until 2010 when he was succeeded by Ben Whitehead. Gromit is largely silent and has no dialogue, communicating through facial expressions and body language.Because of their widespread popularity, the characters have been described as positive international cultural icons of both modern British culture and British people in general. BBC News called them \"some of the best-known and best-loved stars to come out of the UK\". Icons has said they have done \"more to improve the image of the English world-wide than any officially appointed ambassadors\". Although not overtly set in any particular town, Park has hinted that it was inspired by 1950s Wigan in Northern England. Wallace\\'s accent comes from the Holme Valley of West Yorkshire. Wallace is fond of Wensleydale cheese (from Wensleydale, North Yorkshire).Their films have received universal acclaim, with the first three short films, A Grand Day Out (1989), The Wrong Trousers (1993) and A Close Shave (1995) earning 100% on Rotten Tomatoes; the feature film Wallace & Gromit: The Curse of the Were-Rabbit (2005) has also received acclaim. The feature film is the second-highest-grossing stop-motion animated film, only outgrossed by Chicken Run (2000), another creation of Park\\'s. A fourth short film, A Matter of Loaf and Death, was released in 2008. The franchise has received numerous accolades, including five British Academy Film Awards, three Academy Awards and a Peabody Award.The Wallace and Gromit characters spearhead the fundraising for two children\\'s charities: Wallace & Gromit\\'s Children\\'s Foundation, which supports children\\'s hospices and hospitals in the United Kingdom, and Wallace and Gromit\\'s Grand Appeal, the charity for Bristol Children\\'s Hospital in Bristol. In December 2010, Wallace and Gromit featured on a festive themed series of UK postage stamps issued by the Royal Mail.\\nThought: I need to find out which animation comedy involving animated zoo animals and people talking about their homes was created by Nick Park, the creator of \"Wallace and Gromit.\" \\nAction: Search[Nick Park animation comedy with zoo animals]\\nObservation 2: Nicholas Wulstan Park  (born 6 December 1958) is an  English filmmaker and animator who created Wallace and Gromit, Creature Comforts, Chicken Run, Shaun the Sheep, and Early Man. Park has been nominated for an Academy Award a total of six times and won four with Creature Comforts (1989), The Wrong Trousers (1993), A Close Shave (1995) and Wallace & Gromit: The Curse of the Were-Rabbit (2005).He has also received five BAFTA Awards, including the BAFTA for Best Short Animation for A Matter of Loaf and Death, which was also the most watched television programme in the United Kingdom in 2008. His 2000 film Chicken Run is the highest-grossing stop motion animated film.In 1985, Park joined Aardman Animations based in Bristol, and for his work in animation he was among the British cultural icons selected by artist Peter Blake to appear in a 2012 version of Blake\\'s most famous artwork—the Beatles\\' Sgt. Pepper\\'s Lonely Hearts Club Band album cover—to celebrate the British cultural figures of his life.Park was appointed a Commander of the Order of the British Empire (CBE) in the 1997 Birthday Honours for services to the animated film industry.\\nThought: I need to find out which animation comedy involving animated zoo animals and people talking about their homes was created by Nick Park. I should search for the animation comedy involving zoo animals with a soundtrack of people talking about their homes. \\nAction: Search[animation comedy zoo animals people talking about homes]\\nObservation 3: Could not find [animation comedy zoo animals people talking about homes]. Similar: [\\'Creature Comforts\\', \\'Madagascar (2005 film)\\', \\'Madagascar: Escape 2 Africa\\', \\'List of British television programmes\\', \\'George of the Jungle (film)\\', \\'Turning Red\\', \\'Zootopia\\', \\'List of Toon In with Me episodes\\', \\'The Rescuers\\', \\'List of Madagascar (franchise) characters\\']\\nThought: I need to narrow down my search to find the specific animation comedy involving animated zoo animals and people talking about their homes. I should search for \"Creature Comforts\" as it seems to be related to the topic. \\nAction: Search[Creature Comforts]\\nObservation 4: Creature Comforts is a British adult stop-motion comedy mockumentary franchise originating in a 1989 British humorous animated short film of the same name. The film matched animated zoo animals with a soundtrack of people talking about their homes, making it appear as if the animals were being interviewed about their living conditions. It was created by Nick Park and Aardman Animations. The film later became the basis of a series of television advertisements for the electricity boards in the United Kingdom, and in 2003, a television series in the same style was released. An American version of the series was also made.\\nThought: I have found that the animation comedy involving animated zoo animals and people talking about their homes that was created by Nick Park is \"Creature Comforts.\" Now, I need to finish and provide the answer. \\nAction: Finish[Creature Comforts]\\nObservation 5: Creature Comforts\\n\\n If You Ever Get Lonely was covered by what Lyric Street Records-affiliated band?\\n\\nThought: I need to search for the song \"If You Ever Get Lonely\" and find out which Lyric Street Records-affiliated band covered it.\\nAction: Search[If You Ever Get Lonely]\\nObservation 1: \"If You Ever Get Lonely\" is a song written by Kyle Cook, Lisa Drew, Michael Dulaney, Steven Dale Jones and John Waite. It was originally recorded by Waite on his 2011 album Rough & Tumble and released as the album\\'s first single. It was covered by American country music duo Love and Theft on their second studio album, Love and Theft, in 2012 and released as the album\\'s third single in June 2013.\\nThought: The song \"If You Ever Get Lonely\" was covered by the country music duo Love and Theft. I need to find out if Love and Theft is a Lyric Street Records-affiliated band.\\nAction: Search[Love and Theft Lyric Street Records]\\nObservation 2: Love and Theft is an American country music duo consisting of vocalists Eric Gunderson and Stephen Barker Liles. They originally recorded as a trio with vocalist Brian Bandas; after he exited the band, Gunderson and Liles continued as a duo. Signed to Lyric Street Records subsidiary Carolwood Records in 2009, Love and Theft made their chart debut in early 2009 with the single \"Runaway,\" which reached the Top 10 on Billboard Hot Country Songs. The band\\'s debut album, World Wide Open, was released on August 25, 2009.In 2011, following the departure of Bandas, Love and Theft continued as a duo consisting of Gunderson and Liles. The duo moved to RCA Records Nashville that year and released the single \"Angel Eyes\", which became their first number 1 single. It and the Top 40 singles \"Runnin\\' Out of Air\" and \"If You Ever Get Lonely\" all appear on their second, self-titled album. A third album, Whiskey on My Breath, followed in 2015.\\nThought: Love and Theft is indeed a Lyric Street Records-affiliated band. Therefore, the answer to the question is Love and Theft. \\nAction: Finish[Love and Theft]\\nObservation 3: Love and Theft',\n",
       " 'existing_rules': '1. Always focus on extracting specific information relevant to the question at hand.\\n2. Always consider narrowing down your search if the initial search results are too broad or not directly related to the question.\\n3. When searching for specific information, utilize keywords or phrases related to the topic to refine search results.\\n4. When researching historical events, consider the broader context in which the event took place to provide a more comprehensive answer.\\n5. Ensure to provide a direct and concise answer to the question without unnecessary elaboration or tangents.'}"
      ]
     },
     "execution_count": 11,
     "metadata": {},
     "output_type": "execute_result"
    }
   ],
   "source": [
    "human_format_dict = {\n",
    "    \"success_trajs\": success_trajs_str,\n",
    "    \"existing_rules\": '\\n'.join([f'{i}. {r}' for i, r in enumerate(rules, 1)])\n",
    "}\n",
    "human_format_dict"
   ]
  },
  {
   "cell_type": "code",
   "execution_count": 13,
   "metadata": {},
   "outputs": [
    {
     "data": {
      "text/plain": [
       "HumanMessage(content='\\nHere are the trials:\\nThe creator of \"Wallace and Gromit\" also created what animation comedy that matched animated zoo animals with a soundtrack of people talking about their homes? \\n\\nThought: I need to search for the creator of \"Wallace and Gromit\" and find out what other animation comedy they created that involves animated zoo animals and people talking about their homes. \\nAction: Search[creator of Wallace and Gromit]\\nObservation 1: Wallace and Gromit is a British stop-motion animated comedy franchise created by Nick Park and produced by Aardman Animations. The main film series consists of four short films and one feature-length film, and has spawned numerous spin-offs and TV adaptations. The series centres on Wallace, a good-natured, eccentric, cheese-loving inventor, and Gromit, his loyal and intelligent anthropomorphic beagle. The first short film, A Grand Day Out, was finished and made public in 1989. Wallace was voiced by actor Peter Sallis until 2010 when he was succeeded by Ben Whitehead. Gromit is largely silent and has no dialogue, communicating through facial expressions and body language.Because of their widespread popularity, the characters have been described as positive international cultural icons of both modern British culture and British people in general. BBC News called them \"some of the best-known and best-loved stars to come out of the UK\". Icons has said they have done \"more to improve the image of the English world-wide than any officially appointed ambassadors\". Although not overtly set in any particular town, Park has hinted that it was inspired by 1950s Wigan in Northern England. Wallace\\'s accent comes from the Holme Valley of West Yorkshire. Wallace is fond of Wensleydale cheese (from Wensleydale, North Yorkshire).Their films have received universal acclaim, with the first three short films, A Grand Day Out (1989), The Wrong Trousers (1993) and A Close Shave (1995) earning 100% on Rotten Tomatoes; the feature film Wallace & Gromit: The Curse of the Were-Rabbit (2005) has also received acclaim. The feature film is the second-highest-grossing stop-motion animated film, only outgrossed by Chicken Run (2000), another creation of Park\\'s. A fourth short film, A Matter of Loaf and Death, was released in 2008. The franchise has received numerous accolades, including five British Academy Film Awards, three Academy Awards and a Peabody Award.The Wallace and Gromit characters spearhead the fundraising for two children\\'s charities: Wallace & Gromit\\'s Children\\'s Foundation, which supports children\\'s hospices and hospitals in the United Kingdom, and Wallace and Gromit\\'s Grand Appeal, the charity for Bristol Children\\'s Hospital in Bristol. In December 2010, Wallace and Gromit featured on a festive themed series of UK postage stamps issued by the Royal Mail.\\nThought: I need to find out which animation comedy involving animated zoo animals and people talking about their homes was created by Nick Park, the creator of \"Wallace and Gromit.\" \\nAction: Search[Nick Park animation comedy with zoo animals]\\nObservation 2: Nicholas Wulstan Park  (born 6 December 1958) is an  English filmmaker and animator who created Wallace and Gromit, Creature Comforts, Chicken Run, Shaun the Sheep, and Early Man. Park has been nominated for an Academy Award a total of six times and won four with Creature Comforts (1989), The Wrong Trousers (1993), A Close Shave (1995) and Wallace & Gromit: The Curse of the Were-Rabbit (2005).He has also received five BAFTA Awards, including the BAFTA for Best Short Animation for A Matter of Loaf and Death, which was also the most watched television programme in the United Kingdom in 2008. His 2000 film Chicken Run is the highest-grossing stop motion animated film.In 1985, Park joined Aardman Animations based in Bristol, and for his work in animation he was among the British cultural icons selected by artist Peter Blake to appear in a 2012 version of Blake\\'s most famous artwork—the Beatles\\' Sgt. Pepper\\'s Lonely Hearts Club Band album cover—to celebrate the British cultural figures of his life.Park was appointed a Commander of the Order of the British Empire (CBE) in the 1997 Birthday Honours for services to the animated film industry.\\nThought: I need to find out which animation comedy involving animated zoo animals and people talking about their homes was created by Nick Park. I should search for the animation comedy involving zoo animals with a soundtrack of people talking about their homes. \\nAction: Search[animation comedy zoo animals people talking about homes]\\nObservation 3: Could not find [animation comedy zoo animals people talking about homes]. Similar: [\\'Creature Comforts\\', \\'Madagascar (2005 film)\\', \\'Madagascar: Escape 2 Africa\\', \\'List of British television programmes\\', \\'George of the Jungle (film)\\', \\'Turning Red\\', \\'Zootopia\\', \\'List of Toon In with Me episodes\\', \\'The Rescuers\\', \\'List of Madagascar (franchise) characters\\']\\nThought: I need to narrow down my search to find the specific animation comedy involving animated zoo animals and people talking about their homes. I should search for \"Creature Comforts\" as it seems to be related to the topic. \\nAction: Search[Creature Comforts]\\nObservation 4: Creature Comforts is a British adult stop-motion comedy mockumentary franchise originating in a 1989 British humorous animated short film of the same name. The film matched animated zoo animals with a soundtrack of people talking about their homes, making it appear as if the animals were being interviewed about their living conditions. It was created by Nick Park and Aardman Animations. The film later became the basis of a series of television advertisements for the electricity boards in the United Kingdom, and in 2003, a television series in the same style was released. An American version of the series was also made.\\nThought: I have found that the animation comedy involving animated zoo animals and people talking about their homes that was created by Nick Park is \"Creature Comforts.\" Now, I need to finish and provide the answer. \\nAction: Finish[Creature Comforts]\\nObservation 5: Creature Comforts\\n\\n If You Ever Get Lonely was covered by what Lyric Street Records-affiliated band?\\n\\nThought: I need to search for the song \"If You Ever Get Lonely\" and find out which Lyric Street Records-affiliated band covered it.\\nAction: Search[If You Ever Get Lonely]\\nObservation 1: \"If You Ever Get Lonely\" is a song written by Kyle Cook, Lisa Drew, Michael Dulaney, Steven Dale Jones and John Waite. It was originally recorded by Waite on his 2011 album Rough & Tumble and released as the album\\'s first single. It was covered by American country music duo Love and Theft on their second studio album, Love and Theft, in 2012 and released as the album\\'s third single in June 2013.\\nThought: The song \"If You Ever Get Lonely\" was covered by the country music duo Love and Theft. I need to find out if Love and Theft is a Lyric Street Records-affiliated band.\\nAction: Search[Love and Theft Lyric Street Records]\\nObservation 2: Love and Theft is an American country music duo consisting of vocalists Eric Gunderson and Stephen Barker Liles. They originally recorded as a trio with vocalist Brian Bandas; after he exited the band, Gunderson and Liles continued as a duo. Signed to Lyric Street Records subsidiary Carolwood Records in 2009, Love and Theft made their chart debut in early 2009 with the single \"Runaway,\" which reached the Top 10 on Billboard Hot Country Songs. The band\\'s debut album, World Wide Open, was released on August 25, 2009.In 2011, following the departure of Bandas, Love and Theft continued as a duo consisting of Gunderson and Liles. The duo moved to RCA Records Nashville that year and released the single \"Angel Eyes\", which became their first number 1 single. It and the Top 40 singles \"Runnin\\' Out of Air\" and \"If You Ever Get Lonely\" all appear on their second, self-titled album. A third album, Whiskey on My Breath, followed in 2015.\\nThought: Love and Theft is indeed a Lyric Street Records-affiliated band. Therefore, the answer to the question is Love and Theft. \\nAction: Finish[Love and Theft]\\nObservation 3: Love and Theft\\n\\nHere are the EXISTING RULES:\\n1. Always focus on extracting specific information relevant to the question at hand.\\n2. Always consider narrowing down your search if the initial search results are too broad or not directly related to the question.\\n3. When searching for specific information, utilize keywords or phrases related to the topic to refine search results.\\n4. When researching historical events, consider the broader context in which the event took place to provide a more comprehensive answer.\\n5. Ensure to provide a direct and concise answer to the question without unnecessary elaboration or tangents.\\n\\nBy examining the successful trials, and the list of existing rules, you can perform the following operations: add, edit, remove, or agree so that the new list of rules are general and high level insights of the successful trials or proposed way of Thought so they can be used as helpful tips to different tasks in the future. Have an emphasis on tips that help the agent perform better Thought and Action. Follow the below format:\\n\\n<OPERATION> <RULE NUMBER>: <RULE>\\n\\nThe available operations are: AGREE (if the existing rule is strongly relevant for the task), REMOVE (if one existing rule is contradictory or similar/duplicated to other existing rules), EDIT (if any existing rule is not general enough or can be enhanced, rewrite and improve it), ADD (add new rules that are very different from existing rules and relevant for other tasks). Each needs to CLOSELY follow their corresponding formatting below (any existing rule not edited, not agreed, nor removed is considered copied):\\n\\nAGREE <EXISTING RULE NUMBER>: <EXISTING RULE>\\nREMOVE <EXISTING RULE NUMBER>: <EXISTING RULE>\\nEDIT <EXISTING RULE NUMBER>: <NEW MODIFIED RULE>\\nADD <NEW RULE NUMBER>: <NEW RULE>\\n\\nDo not mention the trials in the rules because all the rules should be GENERALLY APPLICABLE. Each rule should be concise and easy to follow. Any operation can be used MULTIPLE times. Do at most 4 operations and each existing rule can only get a maximum of 1 operation. ')"
      ]
     },
     "execution_count": 13,
     "metadata": {},
     "output_type": "execute_result"
    }
   ],
   "source": [
    "from discussion_agents.cog.prompts.expel import FORMAT_RULES_OPERATION_TEMPLATE\n",
    "HUMAN_CRITIQUE_EXISTING_RULES_ALL_SUCCESS_TEMPLATE = \"\"\"\n",
    "Here are the trials:\n",
    "{success_trajs}\n",
    "\n",
    "Here are the EXISTING RULES:\n",
    "{existing_rules}\n",
    "\n",
    "By examining the successful trials, and the list of existing rules, you can perform the following operations: add, edit, remove, or agree so that the new list of rules are general and high level insights of the successful trials or proposed way of Thought so they can be used as helpful tips to different tasks in the future. Have an emphasis on tips that help the agent perform better Thought and Action. Follow the below format:\n",
    "\n",
    "\"\"\" + FORMAT_RULES_OPERATION_TEMPLATE\n",
    "\n",
    "human_critique_summary_message = HumanMessagePromptTemplate.from_template(HUMAN_CRITIQUE_EXISTING_RULES_ALL_SUCCESS_TEMPLATE).format_messages(**human_format_dict)[0]\n",
    "human_critique_summary_message"
   ]
  },
  {
   "cell_type": "code",
   "execution_count": null,
   "metadata": {},
   "outputs": [],
   "source": [
    "for train_idx in train_category_idxs[\"success\"]:\n",
    "    question = experiences[\"questions\"][train_idx]\n",
    "    trajectory = experiences[\"trajectories\"][train_idx]"
   ]
  },
  {
   "cell_type": "code",
   "execution_count": 14,
   "metadata": {},
   "outputs": [],
   "source": [
    "from langchain_core.prompts.chat import HumanMessage\n",
    "from discussion_agents.cog.prompts.expel import (\n",
    "    CRITIQUE_SUMMARY_SUFFIX_FULL,\n",
    "    CRITIQUE_SUMMARY_SUFFIX_NOT_FULL\n",
    ")\n",
    "\n",
    "def _build_all_success_prompt(\n",
    "    rules: List[str], \n",
    "    success_trajs_str: str,\n",
    "    is_full: bool,\n",
    ") -> List[HumanMessage]:\n",
    "    # is_full = self.max_num_rules <= len(self.rules_with_count)   ->    20 <= len(self.rules_with_count)\n",
    "\n",
    "    critique_history = []\n",
    "\n",
    "    if rules == []:\n",
    "        rules = ['']\n",
    "\n",
    "    # System prompt.\n",
    "    prefix = (\n",
    "        HumanMessagePromptTemplate.from_template(SYSTEM_TEMPLATE)\n",
    "        .format_messages(\n",
    "            ai_name=NON_EXISTENT_RULES_AT_NAME if not rules else EXISTING_RULES_AI_NAME,\n",
    "            instruction=SYSTEM_CRITIQUE_ALL_SUCCESS_EXISTING_RULES_INSTRUCTION\n",
    "        )\n",
    "    )\n",
    "    critique_history.extend(prefix)\n",
    "\n",
    "    # Task prompt.\n",
    "    human_format_dict = {\n",
    "        \"success_trajs\": success_trajs_str,\n",
    "        \"existing_rules\": '\\n'.join([f'{i}. {r}' for i, r in enumerate(rules, 1)])\n",
    "    }\n",
    "\n",
    "    human_critique_summary_message = HumanMessagePromptTemplate.from_template(HUMAN_CRITIQUE_EXISTING_RULES_ALL_SUCCESS_TEMPLATE).format_messages(**human_format_dict)[0]\n",
    "    critique_summary_suffix = CRITIQUE_SUMMARY_SUFFIX_FULL if is_full else CRITIQUE_SUMMARY_SUFFIX_NOT_FULL\n",
    "    human_critique_summary_message.content = human_critique_summary_message.content + critique_summary_suffix\n",
    "    critique_history.append(human_critique_summary_message)\n",
    "\n",
    "    return critique_history\n",
    "\n",
    "def _prompt_all_success_critique(\n",
    "    rules: List[str], \n",
    "    success_trajs_str: str, \n",
    "    is_full: bool,\n",
    "    llm: BaseChatModel, \n",
    "    replace_newline: bool = False\n",
    ") -> str:\n",
    "    compare_prompt_msgs = _build_all_success_prompt(\n",
    "        rules=rules,\n",
    "        success_trajs_str=success_trajs_str,\n",
    "        is_full=is_full\n",
    "    )\n",
    "    compare_prompt_msgs = collapse_prompts(compare_prompt_msgs)\n",
    "    out = llm(compare_prompt_msgs).content.strip('\\n').strip()\n",
    "    if replace_newline:\n",
    "        out = out.replace('\\n', '')\n",
    "    return out"
   ]
  },
  {
   "cell_type": "code",
   "execution_count": 15,
   "metadata": {},
   "outputs": [],
   "source": [
    "oo = _prompt_all_success_critique(rules, success_trajs_str, max_num_rules < len(rules_with_count), llm)"
   ]
  },
  {
   "cell_type": "code",
   "execution_count": 16,
   "metadata": {},
   "outputs": [
    {
     "data": {
      "text/plain": [
       "'ADD 6: When encountering a new topic or concept, consider conducting initial research to gain a better understanding before proceeding with more specific searches.'"
      ]
     },
     "execution_count": 16,
     "metadata": {},
     "output_type": "execute_result"
    }
   ],
   "source": [
    "oo"
   ]
  },
  {
   "cell_type": "code",
   "execution_count": null,
   "metadata": {},
   "outputs": [],
   "source": [
    "success_critique_num = 8\n",
    "\n",
    "\n",
    "all_success = random_divide_list(all_success, self.success_critique_num)"
   ]
  }
 ],
 "metadata": {
  "kernelspec": {
   "display_name": "discussion-agents",
   "language": "python",
   "name": "python3"
  },
  "language_info": {
   "codemirror_mode": {
    "name": "ipython",
    "version": 3
   },
   "file_extension": ".py",
   "mimetype": "text/x-python",
   "name": "python",
   "nbconvert_exporter": "python",
   "pygments_lexer": "ipython3",
   "version": "3.10.13"
  }
 },
 "nbformat": 4,
 "nbformat_minor": 2
}
