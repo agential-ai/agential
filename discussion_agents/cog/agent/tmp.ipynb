{
 "cells": [
  {
   "cell_type": "code",
   "execution_count": 1,
   "metadata": {},
   "outputs": [],
   "source": [
    "from langchain_community.chat_models import ChatOpenAI\n",
    "import dotenv\n",
    "import os\n",
    "import joblib\n",
    "from discussion_agents.cog.agent.expel import ExpeLAgent\n",
    "\n",
    "dotenv.load_dotenv(\"../.env\")\n",
    "openai_api_key = os.getenv(\"OPENAI_API_KEY\")\n",
    "llm = ChatOpenAI(model_name=\"gpt-3.5-turbo-0125\", openai_api_key=openai_api_key)\n",
    "hotpotqa = joblib.load('../../../tests/assets/hotpotqa/hotpot-qa-distractor-sample.joblib')\n"
   ]
  },
  {
   "cell_type": "code",
   "execution_count": null,
   "metadata": {},
   "outputs": [],
   "source": [
    "agent = ExpeLAgent(\n",
    "    llm=llm,\n",
    "    self_reflect_llm=llm,\n",
    "    action_llm=llm\n",
    ")"
   ]
  },
  {
   "cell_type": "code",
   "execution_count": null,
   "metadata": {},
   "outputs": [],
   "source": [
    "agent.gather_experience(\n",
    "    questions=hotpotqa.question.values[:1],\n",
    "    keys=hotpotqa.answer.values[:1]\n",
    ")"
   ]
  },
  {
   "cell_type": "code",
   "execution_count": null,
   "metadata": {},
   "outputs": [],
   "source": [
    "agent.insight_memory.insights"
   ]
  },
  {
   "cell_type": "code",
   "execution_count": null,
   "metadata": {},
   "outputs": [],
   "source": [
    "import joblib \n",
    "from discussion_agents.cog.modules.memory.expel import ExpeLExperienceMemory\n",
    "\n",
    "hotpotqa = joblib.load('../../../tests/assets/hotpotqa/hotpot-qa-distractor-sample.joblib')\n",
    "experiences = joblib.load('../../../tests/assets/expel/expel_experiences_10_fake.joblib')\n",
    "memory = ExpeLExperienceMemory(experiences)"
   ]
  },
  {
   "cell_type": "code",
   "execution_count": null,
   "metadata": {},
   "outputs": [],
   "source": [
    "queries = {\n",
    "    \"task\": 'The creator of \"Wallace and Gromit\" also created what animation comedy that matched animated zoo animals with a soundtrack of people talking about their homes? ',\n",
    "    \"thought\": 'Thought: I should try a different approach. Let me search for press releases, industry news sources, or announcements specifically related to the name change and new acronym for VIVA Media AG in 2004. By focusing on more specialized sources, I may be able to find the accurate information needed to answer the question correctly. ',\n",
    "    \"other\": \"Some other query.\"\n",
    "}\n",
    "\n",
    "memory_dict = memory.load_memories(query=queries[\"task\"])['fewshots']"
   ]
  },
  {
   "cell_type": "code",
   "execution_count": null,
   "metadata": {},
   "outputs": [],
   "source": [
    "print(\"\\n\\n\".join(memory_dict + [\"(END OF EXAMPLES)\"]))"
   ]
  },
  {
   "cell_type": "code",
   "execution_count": null,
   "metadata": {},
   "outputs": [],
   "source": [
    "RULE_PREFIX = \"\"\"\n",
    "The following are some experience you gather on a similar task of question answering using Wikipedia API. Use these as references to help you perform this task:\n",
    "\"\"\"\n",
    "print(RULE_PREFIX)"
   ]
  },
  {
   "cell_type": "code",
   "execution_count": null,
   "metadata": {},
   "outputs": [],
   "source": [
    "from discussion_agents.cog.modules.memory.expel import ExpeLInsightMemory\n",
    "\n",
    "insights = [('If the initial search does not provide information related to the specific question, try to explore different angles or sources to gather relevant information that may lead to the answer. Consider refining the search query with more specific and relevant keywords to narrow down the search results and find the desired information effectively.',\n",
    "  5),\n",
    " ('If unable to find the answer after exploring different search options, consider reaching out to additional sources or experts for assistance in obtaining the required information.',\n",
    "  2),\n",
    " ('When searching for specific information, try to include relevant keywords related to the topic to narrow down the search results and find the desired information effectively.',\n",
    "  2),\n",
    " ('When searching for specific information, consider verifying the credibility of the sources to ensure the accuracy of the information retrieved.',\n",
    "  2),\n",
    " ('When faced with a search query, consider utilizing different search engines or platforms to gather information and find the desired answer effectively.',\n",
    "  1)]\n",
    "\n",
    "insights = [{\"insight\": insight[0], \"score\": insight[1]} for insight in insights]\n",
    "memory = ExpeLInsightMemory(insights=insights, max_num_insights=5, leeway=1)"
   ]
  },
  {
   "cell_type": "code",
   "execution_count": null,
   "metadata": {},
   "outputs": [],
   "source": [
    "memory.load_memories()['insights']"
   ]
  },
  {
   "cell_type": "code",
   "execution_count": null,
   "metadata": {},
   "outputs": [],
   "source": [
    "insights = memory.load_memories()['insights']\n",
    "\n",
    "c = \"\".join([f\"{i}. {insight['insight']}\\n\" for i, insight in enumerate(insights, 1)])"
   ]
  },
  {
   "cell_type": "code",
   "execution_count": null,
   "metadata": {},
   "outputs": [],
   "source": [
    "print(a)"
   ]
  },
  {
   "cell_type": "code",
   "execution_count": null,
   "metadata": {},
   "outputs": [],
   "source": [
    "print(c)"
   ]
  },
  {
   "cell_type": "code",
   "execution_count": null,
   "metadata": {},
   "outputs": [],
   "source": [
    "insights = memory.load_memories()['insights']\n",
    "\n",
    "a = \"The following are some experience you gather on a similar task of question answering using Wikipedia API. Use these as references to help you perform this task:\\n\"\n",
    "for i, insight in enumerate(insights, 1):\n",
    "    a += f\"{i}. {insight['insight']}\\n\""
   ]
  },
  {
   "cell_type": "code",
   "execution_count": null,
   "metadata": {},
   "outputs": [],
   "source": [
    "b = \"\\n\\n\".join(memory_dict + [\"(END OF EXAMPLES)\"]) + \"\\n\"\n",
    "b += RULE_PREFIX\n",
    "c = \"\".join([f\"{i}. {insight['insight']}\\n\" for i, insight in enumerate([], 1)])\n",
    "b += c"
   ]
  },
  {
   "cell_type": "code",
   "execution_count": null,
   "metadata": {},
   "outputs": [],
   "source": [
    "print(b)"
   ]
  },
  {
   "cell_type": "code",
   "execution_count": null,
   "metadata": {},
   "outputs": [],
   "source": [
    "EXPEL_REFLEXION_REACT_INSTRUCTION = \"\"\"\n",
    "Solve a question answering task with interleaving Thought, Action, Observation steps. Thought can reason about the current situation, and Action can be three types: \n",
    "(1) Search[entity], which searches the exact entity on Wikipedia and returns the first paragraph if it exists. If not, it will return some similar entities to search.\n",
    "(2) Lookup[keyword], which returns the next sentence containing keyword in the last passage successfully found by Search.\n",
    "(3) Finish[answer], which returns the answer and finishes the task.\n",
    "You have a maximum of {max_steps} steps.\n",
    "\n",
    "Here are some examples:\n",
    "{examples}\n",
    "\n",
    "{reflections}\n",
    "\n",
    "Question: {question}{scratchpad}\n",
    "\"\"\"\n",
    "\n",
    "examples = \"\\n\\n\".join(memory_dict) + \"\\n\\n\" + \"(END OF EXAMPLES)\" + \"\\n\\n\"\n",
    "print(examples)"
   ]
  },
  {
   "cell_type": "code",
   "execution_count": null,
   "metadata": {},
   "outputs": [],
   "source": [
    "agent = ExpeLAgent(\n",
    "    llm=llm,\n",
    "    self_reflect_llm=llm,\n",
    "    action_llm=llm\n",
    ")"
   ]
  },
  {
   "cell_type": "code",
   "execution_count": null,
   "metadata": {},
   "outputs": [],
   "source": [
    "agent.insight_memory.insights"
   ]
  },
  {
   "cell_type": "code",
   "execution_count": null,
   "metadata": {},
   "outputs": [],
   "source": [
    "agent.gather_experience(\n",
    "    questions=hotpotqa.question.values[:1],\n",
    "    keys=hotpotqa.answer.values[:1]\n",
    ")"
   ]
  },
  {
   "cell_type": "code",
   "execution_count": null,
   "metadata": {},
   "outputs": [],
   "source": []
  }
 ],
 "metadata": {
  "kernelspec": {
   "display_name": "discussion-agents",
   "language": "python",
   "name": "python3"
  },
  "language_info": {
   "codemirror_mode": {
    "name": "ipython",
    "version": 3
   },
   "file_extension": ".py",
   "mimetype": "text/x-python",
   "name": "python",
   "nbconvert_exporter": "python",
   "pygments_lexer": "ipython3",
   "version": "3.10.13"
  }
 },
 "nbformat": 4,
 "nbformat_minor": 2
}
