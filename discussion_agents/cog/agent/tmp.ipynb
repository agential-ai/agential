{
 "cells": [
  {
   "cell_type": "code",
   "execution_count": 13,
   "metadata": {},
   "outputs": [],
   "source": [
    "import os\n",
    "from dotenv import load_dotenv\n",
    "from langchain import PromptTemplate\n",
    "from langchain.prompts import ChatPromptTemplate\n",
    "from langchain.prompts.chat import SystemMessagePromptTemplate\n",
    "from langchain_community.chat_models import ChatOpenAI\n",
    "from langchain_community.utilities.google_search import GoogleSearchAPIWrapper\n"
   ]
  },
  {
   "cell_type": "code",
   "execution_count": 14,
   "metadata": {},
   "outputs": [],
   "source": [
    "from discussion_agents.cog.prompts.critic import (\n",
    "    CRITIC_CRITIQUE_INSTRUCTION_HOTPOTQA,\n",
    "    CRITIC_INSTRUCTION_HOTPOTQA,\n",
    "    HOTPOTQA_FEWSHOT_EXAMPLES_COT,\n",
    "    HOTPOTQA_FEWSHOT_EXAMPLES_CRITIC,\n",
    ")\n",
    "from discussion_agents.cog.agent.critic import CriticAgent"
   ]
  },
  {
   "cell_type": "code",
   "execution_count": 15,
   "metadata": {},
   "outputs": [],
   "source": [
    "from discussion_agents.cog.prompts.critic import (\n",
    "    CRITIC_INSTRUCTION_GSM8K,\n",
    "    GSM8K_FEWSHOT_EXAMPLES_DIRECT,\n",
    "    CRITIC_CRITIQUE_INSTRUCTION_GSM8K,\n",
    "    GSM8K_FEWSHOT_EXAMPLES_CRITIC,\n",
    ")"
   ]
  },
  {
   "cell_type": "code",
   "execution_count": 16,
   "metadata": {},
   "outputs": [],
   "source": [
    "load_dotenv()\n",
    "GOOGLE_API =  os.environ.get('google_api')\n",
    "GPT_API =  os.environ.get('gpt_api')"
   ]
  },
  {
   "cell_type": "code",
   "execution_count": 17,
   "metadata": {},
   "outputs": [],
   "source": [
    "question = 'Janet hires six employees. Four of them are warehouse workers who make $15/hour, and the other two are managers who make $20/hour. Janet has to pay 10% of her workers\\' salaries in FICA taxes. If everyone works 25 days a month and 8 hours a day, how much does Janet owe total for their wages and taxes for one month?'\n",
    "llm = ChatOpenAI(openai_api_key=GPT_API)\n",
    "search = GoogleSearchAPIWrapper(google_api_key = GOOGLE_API, google_cse_id = '7222942e200c847ac')\n",
    "agent = CriticAgent(llm=llm, search = search)\n",
    "answer = agent.generate(question=question, examples = GSM8K_FEWSHOT_EXAMPLES_DIRECT, prompt=CRITIC_INSTRUCTION_GSM8K, critique_examples=GSM8K_FEWSHOT_EXAMPLES_CRITIC, critique_prompt=CRITIC_CRITIQUE_INSTRUCTION_GSM8K, use_search_tool=False, use_interpreter_tool=True)"
   ]
  },
  {
   "cell_type": "code",
   "execution_count": 18,
   "metadata": {},
   "outputs": [
    {
     "name": "stdout",
     "output_type": "stream",
     "text": [
      "Question: Janet hires six employees. Four of them are warehouse workers who make $15/hour, and the other two are managers who make $20/hour. Janet has to pay 10% of her workers' salaries in FICA taxes. If everyone works 25 days a month and 8 hours a day, how much does Janet owe total for their wages and taxes for one month?\n",
      "```python\n",
      "warehouse_worker_wage = 15\n",
      "manager_wage = 20\n",
      "num_warehouse_workers = 4\n",
      "num_managers = 2\n",
      "total_cost_per_day = (num_warehouse_workers * warehouse_worker_wage * 8) + (num_managers * manager_wage * 8)\n",
      "num_days = 25\n",
      "total_cost_per_month = total_cost_per_day * num_days\n",
      "fica_rate = 0.10\n",
      "fica_taxes = total_cost_per_month * fica_rate\n",
      "answer = total_cost_per_month + fica_taxes\n",
      "```\n",
      "Execution: Done\n",
      "Output: Answer =  22000.0\n",
      "\n",
      "What's the problem with the code?\n",
      "\n",
      "The code you provided is correct and produces the expected output. There is no problem with the code.\n",
      "\n",
      "The total cost for the warehouse workers per day is $15/hour x 8 hours = $120 per worker. For four warehouse workers, the total cost per day is $120 x 4 = $480.\n",
      "The total cost for the managers per day is $20/hour x 8 hours = $160 per manager. For two managers, the total cost per day is $160 x 2 = $320.\n",
      "The total cost per day for all workers is $480 + $320 = $800.\n",
      "In one month, the total cost for all workers is $800 x 25 days = $20,000.\n",
      "The FICA taxes for the workers is 10% of $20,000 = $2,000.\n",
      "Therefore, Janet owes a total of $20,000 + $2,000 = $22,000 for their wages and taxes for one month.\n"
     ]
    }
   ],
   "source": [
    "print(answer)"
   ]
  }
 ],
 "metadata": {
  "kernelspec": {
   "display_name": ".venv",
   "language": "python",
   "name": "python3"
  },
  "language_info": {
   "codemirror_mode": {
    "name": "ipython",
    "version": 3
   },
   "file_extension": ".py",
   "mimetype": "text/x-python",
   "name": "python",
   "nbconvert_exporter": "python",
   "pygments_lexer": "ipython3",
   "version": "3.11.5"
  }
 },
 "nbformat": 4,
 "nbformat_minor": 2
}
