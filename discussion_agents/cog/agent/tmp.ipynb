{
 "cells": [
  {
   "cell_type": "code",
   "execution_count": 1,
   "metadata": {},
   "outputs": [],
   "source": [
    "import dotenv\n",
    "import os\n",
    "\n",
    "dotenv.load_dotenv(\"../.env\")\n",
    "openai_api_key = os.getenv(\"OPENAI_API_KEY\")"
   ]
  },
  {
   "cell_type": "code",
   "execution_count": 2,
   "metadata": {},
   "outputs": [],
   "source": [
    "from discussion_agents.cog.agent.react import ReActAgent\n",
    "from langchain_community.chat_models.openai import ChatOpenAI"
   ]
  },
  {
   "cell_type": "code",
   "execution_count": 3,
   "metadata": {},
   "outputs": [],
   "source": [
    "agent = ReActAgent(llm=ChatOpenAI(openai_api_key=openai_api_key))"
   ]
  },
  {
   "cell_type": "code",
   "execution_count": 4,
   "metadata": {},
   "outputs": [],
   "source": [
    "q = 'Who was once considered the best kick boxer in the world, however he has been involved in a number of controversies relating to his \"unsportsmanlike conducts\" in the sport and crimes of violence outside of the ring'\n"
   ]
  },
  {
   "cell_type": "code",
   "execution_count": 5,
   "metadata": {},
   "outputs": [],
   "source": [
    "out = agent.generate(q)"
   ]
  },
  {
   "cell_type": "code",
   "execution_count": 6,
   "metadata": {},
   "outputs": [
    {
     "data": {
      "text/plain": [
       "[('Thought: I need to search for the best kickboxer in the world who has been involved in controversies related to unsportsmanlike conduct and crimes of violence.',\n",
       "  'Action: Search[best kickboxer in the world controversies unsportsmanlike conduct crimes of violence]',\n",
       "  'Observation 1: Could not find [best kickboxer in the world controversies unsportsmanlike conduct crimes of violence]. Similar: []'),\n",
       " ('Thought: I need to simplify my search query and focus on finding the best kickboxer known for controversies related to unsportsmanlike conduct and crimes of violence.',\n",
       "  'Action: Search[best kickboxer controversies unsportsmanlike conduct crimes of violence]',\n",
       "  'Observation 2: Could not find [best kickboxer controversies unsportsmanlike conduct crimes of violence]. Similar: []'),\n",
       " ('Thought: I should try searching for notable kickboxers known for controversies and then narrow down my search to find the specific one mentioned in the question.',\n",
       "  'Action: Search[notable kickboxers controversies]',\n",
       "  \"Observation 3: Could not find [notable kickboxers controversies]. Similar: ['Regian Eersel', 'Vic Moore', 'List of Donald Trump 2024 presidential campaign primary endorsements', 'List of people from Italy', 'Stan Longinidis', 'Islam in Belgium', 'List of transgender people', 'Benny Urquidez', 'Andrei Stoica', 'Yoel Judah']\"),\n",
       " ('Thought: I need to focus on kickboxers who have been involved in controversies and unsportsmanlike conduct. I should search for specific kickboxers known for such behavior.',\n",
       "  'Action: Search[kickboxers controversies unsportsmanlike conduct]',\n",
       "  \"Observation 4: Could not find [kickboxers controversies unsportsmanlike conduct]. Similar: ['Global Fighting Championship', 'Bobby Ologun', 'Ultimate Fighting Championship', 'Rony Jason']\"),\n",
       " ('Thought: I need to try a different approach. I will search for kickboxers known for their controversial behavior and then find the one who was once considered the best in the world.',\n",
       "  'Action: Search[kickboxers controversial behavior best in the world]',\n",
       "  \"Observation 5: Could not find [kickboxers controversial behavior best in the world]. Similar: ['Tenshin Nasukawa', 'Badr Hari', 'Toshio Fujiwara', 'Buakaw Banchamek', 'Fedor Emelianenko', 'GypsyCrusader', 'List of 1990s films based on actual events', 'Muay Thai', 'List of unsolved deaths', 'List of unsolved murders (2000–present)']\"),\n",
       " ('Thought: I should focus on kickboxers known for their controversial behavior and then specifically look for the one who was once considered the best in the world.',\n",
       "  'Action: Search[kickboxers controversial behavior best kickboxer in the world]',\n",
       "  \"Observation 6: Could not find [kickboxers controversial behavior best kickboxer in the world]. Similar: ['Tenshin Nasukawa', 'Badr Hari', 'Toshio Fujiwara', 'Buakaw Banchamek', 'Fedor Emelianenko', 'GypsyCrusader', 'Muay Thai', 'List of 1990s films based on actual events', 'List of unsolved murders (2000–present)', 'List of unsolved deaths']\")]"
      ]
     },
     "execution_count": 6,
     "metadata": {},
     "output_type": "execute_result"
    }
   ],
   "source": [
    "out"
   ]
  },
  {
   "cell_type": "code",
   "execution_count": null,
   "metadata": {},
   "outputs": [],
   "source": []
  }
 ],
 "metadata": {
  "kernelspec": {
   "display_name": "discussion-agents",
   "language": "python",
   "name": "python3"
  },
  "language_info": {
   "codemirror_mode": {
    "name": "ipython",
    "version": 3
   },
   "file_extension": ".py",
   "mimetype": "text/x-python",
   "name": "python",
   "nbconvert_exporter": "python",
   "pygments_lexer": "ipython3",
   "version": "3.10.13"
  }
 },
 "nbformat": 4,
 "nbformat_minor": 2
}
