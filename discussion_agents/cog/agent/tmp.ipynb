{
 "cells": [
  {
   "cell_type": "markdown",
   "metadata": {},
   "source": [
    "### Demo of Critic Functionality on AmbigNQ task"
   ]
  },
  {
   "cell_type": "code",
   "execution_count": 1,
   "metadata": {},
   "outputs": [],
   "source": [
    "from discussion_agents.cog.agent.critic import CriticAgent\n",
    "from discussion_agents.cog.prompts.critic import CRITIC_INSTRUCTION_AMBIGNQ, CRITIC_CRITIQUE_INSTRUCTION_AMBIGNQ, AMBIGNQ_FEWSHOT_EXAMPLES_DIRECT, AMBIGNQ_FEWSHOT_EXAMPLES_COT, AMBIGNQ_FEWSHOT_EXAMPLES_CRITIC, AMBIGNQ_FEWSHOT_EXAMPLES_REACT"
   ]
  },
  {
   "cell_type": "code",
   "execution_count": 26,
   "metadata": {},
   "outputs": [],
   "source": [
    "# API Keys were here, removed them for security reasons"
   ]
  },
  {
   "cell_type": "code",
   "execution_count": 3,
   "metadata": {},
   "outputs": [],
   "source": [
    "# llm instantiation\n",
    "from langchain_openai import ChatOpenAI\n",
    "llm = ChatOpenAI(model=\"gpt-3.5-turbo\", api_key=OPENAI_API_KEY)"
   ]
  },
  {
   "cell_type": "code",
   "execution_count": 6,
   "metadata": {},
   "outputs": [
    {
     "name": "stderr",
     "output_type": "stream",
     "text": [
      "/home/jared/miniconda3/envs/discussion-agents/lib/python3.11/site-packages/langchain_core/_api/deprecation.py:117: LangChainDeprecationWarning: The class `langchain_community.utilities.google_search.GoogleSearchAPIWrapper` was deprecated in langchain-community 0.0.33 and will be removed in 0.2.0. An updated version of the class exists in the langchain-google-community package and should be used instead. To use it run `pip install -U langchain-google-community` and import as `from langchain_google_community import GoogleSearchAPIWrapper`.\n",
      "  warn_deprecated(\n"
     ]
    }
   ],
   "source": [
    "# google search wrapper instantiation\n",
    "from langchain_community.utilities.google_search import GoogleSearchAPIWrapper\n",
    "search_wrapper = GoogleSearchAPIWrapper(google_api_key=GOOGLE_API_KEY, google_cse_id=GOOGLE_CSE_ID)"
   ]
  },
  {
   "cell_type": "code",
   "execution_count": 8,
   "metadata": {},
   "outputs": [],
   "source": [
    "# agent instantiation\n",
    "agent = CriticAgent(llm=llm, search=search_wrapper)"
   ]
  },
  {
   "cell_type": "markdown",
   "metadata": {},
   "source": [
    "Sample question pulled from the [AmbigNQ dataset](https://huggingface.co/datasets/ambig_qa?row=0)"
   ]
  },
  {
   "cell_type": "code",
   "execution_count": 25,
   "metadata": {},
   "outputs": [],
   "source": [
    "sample_question = 'When did the simpsons first air on television?'"
   ]
  },
  {
   "cell_type": "code",
   "execution_count": 24,
   "metadata": {},
   "outputs": [
    {
     "data": {
      "text/plain": [
       "'The Simpsons first aired on television on December 17, 1989. So the answer is: December 17, 1989.'"
      ]
     },
     "execution_count": 24,
     "metadata": {},
     "output_type": "execute_result"
    }
   ],
   "source": [
    "agent.generate(question=sample_question,\n",
    "        examples=AMBIGNQ_FEWSHOT_EXAMPLES_REACT,\n",
    "        prompt=CRITIC_INSTRUCTION_AMBIGNQ,\n",
    "        critique_examples=AMBIGNQ_FEWSHOT_EXAMPLES_CRITIC,\n",
    "        critique_prompt=CRITIC_CRITIQUE_INSTRUCTION_AMBIGNQ\n",
    ")"
   ]
  },
  {
   "cell_type": "code",
   "execution_count": null,
   "metadata": {},
   "outputs": [],
   "source": []
  }
 ],
 "metadata": {
  "kernelspec": {
   "display_name": "discussion-agents",
   "language": "python",
   "name": "python3"
  },
  "language_info": {
   "codemirror_mode": {
    "name": "ipython",
    "version": 3
   },
   "file_extension": ".py",
   "mimetype": "text/x-python",
   "name": "python",
   "nbconvert_exporter": "python",
   "pygments_lexer": "ipython3",
   "version": "3.11.5"
  }
 },
 "nbformat": 4,
 "nbformat_minor": 2
}
