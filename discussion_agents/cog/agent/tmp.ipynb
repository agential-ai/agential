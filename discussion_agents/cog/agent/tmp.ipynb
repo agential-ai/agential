{
 "cells": [
  {
   "cell_type": "code",
   "execution_count": 1,
   "metadata": {},
   "outputs": [],
   "source": [
    "from discussion_agents.cog.functional.self_refine import _prompt_agent, _prompt_feedback, _prompt_refine\n",
    "from discussion_agents.cog.prompts.self_refine import (\n",
    "    GSM8K_FEWSHOT_EXAMPLES, \n",
    "    GSM8K_FEEDBACK_FEWSHOT_EXAMPLES,\n",
    "    GSM8K_REFINE_FEWSHOT_EXAMPLES,\n",
    "    SELF_REFINE_INSTRUCTION_GSM8K,\n",
    "    SELF_REFINE_FEEDBACK_INSTRUCTION_GSM8K,\n",
    "    SELF_REFINE_REFINE_INSTRUCTION_GSM8K,\n",
    "    SELF_REFINE_FEEDBACK_EXAMPLE_FORMAT_GSM8K\n",
    ")\n",
    "from discussion_agents.cog.agent.self_refine import SelfRefineAgent\n",
    "from langchain_community.chat_models.openai import ChatOpenAI\n",
    "\n",
    "import dotenv\n",
    "import os\n",
    "\n",
    "dotenv.load_dotenv(\"../.env\")\n",
    "openai_api_key = os.getenv(\"OPENAI_API_KEY\")\n",
    "\n",
    "llm = ChatOpenAI(\n",
    "    openai_api_key=openai_api_key\n",
    ")\n",
    "question = \"A robe takes 2 bolts of blue fiber and half that much white fiber.  How many bolts in total does it take?\""
   ]
  },
  {
   "cell_type": "code",
   "execution_count": null,
   "metadata": {},
   "outputs": [],
   "source": [
    "agent = SelfRefineAgent(llm=llm)"
   ]
  },
  {
   "cell_type": "code",
   "execution_count": null,
   "metadata": {},
   "outputs": [],
   "source": [
    "out = agent.generate(\n",
    "    question=question\n",
    ")"
   ]
  },
  {
   "cell_type": "code",
   "execution_count": null,
   "metadata": {},
   "outputs": [],
   "source": []
  }
 ],
 "metadata": {
  "kernelspec": {
   "display_name": "discussion-agents",
   "language": "python",
   "name": "python3"
  },
  "language_info": {
   "codemirror_mode": {
    "name": "ipython",
    "version": 3
   },
   "file_extension": ".py",
   "mimetype": "text/x-python",
   "name": "python",
   "nbconvert_exporter": "python",
   "pygments_lexer": "ipython3",
   "version": "3.10.13"
  }
 },
 "nbformat": 4,
 "nbformat_minor": 2
}
