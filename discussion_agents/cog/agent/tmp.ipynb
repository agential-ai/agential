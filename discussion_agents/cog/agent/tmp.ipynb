{
 "cells": [
  {
   "cell_type": "code",
   "execution_count": 1,
   "metadata": {},
   "outputs": [],
   "source": [
    "from discussion_agents.cog.agent.react import ReActAgent"
   ]
  },
  {
   "cell_type": "code",
   "execution_count": 2,
   "metadata": {},
   "outputs": [],
   "source": [
    "from langchain_community.llms.openai import OpenAI\n",
    "\n",
    "import dotenv\n",
    "\n",
    "dotenv.load_dotenv(\"../../../.env\")\n",
    "\n",
    "llm = OpenAI(model_name=\"gpt-3.5-turbo-instruct\")\n",
    "\n",
    "agent = ReActAgent(llm=llm)"
   ]
  },
  {
   "cell_type": "code",
   "execution_count": 5,
   "metadata": {},
   "outputs": [],
   "source": [
    "q = \"Who was once considered the best kick boxer in the world, however he has been involved in a number of controversies relating to his \\\"unsportsmanlike conducts\\\" in the sport and crimes of violence outside of the ring\"\n",
    "out = agent.generate(observation=q)"
   ]
  },
  {
   "cell_type": "code",
   "execution_count": 6,
   "metadata": {},
   "outputs": [
    {
     "name": "stdout",
     "output_type": "stream",
     "text": [
      "Thought 1: I need to search the best kick boxer in the world, find out if he has been involved in controversies, and if so, what they are.\n",
      "Action 1: Search[best kick boxer in the world]\n",
      "Observation 1: Could not find best kick boxer in the world. Similar: ['Sergej Maslobojev (category Lithuanian male boxers)', 'Jo Prestia (category Sportspeople from the Province of Agrigento)', 'Adrien Broner (category American male boxers)', 'Jarrell Miller (category African-American boxers)', 'Panza Kick Boxing'].\n",
      "\n",
      "Thought 2: I need to expand my search to include the term \"controversies\".\n",
      "Action 2: Search[best kick boxer in the world controversies]\n",
      "Observation 2: Could not find best kick boxer in the world controversies. Similar: ['Oleksandr Usyk (category Boxers at the 2008 Summer Olympics)', 'Boxer Rebellion', 'Anthony Joshua (category Boxers at the 2012 Summer Olympics)', 'Manny Pacquiao (redirect from Controversies surrounding Manny Pacquiao)', 'Mirko Cro Cop (category Croatian male boxers)'].\n",
      "\n",
      "Thought 3: It seems like the best kick boxer in the world may be a subjective title. I will instead search for kick boxers who have been involved in controversies.\n",
      "Action 3: Search[kick boxers controversies]\n",
      "Observation 3: Could not find kick boxers controversies. Similar: ['Boxer Rebellion', 'Manny Pacquiao (redirect from Controversies surrounding Manny Pacquiao)', '2017 in American television', 'Adam Saleh (category YouTube boxers)', 'Andy Souwer (category Light-middleweight boxers)'].\n",
      "\n",
      "Thought 4: I will try searching for kick boxers who have been involved in controversies outside of the ring.\n",
      "Action 4: Search[kick boxers controversies outside of the ring]\n",
      "Observation 4: Could not find kick boxers controversies outside of the ring. Similar: ['Oleksandr Usyk (category The Ring (magazine) champions)', 'Manny Pacquiao (redirect from Controversies surrounding Manny Pacquiao)', 'John Riel Casimero (category Filipino male boxers)', 'Floyd Mayweather Jr. (redirect from The Money Team)', 'Uriah Hall (category Jamaican emigrants to the United States)'].\n",
      "\n",
      "Thought 5: I need to expand my search to include the term \"violence\".\n",
      "Action 5: Search[kick boxers controversies violence]\n",
      "Observation 5: Could not find kick boxers controversies violence. Similar: ['Boxer Rebellion', 'Athletes and domestic violence in the United States', 'Lucia Rijker (category Dutch women boxers)', 'Partner violence in hip hop', 'List of Olympic Games scandals and controversies'].\n",
      "\n",
      "Thought 6: I will try searching for kick boxers who have been involved in violent incidents outside of the ring.\n",
      "Action 6: Search[kick boxers violence outside of the ring]\n",
      "Observation 6: Could not find kick boxers violence outside of the ring. Similar: ['List of Hajime no Ippo characters', 'Floyd Mayweather Jr. (redirect from The Money Team)', 'Amir Khan (boxer)', 'Holly Holm (category American women boxers)', 'Riddick Bowe (category Olympic boxers for the United States)'].\n",
      "\n",
      "Thought 7: I need to expand my search to include the term \"crimes\".\n",
      "Action 7: Search[kick boxers crimes]\n",
      "Observation 7: Could not find kick boxers crimes. Similar: ['Kick Boxer', 'Boxer Rebellion', 'Mickey Cohen (redirect from Siegel crime family)', 'Trevor Berbick (category Boxers at the 1976 Summer Olympics)', 'Al Davis (boxer)'].\n",
      "\n",
      "\n"
     ]
    }
   ],
   "source": [
    "print(out)"
   ]
  },
  {
   "cell_type": "code",
   "execution_count": null,
   "metadata": {},
   "outputs": [],
   "source": []
  }
 ],
 "metadata": {
  "kernelspec": {
   "display_name": "discussion-agents",
   "language": "python",
   "name": "python3"
  },
  "language_info": {
   "codemirror_mode": {
    "name": "ipython",
    "version": 3
   },
   "file_extension": ".py",
   "mimetype": "text/x-python",
   "name": "python",
   "nbconvert_exporter": "python",
   "pygments_lexer": "ipython3",
   "version": "3.10.13"
  }
 },
 "nbformat": 4,
 "nbformat_minor": 2
}
