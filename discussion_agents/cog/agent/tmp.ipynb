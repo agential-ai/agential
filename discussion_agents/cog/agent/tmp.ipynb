{
 "cells": [
  {
   "cell_type": "code",
   "execution_count": 1,
   "metadata": {},
   "outputs": [],
   "source": [
    "from discussion_agents.cog.agent.react import ReActAgent"
   ]
  },
  {
   "cell_type": "code",
   "execution_count": 2,
   "metadata": {},
   "outputs": [],
   "source": [
    "from langchain_community.llms.openai import OpenAI\n",
    "\n",
    "import dotenv\n",
    "\n",
    "dotenv.load_dotenv(\"../../../.env\")\n",
    "\n",
    "llm = OpenAI(model_name=\"gpt-3.5-turbo-instruct\")\n",
    "\n",
    "agent = ReActAgent(llm=llm)"
   ]
  },
  {
   "cell_type": "code",
   "execution_count": 7,
   "metadata": {},
   "outputs": [],
   "source": [
    "q = \"Who was once considered the best kick boxer in the world, however he has been involved in a number of controversies relating to his \\\"unsportsmanlike conducts\\\" in the sport and crimes of violence outside of the ring\"\n",
    "out = agent.generate(observation=q)"
   ]
  },
  {
   "cell_type": "code",
   "execution_count": 8,
   "metadata": {},
   "outputs": [
    {
     "name": "stdout",
     "output_type": "stream",
     "text": [
      "Thought 0: I need to search for a person who was once considered the best kick boxer in the world, but has been involved in controversies and crimes. \n",
      "Action 0: Search[best kick boxer in the world]\n",
      "Observation 0: Jarrell Miller (born July 15, 1988)  is an American professional boxer and former kickboxer who competes in the heavyweight division He first came to prominence in 2007 when he competed for the New Jersey Tigers in the World Combat League and made it to the finals of the New York Golden Gloves tournament that same year Miller was due to challenge Anthony Joshua for the WBA (Super), IBF, WBO, and IBO heavyweight titles in 2019, but was denied a license to box after failing multiple drug tests.In 2018, Miller was ranked as the world's seventh-best heavyweight by BoxRec, and eighth by The Ring.== Early life ==Miller was born and raised in Brooklyn, New York His mother is of Belizean and Irish descent, his father is of Haitian and Dominican descent He took up Muay Thai at the age of 14, as a way to defend himself after being attacked on the street\n",
      "\n"
     ]
    }
   ],
   "source": [
    "print(out)"
   ]
  },
  {
   "cell_type": "code",
   "execution_count": null,
   "metadata": {},
   "outputs": [],
   "source": []
  }
 ],
 "metadata": {
  "kernelspec": {
   "display_name": "discussion-agents",
   "language": "python",
   "name": "python3"
  },
  "language_info": {
   "codemirror_mode": {
    "name": "ipython",
    "version": 3
   },
   "file_extension": ".py",
   "mimetype": "text/x-python",
   "name": "python",
   "nbconvert_exporter": "python",
   "pygments_lexer": "ipython3",
   "version": "3.10.13"
  }
 },
 "nbformat": 4,
 "nbformat_minor": 2
}
