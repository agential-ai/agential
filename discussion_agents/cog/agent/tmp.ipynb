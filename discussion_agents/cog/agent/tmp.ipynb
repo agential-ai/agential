{
 "cells": [
  {
   "cell_type": "code",
   "execution_count": 5,
   "metadata": {},
   "outputs": [],
   "source": [
    "from discussion_agents.cog.agent.critic import CriticAgent\n",
    "from langchain_community.chat_models.openai import ChatOpenAI\n",
    "from langchain_community.utilities.google_search import GoogleSearchAPIWrapper\n",
    "\n",
    "import os\n",
    "import dotenv\n",
    "dotenv.load_dotenv()\n",
    "openai_api_key = os.getenv(\"OPENAI_API_KEY\")\n",
    "google_api_key = os.getenv(\"GOOGLE_API_KEY\") \n",
    "google_cse_id = os.getenv('GOOGLE_CSE_ID')\n",
    "\n",
    "llm = ChatOpenAI(openai_api_key=openai_api_key)\n",
    "search = GoogleSearchAPIWrapper(google_api_key=google_api_key, google_cse_id=google_cse_id)"
   ]
  },
  {
   "cell_type": "code",
   "execution_count": 6,
   "metadata": {},
   "outputs": [],
   "source": [
    "agent = CriticAgent(llm, search)"
   ]
  },
  {
   "cell_type": "code",
   "execution_count": null,
   "metadata": {},
   "outputs": [],
   "source": [
    "question = \"\"\n",
    "\n",
    "agent.generate(\n",
    "    question=question,\n",
    "    examples=,\n",
    "    prompt=,\n",
    "    critique_examples=,\n",
    "    critique_prompt=,\n",
    ")"
   ]
  }
 ],
 "metadata": {
  "kernelspec": {
   "display_name": "discussion-agents",
   "language": "python",
   "name": "python3"
  },
  "language_info": {
   "codemirror_mode": {
    "name": "ipython",
    "version": 3
   },
   "file_extension": ".py",
   "mimetype": "text/x-python",
   "name": "python",
   "nbconvert_exporter": "python",
   "pygments_lexer": "ipython3",
   "version": "3.10.13"
  }
 },
 "nbformat": 4,
 "nbformat_minor": 2
}
