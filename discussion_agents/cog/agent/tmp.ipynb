{
 "cells": [
  {
   "cell_type": "code",
   "execution_count": 5,
   "metadata": {},
   "outputs": [],
   "source": [
    "from langchain_community.chat_models import ChatOpenAI\n",
    "import dotenv\n",
    "import os\n",
    "import joblib\n",
    "from discussion_agents.cog.agent.expel import ExpeLAgent\n",
    "from discussion_agents.cog.modules.memory.expel import ExpeLExperienceMemory\n",
    "\n",
    "dotenv.load_dotenv(\"../.env\")\n",
    "openai_api_key = os.getenv(\"OPENAI_API_KEY\")\n",
    "llm = ChatOpenAI(model_name=\"gpt-3.5-turbo-0125\", openai_api_key=openai_api_key)\n",
    "hotpotqa = joblib.load('../../../tests/assets/hotpotqa/hotpot-qa-distractor-sample.joblib')\n",
    "experiences = joblib.load('../../../tests/assets/expel/expel_experiences_10_fake.joblib')"
   ]
  },
  {
   "cell_type": "code",
   "execution_count": 2,
   "metadata": {},
   "outputs": [],
   "source": [
    "agent = ExpeLAgent(\n",
    "    llm=llm,\n",
    "    self_reflect_llm=llm,\n",
    "    action_llm=llm,\n",
    "    experience_memory=ExpeLExperienceMemory(experiences=experiences)\n",
    ")"
   ]
  },
  {
   "cell_type": "code",
   "execution_count": 3,
   "metadata": {},
   "outputs": [
    {
     "name": "stderr",
     "output_type": "stream",
     "text": [
      "c:\\Users\\tuvin\\anaconda3\\envs\\discussion-agents\\lib\\site-packages\\wikipedia\\wikipedia.py:389: GuessedAtParserWarning: No parser was explicitly specified, so I'm using the best available HTML parser for this system (\"html.parser\"). This usually isn't a problem, but if you run this code on another system, or in a different virtual environment, it may use a different parser and behave differently.\n",
      "\n",
      "The code that caused this warning is on line 389 of the file c:\\Users\\tuvin\\anaconda3\\envs\\discussion-agents\\lib\\site-packages\\wikipedia\\wikipedia.py. To get rid of this warning, pass the additional argument 'features=\"html.parser\"' to the BeautifulSoup constructor.\n",
      "\n",
      "  lis = BeautifulSoup(html).find_all('li')\n"
     ]
    }
   ],
   "source": [
    "experiences = agent.gather_experience(\n",
    "    questions=hotpotqa.question.values[-5:],\n",
    "    keys=hotpotqa.answer.values[-5:]\n",
    ")"
   ]
  },
  {
   "cell_type": "code",
   "execution_count": 4,
   "metadata": {},
   "outputs": [
    {
     "data": {
      "text/plain": [
       "{'idxs': [0, 1, 2, 3, 4],\n",
       " 'questions': [\"VIVA Media AG changed it's name in 2004. What does their new acronym stand for?\",\n",
       "  'Which of Jonny Craig and Pete Doherty has been a member of more bands ?',\n",
       "  'Where was the first governor after the The Missouri Compromise from?',\n",
       "  'The creator of \"Wallace and Gromit\" also created what animation comedy that matched animated zoo animals with a soundtrack of people talking about their homes? ',\n",
       "  \"Woman's Era and Naj are what kind of magazines?\"],\n",
       " 'keys': ['Gesellschaft mit beschränkter Haftung',\n",
       "  'Jonny\" Craig',\n",
       "  'Bath, Maine',\n",
       "  'Creature Comforts',\n",
       "  'fortnightly women interest magazine'],\n",
       " 'trajectories': [[(False,\n",
       "    'unable to find information',\n",
       "    [('Thought: I need to search for VIVA Media AG and find out their new acronym after changing their name in 2004.',\n",
       "      'Action: Search[VIVA Media AG]',\n",
       "      \"Observation 1: Could not find [VIVA Media AG]. Similar: ['MTV Music (Polish TV channel)', 'VIVA Plus', 'Paramount International Networks', 'VIVA (German TV channel)', 'Viacom (1952–2005)', 'Vauxhall Viva', 'Sartorius AG', 'GfK Entertainment charts', 'Lindt', 'Spellbound Entertainment']\"),\n",
       "     (\"Thought: I couldn't find VIVA Media AG, so I should search for VIVA Media AG name change 2004. \",\n",
       "      'Action: Search[VIVA Media AG name change 2004]',\n",
       "      \"Observation 2: Could not find [VIVA Media AG name change 2004]. Similar: ['Vauxhall Viva', 'GfK Entertainment charts', 'Opel Astra', 'Puma (brand)', 'About You Now', 'Priscilla Presley', 'Daihatsu Mira', 'Sildenafil', 'Schneider Electric', 'Bosch (company)']\"),\n",
       "     ('Thought: I should search for the history of VIVA Media AG to find out when they changed their name and what their new acronym stands for.',\n",
       "      'Action: Search[history of VIVA Media AG]',\n",
       "      \"Observation 3: Could not find [history of VIVA Media AG]. Similar: ['MTV Music (Polish TV channel)', 'VIVA Plus', 'Vauxhall Viva', 'Sartorius AG', 'VIVA (German TV channel)', 'GfK Entertainment charts', 'Spellbound Entertainment', 'Lindt', 'Ag-gag', 'Kimberly-Clark']\"),\n",
       "     ('Thought: Since I am unable to find information on VIVA Media AG and its name change in 2004, I should try to search for the new acronym they adopted directly.',\n",
       "      'Action: Search[new acronym of VIVA Media AG]',\n",
       "      \"Observation 4: Could not find [new acronym of VIVA Media AG]. Similar: ['Holden Torana', 'Earth Liberation Front', 'List of Nintendo DS games (Q–Z)', 'Andrés Manuel López Obrador']\"),\n",
       "     ('Thought: I am unable to find information on the new acronym of VIVA Media AG. Since I have exhausted my search options, I will finish the task. ',\n",
       "      'Action: Finish[unable to find information]',\n",
       "      'Observation 5: Answer is INCORRECT')])],\n",
       "  [(True,\n",
       "    'Jonny Craig',\n",
       "    [('Thought: I need to search for information on Jonny Craig and Pete Doherty, find out how many bands they have been a member of, and determine who has been a member of more bands.',\n",
       "      'Action: Search[Jonny Craig]',\n",
       "      'Observation 1: Jenny Craig, Inc., often known simply as Jenny Craig, is an American weight loss, weight management, and nutrition company. The company had more than 700 weight management centers in Australia, the United States, Canada, and New Zealand. The program combined individual weight management counseling with a menu of frozen meals and other foods which were distributed through its centers or shipped directly to clients. On 4 May 2023, the company announced that it was going out of business after 40 years. It was revived as an e-commerce store by Wellful sometime after this announcement in fall 2023.'),\n",
       "     (\"Thought: The search results did not provide information on Jonny Craig's musical career, so I need to refine my search.\",\n",
       "      'Action: Search[Jonny Craig bands]',\n",
       "      'Observation 2: Jonathan Monroe Craig (born March 26, 1986) is an American-Canadian singer, widely recognised for his tenure as the former lead vocalist of renowned post-hardcore bands such as Dance Gavin Dance, Emarosa, and then Slaves (renamed Rain City Drive after his departure), as well as his role as co-lead vocalist in the short-lived supergroup Isles & Glaciers. Presently, he serves as the lead vocalist for the American post-hardcore band Old Flame. As a solo artist, Craig has released two studio albums, two EPs, and a live album, garnering acclaim for his distinctive soul-based singing style.'),\n",
       "     (\"Thought: Jonny Craig has been a member of multiple bands including Dance Gavin Dance, Emarosa, Slaves, Isles & Glaciers, and Old Flame. Now I need to search for information on Pete Doherty's band memberships to compare.\",\n",
       "      'Action: Search[Pete Doherty bands]',\n",
       "      'Observation 3: Peter Doherty (born 12 March 1979) is an English musician, songwriter, actor, poet, writer and artist. He is best known for being co-frontman of the Libertines, which he formed with Carl Barât in 1997. His other musical projects are indie band Babyshambles and Peter Doherty and the Puta Madres.'),\n",
       "     ('Thought: Pete Doherty has been a member of The Libertines, Babyshambles, and Peter Doherty and the Puta Madres. Since Jonny Craig has been a member of more bands, the answer is Jonny Craig.',\n",
       "      'Action: Finish[Jonny Craig]',\n",
       "      'Observation 4: Answer is CORRECT')])],\n",
       "  [(False,\n",
       "    '',\n",
       "    [('Thought: I need to search for information about the first governor after The Missouri Compromise and find out where they were from.',\n",
       "      'Action: Search[The Missouri Compromise]',\n",
       "      'Observation 1: The Missouri Compromise (also known as the Compromise of 1820) was a federal legislation of the United States that balanced desires of northern states to prevent expansion of slavery in the country with those of southern states to expand it. It admitted Missouri as a slave state and Maine as a free state and declared a policy of prohibiting slavery in the remaining Louisiana Purchase lands north of the 36°30′ parallel. The 16th United States Congress passed the legislation on March 3, 1820, and President James Monroe signed it on March 6, 1820.Earlier, in February 1819, Representative James Tallmadge Jr., a Democratic-Republican (Jeffersonian Republican) from New York, had submitted two amendments to Missouri\\'s request for statehood that included restrictions on slavery. Southerners objected to any bill that imposed federal restrictions on slavery and believed that it was a state issue, as settled by the Constitution. However, with the Senate evenly split at the opening of the debates, both sections possessing 11 states, the admission of Missouri as a slave state would give the South an advantage. Northern critics including Federalists and Democratic-Republicans objected to the expansion of slavery into the Louisiana Purchase territory on the Constitutional inequalities of the three-fifths rule, which conferred Southern representation in the federal government derived from a state\\'s slave population.Jeffersonian Republicans in the North ardently maintained that a strict interpretation of the Constitution required that Congress act to limit the spread of slavery on egalitarian grounds. \"[Northern] Republicans rooted their antislavery arguments, not on expediency, but in egalitarian morality.\" \"The Constitution [said northern Jeffersonians], strictly interpreted, gave the sons of the founding generation the legal tools to hasten [the] removal [of slavery], including the refusal to admit additional slave states.\"When free-soil Maine offered its petition for statehood, the Senate quickly linked the Maine and Missouri bills, making Maine admission a condition for Missouri entering the Union as a slave state. Senator Jesse B. Thomas of Illinois added a compromise proviso that excluded slavery from all remaining lands of the Louisiana Purchase north of the 36° 30\\' parallel. The combined measures passed the Senate, only to be voted down in the House by Northern representatives who held out for a free Missouri. Speaker of the House Henry Clay of Kentucky, in a desperate bid to break the deadlock, divided the Senate bills. Clay and his pro-compromise allies succeeded in pressuring half of the anti-restrictionist Southerners in the House to submit to the passage of the Thomas proviso and maneuvered a number of restrictionist northerners in the House to acquiesce in supporting Missouri as a slave state. While the Missouri question in the 15th Congress ended in stalemate on March 4, 1819, with the House sustaining its northern anti-slavery position and the Senate blocking a state that restricted slavery, it succeeded in the 16th Congress.The Missouri Compromise was very controversial, and many worried that the country had become lawfully divided along sectarian lines. The Kansas–Nebraska Act effectively repealed the bill in 1854, and the Supreme Court declared it unconstitutional in Dred Scott v. Sandford (1857), both of which increased tensions over slavery and contributed to the American Civil War. The compromise both delayed the Civil War and sowed its seeds; Thomas Jefferson writing contemporaneously predicted the line it had drawn would someday tear the Union apart. 40 years later, the North and South would split closely along the 36°30′ parallel and fight for four bloody years.'),\n",
       "     ('Thought: The passage does not mention the first governor after The Missouri Compromise. I need to look up information on the first governor after The Missouri Compromise.',\n",
       "      'Action: Lookup[first governor after The Missouri Compromise]',\n",
       "      'Observation 2: No Results'),\n",
       "     (\"Thought: I couldn't find information on the first governor after The Missouri Compromise. I will search for similar entities related to the first governor after The Missouri Compromise to gather more information.\",\n",
       "      'Action: Search[similar entities to the first governor after The Missouri Compromise]',\n",
       "      \"Observation 3: The Midwestern United States, also referred to as the Midwest or the American Midwest, is one of four census regions of the United States Census Bureau. It occupies the northern central part of the United States. It was officially named the North Central Region by the U.S. Census Bureau until 1984. It is between the Northeastern United States and the Western United States, with Canada to the north and the Southern United States to the south.The U.S. Census Bureau's definition consists of 12 states in the north central United States: Illinois, Indiana, Iowa, Kansas, Michigan, Minnesota, Missouri, Nebraska, North Dakota, Ohio, South Dakota, and Wisconsin. The region generally lies on the broad Interior Plain between the states occupying the Appalachian Mountain range and the states occupying the Rocky Mountain range. Major rivers in the region include, from east to west, the Ohio River, the Upper Mississippi River, and the Missouri River. The 2020 United States census put the population of the Midwest at 68,995,685. The Midwest is divided by the U.S. Census Bureau into two divisions. The East North Central Division includes Illinois, Indiana, Michigan, Ohio, and Wisconsin, all of which are also part of the Great Lakes region. The West North Central Division includes Iowa, Kansas, Minnesota, Missouri, North Dakota, Nebraska, and South Dakota, several of which are located, at least partly, within the Great Plains region.Chicago is the most populous city in the American Midwest and the third most populous in the United States. Chicago and its suburbs, colloquially known as Chicagoland, form the largest metropolitan area with 10 million people, making it the fourth largest metropolitan area in North America, after Greater Mexico City, the New York metropolitan area, and Greater Los Angeles. Other large Midwestern cities include Columbus, Indianapolis, Detroit, Milwaukee, Kansas City, Omaha, Minneapolis, Wichita, Cleveland, St. Paul, St. Louis, and Cincinnati. Large Midwestern metropolitan areas include Metro Detroit, Minneapolis–St. Paul, Greater St. Louis, Greater Cincinnati, the Kansas City metro area, the Columbus metro area, and Greater Cleveland.\"),\n",
       "     ('Thought: The passage does not provide information on the first governor after The Missouri Compromise. I should search for other sources of information on the first governor after The Missouri Compromise.',\n",
       "      'Action: Search[first governor after The Missouri Compromise]',\n",
       "      'Observation 4: The Missouri Compromise (also known as the Compromise of 1820) was a federal legislation of the United States that balanced desires of northern states to prevent expansion of slavery in the country with those of southern states to expand it. It admitted Missouri as a slave state and Maine as a free state and declared a policy of prohibiting slavery in the remaining Louisiana Purchase lands north of the 36°30′ parallel. The 16th United States Congress passed the legislation on March 3, 1820, and President James Monroe signed it on March 6, 1820.Earlier, in February 1819, Representative James Tallmadge Jr., a Democratic-Republican (Jeffersonian Republican) from New York, had submitted two amendments to Missouri\\'s request for statehood that included restrictions on slavery. Southerners objected to any bill that imposed federal restrictions on slavery and believed that it was a state issue, as settled by the Constitution. However, with the Senate evenly split at the opening of the debates, both sections possessing 11 states, the admission of Missouri as a slave state would give the South an advantage. Northern critics including Federalists and Democratic-Republicans objected to the expansion of slavery into the Louisiana Purchase territory on the Constitutional inequalities of the three-fifths rule, which conferred Southern representation in the federal government derived from a state\\'s slave population.Jeffersonian Republicans in the North ardently maintained that a strict interpretation of the Constitution required that Congress act to limit the spread of slavery on egalitarian grounds. \"[Northern] Republicans rooted their antislavery arguments, not on expediency, but in egalitarian morality.\" \"The Constitution [said northern Jeffersonians], strictly interpreted, gave the sons of the founding generation the legal tools to hasten [the] removal [of slavery], including the refusal to admit additional slave states.\"When free-soil Maine offered its petition for statehood, the Senate quickly linked the Maine and Missouri bills, making Maine admission a condition for Missouri entering the Union as a slave state. Senator Jesse B. Thomas of Illinois added a compromise proviso that excluded slavery from all remaining lands of the Louisiana Purchase north of the 36° 30\\' parallel. The combined measures passed the Senate, only to be voted down in the House by Northern representatives who held out for a free Missouri. Speaker of the House Henry Clay of Kentucky, in a desperate bid to break the deadlock, divided the Senate bills. Clay and his pro-compromise allies succeeded in pressuring half of the anti-restrictionist Southerners in the House to submit to the passage of the Thomas proviso and maneuvered a number of restrictionist northerners in the House to acquiesce in supporting Missouri as a slave state. While the Missouri question in the 15th Congress ended in stalemate on March 4, 1819, with the House sustaining its northern anti-slavery position and the Senate blocking a state that restricted slavery, it succeeded in the 16th Congress.The Missouri Compromise was very controversial, and many worried that the country had become lawfully divided along sectarian lines. The Kansas–Nebraska Act effectively repealed the bill in 1854, and the Supreme Court declared it unconstitutional in Dred Scott v. Sandford (1857), both of which increased tensions over slavery and contributed to the American Civil War. The compromise both delayed the Civil War and sowed its seeds; Thomas Jefferson writing contemporaneously predicted the line it had drawn would someday tear the Union apart. 40 years later, the North and South would split closely along the 36°30′ parallel and fight for four bloody years.'),\n",
       "     ('Thought: The passage again does not mention the first governor after The Missouri Compromise. I should try searching for specific information on the first governor after The Missouri Compromise.',\n",
       "      'Action: Search[first governor after The Missouri Compromise]',\n",
       "      'Observation 5: The Missouri Compromise (also known as the Compromise of 1820) was a federal legislation of the United States that balanced desires of northern states to prevent expansion of slavery in the country with those of southern states to expand it. It admitted Missouri as a slave state and Maine as a free state and declared a policy of prohibiting slavery in the remaining Louisiana Purchase lands north of the 36°30′ parallel. The 16th United States Congress passed the legislation on March 3, 1820, and President James Monroe signed it on March 6, 1820.Earlier, in February 1819, Representative James Tallmadge Jr., a Democratic-Republican (Jeffersonian Republican) from New York, had submitted two amendments to Missouri\\'s request for statehood that included restrictions on slavery. Southerners objected to any bill that imposed federal restrictions on slavery and believed that it was a state issue, as settled by the Constitution. However, with the Senate evenly split at the opening of the debates, both sections possessing 11 states, the admission of Missouri as a slave state would give the South an advantage. Northern critics including Federalists and Democratic-Republicans objected to the expansion of slavery into the Louisiana Purchase territory on the Constitutional inequalities of the three-fifths rule, which conferred Southern representation in the federal government derived from a state\\'s slave population.Jeffersonian Republicans in the North ardently maintained that a strict interpretation of the Constitution required that Congress act to limit the spread of slavery on egalitarian grounds. \"[Northern] Republicans rooted their antislavery arguments, not on expediency, but in egalitarian morality.\" \"The Constitution [said northern Jeffersonians], strictly interpreted, gave the sons of the founding generation the legal tools to hasten [the] removal [of slavery], including the refusal to admit additional slave states.\"When free-soil Maine offered its petition for statehood, the Senate quickly linked the Maine and Missouri bills, making Maine admission a condition for Missouri entering the Union as a slave state. Senator Jesse B. Thomas of Illinois added a compromise proviso that excluded slavery from all remaining lands of the Louisiana Purchase north of the 36° 30\\' parallel. The combined measures passed the Senate, only to be voted down in the House by Northern representatives who held out for a free Missouri. Speaker of the House Henry Clay of Kentucky, in a desperate bid to break the deadlock, divided the Senate bills. Clay and his pro-compromise allies succeeded in pressuring half of the anti-restrictionist Southerners in the House to submit to the passage of the Thomas proviso and maneuvered a number of restrictionist northerners in the House to acquiesce in supporting Missouri as a slave state. While the Missouri question in the 15th Congress ended in stalemate on March 4, 1819, with the House sustaining its northern anti-slavery position and the Senate blocking a state that restricted slavery, it succeeded in the 16th Congress.The Missouri Compromise was very controversial, and many worried that the country had become lawfully divided along sectarian lines. The Kansas–Nebraska Act effectively repealed the bill in 1854, and the Supreme Court declared it unconstitutional in Dred Scott v. Sandford (1857), both of which increased tensions over slavery and contributed to the American Civil War. The compromise both delayed the Civil War and sowed its seeds; Thomas Jefferson writing contemporaneously predicted the line it had drawn would someday tear the Union apart. 40 years later, the North and South would split closely along the 36°30′ parallel and fight for four bloody years.')])],\n",
       "  [(True,\n",
       "    'Creature Comforts',\n",
       "    [('Thought: I need to search for the creator of \"Wallace and Gromit\" and find out which animation comedy they also created that involves animated zoo animals and people talking about their homes in the soundtrack.',\n",
       "      'Action: Search[creator of \"Wallace and Gromit\"]',\n",
       "      'Observation 1: Wallace and Gromit is a British stop-motion animated comedy franchise created by Nick Park and produced by Aardman Animations. The main film series consists of four short films and one feature-length film, and has spawned numerous spin-offs and TV adaptations. The series centres on Wallace, a good-natured, eccentric, cheese-loving inventor, and Gromit, his loyal and intelligent anthropomorphic beagle. The first short film, A Grand Day Out, was finished and made public in 1989. Wallace was voiced by actor Peter Sallis until 2010 when he was succeeded by Ben Whitehead. Gromit is largely silent and has no dialogue, communicating through facial expressions and body language.Because of their widespread popularity, the characters have been described as positive international cultural icons of both modern British culture and British people in general. BBC News called them \"some of the best-known and best-loved stars to come out of the UK\". Icons has said they have done \"more to improve the image of the English world-wide than any officially appointed ambassadors\". Although not overtly set in any particular town, Park has hinted that it was inspired by 1950s Wigan in Northern England. Wallace\\'s accent comes from the Holme Valley of West Yorkshire. Wallace is fond of Wensleydale cheese (from Wensleydale, North Yorkshire).Their films have received universal acclaim, with the first three short films, A Grand Day Out (1989), The Wrong Trousers (1993) and A Close Shave (1995) earning 100% on Rotten Tomatoes; the feature film Wallace & Gromit: The Curse of the Were-Rabbit (2005) has also received acclaim. The feature film is the second-highest-grossing stop-motion animated film, only outgrossed by Chicken Run (2000), another creation of Park\\'s. A fourth short film, A Matter of Loaf and Death, was released in 2008. The franchise has received numerous accolades, including five British Academy Film Awards, three Academy Awards and a Peabody Award.The Wallace and Gromit characters spearhead the fundraising for two children\\'s charities: Wallace & Gromit\\'s Children\\'s Foundation, which supports children\\'s hospices and hospitals in the United Kingdom, and Wallace and Gromit\\'s Grand Appeal, the charity for Bristol Children\\'s Hospital in Bristol. In December 2010, Wallace and Gromit featured on a festive themed series of UK postage stamps issued by the Royal Mail.'),\n",
       "     ('Thought: The creator of \"Wallace and Gromit\" is Nick Park. Now I need to find out which animation comedy involving animated zoo animals and people talking about their homes in the soundtrack was also created by Nick Park.',\n",
       "      'Action: Search[animation comedy with animated zoo animals and people talking about their homes soundtrack created by Nick Park]',\n",
       "      \"Observation 2: Nicholas Wulstan Park  (born 6 December 1958) is an  English filmmaker and animator who created Wallace and Gromit, Creature Comforts, Chicken Run, Shaun the Sheep, and Early Man. Park has been nominated for an Academy Award a total of six times and won four with Creature Comforts (1989), The Wrong Trousers (1993), A Close Shave (1995) and Wallace & Gromit: The Curse of the Were-Rabbit (2005).He has also received five BAFTA Awards, including the BAFTA for Best Short Animation for A Matter of Loaf and Death, which was also the most watched television programme in the United Kingdom in 2008. His 2000 film Chicken Run is the highest-grossing stop motion animated film.In 1985, Park joined Aardman Animations based in Bristol, and for his work in animation he was among the British cultural icons selected by artist Peter Blake to appear in a 2012 version of Blake's most famous artwork—the Beatles' Sgt. Pepper's Lonely Hearts Club Band album cover—to celebrate the British cultural figures of his life.Park was appointed a Commander of the Order of the British Empire (CBE) in the 1997 Birthday Honours for services to the animated film industry.\"),\n",
       "     ('Thought: The animation comedy involving animated zoo animals and people talking about their homes in the soundtrack that was also created by Nick Park is \"Creature Comforts.\"',\n",
       "      'Action: Finish[Creature Comforts]',\n",
       "      'Observation 3: Answer is CORRECT')])],\n",
       "  [(False,\n",
       "    \"women's interest and lifestyle magazines\",\n",
       "    [(\"Thought: I need to search Woman's Era and Naj to find out what kind of magazines they are.\",\n",
       "      \"Action: Search[Woman's Era]\",\n",
       "      \"Observation 1: Woman's Era is an Indian fortnightly women interest magazine, published in English. It was started in 1973 by Vishwanath under his publishing house, the Delhi Press. The magazine is owned by the Delhi Press. Divesh Nath has been the managing editor of the magazine since 2002.Woman's Era covers diverse topics including fashion, cookery, movie and book review, health, relationships, beauty, lifestyle, travel and technology, with comments on socialites and current events. It includes poems and short stories. It is the second most popular women's magazine after Femina, with an All India Index of 80 as surveyed by the Indian Readership Survey (IRS).\"),\n",
       "     (\"Thought: Woman's Era is a women's interest magazine. I need to search Naj next.\",\n",
       "      'Action: Search[Naj]',\n",
       "      \"Observation 2: Could not find [Naj]. Similar: ['Naj', 'Nakhchivan International Airport', 'Naj Razi', 'Naj, naj', 'Naj, Najbolja', 'Naj Tunich', 'Naj Austin', 'Nag Hammadi', 'NAJ Cosfest', 'Hajj Naj']\"),\n",
       "     (\"Thought: I couldn't find information on Naj. Let me try searching for Naj magazine instead.\",\n",
       "      'Action: Search[Naj magazine]',\n",
       "      \"Observation 3: Naj is a Polish language fortnightly lifestyle and women's magazine published in Warsaw, Poland.\"),\n",
       "     (\"Thought: Woman's Era is a women's interest magazine and Naj is a lifestyle and women's magazine. Both magazines are targeted towards women. \",\n",
       "      \"Action: Finish[women's interest and lifestyle magazines]\",\n",
       "      'Observation 4: Answer is INCORRECT')])]],\n",
       " 'reflections': [[], [], [], [], []]}"
      ]
     },
     "execution_count": 4,
     "metadata": {},
     "output_type": "execute_result"
    }
   ],
   "source": [
    "experiences"
   ]
  },
  {
   "cell_type": "code",
   "execution_count": null,
   "metadata": {},
   "outputs": [],
   "source": []
  }
 ],
 "metadata": {
  "kernelspec": {
   "display_name": "discussion-agents",
   "language": "python",
   "name": "python3"
  },
  "language_info": {
   "codemirror_mode": {
    "name": "ipython",
    "version": 3
   },
   "file_extension": ".py",
   "mimetype": "text/x-python",
   "name": "python",
   "nbconvert_exporter": "python",
   "pygments_lexer": "ipython3",
   "version": "3.10.13"
  }
 },
 "nbformat": 4,
 "nbformat_minor": 2
}
