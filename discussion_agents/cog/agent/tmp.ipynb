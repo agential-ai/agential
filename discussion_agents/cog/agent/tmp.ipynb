{
 "cells": [
  {
   "cell_type": "code",
   "execution_count": 1,
   "metadata": {},
   "outputs": [],
   "source": [
    "import os\n",
    "from dotenv import load_dotenv\n",
    "from langchain import PromptTemplate\n",
    "from langchain.prompts import ChatPromptTemplate\n",
    "from langchain.prompts.chat import SystemMessagePromptTemplate\n",
    "from langchain_community.chat_models import ChatOpenAI\n",
    "from langchain_community.utilities.google_search import GoogleSearchAPIWrapper\n"
   ]
  },
  {
   "cell_type": "code",
   "execution_count": 2,
   "metadata": {},
   "outputs": [],
   "source": [
    "from discussion_agents.cog.prompts.critic import (\n",
    "    CRITIC_CRITIQUE_INSTRUCTION_HOTPOTQA,\n",
    "    CRITIC_INSTRUCTION_HOTPOTQA,\n",
    "    HOTPOTQA_FEWSHOT_EXAMPLES_COT,\n",
    "    HOTPOTQA_FEWSHOT_EXAMPLES_CRITIC,\n",
    ")\n",
    "from discussion_agents.cog.agent.critic import CriticAgent"
   ]
  },
  {
   "cell_type": "code",
   "execution_count": 3,
   "metadata": {},
   "outputs": [],
   "source": [
    "from discussion_agents.cog.prompts.critic import (\n",
    "    CRITIC_INSTRUCTION_GSM8K,\n",
    "    GSM8K_FEWSHOT_EXAMPLES_DIRECT,\n",
    "    CRITIC_CRITIQUE_INSTRUCTION_GSM8K,\n",
    "    GSM8K_FEWSHOT_EXAMPLES_CRITIC,\n",
    ")"
   ]
  },
  {
   "cell_type": "code",
   "execution_count": 4,
   "metadata": {},
   "outputs": [],
   "source": [
    "load_dotenv()\n",
    "GOOGLE_API =  os.environ.get('google_api')\n",
    "GPT_API =  os.environ.get('gpt_api')"
   ]
  },
  {
   "cell_type": "code",
   "execution_count": 5,
   "metadata": {},
   "outputs": [],
   "source": [
    "question = 'Janet hires six employees. Four of them are warehouse workers who make $15/hour, and the other two are managers who make $20/hour. Janet has to pay 10% of her workers\\' salaries in FICA taxes. If everyone works 25 days a month and 8 hours a day, how much does Janet owe total for their wages and taxes for one month?'\n",
    "llm = ChatOpenAI(openai_api_key=GPT_API)\n",
    "search = GoogleSearchAPIWrapper(google_api_key = GOOGLE_API, google_cse_id = '7222942e200c847ac')\n",
    "agent = CriticAgent(llm=llm, search = search)\n",
    "answer,log = agent.generate(question=question, examples = GSM8K_FEWSHOT_EXAMPLES_DIRECT, prompt=CRITIC_INSTRUCTION_GSM8K, critique_examples=GSM8K_FEWSHOT_EXAMPLES_CRITIC, critique_prompt=CRITIC_CRITIQUE_INSTRUCTION_GSM8K)"
   ]
  },
  {
   "cell_type": "code",
   "execution_count": 6,
   "metadata": {},
   "outputs": [
    {
     "data": {
      "text/plain": [
       "\"total_owed\\n```\\n\\nThis code accurately calculates the total amount Janet owes for her employees' wages and taxes for one month. The total amount comes out to $22000, which is the correct answer.\""
      ]
     },
     "execution_count": 6,
     "metadata": {},
     "output_type": "execute_result"
    }
   ],
   "source": [
    "answer"
   ]
  },
  {
   "cell_type": "code",
   "execution_count": 7,
   "metadata": {},
   "outputs": [
    {
     "data": {
      "text/plain": [
       "\"The initial code provided seems to have some issues in the calculations. Let's break down the corrections with a better solution:\\n\\n```python\\n# Define the wages for the workers\\nwarehouse_wage = 15\\nmanager_wage = 20\\n\\n# Define the number of employees in each category\\nnum_warehouse_workers = 4\\nnum_managers = 2\\n\\n# Calculate the total number of hours worked in a month\\nnum_days = 25\\nhours_per_day = 8\\ntotal_hours = num_days * hours_per_day\\n\\n# Calculate the total wages for the workers\\nwarehouse_wages = num_warehouse_workers * warehouse_wage * total_hours\\nmanager_wages = num_managers * manager_wage * total_hours\\ntotal_wages = warehouse_wages + manager_wages\\n\\n# Calculate the total FICA taxes owed\\nfica_rate = 0.10\\ntotal_fica_tax = total_wages * fica_rate\\n\\n# Calculate the total amount owed\\ntotal_owed = total_wages + total_fica_tax\\nanswer = total_owed\\n```\\n\\nThis code accurately calculates the total amount Janet owes for her employees' wages and taxes for one month. The total amount comes out to $22000, which is the correct answer.\""
      ]
     },
     "execution_count": 7,
     "metadata": {},
     "output_type": "execute_result"
    }
   ],
   "source": [
    "log"
   ]
  }
 ],
 "metadata": {
  "kernelspec": {
   "display_name": ".venv",
   "language": "python",
   "name": "python3"
  },
  "language_info": {
   "codemirror_mode": {
    "name": "ipython",
    "version": 3
   },
   "file_extension": ".py",
   "mimetype": "text/x-python",
   "name": "python",
   "nbconvert_exporter": "python",
   "pygments_lexer": "ipython3",
   "version": "3.11.5"
  }
 },
 "nbformat": 4,
 "nbformat_minor": 2
}
