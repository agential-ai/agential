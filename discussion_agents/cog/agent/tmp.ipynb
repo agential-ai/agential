{
 "cells": [
  {
   "cell_type": "code",
   "execution_count": 1,
   "metadata": {},
   "outputs": [],
   "source": [
    "import joblib\n",
    "import numpy as np\n",
    "\n",
    "from langchain.chat_models import ChatOpenAI\n",
    "from discussion_agents.cog.agent.reflexion import ReflexionCoTAgent"
   ]
  },
  {
   "cell_type": "code",
   "execution_count": 2,
   "metadata": {},
   "outputs": [],
   "source": [
    "hotpot = joblib.load('hotpot-qa-distractor-sample.joblib').reset_index(drop = True)\n",
    "\n",
    "hotpot['supporting_paragraphs'] = None\n",
    "for ind, row in hotpot.iterrows():\n",
    "    supporting_articles = row['supporting_facts']['title']\n",
    "    articles = row['context']['title']\n",
    "    sentences = row['context']['sentences'] \n",
    "    supporting_paragraphs = []\n",
    "    for article in supporting_articles:\n",
    "        supporting_paragraph = ''.join(sentences[np.where(articles == article)][0])\n",
    "        supporting_paragraphs.append(supporting_paragraph)\n",
    "    supporting_paragraphs = '\\n\\n'.join(supporting_paragraphs)\n",
    "    hotpot.at[ind, 'supporting_paragraphs'] = supporting_paragraphs"
   ]
  },
  {
   "cell_type": "code",
   "execution_count": 3,
   "metadata": {},
   "outputs": [],
   "source": [
    "row = hotpot.iloc[0]\n",
    "\n",
    "import dotenv\n",
    "import os\n",
    "\n",
    "dotenv.load_dotenv(\"../../.env\")\n",
    "openai_api_key = os.getenv(\"OPENAI_API_KEY\")\n",
    "\n",
    "llm = ChatOpenAI(\n",
    "    temperature=0,\n",
    "    max_tokens=250,\n",
    "    model_name=\"gpt-3.5-turbo\",\n",
    "    model_kwargs={\"stop\": \"\\n\"},\n",
    "    openai_api_key=openai_api_key\n",
    ")\n",
    "\n",
    "agent = ReflexionCoTAgent(\n",
    "    self_reflect_llm=llm,\n",
    "    action_llm=llm,\n",
    "    question=row['question'],\n",
    "    context=row['supporting_paragraphs'],\n",
    "    key=row['answer']\n",
    ")"
   ]
  },
  {
   "cell_type": "code",
   "execution_count": 4,
   "metadata": {},
   "outputs": [
    {
     "data": {
      "text/plain": [
       "\"VIVA Media AG changed it's name in 2004. What does their new acronym stand for?\""
      ]
     },
     "execution_count": 4,
     "metadata": {},
     "output_type": "execute_result"
    }
   ],
   "source": [
    "row[\"question\"]"
   ]
  },
  {
   "cell_type": "code",
   "execution_count": 5,
   "metadata": {},
   "outputs": [
    {
     "data": {
      "text/plain": [
       "'Gesellschaft mit beschränkter Haftung'"
      ]
     },
     "execution_count": 5,
     "metadata": {},
     "output_type": "execute_result"
    }
   ],
   "source": [
    "row[\"answer\"]"
   ]
  },
  {
   "cell_type": "code",
   "execution_count": 6,
   "metadata": {},
   "outputs": [
    {
     "data": {
      "text/plain": [
       "'VIVA Media GmbH (until 2004 \"VIVA Media AG\") is a music television network originating from Germany. It was founded for broadcast of VIVA Germany as VIVA Media AG in 1993 and has been owned by their original concurrent Viacom, the parent company of MTV, since 2004. Viva channels exist in some European countries; the first spin-offs were launched in Poland and Switzerland in 2000.\\n\\nA Gesellschaft mit beschränkter Haftung (] , abbreviated GmbH ] and also GesmbH in Austria) is a type of legal entity very common in Germany, Austria, Switzerland (where it is equivalent to a S.à r.l.) and Liechtenstein. In the United States, the equivalent type of entity is the limited liability company (LLC). The name of the GmbH form emphasizes the fact that the owners (\"Gesellschafter\", also known as members) of the entity are not personally liable for the company\\'s debts. \"GmbH\"s are considered legal persons under German and Austrian law. Other variations include mbH (used when the term \"Gesellschaft\" is part of the company name itself), and gGmbH (\"gemeinnützige\" GmbH) for non-profit companies.'"
      ]
     },
     "execution_count": 6,
     "metadata": {},
     "output_type": "execute_result"
    },
    {
     "ename": "",
     "evalue": "",
     "output_type": "error",
     "traceback": [
      "\u001b[1;31mThe Kernel crashed while executing code in the the current cell or a previous cell. Please review the code in the cell(s) to identify a possible cause of the failure. Click <a href='https://aka.ms/vscodeJupyterKernelCrash'>here</a> for more info. View Jupyter <a href='command:jupyter.viewOutput'>log</a> for further details."
     ]
    }
   ],
   "source": [
    "row[\"supporting_paragraphs\"]"
   ]
  },
  {
   "cell_type": "code",
   "execution_count": 6,
   "metadata": {},
   "outputs": [
    {
     "name": "stdout",
     "output_type": "stream",
     "text": [
      "Thought: The question is asking for the acronym that VIVA Media AG changed its name to in 2004. To find the answer, I need to look for information about VIVA Media AG's name change in the provided context. Let me search for that information.\n",
      "Action: Finish[VIVA Media GmbH]\n",
      "Answer: VIVA Media GmbH\n"
     ]
    }
   ],
   "source": [
    "agents = [agent]\n",
    "n = 1\n",
    "for i in range(n):\n",
    "    agent.generate(context=row[\"context\"], question=row[\"question\"], key=row[\"answer\"], strategy=None)\n",
    "    print(f'Answer: {agent.answer}')"
   ]
  },
  {
   "cell_type": "code",
   "execution_count": 8,
   "metadata": {},
   "outputs": [
    {
     "data": {
      "text/plain": [
       "'Gesellschaft mit beschränkter Haftung'"
      ]
     },
     "execution_count": 8,
     "metadata": {},
     "output_type": "execute_result"
    },
    {
     "ename": "",
     "evalue": "",
     "output_type": "error",
     "traceback": [
      "\u001b[1;31mThe Kernel crashed while executing code in the the current cell or a previous cell. Please review the code in the cell(s) to identify a possible cause of the failure. Click <a href='https://aka.ms/vscodeJupyterKernelCrash'>here</a> for more info. View Jupyter <a href='command:jupyter.viewOutput'>log</a> for further details."
     ]
    }
   ],
   "source": [
    "row[\"answer\"]"
   ]
  },
  {
   "cell_type": "code",
   "execution_count": 14,
   "metadata": {},
   "outputs": [],
   "source": [
    "from discussion_agents.utils.parse import normalize_answer"
   ]
  },
  {
   "cell_type": "code",
   "execution_count": 15,
   "metadata": {},
   "outputs": [],
   "source": [
    "sample_text = \"A fox jumped over the fence. An apple was on the table. The quick brown fox.\"\n",
    "\n",
    "result = normalize_answer(sample_text)\n",
    "expected = \" fox jumped over  fence.  apple was on  table.  quick brown fox.\"\n"
   ]
  },
  {
   "cell_type": "code",
   "execution_count": 16,
   "metadata": {},
   "outputs": [
    {
     "data": {
      "text/plain": [
       "'fox jumped over fence apple was on table quick brown fox'"
      ]
     },
     "execution_count": 16,
     "metadata": {},
     "output_type": "execute_result"
    },
    {
     "ename": "",
     "evalue": "",
     "output_type": "error",
     "traceback": [
      "\u001b[1;31mThe Kernel crashed while executing code in the the current cell or a previous cell. Please review the code in the cell(s) to identify a possible cause of the failure. Click <a href='https://aka.ms/vscodeJupyterKernelCrash'>here</a> for more info. View Jupyter <a href='command:jupyter.viewOutput'>log</a> for further details."
     ]
    }
   ],
   "source": [
    "result"
   ]
  },
  {
   "cell_type": "code",
   "execution_count": 1,
   "metadata": {},
   "outputs": [],
   "source": [
    "from discussion_agents.cog.agent.react import ReActAgent"
   ]
  },
  {
   "cell_type": "code",
   "execution_count": 2,
   "metadata": {},
   "outputs": [],
   "source": [
    "import dotenv\n",
    "import os\n",
    "\n",
    "dotenv.load_dotenv(\"../../.env\")\n",
    "openai_api_key = os.getenv(\"OPENAI_API_KEY\")"
   ]
  },
  {
   "cell_type": "code",
   "execution_count": 3,
   "metadata": {},
   "outputs": [],
   "source": [
    "from langchain_community.llms import OpenAI\n",
    "\n",
    "agent = ReActAgent(llm=OpenAI(openai_api_key=openai_api_key))"
   ]
  },
  {
   "cell_type": "code",
   "execution_count": 4,
   "metadata": {},
   "outputs": [
    {
     "data": {
      "text/plain": [
       "<discussion_agents.cog.agent.react.ReActAgent at 0x1afc03a2c20>"
      ]
     },
     "execution_count": 4,
     "metadata": {},
     "output_type": "execute_result"
    }
   ],
   "source": [
    "agent"
   ]
  },
  {
   "cell_type": "code",
   "execution_count": 5,
   "metadata": {},
   "outputs": [
    {
     "name": "stdout",
     "output_type": "stream",
     "text": [
      "\n",
      "Thought: I need to find the name of the kick boxer who was once considered the best, but has been involved in controversies and crimes.\n",
      "Action: Search[best kick boxer]\n",
      "Observation 1: Jo Prestia (born 5 June 1960 in Porto Empedocle) is an Italian born French kick boxer and actor. He has appeared in more than seventy films since 1996 and is best known for his performance as Le Tenia in the controversial 2002 film, Irréversible.\n",
      "Thought: Jo Prestia is a French kick boxer and actor, not the one I am looking for. I need to refine my search.\n",
      "Action: Lookup[kick boxer]\n",
      "Observation 2: (Result 1/1) Jo Prestia (born 5 June 1960 in Porto Empedocle) is an Italian born French kick boxer and actor. He has appeared in more than seventy films since 1996 and is best known for his performance as Le Tenia in the controversial 2002 film, Irréversible.\n",
      "Thought: I need to add a keyword to my search to find the kick boxer I am looking for.\n",
      "Action: Lookup[best kick boxer controversies]\n",
      "Observation 3: No Results\n",
      "Thought: I need to try a different approach. Maybe I can search for the controversies first.\n",
      "Action: Search[kick boxer controversies]\n",
      "Observation 4: The Boxer Rebellion, also known as the Boxer Uprising, the Boxer Insurrection, or the Yihetuan Movement, was an anti-foreign, anti-imperialist, and anti-Christian uprising in North China between 1899 and 1901, towards the end of the Qing dynasty, by the Society of Righteous and Harmonious Fists (Yìhéquán). The group was known as \"Boxers\" in English because many of its members practised Chinese martial arts, which at the time were referred to as \"Chinese boxing\". It was defeated by the Eight-Nation Alliance of foreign powers.After the Sino-Japanese War of 1895, villagers in North China feared the expansion of foreign spheres of influence and resented the extension of privileges to Christian missionaries, who used them to shield their followers. In 1898 North China experienced several natural disasters, including the Yellow River flooding and droughts, which Boxers blamed on foreign and Christian influence. Beginning in 1899, the movement spread across Shandong and the North China Plain, destroying foreign property such as railroads and attacking or murdering Christian missionaries and Chinese Christians. The events came to a head in June 1900 when Boxer fighters, convinced they were invulnerable to foreign weapons, converged on Beijing with the slogan \"Support the Qing government and exterminate the foreigners.\"Diplomats, missionaries, soldiers, and some Chinese Christians took refuge in the diplomatic Legation Quarter, which the Boxers besieged. An Eight-Nation Alliance of American, Austro-Hungarian, British, French, German, Italian, Japanese and Russian troops moved into China to lift the siege and on 17 June stormed the Dagu Fort at Tianjin. The Empress Dowager Cixi, who had initially been hesitant, supported the Boxers and on 21 June issued an Imperial Decree, a de facto declaration of war, on the invading powers. Chinese officialdom was split between those supporting the Boxers and those favouring conciliation, led by Prince Qing. The supreme commander of the Chinese forces, the Manchu General Ronglu (Junglu), later claimed he acted to protect the foreigners. Officials in the southern provinces ignored the imperial order to fight against foreigners.The Eight-Nation Alliance, after initially being turned back by the Imperial Chinese military and Boxer militia, brought 20,000 armed troops to China. They defeated the Imperial Army in Tianjin and arrived in Beijing on 14 August, relieving the 55-day siege of the Legations. Plunder of the capital and the surrounding countryside ensued, along with summary execution of those suspected of being Boxers in retribution. The Boxer Protocol of 7 September 1901 provided for the execution of government officials who had supported the Boxers, for foreign troops to be stationed in Beijing, and for 450 million taels of silver—more than the government's annual tax revenue—to be paid as indemnity over the course of the next 39 years to the eight invading nations. The Qing dynasty's handling of the Boxer Rebellion further weakened their control over China, and led to major governmental reforms.\n",
      "Thought: This is not the type of controversies I am looking for. I need to refine my search again.\n",
      "Action: Lookup[kick boxer violence]\n",
      "Observation 5: No Results\n",
      "Thought: Maybe I can search for kick boxers who have been involved in violence outside of the ring.\n",
      "Action: Lookup[kick boxer violence outside of the ring]\n",
      "Observation 6: No Results\n"
     ]
    }
   ],
   "source": [
    "q = 'Who was once considered the best kick boxer in the world, however he has been involved in a number of controversies relating to his \"unsportsmanlike conducts\" in the sport and crimes of violence outside of the ring'\n",
    "\n",
    "out = agent.generate(question=q)\n",
    "print(out)"
   ]
  },
  {
   "cell_type": "code",
   "execution_count": null,
   "metadata": {},
   "outputs": [],
   "source": []
  }
 ],
 "metadata": {
  "kernelspec": {
   "display_name": "discussion-agents",
   "language": "python",
   "name": "python3"
  },
  "language_info": {
   "codemirror_mode": {
    "name": "ipython",
    "version": 3
   },
   "file_extension": ".py",
   "mimetype": "text/x-python",
   "name": "python",
   "nbconvert_exporter": "python",
   "pygments_lexer": "ipython3",
   "version": "3.10.13"
  }
 },
 "nbformat": 4,
 "nbformat_minor": 2
}
