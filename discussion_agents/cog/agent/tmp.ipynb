{
 "cells": [
  {
   "cell_type": "code",
   "execution_count": 1,
   "metadata": {},
   "outputs": [],
   "source": [
    "from langchain_community.chat_models import ChatOpenAI\n",
    "import dotenv\n",
    "import os\n",
    "from discussion_agents.cog.agent.reflexion import ReflexionCoTAgent\n",
    "\n",
    "dotenv.load_dotenv(\"../.env\")\n",
    "openai_api_key = os.getenv(\"OPENAI_API_KEY\")\n",
    "llm = ChatOpenAI(model_name=\"gpt-3.5-turbo-0125\", openai_api_key=openai_api_key)\n"
   ]
  },
  {
   "cell_type": "code",
   "execution_count": 2,
   "metadata": {},
   "outputs": [
    {
     "name": "stdout",
     "output_type": "stream",
     "text": [
      "<============================================================>\n",
      "Solve a question answering task by having a Thought, then Finish with your answer. Thought can reason about the current situation. Finish[answer] returns the answer and finishes the task.\n",
      "Here are some examples:\n",
      "Question: What is the elevation range for the area that the eastern sector of the Colorado orogeny extends into?\n",
      "Thought: Let's think step by step. The eastern sector of Colorado orogeny extends into the High Plains. High Plains rise in elevation from around 1,800 to 7,000 ft, so the answer is 1,800 to 7,000 ft.\n",
      "Action: Finish[1,800 to 7,000 ft]\n",
      "\n",
      "Question: Musician and satirist Allie Goertz wrote a song about the \"The Simpsons\" character Milhouse, who Matt Groening named after who?\n",
      "Thought: Let's think step by step. Milhouse was named after U.S. president Richard Nixon, so the answer is Richard Nixon.\n",
      "Action: Finish[Richard Nixon]\n",
      "\n",
      "Question: Which documentary is about Finnish rock groups, Adam Clayton Powell or The Saimaa Gesture?\n",
      "Thought: Let's think step by step. Adam Clayton Powell (film) is a documentary about an African-American politician, not Finnish rock groups. So the documentary about Finnish rock groups must instead be The Saimaa Gesture.\n",
      "Action: Finish[The Saimaa Gesture]\n",
      "\n",
      "Question: What profession does Nicholas Ray and Elia Kazan have in common?\n",
      "Thought: Let's think step by step. Professions of Nicholas Ray are director, screenwriter, and actor. Professions of Elia Kazan are director, producer, screenwriter, and actor. So profession Nicholas Ray and Elia Kazan have in common is director, screenwriter, and actor.\n",
      "Action: Finish[director, screenwriter, actor]\n",
      "\n",
      "Question: Which magazine was started first Arthur's Magazine or First for Women?\n",
      "Thought: Let's think step by step. Arthur's Magazine was started in 1844. First for Women was started in 1989. 1844 (Arthur's Magazine) < 1989 (First for Women), so Arthur's Magazine was started first.\n",
      "Action: Finish[Arthur's Magazine]\n",
      "\n",
      "Question: Were Pavel Urysohn and Leonid Levin known for the same type of work?\n",
      "Thought: Let's think step by step. Pavel Urysohn is a mathematician. Leonid Levin is a mathematician and computer scientist. So Pavel Urysohn and Leonid Levin have the same type of work.\n",
      "Action: Finish[Yes]\n",
      "(END OF EXAMPLES)\n",
      "\n",
      "\n",
      "\n",
      "Question: VIVA Media AG changed it's name in 2004. What does their new acronym stand for?\n",
      "Thought:\n",
      "<============================================================>\n",
      "<============================================================>\n",
      "Solve a question answering task by having a Thought, then Finish with your answer. Thought can reason about the current situation. Finish[answer] returns the answer and finishes the task.\n",
      "Here are some examples:\n",
      "Question: What is the elevation range for the area that the eastern sector of the Colorado orogeny extends into?\n",
      "Thought: Let's think step by step. The eastern sector of Colorado orogeny extends into the High Plains. High Plains rise in elevation from around 1,800 to 7,000 ft, so the answer is 1,800 to 7,000 ft.\n",
      "Action: Finish[1,800 to 7,000 ft]\n",
      "\n",
      "Question: Musician and satirist Allie Goertz wrote a song about the \"The Simpsons\" character Milhouse, who Matt Groening named after who?\n",
      "Thought: Let's think step by step. Milhouse was named after U.S. president Richard Nixon, so the answer is Richard Nixon.\n",
      "Action: Finish[Richard Nixon]\n",
      "\n",
      "Question: Which documentary is about Finnish rock groups, Adam Clayton Powell or The Saimaa Gesture?\n",
      "Thought: Let's think step by step. Adam Clayton Powell (film) is a documentary about an African-American politician, not Finnish rock groups. So the documentary about Finnish rock groups must instead be The Saimaa Gesture.\n",
      "Action: Finish[The Saimaa Gesture]\n",
      "\n",
      "Question: What profession does Nicholas Ray and Elia Kazan have in common?\n",
      "Thought: Let's think step by step. Professions of Nicholas Ray are director, screenwriter, and actor. Professions of Elia Kazan are director, producer, screenwriter, and actor. So profession Nicholas Ray and Elia Kazan have in common is director, screenwriter, and actor.\n",
      "Action: Finish[director, screenwriter, actor]\n",
      "\n",
      "Question: Which magazine was started first Arthur's Magazine or First for Women?\n",
      "Thought: Let's think step by step. Arthur's Magazine was started in 1844. First for Women was started in 1989. 1844 (Arthur's Magazine) < 1989 (First for Women), so Arthur's Magazine was started first.\n",
      "Action: Finish[Arthur's Magazine]\n",
      "\n",
      "Question: Were Pavel Urysohn and Leonid Levin known for the same type of work?\n",
      "Thought: Let's think step by step. Pavel Urysohn is a mathematician. Leonid Levin is a mathematician and computer scientist. So Pavel Urysohn and Leonid Levin have the same type of work.\n",
      "Action: Finish[Yes]\n",
      "(END OF EXAMPLES)\n",
      "\n",
      "\n",
      "\n",
      "Question: VIVA Media AG changed it's name in 2004. What does their new acronym stand for?\n",
      "Thought: Let's think step by step. VIVA Media AG changed its name to VMM in 2004. VMM stands for VIVA Media Management.Action: Finish[VIVA Media Management]\n",
      "Action:\n",
      "<============================================================>\n",
      "<REFLECT============================================================>\n",
      "You are an advanced reasoning agent that can improve based on self refection. You will be given a previous reasoning trial in which you were given a question to answer. You were unsuccessful in answering the question either because you guessed the wrong answer with Finish[<answer>] or there is a phrasing discrepancy with your provided answer and the answer key. In a few sentences, Diagnose a possible reason for failure or phrasing discrepancy and devise a new, concise, high level plan that aims to mitigate the same failure. Use complete sentences.\n",
      "Here are some examples:\n",
      "Question: What is the elevation range for the area that the eastern sector of the Colorado orogeny extends into?\n",
      "Thought: Let's think step by step. The eastern sector of Colorado orogeny extends into the Rocky Mountains. The Rocky Mountains rise in elevation from around 1,800 to 14,000 ft, so the answer is 1,800 to 14,000 ft.\n",
      "Action: Finish[1,800 to 14,000 ft]\n",
      "\n",
      "Reflection: My reasoning for the elevation range of the eastern sector of the Colorado orogeny failed because I incorrectly associated it with the Rocky Mountains instead of the High Plains. In the future, when attempting this question, I should focus on better understanding the geography and geological formations involved in the Colorado orogeny to avoid confusion.\n",
      "\n",
      "Question: Musician and satirist Allie Goertz wrote a song about the \"The Simpsons\" character Milhouse, who Matt Groening named after who?\n",
      "Thought: Let's think step by step. Milhouse was named after a prominent cartoon character, Mickey Mouse, so the answer is Mickey Mouse.\n",
      "Action: Finish[Mickey Mouse]\n",
      "\n",
      "Reflection: My reasoning for the naming of the character Milhouse in \"The Simpsons\" failed because I incorrectly assumed that the character was named after a prominent cartoon character, Mickey Mouse. In the future, when attempting this question, I should focus on better researching the background of \"The Simpsons\" and Matt Groening's influences in naming characters to avoid making incorrect assumptions. \n",
      "(END OF EXAMPLES)\n",
      "\n",
      "Previous trial:\n",
      "Question: VIVA Media AG changed it's name in 2004. What does their new acronym stand for?\n",
      "\n",
      "Reflection:\n",
      "<REFLECT============================================================>\n",
      "<============================================================>\n",
      "Solve a question answering task by having a Thought, then Finish with your answer. Thought can reason about the current situation. Finish[answer] returns the answer and finishes the task.\n",
      "Here are some examples:\n",
      "Question: What is the elevation range for the area that the eastern sector of the Colorado orogeny extends into?\n",
      "Thought: Let's think step by step. The eastern sector of Colorado orogeny extends into the High Plains. High Plains rise in elevation from around 1,800 to 7,000 ft, so the answer is 1,800 to 7,000 ft.\n",
      "Action: Finish[1,800 to 7,000 ft]\n",
      "\n",
      "Question: Musician and satirist Allie Goertz wrote a song about the \"The Simpsons\" character Milhouse, who Matt Groening named after who?\n",
      "Thought: Let's think step by step. Milhouse was named after U.S. president Richard Nixon, so the answer is Richard Nixon.\n",
      "Action: Finish[Richard Nixon]\n",
      "\n",
      "Question: Which documentary is about Finnish rock groups, Adam Clayton Powell or The Saimaa Gesture?\n",
      "Thought: Let's think step by step. Adam Clayton Powell (film) is a documentary about an African-American politician, not Finnish rock groups. So the documentary about Finnish rock groups must instead be The Saimaa Gesture.\n",
      "Action: Finish[The Saimaa Gesture]\n",
      "\n",
      "Question: What profession does Nicholas Ray and Elia Kazan have in common?\n",
      "Thought: Let's think step by step. Professions of Nicholas Ray are director, screenwriter, and actor. Professions of Elia Kazan are director, producer, screenwriter, and actor. So profession Nicholas Ray and Elia Kazan have in common is director, screenwriter, and actor.\n",
      "Action: Finish[director, screenwriter, actor]\n",
      "\n",
      "Question: Which magazine was started first Arthur's Magazine or First for Women?\n",
      "Thought: Let's think step by step. Arthur's Magazine was started in 1844. First for Women was started in 1989. 1844 (Arthur's Magazine) < 1989 (First for Women), so Arthur's Magazine was started first.\n",
      "Action: Finish[Arthur's Magazine]\n",
      "\n",
      "Question: Were Pavel Urysohn and Leonid Levin known for the same type of work?\n",
      "Thought: Let's think step by step. Pavel Urysohn is a mathematician. Leonid Levin is a mathematician and computer scientist. So Pavel Urysohn and Leonid Levin have the same type of work.\n",
      "Action: Finish[Yes]\n",
      "(END OF EXAMPLES)\n",
      "\n",
      "You have attempted to answer following question before and failed. The following reflection(s) give a plan to avoid failing to answer the question in the same way you did previously. Use them to improve your strategy of correctly answering the given question.\n",
      "Reflections:\n",
      "- My reasoning for the acronym of VIVA Media AG's name change in 2004 failed because I did not consider the specific details of the company's rebranding. In the future, I should focus on researching the history and background of VIVA Media AG to understand the reasoning behind their new acronym. New high-level plan: 1. Research the history and background of VIVA Media AG to understand the context of their name change in 2004.2. Identify any information or announcements related to the company's rebranding process.3. Use this information to determine the new acronym that VIVA Media AG adopted after changing its name in 2004.\n",
      "\n",
      "Question: VIVA Media AG changed it's name in 2004. What does their new acronym stand for?\n",
      "Thought:\n",
      "<============================================================>\n",
      "<============================================================>\n",
      "Solve a question answering task by having a Thought, then Finish with your answer. Thought can reason about the current situation. Finish[answer] returns the answer and finishes the task.\n",
      "Here are some examples:\n",
      "Question: What is the elevation range for the area that the eastern sector of the Colorado orogeny extends into?\n",
      "Thought: Let's think step by step. The eastern sector of Colorado orogeny extends into the High Plains. High Plains rise in elevation from around 1,800 to 7,000 ft, so the answer is 1,800 to 7,000 ft.\n",
      "Action: Finish[1,800 to 7,000 ft]\n",
      "\n",
      "Question: Musician and satirist Allie Goertz wrote a song about the \"The Simpsons\" character Milhouse, who Matt Groening named after who?\n",
      "Thought: Let's think step by step. Milhouse was named after U.S. president Richard Nixon, so the answer is Richard Nixon.\n",
      "Action: Finish[Richard Nixon]\n",
      "\n",
      "Question: Which documentary is about Finnish rock groups, Adam Clayton Powell or The Saimaa Gesture?\n",
      "Thought: Let's think step by step. Adam Clayton Powell (film) is a documentary about an African-American politician, not Finnish rock groups. So the documentary about Finnish rock groups must instead be The Saimaa Gesture.\n",
      "Action: Finish[The Saimaa Gesture]\n",
      "\n",
      "Question: What profession does Nicholas Ray and Elia Kazan have in common?\n",
      "Thought: Let's think step by step. Professions of Nicholas Ray are director, screenwriter, and actor. Professions of Elia Kazan are director, producer, screenwriter, and actor. So profession Nicholas Ray and Elia Kazan have in common is director, screenwriter, and actor.\n",
      "Action: Finish[director, screenwriter, actor]\n",
      "\n",
      "Question: Which magazine was started first Arthur's Magazine or First for Women?\n",
      "Thought: Let's think step by step. Arthur's Magazine was started in 1844. First for Women was started in 1989. 1844 (Arthur's Magazine) < 1989 (First for Women), so Arthur's Magazine was started first.\n",
      "Action: Finish[Arthur's Magazine]\n",
      "\n",
      "Question: Were Pavel Urysohn and Leonid Levin known for the same type of work?\n",
      "Thought: Let's think step by step. Pavel Urysohn is a mathematician. Leonid Levin is a mathematician and computer scientist. So Pavel Urysohn and Leonid Levin have the same type of work.\n",
      "Action: Finish[Yes]\n",
      "(END OF EXAMPLES)\n",
      "\n",
      "You have attempted to answer following question before and failed. The following reflection(s) give a plan to avoid failing to answer the question in the same way you did previously. Use them to improve your strategy of correctly answering the given question.\n",
      "Reflections:\n",
      "- My reasoning for the acronym of VIVA Media AG's name change in 2004 failed because I did not consider the specific details of the company's rebranding. In the future, I should focus on researching the history and background of VIVA Media AG to understand the reasoning behind their new acronym. New high-level plan: 1. Research the history and background of VIVA Media AG to understand the context of their name change in 2004.2. Identify any information or announcements related to the company's rebranding process.3. Use this information to determine the new acronym that VIVA Media AG adopted after changing its name in 2004.\n",
      "\n",
      "Question: VIVA Media AG changed it's name in 2004. What does their new acronym stand for?\n",
      "Thought: Let's follow the new high-level plan and focus on researching the history and background of VIVA Media AG to understand the context of their name change in 2004. We need to identify any information or announcements related to the company's rebranding process to determine the new acronym they adopted.Action: Finish[Follow the new high-level plan to research the history and background of VIVA Media AG for the new acronym after their name change in 2004]\n",
      "Action:\n",
      "<============================================================>\n"
     ]
    }
   ],
   "source": [
    "question = \"VIVA Media AG changed it's name in 2004. What does their new acronym stand for?\"\n",
    "key = \"Gesellschaft mit beschränkter Haftung\"\n",
    "\n",
    "agggent = ReflexionCoTAgent(self_reflect_llm=llm, action_llm=llm, max_trials=2)\n",
    "\n",
    "out = agggent.generate(question=question, key=key, strategy=\"reflexion\")"
   ]
  },
  {
   "cell_type": "markdown",
   "metadata": {},
   "source": [
    "Given we change the examples/prompts for agent/reflect, what changes must be made?\n",
    "- the states of the agent\n",
    "\n",
    "The states of the reflexion react agent are: reflector and memory\n",
    "- memory stores scratchpad info only\n",
    "- reflector stores reflections only\n",
    "\n",
    "Given the above context, if we modify the examples, prompt, reflect_examples, and reflect_prompt, what happens to the agent states?\n",
    "- if we modify both/either examples or prompt, the input to the llm for prompting the agent is diff but\n",
    "the outputs won't differ; memory stores scratchpad (output) only so no change here; reflector does not change in this case\n",
    "- if we modify both/either examples or prompt, the input to the llm reflect is diff but \n",
    "the outputs won't differ; reflector stores reflections (output) only so no change here; memory does not store reflections\n",
    "\n",
    "So memory and reflection don't bleed into each other. They are mutually exclusive? Yes.\n",
    "\n",
    "If I make changes in the prompt for the agent (examples/prompt), should these changes be reflected in the prompt for reflection?\n",
    "For example, if I include \"insights\" or fewshot examples in the prompt for the agent, shouldn't these also be present in the \n",
    "prompt input during reflection?\n",
    "\n",
    "Reflection takes in \"question\", \"examples\", \"reflections\". In this case, examples refers to fewshot reflection examples not the ones used \n",
    "in the prompting for the agent. I notice in original react and reflexion, they don't include these fewshot examples in reflection and it\n",
    "wouldn't make much sense to anyways. It's not relevant context for the sake of reflection.\n",
    "\n",
    "What about insights? That's slightly different from reflections, shouldn't that be included in the prompts for reflection (since it's\n",
    "used for prompting the agent). This does make slight sense, except these insights are meant to be fixed and not updated (unless it's done by\n",
    "the expel insight extraction stage 2 process) by the llm during reflection. So if it were to be included during reflexion, it would be static/fixed.\n",
    "\n",
    "Ok, but then if it's static/fixed in the reflection prompt, don't you think it'll help out the reflection process? \n",
    "\n",
    "The ExpeL paper uses basic ReAct during stage 3 evaluation. I have no idea how they would go about it with reflexion + react. That being said,\n",
    "generally, nothing in the input to the prompt agent is used as input to the reflect component of reflexion. This is true for CoT and react.\n",
    "\n",
    "Hmmmmmm, then what's stopping you from incorporating these insights into the prompt? Well, first off, we know that these insights shouldn't be \n",
    "part of the reflection output/reflector class state. But now it begs the question: should it be part of the input to the reflection component?\n",
    "\n",
    "My answer is a bit mixed on this. It makes sense to include it, but generally you don't include input to prompt agent as the input to the reflection process.\n",
    "\n",
    "It kinda makes sense that the insights would aid in the reflection process, but then how would this even look? Well, the reflect prompt\n",
    "would probably have either a new argument (unlikely) or the insights are appended to the examples (probably the case). The problem is\n",
    "the reflector should be focused on the reflection process. These insights aid in inference not reflection. That's what they're geared for.\n",
    "\n",
    "I'm leaning towards no. if it is yes, then it would have to be appended to the examples or we could have kwargs (but this gets complicated\n",
    "very quickly; let's stay away from this).\n",
    "\n",
    "So if we do do it, it must be through appending the examples. Though I don't think this matters because we won't do this. It wouldn't make\n",
    "sense. The insights are for inference not for reflection, but then again, the insights would be partially responsible for inference output.\n",
    "\n",
    "Ok, I think I won't do it. But, to be comprehensive, is there harm in providing the option to do that? No. Let's just implement something and see where this takes us. oK\n"
   ]
  },
  {
   "cell_type": "code",
   "execution_count": null,
   "metadata": {},
   "outputs": [],
   "source": [
    "import joblib \n",
    "from discussion_agents.cog.modules.memory.expel import ExpeLExperienceMemory\n",
    "\n",
    "hotpotqa = joblib.load('../../../tests/assets/hotpotqa/hotpot-qa-distractor-sample.joblib')\n",
    "experiences = joblib.load('../../../tests/assets/expel/expel_experiences_10_fake.joblib')\n",
    "memory = ExpeLExperienceMemory(experiences)"
   ]
  },
  {
   "cell_type": "code",
   "execution_count": null,
   "metadata": {},
   "outputs": [],
   "source": [
    "queries = {\n",
    "    \"task\": 'The creator of \"Wallace and Gromit\" also created what animation comedy that matched animated zoo animals with a soundtrack of people talking about their homes? ',\n",
    "    \"thought\": 'Thought: I should try a different approach. Let me search for press releases, industry news sources, or announcements specifically related to the name change and new acronym for VIVA Media AG in 2004. By focusing on more specialized sources, I may be able to find the accurate information needed to answer the question correctly. ',\n",
    "    \"other\": \"Some other query.\"\n",
    "}\n",
    "\n",
    "memory_dict = memory.load_memories(query=queries[\"task\"])['fewshots']"
   ]
  },
  {
   "cell_type": "code",
   "execution_count": null,
   "metadata": {},
   "outputs": [],
   "source": [
    "print(\"\\n\\n\".join(memory_dict + [\"(END OF EXAMPLES)\"]))"
   ]
  },
  {
   "cell_type": "code",
   "execution_count": null,
   "metadata": {},
   "outputs": [],
   "source": [
    "RULE_PREFIX = \"\"\"\n",
    "The following are some experience you gather on a similar task of question answering using Wikipedia API. Use these as references to help you perform this task:\n",
    "\"\"\"\n",
    "print(RULE_PREFIX)"
   ]
  },
  {
   "cell_type": "code",
   "execution_count": null,
   "metadata": {},
   "outputs": [],
   "source": [
    "from discussion_agents.cog.modules.memory.expel import ExpeLInsightMemory\n",
    "\n",
    "insights = [('If the initial search does not provide information related to the specific question, try to explore different angles or sources to gather relevant information that may lead to the answer. Consider refining the search query with more specific and relevant keywords to narrow down the search results and find the desired information effectively.',\n",
    "  5),\n",
    " ('If unable to find the answer after exploring different search options, consider reaching out to additional sources or experts for assistance in obtaining the required information.',\n",
    "  2),\n",
    " ('When searching for specific information, try to include relevant keywords related to the topic to narrow down the search results and find the desired information effectively.',\n",
    "  2),\n",
    " ('When searching for specific information, consider verifying the credibility of the sources to ensure the accuracy of the information retrieved.',\n",
    "  2),\n",
    " ('When faced with a search query, consider utilizing different search engines or platforms to gather information and find the desired answer effectively.',\n",
    "  1)]\n",
    "\n",
    "insights = [{\"insight\": insight[0], \"score\": insight[1]} for insight in insights]\n",
    "memory = ExpeLInsightMemory(insights=insights, max_num_insights=5, leeway=1)"
   ]
  },
  {
   "cell_type": "code",
   "execution_count": null,
   "metadata": {},
   "outputs": [],
   "source": [
    "memory.load_memories()['insights']"
   ]
  },
  {
   "cell_type": "code",
   "execution_count": null,
   "metadata": {},
   "outputs": [],
   "source": [
    "insights = memory.load_memories()['insights']\n",
    "\n",
    "c = \"\".join([f\"{i}. {insight['insight']}\\n\" for i, insight in enumerate(insights, 1)])"
   ]
  },
  {
   "cell_type": "code",
   "execution_count": null,
   "metadata": {},
   "outputs": [],
   "source": [
    "print(a)"
   ]
  },
  {
   "cell_type": "code",
   "execution_count": null,
   "metadata": {},
   "outputs": [],
   "source": [
    "print(c)"
   ]
  },
  {
   "cell_type": "code",
   "execution_count": null,
   "metadata": {},
   "outputs": [],
   "source": [
    "insights = memory.load_memories()['insights']\n",
    "\n",
    "a = \"The following are some experience you gather on a similar task of question answering using Wikipedia API. Use these as references to help you perform this task:\\n\"\n",
    "for i, insight in enumerate(insights, 1):\n",
    "    a += f\"{i}. {insight['insight']}\\n\""
   ]
  },
  {
   "cell_type": "code",
   "execution_count": null,
   "metadata": {},
   "outputs": [],
   "source": [
    "b = \"\\n\\n\".join(memory_dict + [\"(END OF EXAMPLES)\"]) + \"\\n\"\n",
    "b += RULE_PREFIX\n",
    "c = \"\".join([f\"{i}. {insight['insight']}\\n\" for i, insight in enumerate([], 1)])\n",
    "b += c"
   ]
  },
  {
   "cell_type": "code",
   "execution_count": null,
   "metadata": {},
   "outputs": [],
   "source": [
    "print(b)"
   ]
  },
  {
   "cell_type": "code",
   "execution_count": null,
   "metadata": {},
   "outputs": [],
   "source": [
    "from discussion_agents.cog.prompts.react import REACT_WEBTHINK_SIMPLE6_FEWSHOT_EXAMPLES\n",
    "\n",
    "print(\"\\n\\n\".join([REACT_WEBTHINK_SIMPLE6_FEWSHOT_EXAMPLES] + [\"adasd\"]) + \"\\n\")\n"
   ]
  },
  {
   "cell_type": "code",
   "execution_count": null,
   "metadata": {},
   "outputs": [],
   "source": [
    "print(a)"
   ]
  },
  {
   "cell_type": "code",
   "execution_count": null,
   "metadata": {},
   "outputs": [],
   "source": []
  },
  {
   "cell_type": "code",
   "execution_count": null,
   "metadata": {},
   "outputs": [],
   "source": [
    "EXPEL_REFLEXION_REACT_INSTRUCTION = \"\"\"\n",
    "Solve a question answering task with interleaving Thought, Action, Observation steps. Thought can reason about the current situation, and Action can be three types: \n",
    "(1) Search[entity], which searches the exact entity on Wikipedia and returns the first paragraph if it exists. If not, it will return some similar entities to search.\n",
    "(2) Lookup[keyword], which returns the next sentence containing keyword in the last passage successfully found by Search.\n",
    "(3) Finish[answer], which returns the answer and finishes the task.\n",
    "You have a maximum of {max_steps} steps.\n",
    "\n",
    "Here are some examples:\n",
    "{examples}\n",
    "\n",
    "{reflections}\n",
    "\n",
    "Question: {question}{scratchpad}\n",
    "\"\"\"\n",
    "\n",
    "examples = \"\\n\\n\".join(memory_dict) + \"\\n\\n\" + \"(END OF EXAMPLES)\" + \"\\n\\n\"\n",
    "print(examples)"
   ]
  },
  {
   "cell_type": "code",
   "execution_count": null,
   "metadata": {},
   "outputs": [],
   "source": [
    "agent = ExpeLAgent(\n",
    "    llm=llm,\n",
    "    self_reflect_llm=llm,\n",
    "    action_llm=llm\n",
    ")"
   ]
  },
  {
   "cell_type": "code",
   "execution_count": null,
   "metadata": {},
   "outputs": [],
   "source": [
    "from discussion_agents.cog.prompts.react import REACT_WEBTHINK_SIMPLE6_FEWSHOT_EXAMPLES"
   ]
  },
  {
   "cell_type": "code",
   "execution_count": null,
   "metadata": {},
   "outputs": [],
   "source": [
    "a == REACT_WEBTHINK_SIMPLE6_FEWSHOT_EXAMPLES + \"\\n(END OF EXAMPLES)\\n\""
   ]
  },
  {
   "cell_type": "code",
   "execution_count": null,
   "metadata": {},
   "outputs": [],
   "source": [
    "a = \"\"\"\n",
    "Here are some examples:\n",
    "{examples}\n",
    "(END OF EXAMPLES)\n",
    "\"\"\"\n",
    "\n",
    "b = f\"\"\"\n",
    "Here are some examples:\n",
    "{REACT_WEBTHINK_SIMPLE6_FEWSHOT_EXAMPLES}\n",
    "\"\"\" + \\\n",
    "\"(END OF EXAMPLES)\\n\"\n",
    "\n",
    "a.format(examples=REACT_WEBTHINK_SIMPLE6_FEWSHOT_EXAMPLES) == b"
   ]
  },
  {
   "cell_type": "code",
   "execution_count": null,
   "metadata": {},
   "outputs": [],
   "source": [
    "a"
   ]
  },
  {
   "cell_type": "code",
   "execution_count": null,
   "metadata": {},
   "outputs": [],
   "source": [
    "from discussion_agents.cog.agent.reflexion import ReflexionReActAgent\n",
    "\n",
    "reflexion_agent = ReflexionReActAgent(\n",
    "    self_reflect_llm=llm,\n",
    "    action_llm=llm\n",
    ")"
   ]
  },
  {
   "cell_type": "code",
   "execution_count": null,
   "metadata": {},
   "outputs": [],
   "source": [
    "reflexion_agent.generate(\n",
    "    hotpotqa.iloc[0].question,\n",
    "    hotpotqa.iloc[0].answer\n",
    ")"
   ]
  },
  {
   "cell_type": "code",
   "execution_count": null,
   "metadata": {},
   "outputs": [],
   "source": [
    "agent.insight_memory.insights"
   ]
  },
  {
   "cell_type": "code",
   "execution_count": null,
   "metadata": {},
   "outputs": [],
   "source": [
    "agent.gather_experience(\n",
    "    questions=hotpotqa.question.values[:1],\n",
    "    keys=hotpotqa.answer.values[:1]\n",
    ")"
   ]
  },
  {
   "cell_type": "code",
   "execution_count": null,
   "metadata": {},
   "outputs": [],
   "source": [
    "agent.insight_memory.insights"
   ]
  },
  {
   "cell_type": "code",
   "execution_count": null,
   "metadata": {},
   "outputs": [],
   "source": [
    "agent.experience_memory.experiences['trajectories'][0]"
   ]
  },
  {
   "cell_type": "code",
   "execution_count": null,
   "metadata": {},
   "outputs": [],
   "source": [
    "agent.experience_memory.success_traj_docs"
   ]
  },
  {
   "cell_type": "code",
   "execution_count": null,
   "metadata": {},
   "outputs": [],
   "source": [
    "agent.experience_memory.vectorstore"
   ]
  },
  {
   "cell_type": "code",
   "execution_count": null,
   "metadata": {},
   "outputs": [],
   "source": [
    "agent.insight_memory.insights"
   ]
  },
  {
   "cell_type": "code",
   "execution_count": null,
   "metadata": {},
   "outputs": [],
   "source": []
  }
 ],
 "metadata": {
  "kernelspec": {
   "display_name": "discussion-agents",
   "language": "python",
   "name": "python3"
  },
  "language_info": {
   "codemirror_mode": {
    "name": "ipython",
    "version": 3
   },
   "file_extension": ".py",
   "mimetype": "text/x-python",
   "name": "python",
   "nbconvert_exporter": "python",
   "pygments_lexer": "ipython3",
   "version": "3.10.13"
  }
 },
 "nbformat": 4,
 "nbformat_minor": 2
}
