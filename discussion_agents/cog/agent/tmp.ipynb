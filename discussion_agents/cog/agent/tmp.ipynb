{
 "cells": [
  {
   "cell_type": "code",
   "execution_count": 1,
   "metadata": {},
   "outputs": [],
   "source": [
    "import joblib\n",
    "import numpy as np\n",
    "\n",
    "from langchain.chat_models import ChatOpenAI\n",
    "from discussion_agents.cog.agent.reflexion import ReflexionCoTAgent"
   ]
  },
  {
   "cell_type": "code",
   "execution_count": 2,
   "metadata": {},
   "outputs": [],
   "source": [
    "hotpot = joblib.load('hotpot-qa-distractor-sample.joblib').reset_index(drop = True)\n",
    "\n",
    "hotpot['supporting_paragraphs'] = None\n",
    "for ind, row in hotpot.iterrows():\n",
    "    supporting_articles = row['supporting_facts']['title']\n",
    "    articles = row['context']['title']\n",
    "    sentences = row['context']['sentences'] \n",
    "    supporting_paragraphs = []\n",
    "    for article in supporting_articles:\n",
    "        supporting_paragraph = ''.join(sentences[np.where(articles == article)][0])\n",
    "        supporting_paragraphs.append(supporting_paragraph)\n",
    "    supporting_paragraphs = '\\n\\n'.join(supporting_paragraphs)\n",
    "    hotpot.at[ind, 'supporting_paragraphs'] = supporting_paragraphs"
   ]
  },
  {
   "cell_type": "code",
   "execution_count": 3,
   "metadata": {},
   "outputs": [],
   "source": [
    "row = hotpot.iloc[0]\n",
    "\n",
    "import dotenv\n",
    "import os\n",
    "\n",
    "dotenv.load_dotenv(\"../../.env\")\n",
    "openai_api_key = os.getenv(\"OPENAI_API_KEY\")\n",
    "\n",
    "llm = ChatOpenAI(\n",
    "    temperature=0,\n",
    "    max_tokens=250,\n",
    "    model_name=\"gpt-3.5-turbo\",\n",
    "    model_kwargs={\"stop\": \"\\n\"},\n",
    "    openai_api_key=openai_api_key\n",
    ")\n",
    "\n",
    "agent = ReflexionCoTAgent(\n",
    "    self_reflect_llm=llm,\n",
    "    action_llm=llm,\n",
    "    question=row['question'],\n",
    "    context=row['supporting_paragraphs'],\n",
    "    key=row['answer']\n",
    ")"
   ]
  },
  {
   "cell_type": "code",
   "execution_count": 4,
   "metadata": {},
   "outputs": [
    {
     "data": {
      "text/plain": [
       "\"VIVA Media AG changed it's name in 2004. What does their new acronym stand for?\""
      ]
     },
     "execution_count": 4,
     "metadata": {},
     "output_type": "execute_result"
    }
   ],
   "source": [
    "row[\"question\"]"
   ]
  },
  {
   "cell_type": "code",
   "execution_count": 5,
   "metadata": {},
   "outputs": [
    {
     "data": {
      "text/plain": [
       "'Gesellschaft mit beschränkter Haftung'"
      ]
     },
     "execution_count": 5,
     "metadata": {},
     "output_type": "execute_result"
    }
   ],
   "source": [
    "row[\"answer\"]"
   ]
  },
  {
   "cell_type": "code",
   "execution_count": 6,
   "metadata": {},
   "outputs": [
    {
     "name": "stdout",
     "output_type": "stream",
     "text": [
      "Thought: The question is asking for the acronym that VIVA Media AG changed its name to in 2004. To find the answer, I need to look for information about VIVA Media AG's name change in the provided context. Let me search for that information.\n",
      "Action: Finish[VIVA Media GmbH]\n",
      "Answer: VIVA Media GmbH\n"
     ]
    }
   ],
   "source": [
    "agents = [agent]\n",
    "n = 1\n",
    "for i in range(n):\n",
    "    agent.generate(context=row[\"context\"], question=row[\"question\"], key=row[\"answer\"], strategy=None)\n",
    "    print(f'Answer: {agent.answer}')"
   ]
  },
  {
   "cell_type": "code",
   "execution_count": 8,
   "metadata": {},
   "outputs": [
    {
     "data": {
      "text/plain": [
       "'Gesellschaft mit beschränkter Haftung'"
      ]
     },
     "execution_count": 8,
     "metadata": {},
     "output_type": "execute_result"
    }
   ],
   "source": [
    "row[\"answer\"]"
   ]
  },
  {
   "cell_type": "code",
   "execution_count": null,
   "metadata": {},
   "outputs": [],
   "source": []
  }
 ],
 "metadata": {
  "kernelspec": {
   "display_name": "discussion-agents",
   "language": "python",
   "name": "python3"
  },
  "language_info": {
   "codemirror_mode": {
    "name": "ipython",
    "version": 3
   },
   "file_extension": ".py",
   "mimetype": "text/x-python",
   "name": "python",
   "nbconvert_exporter": "python",
   "pygments_lexer": "ipython3",
   "version": "3.10.13"
  }
 },
 "nbformat": 4,
 "nbformat_minor": 2
}
