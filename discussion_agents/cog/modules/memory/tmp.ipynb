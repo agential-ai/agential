{
 "cells": [
  {
   "cell_type": "code",
   "execution_count": 1,
   "metadata": {},
   "outputs": [
    {
     "name": "stderr",
     "output_type": "stream",
     "text": [
      "c:\\Users\\tuvin\\anaconda3\\envs\\discussion-agents\\lib\\site-packages\\tqdm\\auto.py:21: TqdmWarning: IProgress not found. Please update jupyter and ipywidgets. See https://ipywidgets.readthedocs.io/en/stable/user_install.html\n",
      "  from .autonotebook import tqdm as notebook_tqdm\n"
     ]
    }
   ],
   "source": [
    "from langchain_community.chat_models import ChatOpenAI\n",
    "import dotenv\n",
    "import os\n",
    "import joblib\n",
    "import re\n",
    "\n",
    "from discussion_agents.cog.modules.memory.expel import ExpeLExperienceMemory\n",
    "\n",
    "dotenv.load_dotenv(\"../.env\")\n",
    "openai_api_key = os.getenv(\"OPENAI_API_KEY\")\n",
    "llm = ChatOpenAI(model_name=\"gpt-3.5-turbo-0125\", openai_api_key=openai_api_key)"
   ]
  },
  {
   "cell_type": "code",
   "execution_count": 2,
   "metadata": {},
   "outputs": [],
   "source": [
    "experiences = joblib.load(\"../../../../tests/assets/expel/expel_experiences_10_fake.joblib\")"
   ]
  },
  {
   "cell_type": "code",
   "execution_count": 3,
   "metadata": {},
   "outputs": [],
   "source": [
    "from discussion_agents.cog.prompts.react import REACT_WEBTHINK_SIMPLE6_FEWSHOT_EXAMPLES\n",
    "\n",
    "fewshot_questions = re.findall(r'Question: (.+?)\\n', REACT_WEBTHINK_SIMPLE6_FEWSHOT_EXAMPLES)\n",
    "fewshot_keys = re.findall(r'Action \\d+: Finish\\[(.+?)\\]', REACT_WEBTHINK_SIMPLE6_FEWSHOT_EXAMPLES)\n",
    "blocks = re.split(r'(?=Question: )', REACT_WEBTHINK_SIMPLE6_FEWSHOT_EXAMPLES)[1:]  # Split and ignore the first empty result\n",
    "\n",
    "fewshot_examples = []\n",
    "for block in blocks:\n",
    "    # Extract all thoughts, actions, and observations within each block\n",
    "    thoughts = re.findall(r'(Thought \\d+: .+?)\\n', block)\n",
    "    actions = re.findall(r'(Action \\d+: .+?)\\n', block)\n",
    "    observations = re.findall(r'(Observation \\d+: .+)', block)\n",
    "    \n",
    "    # Combine them into tuples and add to the examples list\n",
    "    fewshot_examples.append(list(zip(thoughts, actions, observations)))\n",
    "\n"
   ]
  },
  {
   "cell_type": "code",
   "execution_count": 4,
   "metadata": {},
   "outputs": [],
   "source": [
    "memory = ExpeLExperienceMemory(\n",
    "    experiences=experiences,\n",
    "    fewshot_questions=fewshot_questions,\n",
    "    fewshot_keys=fewshot_keys,\n",
    "    fewshot_examples=fewshot_examples,\n",
    "    reranker_strategy=None\n",
    ")"
   ]
  },
  {
   "cell_type": "code",
   "execution_count": 5,
   "metadata": {},
   "outputs": [],
   "source": [
    "queries = {\n",
    "    \"task\": 'The creator of \"Wallace and Gromit\" also created what animation comedy that matched animated zoo animals with a soundtrack of people talking about their homes? ',\n",
    "    \"thought\": 'Thought: I should try a different approach. Let me search for press releases, industry news sources, or announcements specifically related to the name change and new acronym for VIVA Media AG in 2004. By focusing on more specialized sources, I may be able to find the accurate information needed to answer the question correctly. '\n",
    "}\n",
    "docs = memory.load_memories(queries=queries, query_type=\"task\")"
   ]
  },
  {
   "cell_type": "code",
   "execution_count": 7,
   "metadata": {},
   "outputs": [
    {
     "name": "stdout",
     "output_type": "stream",
     "text": [
      "Musician and satirist Allie Goertz wrote a song about the \"The Simpsons\" character Milhouse, who Matt Groening named after who?\n",
      "Thought 1: The question simplifies to \"The Simpsons\" character Milhouse is named after who. I only need to search Milhouse and find who it is named after.\n",
      "Action 1: Search[Milhouse]\n",
      "Observation 1: Milhouse Mussolini Van Houten is a recurring character in the Fox animated television series The Simpsons voiced by Pamela Hayden and created by Matt Groening.\n",
      "Thought 2: The paragraph does not tell who Milhouse is named after, maybe I can look up \"named after\".\n",
      "Action 2: Lookup[named after]\n",
      "Observation 2: (Result 1 / 1) Milhouse was named after U.S. president Richard Nixon, whose middle name was Milhous. \n"
     ]
    }
   ],
   "source": [
    "print(docs[0])"
   ]
  },
  {
   "cell_type": "code",
   "execution_count": 9,
   "metadata": {},
   "outputs": [
    {
     "name": "stdout",
     "output_type": "stream",
     "text": [
      "Which documentary is about Finnish rock groups, Adam Clayton Powell or The Saimaa Gesture?\n",
      "Thought 1: I need to search Adam Clayton Powell and The Saimaa Gesture, and find which documentary is about Finnish rock groups.\n",
      "Action 1: Search[Adam Clayton Powell]\n",
      "Observation 1: Could not find [Adam Clayton Powell]. Similar: ['Adam Clayton Powell III', 'Seventh Avenue (Manhattan)', 'Adam Clayton Powell Jr. State Office Building', 'Isabel Washington Powell', 'Adam Powell', 'Adam Clayton Powell (film)', 'Giancarlo Esposito'].\n",
      "Thought 2: To find the documentary, I can search Adam Clayton Powell (film).\n",
      "Action 2: Search[Adam Clayton Powell (film)]\n",
      "Observation 2: Adam Clayton Powell is a 1989 American documentary film directed by Richard Kilberg.\n"
     ]
    }
   ],
   "source": [
    "print(docs[1])"
   ]
  },
  {
   "cell_type": "code",
   "execution_count": 11,
   "metadata": {},
   "outputs": [
    {
     "name": "stdout",
     "output_type": "stream",
     "text": [
      "What profession does Nicholas Ray and Elia Kazan have in common?\n",
      "Thought 1: I need to search Nicholas Ray and Elia Kazan, find their professions, then find the profession they have in common.\n",
      "Action 1: Search[Nicholas Ray]\n",
      "Observation 1: Nicholas Ray (born Raymond Nicholas Kienzle Jr., August 7, 1911 – June 16, 1979) was an American film director, screenwriter, and actor best known for the 1955 film Rebel Without a Cause.\n",
      "Thought 2: Professions of Nicholas Ray are director, screenwriter, and actor. I need to search Elia Kazan next and find his professions.\n",
      "Action 2: Search[Elia Kazan]\n",
      "Observation 2: Elia Kazan was an American film and theatre director, producer, screenwriter and actor.\n"
     ]
    }
   ],
   "source": [
    "print(docs[2])"
   ]
  },
  {
   "cell_type": "code",
   "execution_count": 12,
   "metadata": {},
   "outputs": [
    {
     "name": "stdout",
     "output_type": "stream",
     "text": [
      "Which magazine was started first Arthur's Magazine or First for Women?\n",
      "Thought 1: I need to search Arthur's Magazine and First for Women, and find which was started first.\n",
      "Action 1: Search[Arthur's Magazine]\n",
      "Observation 1: Arthur's Magazine (1844-1846) was an American literary periodical published in Philadelphia in the 19th century. \n",
      "Thought 2: Arthur's Magazine was started in 1844. I need to search First for Women next.\n",
      "Action 2: Search[First for Women]\n",
      "Observation 2: First for Women is a woman's magazine published by Bauer Media Group in the USA.[1] The magazine was started in 1989. \n"
     ]
    }
   ],
   "source": [
    "print(docs[3])"
   ]
  },
  {
   "cell_type": "code",
   "execution_count": 13,
   "metadata": {},
   "outputs": [
    {
     "name": "stdout",
     "output_type": "stream",
     "text": [
      "Were Pavel Urysohn and Leonid Levin known for the same type of work?\n",
      "Thought 1: I need to search Pavel Urysohn and Leonid Levin, find their types of work, then find if they are the same.\n",
      "Action 1: Search[Pavel Urysohn]\n",
      "Observation 1: Pavel Samuilovich Urysohn (February 3, 1898 â August 17, 1924) was a Soviet mathematician who is best known for his contributions in dimension theory.\n",
      "Thought 2: Pavel Urysohn is a mathematician. I need to search Leonid Levin next and find its type of work.\n",
      "Action 2: Search[Leonid Levin]\n",
      "Observation 2: Leonid Anatolievich Levin is a Soviet-American mathematician and computer scientist. \n"
     ]
    }
   ],
   "source": [
    "print(docs[4])"
   ]
  },
  {
   "cell_type": "code",
   "execution_count": null,
   "metadata": {},
   "outputs": [],
   "source": []
  }
 ],
 "metadata": {
  "kernelspec": {
   "display_name": "discussion-agents",
   "language": "python",
   "name": "python3"
  },
  "language_info": {
   "codemirror_mode": {
    "name": "ipython",
    "version": 3
   },
   "file_extension": ".py",
   "mimetype": "text/x-python",
   "name": "python",
   "nbconvert_exporter": "python",
   "pygments_lexer": "ipython3",
   "version": "3.10.13"
  }
 },
 "nbformat": 4,
 "nbformat_minor": 2
}
