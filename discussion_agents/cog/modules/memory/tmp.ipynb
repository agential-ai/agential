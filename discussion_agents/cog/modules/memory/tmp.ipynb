{
 "cells": [
  {
   "cell_type": "code",
   "execution_count": 1,
   "metadata": {},
   "outputs": [],
   "source": [
    "from langchain_community.chat_models import ChatOpenAI\n",
    "import dotenv\n",
    "import os\n",
    "import joblib\n",
    "import re\n",
    "\n",
    "from discussion_agents.cog.functional.expel import categorize_experiences\n",
    "from discussion_agents.cog.modules.memory.expel import ExpeLExperienceMemory\n",
    "\n",
    "dotenv.load_dotenv(\"../.env\")\n",
    "openai_api_key = os.getenv(\"OPENAI_API_KEY\")\n",
    "llm = ChatOpenAI(model_name=\"gpt-3.5-turbo-0125\", openai_api_key=openai_api_key)"
   ]
  },
  {
   "cell_type": "code",
   "execution_count": 2,
   "metadata": {},
   "outputs": [],
   "source": [
    "experiences = joblib.load(\"../../../../tests/assets/expel/expel_experiences_10_fake.joblib\")"
   ]
  },
  {
   "cell_type": "code",
   "execution_count": 3,
   "metadata": {},
   "outputs": [
    {
     "data": {
      "text/plain": [
       "{'compare': [6, 7, 8, 9], 'success': [3, 5], 'fail': [0, 1, 2, 4]}"
      ]
     },
     "execution_count": 3,
     "metadata": {},
     "output_type": "execute_result"
    }
   ],
   "source": [
    "categorize_experiences(experiences)"
   ]
  },
  {
   "cell_type": "code",
   "execution_count": 4,
   "metadata": {},
   "outputs": [],
   "source": [
    "from discussion_agents.cog.prompts.react import REACT_WEBTHINK_SIMPLE6_FEWSHOT_EXAMPLES\n",
    "\n",
    "fewshot_questions = re.findall(r'Question: (.+?)\\n', REACT_WEBTHINK_SIMPLE6_FEWSHOT_EXAMPLES)\n",
    "fewshot_keys = re.findall(r'Action \\d+: Finish\\[(.+?)\\]', REACT_WEBTHINK_SIMPLE6_FEWSHOT_EXAMPLES)\n",
    "blocks = re.split(r'(?=Question: )', REACT_WEBTHINK_SIMPLE6_FEWSHOT_EXAMPLES)[1:]  # Split and ignore the first empty result\n",
    "\n",
    "fewshot_examples = []\n",
    "for block in blocks:\n",
    "    # Extract all thoughts, actions, and observations within each block\n",
    "    thoughts = re.findall(r'(Thought \\d+: .+?)\\n', block)\n",
    "    actions = re.findall(r'(Action \\d+: .+?)\\n', block)\n",
    "    observations = re.findall(r'(Observation \\d+: .+)', block)\n",
    "    \n",
    "    # Combine them into tuples and add to the examples list\n",
    "    fewshot_examples.append(list(zip(thoughts, actions, observations)))"
   ]
  },
  {
   "cell_type": "code",
   "execution_count": 5,
   "metadata": {},
   "outputs": [],
   "source": [
    "memory = ExpeLExperienceMemory(\n",
    "    experiences, \n",
    "    success_traj_idxs=[3, 5],\n",
    "    fewshot_questions=fewshot_questions,\n",
    "    fewshot_keys=fewshot_keys,\n",
    "    fewshot_examples=fewshot_examples\n",
    ")"
   ]
  },
  {
   "cell_type": "code",
   "execution_count": 17,
   "metadata": {},
   "outputs": [
    {
     "data": {
      "text/plain": [
       "dict_keys(['idxs', 'questions', 'keys', 'trajectories', 'reflections'])"
      ]
     },
     "execution_count": 17,
     "metadata": {},
     "output_type": "execute_result"
    }
   ],
   "source": [
    "memory.experiences.keys()"
   ]
  },
  {
   "cell_type": "code",
   "execution_count": 8,
   "metadata": {},
   "outputs": [
    {
     "data": {
      "text/plain": [
       "['What is the elevation range for the area that the eastern sector of the Colorado orogeny extends into?',\n",
       " 'Musician and satirist Allie Goertz wrote a song about the \"The Simpsons\" character Milhouse, who Matt Groening named after who?',\n",
       " 'Which documentary is about Finnish rock groups, Adam Clayton Powell or The Saimaa Gesture?',\n",
       " 'What profession does Nicholas Ray and Elia Kazan have in common?',\n",
       " \"Which magazine was started first Arthur's Magazine or First for Women?\",\n",
       " 'Were Pavel Urysohn and Leonid Levin known for the same type of work?']"
      ]
     },
     "execution_count": 8,
     "metadata": {},
     "output_type": "execute_result"
    }
   ],
   "source": [
    "memory.experiences['questions'][10:]"
   ]
  },
  {
   "cell_type": "code",
   "execution_count": 9,
   "metadata": {},
   "outputs": [
    {
     "data": {
      "text/plain": [
       "['1,800 to 7,000 ft',\n",
       " 'Richard Nixon',\n",
       " 'The Saimaa Gesture',\n",
       " 'director, screenwriter, actor',\n",
       " \"Arthur's Magazine\",\n",
       " 'yes']"
      ]
     },
     "execution_count": 9,
     "metadata": {},
     "output_type": "execute_result"
    }
   ],
   "source": [
    "memory.experiences['keys'][10:]"
   ]
  },
  {
   "cell_type": "code",
   "execution_count": 15,
   "metadata": {},
   "outputs": [
    {
     "data": {
      "text/plain": [
       "[[(True,\n",
       "   '1,800 to 7,000 ft',\n",
       "   [('Thought 1: I need to search Colorado orogeny, find the area that the eastern sector of the Colorado orogeny extends into, then find the elevation range of the area.',\n",
       "     'Action 1: Search[Colorado orogeny]',\n",
       "     'Observation 1: The Colorado orogeny was an episode of mountain building (an orogeny) in Colorado and surrounding areas.'),\n",
       "    ('Thought 2: It does not mention the eastern sector. So I need to look up eastern sector.',\n",
       "     'Action 2: Lookup[eastern sector]',\n",
       "     'Observation 2: (Result 1 / 1) The eastern sector extends into the High Plains and is called the Central Plains orogeny.'),\n",
       "    ('Thought 3: The eastern sector of Colorado orogeny extends into the High Plains. So I need to search High Plains and find its elevation range.',\n",
       "     'Action 3: Search[High Plains]',\n",
       "     'Observation 3: High Plains refers to one of two distinct land regions:'),\n",
       "    ('Thought 4: I need to instead search High Plains (United States).',\n",
       "     'Action 4: Search[High Plains (United States)]',\n",
       "     'Observation 4: The High Plains are a subregion of the Great Plains. From east to west, the High Plains rise in elevation from around 1,800 to 7,000 ft (550 to 2,130 m).[3]')])],\n",
       " [(True,\n",
       "   'Richard Nixon',\n",
       "   [('Thought 1: The question simplifies to \"The Simpsons\" character Milhouse is named after who. I only need to search Milhouse and find who it is named after.',\n",
       "     'Action 1: Search[Milhouse]',\n",
       "     'Observation 1: Milhouse Mussolini Van Houten is a recurring character in the Fox animated television series The Simpsons voiced by Pamela Hayden and created by Matt Groening.'),\n",
       "    ('Thought 2: The paragraph does not tell who Milhouse is named after, maybe I can look up \"named after\".',\n",
       "     'Action 2: Lookup[named after]',\n",
       "     'Observation 2: (Result 1 / 1) Milhouse was named after U.S. president Richard Nixon, whose middle name was Milhous. ')])],\n",
       " [(True,\n",
       "   'The Saimaa Gesture',\n",
       "   [('Thought 1: I need to search Adam Clayton Powell and The Saimaa Gesture, and find which documentary is about Finnish rock groups.',\n",
       "     'Action 1: Search[Adam Clayton Powell]',\n",
       "     \"Observation 1: Could not find [Adam Clayton Powell]. Similar: ['Adam Clayton Powell III', 'Seventh Avenue (Manhattan)', 'Adam Clayton Powell Jr. State Office Building', 'Isabel Washington Powell', 'Adam Powell', 'Adam Clayton Powell (film)', 'Giancarlo Esposito'].\"),\n",
       "    ('Thought 2: To find the documentary, I can search Adam Clayton Powell (film).',\n",
       "     'Action 2: Search[Adam Clayton Powell (film)]',\n",
       "     'Observation 2: Adam Clayton Powell is a 1989 American documentary film directed by Richard Kilberg.')])],\n",
       " [(True,\n",
       "   'director, screenwriter, actor',\n",
       "   [('Thought 1: I need to search Nicholas Ray and Elia Kazan, find their professions, then find the profession they have in common.',\n",
       "     'Action 1: Search[Nicholas Ray]',\n",
       "     'Observation 1: Nicholas Ray (born Raymond Nicholas Kienzle Jr., August 7, 1911 – June 16, 1979) was an American film director, screenwriter, and actor best known for the 1955 film Rebel Without a Cause.'),\n",
       "    ('Thought 2: Professions of Nicholas Ray are director, screenwriter, and actor. I need to search Elia Kazan next and find his professions.',\n",
       "     'Action 2: Search[Elia Kazan]',\n",
       "     'Observation 2: Elia Kazan was an American film and theatre director, producer, screenwriter and actor.')])],\n",
       " [(True,\n",
       "   \"Arthur's Magazine\",\n",
       "   [(\"Thought 1: I need to search Arthur's Magazine and First for Women, and find which was started first.\",\n",
       "     \"Action 1: Search[Arthur's Magazine]\",\n",
       "     \"Observation 1: Arthur's Magazine (1844-\\x80\\x931846) was an American literary periodical published in Philadelphia in the 19th century. \"),\n",
       "    (\"Thought 2: Arthur's Magazine was started in 1844. I need to search First for Women next.\",\n",
       "     'Action 2: Search[First for Women]',\n",
       "     \"Observation 2: First for Women is a woman's magazine published by Bauer Media Group in the USA.[1] The magazine was started in 1989. \")])],\n",
       " [(True,\n",
       "   'yes',\n",
       "   [('Thought 1: I need to search Pavel Urysohn and Leonid Levin, find their types of work, then find if they are the same.',\n",
       "     'Action 1: Search[Pavel Urysohn]',\n",
       "     'Observation 1: Pavel Samuilovich Urysohn (February 3, 1898 â\\x80\\x93 August 17, 1924) was a Soviet mathematician who is best known for his contributions in dimension theory.'),\n",
       "    ('Thought 2: Pavel Urysohn is a mathematician. I need to search Leonid Levin next and find its type of work.',\n",
       "     'Action 2: Search[Leonid Levin]',\n",
       "     'Observation 2: Leonid Anatolievich Levin is a Soviet-American mathematician and computer scientist. ')])]]"
      ]
     },
     "execution_count": 15,
     "metadata": {},
     "output_type": "execute_result"
    }
   ],
   "source": [
    "memory.experiences['trajectories'][10:]"
   ]
  },
  {
   "cell_type": "code",
   "execution_count": 18,
   "metadata": {},
   "outputs": [
    {
     "data": {
      "text/plain": [
       "[[], [], [], [], [], []]"
      ]
     },
     "execution_count": 18,
     "metadata": {},
     "output_type": "execute_result"
    }
   ],
   "source": [
    "memory.experiences['reflections'][10:]"
   ]
  },
  {
   "cell_type": "code",
   "execution_count": null,
   "metadata": {},
   "outputs": [],
   "source": []
  }
 ],
 "metadata": {
  "kernelspec": {
   "display_name": "discussion-agents",
   "language": "python",
   "name": "python3"
  },
  "language_info": {
   "codemirror_mode": {
    "name": "ipython",
    "version": 3
   },
   "file_extension": ".py",
   "mimetype": "text/x-python",
   "name": "python",
   "nbconvert_exporter": "python",
   "pygments_lexer": "ipython3",
   "version": "3.10.13"
  }
 },
 "nbformat": 4,
 "nbformat_minor": 2
}
