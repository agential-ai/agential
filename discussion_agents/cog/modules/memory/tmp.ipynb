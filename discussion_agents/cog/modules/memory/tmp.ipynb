{
 "cells": [
  {
   "cell_type": "code",
   "execution_count": 1,
   "metadata": {},
   "outputs": [],
   "source": [
    "from langchain_community.chat_models import ChatOpenAI\n",
    "import dotenv\n",
    "import os\n",
    "import joblib\n",
    "\n",
    "from discussion_agents.cog.functional.expel import (\n",
    "    categorize_experiences,\n",
    "    get_folds,\n",
    "    create_rules,\n",
    ")\n",
    "\n",
    "dotenv.load_dotenv(\"../.env\")\n",
    "openai_api_key = os.getenv(\"OPENAI_API_KEY\")\n",
    "llm = ChatOpenAI(model_name=\"gpt-3.5-turbo-0125\", openai_api_key=openai_api_key)"
   ]
  },
  {
   "cell_type": "code",
   "execution_count": 6,
   "metadata": {},
   "outputs": [],
   "source": [
    "experiences = joblib.load(\"../../../../tests/assets/expel/expel_experiences_10_fake.joblib\")"
   ]
  },
  {
   "cell_type": "code",
   "execution_count": null,
   "metadata": {},
   "outputs": [],
   "source": [
    "from typing import Dict, Any\n",
    "\n",
    "from discussion_agents.cog.modules.memory.base import BaseMemory\n",
    "\n",
    "\n",
    "class ExpeLExperienceMemory(BaseMemory):\n",
    "    def __init__(self, ) -> None:\n",
    "        \"\"\"Initialization.\"\"\"\n",
    "        super().__init__()\n",
    "\n",
    "    def clear(self) -> None:\n",
    "        pass\n",
    "\n",
    "    def add_memories(self) -> None:\n",
    "        pass\n",
    "\n",
    "    def load_memories(self) -> Dict[str, Any]:\n",
    "        pass\n",
    "\n",
    "    def show_memories(self) -> Dict[str, Any]:\n",
    "        pass"
   ]
  }
 ],
 "metadata": {
  "kernelspec": {
   "display_name": "discussion-agents",
   "language": "python",
   "name": "python3"
  },
  "language_info": {
   "codemirror_mode": {
    "name": "ipython",
    "version": 3
   },
   "file_extension": ".py",
   "mimetype": "text/x-python",
   "name": "python",
   "nbconvert_exporter": "python",
   "pygments_lexer": "ipython3",
   "version": "3.10.13"
  }
 },
 "nbformat": 4,
 "nbformat_minor": 2
}
